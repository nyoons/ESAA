{
  "nbformat": 4,
  "nbformat_minor": 0,
  "metadata": {
    "colab": {
      "provenance": [],
      "authorship_tag": "ABX9TyMI8u83opp4Gw5quM4b41Qw",
      "include_colab_link": true
    },
    "kernelspec": {
      "name": "python3",
      "display_name": "Python 3"
    },
    "language_info": {
      "name": "python"
    }
  },
  "cells": [
    {
      "cell_type": "markdown",
      "metadata": {
        "id": "view-in-github",
        "colab_type": "text"
      },
      "source": [
        "<a href=\"https://colab.research.google.com/github/nyoons/ESAA/blob/main/Part_04_%ED%95%A9%EC%84%B1%EA%B3%B1_%EA%B3%BC%EC%A0%9C1.ipynb\" target=\"_parent\"><img src=\"https://colab.research.google.com/assets/colab-badge.svg\" alt=\"Open In Colab\"/></a>"
      ]
    },
    {
      "cell_type": "markdown",
      "source": [
        "#**Part 04. 합성곱 신경망 (CNN)**"
      ],
      "metadata": {
        "id": "48YneoO0NN1y"
      }
    },
    {
      "cell_type": "markdown",
      "source": [
        "##**01. 합성곱 신경망**\n",
        "CNN : Convolutional Neural Network, 데이터가 가진 특징들의 패턴을 학습하는 알고리즘으로 컴퓨터 비전 분야에서 많이 사용. 이미지 분류, 객체 탐지, 스타일 전이 등.\n",
        "\n",
        "ex. 모델이 강아지 vs. 고양이 이미지를 인식할 수 있는 능력을 갖추게 된다. 또는 이미지에서 특정 개체를 인식하고 이미지의 어디에 있는지 위치까지 파악. 또는 콘텐츠 이미지와 스타일 참조 이미지를 이용해 콘텐츠의 기본 형태를 유지하고 스타일을 입혀 새로운 이미지를 생성하는 기술."
      ],
      "metadata": {
        "id": "iPamhVW-NUbo"
      }
    },
    {
      "cell_type": "markdown",
      "source": [
        "###1-1. 이미지 표현\n",
        "이미지를 컴퓨터가 이해할 수 있게 숫자로 표현해야한다. 컬러 이미지는 RGB 채널로 구성된 3장의 이미지를 겹쳐서 표현. 마찬가지로 0~255."
      ],
      "metadata": {
        "id": "TIfdJFBINW2e"
      }
    },
    {
      "cell_type": "markdown",
      "source": [
        "###1-2. 합성곱 (Convolution)\n",
        "입력 이미지에 대해 일반적으로 정방형 크기를 가지는 커널을 사용해 입력 이미지에 대한 특성을 추출하는 방법. 합성곱 연산을 통해 추출된 이미지를 **특성맵**이라고 부른다.\n",
        "\n",
        "이미지에 필터를 적용하는 합성곱 연산. 입력 이미지의 좌측 상단부터 커널과 같은 크기를 갖도록 입력 이미지의 일부분에 커널이 겹치도록 투영해준다. 입력 이미지와 커널이 겹치는 부분에 대해 합성곱 연산을 수행.\n",
        "\n",
        "ex. 커널 사이즈가 3*3인 경우 총 9개의 가중치를 가지며 오차 역전파 시 커널의 가중치를 업데이트한다. 합성곱 신경망이 이미지 특성 추출에 효율적인 이유는 바로 커널의 공유 가중치 때문. 오차 역전파 시 커널의 그래디언트를 계산할 때 9개에 대해서만 업데이트하면 되므로 완전 연결층보다 연산량 적어진다."
      ],
      "metadata": {
        "id": "sSldB4zbNXzW"
      }
    },
    {
      "cell_type": "markdown",
      "source": [
        "###1-3. 채널\n",
        "이미지를 구성하는 2차원 배열의 개수. ex. 흑백 이미지는 단일 채널, 컬러 이미지는 R, G, B 3개의 채널.\n",
        "\n",
        "이렇게 여러 개의 채널을 갖는 경우, 합성곱 연산을 수행할 때 특성맵의 생성 과정을 살펴보자. 입력 이미지의 채널 개수만큼 커널이 생성, 각 채널마다 하나씩 커널을 적용해 합성곱 연산을 수행. 입력 이미지의 채널 개수만큼 결과가 생성되므로 element-wise 덧셈 연산으로 더해주면 최종 특성맵 완성.\n",
        "\n",
        "합성곱 레이어에 출력 필터의 개수를 20개로 설정했다면, 입력 이미지의 채널 개수 3개와 필터의 개수 20개가 곱해져 총 60개 커널 생성. "
      ],
      "metadata": {
        "id": "GoEN6dIpNXw_"
      }
    },
    {
      "cell_type": "markdown",
      "source": [
        "###1-4. 스트라이드 (stride)\n",
        "커널은 좌측 상단부터 입력 이미지를 기준으로 우측으로 이동하며 합성곱 연산을 계속한다. 이때 이동하는 간격을 스트라이드라고 하며 주로 1, 2로 설정. 스트라이드를 2로 설정하면 당연히 특성맵 크기가 1/2로 줄어든다. Conv2D 레이어의 strides 변수에 스트라이드 지정."
      ],
      "metadata": {
        "id": "znS_9tasNXuz"
      }
    },
    {
      "cell_type": "markdown",
      "source": [
        "###1-5. 패딩\n",
        "커널 크기가 3*3, 스트라이드에서 1로 설정해도 추출된 특성맵의 사이즈는 입력 이미지 대배 가로로 2, 세로로 2씩 줄어들게 된다. 하지만 크기 줄어들지 않도록 패딩을 설정할 수 있다.\n",
        "\n",
        "일반적으로 zero-padding을 사용하는데, 그럼 입력 이미지의 가장자리에 0으로 채워진 패딩 값으로 채운 후 추출한다. Covn2D 레이어에서 padding='same'으로 설정."
      ],
      "metadata": {
        "id": "22HJpUhmNXsf"
      }
    },
    {
      "cell_type": "markdown",
      "source": [
        "###1-6. 특성맵 (feature map) 사이즈\n",
        "패딩과 스트라이드를 적용하고, 입력 데이터와 필터의 크기가 주어졌을 때 출력 데이터의 크기를 구하는 식이 있다.\n",
        "\n",
        "(Output Height, Output Width)=(Image Height + 2P - Kernel Height)/s + 1, Image Width + 2P - Kernel Height)/s + 1"
      ],
      "metadata": {
        "id": "Dt4PKxeHNXqd"
      }
    },
    {
      "cell_type": "markdown",
      "source": [
        "###1-7. 풀링\n",
        "풀링 레이어는 추출된 특성맵에 대해 다운 샘플링하여 이미지의 크기를 축소하는 레이어. 연산량 감소, 과대적합 방지.\n",
        "\n",
        "* 최대 풀링 : 값이 큰 값이 다른 특징들을 대표한다.\n",
        "* 평균 풀링\n",
        "\n",
        "최대 풀링 수행 시 커널의 크기가 2*2로 주어질 때 입력 이미지의 2*2 픽셀 중 최대값이 출력 값으로 선택. 평균 풀링은 평균 값.\n",
        "\n",
        "풀링 레이어도 역시 스트라이드 값을 가지며 스트라이드를 2로 설정하면 2칸씩 건너뛰며 풀링을 수행."
      ],
      "metadata": {
        "id": "SenzR47INXoI"
      }
    },
    {
      "cell_type": "markdown",
      "source": [
        "##**02. 간단한 모델 생성**\n",
        "MNIST 데이터로 간단한 구조의 합성곱 신경망 모델을 만들어보자."
      ],
      "metadata": {
        "id": "bqSCKwN8NXl2"
      }
    },
    {
      "cell_type": "markdown",
      "source": [
        "###2-1. 데이터 로드 및 전처리"
      ],
      "metadata": {
        "id": "K0WHHgTcNXjq"
      }
    },
    {
      "cell_type": "code",
      "source": [
        "# tensorflow 모듈 import\n",
        "import tensorflow as tf"
      ],
      "metadata": {
        "id": "RvzpvMuzS0H1"
      },
      "execution_count": null,
      "outputs": []
    },
    {
      "cell_type": "markdown",
      "source": [
        "훈련 세트와 검증 세트로 구분해 튜플 형태로 정리해준다."
      ],
      "metadata": {
        "id": "P22_jj13S5hV"
      }
    },
    {
      "cell_type": "code",
      "source": [
        "# mnist 손글씨 이미지 데이터 로드\n",
        "mnist=tf.keras.datasets.mnist\n",
        "(x_train, y_train), (x_valid, y_valid)=mnist.load_data()\n",
        "\n",
        "print(x_train.shape, y_train.shape)\n",
        "print(x_valid.shape, y_valid.shape)"
      ],
      "metadata": {
        "colab": {
          "base_uri": "https://localhost:8080/"
        },
        "id": "fFL59WpZS-Un",
        "outputId": "4c275ea6-694f-430a-8af1-0a9634e9227d"
      },
      "execution_count": null,
      "outputs": [
        {
          "output_type": "stream",
          "name": "stdout",
          "text": [
            "Downloading data from https://storage.googleapis.com/tensorflow/tf-keras-datasets/mnist.npz\n",
            "11490434/11490434 [==============================] - 0s 0us/step\n",
            "(60000, 28, 28) (60000,)\n",
            "(10000, 28, 28) (10000,)\n"
          ]
        }
      ]
    },
    {
      "cell_type": "code",
      "source": [
        "# 샘플 이미지 출력\n",
        "import matplotlib.pylab as plt\n",
        "\n",
        "def plot_image(data, idx):\n",
        "  plt.figure(figsize=(5,5))\n",
        "  plt.imshow(data[idx], cmap='gray')\n",
        "  plt.axis('off')\n",
        "  plt.show()\n",
        "\n",
        "plot_image(x_train, 0)"
      ],
      "metadata": {
        "colab": {
          "base_uri": "https://localhost:8080/",
          "height": 422
        },
        "id": "S_BLXnvwS-ny",
        "outputId": "4857e159-e5ab-4b6e-b0ed-feef6c8ad7a0"
      },
      "execution_count": null,
      "outputs": [
        {
          "output_type": "display_data",
          "data": {
            "text/plain": [
              "<Figure size 500x500 with 1 Axes>"
            ],
            "image/png": "[encoded data removed]"
          },
          "metadata": {}
        }
      ]
    },
    {
      "cell_type": "code",
      "source": [
        "print(x_train.min(), x_train.max())\n",
        "print(x_valid.min(), x_valid.max())"
      ],
      "metadata": {
        "colab": {
          "base_uri": "https://localhost:8080/"
        },
        "id": "uErSMDZgS-lU",
        "outputId": "5003ff37-1012-44f9-99d6-bcb2d5e45107"
      },
      "execution_count": null,
      "outputs": [
        {
          "output_type": "stream",
          "name": "stdout",
          "text": [
            "0 255\n",
            "0 255\n"
          ]
        }
      ]
    },
    {
      "cell_type": "markdown",
      "source": [
        "역시 0~255 값."
      ],
      "metadata": {
        "id": "AMKW5kLzTnf9"
      }
    },
    {
      "cell_type": "code",
      "source": [
        "# 정규화\n",
        "x_train=x_train/255.0\n",
        "x_valid=x_valid/255.0\n",
        "\n",
        "print(x_train.min(), x_train.max())\n",
        "print(x_valid.min(), x_valid.max())"
      ],
      "metadata": {
        "colab": {
          "base_uri": "https://localhost:8080/"
        },
        "id": "CyVTIKusTo9E",
        "outputId": "171cdaf2-e06f-4a0c-9269-5371192d6b18"
      },
      "execution_count": null,
      "outputs": [
        {
          "output_type": "stream",
          "name": "stdout",
          "text": [
            "0.0 1.0\n",
            "0.0 1.0\n"
          ]
        }
      ]
    },
    {
      "cell_type": "markdown",
      "source": [
        "mnist 데이터셋은 색상을 나타내는 채널이 1개. CNN 모델에 주입하기 위해 색상을 나타내는 채널을 추가해주자.\n",
        "\n",
        "tf.newaxis 축을 텐서 배열에 직접 추가하는 방식을 통해 (60000, 28, 28) -> (60000, 28, 28, 1)로 변환하자. [] 안에서 추가하고자 하는 위치에 작성하면 된다."
      ],
      "metadata": {
        "id": "hM2aAuV6TzBH"
      }
    },
    {
      "cell_type": "code",
      "source": [
        "# 채널 추가\n",
        "print(x_train.shape, x_valid.shape)\n",
        "\n",
        "x_train_in=x_train[..., tf.newaxis]\n",
        "x_valid_in=x_valid[..., tf.newaxis]\n",
        "\n",
        "print(x_train_in.shape, x_valid_in.shape)"
      ],
      "metadata": {
        "colab": {
          "base_uri": "https://localhost:8080/"
        },
        "id": "Us4qoCCpUGF0",
        "outputId": "ad2832f2-483b-40a9-9200-c5abeebee51d"
      },
      "execution_count": null,
      "outputs": [
        {
          "output_type": "stream",
          "name": "stdout",
          "text": [
            "(60000, 28, 28) (10000, 28, 28)\n",
            "(60000, 28, 28, 1) (10000, 28, 28, 1)\n"
          ]
        }
      ]
    },
    {
      "cell_type": "markdown",
      "source": [
        "###2-2. Sequential API로 모델 생성 및 학습\n",
        "sequential api로 합성곱 레이어 1개, 풀링 레이어 1개를 적용하는 간단한 모델을 만들자."
      ],
      "metadata": {
        "id": "sFZ2rkJ7NXhY"
      }
    },
    {
      "cell_type": "code",
      "source": [
        "# Sequential API를 사용해 샘플 모델 생성\n",
        "model=tf.keras.Sequential([\n",
        "    #Convolution 적용 (32 filters)\n",
        "    tf.keras.layers.Conv2D(32, (3, 3), activation='relu', input_shape=(28, 28, 1), name='conv'),\n",
        "    #max pooling 적용\n",
        "    tf.keras.layers.MaxPooling2D((2,2), name='pool'),\n",
        "    #classifier 출력층\n",
        "    tf.keras.layers.Flatten(),\n",
        "    tf.keras.layers.Dense(10, activation='softmax')\n",
        "])"
      ],
      "metadata": {
        "id": "etWVhhlrUooG"
      },
      "execution_count": null,
      "outputs": []
    },
    {
      "cell_type": "markdown",
      "source": [
        "앞서 정의한 모델 구조에 손실함수, 옵티마이저, 평가지표를 설정해주고 컴파일하면 모델 인스턴스가 생성된다. fit 해보자."
      ],
      "metadata": {
        "id": "_eG3j8SMVJYh"
      }
    },
    {
      "cell_type": "code",
      "source": [
        "# 모델 컴파일\n",
        "model.compile(optimizer='adam', loss='sparse_categorical_crossentropy', metrics=['accuracy'])\n",
        "\n",
        "# 모델 훈련\n",
        "history=model.fit(x_train_in, y_train, validation_data=(x_valid_in, y_valid), epochs=10)"
      ],
      "metadata": {
        "colab": {
          "base_uri": "https://localhost:8080/"
        },
        "id": "8-wDSLKoVRyI",
        "outputId": "c3f06eb1-e961-4c6e-d257-d6a07935e395"
      },
      "execution_count": null,
      "outputs": [
        {
          "output_type": "stream",
          "name": "stdout",
          "text": [
            "Epoch 1/10\n",
            "1875/1875 [==============================] - 46s 24ms/step - loss: 0.2174 - accuracy: 0.9377 - val_loss: 0.0871 - val_accuracy: 0.9736\n",
            "Epoch 2/10\n",
            "1875/1875 [==============================] - 45s 24ms/step - loss: 0.0803 - accuracy: 0.9772 - val_loss: 0.0685 - val_accuracy: 0.9784\n",
            "Epoch 3/10\n",
            "1875/1875 [==============================] - 47s 25ms/step - loss: 0.0593 - accuracy: 0.9825 - val_loss: 0.0579 - val_accuracy: 0.9817\n",
            "Epoch 4/10\n",
            "1875/1875 [==============================] - 46s 25ms/step - loss: 0.0489 - accuracy: 0.9851 - val_loss: 0.0584 - val_accuracy: 0.9803\n",
            "Epoch 5/10\n",
            "1875/1875 [==============================] - 42s 23ms/step - loss: 0.0416 - accuracy: 0.9876 - val_loss: 0.0519 - val_accuracy: 0.9824\n",
            "Epoch 6/10\n",
            "1875/1875 [==============================] - 42s 22ms/step - loss: 0.0351 - accuracy: 0.9892 - val_loss: 0.0508 - val_accuracy: 0.9822\n",
            "Epoch 7/10\n",
            "1875/1875 [==============================] - 36s 19ms/step - loss: 0.0302 - accuracy: 0.9908 - val_loss: 0.0513 - val_accuracy: 0.9841\n",
            "Epoch 8/10\n",
            "1875/1875 [==============================] - 43s 23ms/step - loss: 0.0253 - accuracy: 0.9923 - val_loss: 0.0567 - val_accuracy: 0.9835\n",
            "Epoch 9/10\n",
            "1875/1875 [==============================] - 37s 19ms/step - loss: 0.0214 - accuracy: 0.9935 - val_loss: 0.0612 - val_accuracy: 0.9817\n",
            "Epoch 10/10\n",
            "1875/1875 [==============================] - 42s 22ms/step - loss: 0.0182 - accuracy: 0.9945 - val_loss: 0.0606 - val_accuracy: 0.9830\n"
          ]
        }
      ]
    },
    {
      "cell_type": "code",
      "source": [
        "# evaluate도 하자\n",
        "model.evaluate(x_valid_in, y_valid)"
      ],
      "metadata": {
        "colab": {
          "base_uri": "https://localhost:8080/"
        },
        "id": "kOYdzlWrVkA8",
        "outputId": "d8c8b3b3-ad66-4587-add5-0817c5eb18df"
      },
      "execution_count": null,
      "outputs": [
        {
          "output_type": "stream",
          "name": "stdout",
          "text": [
            "313/313 [==============================] - 2s 6ms/step - loss: 0.0606 - accuracy: 0.9830\n"
          ]
        },
        {
          "output_type": "execute_result",
          "data": {
            "text/plain": [
              "[0.06056147441267967, 0.9829999804496765]"
            ]
          },
          "metadata": {},
          "execution_count": 9
        }
      ]
    },
    {
      "cell_type": "markdown",
      "source": [
        "훈련 결과를 history에 저장했다. epoch동안 모델의 예측 오차와 정확도를 그래프로 그리는 함수를 정의하고 실행하자."
      ],
      "metadata": {
        "id": "sCWfvD34Vp32"
      }
    },
    {
      "cell_type": "code",
      "source": [
        "def plot_loss_acc(history, epoch):\n",
        "  loss, val_loss=history.history['loss'], history.history['val_loss']\n",
        "  acc, val_acc=history.history['accuracy'], history.history['val_accuracy']\n",
        "\n",
        "  fig, axes=plt.subplots(1, 2, figsize=(12, 4))\n",
        "\n",
        "  axes[0].plot(range(1, epoch+1), loss, label='Training')\n",
        "  axes[0].plot(range(1, epoch+1), val_loss, label='Validation')\n",
        "  axes[0].legend(loc='best')\n",
        "  axes[0].set_title('Loss')\n",
        "\n",
        "  axes[1].plot(range(1, epoch+1), loss, label='Training')\n",
        "  axes[1].plot(range(1, epoch+1), val_loss, label='Validation')\n",
        "  axes[1].legend(loc='best')\n",
        "  axes[1].set_title('Accuracy')\n",
        "\n",
        "  plt.show()\n",
        "\n",
        "plot_loss_acc(history, 10)"
      ],
      "metadata": {
        "colab": {
          "base_uri": "https://localhost:8080/",
          "height": 391
        },
        "id": "hoZ6ljUxVxnc",
        "outputId": "46ee3a80-f97d-403a-bad9-dc288ded12c4"
      },
      "execution_count": null,
      "outputs": [
        {
          "output_type": "display_data",
          "data": {
            "text/plain": [
              "<Figure size 1200x400 with 2 Axes>"
            ],
            "image/png": "[encoded data removed]"
          },
          "metadata": {}
        }
      ]
    },
    {
      "cell_type": "markdown",
      "source": [
        "4 epoch 이후부터는 과대적합."
      ],
      "metadata": {
        "id": "F0PW7WVcVyFy"
      }
    },
    {
      "cell_type": "markdown",
      "source": [
        "###2-3. 모델 구조 파악\n",
        "summary()\n",
        "\n",
        "(28, 28, 1) 형태의 입력 텐서가 Conv2D를 거치며 (26, 26, 32) 형태로 변환된다. 3*3 크기의 합성곱 필터를 사용하기 때문에 이미지의 가로, 세로가 2씩 줄고 서로 다른 32개의 필터를 사용했다. 2*2 크기의 풀링 레이어를 적용하면 이미지가 1/2로 줄어든다. 따라서 풀링 레이어를 거치면 (13, 13, 32) 텐서로 변환되고 flatten 층에서 1차원으로 펼치면 5408개 (13*13*32) 원소를 갖는 벡터가 된다."
      ],
      "metadata": {
        "id": "l2bKqIcUNXe9"
      }
    },
    {
      "cell_type": "code",
      "source": [
        "# 모델 구조\n",
        "model.summary()"
      ],
      "metadata": {
        "colab": {
          "base_uri": "https://localhost:8080/"
        },
        "id": "wIYbhR3TXNBH",
        "outputId": "296ad58a-fb17-4c1e-a022-3dc13be9d050"
      },
      "execution_count": null,
      "outputs": [
        {
          "output_type": "stream",
          "name": "stdout",
          "text": [
            "Model: \"sequential\"\n",
            "_________________________________________________________________\n",
            " Layer (type)                Output Shape              Param #   \n",
            "=================================================================\n",
            " conv (Conv2D)               (None, 26, 26, 32)        320       \n",
            "                                                                 \n",
            " pool (MaxPooling2D)         (None, 13, 13, 32)        0         \n",
            "                                                                 \n",
            " flatten (Flatten)           (None, 5408)              0         \n",
            "                                                                 \n",
            " dense (Dense)               (None, 10)                54090     \n",
            "                                                                 \n",
            "=================================================================\n",
            "Total params: 54,410\n",
            "Trainable params: 54,410\n",
            "Non-trainable params: 0\n",
            "_________________________________________________________________\n"
          ]
        }
      ]
    },
    {
      "cell_type": "markdown",
      "source": [
        "생성된 모델 인스턴스의 input 속성으로부터 입력 레이어의 텐서를 추출할 수 있다. (None, 28, 28, 1) 형태에서 none은 배치 크기가 들어오는 위치로 어떤 값이든 가능하다는 의미."
      ],
      "metadata": {
        "id": "sxjJ7-cJYpkB"
      }
    },
    {
      "cell_type": "code",
      "source": [
        "# 입력 텐서 형태\n",
        "model.input"
      ],
      "metadata": {
        "colab": {
          "base_uri": "https://localhost:8080/"
        },
        "id": "pRQhZV-XY2cQ",
        "outputId": "29bd1df2-aa74-42ce-ae77-5cf0e2f9c462"
      },
      "execution_count": null,
      "outputs": [
        {
          "output_type": "execute_result",
          "data": {
            "text/plain": [
              "<KerasTensor: shape=(None, 28, 28, 1) dtype=float32 (created by layer 'conv_input')>"
            ]
          },
          "metadata": {},
          "execution_count": 12
        }
      ]
    },
    {
      "cell_type": "code",
      "source": [
        "# 출력 텐서 형태\n",
        "model.output"
      ],
      "metadata": {
        "colab": {
          "base_uri": "https://localhost:8080/"
        },
        "id": "pA1yLT96Y2sX",
        "outputId": "30798d6c-d87c-4c37-8845-2a054d68cc9b"
      },
      "execution_count": null,
      "outputs": [
        {
          "output_type": "execute_result",
          "data": {
            "text/plain": [
              "<KerasTensor: shape=(None, 10) dtype=float32 (created by layer 'dense')>"
            ]
          },
          "metadata": {},
          "execution_count": 13
        }
      ]
    },
    {
      "cell_type": "markdown",
      "source": [
        "10개의 노드를 갖는 1차원 벡터 형태.\n",
        "\n",
        "모델을 구성하는 레이어를 추출하려면 layers 속성 확인."
      ],
      "metadata": {
        "id": "4hTKU3JmY_jv"
      }
    },
    {
      "cell_type": "code",
      "source": [
        "# 레이어\n",
        "model.layers"
      ],
      "metadata": {
        "colab": {
          "base_uri": "https://localhost:8080/"
        },
        "id": "GFnh6wYTY2p2",
        "outputId": "7f4cab18-a467-44be-e643-798745fedaff"
      },
      "execution_count": null,
      "outputs": [
        {
          "output_type": "execute_result",
          "data": {
            "text/plain": [
              "[<keras.layers.convolutional.conv2d.Conv2D at 0x7f9dd3d4ad10>,\n",
              " <keras.layers.pooling.max_pooling2d.MaxPooling2D at 0x7f9dd3d49030>,\n",
              " <keras.layers.reshaping.flatten.Flatten at 0x7f9dd3d494b0>,\n",
              " <keras.layers.core.dense.Dense at 0x7f9dd3d48370>]"
            ]
          },
          "metadata": {},
          "execution_count": 14
        }
      ]
    },
    {
      "cell_type": "markdown",
      "source": [
        "우리가 작성한 모델은 4개의 레이어로 구성된다. 첫번째 레이어를 선택해보자."
      ],
      "metadata": {
        "id": "2HSqD1RfZIbJ"
      }
    },
    {
      "cell_type": "code",
      "source": [
        "# 첫 번째 레이어 선택\n",
        "model.layers[0]"
      ],
      "metadata": {
        "colab": {
          "base_uri": "https://localhost:8080/"
        },
        "id": "Ve_QSVegZN0o",
        "outputId": "3c66ba6d-7660-4023-abfa-7d8bf45b615e"
      },
      "execution_count": null,
      "outputs": [
        {
          "output_type": "execute_result",
          "data": {
            "text/plain": [
              "<keras.layers.convolutional.conv2d.Conv2D at 0x7f9dd3d4ad10>"
            ]
          },
          "metadata": {},
          "execution_count": 15
        }
      ]
    },
    {
      "cell_type": "markdown",
      "source": [
        "각 레이어에 입력되는 텐서를 따로 선택하는 것도 가능. 앞의 Conv2D 레이어에는 모델의 입력 데이터가 그대로 들어가기 때문에 (None, 28, 28, 1) 형태."
      ],
      "metadata": {
        "id": "RFJnLNReZR5P"
      }
    },
    {
      "cell_type": "code",
      "source": [
        "# 첫 번째 레이어 입력\n",
        "model.layers[0].input"
      ],
      "metadata": {
        "colab": {
          "base_uri": "https://localhost:8080/"
        },
        "id": "7LWvQ0nWZc6v",
        "outputId": "3530c0f0-82fc-4417-b25c-efe944febcf5"
      },
      "execution_count": null,
      "outputs": [
        {
          "output_type": "execute_result",
          "data": {
            "text/plain": [
              "<KerasTensor: shape=(None, 28, 28, 1) dtype=float32 (created by layer 'conv_input')>"
            ]
          },
          "metadata": {},
          "execution_count": 16
        }
      ]
    },
    {
      "cell_type": "markdown",
      "source": [
        "마찬가지로 각 레이어에서 출력되는 텐서를 확인할 수 있다. Conv2D 레이어를 거치면 픽셀 사이즈가 2씩 줄어들고 채널 개수가 32개로 늘어나면서 (None, 26, 26, 32) 형태가 된다."
      ],
      "metadata": {
        "id": "bux0H1uiZ9w7"
      }
    },
    {
      "cell_type": "code",
      "source": [
        "# 첫 번재 레이어 출력\n",
        "model.layers[0].output"
      ],
      "metadata": {
        "colab": {
          "base_uri": "https://localhost:8080/"
        },
        "id": "Oxcj_yuTaIsU",
        "outputId": "2545664d-57a0-4bce-dde3-ac50bf14a930"
      },
      "execution_count": null,
      "outputs": [
        {
          "output_type": "execute_result",
          "data": {
            "text/plain": [
              "<KerasTensor: shape=(None, 26, 26, 32) dtype=float32 (created by layer 'conv')>"
            ]
          },
          "metadata": {},
          "execution_count": 17
        }
      ]
    },
    {
      "cell_type": "markdown",
      "source": [
        "각 레이어의 가중치 행렬을 추출할 수 있다. weights 속성을 적용."
      ],
      "metadata": {
        "id": "4q0kYUlYaOim"
      }
    },
    {
      "cell_type": "code",
      "source": [
        "# 첫 번재 레이어 가중치\n",
        "model.layers[0].weights"
      ],
      "metadata": {
        "colab": {
          "base_uri": "https://localhost:8080/"
        },
        "id": "1k00Zi48aUx5",
        "outputId": "d334dbdd-f175-4327-89cf-0983d62f8334"
      },
      "execution_count": null,
      "outputs": [
        {
          "output_type": "execute_result",
          "data": {
            "text/plain": [
              "[<tf.Variable 'conv/kernel:0' shape=(3, 3, 1, 32) dtype=float32, numpy=\n",
              " array([[[[ 3.76772225e-01,  2.56770641e-01, -4.63932127e-01,\n",
              "           -2.18091160e-02, -2.68836588e-01, -1.71760857e-01,\n",
              "            3.04087698e-01, -2.49406680e-01, -3.17424595e-01,\n",
              "           -1.43411770e-01, -1.24447393e+00, -8.94081146e-02,\n",
              "           -2.80764401e-01, -7.71416306e-01,  4.34575319e-01,\n",
              "            5.56230322e-02,  9.32297390e-03,  3.35544586e-01,\n",
              "           -2.09393017e-02,  1.78533643e-01, -8.56455639e-02,\n",
              "           -1.36574185e+00,  4.80307460e-01,  8.47059488e-02,\n",
              "            4.17831928e-01, -1.01862185e-01,  1.22288994e-01,\n",
              "            2.33635530e-01, -1.37143743e+00,  2.61816084e-01,\n",
              "           -9.12047386e-01, -6.39507473e-01]],\n",
              " \n",
              "         [[-1.29847884e-01, -9.03746579e-03, -2.34834030e-01,\n",
              "           -2.97292322e-02,  3.87319237e-01,  6.00860268e-02,\n",
              "            3.10665667e-01, -6.41156614e-01, -2.22684875e-01,\n",
              "           -5.52413821e-01, -1.02826047e+00,  4.92836356e-01,\n",
              "            2.08434924e-01,  2.24353403e-01,  1.42157793e-01,\n",
              "            1.53716737e-02,  1.82056829e-01,  1.58720329e-01,\n",
              "            3.63683164e-01,  3.77441704e-01,  1.81509018e-01,\n",
              "            3.79213691e-02,  5.84233701e-01,  1.70337051e-01,\n",
              "           -2.94460300e-02, -4.27116930e-01,  5.31203687e-01,\n",
              "            8.06406662e-02, -9.49119627e-01,  2.02995226e-01,\n",
              "           -7.73737311e-01, -6.41137064e-01]],\n",
              " \n",
              "         [[-4.44339365e-01, -1.64407849e-01,  2.51647800e-01,\n",
              "           -1.12834141e-01, -3.60050201e-02,  7.95163751e-01,\n",
              "           -4.98489320e-01, -5.49130857e-01, -4.58348950e-06,\n",
              "           -5.46060503e-01, -8.56389463e-01,  7.22784042e-01,\n",
              "            3.54001045e-01,  2.34460935e-01, -5.23730099e-01,\n",
              "           -1.84527159e-01,  6.34423178e-03, -4.03111279e-01,\n",
              "            3.28544736e-01, -8.28078210e-01, -2.02935457e-01,\n",
              "            7.56980956e-01,  2.88303673e-01,  3.97978676e-03,\n",
              "           -6.40854836e-01, -1.50300398e-01,  3.65064502e-01,\n",
              "            1.66884348e-01, -1.16671407e+00, -3.11089545e-01,\n",
              "           -8.71212333e-02,  4.16799374e-02]]],\n",
              " \n",
              " \n",
              "        [[[ 1.25454426e-01,  1.96438730e-01, -1.62049219e-01,\n",
              "           -4.45045531e-03,  9.46655646e-02, -2.77986765e-01,\n",
              "           -2.25872621e-01,  6.02593422e-01,  2.04963714e-01,\n",
              "            3.28612238e-01,  1.79465875e-01, -5.00182867e-01,\n",
              "            1.48954660e-01,  3.86413068e-01,  5.32820642e-01,\n",
              "            1.31231487e-01, -2.44252220e-01,  1.75248869e-02,\n",
              "            1.72841847e-01,  3.03450435e-01, -6.34850860e-01,\n",
              "           -8.63377154e-01,  2.95669675e-01, -2.85979807e-01,\n",
              "            1.84644699e-01,  2.17559010e-01, -6.36351183e-02,\n",
              "           -6.52512982e-02, -8.63670230e-01,  1.46927834e-02,\n",
              "           -6.70781195e-01, -5.04138529e-01]],\n",
              " \n",
              "         [[ 3.78168792e-01,  2.18552560e-01,  1.43557057e-01,\n",
              "           -1.83376595e-02, -5.07963859e-02, -1.06407273e+00,\n",
              "            6.70133457e-02,  2.36438185e-01,  4.65782732e-01,\n",
              "           -8.21422935e-02,  2.37259865e-01,  5.76195240e-01,\n",
              "           -3.57712172e-02,  2.30916187e-01,  2.59841233e-01,\n",
              "            4.19741154e-01,  2.30062276e-01,  5.67446761e-02,\n",
              "           -1.83571398e-01,  3.08681011e-01,  3.75126064e-01,\n",
              "            1.72750205e-01,  3.48995239e-01,  4.09988724e-02,\n",
              "            4.19777542e-01,  3.88974428e-01,  1.90715984e-01,\n",
              "           -2.23374531e-01,  3.29403847e-01,  8.50114524e-02,\n",
              "            6.60349876e-02, -1.84818909e-01]],\n",
              " \n",
              "         [[ 2.77924120e-01,  4.09021825e-01,  3.20405036e-01,\n",
              "           -9.05900523e-02, -1.54410034e-01,  4.15011734e-01,\n",
              "            2.31970698e-01, -3.03309321e-01,  3.91375691e-01,\n",
              "           -3.12442034e-01, -1.07410991e+00,  5.00813067e-01,\n",
              "           -1.66526273e-01, -9.47001651e-02, -9.39730704e-01,\n",
              "           -4.21405405e-01, -3.01072121e-01, -9.44840685e-02,\n",
              "           -2.01674670e-01, -6.08916283e-01,  2.36345857e-01,\n",
              "            5.12472391e-01, -5.59580564e-01, -4.67725322e-02,\n",
              "           -3.79785627e-01,  3.12635839e-01,  2.77946800e-01,\n",
              "           -3.13305527e-01,  9.50010195e-02,  8.35632682e-02,\n",
              "            6.06170535e-01,  2.52642184e-01]]],\n",
              " \n",
              " \n",
              "        [[[-1.73656866e-01, -4.47070509e-01,  3.11012834e-01,\n",
              "           -1.03483371e-01,  1.20435879e-01,  8.11254680e-01,\n",
              "           -1.02218151e-01,  9.08151790e-02,  1.16111703e-01,\n",
              "            4.73031849e-01,  5.34740984e-01, -1.53097188e+00,\n",
              "            1.49865538e-01,  3.06401730e-01,  6.45804286e-01,\n",
              "           -5.30348897e-01, -2.71131545e-01,  7.87130743e-03,\n",
              "           -2.28987724e-01,  7.45796487e-02,  1.22815864e-02,\n",
              "           -5.89517891e-01, -1.08211267e+00,  2.00090255e-03,\n",
              "           -1.79473162e-01, -1.16514668e-01, -6.16047204e-01,\n",
              "            1.45357653e-01,  1.97914466e-01, -2.34280616e-01,\n",
              "           -1.68358535e-01, -1.20390020e-02]],\n",
              " \n",
              "         [[-2.52670556e-01, -2.78487593e-01,  1.21859021e-01,\n",
              "           -1.33231312e-01, -2.15567723e-01, -8.35019410e-01,\n",
              "           -7.96310455e-02,  3.93562436e-01, -3.61832798e-01,\n",
              "            5.75485051e-01,  4.73248482e-01, -1.01356065e+00,\n",
              "           -2.25497127e-01, -3.36577058e-01, -6.97509348e-02,\n",
              "            3.67558241e-01,  5.40100813e-01,  7.84877166e-02,\n",
              "           -4.28004146e-01, -1.79363787e-01,  3.01507264e-01,\n",
              "            9.47978571e-02, -9.22022820e-01,  1.41835764e-01,\n",
              "            3.86859417e-01, -1.60004064e-01, -7.10579157e-01,\n",
              "            1.20424390e-01,  6.60301208e-01,  3.42990495e-02,\n",
              "            4.39470410e-01,  5.32069981e-01]],\n",
              " \n",
              "         [[ 3.57816219e-01,  8.53929818e-02, -5.48411727e-01,\n",
              "           -6.05000556e-03,  2.99167901e-01, -1.84035543e-02,\n",
              "            3.11155915e-01,  1.11367315e-01, -3.80866200e-01,\n",
              "            3.62818331e-01, -3.58138859e-01, -1.23924100e+00,\n",
              "           -3.57256562e-01, -4.28082824e-01, -1.13179612e+00,\n",
              "            9.33772624e-02, -2.52161711e-01,  3.67147863e-01,\n",
              "            1.50670528e-01, -1.03492033e+00, -3.29523742e-01,\n",
              "            3.53472769e-01, -9.55763161e-01,  6.26235828e-02,\n",
              "            2.14471012e-01, -1.58136591e-01, -7.12349638e-03,\n",
              "            3.30739796e-01,  5.46328545e-01,  3.37810874e-01,\n",
              "            1.54317424e-01,  5.69616109e-02]]]], dtype=float32)>,\n",
              " <tf.Variable 'conv/bias:0' shape=(32,) dtype=float32, numpy=\n",
              " array([-0.34817824, -0.30136055, -0.08011903,  0.        , -0.17766988,\n",
              "         0.00114025, -0.27497163, -0.11506984, -0.06313325, -0.11591193,\n",
              "         0.25094992, -0.00164778, -0.11258385, -0.05220177, -0.09638   ,\n",
              "        -0.14525369, -0.10078362, -0.37836877, -0.13224742, -0.11644476,\n",
              "        -0.03034931, -0.0562587 , -0.01140511, -0.22928871, -0.40086886,\n",
              "        -0.05202711, -0.1661043 , -0.25856745, -0.00333471, -0.35187185,\n",
              "        -0.02377046, -0.1299917 ], dtype=float32)>]"
            ]
          },
          "metadata": {},
          "execution_count": 18
        }
      ]
    },
    {
      "cell_type": "markdown",
      "source": [
        "커널 행렬의 가중치와 상수항(bias)를 나타낸다.\n",
        "\n",
        "커널 가중치의 shape이 (3, 3, 1, 32). 3*3은 필터의 크기, 1은 입력층의 채널 개수, 32는 출력층의 채널 개수를 나타낸다.\n",
        "\n",
        "커널 행렬의 가중치 또는 상수항을 따로 선택할 수도 있다."
      ],
      "metadata": {
        "id": "DN8YK_l3aZnz"
      }
    },
    {
      "cell_type": "code",
      "source": [
        "# 첫 번째 레이어 커널 가중치\n",
        "model.layers[0].kernel"
      ],
      "metadata": {
        "colab": {
          "base_uri": "https://localhost:8080/"
        },
        "id": "rRYckvjRayds",
        "outputId": "0fa666ec-15c3-43c5-bed9-d9befb08d979"
      },
      "execution_count": null,
      "outputs": [
        {
          "output_type": "execute_result",
          "data": {
            "text/plain": [
              "<tf.Variable 'conv/kernel:0' shape=(3, 3, 1, 32) dtype=float32, numpy=\n",
              "array([[[[ 3.76772225e-01,  2.56770641e-01, -4.63932127e-01,\n",
              "          -2.18091160e-02, -2.68836588e-01, -1.71760857e-01,\n",
              "           3.04087698e-01, -2.49406680e-01, -3.17424595e-01,\n",
              "          -1.43411770e-01, -1.24447393e+00, -8.94081146e-02,\n",
              "          -2.80764401e-01, -7.71416306e-01,  4.34575319e-01,\n",
              "           5.56230322e-02,  9.32297390e-03,  3.35544586e-01,\n",
              "          -2.09393017e-02,  1.78533643e-01, -8.56455639e-02,\n",
              "          -1.36574185e+00,  4.80307460e-01,  8.47059488e-02,\n",
              "           4.17831928e-01, -1.01862185e-01,  1.22288994e-01,\n",
              "           2.33635530e-01, -1.37143743e+00,  2.61816084e-01,\n",
              "          -9.12047386e-01, -6.39507473e-01]],\n",
              "\n",
              "        [[-1.29847884e-01, -9.03746579e-03, -2.34834030e-01,\n",
              "          -2.97292322e-02,  3.87319237e-01,  6.00860268e-02,\n",
              "           3.10665667e-01, -6.41156614e-01, -2.22684875e-01,\n",
              "          -5.52413821e-01, -1.02826047e+00,  4.92836356e-01,\n",
              "           2.08434924e-01,  2.24353403e-01,  1.42157793e-01,\n",
              "           1.53716737e-02,  1.82056829e-01,  1.58720329e-01,\n",
              "           3.63683164e-01,  3.77441704e-01,  1.81509018e-01,\n",
              "           3.79213691e-02,  5.84233701e-01,  1.70337051e-01,\n",
              "          -2.94460300e-02, -4.27116930e-01,  5.31203687e-01,\n",
              "           8.06406662e-02, -9.49119627e-01,  2.02995226e-01,\n",
              "          -7.73737311e-01, -6.41137064e-01]],\n",
              "\n",
              "        [[-4.44339365e-01, -1.64407849e-01,  2.51647800e-01,\n",
              "          -1.12834141e-01, -3.60050201e-02,  7.95163751e-01,\n",
              "          -4.98489320e-01, -5.49130857e-01, -4.58348950e-06,\n",
              "          -5.46060503e-01, -8.56389463e-01,  7.22784042e-01,\n",
              "           3.54001045e-01,  2.34460935e-01, -5.23730099e-01,\n",
              "          -1.84527159e-01,  6.34423178e-03, -4.03111279e-01,\n",
              "           3.28544736e-01, -8.28078210e-01, -2.02935457e-01,\n",
              "           7.56980956e-01,  2.88303673e-01,  3.97978676e-03,\n",
              "          -6.40854836e-01, -1.50300398e-01,  3.65064502e-01,\n",
              "           1.66884348e-01, -1.16671407e+00, -3.11089545e-01,\n",
              "          -8.71212333e-02,  4.16799374e-02]]],\n",
              "\n",
              "\n",
              "       [[[ 1.25454426e-01,  1.96438730e-01, -1.62049219e-01,\n",
              "          -4.45045531e-03,  9.46655646e-02, -2.77986765e-01,\n",
              "          -2.25872621e-01,  6.02593422e-01,  2.04963714e-01,\n",
              "           3.28612238e-01,  1.79465875e-01, -5.00182867e-01,\n",
              "           1.48954660e-01,  3.86413068e-01,  5.32820642e-01,\n",
              "           1.31231487e-01, -2.44252220e-01,  1.75248869e-02,\n",
              "           1.72841847e-01,  3.03450435e-01, -6.34850860e-01,\n",
              "          -8.63377154e-01,  2.95669675e-01, -2.85979807e-01,\n",
              "           1.84644699e-01,  2.17559010e-01, -6.36351183e-02,\n",
              "          -6.52512982e-02, -8.63670230e-01,  1.46927834e-02,\n",
              "          -6.70781195e-01, -5.04138529e-01]],\n",
              "\n",
              "        [[ 3.78168792e-01,  2.18552560e-01,  1.43557057e-01,\n",
              "          -1.83376595e-02, -5.07963859e-02, -1.06407273e+00,\n",
              "           6.70133457e-02,  2.36438185e-01,  4.65782732e-01,\n",
              "          -8.21422935e-02,  2.37259865e-01,  5.76195240e-01,\n",
              "          -3.57712172e-02,  2.30916187e-01,  2.59841233e-01,\n",
              "           4.19741154e-01,  2.30062276e-01,  5.67446761e-02,\n",
              "          -1.83571398e-01,  3.08681011e-01,  3.75126064e-01,\n",
              "           1.72750205e-01,  3.48995239e-01,  4.09988724e-02,\n",
              "           4.19777542e-01,  3.88974428e-01,  1.90715984e-01,\n",
              "          -2.23374531e-01,  3.29403847e-01,  8.50114524e-02,\n",
              "           6.60349876e-02, -1.84818909e-01]],\n",
              "\n",
              "        [[ 2.77924120e-01,  4.09021825e-01,  3.20405036e-01,\n",
              "          -9.05900523e-02, -1.54410034e-01,  4.15011734e-01,\n",
              "           2.31970698e-01, -3.03309321e-01,  3.91375691e-01,\n",
              "          -3.12442034e-01, -1.07410991e+00,  5.00813067e-01,\n",
              "          -1.66526273e-01, -9.47001651e-02, -9.39730704e-01,\n",
              "          -4.21405405e-01, -3.01072121e-01, -9.44840685e-02,\n",
              "          -2.01674670e-01, -6.08916283e-01,  2.36345857e-01,\n",
              "           5.12472391e-01, -5.59580564e-01, -4.67725322e-02,\n",
              "          -3.79785627e-01,  3.12635839e-01,  2.77946800e-01,\n",
              "          -3.13305527e-01,  9.50010195e-02,  8.35632682e-02,\n",
              "           6.06170535e-01,  2.52642184e-01]]],\n",
              "\n",
              "\n",
              "       [[[-1.73656866e-01, -4.47070509e-01,  3.11012834e-01,\n",
              "          -1.03483371e-01,  1.20435879e-01,  8.11254680e-01,\n",
              "          -1.02218151e-01,  9.08151790e-02,  1.16111703e-01,\n",
              "           4.73031849e-01,  5.34740984e-01, -1.53097188e+00,\n",
              "           1.49865538e-01,  3.06401730e-01,  6.45804286e-01,\n",
              "          -5.30348897e-01, -2.71131545e-01,  7.87130743e-03,\n",
              "          -2.28987724e-01,  7.45796487e-02,  1.22815864e-02,\n",
              "          -5.89517891e-01, -1.08211267e+00,  2.00090255e-03,\n",
              "          -1.79473162e-01, -1.16514668e-01, -6.16047204e-01,\n",
              "           1.45357653e-01,  1.97914466e-01, -2.34280616e-01,\n",
              "          -1.68358535e-01, -1.20390020e-02]],\n",
              "\n",
              "        [[-2.52670556e-01, -2.78487593e-01,  1.21859021e-01,\n",
              "          -1.33231312e-01, -2.15567723e-01, -8.35019410e-01,\n",
              "          -7.96310455e-02,  3.93562436e-01, -3.61832798e-01,\n",
              "           5.75485051e-01,  4.73248482e-01, -1.01356065e+00,\n",
              "          -2.25497127e-01, -3.36577058e-01, -6.97509348e-02,\n",
              "           3.67558241e-01,  5.40100813e-01,  7.84877166e-02,\n",
              "          -4.28004146e-01, -1.79363787e-01,  3.01507264e-01,\n",
              "           9.47978571e-02, -9.22022820e-01,  1.41835764e-01,\n",
              "           3.86859417e-01, -1.60004064e-01, -7.10579157e-01,\n",
              "           1.20424390e-01,  6.60301208e-01,  3.42990495e-02,\n",
              "           4.39470410e-01,  5.32069981e-01]],\n",
              "\n",
              "        [[ 3.57816219e-01,  8.53929818e-02, -5.48411727e-01,\n",
              "          -6.05000556e-03,  2.99167901e-01, -1.84035543e-02,\n",
              "           3.11155915e-01,  1.11367315e-01, -3.80866200e-01,\n",
              "           3.62818331e-01, -3.58138859e-01, -1.23924100e+00,\n",
              "          -3.57256562e-01, -4.28082824e-01, -1.13179612e+00,\n",
              "           9.33772624e-02, -2.52161711e-01,  3.67147863e-01,\n",
              "           1.50670528e-01, -1.03492033e+00, -3.29523742e-01,\n",
              "           3.53472769e-01, -9.55763161e-01,  6.26235828e-02,\n",
              "           2.14471012e-01, -1.58136591e-01, -7.12349638e-03,\n",
              "           3.30739796e-01,  5.46328545e-01,  3.37810874e-01,\n",
              "           1.54317424e-01,  5.69616109e-02]]]], dtype=float32)>"
            ]
          },
          "metadata": {},
          "execution_count": 19
        }
      ]
    },
    {
      "cell_type": "code",
      "source": [
        "# 첫 번째 레이어 bias 가중치\n",
        "model.layers[0].bias"
      ],
      "metadata": {
        "colab": {
          "base_uri": "https://localhost:8080/"
        },
        "id": "DEu8h0Kba4JB",
        "outputId": "8cd4e3d8-530d-4f11-d33c-745ff964780d"
      },
      "execution_count": null,
      "outputs": [
        {
          "output_type": "execute_result",
          "data": {
            "text/plain": [
              "<tf.Variable 'conv/bias:0' shape=(32,) dtype=float32, numpy=\n",
              "array([-0.34817824, -0.30136055, -0.08011903,  0.        , -0.17766988,\n",
              "        0.00114025, -0.27497163, -0.11506984, -0.06313325, -0.11591193,\n",
              "        0.25094992, -0.00164778, -0.11258385, -0.05220177, -0.09638   ,\n",
              "       -0.14525369, -0.10078362, -0.37836877, -0.13224742, -0.11644476,\n",
              "       -0.03034931, -0.0562587 , -0.01140511, -0.22928871, -0.40086886,\n",
              "       -0.05202711, -0.1661043 , -0.25856745, -0.00333471, -0.35187185,\n",
              "       -0.02377046, -0.1299917 ], dtype=float32)>"
            ]
          },
          "metadata": {},
          "execution_count": 20
        }
      ]
    },
    {
      "cell_type": "markdown",
      "source": [
        "레이어의 이름을 사용해 해당 레이어를 선택할수도 있다."
      ],
      "metadata": {
        "id": "Ns7iSYm3a7PU"
      }
    },
    {
      "cell_type": "code",
      "source": [
        "# 레이어 이름 사용해 레이어 선택\n",
        "model.get_layer('conv')"
      ],
      "metadata": {
        "colab": {
          "base_uri": "https://localhost:8080/"
        },
        "id": "jwmenqPka-TY",
        "outputId": "a2875bcd-1248-40e0-8600-94172c13cabc"
      },
      "execution_count": null,
      "outputs": [
        {
          "output_type": "execute_result",
          "data": {
            "text/plain": [
              "<keras.layers.convolutional.conv2d.Conv2D at 0x7f9dd3d4ad10>"
            ]
          },
          "metadata": {},
          "execution_count": 21
        }
      ]
    },
    {
      "cell_type": "markdown",
      "source": [
        "모델에 입력 데이터 넣고, 모델의 첫번째와 두번째 레이어의 출력을 최종 출력으로 갖는 activator 모델을 정의한다. 첫번재 샘플에 대해 각 레이어의 출력을 예측한다."
      ],
      "metadata": {
        "id": "fmiFnPF9bCfV"
      }
    },
    {
      "cell_type": "code",
      "source": [
        "# 샘플 이미지의 레이어별 출력을 리스트에 추가 (첫 번째, 두 번째 레이어)\n",
        "activator=tf.keras.Model(inputs=model.input, outputs=[layer.output for layer in model.layers[:2]])\n",
        "activations=activator.predict(x_train_in[0][tf.newaxis, ...])\n",
        "\n",
        "len(activations)"
      ],
      "metadata": {
        "colab": {
          "base_uri": "https://localhost:8080/"
        },
        "id": "spzo6jgcbLQn",
        "outputId": "8cb9f43d-c094-4287-fe17-542c0134cb36"
      },
      "execution_count": null,
      "outputs": [
        {
          "output_type": "stream",
          "name": "stdout",
          "text": [
            "1/1 [==============================] - 0s 79ms/step\n"
          ]
        },
        {
          "output_type": "execute_result",
          "data": {
            "text/plain": [
              "2"
            ]
          },
          "metadata": {},
          "execution_count": 22
        }
      ]
    },
    {
      "cell_type": "markdown",
      "source": [
        "2개의 출력 텐서 중 첫번째 텐서는 Conv2D 레이어의 출력."
      ],
      "metadata": {
        "id": "0dJ7E9_Nbeyp"
      }
    },
    {
      "cell_type": "code",
      "source": [
        "# 첫 번재 레이어 conv의 출력층\n",
        "conv_activation=activations[0]\n",
        "conv_activation.shape"
      ],
      "metadata": {
        "colab": {
          "base_uri": "https://localhost:8080/"
        },
        "id": "dRooO-0MblXb",
        "outputId": "a851d4ee-4523-4f3f-f98e-816d3c146c9e"
      },
      "execution_count": null,
      "outputs": [
        {
          "output_type": "execute_result",
          "data": {
            "text/plain": [
              "(1, 26, 26, 32)"
            ]
          },
          "metadata": {},
          "execution_count": 25
        }
      ]
    },
    {
      "cell_type": "markdown",
      "source": [
        "여기서 1은 입력 이미지의 개수.\n",
        "\n",
        "첫번째 레이어에서 출력되는 특성맵 이미지를 32개 커널별로 구분해 시각화하면 다음과 같다."
      ],
      "metadata": {
        "id": "PpJ05_AJbsaU"
      }
    },
    {
      "cell_type": "code",
      "source": [
        "# Convolution 시각화\n",
        "fig, axes=plt.subplots(4, 8)\n",
        "fig.set_size_inches(10, 5)\n",
        "\n",
        "for i in range(32):\n",
        "  axes[i//8, i%8].matshow(conv_activation[0, :, :, i], cmap='viridis')\n",
        "  axes[i//8, i%8].set_title('kernel %s'%str(i), fontsize=10)\n",
        "  plt.setp(axes[i//8, i%8].get_xticklabels(), visible=False)\n",
        "  plt.setp(axes[i//8, i%8].get_yticklabels(), visible=False)\n",
        "\n",
        "plt.tight_layout()\n",
        "plt.show()\n",
        "  "
      ],
      "metadata": {
        "colab": {
          "base_uri": "https://localhost:8080/",
          "height": 508
        },
        "id": "zJBQ6b3WcIHI",
        "outputId": "4a3f70ab-45b4-43db-fa39-60c7398a7e29"
      },
      "execution_count": null,
      "outputs": [
        {
          "output_type": "display_data",
          "data": {
            "text/plain": [
              "<Figure size 1000x500 with 32 Axes>"
            ],
            "image/png": "[encoded data removed]"
          },
          "metadata": {}
        }
      ]
    },
    {
      "cell_type": "markdown",
      "source": [
        "두번째 레이어는 최대 풀링 레이어. 여기서 출력하는 텐서는 (1, 13, 13, 32) 형태."
      ],
      "metadata": {
        "id": "pD0fIKoccvsj"
      }
    },
    {
      "cell_type": "code",
      "source": [
        "# 두번째 레이어 pool 출력층\n",
        "pooling_activation=activations[1]\n",
        "print(pooling_activation.shape)"
      ],
      "metadata": {
        "colab": {
          "base_uri": "https://localhost:8080/"
        },
        "id": "YsJ3tT-oc01d",
        "outputId": "75e781a1-dbdb-4dec-8504-c51397aaef72"
      },
      "execution_count": null,
      "outputs": [
        {
          "output_type": "stream",
          "name": "stdout",
          "text": [
            "(1, 13, 13, 32)\n"
          ]
        }
      ]
    },
    {
      "cell_type": "code",
      "source": [
        "# 시각화\n",
        "fig, axes=plt.subplots(4, 8)\n",
        "fig.set_size_inches(10, 5)\n",
        "\n",
        "for i in range(32):\n",
        "  axes[i//8, i%8].matshow(pooling_activation[0, :, :, i], cmap='viridis')\n",
        "  axes[i//8, i%8].set_title('kernel %s'%str(i), fontsize=10)\n",
        "  plt.setp(axes[i//8, i%8].get_xticklabels(), visible=False)\n",
        "  plt.setp(axes[i//8, i%8].get_yticklabels(), visible=False)\n",
        "\n",
        "plt.tight_layout()\n",
        "plt.show()"
      ],
      "metadata": {
        "colab": {
          "base_uri": "https://localhost:8080/",
          "height": 508
        },
        "id": "g0gkrRFJdFZ6",
        "outputId": "4f843af8-1786-4e4c-a839-56d8acd5d383"
      },
      "execution_count": null,
      "outputs": [
        {
          "output_type": "display_data",
          "data": {
            "text/plain": [
              "<Figure size 1000x500 with 32 Axes>"
            ],
            "image/png": "[encoded data removed]"
          },
          "metadata": {}
        }
      ]
    },
    {
      "cell_type": "markdown",
      "source": [
        "커널별로 출력되는 특성맵 이미지를 시각화하면, 앞 이미지보다 화소가 굵어짐.\n",
        "* 최대 풀링 -> 인근 픽셀 모아 최대값으로 고정하기 때문에 픽셀 수를 줄이며 특징을 강하게 드러낸다."
      ],
      "metadata": {
        "id": "2SwBIGrZc8a-"
      }
    },
    {
      "cell_type": "markdown",
      "source": [
        "##**03. 복잡한 모델 생성**\n",
        "functional API 사용해 복잡한 구조의 모델을 정의해서 사용해보자. ex. 각 레이어를 기준으로 입력이 2개 이상이거나 출력이 2개 이상인 모델, 중간 레이어를 건너뛰고 뒤쪽에 있는 레이어로 출력 텐서를 전달하는 방식의 직접 연결.\n"
      ],
      "metadata": {
        "id": "m3ps0vFcNXct"
      }
    },
    {
      "cell_type": "markdown",
      "source": [
        "###3-1. 데이터셋 준비"
      ],
      "metadata": {
        "id": "mhmRP5n0NXaV"
      }
    },
    {
      "cell_type": "code",
      "source": [
        "import tensorflow as tf\n",
        "import numpy as np\n",
        "\n",
        "#mnist 손글씨 이미지 데이터 로드\n",
        "mnist=tf.keras.datasets.mnist\n",
        "(x_train, y_train), (x_valid, y_valid)=mnist.load_data()\n",
        "\n",
        "print(x_train.shape, y_train.shape)\n",
        "print(x_valid.shape, y_valid.shape)"
      ],
      "metadata": {
        "colab": {
          "base_uri": "https://localhost:8080/"
        },
        "id": "VEB9YfnuiOis",
        "outputId": "91d2575d-47d7-47dd-d9c4-6e3534dd8f15"
      },
      "execution_count": 1,
      "outputs": [
        {
          "output_type": "stream",
          "name": "stdout",
          "text": [
            "Downloading data from https://storage.googleapis.com/tensorflow/tf-keras-datasets/mnist.npz\n",
            "11490434/11490434 [==============================] - 0s 0us/step\n",
            "(60000, 28, 28) (60000,)\n",
            "(10000, 28, 28) (10000,)\n"
          ]
        }
      ]
    },
    {
      "cell_type": "markdown",
      "source": [
        "원본 정답 외에 홀수인지 짝수인지 판단하는 정답 (y_odd)를 추가하기로 하자."
      ],
      "metadata": {
        "id": "cvPHAiwdixqQ"
      }
    },
    {
      "cell_type": "code",
      "source": [
        "# 새로운 출력 값 배열 생성 (홀수 : 1, 짝수 : 0)\n",
        "y_train_odd=[]\n",
        "for y in y_train:\n",
        "  if y%2==0:\n",
        "    y_train_odd.append(0)\n",
        "  else:\n",
        "    y_train_odd.append(1)\n",
        "\n",
        "y_train_odd=np.array(y_train_odd)\n",
        "y_train_odd.shape"
      ],
      "metadata": {
        "colab": {
          "base_uri": "https://localhost:8080/"
        },
        "id": "FK4JYpnPixLX",
        "outputId": "58f7f05e-52b5-46ab-9d3e-5871212a8cc6"
      },
      "execution_count": 2,
      "outputs": [
        {
          "output_type": "execute_result",
          "data": {
            "text/plain": [
              "(60000,)"
            ]
          },
          "metadata": {},
          "execution_count": 2
        }
      ]
    },
    {
      "cell_type": "code",
      "source": [
        "# 잘 정리되었다\n",
        "print(y_train[:10])\n",
        "print(y_train_odd[:10])"
      ],
      "metadata": {
        "colab": {
          "base_uri": "https://localhost:8080/"
        },
        "id": "XEZjDKlUiPNt",
        "outputId": "41b4a251-e61b-42f4-ca98-89aba42a0b2e"
      },
      "execution_count": 3,
      "outputs": [
        {
          "output_type": "stream",
          "name": "stdout",
          "text": [
            "[5 0 4 1 9 2 1 3 1 4]\n",
            "[1 0 0 1 1 0 1 1 1 0]\n"
          ]
        }
      ]
    },
    {
      "cell_type": "markdown",
      "source": [
        "검증 데이터셋에도 만들어준다."
      ],
      "metadata": {
        "id": "hemk2oV4jaat"
      }
    },
    {
      "cell_type": "code",
      "source": [
        "# Validation 데이터셋 처리\n",
        "y_valid_odd=[]\n",
        "for y in y_valid:\n",
        "  if y%2==0:\n",
        "    y_valid_odd.append(0)\n",
        "  else:\n",
        "    y_valid_odd.append(1)\n",
        "\n",
        "y_valid_odd=np.array(y_valid_odd)\n",
        "y_valid_odd.shape"
      ],
      "metadata": {
        "colab": {
          "base_uri": "https://localhost:8080/"
        },
        "id": "CQj6ezXpiPLM",
        "outputId": "89abd855-8470-4883-ec45-239f4d9e2cdc"
      },
      "execution_count": 4,
      "outputs": [
        {
          "output_type": "execute_result",
          "data": {
            "text/plain": [
              "(10000,)"
            ]
          },
          "metadata": {},
          "execution_count": 4
        }
      ]
    },
    {
      "cell_type": "markdown",
      "source": [
        "입력 이미지 데이터를 255로 나눠서 정규화한다. 또한 모노 컬러 이미지므로 새로운 축을 추가해 채널 개수를 1로 지정. expand_dims() 함수에 -1로 맨 끝에 새로운 축을 추가하도록 함."
      ],
      "metadata": {
        "id": "ylkUVzZcjoJU"
      }
    },
    {
      "cell_type": "code",
      "source": [
        "# 정규화\n",
        "x_train=x_train/255.0\n",
        "x_valid=x_valid/255.0\n",
        "\n",
        "# 채널 추가\n",
        "x_train_in=tf.expand_dims(x_train, -1)\n",
        "x_valid_in=tf.expand_dims(x_valid, -1)\n",
        "\n",
        "print(x_train_in.shape, x_valid_in.shape)"
      ],
      "metadata": {
        "colab": {
          "base_uri": "https://localhost:8080/"
        },
        "id": "q0fF7zSGiPI4",
        "outputId": "8133f101-65b6-415b-c861-dc462417abe4"
      },
      "execution_count": 6,
      "outputs": [
        {
          "output_type": "stream",
          "name": "stdout",
          "text": [
            "(60000, 28, 28, 1) (10000, 28, 28, 1)\n"
          ]
        }
      ]
    },
    {
      "cell_type": "markdown",
      "source": [
        "###3-2. Functional API로 다중 입력, 다중 출력 레이어 생성\n",
        "sequential api는 레이어를 층층이 한 줄로 연결할 수밖에 없지만, functional api를 사용하면 다중 입력 또는 다중 출력 같은 구조를 만들 수 있다.\n",
        "\n",
        "아래 코드에서 입력 레이어 input의 경우 Conv2D 레이어와 flatten 레이어의 입력으로 사용된다. 따라서 입력 레이어는 2개의 출력을 갖고 각 출력은 각각 다른 레이어의 입력으로 사용된다. 최종적으로 Concatenate 레이어에서 합쳐진 다음 Dense 레이어를 통과한다. 이렇게 함수의 입력과 출력으로 표현할 수 있어서 자유롭게 모델 구조를 정의할 수 있다."
      ],
      "metadata": {
        "id": "_MddAmptNXEf"
      }
    },
    {
      "cell_type": "code",
      "source": [
        "# Functional API 를 사용하여 모델 생성\n",
        "\n",
        "inputs=tf.keras.layers.Input(shape=(28, 28, 1))\n",
        "\n",
        "conv=tf.keras.layers.Conv2D(32, (3, 3), activation='relu')(inputs)\n",
        "pool=tf.keras.layers.MaxPooling2D((2,2))(conv)\n",
        "flat=tf.keras.layers.Flatten()(pool)\n",
        "\n",
        "flat_inputs=tf.keras.layers.Flatten()(inputs)\n",
        "concat=tf.keras.layers.Concatenate()([flat, flat_inputs])\n",
        "outputs=tf.keras.layers.Dense(10, activation='softmax')(concat)\n",
        "\n",
        "model=tf.keras.models.Model(inputs=inputs, outputs=outputs)\n",
        "\n",
        "model.summary()"
      ],
      "metadata": {
        "colab": {
          "base_uri": "https://localhost:8080/"
        },
        "id": "-bp48S3QiPGR",
        "outputId": "b8a741d5-f0f6-484f-8676-b0533656a867"
      },
      "execution_count": 9,
      "outputs": [
        {
          "output_type": "stream",
          "name": "stdout",
          "text": [
            "Model: \"model\"\n",
            "__________________________________________________________________________________________________\n",
            " Layer (type)                   Output Shape         Param #     Connected to                     \n",
            "==================================================================================================\n",
            " input_3 (InputLayer)           [(None, 28, 28, 1)]  0           []                               \n",
            "                                                                                                  \n",
            " conv2d_2 (Conv2D)              (None, 26, 26, 32)   320         ['input_3[0][0]']                \n",
            "                                                                                                  \n",
            " max_pooling2d_2 (MaxPooling2D)  (None, 13, 13, 32)  0           ['conv2d_2[0][0]']               \n",
            "                                                                                                  \n",
            " flatten_3 (Flatten)            (None, 5408)         0           ['max_pooling2d_2[0][0]']        \n",
            "                                                                                                  \n",
            " flatten_4 (Flatten)            (None, 784)          0           ['input_3[0][0]']                \n",
            "                                                                                                  \n",
            " concatenate_1 (Concatenate)    (None, 6192)         0           ['flatten_3[0][0]',              \n",
            "                                                                  'flatten_4[0][0]']              \n",
            "                                                                                                  \n",
            " dense (Dense)                  (None, 10)           61930       ['concatenate_1[0][0]']          \n",
            "                                                                                                  \n",
            "==================================================================================================\n",
            "Total params: 62,250\n",
            "Trainable params: 62,250\n",
            "Non-trainable params: 0\n",
            "__________________________________________________________________________________________________\n"
          ]
        }
      ]
    },
    {
      "cell_type": "markdown",
      "source": [
        "plot_model 함수를 사용하고 모델을 입력해 모델 구조를 그려보자. 입력 레이어가 2개의 출력으로 나뉘고 마지막 dense 레이어를 통과하기 전에 concatenate 레이어에서 하나로 합쳐지고 있다."
      ],
      "metadata": {
        "id": "0tmmKqFfldBU"
      }
    },
    {
      "cell_type": "code",
      "source": [
        "# 모델 구조 출력 및 이미지 파일로 저장\n",
        "tf.keras.utils.plot_model(model, show_shapes=True, show_layer_names=True, to_file='functional_cnn.png')"
      ],
      "metadata": {
        "colab": {
          "base_uri": "https://localhost:8080/",
          "height": 644
        },
        "id": "cHebpAZ3iPDP",
        "outputId": "f82b7bb4-21e6-4283-e123-de5c5c9eb735"
      },
      "execution_count": 17,
      "outputs": [
        {
          "output_type": "execute_result",
          "data": {
            "image/png": "[encoded data removed]",
            "text/plain": [
              "<IPython.core.display.Image object>"
            ]
          },
          "metadata": {},
          "execution_count": 17
        }
      ]
    },
    {
      "cell_type": "markdown",
      "source": [
        "컴파일, 훈련, 성능 평가를 진행하자."
      ],
      "metadata": {
        "id": "MaTs8YvYm12N"
      }
    },
    {
      "cell_type": "code",
      "source": [
        "# 모델 컴파일\n",
        "model.compile(optimizer='adam', loss='sparse_categorical_crossentropy', metrics=['accuracy'])\n",
        "\n",
        "# 모델 훈련\n",
        "history=model.fit(x_train_in, y_train, validation_data=(x_valid, y_valid), epochs=10)\n",
        "\n",
        "# 모델 성능\n",
        "val_loss, val_acc=model.evaluate(x_valid_in, y_valid)\n",
        "print(val_loss, val_acc)"
      ],
      "metadata": {
        "colab": {
          "base_uri": "https://localhost:8080/"
        },
        "id": "wBe3FvhjiPA6",
        "outputId": "27185802-1301-422d-aaf2-300ad48b8394"
      },
      "execution_count": 18,
      "outputs": [
        {
          "output_type": "stream",
          "name": "stdout",
          "text": [
            "Epoch 1/10\n",
            "1875/1875 [==============================] - 43s 22ms/step - loss: 1.0181 - accuracy: 0.7571 - val_loss: 0.4419 - val_accuracy: 0.8795\n",
            "Epoch 2/10\n",
            "1875/1875 [==============================] - 42s 23ms/step - loss: 0.3961 - accuracy: 0.8856 - val_loss: 0.3392 - val_accuracy: 0.9040\n",
            "Epoch 3/10\n",
            "1875/1875 [==============================] - 41s 22ms/step - loss: 0.3410 - accuracy: 0.9000 - val_loss: 0.3107 - val_accuracy: 0.9103\n",
            "Epoch 4/10\n",
            "1875/1875 [==============================] - 46s 24ms/step - loss: 0.3197 - accuracy: 0.9066 - val_loss: 0.3020 - val_accuracy: 0.9135\n",
            "Epoch 5/10\n",
            "1875/1875 [==============================] - 44s 23ms/step - loss: 0.3072 - accuracy: 0.9104 - val_loss: 0.2888 - val_accuracy: 0.9163\n",
            "Epoch 6/10\n",
            "1875/1875 [==============================] - 48s 25ms/step - loss: 0.2989 - accuracy: 0.9132 - val_loss: 0.2846 - val_accuracy: 0.9167\n",
            "Epoch 7/10\n",
            "1875/1875 [==============================] - 38s 20ms/step - loss: 0.2921 - accuracy: 0.9154 - val_loss: 0.2790 - val_accuracy: 0.9191\n",
            "Epoch 8/10\n",
            "1875/1875 [==============================] - 37s 20ms/step - loss: 0.2869 - accuracy: 0.9164 - val_loss: 0.2724 - val_accuracy: 0.9198\n",
            "Epoch 9/10\n",
            "1875/1875 [==============================] - 42s 23ms/step - loss: 0.2823 - accuracy: 0.9183 - val_loss: 0.2726 - val_accuracy: 0.9223\n",
            "Epoch 10/10\n",
            "1875/1875 [==============================] - 43s 23ms/step - loss: 0.2786 - accuracy: 0.9200 - val_loss: 0.2711 - val_accuracy: 0.9225\n",
            "313/313 [==============================] - 5s 14ms/step - loss: 0.2711 - accuracy: 0.9225\n",
            "0.2710634768009186 0.9225000143051147\n"
          ]
        }
      ]
    },
    {
      "cell_type": "markdown",
      "source": [
        "###3-3. 다중 출력 분류 모델\n",
        "이번에는 두 가지 서로 다른 분류 문제를 예측하는 다중 출력 모델을 만들어보자. 앞에 만든 짝수, 홀수 정답 배열 사용. 0~9 숫자를 맞추고, 홀짝을 맞추는 분류 문제를 동시에 풀어내는 모델의 정의해보자. **출력 레이어가 2개**인 것이 핵심."
      ],
      "metadata": {
        "id": "0sC6uq-XOH5n"
      }
    },
    {
      "cell_type": "code",
      "source": [
        "# Functional API를 사용해 모델 생성\n",
        "\n",
        "inputs=tf.keras.layers.Input(shape=(28, 28, 1), name='inputs')\n",
        "\n",
        "conv=tf.keras.layers.Conv2D(32, (3, 3), activation='relu', name='conv2d_layer')(inputs)\n",
        "pool=tf.keras.layers.MaxPooling2D((2,2), name='maxpool_layer')(conv)\n",
        "flat=tf.keras.layers.Flatten(name='flatten_layer')(pool)\n",
        "\n",
        "flat_inputs=tf.keras.layers.Flatten()(inputs)\n",
        "concat=tf.keras.layers.Concatenate()([flat, flat_inputs])\n",
        "digit_outputs=tf.keras.layers.Dense(10, activation='softmax', name='digit_dense')(concat)\n",
        "\n",
        "odd_outputs=tf.keras.layers.Dense(1, activation='sigmoid', name='odd_dense')(flat_inputs)\n",
        "\n",
        "model=tf.keras.models.Model(inputs=inputs, outputs=[digit_outputs, odd_outputs])\n",
        "\n",
        "model.summary()"
      ],
      "metadata": {
        "colab": {
          "base_uri": "https://localhost:8080/"
        },
        "id": "FbC5Eq8RiO-f",
        "outputId": "93562fc2-a60d-4252-db59-13ea1dff573d"
      },
      "execution_count": 19,
      "outputs": [
        {
          "output_type": "stream",
          "name": "stdout",
          "text": [
            "Model: \"model_1\"\n",
            "__________________________________________________________________________________________________\n",
            " Layer (type)                   Output Shape         Param #     Connected to                     \n",
            "==================================================================================================\n",
            " inputs (InputLayer)            [(None, 28, 28, 1)]  0           []                               \n",
            "                                                                                                  \n",
            " conv2d_layer (Conv2D)          (None, 26, 26, 32)   320         ['inputs[0][0]']                 \n",
            "                                                                                                  \n",
            " maxpool_layer (MaxPooling2D)   (None, 13, 13, 32)   0           ['conv2d_layer[0][0]']           \n",
            "                                                                                                  \n",
            " flatten_layer (Flatten)        (None, 5408)         0           ['maxpool_layer[0][0]']          \n",
            "                                                                                                  \n",
            " flatten_5 (Flatten)            (None, 784)          0           ['inputs[0][0]']                 \n",
            "                                                                                                  \n",
            " concatenate_2 (Concatenate)    (None, 6192)         0           ['flatten_layer[0][0]',          \n",
            "                                                                  'flatten_5[0][0]']              \n",
            "                                                                                                  \n",
            " digit_dense (Dense)            (None, 10)           61930       ['concatenate_2[0][0]']          \n",
            "                                                                                                  \n",
            " odd_dense (Dense)              (None, 1)            785         ['flatten_5[0][0]']              \n",
            "                                                                                                  \n",
            "==================================================================================================\n",
            "Total params: 63,035\n",
            "Trainable params: 63,035\n",
            "Non-trainable params: 0\n",
            "__________________________________________________________________________________________________\n"
          ]
        }
      ]
    },
    {
      "cell_type": "markdown",
      "source": [
        "모델 입력 텐서와 출력 텐서를 화면에 표시하자. 입력은 하나이고 출력은 10개인 텐서와 1개인 텐서로 두 개가 확인된다."
      ],
      "metadata": {
        "id": "u8D4Q5Q6oOEX"
      }
    },
    {
      "cell_type": "code",
      "source": [
        "# 모델의 입력과 출력을 나타내는 텐서\n",
        "print(model.input)\n",
        "print(model.output)"
      ],
      "metadata": {
        "colab": {
          "base_uri": "https://localhost:8080/"
        },
        "id": "uoXV6s63iO8A",
        "outputId": "107ac4cc-51c7-4056-d334-49c89ba23d50"
      },
      "execution_count": 20,
      "outputs": [
        {
          "output_type": "stream",
          "name": "stdout",
          "text": [
            "KerasTensor(type_spec=TensorSpec(shape=(None, 28, 28, 1), dtype=tf.float32, name='inputs'), name='inputs', description=\"created by layer 'inputs'\")\n",
            "[<KerasTensor: shape=(None, 10) dtype=float32 (created by layer 'digit_dense')>, <KerasTensor: shape=(None, 1) dtype=float32 (created by layer 'odd_dense')>]\n"
          ]
        }
      ]
    },
    {
      "cell_type": "markdown",
      "source": [
        "구조 그려보자."
      ],
      "metadata": {
        "id": "3J3s8FNgor3r"
      }
    },
    {
      "cell_type": "code",
      "source": [
        "tf.keras.utils.plot_model(model, show_shapes=True, show_layer_names=True, to_file='multi_output_cnn.png')"
      ],
      "metadata": {
        "colab": {
          "base_uri": "https://localhost:8080/",
          "height": 644
        },
        "id": "s-v8BBnViO5l",
        "outputId": "a5a3556c-7ba8-45e3-aed2-0ce094551881"
      },
      "execution_count": 21,
      "outputs": [
        {
          "output_type": "execute_result",
          "data": {
            "image/png": "[encoded data removed]",
            "text/plain": [
              "<IPython.core.display.Image object>"
            ]
          },
          "metadata": {},
          "execution_count": 21
        }
      ]
    },
    {
      "cell_type": "markdown",
      "source": [
        "컴파일, 훈련, 성능 평가를 해보자. 주의할 점은 앞에서 모델 정의할 때 각각의 출력 Dense 레이어에 name 속성으로 이름을 지정했다. 여기서 지정한 이름을 key로 하고, 해당 key에 해당하는 레이어에 적용할 손실함수와 가중치를 딕셔너리 형태로 저장한다.\n",
        "\n",
        "fit을 적용할 때도 출력 값을 2개 지정하고, 레이어 이름 속성을 key로 하는 딕셔너리 형태로 각각의 출력에 맞는 정답 배열을 입력해야함."
      ],
      "metadata": {
        "id": "_oI4ARioo12L"
      }
    },
    {
      "cell_type": "code",
      "source": [
        "# 모델 컴파일\n",
        "model.compile(optimizer='adam',\n",
        "              loss={'digit_dense': 'sparse_categorical_crossentropy', 'odd_dense':'binary_crossentropy'},\n",
        "              loss_weights={'digit_dense':1, 'odd_dense':0.5}, # loss = 1.0 * sparse_categorical_crossentropy + 0.5 * binary_crossentropy\n",
        "              metrics=['accuracy'])\n",
        "\n",
        "# 모델 훈련\n",
        "history=model.fit({'inputs':x_train_in},\n",
        "                  {'digit_dense':y_train, 'odd_dense':y_train_odd},\n",
        "                   validation_data=({'inputs':x_valid_in}, {'digit_dense':y_valid, 'odd_dense':y_valid_odd}), epochs=10)\n",
        "\n",
        "# 모델 성능\n",
        "model.evaluate({'inputs':x_valid_in}, {'digit_dense':y_valid, 'odd_dense':y_valid_odd})"
      ],
      "metadata": {
        "colab": {
          "base_uri": "https://localhost:8080/"
        },
        "id": "cc4UmmscpJub",
        "outputId": "63010b0c-421e-44c2-d3ee-4bbcbbcadc7a"
      },
      "execution_count": 22,
      "outputs": [
        {
          "output_type": "stream",
          "name": "stdout",
          "text": [
            "Epoch 1/10\n",
            "1875/1875 [==============================] - 44s 23ms/step - loss: 1.3933 - digit_dense_loss: 1.0588 - odd_dense_loss: 0.6690 - digit_dense_accuracy: 0.7600 - odd_dense_accuracy: 0.7834 - val_loss: 0.7864 - val_digit_dense_loss: 0.4639 - val_odd_dense_loss: 0.6450 - val_digit_dense_accuracy: 0.8751 - val_odd_dense_accuracy: 0.7902\n",
            "Epoch 2/10\n",
            "1875/1875 [==============================] - 55s 29ms/step - loss: 0.7232 - digit_dense_loss: 0.4098 - odd_dense_loss: 0.6268 - digit_dense_accuracy: 0.8824 - odd_dense_accuracy: 0.7959 - val_loss: 0.6540 - val_digit_dense_loss: 0.3512 - val_odd_dense_loss: 0.6054 - val_digit_dense_accuracy: 0.8995 - val_odd_dense_accuracy: 0.8000\n",
            "Epoch 3/10\n",
            "1875/1875 [==============================] - 41s 22ms/step - loss: 0.6439 - digit_dense_loss: 0.3482 - odd_dense_loss: 0.5914 - digit_dense_accuracy: 0.8976 - odd_dense_accuracy: 0.8011 - val_loss: 0.6027 - val_digit_dense_loss: 0.3166 - val_odd_dense_loss: 0.5721 - val_digit_dense_accuracy: 0.9087 - val_odd_dense_accuracy: 0.8036\n",
            "Epoch 4/10\n",
            "1875/1875 [==============================] - 45s 24ms/step - loss: 0.6064 - digit_dense_loss: 0.3257 - odd_dense_loss: 0.5614 - digit_dense_accuracy: 0.9044 - odd_dense_accuracy: 0.8049 - val_loss: 0.5765 - val_digit_dense_loss: 0.3045 - val_odd_dense_loss: 0.5439 - val_digit_dense_accuracy: 0.9137 - val_odd_dense_accuracy: 0.8084\n",
            "Epoch 5/10\n",
            "1875/1875 [==============================] - 50s 27ms/step - loss: 0.5810 - digit_dense_loss: 0.3131 - odd_dense_loss: 0.5359 - digit_dense_accuracy: 0.9091 - odd_dense_accuracy: 0.8098 - val_loss: 0.5568 - val_digit_dense_loss: 0.2968 - val_odd_dense_loss: 0.5200 - val_digit_dense_accuracy: 0.9149 - val_odd_dense_accuracy: 0.8105\n",
            "Epoch 6/10\n",
            "1875/1875 [==============================] - 50s 26ms/step - loss: 0.5620 - digit_dense_loss: 0.3050 - odd_dense_loss: 0.5139 - digit_dense_accuracy: 0.9109 - odd_dense_accuracy: 0.8131 - val_loss: 0.5385 - val_digit_dense_loss: 0.2887 - val_odd_dense_loss: 0.4996 - val_digit_dense_accuracy: 0.9156 - val_odd_dense_accuracy: 0.8152\n",
            "Epoch 7/10\n",
            "1875/1875 [==============================] - 52s 28ms/step - loss: 0.5466 - digit_dense_loss: 0.2990 - odd_dense_loss: 0.4951 - digit_dense_accuracy: 0.9129 - odd_dense_accuracy: 0.8176 - val_loss: 0.5233 - val_digit_dense_loss: 0.2823 - val_odd_dense_loss: 0.4820 - val_digit_dense_accuracy: 0.9189 - val_odd_dense_accuracy: 0.8167\n",
            "Epoch 8/10\n",
            "1875/1875 [==============================] - 42s 22ms/step - loss: 0.5331 - digit_dense_loss: 0.2937 - odd_dense_loss: 0.4788 - digit_dense_accuracy: 0.9148 - odd_dense_accuracy: 0.8205 - val_loss: 0.5153 - val_digit_dense_loss: 0.2820 - val_odd_dense_loss: 0.4667 - val_digit_dense_accuracy: 0.9186 - val_odd_dense_accuracy: 0.8219\n",
            "Epoch 9/10\n",
            "1875/1875 [==============================] - 47s 25ms/step - loss: 0.5220 - digit_dense_loss: 0.2897 - odd_dense_loss: 0.4645 - digit_dense_accuracy: 0.9164 - odd_dense_accuracy: 0.8234 - val_loss: 0.5038 - val_digit_dense_loss: 0.2771 - val_odd_dense_loss: 0.4535 - val_digit_dense_accuracy: 0.9186 - val_odd_dense_accuracy: 0.8234\n",
            "Epoch 10/10\n",
            "1875/1875 [==============================] - 35s 19ms/step - loss: 0.5121 - digit_dense_loss: 0.2861 - odd_dense_loss: 0.4521 - digit_dense_accuracy: 0.9170 - odd_dense_accuracy: 0.8266 - val_loss: 0.4960 - val_digit_dense_loss: 0.2752 - val_odd_dense_loss: 0.4418 - val_digit_dense_accuracy: 0.9208 - val_odd_dense_accuracy: 0.8269\n",
            "313/313 [==============================] - 2s 7ms/step - loss: 0.4960 - digit_dense_loss: 0.2752 - odd_dense_loss: 0.4418 - digit_dense_accuracy: 0.9208 - odd_dense_accuracy: 0.8269\n"
          ]
        },
        {
          "output_type": "execute_result",
          "data": {
            "text/plain": [
              "[0.4960440397262573,\n",
              " 0.2751605808734894,\n",
              " 0.4417668879032135,\n",
              " 0.920799970626831,\n",
              " 0.8269000053405762]"
            ]
          },
          "metadata": {},
          "execution_count": 22
        }
      ]
    },
    {
      "cell_type": "markdown",
      "source": [
        "숫자 맞추기는 92% 정확도, 홀수 여부 판단은 83%의 정확도를 보인다. 홀수 여부를 판단하는 분류기에 레이어를 더 추가해 예측 정확도를 높일 여지가 있다.\n",
        "\n",
        "검증 데이터셋의 인덱스 0에 해당하는 이미지를 출력해보자."
      ],
      "metadata": {
        "id": "8LYa9IYZqgd7"
      }
    },
    {
      "cell_type": "code",
      "source": [
        "# 샘플 이미지 출력\n",
        "import matplotlib.pylab as plt\n",
        "\n",
        "def plot_image(data, idx):\n",
        "  plt.figure(figsize=(5,5))\n",
        "  plt.imshow(data[idx])\n",
        "  plt.axis('off')\n",
        "  plt.show()\n",
        "\n",
        "plot_image(x_valid, 0)"
      ],
      "metadata": {
        "colab": {
          "base_uri": "https://localhost:8080/",
          "height": 422
        },
        "id": "ebI8XnGAqsZk",
        "outputId": "1cf5c094-a5f2-4a8a-99fe-c5a10ef7c517"
      },
      "execution_count": 23,
      "outputs": [
        {
          "output_type": "display_data",
          "data": {
            "text/plain": [
              "<Figure size 500x500 with 1 Axes>"
            ],
            "image/png": "[encoded data removed]"
          },
          "metadata": {}
        }
      ]
    },
    {
      "cell_type": "markdown",
      "source": [
        "검증 데이터셋의 모든 이미지 데이터를 입력해 2개 분류 문제에 대한 예측 확률을 구해보자."
      ],
      "metadata": {
        "id": "3kgeajTLq_q4"
      }
    },
    {
      "cell_type": "code",
      "source": [
        "digit_preds, odd_preds=model.predict(x_valid_in)\n",
        "print(digit_preds[0])\n",
        "print(odd_preds[0])"
      ],
      "metadata": {
        "colab": {
          "base_uri": "https://localhost:8080/"
        },
        "id": "0Cg0HvVQqsmS",
        "outputId": "ca4fb18e-9253-4fee-e19c-8409b4092657"
      },
      "execution_count": 24,
      "outputs": [
        {
          "output_type": "stream",
          "name": "stdout",
          "text": [
            "313/313 [==============================] - 2s 6ms/step\n",
            "[7.8696866e-07 2.7554759e-11 1.4166234e-06 2.9695133e-04 1.2436523e-07\n",
            " 3.0541341e-06 5.6136599e-11 9.9940908e-01 5.5053499e-07 2.8786011e-04]\n",
            "[0.8220398]\n"
          ]
        }
      ]
    },
    {
      "cell_type": "markdown",
      "source": [
        "첫번째 예측 값은 10개 분류 레이블에 대한 확률, 두번째 예측 값을 홀수일 확률.\n",
        "\n",
        "넘파이를 이용해 예측 확률을 실제 정답 레이블로 변환하자."
      ],
      "metadata": {
        "id": "DyptIoVFrO6s"
      }
    },
    {
      "cell_type": "code",
      "source": [
        "digit_labels=np.argmax(digit_preds, axis=1)\n",
        "digit_labels[0:10]"
      ],
      "metadata": {
        "colab": {
          "base_uri": "https://localhost:8080/"
        },
        "id": "lhEGr9r-qsj0",
        "outputId": "caf5a238-a633-459b-c703-09ce272330e0"
      },
      "execution_count": 25,
      "outputs": [
        {
          "output_type": "execute_result",
          "data": {
            "text/plain": [
              "array([7, 2, 1, 0, 4, 1, 4, 9, 6, 9])"
            ]
          },
          "metadata": {},
          "execution_count": 25
        }
      ]
    },
    {
      "cell_type": "markdown",
      "source": [
        "홀짝 여부에 대한 예측 레이블을 출력해보자. 임계값을 0.5로 지정."
      ],
      "metadata": {
        "id": "wLfW5bRRrdtK"
      }
    },
    {
      "cell_type": "code",
      "source": [
        "odd_labels=(odd_preds>0.5).astype(np.int).reshape(1, -1)[0]\n",
        "odd_labels[0:10]"
      ],
      "metadata": {
        "colab": {
          "base_uri": "https://localhost:8080/"
        },
        "id": "E9vtuDfSqsgu",
        "outputId": "dc143bdf-e1cd-4639-e43f-042de2c478a8"
      },
      "execution_count": 26,
      "outputs": [
        {
          "output_type": "stream",
          "name": "stderr",
          "text": [
            "<ipython-input-26-b68f671b10f9>:1: DeprecationWarning: `np.int` is a deprecated alias for the builtin `int`. To silence this warning, use `int` by itself. Doing this will not modify any behavior and is safe. When replacing `np.int`, you may wish to use e.g. `np.int64` or `np.int32` to specify the precision. If you wish to review your current use, check the release note link for additional information.\n",
            "Deprecated in NumPy 1.20; for more details and guidance: https://numpy.org/devdocs/release/1.20.0-notes.html#deprecations\n",
            "  odd_labels=(odd_preds>0.5).astype(np.int).reshape(1, -1)[0]\n"
          ]
        },
        {
          "output_type": "execute_result",
          "data": {
            "text/plain": [
              "array([1, 0, 1, 0, 0, 1, 1, 1, 0, 1])"
            ]
          },
          "metadata": {},
          "execution_count": 26
        }
      ]
    },
    {
      "cell_type": "markdown",
      "source": [
        "첫번째 이미지 7에 대해 홀수로, 두번째 이미지 2에 대해 짝수로 잘 분류하고 있다."
      ],
      "metadata": {
        "id": "S4huPScirs1B"
      }
    },
    {
      "cell_type": "markdown",
      "source": [
        "###3-4. 전이 학습\n",
        "앞에서 훈련한 모델 일부를 가져와 최종 출력층만 새롭게 추가해 모델을 재구성할 수 있다. 이처럼 기존에 학습된 모델을 사용해 새로운 모델을 만드는 것을 Transfer Learning 이라고 한다. (base 층을 재사용해 Top 층을 변경)\n",
        "\n",
        "앞에서 학습한 모델에서 입력 레이어부터 flatten_layer라는 name을 갖는 Flatten 층까지 해당하는 부분을 따로 추출해 base_model로 만든다. 모델 개요를 보면 (28, 28, 1) 이미지 받아 5408개의 피처로 특징을 추출해 출력하는 모델이다."
      ],
      "metadata": {
        "id": "vn9FP0T7OInL"
      }
    },
    {
      "cell_type": "code",
      "source": [
        "# 앞의 모델에서 flatten_layer 출력을 추출\n",
        "base_model_output=model.get_layer('flatten_layer').output\n",
        "\n",
        "# 앞의 출력을 출력으로 하는 모델 정의\n",
        "base_model=tf.keras.models.Model(inputs=model.input, outputs=base_model_output, name='base')\n",
        "base_model.summary()"
      ],
      "metadata": {
        "colab": {
          "base_uri": "https://localhost:8080/"
        },
        "id": "PHMsq7OHqseV",
        "outputId": "1f9bb7d0-0c01-4437-e4e3-3c5800dcf260"
      },
      "execution_count": 28,
      "outputs": [
        {
          "output_type": "stream",
          "name": "stdout",
          "text": [
            "Model: \"base\"\n",
            "_________________________________________________________________\n",
            " Layer (type)                Output Shape              Param #   \n",
            "=================================================================\n",
            " inputs (InputLayer)         [(None, 28, 28, 1)]       0         \n",
            "                                                                 \n",
            " conv2d_layer (Conv2D)       (None, 26, 26, 32)        320       \n",
            "                                                                 \n",
            " maxpool_layer (MaxPooling2D  (None, 13, 13, 32)       0         \n",
            " )                                                               \n",
            "                                                                 \n",
            " flatten_layer (Flatten)     (None, 5408)              0         \n",
            "                                                                 \n",
            "=================================================================\n",
            "Total params: 320\n",
            "Trainable params: 320\n",
            "Non-trainable params: 0\n",
            "_________________________________________________________________\n"
          ]
        }
      ]
    },
    {
      "cell_type": "markdown",
      "source": [
        "시각화하면 이해가 쉽다."
      ],
      "metadata": {
        "id": "eE28GFIgtVWP"
      }
    },
    {
      "cell_type": "code",
      "source": [
        "tf.keras.utils.plot_model(base_model, show_shapes=True, show_layer_names=True, to_file='base_model.png')"
      ],
      "metadata": {
        "colab": {
          "base_uri": "https://localhost:8080/",
          "height": 422
        },
        "id": "iO-OWcVFqsb4",
        "outputId": "75554c36-88b9-4197-da10-aff28c28999f"
      },
      "execution_count": 29,
      "outputs": [
        {
          "output_type": "execute_result",
          "data": {
            "image/png": "[encoded data removed]",
            "text/plain": [
              "<IPython.core.display.Image object>"
            ]
          },
          "metadata": {},
          "execution_count": 29
        }
      ]
    },
    {
      "cell_type": "markdown",
      "source": [
        "sequential api를 사용해 앞에서 정의한 base_model 레이어를 추가하고, 최종 분류기 역할을 하는 dense 레이어를 새롭게 이어 추가한다."
      ],
      "metadata": {
        "id": "xSafwAvttfJ9"
      }
    },
    {
      "cell_type": "code",
      "source": [
        "# Sequential API 적용\n",
        "digit_model=tf.keras.Sequential([\n",
        "    base_model, tf.keras.layers.Dense(10, activation='softmax')\n",
        "])\n",
        "digit_model.summary()"
      ],
      "metadata": {
        "colab": {
          "base_uri": "https://localhost:8080/"
        },
        "id": "45LQJnTjr2d-",
        "outputId": "6565e79d-7359-4a06-e55c-535b447f8a2f"
      },
      "execution_count": 30,
      "outputs": [
        {
          "output_type": "stream",
          "name": "stdout",
          "text": [
            "Model: \"sequential\"\n",
            "_________________________________________________________________\n",
            " Layer (type)                Output Shape              Param #   \n",
            "=================================================================\n",
            " base (Functional)           (None, 5408)              320       \n",
            "                                                                 \n",
            " dense_1 (Dense)             (None, 10)                54090     \n",
            "                                                                 \n",
            "=================================================================\n",
            "Total params: 54,410\n",
            "Trainable params: 54,410\n",
            "Non-trainable params: 0\n",
            "_________________________________________________________________\n"
          ]
        }
      ]
    },
    {
      "cell_type": "code",
      "source": [
        "tf.keras.utils.plot_model(digit_model, show_shapes=True, show_layer_names=True, to_file='digit_model.png')"
      ],
      "metadata": {
        "colab": {
          "base_uri": "https://localhost:8080/",
          "height": 312
        },
        "id": "Y5sv-Ti5r2bx",
        "outputId": "5888afe9-210b-45d0-ea3e-36a90f5316e8"
      },
      "execution_count": 31,
      "outputs": [
        {
          "output_type": "execute_result",
          "data": {
            "image/png": "[encoded data removed]",
            "text/plain": [
              "<IPython.core.display.Image object>"
            ]
          },
          "metadata": {},
          "execution_count": 31
        }
      ]
    },
    {
      "cell_type": "markdown",
      "source": [
        "구조를 보니 최종적으로 노드 10개를 가진 분류기 역할을 하는 Dense 레이어가 추가되었다.\n",
        "\n",
        "컴파일, 훈련하자."
      ],
      "metadata": {
        "id": "41AmvgOat5io"
      }
    },
    {
      "cell_type": "code",
      "source": [
        "# 모델 컴파일\n",
        "digit_model.compile(optimizer='adam', loss='sparse_categorical_crossentropy', metrics=['accuracy'])\n",
        "\n",
        "# 모델 훈련\n",
        "history=digit_model.fit(x_train_in, y_train, validation_data=(x_valid_in, y_valid), epochs=10)"
      ],
      "metadata": {
        "colab": {
          "base_uri": "https://localhost:8080/"
        },
        "id": "zH70LhwMr2Zl",
        "outputId": "56993f57-3603-4849-9cf4-d76306f99624"
      },
      "execution_count": 32,
      "outputs": [
        {
          "output_type": "stream",
          "name": "stdout",
          "text": [
            "Epoch 1/10\n",
            "1875/1875 [==============================] - 41s 21ms/step - loss: 0.6557 - accuracy: 0.8460 - val_loss: 0.3669 - val_accuracy: 0.8990\n",
            "Epoch 2/10\n",
            "1875/1875 [==============================] - 49s 26ms/step - loss: 0.3469 - accuracy: 0.8999 - val_loss: 0.3141 - val_accuracy: 0.9117\n",
            "Epoch 3/10\n",
            "1875/1875 [==============================] - 42s 22ms/step - loss: 0.3133 - accuracy: 0.9087 - val_loss: 0.2903 - val_accuracy: 0.9145\n",
            "Epoch 4/10\n",
            "1875/1875 [==============================] - 44s 24ms/step - loss: 0.3000 - accuracy: 0.9129 - val_loss: 0.2814 - val_accuracy: 0.9153\n",
            "Epoch 5/10\n",
            "1875/1875 [==============================] - 40s 21ms/step - loss: 0.2912 - accuracy: 0.9151 - val_loss: 0.2761 - val_accuracy: 0.9203\n",
            "Epoch 6/10\n",
            "1875/1875 [==============================] - 40s 21ms/step - loss: 0.2858 - accuracy: 0.9169 - val_loss: 0.2774 - val_accuracy: 0.9205\n",
            "Epoch 7/10\n",
            "1875/1875 [==============================] - 56s 30ms/step - loss: 0.2818 - accuracy: 0.9186 - val_loss: 0.2735 - val_accuracy: 0.9203\n",
            "Epoch 8/10\n",
            "1875/1875 [==============================] - 42s 22ms/step - loss: 0.2791 - accuracy: 0.9194 - val_loss: 0.2691 - val_accuracy: 0.9224\n",
            "Epoch 9/10\n",
            "1875/1875 [==============================] - 38s 21ms/step - loss: 0.2759 - accuracy: 0.9199 - val_loss: 0.2697 - val_accuracy: 0.9227\n",
            "Epoch 10/10\n",
            "1875/1875 [==============================] - 42s 22ms/step - loss: 0.2734 - accuracy: 0.9207 - val_loss: 0.2648 - val_accuracy: 0.9246\n"
          ]
        }
      ]
    },
    {
      "cell_type": "markdown",
      "source": [
        "약 92% 정확도.\n",
        "\n",
        "모델 인스턴스는 trainable 속성을 갖는다. 이 속성을 False로 지정하면 모델의 파라미터 값이 고정되어 업데이트되지 않는다. 이런 방식으로 base_model_frozen을 구성하자. 그럼 훈련 가능한 파라미터 개수가 0."
      ],
      "metadata": {
        "id": "YK2mlZIEuTJ-"
      }
    },
    {
      "cell_type": "markdown",
      "source": [
        "* Freeze Model"
      ],
      "metadata": {
        "id": "BbvmOP-wwhXv"
      }
    },
    {
      "cell_type": "code",
      "source": [
        "# 베이스 모델의 가중치 고정 (Freeze Model)\n",
        "\n",
        "base_model_frozen=tf.keras.models.Model(inputs=model.input, outputs=base_model_output, name='base_frozen')\n",
        "base_model_frozen.trainable=False\n",
        "base_model_frozen.summary()"
      ],
      "metadata": {
        "colab": {
          "base_uri": "https://localhost:8080/"
        },
        "id": "cvpqay35r2XU",
        "outputId": "d53866e5-bf17-454d-8665-102144a88b90"
      },
      "execution_count": 33,
      "outputs": [
        {
          "output_type": "stream",
          "name": "stdout",
          "text": [
            "Model: \"base_frozen\"\n",
            "_________________________________________________________________\n",
            " Layer (type)                Output Shape              Param #   \n",
            "=================================================================\n",
            " inputs (InputLayer)         [(None, 28, 28, 1)]       0         \n",
            "                                                                 \n",
            " conv2d_layer (Conv2D)       (None, 26, 26, 32)        320       \n",
            "                                                                 \n",
            " maxpool_layer (MaxPooling2D  (None, 13, 13, 32)       0         \n",
            " )                                                               \n",
            "                                                                 \n",
            " flatten_layer (Flatten)     (None, 5408)              0         \n",
            "                                                                 \n",
            "=================================================================\n",
            "Total params: 320\n",
            "Trainable params: 0\n",
            "Non-trainable params: 320\n",
            "_________________________________________________________________\n"
          ]
        }
      ]
    },
    {
      "cell_type": "markdown",
      "source": [
        "이번에는 파라미터를 고정한 base_model_input과 새로운 분류기 dense 레이어를 functional api를 적용해 구성해보자. sequential api 구성과의 차이점에 유의하자."
      ],
      "metadata": {
        "id": "kC404YIXuuyJ"
      }
    },
    {
      "cell_type": "code",
      "source": [
        "# Functional API 적용\n",
        "dense_output=tf.keras.layers.Dense(10, activation='softmax')(base_model_frozen.output)\n",
        "digit_model_frozen=tf.keras.models.Model(inputs=base_model_frozen.input, outputs=dense_output)\n",
        "digit_model_frozen.summary()"
      ],
      "metadata": {
        "colab": {
          "base_uri": "https://localhost:8080/"
        },
        "id": "zOeS9O70r2U1",
        "outputId": "ea077015-1115-431a-f4c1-075e4b4e1b9d"
      },
      "execution_count": 34,
      "outputs": [
        {
          "output_type": "stream",
          "name": "stdout",
          "text": [
            "Model: \"model_2\"\n",
            "_________________________________________________________________\n",
            " Layer (type)                Output Shape              Param #   \n",
            "=================================================================\n",
            " inputs (InputLayer)         [(None, 28, 28, 1)]       0         \n",
            "                                                                 \n",
            " conv2d_layer (Conv2D)       (None, 26, 26, 32)        320       \n",
            "                                                                 \n",
            " maxpool_layer (MaxPooling2D  (None, 13, 13, 32)       0         \n",
            " )                                                               \n",
            "                                                                 \n",
            " flatten_layer (Flatten)     (None, 5408)              0         \n",
            "                                                                 \n",
            " dense_2 (Dense)             (None, 10)                54090     \n",
            "                                                                 \n",
            "=================================================================\n",
            "Total params: 54,410\n",
            "Trainable params: 54,090\n",
            "Non-trainable params: 320\n",
            "_________________________________________________________________\n"
          ]
        }
      ]
    },
    {
      "cell_type": "markdown",
      "source": [
        "총 파라미터는 54410이고 앞에서 고정한 320개의 파라미터는 훈련이 불가능. 즉, flatten 레이어 이전에 존재하는 Conv2D 레이어의 파라미터 320개는 포함되지 않게 훈련된다.\n",
        "\n",
        "컴파일, 훈련하자."
      ],
      "metadata": {
        "id": "8clBtnYmu-xu"
      }
    },
    {
      "cell_type": "code",
      "source": [
        "# 모델 컴파일\n",
        "digit_model_frozen.compile(optimizer='adam', loss='sparse_categorical_crossentropy', metrics=['accuracy'])\n",
        "\n",
        "# 모델 훈련\n",
        "history=digit_model_frozen.fit(x_train_in, y_train, validation_data=(x_valid_in, y_valid), epochs=10)"
      ],
      "metadata": {
        "colab": {
          "base_uri": "https://localhost:8080/"
        },
        "id": "eS8yev2avlKh",
        "outputId": "4e7940dd-4dc2-4aaa-d700-23a7eb958972"
      },
      "execution_count": 35,
      "outputs": [
        {
          "output_type": "stream",
          "name": "stdout",
          "text": [
            "Epoch 1/10\n",
            "1875/1875 [==============================] - 21s 11ms/step - loss: 0.5563 - accuracy: 0.8640 - val_loss: 0.3424 - val_accuracy: 0.9041\n",
            "Epoch 2/10\n",
            "1875/1875 [==============================] - 23s 12ms/step - loss: 0.3340 - accuracy: 0.9045 - val_loss: 0.2980 - val_accuracy: 0.9126\n",
            "Epoch 3/10\n",
            "1875/1875 [==============================] - 25s 13ms/step - loss: 0.3073 - accuracy: 0.9110 - val_loss: 0.2908 - val_accuracy: 0.9163\n",
            "Epoch 4/10\n",
            "1875/1875 [==============================] - 20s 10ms/step - loss: 0.2952 - accuracy: 0.9143 - val_loss: 0.2760 - val_accuracy: 0.9206\n",
            "Epoch 5/10\n",
            "1875/1875 [==============================] - 21s 11ms/step - loss: 0.2877 - accuracy: 0.9161 - val_loss: 0.2754 - val_accuracy: 0.9191\n",
            "Epoch 6/10\n",
            "1875/1875 [==============================] - 20s 11ms/step - loss: 0.2822 - accuracy: 0.9183 - val_loss: 0.2768 - val_accuracy: 0.9176\n",
            "Epoch 7/10\n",
            "1875/1875 [==============================] - 20s 11ms/step - loss: 0.2795 - accuracy: 0.9184 - val_loss: 0.2662 - val_accuracy: 0.9230\n",
            "Epoch 8/10\n",
            "1875/1875 [==============================] - 22s 12ms/step - loss: 0.2761 - accuracy: 0.9203 - val_loss: 0.2651 - val_accuracy: 0.9232\n",
            "Epoch 9/10\n",
            "1875/1875 [==============================] - 24s 13ms/step - loss: 0.2735 - accuracy: 0.9202 - val_loss: 0.2666 - val_accuracy: 0.9225\n",
            "Epoch 10/10\n",
            "1875/1875 [==============================] - 20s 11ms/step - loss: 0.2714 - accuracy: 0.9216 - val_loss: 0.2666 - val_accuracy: 0.9246\n"
          ]
        }
      ]
    },
    {
      "cell_type": "markdown",
      "source": [
        "모델 전체가 아니라 특정 레이어를 지정해 파라미터가 업데이트 되지 않도록 고정하는 방법도 가능하다. Conv2D 레이어를 취소하고 trainable 속성을 false로 지정해보자."
      ],
      "metadata": {
        "id": "SOBA9kAlvtiy"
      }
    },
    {
      "cell_type": "markdown",
      "source": [
        "* Freeze Layer"
      ],
      "metadata": {
        "id": "tXTxeHMnwkOK"
      }
    },
    {
      "cell_type": "code",
      "source": [
        "# 베이스 모델의 Conv2D 레이어의 가중치만 고정 (Freeze Layer)\n",
        "\n",
        "base_model_frozen2=tf.keras.models.Model(inputs=model.input, outputs=base_model_output, name='base_frozen2')\n",
        "base_model_frozen2.get_layer('conv2d_layer').trainable=False\n",
        "base_model_frozen2.summary()"
      ],
      "metadata": {
        "colab": {
          "base_uri": "https://localhost:8080/"
        },
        "id": "krChsQ4rvlaT",
        "outputId": "4e9cd837-ccdc-4d19-c332-47cb58986887"
      },
      "execution_count": 37,
      "outputs": [
        {
          "output_type": "stream",
          "name": "stdout",
          "text": [
            "Model: \"base_frozen2\"\n",
            "_________________________________________________________________\n",
            " Layer (type)                Output Shape              Param #   \n",
            "=================================================================\n",
            " inputs (InputLayer)         [(None, 28, 28, 1)]       0         \n",
            "                                                                 \n",
            " conv2d_layer (Conv2D)       (None, 26, 26, 32)        320       \n",
            "                                                                 \n",
            " maxpool_layer (MaxPooling2D  (None, 13, 13, 32)       0         \n",
            " )                                                               \n",
            "                                                                 \n",
            " flatten_layer (Flatten)     (None, 5408)              0         \n",
            "                                                                 \n",
            "=================================================================\n",
            "Total params: 320\n",
            "Trainable params: 0\n",
            "Non-trainable params: 320\n",
            "_________________________________________________________________\n"
          ]
        }
      ]
    },
    {
      "cell_type": "markdown",
      "source": [
        "앞에서 고정한 모델에 새로운 분류기 dense 레이어를 연결해 모델을 구성하자."
      ],
      "metadata": {
        "id": "vzxDcdhjwoCj"
      }
    },
    {
      "cell_type": "code",
      "source": [
        "# Functional API 적용\n",
        "dense_output2=tf.keras.layers.Dense(10, activation='softmax')(base_model_frozen2.output)\n",
        "digit_model_frozen2=tf.keras.models.Model(inputs=base_model_frozen2.input, outputs=dense_output2)\n",
        "digit_model_frozen2.summary()"
      ],
      "metadata": {
        "colab": {
          "base_uri": "https://localhost:8080/"
        },
        "id": "8VGDngERwEne",
        "outputId": "684d6fc1-b934-438e-fc11-bcd70ddd3264"
      },
      "execution_count": 38,
      "outputs": [
        {
          "output_type": "stream",
          "name": "stdout",
          "text": [
            "Model: \"model_3\"\n",
            "_________________________________________________________________\n",
            " Layer (type)                Output Shape              Param #   \n",
            "=================================================================\n",
            " inputs (InputLayer)         [(None, 28, 28, 1)]       0         \n",
            "                                                                 \n",
            " conv2d_layer (Conv2D)       (None, 26, 26, 32)        320       \n",
            "                                                                 \n",
            " maxpool_layer (MaxPooling2D  (None, 13, 13, 32)       0         \n",
            " )                                                               \n",
            "                                                                 \n",
            " flatten_layer (Flatten)     (None, 5408)              0         \n",
            "                                                                 \n",
            " dense_3 (Dense)             (None, 10)                54090     \n",
            "                                                                 \n",
            "=================================================================\n",
            "Total params: 54,410\n",
            "Trainable params: 54,090\n",
            "Non-trainable params: 320\n",
            "_________________________________________________________________\n"
          ]
        }
      ]
    },
    {
      "cell_type": "markdown",
      "source": [
        "컴파일, 훈련시키자."
      ],
      "metadata": {
        "id": "a-2QGgGNw01i"
      }
    },
    {
      "cell_type": "code",
      "source": [
        "# 모델 컴파일\n",
        "digit_model_frozen2.compile(optimizer='adam', loss='sparse_categorical_crossentropy', metrics=['accuracy'])\n",
        "\n",
        "# 모델 훈련\n",
        "history=digit_model_frozen2.fit(x_train_in, y_train, validation_data=(x_valid_in, y_valid), epochs=10)"
      ],
      "metadata": {
        "colab": {
          "base_uri": "https://localhost:8080/"
        },
        "id": "wdLsXNlDwElH",
        "outputId": "38b66112-ae8f-4a19-e293-597a4f396180"
      },
      "execution_count": 39,
      "outputs": [
        {
          "output_type": "stream",
          "name": "stdout",
          "text": [
            "Epoch 1/10\n",
            "1875/1875 [==============================] - 18s 9ms/step - loss: 0.5582 - accuracy: 0.8644 - val_loss: 0.3435 - val_accuracy: 0.9066\n",
            "Epoch 2/10\n",
            "1875/1875 [==============================] - 17s 9ms/step - loss: 0.3333 - accuracy: 0.9042 - val_loss: 0.2999 - val_accuracy: 0.9140\n",
            "Epoch 3/10\n",
            "1875/1875 [==============================] - 17s 9ms/step - loss: 0.3074 - accuracy: 0.9103 - val_loss: 0.2865 - val_accuracy: 0.9160\n",
            "Epoch 4/10\n",
            "1875/1875 [==============================] - 17s 9ms/step - loss: 0.2951 - accuracy: 0.9141 - val_loss: 0.2781 - val_accuracy: 0.9195\n",
            "Epoch 5/10\n",
            "1875/1875 [==============================] - 17s 9ms/step - loss: 0.2878 - accuracy: 0.9158 - val_loss: 0.2732 - val_accuracy: 0.9208\n",
            "Epoch 6/10\n",
            "1875/1875 [==============================] - 16s 9ms/step - loss: 0.2828 - accuracy: 0.9178 - val_loss: 0.2687 - val_accuracy: 0.9220\n",
            "Epoch 7/10\n",
            "1875/1875 [==============================] - 17s 9ms/step - loss: 0.2790 - accuracy: 0.9188 - val_loss: 0.2683 - val_accuracy: 0.9239\n",
            "Epoch 8/10\n",
            "1875/1875 [==============================] - 18s 10ms/step - loss: 0.2762 - accuracy: 0.9202 - val_loss: 0.2671 - val_accuracy: 0.9236\n",
            "Epoch 9/10\n",
            "1875/1875 [==============================] - 18s 9ms/step - loss: 0.2732 - accuracy: 0.9212 - val_loss: 0.2642 - val_accuracy: 0.9241\n",
            "Epoch 10/10\n",
            "1875/1875 [==============================] - 17s 9ms/step - loss: 0.2717 - accuracy: 0.9207 - val_loss: 0.2639 - val_accuracy: 0.9254\n"
          ]
        }
      ]
    }
  ]
}