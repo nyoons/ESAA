{
  "nbformat": 4,
  "nbformat_minor": 0,
  "metadata": {
    "colab": {
      "provenance": [],
      "authorship_tag": "ABX9TyMS7YAO305+b+9XcjCU2qRP",
      "include_colab_link": true
    },
    "kernelspec": {
      "name": "python3",
      "display_name": "Python 3"
    },
    "language_info": {
      "name": "python"
    }
  },
  "cells": [
    {
      "cell_type": "markdown",
      "metadata": {
        "id": "view-in-github",
        "colab_type": "text"
      },
      "source": [
        "<a href=\"https://colab.research.google.com/github/nyoons/ESAA/blob/main/2022_09_26_%EA%B3%BC%EC%A0%9C_%EB%91%90%EC%9E%87_%ED%8C%90%EB%8B%A4%EC%8A%A4_%EC%9E%85%EB%AC%B8.ipynb\" target=\"_parent\"><img src=\"https://colab.research.google.com/assets/colab-badge.svg\" alt=\"Open In Colab\"/></a>"
      ]
    },
    {
      "cell_type": "markdown",
      "source": [
        "두잇 판다스 입문\n",
        "\n",
        "#04. 그래프 그리기\n",
        "##04-1. 데이터 시각화가 필요한 이유\n",
        ">**앤스콤 4분할 그래프 살펴보기**\n",
        "<br/>데이터 시각화를 보여주는 전형적인 사례 앤스콤 4분할 그래프.\n",
        "<br/>함정? 평균, 분산, 상관관계, 회귀선 등이 같은 4개의 데이터 그룹의 데이터가 모두 같을 것이라는 착각. 하지만 시각화하면 서로 다른 데이터 패턴을 갖는다는 것을 바로 알 수 있다.\n",
        "\n",
        "\n"
      ],
      "metadata": {
        "id": "Ltm3D1WaiTLG"
      }
    },
    {
      "cell_type": "code",
      "source": [
        "#01. 앤스콤 데이터 집합 불러오기\n",
        "import seaborn as sns\n",
        "\n",
        "anscombe=sns.load_dataset(\"anscombe\")\n",
        "print(anscombe)\n",
        "print(type(anscombe))\n",
        "\n",
        "#02. matplotlib 라이브러리로 그래프 그리기 -> 먼저 불러오자\n",
        "%matplotlib notebook\n",
        "import matplotlib.pyplot as plt\n",
        "%matplotlib inline #이거 추가해야 그래프 나옴!!\n",
        "\n",
        "#03. anscombe 데이터프레임의 dataset 열에서 데이터 값이 I인 것만 추출하자\n",
        "dataset_1=anscombe[anscombe['dataset']=='I']"
      ],
      "metadata": {
        "colab": {
          "base_uri": "https://localhost:8080/",
          "height": 852
        },
        "id": "wFUeMPV1juTc",
        "outputId": "18a54dfe-5f9f-49b0-e083-c4e193d8e091"
      },
      "execution_count": 16,
      "outputs": [
        {
          "output_type": "stream",
          "name": "stdout",
          "text": [
            "   dataset     x      y\n",
            "0        I  10.0   8.04\n",
            "1        I   8.0   6.95\n",
            "2        I  13.0   7.58\n",
            "3        I   9.0   8.81\n",
            "4        I  11.0   8.33\n",
            "5        I  14.0   9.96\n",
            "6        I   6.0   7.24\n",
            "7        I   4.0   4.26\n",
            "8        I  12.0  10.84\n",
            "9        I   7.0   4.82\n",
            "10       I   5.0   5.68\n",
            "11      II  10.0   9.14\n",
            "12      II   8.0   8.14\n",
            "13      II  13.0   8.74\n",
            "14      II   9.0   8.77\n",
            "15      II  11.0   9.26\n",
            "16      II  14.0   8.10\n",
            "17      II   6.0   6.13\n",
            "18      II   4.0   3.10\n",
            "19      II  12.0   9.13\n",
            "20      II   7.0   7.26\n",
            "21      II   5.0   4.74\n",
            "22     III  10.0   7.46\n",
            "23     III   8.0   6.77\n",
            "24     III  13.0  12.74\n",
            "25     III   9.0   7.11\n",
            "26     III  11.0   7.81\n",
            "27     III  14.0   8.84\n",
            "28     III   6.0   6.08\n",
            "29     III   4.0   5.39\n",
            "30     III  12.0   8.15\n",
            "31     III   7.0   6.42\n",
            "32     III   5.0   5.73\n",
            "33      IV   8.0   6.58\n",
            "34      IV   8.0   5.76\n",
            "35      IV   8.0   7.71\n",
            "36      IV   8.0   8.84\n",
            "37      IV   8.0   8.47\n",
            "38      IV   8.0   7.04\n",
            "39      IV   8.0   5.25\n",
            "40      IV  19.0  12.50\n",
            "41      IV   8.0   5.56\n",
            "42      IV   8.0   7.91\n",
            "43      IV   8.0   6.89\n",
            "<class 'pandas.core.frame.DataFrame'>\n"
          ]
        }
      ]
    },
    {
      "cell_type": "code",
      "source": [
        "#04. 선 그래프는 plot 메서드로\n",
        "plt.plot(dataset_1['x'], dataset_1['y']) #전달하자"
      ],
      "metadata": {
        "colab": {
          "base_uri": "https://localhost:8080/",
          "height": 283
        },
        "id": "D_9EXxiilVCb",
        "outputId": "38f34e87-0a0c-4cb7-edba-3a41cb10d1ed"
      },
      "execution_count": 21,
      "outputs": [
        {
          "output_type": "execute_result",
          "data": {
            "text/plain": [
              "[<matplotlib.lines.Line2D at 0x7f8d0dd8aed0>]"
            ]
          },
          "metadata": {},
          "execution_count": 21
        },
        {
          "output_type": "display_data",
          "data": {
            "text/plain": [
              "<Figure size 432x288 with 1 Axes>"
            ],
            "image/png": "[encoded data removed]"
          },
          "metadata": {
            "needs_background": "light"
          }
        }
      ]
    },
    {
      "cell_type": "code",
      "source": [
        "#05. plot 메서드는 기본적으로 선으로 그래프를 그린다. 점으로 하려면 o를 세번째 인자로 전달한다\n",
        "plt.plot(dataset_1['x'], dataset_1['y'], 'o')"
      ],
      "metadata": {
        "colab": {
          "base_uri": "https://localhost:8080/",
          "height": 283
        },
        "id": "vAMsW11-mDLl",
        "outputId": "f3570670-0ee9-47d4-8b28-b92449db63d5"
      },
      "execution_count": 22,
      "outputs": [
        {
          "output_type": "execute_result",
          "data": {
            "text/plain": [
              "[<matplotlib.lines.Line2D at 0x7f8d0dd09350>]"
            ]
          },
          "metadata": {},
          "execution_count": 22
        },
        {
          "output_type": "display_data",
          "data": {
            "text/plain": [
              "<Figure size 432x288 with 1 Axes>"
            ],
            "image/png": "[encoded data removed]"
          },
          "metadata": {
            "needs_background": "light"
          }
        }
      ]
    },
    {
      "cell_type": "markdown",
      "source": [
        ">**앤스콤 데이터 집합 모두 사용해 그래프 만들기**\n",
        "<br/>matplotlib 라이브러리로 그래프 그리는 방법\n",
        "1. 전체 그래프가 위치할 기본 틀을 만든다.\n",
        "2. 그래프를 그려 넣을 그래프 격자를 만든다.\n",
        "3. 격자에 그래프를 하나씩 추가한다. 격자에 그래프가 추가되는 순서는 왼쪽에서 오른쪽\n",
        "4. 격자의 첫 행이 다 차면 두번째 행에 그래프를 그려 넣는다\n",
        "<br/>즉 앤스콤으로 그릴 그래프의 격자 크기는 4이고, 세번째 그래프는 2행1열에 위치할 것임. "
      ],
      "metadata": {
        "id": "C7_GqziJnGbG"
      }
    },
    {
      "cell_type": "code",
      "source": [
        "#01. 앤스콤 df의 dataset 열 값이 I, II, III, IV 인 것을 불린 추출하여 dataset_1,2,3,4에 저장한다\n",
        "dataset_2=anscombe[anscombe['dataset']=='II']\n",
        "dataset_3=anscombe[anscombe['dataset']=='III']\n",
        "dataset_4=anscombe[anscombe['dataset']=='IV']\n",
        "\n",
        "#02. 그래프 격자가 위치할 기본 틀을 만든다\n",
        "fig=plt.figure()\n",
        "\n",
        "#03. add_subplot 메서드로 그래프 격자를 그린다. 기본 틀(fig)에 격자를 추가한다는 기분으로 사용.\n",
        "axes1=fig.add_subplot(2,2,1)\n",
        "axes2=fig.add_subplot(2,2,2)\n",
        "axes3=fig.add_subplot(2,2,3)\n",
        "axes4=fig.add_subplot(2,2,4)\n",
        "\n",
        "#04. plot 메서드에 데이터 전달하여 그래프 그리자. 그래프를 확인하려면 반드시 fig 입력!!!!!\n",
        "axes1.plot(dataset_1['x'], dataset_1['y'], 'o')\n",
        "axes2.plot(dataset_2['x'], dataset_2['y'], 'o')\n",
        "axes3.plot(dataset_3['x'], dataset_3['y'], 'o')\n",
        "axes4.plot(dataset_4['x'], dataset_4['y'], 'o')\n",
        "\n",
        "#05. 그래프 격자에 제목도 추가해보자\n",
        "axes1.set_title('dataset_1')\n",
        "axes2.set_title('dataset_2')\n",
        "axes3.set_title('dataset_3')\n",
        "axes4.set_title('dataset_4')\n",
        "\n",
        "#06. 기본 틀(fig)에도 제목 추가하자\n",
        "fig.suptitle('Anscombe Data')\n",
        "\n",
        "#07. 겹치는 부분을 tight_layout 메서드로 레이아웃 조절하자\n",
        "fig.tight_layout()\n",
        "#원래 fig 입력해야하지만 한번에 해서 필요없는듯"
      ],
      "metadata": {
        "colab": {
          "base_uri": "https://localhost:8080/",
          "height": 302
        },
        "id": "ZcODXPDUn3ej",
        "outputId": "d5fbea4a-79c5-42c7-9792-389b61b6726d"
      },
      "execution_count": 31,
      "outputs": [
        {
          "output_type": "display_data",
          "data": {
            "text/plain": [
              "<Figure size 432x288 with 4 Axes>"
            ],
            "image/png": "[encoded data removed]"
          },
          "metadata": {
            "needs_background": "light"
          }
        }
      ]
    },
    {
      "cell_type": "markdown",
      "source": [
        "##04-2. matplotlib 라이브러리 자유자재로 사용하기\n",
        ">**기초 그래프 그리기**\n",
        "<br/>seaborn 라이브러리의 tips라는 데이터 집합으로 그려보자"
      ],
      "metadata": {
        "id": "oA6W3lv8juo3"
      }
    },
    {
      "cell_type": "code",
      "source": [
        "#01. tips 불러오자\n",
        "tips=sns.load_dataset(\"tips\")\n",
        "print(tips.head())\n",
        "print(type(tips))\n",
        "\n",
        "#02. total_bill 열을 변수로 일변량 그래프인 히스토그램 그리자\n",
        "#03. 기본 틀fig 마련하고 격자axes1를 구성하는 것까지는 앞과 동일\n",
        "fig=plt.figure()\n",
        "axes1=fig.add_subplot(1,1,1)\n",
        "\n",
        "#04. hist메서드에 total_bill 열을 전달하면 히스토그램 완성. x축 간격은 bins 인자값으로 조정.\n",
        "axes1.hist(tips['total_bill'], bins=10)\n",
        "axes1.set_title('Histogram of Total Bill')\n",
        "axes1.set_xlabel('Frequency') #축 제목 추가\n",
        "axes1.set_ylabel('Total Bill')\n",
        "\n",
        "#05. total_bill과 tip을 변수로 이변량 그래프인 산점도도 그려보자.\n",
        "#06. 기본 틀, 그래프 격자 만들고 scatter 메서드에 열을 전달하면 그래프 나타남\n",
        "scatter_plot=plt.figure()\n",
        "axes1=scatter_plot.add_subplot(1,1,1)\n",
        "axes1.scatter(tips['total_bill'], tips['tip'])\n",
        "axes1.set_title('Scatterplot of Total Bill vs Tip')\n",
        "axes1.set_xlabel('Total Bill')\n",
        "axes1.set_ylabel('Tip')\n",
        "\n",
        "#07. 이산형과 연속형을 함께 사용하는 박스 그래프 그려보자.\n",
        "#08. boxplot 메서드 사용.\n",
        "boxplot=plt.figure()\n",
        "axes1=boxplot.add_subplot(1,1,1)\n",
        "axes1.boxplot([tips[tips['sex']=='Female']['tip'],\n",
        "               tips[tips['sex']=='Male']['tip']],\n",
        "               labels=['Female', 'Male']) #복잡한데, tips DF에서 성별이 여성인 데이터와 남성인 데이터에서 tip 열 데이터만 추출해 리스트에 담아 전달한 것\n",
        "axes1.set_xlabel('Sex')\n",
        "axes1.set_ylabel('Tip')\n",
        "axes1.set_title('Boxplot of Tips by Sex')"
      ],
      "metadata": {
        "colab": {
          "base_uri": "https://localhost:8080/",
          "height": 1000
        },
        "id": "njcAdLN-ju7r",
        "outputId": "a169ba68-769f-45ea-a44e-ffe421df74f8"
      },
      "execution_count": 36,
      "outputs": [
        {
          "output_type": "stream",
          "name": "stdout",
          "text": [
            "   total_bill   tip     sex smoker  day    time  size\n",
            "0       16.99  1.01  Female     No  Sun  Dinner     2\n",
            "1       10.34  1.66    Male     No  Sun  Dinner     3\n",
            "2       21.01  3.50    Male     No  Sun  Dinner     3\n",
            "3       23.68  3.31    Male     No  Sun  Dinner     2\n",
            "4       24.59  3.61  Female     No  Sun  Dinner     4\n",
            "<class 'pandas.core.frame.DataFrame'>\n"
          ]
        },
        {
          "output_type": "stream",
          "name": "stderr",
          "text": [
            "/usr/local/lib/python3.7/dist-packages/matplotlib/cbook/__init__.py:1376: VisibleDeprecationWarning: Creating an ndarray from ragged nested sequences (which is a list-or-tuple of lists-or-tuples-or ndarrays with different lengths or shapes) is deprecated. If you meant to do this, you must specify 'dtype=object' when creating the ndarray.\n",
            "  X = np.atleast_1d(X.T if isinstance(X, np.ndarray) else np.asarray(X))\n"
          ]
        },
        {
          "output_type": "execute_result",
          "data": {
            "text/plain": [
              "Text(0.5, 1.0, 'Boxplot of Tips by Sex')"
            ]
          },
          "metadata": {},
          "execution_count": 36
        },
        {
          "output_type": "display_data",
          "data": {
            "text/plain": [
              "<Figure size 432x288 with 1 Axes>"
            ],
            "image/png": "[encoded data removed]"
          },
          "metadata": {
            "needs_background": "light"
          }
        },
        {
          "output_type": "display_data",
          "data": {
            "text/plain": [
              "<Figure size 432x288 with 1 Axes>"
            ],
            "image/png": "[encoded data removed]"
          },
          "metadata": {
            "needs_background": "light"
          }
        },
        {
          "output_type": "display_data",
          "data": {
            "text/plain": [
              "<Figure size 432x288 with 1 Axes>"
            ],
            "image/png": "[encoded data removed]"
          },
          "metadata": {
            "needs_background": "light"
          }
        }
      ]
    },
    {
      "cell_type": "markdown",
      "source": [
        ">**다변량 그래프 그리기**\n"
      ],
      "metadata": {
        "id": "SlJn_fZ0tj3v"
      }
    },
    {
      "cell_type": "markdown",
      "source": [
        "##04-3. seaborn 라이브러리 자유자재로 사용하기\n"
      ],
      "metadata": {
        "id": "cUieTXOMjvMc"
      }
    },
    {
      "cell_type": "code",
      "source": [],
      "metadata": {
        "id": "ePbToKx3jve2"
      },
      "execution_count": null,
      "outputs": []
    },
    {
      "cell_type": "markdown",
      "source": [
        "##04-4. 데이터프레임과 시리즈로 그래프 그리기\n"
      ],
      "metadata": {
        "id": "hIMbgZpDjvuf"
      }
    },
    {
      "cell_type": "code",
      "source": [],
      "metadata": {
        "id": "BSlYgCznjv_R"
      },
      "execution_count": null,
      "outputs": []
    },
    {
      "cell_type": "markdown",
      "source": [
        "##04-5. seaborn 라이브러리로 그래프 스타일 설정하기"
      ],
      "metadata": {
        "id": "72VGUaIVjwNt"
      }
    },
    {
      "cell_type": "code",
      "source": [],
      "metadata": {
        "id": "kW0x77w_j54W"
      },
      "execution_count": null,
      "outputs": []
    }
  ]
}