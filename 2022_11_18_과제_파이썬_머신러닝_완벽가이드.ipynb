{
  "nbformat": 4,
  "nbformat_minor": 0,
  "metadata": {
    "colab": {
      "provenance": [],
      "authorship_tag": "ABX9TyM00cj/T7l3ioChZhXw7mDn",
      "include_colab_link": true
    },
    "kernelspec": {
      "name": "python3",
      "display_name": "Python 3"
    },
    "language_info": {
      "name": "python"
    }
  },
  "cells": [
    {
      "cell_type": "markdown",
      "metadata": {
        "id": "view-in-github",
        "colab_type": "text"
      },
      "source": [
        "<a href=\"https://colab.research.google.com/github/nyoons/ESAA/blob/main/2022_11_18_%EA%B3%BC%EC%A0%9C_%ED%8C%8C%EC%9D%B4%EC%8D%AC_%EB%A8%B8%EC%8B%A0%EB%9F%AC%EB%8B%9D_%EC%99%84%EB%B2%BD%EA%B0%80%EC%9D%B4%EB%93%9C.ipynb\" target=\"_parent\"><img src=\"https://colab.research.google.com/assets/colab-badge.svg\" alt=\"Open In Colab\"/></a>"
      ]
    },
    {
      "cell_type": "markdown",
      "source": [
        "> **08. 분류 실습 - 캐글 산탄데르 고객 만족 예측**\n",
        "\n",
        "370개의 피처. 이름만으로는 어떤 속성인지 추정 불가. 클래스 레이블 명은 TARGET이며 이 값이 1이면 불만, 0이면 만족. 성능은 ROC-AUC로 평가. 대부분이 만족이고 불만족은 일부라서 정확도보다는 ROC-AUC가 적합.\n",
        "\n",
        "**데이터 전처리**\n",
        "\n",
        "XGBoost는 사이킷런 래퍼를 이용."
      ],
      "metadata": {
        "id": "aG8nXo2uUfkJ"
      }
    },
    {
      "cell_type": "code",
      "execution_count": null,
      "metadata": {
        "colab": {
          "base_uri": "https://localhost:8080/",
          "height": 255
        },
        "id": "m6bqphjtSv-l",
        "outputId": "f2671595-e7c4-43a9-9fd6-607ba7864a55"
      },
      "outputs": [
        {
          "output_type": "stream",
          "name": "stdout",
          "text": [
            "dataset shape: (76020, 371)\n"
          ]
        },
        {
          "output_type": "execute_result",
          "data": {
            "text/plain": [
              "   ID  var3  var15  imp_ent_var16_ult1  imp_op_var39_comer_ult1  \\\n",
              "0   1     2     23                 0.0                      0.0   \n",
              "1   3     2     34                 0.0                      0.0   \n",
              "2   4     2     23                 0.0                      0.0   \n",
              "\n",
              "   imp_op_var39_comer_ult3  imp_op_var40_comer_ult1  imp_op_var40_comer_ult3  \\\n",
              "0                      0.0                      0.0                      0.0   \n",
              "1                      0.0                      0.0                      0.0   \n",
              "2                      0.0                      0.0                      0.0   \n",
              "\n",
              "   imp_op_var40_efect_ult1  imp_op_var40_efect_ult3  ...  \\\n",
              "0                      0.0                      0.0  ...   \n",
              "1                      0.0                      0.0  ...   \n",
              "2                      0.0                      0.0  ...   \n",
              "\n",
              "   saldo_medio_var33_hace2  saldo_medio_var33_hace3  saldo_medio_var33_ult1  \\\n",
              "0                      0.0                      0.0                     0.0   \n",
              "1                      0.0                      0.0                     0.0   \n",
              "2                      0.0                      0.0                     0.0   \n",
              "\n",
              "   saldo_medio_var33_ult3  saldo_medio_var44_hace2  saldo_medio_var44_hace3  \\\n",
              "0                     0.0                      0.0                      0.0   \n",
              "1                     0.0                      0.0                      0.0   \n",
              "2                     0.0                      0.0                      0.0   \n",
              "\n",
              "   saldo_medio_var44_ult1  saldo_medio_var44_ult3     var38  TARGET  \n",
              "0                     0.0                     0.0  39205.17       0  \n",
              "1                     0.0                     0.0  49278.03       0  \n",
              "2                     0.0                     0.0  67333.77       0  \n",
              "\n",
              "[3 rows x 371 columns]"
            ],
            "text/html": [
              "\n",
              "  <div id=\"df-ca21fe6d-a326-4511-8b49-8ecf53e4c3ac\">\n",
              "    <div class=\"colab-df-container\">\n",
              "      <div>\n",
              "<style scoped>\n",
              "    .dataframe tbody tr th:only-of-type {\n",
              "        vertical-align: middle;\n",
              "    }\n",
              "\n",
              "    .dataframe tbody tr th {\n",
              "        vertical-align: top;\n",
              "    }\n",
              "\n",
              "    .dataframe thead th {\n",
              "        text-align: right;\n",
              "    }\n",
              "</style>\n",
              "<table border=\"1\" class=\"dataframe\">\n",
              "  <thead>\n",
              "    <tr style=\"text-align: right;\">\n",
              "      <th></th>\n",
              "      <th>ID</th>\n",
              "      <th>var3</th>\n",
              "      <th>var15</th>\n",
              "      <th>imp_ent_var16_ult1</th>\n",
              "      <th>imp_op_var39_comer_ult1</th>\n",
              "      <th>imp_op_var39_comer_ult3</th>\n",
              "      <th>imp_op_var40_comer_ult1</th>\n",
              "      <th>imp_op_var40_comer_ult3</th>\n",
              "      <th>imp_op_var40_efect_ult1</th>\n",
              "      <th>imp_op_var40_efect_ult3</th>\n",
              "      <th>...</th>\n",
              "      <th>saldo_medio_var33_hace2</th>\n",
              "      <th>saldo_medio_var33_hace3</th>\n",
              "      <th>saldo_medio_var33_ult1</th>\n",
              "      <th>saldo_medio_var33_ult3</th>\n",
              "      <th>saldo_medio_var44_hace2</th>\n",
              "      <th>saldo_medio_var44_hace3</th>\n",
              "      <th>saldo_medio_var44_ult1</th>\n",
              "      <th>saldo_medio_var44_ult3</th>\n",
              "      <th>var38</th>\n",
              "      <th>TARGET</th>\n",
              "    </tr>\n",
              "  </thead>\n",
              "  <tbody>\n",
              "    <tr>\n",
              "      <th>0</th>\n",
              "      <td>1</td>\n",
              "      <td>2</td>\n",
              "      <td>23</td>\n",
              "      <td>0.0</td>\n",
              "      <td>0.0</td>\n",
              "      <td>0.0</td>\n",
              "      <td>0.0</td>\n",
              "      <td>0.0</td>\n",
              "      <td>0.0</td>\n",
              "      <td>0.0</td>\n",
              "      <td>...</td>\n",
              "      <td>0.0</td>\n",
              "      <td>0.0</td>\n",
              "      <td>0.0</td>\n",
              "      <td>0.0</td>\n",
              "      <td>0.0</td>\n",
              "      <td>0.0</td>\n",
              "      <td>0.0</td>\n",
              "      <td>0.0</td>\n",
              "      <td>39205.17</td>\n",
              "      <td>0</td>\n",
              "    </tr>\n",
              "    <tr>\n",
              "      <th>1</th>\n",
              "      <td>3</td>\n",
              "      <td>2</td>\n",
              "      <td>34</td>\n",
              "      <td>0.0</td>\n",
              "      <td>0.0</td>\n",
              "      <td>0.0</td>\n",
              "      <td>0.0</td>\n",
              "      <td>0.0</td>\n",
              "      <td>0.0</td>\n",
              "      <td>0.0</td>\n",
              "      <td>...</td>\n",
              "      <td>0.0</td>\n",
              "      <td>0.0</td>\n",
              "      <td>0.0</td>\n",
              "      <td>0.0</td>\n",
              "      <td>0.0</td>\n",
              "      <td>0.0</td>\n",
              "      <td>0.0</td>\n",
              "      <td>0.0</td>\n",
              "      <td>49278.03</td>\n",
              "      <td>0</td>\n",
              "    </tr>\n",
              "    <tr>\n",
              "      <th>2</th>\n",
              "      <td>4</td>\n",
              "      <td>2</td>\n",
              "      <td>23</td>\n",
              "      <td>0.0</td>\n",
              "      <td>0.0</td>\n",
              "      <td>0.0</td>\n",
              "      <td>0.0</td>\n",
              "      <td>0.0</td>\n",
              "      <td>0.0</td>\n",
              "      <td>0.0</td>\n",
              "      <td>...</td>\n",
              "      <td>0.0</td>\n",
              "      <td>0.0</td>\n",
              "      <td>0.0</td>\n",
              "      <td>0.0</td>\n",
              "      <td>0.0</td>\n",
              "      <td>0.0</td>\n",
              "      <td>0.0</td>\n",
              "      <td>0.0</td>\n",
              "      <td>67333.77</td>\n",
              "      <td>0</td>\n",
              "    </tr>\n",
              "  </tbody>\n",
              "</table>\n",
              "<p>3 rows × 371 columns</p>\n",
              "</div>\n",
              "      <button class=\"colab-df-convert\" onclick=\"convertToInteractive('df-ca21fe6d-a326-4511-8b49-8ecf53e4c3ac')\"\n",
              "              title=\"Convert this dataframe to an interactive table.\"\n",
              "              style=\"display:none;\">\n",
              "        \n",
              "  <svg xmlns=\"http://www.w3.org/2000/svg\" height=\"24px\"viewBox=\"0 0 24 24\"\n",
              "       width=\"24px\">\n",
              "    <path d=\"M0 0h24v24H0V0z\" fill=\"none\"/>\n",
              "    <path d=\"M18.56 5.44l.94 2.06.94-2.06 2.06-.94-2.06-.94-.94-2.06-.94 2.06-2.06.94zm-11 1L8.5 8.5l.94-2.06 2.06-.94-2.06-.94L8.5 2.5l-.94 2.06-2.06.94zm10 10l.94 2.06.94-2.06 2.06-.94-2.06-.94-.94-2.06-.94 2.06-2.06.94z\"/><path d=\"M17.41 7.96l-1.37-1.37c-.4-.4-.92-.59-1.43-.59-.52 0-1.04.2-1.43.59L10.3 9.45l-7.72 7.72c-.78.78-.78 2.05 0 2.83L4 21.41c.39.39.9.59 1.41.59.51 0 1.02-.2 1.41-.59l7.78-7.78 2.81-2.81c.8-.78.8-2.07 0-2.86zM5.41 20L4 18.59l7.72-7.72 1.47 1.35L5.41 20z\"/>\n",
              "  </svg>\n",
              "      </button>\n",
              "      \n",
              "  <style>\n",
              "    .colab-df-container {\n",
              "      display:flex;\n",
              "      flex-wrap:wrap;\n",
              "      gap: 12px;\n",
              "    }\n",
              "\n",
              "    .colab-df-convert {\n",
              "      background-color: #E8F0FE;\n",
              "      border: none;\n",
              "      border-radius: 50%;\n",
              "      cursor: pointer;\n",
              "      display: none;\n",
              "      fill: #1967D2;\n",
              "      height: 32px;\n",
              "      padding: 0 0 0 0;\n",
              "      width: 32px;\n",
              "    }\n",
              "\n",
              "    .colab-df-convert:hover {\n",
              "      background-color: #E2EBFA;\n",
              "      box-shadow: 0px 1px 2px rgba(60, 64, 67, 0.3), 0px 1px 3px 1px rgba(60, 64, 67, 0.15);\n",
              "      fill: #174EA6;\n",
              "    }\n",
              "\n",
              "    [theme=dark] .colab-df-convert {\n",
              "      background-color: #3B4455;\n",
              "      fill: #D2E3FC;\n",
              "    }\n",
              "\n",
              "    [theme=dark] .colab-df-convert:hover {\n",
              "      background-color: #434B5C;\n",
              "      box-shadow: 0px 1px 3px 1px rgba(0, 0, 0, 0.15);\n",
              "      filter: drop-shadow(0px 1px 2px rgba(0, 0, 0, 0.3));\n",
              "      fill: #FFFFFF;\n",
              "    }\n",
              "  </style>\n",
              "\n",
              "      <script>\n",
              "        const buttonEl =\n",
              "          document.querySelector('#df-ca21fe6d-a326-4511-8b49-8ecf53e4c3ac button.colab-df-convert');\n",
              "        buttonEl.style.display =\n",
              "          google.colab.kernel.accessAllowed ? 'block' : 'none';\n",
              "\n",
              "        async function convertToInteractive(key) {\n",
              "          const element = document.querySelector('#df-ca21fe6d-a326-4511-8b49-8ecf53e4c3ac');\n",
              "          const dataTable =\n",
              "            await google.colab.kernel.invokeFunction('convertToInteractive',\n",
              "                                                     [key], {});\n",
              "          if (!dataTable) return;\n",
              "\n",
              "          const docLinkHtml = 'Like what you see? Visit the ' +\n",
              "            '<a target=\"_blank\" href=https://colab.research.google.com/notebooks/data_table.ipynb>data table notebook</a>'\n",
              "            + ' to learn more about interactive tables.';\n",
              "          element.innerHTML = '';\n",
              "          dataTable['output_type'] = 'display_data';\n",
              "          await google.colab.output.renderOutput(dataTable, element);\n",
              "          const docLink = document.createElement('div');\n",
              "          docLink.innerHTML = docLinkHtml;\n",
              "          element.appendChild(docLink);\n",
              "        }\n",
              "      </script>\n",
              "    </div>\n",
              "  </div>\n",
              "  "
            ]
          },
          "metadata": {},
          "execution_count": 1
        }
      ],
      "source": [
        "import numpy as np\n",
        "import pandas as pd\n",
        "import matplotlib.pyplot as plt\n",
        "import matplotlib\n",
        "\n",
        "cust_df=pd.read_csv('train_santander.csv', encoding='latin-1')\n",
        "print('dataset shape:', cust_df.shape)\n",
        "cust_df.head(3)"
      ]
    },
    {
      "cell_type": "markdown",
      "source": [
        "371개의 피처 존재. 피처 타입과 null 값 알아보자."
      ],
      "metadata": {
        "id": "va06FvK8Wp4_"
      }
    },
    {
      "cell_type": "code",
      "source": [
        "cust_df.info()"
      ],
      "metadata": {
        "colab": {
          "base_uri": "https://localhost:8080/"
        },
        "id": "J2XuOMvFWwLG",
        "outputId": "6628523f-4b59-472b-a94c-762ebffe1adf"
      },
      "execution_count": null,
      "outputs": [
        {
          "output_type": "stream",
          "name": "stdout",
          "text": [
            "<class 'pandas.core.frame.DataFrame'>\n",
            "RangeIndex: 76020 entries, 0 to 76019\n",
            "Columns: 371 entries, ID to TARGET\n",
            "dtypes: float64(111), int64(260)\n",
            "memory usage: 215.2 MB\n"
          ]
        }
      ]
    },
    {
      "cell_type": "markdown",
      "source": [
        "111개의 피처가 float형, 260개의 피처가 int형으로 모든 피처가 숫자 형이고 null은 없다.\n",
        "\n",
        "전체 데이터에서 만족과 불만족 비율을 보자. target 속성의 값의 분포를 보면 됨."
      ],
      "metadata": {
        "id": "tfN8mJaxWvso"
      }
    },
    {
      "cell_type": "code",
      "source": [
        "print(cust_df['TARGET'].value_counts())\n",
        "unsatisfied_cnt=cust_df[cust_df['TARGET']==1].TARGET.count()\n",
        "total_cnt=cust_df.TARGET.count()\n",
        "print('unsatisfied 비율은 {0:.2f}'.format((unsatisfied_cnt/total_cnt)))"
      ],
      "metadata": {
        "colab": {
          "base_uri": "https://localhost:8080/"
        },
        "id": "Bq4DiTBAW9-n",
        "outputId": "37443037-d5d3-49d7-a9e3-b20692227cb5"
      },
      "execution_count": null,
      "outputs": [
        {
          "output_type": "stream",
          "name": "stdout",
          "text": [
            "0    73012\n",
            "1     3008\n",
            "Name: TARGET, dtype: int64\n",
            "unsatisfied 비율은 0.04\n"
          ]
        }
      ]
    },
    {
      "cell_type": "markdown",
      "source": [
        "각 피처의 값 분포를 간단히 확인해보자."
      ],
      "metadata": {
        "id": "ZhvFDdvMXazi"
      }
    },
    {
      "cell_type": "code",
      "source": [
        "cust_df.describe()"
      ],
      "metadata": {
        "colab": {
          "base_uri": "https://localhost:8080/",
          "height": 394
        },
        "id": "1vzq8dibXejX",
        "outputId": "0b671b11-ac0d-4f1f-841c-fbf1dddae8e2"
      },
      "execution_count": null,
      "outputs": [
        {
          "output_type": "execute_result",
          "data": {
            "text/plain": [
              "                  ID           var3         var15  imp_ent_var16_ult1  \\\n",
              "count   76020.000000   76020.000000  76020.000000        76020.000000   \n",
              "mean    75964.050723   -1523.199277     33.212865           86.208265   \n",
              "std     43781.947379   39033.462364     12.956486         1614.757313   \n",
              "min         1.000000 -999999.000000      5.000000            0.000000   \n",
              "25%     38104.750000       2.000000     23.000000            0.000000   \n",
              "50%     76043.000000       2.000000     28.000000            0.000000   \n",
              "75%    113748.750000       2.000000     40.000000            0.000000   \n",
              "max    151838.000000     238.000000    105.000000       210000.000000   \n",
              "\n",
              "       imp_op_var39_comer_ult1  imp_op_var39_comer_ult3  \\\n",
              "count             76020.000000             76020.000000   \n",
              "mean                 72.363067               119.529632   \n",
              "std                 339.315831               546.266294   \n",
              "min                   0.000000                 0.000000   \n",
              "25%                   0.000000                 0.000000   \n",
              "50%                   0.000000                 0.000000   \n",
              "75%                   0.000000                 0.000000   \n",
              "max               12888.030000             21024.810000   \n",
              "\n",
              "       imp_op_var40_comer_ult1  imp_op_var40_comer_ult3  \\\n",
              "count             76020.000000             76020.000000   \n",
              "mean                  3.559130                 6.472698   \n",
              "std                  93.155749               153.737066   \n",
              "min                   0.000000                 0.000000   \n",
              "25%                   0.000000                 0.000000   \n",
              "50%                   0.000000                 0.000000   \n",
              "75%                   0.000000                 0.000000   \n",
              "max                8237.820000             11073.570000   \n",
              "\n",
              "       imp_op_var40_efect_ult1  imp_op_var40_efect_ult3  ...  \\\n",
              "count             76020.000000             76020.000000  ...   \n",
              "mean                  0.412946                 0.567352  ...   \n",
              "std                  30.604864                36.513513  ...   \n",
              "min                   0.000000                 0.000000  ...   \n",
              "25%                   0.000000                 0.000000  ...   \n",
              "50%                   0.000000                 0.000000  ...   \n",
              "75%                   0.000000                 0.000000  ...   \n",
              "max                6600.000000              6600.000000  ...   \n",
              "\n",
              "       saldo_medio_var33_hace2  saldo_medio_var33_hace3  \\\n",
              "count             76020.000000             76020.000000   \n",
              "mean                  7.935824                 1.365146   \n",
              "std                 455.887218               113.959637   \n",
              "min                   0.000000                 0.000000   \n",
              "25%                   0.000000                 0.000000   \n",
              "50%                   0.000000                 0.000000   \n",
              "75%                   0.000000                 0.000000   \n",
              "max               50003.880000             20385.720000   \n",
              "\n",
              "       saldo_medio_var33_ult1  saldo_medio_var33_ult3  \\\n",
              "count            76020.000000            76020.000000   \n",
              "mean                12.215580                8.784074   \n",
              "std                783.207399              538.439211   \n",
              "min                  0.000000                0.000000   \n",
              "25%                  0.000000                0.000000   \n",
              "50%                  0.000000                0.000000   \n",
              "75%                  0.000000                0.000000   \n",
              "max             138831.630000            91778.730000   \n",
              "\n",
              "       saldo_medio_var44_hace2  saldo_medio_var44_hace3  \\\n",
              "count             76020.000000             76020.000000   \n",
              "mean                 31.505324                 1.858575   \n",
              "std                2013.125393               147.786584   \n",
              "min                   0.000000                 0.000000   \n",
              "25%                   0.000000                 0.000000   \n",
              "50%                   0.000000                 0.000000   \n",
              "75%                   0.000000                 0.000000   \n",
              "max              438329.220000             24650.010000   \n",
              "\n",
              "       saldo_medio_var44_ult1  saldo_medio_var44_ult3         var38  \\\n",
              "count            76020.000000            76020.000000  7.602000e+04   \n",
              "mean                76.026165               56.614351  1.172358e+05   \n",
              "std               4040.337842             2852.579397  1.826646e+05   \n",
              "min                  0.000000                0.000000  5.163750e+03   \n",
              "25%                  0.000000                0.000000  6.787061e+04   \n",
              "50%                  0.000000                0.000000  1.064092e+05   \n",
              "75%                  0.000000                0.000000  1.187563e+05   \n",
              "max             681462.900000           397884.300000  2.203474e+07   \n",
              "\n",
              "             TARGET  \n",
              "count  76020.000000  \n",
              "mean       0.039569  \n",
              "std        0.194945  \n",
              "min        0.000000  \n",
              "25%        0.000000  \n",
              "50%        0.000000  \n",
              "75%        0.000000  \n",
              "max        1.000000  \n",
              "\n",
              "[8 rows x 371 columns]"
            ],
            "text/html": [
              "\n",
              "  <div id=\"df-6c7e43d4-e922-4857-b1cb-294f311c8a06\">\n",
              "    <div class=\"colab-df-container\">\n",
              "      <div>\n",
              "<style scoped>\n",
              "    .dataframe tbody tr th:only-of-type {\n",
              "        vertical-align: middle;\n",
              "    }\n",
              "\n",
              "    .dataframe tbody tr th {\n",
              "        vertical-align: top;\n",
              "    }\n",
              "\n",
              "    .dataframe thead th {\n",
              "        text-align: right;\n",
              "    }\n",
              "</style>\n",
              "<table border=\"1\" class=\"dataframe\">\n",
              "  <thead>\n",
              "    <tr style=\"text-align: right;\">\n",
              "      <th></th>\n",
              "      <th>ID</th>\n",
              "      <th>var3</th>\n",
              "      <th>var15</th>\n",
              "      <th>imp_ent_var16_ult1</th>\n",
              "      <th>imp_op_var39_comer_ult1</th>\n",
              "      <th>imp_op_var39_comer_ult3</th>\n",
              "      <th>imp_op_var40_comer_ult1</th>\n",
              "      <th>imp_op_var40_comer_ult3</th>\n",
              "      <th>imp_op_var40_efect_ult1</th>\n",
              "      <th>imp_op_var40_efect_ult3</th>\n",
              "      <th>...</th>\n",
              "      <th>saldo_medio_var33_hace2</th>\n",
              "      <th>saldo_medio_var33_hace3</th>\n",
              "      <th>saldo_medio_var33_ult1</th>\n",
              "      <th>saldo_medio_var33_ult3</th>\n",
              "      <th>saldo_medio_var44_hace2</th>\n",
              "      <th>saldo_medio_var44_hace3</th>\n",
              "      <th>saldo_medio_var44_ult1</th>\n",
              "      <th>saldo_medio_var44_ult3</th>\n",
              "      <th>var38</th>\n",
              "      <th>TARGET</th>\n",
              "    </tr>\n",
              "  </thead>\n",
              "  <tbody>\n",
              "    <tr>\n",
              "      <th>count</th>\n",
              "      <td>76020.000000</td>\n",
              "      <td>76020.000000</td>\n",
              "      <td>76020.000000</td>\n",
              "      <td>76020.000000</td>\n",
              "      <td>76020.000000</td>\n",
              "      <td>76020.000000</td>\n",
              "      <td>76020.000000</td>\n",
              "      <td>76020.000000</td>\n",
              "      <td>76020.000000</td>\n",
              "      <td>76020.000000</td>\n",
              "      <td>...</td>\n",
              "      <td>76020.000000</td>\n",
              "      <td>76020.000000</td>\n",
              "      <td>76020.000000</td>\n",
              "      <td>76020.000000</td>\n",
              "      <td>76020.000000</td>\n",
              "      <td>76020.000000</td>\n",
              "      <td>76020.000000</td>\n",
              "      <td>76020.000000</td>\n",
              "      <td>7.602000e+04</td>\n",
              "      <td>76020.000000</td>\n",
              "    </tr>\n",
              "    <tr>\n",
              "      <th>mean</th>\n",
              "      <td>75964.050723</td>\n",
              "      <td>-1523.199277</td>\n",
              "      <td>33.212865</td>\n",
              "      <td>86.208265</td>\n",
              "      <td>72.363067</td>\n",
              "      <td>119.529632</td>\n",
              "      <td>3.559130</td>\n",
              "      <td>6.472698</td>\n",
              "      <td>0.412946</td>\n",
              "      <td>0.567352</td>\n",
              "      <td>...</td>\n",
              "      <td>7.935824</td>\n",
              "      <td>1.365146</td>\n",
              "      <td>12.215580</td>\n",
              "      <td>8.784074</td>\n",
              "      <td>31.505324</td>\n",
              "      <td>1.858575</td>\n",
              "      <td>76.026165</td>\n",
              "      <td>56.614351</td>\n",
              "      <td>1.172358e+05</td>\n",
              "      <td>0.039569</td>\n",
              "    </tr>\n",
              "    <tr>\n",
              "      <th>std</th>\n",
              "      <td>43781.947379</td>\n",
              "      <td>39033.462364</td>\n",
              "      <td>12.956486</td>\n",
              "      <td>1614.757313</td>\n",
              "      <td>339.315831</td>\n",
              "      <td>546.266294</td>\n",
              "      <td>93.155749</td>\n",
              "      <td>153.737066</td>\n",
              "      <td>30.604864</td>\n",
              "      <td>36.513513</td>\n",
              "      <td>...</td>\n",
              "      <td>455.887218</td>\n",
              "      <td>113.959637</td>\n",
              "      <td>783.207399</td>\n",
              "      <td>538.439211</td>\n",
              "      <td>2013.125393</td>\n",
              "      <td>147.786584</td>\n",
              "      <td>4040.337842</td>\n",
              "      <td>2852.579397</td>\n",
              "      <td>1.826646e+05</td>\n",
              "      <td>0.194945</td>\n",
              "    </tr>\n",
              "    <tr>\n",
              "      <th>min</th>\n",
              "      <td>1.000000</td>\n",
              "      <td>-999999.000000</td>\n",
              "      <td>5.000000</td>\n",
              "      <td>0.000000</td>\n",
              "      <td>0.000000</td>\n",
              "      <td>0.000000</td>\n",
              "      <td>0.000000</td>\n",
              "      <td>0.000000</td>\n",
              "      <td>0.000000</td>\n",
              "      <td>0.000000</td>\n",
              "      <td>...</td>\n",
              "      <td>0.000000</td>\n",
              "      <td>0.000000</td>\n",
              "      <td>0.000000</td>\n",
              "      <td>0.000000</td>\n",
              "      <td>0.000000</td>\n",
              "      <td>0.000000</td>\n",
              "      <td>0.000000</td>\n",
              "      <td>0.000000</td>\n",
              "      <td>5.163750e+03</td>\n",
              "      <td>0.000000</td>\n",
              "    </tr>\n",
              "    <tr>\n",
              "      <th>25%</th>\n",
              "      <td>38104.750000</td>\n",
              "      <td>2.000000</td>\n",
              "      <td>23.000000</td>\n",
              "      <td>0.000000</td>\n",
              "      <td>0.000000</td>\n",
              "      <td>0.000000</td>\n",
              "      <td>0.000000</td>\n",
              "      <td>0.000000</td>\n",
              "      <td>0.000000</td>\n",
              "      <td>0.000000</td>\n",
              "      <td>...</td>\n",
              "      <td>0.000000</td>\n",
              "      <td>0.000000</td>\n",
              "      <td>0.000000</td>\n",
              "      <td>0.000000</td>\n",
              "      <td>0.000000</td>\n",
              "      <td>0.000000</td>\n",
              "      <td>0.000000</td>\n",
              "      <td>0.000000</td>\n",
              "      <td>6.787061e+04</td>\n",
              "      <td>0.000000</td>\n",
              "    </tr>\n",
              "    <tr>\n",
              "      <th>50%</th>\n",
              "      <td>76043.000000</td>\n",
              "      <td>2.000000</td>\n",
              "      <td>28.000000</td>\n",
              "      <td>0.000000</td>\n",
              "      <td>0.000000</td>\n",
              "      <td>0.000000</td>\n",
              "      <td>0.000000</td>\n",
              "      <td>0.000000</td>\n",
              "      <td>0.000000</td>\n",
              "      <td>0.000000</td>\n",
              "      <td>...</td>\n",
              "      <td>0.000000</td>\n",
              "      <td>0.000000</td>\n",
              "      <td>0.000000</td>\n",
              "      <td>0.000000</td>\n",
              "      <td>0.000000</td>\n",
              "      <td>0.000000</td>\n",
              "      <td>0.000000</td>\n",
              "      <td>0.000000</td>\n",
              "      <td>1.064092e+05</td>\n",
              "      <td>0.000000</td>\n",
              "    </tr>\n",
              "    <tr>\n",
              "      <th>75%</th>\n",
              "      <td>113748.750000</td>\n",
              "      <td>2.000000</td>\n",
              "      <td>40.000000</td>\n",
              "      <td>0.000000</td>\n",
              "      <td>0.000000</td>\n",
              "      <td>0.000000</td>\n",
              "      <td>0.000000</td>\n",
              "      <td>0.000000</td>\n",
              "      <td>0.000000</td>\n",
              "      <td>0.000000</td>\n",
              "      <td>...</td>\n",
              "      <td>0.000000</td>\n",
              "      <td>0.000000</td>\n",
              "      <td>0.000000</td>\n",
              "      <td>0.000000</td>\n",
              "      <td>0.000000</td>\n",
              "      <td>0.000000</td>\n",
              "      <td>0.000000</td>\n",
              "      <td>0.000000</td>\n",
              "      <td>1.187563e+05</td>\n",
              "      <td>0.000000</td>\n",
              "    </tr>\n",
              "    <tr>\n",
              "      <th>max</th>\n",
              "      <td>151838.000000</td>\n",
              "      <td>238.000000</td>\n",
              "      <td>105.000000</td>\n",
              "      <td>210000.000000</td>\n",
              "      <td>12888.030000</td>\n",
              "      <td>21024.810000</td>\n",
              "      <td>8237.820000</td>\n",
              "      <td>11073.570000</td>\n",
              "      <td>6600.000000</td>\n",
              "      <td>6600.000000</td>\n",
              "      <td>...</td>\n",
              "      <td>50003.880000</td>\n",
              "      <td>20385.720000</td>\n",
              "      <td>138831.630000</td>\n",
              "      <td>91778.730000</td>\n",
              "      <td>438329.220000</td>\n",
              "      <td>24650.010000</td>\n",
              "      <td>681462.900000</td>\n",
              "      <td>397884.300000</td>\n",
              "      <td>2.203474e+07</td>\n",
              "      <td>1.000000</td>\n",
              "    </tr>\n",
              "  </tbody>\n",
              "</table>\n",
              "<p>8 rows × 371 columns</p>\n",
              "</div>\n",
              "      <button class=\"colab-df-convert\" onclick=\"convertToInteractive('df-6c7e43d4-e922-4857-b1cb-294f311c8a06')\"\n",
              "              title=\"Convert this dataframe to an interactive table.\"\n",
              "              style=\"display:none;\">\n",
              "        \n",
              "  <svg xmlns=\"http://www.w3.org/2000/svg\" height=\"24px\"viewBox=\"0 0 24 24\"\n",
              "       width=\"24px\">\n",
              "    <path d=\"M0 0h24v24H0V0z\" fill=\"none\"/>\n",
              "    <path d=\"M18.56 5.44l.94 2.06.94-2.06 2.06-.94-2.06-.94-.94-2.06-.94 2.06-2.06.94zm-11 1L8.5 8.5l.94-2.06 2.06-.94-2.06-.94L8.5 2.5l-.94 2.06-2.06.94zm10 10l.94 2.06.94-2.06 2.06-.94-2.06-.94-.94-2.06-.94 2.06-2.06.94z\"/><path d=\"M17.41 7.96l-1.37-1.37c-.4-.4-.92-.59-1.43-.59-.52 0-1.04.2-1.43.59L10.3 9.45l-7.72 7.72c-.78.78-.78 2.05 0 2.83L4 21.41c.39.39.9.59 1.41.59.51 0 1.02-.2 1.41-.59l7.78-7.78 2.81-2.81c.8-.78.8-2.07 0-2.86zM5.41 20L4 18.59l7.72-7.72 1.47 1.35L5.41 20z\"/>\n",
              "  </svg>\n",
              "      </button>\n",
              "      \n",
              "  <style>\n",
              "    .colab-df-container {\n",
              "      display:flex;\n",
              "      flex-wrap:wrap;\n",
              "      gap: 12px;\n",
              "    }\n",
              "\n",
              "    .colab-df-convert {\n",
              "      background-color: #E8F0FE;\n",
              "      border: none;\n",
              "      border-radius: 50%;\n",
              "      cursor: pointer;\n",
              "      display: none;\n",
              "      fill: #1967D2;\n",
              "      height: 32px;\n",
              "      padding: 0 0 0 0;\n",
              "      width: 32px;\n",
              "    }\n",
              "\n",
              "    .colab-df-convert:hover {\n",
              "      background-color: #E2EBFA;\n",
              "      box-shadow: 0px 1px 2px rgba(60, 64, 67, 0.3), 0px 1px 3px 1px rgba(60, 64, 67, 0.15);\n",
              "      fill: #174EA6;\n",
              "    }\n",
              "\n",
              "    [theme=dark] .colab-df-convert {\n",
              "      background-color: #3B4455;\n",
              "      fill: #D2E3FC;\n",
              "    }\n",
              "\n",
              "    [theme=dark] .colab-df-convert:hover {\n",
              "      background-color: #434B5C;\n",
              "      box-shadow: 0px 1px 3px 1px rgba(0, 0, 0, 0.15);\n",
              "      filter: drop-shadow(0px 1px 2px rgba(0, 0, 0, 0.3));\n",
              "      fill: #FFFFFF;\n",
              "    }\n",
              "  </style>\n",
              "\n",
              "      <script>\n",
              "        const buttonEl =\n",
              "          document.querySelector('#df-6c7e43d4-e922-4857-b1cb-294f311c8a06 button.colab-df-convert');\n",
              "        buttonEl.style.display =\n",
              "          google.colab.kernel.accessAllowed ? 'block' : 'none';\n",
              "\n",
              "        async function convertToInteractive(key) {\n",
              "          const element = document.querySelector('#df-6c7e43d4-e922-4857-b1cb-294f311c8a06');\n",
              "          const dataTable =\n",
              "            await google.colab.kernel.invokeFunction('convertToInteractive',\n",
              "                                                     [key], {});\n",
              "          if (!dataTable) return;\n",
              "\n",
              "          const docLinkHtml = 'Like what you see? Visit the ' +\n",
              "            '<a target=\"_blank\" href=https://colab.research.google.com/notebooks/data_table.ipynb>data table notebook</a>'\n",
              "            + ' to learn more about interactive tables.';\n",
              "          element.innerHTML = '';\n",
              "          dataTable['output_type'] = 'display_data';\n",
              "          await google.colab.output.renderOutput(dataTable, element);\n",
              "          const docLink = document.createElement('div');\n",
              "          docLink.innerHTML = docLinkHtml;\n",
              "          element.appendChild(docLink);\n",
              "        }\n",
              "      </script>\n",
              "    </div>\n",
              "  </div>\n",
              "  "
            ]
          },
          "metadata": {},
          "execution_count": 4
        }
      ]
    },
    {
      "cell_type": "markdown",
      "source": [
        "var3 칼럼에서 min 이상. 꽤 많음. 가장 값이 많은 2로 변환하자.\n",
        "<br/>ID는 드롭하는게 낫다.\n",
        "<br/>클래스 데이터 세트와 피처 데이터 세트 분리해 별도의 데이터 세트로 저장하자."
      ],
      "metadata": {
        "id": "jM-GxoFsXhV0"
      }
    },
    {
      "cell_type": "code",
      "source": [
        "cust_df['var3'].replace(-999999,2,inplace=True)\n",
        "cust_df.drop('ID', axis=1, inplace=True)\n",
        "\n",
        "#피처 세트와 레이블 세트 분리, 레이블 칼럼은 DF의 맨 마지막에 위치해 칼럼 위치 -1로 분리.\n",
        "X_features=cust_df.iloc[:, :-1]\n",
        "y_labels=cust_df.iloc[:,-1]\n",
        "print('피처 데이터 shape:{0}'.format(X_features.shape))"
      ],
      "metadata": {
        "colab": {
          "base_uri": "https://localhost:8080/"
        },
        "id": "Xcrg-gBtX5_t",
        "outputId": "647b6a33-8846-403a-ec2e-7ad5ea1e197d"
      },
      "execution_count": null,
      "outputs": [
        {
          "output_type": "stream",
          "name": "stdout",
          "text": [
            "피처 데이터 shape:(76020, 369)\n"
          ]
        }
      ]
    },
    {
      "cell_type": "markdown",
      "source": [
        "학습/테스트 분리하자. 비대칭한 데이터 세트이므로 클래스인 Target 값 분포가 학습/테스트 데이터에 모두 비슷하게 추출되었는지 확인 필요."
      ],
      "metadata": {
        "id": "FZYNU_hIYibM"
      }
    },
    {
      "cell_type": "code",
      "source": [
        "from sklearn.model_selection import train_test_split\n",
        "\n",
        "X_train, X_test, y_train, y_test=train_test_split(X_features, y_labels, test_size=0.2, random_state=0)\n",
        "train_cnt=y_train.count()\n",
        "test_cnt=y_test.count()\n",
        "print('학습 세트 shape:{0}, 테스트 세트 shape:{1}'.format(X_train.shape, X_test.shape))\n",
        "\n",
        "print('학습 세트 레이블 값 분포 비율')\n",
        "print(y_train.value_counts()/train_cnt)\n",
        "print('\\n 테스트 세트 레이블 값 분포 비율')\n",
        "print(y_test.value_counts()/test_cnt)"
      ],
      "metadata": {
        "colab": {
          "base_uri": "https://localhost:8080/"
        },
        "id": "xyGq-XoAYrYx",
        "outputId": "480ea924-b2ed-4d03-93e3-4fc3b86a208c"
      },
      "execution_count": null,
      "outputs": [
        {
          "output_type": "stream",
          "name": "stdout",
          "text": [
            "학습 세트 shape:(60816, 369), 테스트 세트 shape:(15204, 369)\n",
            "학습 세트 레이블 값 분포 비율\n",
            "0    0.960964\n",
            "1    0.039036\n",
            "Name: TARGET, dtype: float64\n",
            "\n",
            " 테스트 세트 레이블 값 분포 비율\n",
            "0    0.9583\n",
            "1    0.0417\n",
            "Name: TARGET, dtype: float64\n"
          ]
        }
      ]
    },
    {
      "cell_type": "markdown",
      "source": [
        "대충 비슷.\n",
        "\n",
        "**XGBoost 모델 학습과 하이퍼 파라미터 튜닝**\n",
        "\n",
        "먼저 학습 모델 생성하고 결과를 평가해보자. 사이킷런 래퍼 XGBClassifier 기반으로 학습 수행."
      ],
      "metadata": {
        "id": "f52h3mwOZT9v"
      }
    },
    {
      "cell_type": "code",
      "source": [
        "from sklearn import metrics\n",
        "from xgboost import XGBClassifier\n",
        "from sklearn.metrics import roc_auc_score\n",
        "\n",
        "#n_estimators=500, random_state는 예제 수행 시마다 동일 예측 결과를 위해 설정.\n",
        "xgb_clf=XGBClassifier(n_estimators=500, random_state=156)\n",
        "\n",
        "#성능 평가 지표를 auc로, 조기 중단 파라미터는 100으로 설정하고 학습 수행.\n",
        "xgb_clf.fit(X_train, y_train, early_stopping_rounds=100, eval_metric='auc', eval_set=[(X_train, y_train), (X_test, y_test)])\n",
        "\n",
        "xgb_roc_score=roc_auc_score(y_test, xgb_clf.predict_proba(X_test)[:,1], average='macro')\n",
        "print('ROC AUC: {0:.4f}'.format(xgb_roc_score))"
      ],
      "metadata": {
        "colab": {
          "base_uri": "https://localhost:8080/"
        },
        "id": "lTuQiPiSZUQD",
        "outputId": "9dc670be-0b2e-4de4-9b18-3a8f985d98e3"
      },
      "execution_count": null,
      "outputs": [
        {
          "output_type": "stream",
          "name": "stdout",
          "text": [
            "[0]\tvalidation_0-auc:0.799928\tvalidation_1-auc:0.803548\n",
            "Multiple eval metrics have been passed: 'validation_1-auc' will be used for early stopping.\n",
            "\n",
            "Will train until validation_1-auc hasn't improved in 100 rounds.\n",
            "[1]\tvalidation_0-auc:0.802222\tvalidation_1-auc:0.805222\n",
            "[2]\tvalidation_0-auc:0.80819\tvalidation_1-auc:0.813162\n",
            "[3]\tvalidation_0-auc:0.8127\tvalidation_1-auc:0.813243\n",
            "[4]\tvalidation_0-auc:0.81648\tvalidation_1-auc:0.816979\n",
            "[5]\tvalidation_0-auc:0.816018\tvalidation_1-auc:0.816629\n",
            "[6]\tvalidation_0-auc:0.816474\tvalidation_1-auc:0.817776\n",
            "[7]\tvalidation_0-auc:0.818148\tvalidation_1-auc:0.818464\n",
            "[8]\tvalidation_0-auc:0.81806\tvalidation_1-auc:0.818295\n",
            "[9]\tvalidation_0-auc:0.817039\tvalidation_1-auc:0.818087\n",
            "[10]\tvalidation_0-auc:0.818318\tvalidation_1-auc:0.818749\n",
            "[11]\tvalidation_0-auc:0.818711\tvalidation_1-auc:0.818521\n",
            "[12]\tvalidation_0-auc:0.818673\tvalidation_1-auc:0.818516\n",
            "[13]\tvalidation_0-auc:0.819156\tvalidation_1-auc:0.818998\n",
            "[14]\tvalidation_0-auc:0.819847\tvalidation_1-auc:0.81999\n",
            "[15]\tvalidation_0-auc:0.822152\tvalidation_1-auc:0.821584\n",
            "[16]\tvalidation_0-auc:0.822529\tvalidation_1-auc:0.821275\n",
            "[17]\tvalidation_0-auc:0.822404\tvalidation_1-auc:0.821602\n",
            "[18]\tvalidation_0-auc:0.825227\tvalidation_1-auc:0.82523\n",
            "[19]\tvalidation_0-auc:0.82554\tvalidation_1-auc:0.824671\n",
            "[20]\tvalidation_0-auc:0.826569\tvalidation_1-auc:0.825722\n",
            "[21]\tvalidation_0-auc:0.827255\tvalidation_1-auc:0.825777\n",
            "[22]\tvalidation_0-auc:0.82805\tvalidation_1-auc:0.826496\n",
            "[23]\tvalidation_0-auc:0.827807\tvalidation_1-auc:0.826436\n",
            "[24]\tvalidation_0-auc:0.828647\tvalidation_1-auc:0.826735\n",
            "[25]\tvalidation_0-auc:0.830001\tvalidation_1-auc:0.827854\n",
            "[26]\tvalidation_0-auc:0.83056\tvalidation_1-auc:0.828164\n",
            "[27]\tvalidation_0-auc:0.830946\tvalidation_1-auc:0.828579\n",
            "[28]\tvalidation_0-auc:0.831843\tvalidation_1-auc:0.829661\n",
            "[29]\tvalidation_0-auc:0.833095\tvalidation_1-auc:0.830722\n",
            "[30]\tvalidation_0-auc:0.833537\tvalidation_1-auc:0.83108\n",
            "[31]\tvalidation_0-auc:0.834132\tvalidation_1-auc:0.830665\n",
            "[32]\tvalidation_0-auc:0.83448\tvalidation_1-auc:0.831507\n",
            "[33]\tvalidation_0-auc:0.83477\tvalidation_1-auc:0.831309\n",
            "[34]\tvalidation_0-auc:0.835454\tvalidation_1-auc:0.831417\n",
            "[35]\tvalidation_0-auc:0.83601\tvalidation_1-auc:0.831663\n",
            "[36]\tvalidation_0-auc:0.836456\tvalidation_1-auc:0.831942\n",
            "[37]\tvalidation_0-auc:0.836577\tvalidation_1-auc:0.832411\n",
            "[38]\tvalidation_0-auc:0.836988\tvalidation_1-auc:0.832691\n",
            "[39]\tvalidation_0-auc:0.837236\tvalidation_1-auc:0.833003\n",
            "[40]\tvalidation_0-auc:0.837868\tvalidation_1-auc:0.83271\n",
            "[41]\tvalidation_0-auc:0.838638\tvalidation_1-auc:0.833271\n",
            "[42]\tvalidation_0-auc:0.839178\tvalidation_1-auc:0.83321\n",
            "[43]\tvalidation_0-auc:0.839711\tvalidation_1-auc:0.833446\n",
            "[44]\tvalidation_0-auc:0.840394\tvalidation_1-auc:0.834412\n",
            "[45]\tvalidation_0-auc:0.841118\tvalidation_1-auc:0.834399\n",
            "[46]\tvalidation_0-auc:0.841513\tvalidation_1-auc:0.834504\n",
            "[47]\tvalidation_0-auc:0.842197\tvalidation_1-auc:0.835669\n",
            "[48]\tvalidation_0-auc:0.842644\tvalidation_1-auc:0.835846\n",
            "[49]\tvalidation_0-auc:0.843012\tvalidation_1-auc:0.835977\n",
            "[50]\tvalidation_0-auc:0.843695\tvalidation_1-auc:0.836633\n",
            "[51]\tvalidation_0-auc:0.84425\tvalidation_1-auc:0.83715\n",
            "[52]\tvalidation_0-auc:0.844535\tvalidation_1-auc:0.837182\n",
            "[53]\tvalidation_0-auc:0.84508\tvalidation_1-auc:0.837583\n",
            "[54]\tvalidation_0-auc:0.845616\tvalidation_1-auc:0.838102\n",
            "[55]\tvalidation_0-auc:0.84602\tvalidation_1-auc:0.837964\n",
            "[56]\tvalidation_0-auc:0.846645\tvalidation_1-auc:0.838467\n",
            "[57]\tvalidation_0-auc:0.846941\tvalidation_1-auc:0.838353\n",
            "[58]\tvalidation_0-auc:0.847311\tvalidation_1-auc:0.838367\n",
            "[59]\tvalidation_0-auc:0.847784\tvalidation_1-auc:0.838421\n",
            "[60]\tvalidation_0-auc:0.848181\tvalidation_1-auc:0.838609\n",
            "[61]\tvalidation_0-auc:0.848445\tvalidation_1-auc:0.838766\n",
            "[62]\tvalidation_0-auc:0.848953\tvalidation_1-auc:0.838939\n",
            "[63]\tvalidation_0-auc:0.849405\tvalidation_1-auc:0.839378\n",
            "[64]\tvalidation_0-auc:0.849601\tvalidation_1-auc:0.839421\n",
            "[65]\tvalidation_0-auc:0.849941\tvalidation_1-auc:0.839629\n",
            "[66]\tvalidation_0-auc:0.850161\tvalidation_1-auc:0.839715\n",
            "[67]\tvalidation_0-auc:0.850322\tvalidation_1-auc:0.839662\n",
            "[68]\tvalidation_0-auc:0.850512\tvalidation_1-auc:0.839569\n",
            "[69]\tvalidation_0-auc:0.850868\tvalidation_1-auc:0.839678\n",
            "[70]\tvalidation_0-auc:0.850981\tvalidation_1-auc:0.839758\n",
            "[71]\tvalidation_0-auc:0.851145\tvalidation_1-auc:0.839931\n",
            "[72]\tvalidation_0-auc:0.851305\tvalidation_1-auc:0.839947\n",
            "[73]\tvalidation_0-auc:0.851522\tvalidation_1-auc:0.84007\n",
            "[74]\tvalidation_0-auc:0.851667\tvalidation_1-auc:0.840082\n",
            "[75]\tvalidation_0-auc:0.851955\tvalidation_1-auc:0.840037\n",
            "[76]\tvalidation_0-auc:0.852125\tvalidation_1-auc:0.840091\n",
            "[77]\tvalidation_0-auc:0.852316\tvalidation_1-auc:0.839871\n",
            "[78]\tvalidation_0-auc:0.852587\tvalidation_1-auc:0.840114\n",
            "[79]\tvalidation_0-auc:0.852811\tvalidation_1-auc:0.840282\n",
            "[80]\tvalidation_0-auc:0.853092\tvalidation_1-auc:0.840574\n",
            "[81]\tvalidation_0-auc:0.853296\tvalidation_1-auc:0.84075\n",
            "[82]\tvalidation_0-auc:0.853443\tvalidation_1-auc:0.840738\n",
            "[83]\tvalidation_0-auc:0.8536\tvalidation_1-auc:0.840735\n",
            "[84]\tvalidation_0-auc:0.853727\tvalidation_1-auc:0.840904\n",
            "[85]\tvalidation_0-auc:0.853878\tvalidation_1-auc:0.840985\n",
            "[86]\tvalidation_0-auc:0.853998\tvalidation_1-auc:0.841019\n",
            "[87]\tvalidation_0-auc:0.854281\tvalidation_1-auc:0.840802\n",
            "[88]\tvalidation_0-auc:0.85445\tvalidation_1-auc:0.841042\n",
            "[89]\tvalidation_0-auc:0.854524\tvalidation_1-auc:0.841086\n",
            "[90]\tvalidation_0-auc:0.854656\tvalidation_1-auc:0.841144\n",
            "[91]\tvalidation_0-auc:0.854908\tvalidation_1-auc:0.841263\n",
            "[92]\tvalidation_0-auc:0.855061\tvalidation_1-auc:0.841208\n",
            "[93]\tvalidation_0-auc:0.855142\tvalidation_1-auc:0.841265\n",
            "[94]\tvalidation_0-auc:0.855326\tvalidation_1-auc:0.84131\n",
            "[95]\tvalidation_0-auc:0.855442\tvalidation_1-auc:0.841254\n",
            "[96]\tvalidation_0-auc:0.855568\tvalidation_1-auc:0.841282\n",
            "[97]\tvalidation_0-auc:0.855671\tvalidation_1-auc:0.841346\n",
            "[98]\tvalidation_0-auc:0.855955\tvalidation_1-auc:0.841386\n",
            "[99]\tvalidation_0-auc:0.856271\tvalidation_1-auc:0.841459\n",
            "[100]\tvalidation_0-auc:0.856386\tvalidation_1-auc:0.841469\n",
            "[101]\tvalidation_0-auc:0.856627\tvalidation_1-auc:0.841492\n",
            "[102]\tvalidation_0-auc:0.856774\tvalidation_1-auc:0.841468\n",
            "[103]\tvalidation_0-auc:0.856898\tvalidation_1-auc:0.841253\n",
            "[104]\tvalidation_0-auc:0.857145\tvalidation_1-auc:0.841343\n",
            "[105]\tvalidation_0-auc:0.857279\tvalidation_1-auc:0.841249\n",
            "[106]\tvalidation_0-auc:0.857362\tvalidation_1-auc:0.841119\n",
            "[107]\tvalidation_0-auc:0.857423\tvalidation_1-auc:0.841105\n",
            "[108]\tvalidation_0-auc:0.857487\tvalidation_1-auc:0.841122\n",
            "[109]\tvalidation_0-auc:0.857658\tvalidation_1-auc:0.841165\n",
            "[110]\tvalidation_0-auc:0.857734\tvalidation_1-auc:0.8412\n",
            "[111]\tvalidation_0-auc:0.85792\tvalidation_1-auc:0.841214\n",
            "[112]\tvalidation_0-auc:0.858102\tvalidation_1-auc:0.841162\n",
            "[113]\tvalidation_0-auc:0.858246\tvalidation_1-auc:0.841156\n",
            "[114]\tvalidation_0-auc:0.858382\tvalidation_1-auc:0.841204\n",
            "[115]\tvalidation_0-auc:0.85846\tvalidation_1-auc:0.841295\n",
            "[116]\tvalidation_0-auc:0.858562\tvalidation_1-auc:0.841256\n",
            "[117]\tvalidation_0-auc:0.858616\tvalidation_1-auc:0.84133\n",
            "[118]\tvalidation_0-auc:0.858718\tvalidation_1-auc:0.841398\n",
            "[119]\tvalidation_0-auc:0.858829\tvalidation_1-auc:0.841496\n",
            "[120]\tvalidation_0-auc:0.859012\tvalidation_1-auc:0.841352\n",
            "[121]\tvalidation_0-auc:0.859142\tvalidation_1-auc:0.841349\n",
            "[122]\tvalidation_0-auc:0.859203\tvalidation_1-auc:0.841364\n",
            "[123]\tvalidation_0-auc:0.859284\tvalidation_1-auc:0.84141\n",
            "[124]\tvalidation_0-auc:0.859563\tvalidation_1-auc:0.841393\n",
            "[125]\tvalidation_0-auc:0.859639\tvalidation_1-auc:0.84149\n",
            "[126]\tvalidation_0-auc:0.859759\tvalidation_1-auc:0.841484\n",
            "[127]\tvalidation_0-auc:0.859957\tvalidation_1-auc:0.841333\n",
            "[128]\tvalidation_0-auc:0.860087\tvalidation_1-auc:0.841352\n",
            "[129]\tvalidation_0-auc:0.860211\tvalidation_1-auc:0.841287\n",
            "[130]\tvalidation_0-auc:0.860261\tvalidation_1-auc:0.841392\n",
            "[131]\tvalidation_0-auc:0.860444\tvalidation_1-auc:0.841481\n",
            "[132]\tvalidation_0-auc:0.860453\tvalidation_1-auc:0.841462\n",
            "[133]\tvalidation_0-auc:0.860607\tvalidation_1-auc:0.841342\n",
            "[134]\tvalidation_0-auc:0.860749\tvalidation_1-auc:0.84124\n",
            "[135]\tvalidation_0-auc:0.86094\tvalidation_1-auc:0.841318\n",
            "[136]\tvalidation_0-auc:0.861021\tvalidation_1-auc:0.841351\n",
            "[137]\tvalidation_0-auc:0.861131\tvalidation_1-auc:0.841311\n",
            "[138]\tvalidation_0-auc:0.861229\tvalidation_1-auc:0.841289\n",
            "[139]\tvalidation_0-auc:0.861279\tvalidation_1-auc:0.841295\n",
            "[140]\tvalidation_0-auc:0.861331\tvalidation_1-auc:0.841265\n",
            "[141]\tvalidation_0-auc:0.861418\tvalidation_1-auc:0.841259\n",
            "[142]\tvalidation_0-auc:0.861553\tvalidation_1-auc:0.841335\n",
            "[143]\tvalidation_0-auc:0.861682\tvalidation_1-auc:0.841346\n",
            "[144]\tvalidation_0-auc:0.86169\tvalidation_1-auc:0.841403\n",
            "[145]\tvalidation_0-auc:0.861852\tvalidation_1-auc:0.841299\n",
            "[146]\tvalidation_0-auc:0.861898\tvalidation_1-auc:0.841301\n",
            "[147]\tvalidation_0-auc:0.861998\tvalidation_1-auc:0.841289\n",
            "[148]\tvalidation_0-auc:0.862068\tvalidation_1-auc:0.84135\n",
            "[149]\tvalidation_0-auc:0.862132\tvalidation_1-auc:0.841444\n",
            "[150]\tvalidation_0-auc:0.862236\tvalidation_1-auc:0.841409\n",
            "[151]\tvalidation_0-auc:0.862314\tvalidation_1-auc:0.841459\n",
            "[152]\tvalidation_0-auc:0.862584\tvalidation_1-auc:0.841456\n",
            "[153]\tvalidation_0-auc:0.862843\tvalidation_1-auc:0.841483\n",
            "[154]\tvalidation_0-auc:0.863033\tvalidation_1-auc:0.841493\n",
            "[155]\tvalidation_0-auc:0.863132\tvalidation_1-auc:0.841534\n",
            "[156]\tvalidation_0-auc:0.863423\tvalidation_1-auc:0.841728\n",
            "[157]\tvalidation_0-auc:0.863578\tvalidation_1-auc:0.841712\n",
            "[158]\tvalidation_0-auc:0.863872\tvalidation_1-auc:0.841677\n",
            "[159]\tvalidation_0-auc:0.863924\tvalidation_1-auc:0.841658\n",
            "[160]\tvalidation_0-auc:0.863985\tvalidation_1-auc:0.841608\n",
            "[161]\tvalidation_0-auc:0.864019\tvalidation_1-auc:0.841646\n",
            "[162]\tvalidation_0-auc:0.864049\tvalidation_1-auc:0.841665\n",
            "[163]\tvalidation_0-auc:0.864148\tvalidation_1-auc:0.841682\n",
            "[164]\tvalidation_0-auc:0.864221\tvalidation_1-auc:0.841791\n",
            "[165]\tvalidation_0-auc:0.86426\tvalidation_1-auc:0.841732\n",
            "[166]\tvalidation_0-auc:0.864309\tvalidation_1-auc:0.841688\n",
            "[167]\tvalidation_0-auc:0.864411\tvalidation_1-auc:0.841699\n",
            "[168]\tvalidation_0-auc:0.864581\tvalidation_1-auc:0.841711\n",
            "[169]\tvalidation_0-auc:0.864619\tvalidation_1-auc:0.841729\n",
            "[170]\tvalidation_0-auc:0.864709\tvalidation_1-auc:0.841684\n",
            "[171]\tvalidation_0-auc:0.864849\tvalidation_1-auc:0.841704\n",
            "[172]\tvalidation_0-auc:0.865047\tvalidation_1-auc:0.841614\n",
            "[173]\tvalidation_0-auc:0.865085\tvalidation_1-auc:0.84162\n",
            "[174]\tvalidation_0-auc:0.865321\tvalidation_1-auc:0.841734\n",
            "[175]\tvalidation_0-auc:0.865523\tvalidation_1-auc:0.8418\n",
            "[176]\tvalidation_0-auc:0.865766\tvalidation_1-auc:0.841706\n",
            "[177]\tvalidation_0-auc:0.865925\tvalidation_1-auc:0.841829\n",
            "[178]\tvalidation_0-auc:0.866004\tvalidation_1-auc:0.841863\n",
            "[179]\tvalidation_0-auc:0.866111\tvalidation_1-auc:0.841834\n",
            "[180]\tvalidation_0-auc:0.866196\tvalidation_1-auc:0.841856\n",
            "[181]\tvalidation_0-auc:0.866366\tvalidation_1-auc:0.841826\n",
            "[182]\tvalidation_0-auc:0.86643\tvalidation_1-auc:0.841757\n",
            "[183]\tvalidation_0-auc:0.866606\tvalidation_1-auc:0.841636\n",
            "[184]\tvalidation_0-auc:0.866827\tvalidation_1-auc:0.8415\n",
            "[185]\tvalidation_0-auc:0.86688\tvalidation_1-auc:0.841593\n",
            "[186]\tvalidation_0-auc:0.866935\tvalidation_1-auc:0.841556\n",
            "[187]\tvalidation_0-auc:0.867004\tvalidation_1-auc:0.84152\n",
            "[188]\tvalidation_0-auc:0.867048\tvalidation_1-auc:0.841506\n",
            "[189]\tvalidation_0-auc:0.867219\tvalidation_1-auc:0.841506\n",
            "[190]\tvalidation_0-auc:0.867274\tvalidation_1-auc:0.841485\n",
            "[191]\tvalidation_0-auc:0.867332\tvalidation_1-auc:0.841434\n",
            "[192]\tvalidation_0-auc:0.867393\tvalidation_1-auc:0.841442\n",
            "[193]\tvalidation_0-auc:0.867493\tvalidation_1-auc:0.841402\n",
            "[194]\tvalidation_0-auc:0.867554\tvalidation_1-auc:0.841418\n",
            "[195]\tvalidation_0-auc:0.867612\tvalidation_1-auc:0.841306\n",
            "[196]\tvalidation_0-auc:0.867653\tvalidation_1-auc:0.841299\n",
            "[197]\tvalidation_0-auc:0.867884\tvalidation_1-auc:0.841215\n",
            "[198]\tvalidation_0-auc:0.86792\tvalidation_1-auc:0.841233\n",
            "[199]\tvalidation_0-auc:0.868009\tvalidation_1-auc:0.841232\n",
            "[200]\tvalidation_0-auc:0.868041\tvalidation_1-auc:0.841281\n",
            "[201]\tvalidation_0-auc:0.868068\tvalidation_1-auc:0.841247\n",
            "[202]\tvalidation_0-auc:0.868219\tvalidation_1-auc:0.841184\n",
            "[203]\tvalidation_0-auc:0.868387\tvalidation_1-auc:0.841062\n",
            "[204]\tvalidation_0-auc:0.868541\tvalidation_1-auc:0.841111\n",
            "[205]\tvalidation_0-auc:0.868656\tvalidation_1-auc:0.84118\n",
            "[206]\tvalidation_0-auc:0.86874\tvalidation_1-auc:0.8411\n",
            "[207]\tvalidation_0-auc:0.86877\tvalidation_1-auc:0.841171\n",
            "[208]\tvalidation_0-auc:0.869001\tvalidation_1-auc:0.841108\n",
            "[209]\tvalidation_0-auc:0.869076\tvalidation_1-auc:0.841072\n",
            "[210]\tvalidation_0-auc:0.869226\tvalidation_1-auc:0.841046\n",
            "[211]\tvalidation_0-auc:0.869248\tvalidation_1-auc:0.841028\n",
            "[212]\tvalidation_0-auc:0.86931\tvalidation_1-auc:0.840946\n",
            "[213]\tvalidation_0-auc:0.869368\tvalidation_1-auc:0.84097\n",
            "[214]\tvalidation_0-auc:0.869392\tvalidation_1-auc:0.840956\n",
            "[215]\tvalidation_0-auc:0.869424\tvalidation_1-auc:0.840972\n",
            "[216]\tvalidation_0-auc:0.869623\tvalidation_1-auc:0.841031\n",
            "[217]\tvalidation_0-auc:0.869782\tvalidation_1-auc:0.841065\n",
            "[218]\tvalidation_0-auc:0.869946\tvalidation_1-auc:0.841163\n",
            "[219]\tvalidation_0-auc:0.870121\tvalidation_1-auc:0.841116\n",
            "[220]\tvalidation_0-auc:0.870264\tvalidation_1-auc:0.84101\n",
            "[221]\tvalidation_0-auc:0.87038\tvalidation_1-auc:0.840953\n",
            "[222]\tvalidation_0-auc:0.870521\tvalidation_1-auc:0.841005\n",
            "[223]\tvalidation_0-auc:0.870696\tvalidation_1-auc:0.8411\n",
            "[224]\tvalidation_0-auc:0.870835\tvalidation_1-auc:0.841151\n",
            "[225]\tvalidation_0-auc:0.870946\tvalidation_1-auc:0.841051\n",
            "[226]\tvalidation_0-auc:0.870993\tvalidation_1-auc:0.841012\n",
            "[227]\tvalidation_0-auc:0.871048\tvalidation_1-auc:0.841054\n",
            "[228]\tvalidation_0-auc:0.871088\tvalidation_1-auc:0.841005\n",
            "[229]\tvalidation_0-auc:0.871115\tvalidation_1-auc:0.84093\n",
            "[230]\tvalidation_0-auc:0.871159\tvalidation_1-auc:0.840939\n",
            "[231]\tvalidation_0-auc:0.871225\tvalidation_1-auc:0.840889\n",
            "[232]\tvalidation_0-auc:0.871284\tvalidation_1-auc:0.840894\n",
            "[233]\tvalidation_0-auc:0.871308\tvalidation_1-auc:0.840923\n",
            "[234]\tvalidation_0-auc:0.871376\tvalidation_1-auc:0.841058\n",
            "[235]\tvalidation_0-auc:0.871439\tvalidation_1-auc:0.841035\n",
            "[236]\tvalidation_0-auc:0.871638\tvalidation_1-auc:0.841187\n",
            "[237]\tvalidation_0-auc:0.871762\tvalidation_1-auc:0.841209\n",
            "[238]\tvalidation_0-auc:0.87184\tvalidation_1-auc:0.841378\n",
            "[239]\tvalidation_0-auc:0.871884\tvalidation_1-auc:0.841406\n",
            "[240]\tvalidation_0-auc:0.871987\tvalidation_1-auc:0.841472\n",
            "[241]\tvalidation_0-auc:0.872169\tvalidation_1-auc:0.841411\n",
            "[242]\tvalidation_0-auc:0.872259\tvalidation_1-auc:0.841359\n",
            "[243]\tvalidation_0-auc:0.872465\tvalidation_1-auc:0.841397\n",
            "[244]\tvalidation_0-auc:0.872518\tvalidation_1-auc:0.84136\n",
            "[245]\tvalidation_0-auc:0.872531\tvalidation_1-auc:0.841404\n",
            "[246]\tvalidation_0-auc:0.872555\tvalidation_1-auc:0.841325\n",
            "[247]\tvalidation_0-auc:0.872693\tvalidation_1-auc:0.841303\n",
            "[248]\tvalidation_0-auc:0.872905\tvalidation_1-auc:0.841331\n",
            "[249]\tvalidation_0-auc:0.872917\tvalidation_1-auc:0.841334\n",
            "[250]\tvalidation_0-auc:0.872945\tvalidation_1-auc:0.841375\n",
            "[251]\tvalidation_0-auc:0.873042\tvalidation_1-auc:0.841281\n",
            "[252]\tvalidation_0-auc:0.873125\tvalidation_1-auc:0.841266\n",
            "[253]\tvalidation_0-auc:0.87328\tvalidation_1-auc:0.841185\n",
            "[254]\tvalidation_0-auc:0.873296\tvalidation_1-auc:0.841173\n",
            "[255]\tvalidation_0-auc:0.87335\tvalidation_1-auc:0.841161\n",
            "[256]\tvalidation_0-auc:0.873377\tvalidation_1-auc:0.841136\n",
            "[257]\tvalidation_0-auc:0.873481\tvalidation_1-auc:0.841035\n",
            "[258]\tvalidation_0-auc:0.873558\tvalidation_1-auc:0.840996\n",
            "[259]\tvalidation_0-auc:0.873674\tvalidation_1-auc:0.840999\n",
            "[260]\tvalidation_0-auc:0.873779\tvalidation_1-auc:0.841058\n",
            "[261]\tvalidation_0-auc:0.874002\tvalidation_1-auc:0.841059\n",
            "[262]\tvalidation_0-auc:0.874125\tvalidation_1-auc:0.841093\n",
            "[263]\tvalidation_0-auc:0.874144\tvalidation_1-auc:0.841091\n",
            "[264]\tvalidation_0-auc:0.87417\tvalidation_1-auc:0.841116\n",
            "[265]\tvalidation_0-auc:0.874196\tvalidation_1-auc:0.841127\n",
            "[266]\tvalidation_0-auc:0.874238\tvalidation_1-auc:0.841082\n",
            "[267]\tvalidation_0-auc:0.874271\tvalidation_1-auc:0.841138\n",
            "[268]\tvalidation_0-auc:0.874298\tvalidation_1-auc:0.841147\n",
            "[269]\tvalidation_0-auc:0.874343\tvalidation_1-auc:0.841167\n",
            "[270]\tvalidation_0-auc:0.874417\tvalidation_1-auc:0.841146\n",
            "[271]\tvalidation_0-auc:0.87444\tvalidation_1-auc:0.841165\n",
            "[272]\tvalidation_0-auc:0.874479\tvalidation_1-auc:0.841174\n",
            "[273]\tvalidation_0-auc:0.874482\tvalidation_1-auc:0.841185\n",
            "[274]\tvalidation_0-auc:0.874647\tvalidation_1-auc:0.841277\n",
            "[275]\tvalidation_0-auc:0.8747\tvalidation_1-auc:0.841295\n",
            "[276]\tvalidation_0-auc:0.874743\tvalidation_1-auc:0.841319\n",
            "[277]\tvalidation_0-auc:0.874795\tvalidation_1-auc:0.841353\n",
            "[278]\tvalidation_0-auc:0.874858\tvalidation_1-auc:0.841289\n",
            "Stopping. Best iteration:\n",
            "[178]\tvalidation_0-auc:0.866004\tvalidation_1-auc:0.841863\n",
            "\n",
            "ROC AUC: 0.8419\n"
          ]
        }
      ]
    },
    {
      "cell_type": "markdown",
      "source": [
        "하이퍼 파라미터 튜닝 진행하자. 칼럼 수가 많으므로 과적합 가능성 가정하고, max_depth, min_child_weight, colsample_bytree 하이퍼 파라미터만 일차 튜밍 대상으로 한다.\n",
        "\n",
        "다음 코드는 8개의 하이퍼 파라미터 경우의 수를 가짐. GridSearchCV 적용 후에 초적 파라미터가 어떤 것이고, GridSearchCV에서 재학습된 estimator에서 ROC-AUC 수치가 어떻게 향상되는지 확인하자."
      ],
      "metadata": {
        "id": "qZ9YvDuparfG"
      }
    },
    {
      "cell_type": "code",
      "source": [
        "from sklearn.model_selection import GridSearchCV\n",
        "\n",
        "#하이퍼 파라미터 테스트의 수행 속도를 향상시키기 위해 n_estimators 감소시킴\n",
        "xgb_clf=XGBClassifier(n_estimators=100)\n",
        "\n",
        "params={'max_depth':[5,7], 'min_child_weight':[1,3], 'colsample_bytree':[0.5, 0.75]}\n",
        "\n",
        "#cv=3으로 지정\n",
        "gridcv=GridSearchCV(xgb_clf, param_grid=params, cv=3)\n",
        "gridcv.fit(X_train, y_train, early_stopping_rounds=30, eval_metric='auc', eval_set=[(X_train, y_train), (X_test, y_test)])\n",
        "\n",
        "print('GridSearchCV 최적 파라미터:', gridcv.best_params_)\n",
        "\n",
        "xgb_roc_score=roc_auc_score(y_test, gridcv.predict_proba(X_test)[:,1], average='macro')\n",
        "print('ROC AUC: {0:.4f}'.format(xgb_roc_score))"
      ],
      "metadata": {
        "id": "WpZeRJrJar7-"
      },
      "execution_count": null,
      "outputs": []
    },
    {
      "cell_type": "markdown",
      "source": [
        "이전 예제의 roc 보다 colsample_bytree=0.75, max_depth=7, min_child_weight=1에서 조금 개선됨. 앞에서 구한 최적화 하이퍼 파라미터를 기반으로 다른 하이퍼 파라미터를 변경, 추가해 다시 최적화 진행하자."
      ],
      "metadata": {
        "id": "dhTNq_v3asXm"
      }
    },
    {
      "cell_type": "code",
      "source": [
        "#n_estimators=1000으로 증가시키고, learning_rate=0.02로 감소, reg_alpha=0.03 추가.\n",
        "xgb_clf=XGBClassifier(n_estimators=1000, random_state=156, learning_rate=0.02, max_depth=7, min_child_weight=1, colsample_bytree=0.75, reg_alpha=0.03)\n",
        "\n",
        "#성능 평가 지표를 auc로, 조기 중단 파라미터 값을 200으로 설정하고 학습 수행\n",
        "xgb_clf.fit(X_train, y_train, early_stopping_rounds=200, eval_metric='auc', eval_set=[(X_train, y_train), (X_test, y_test)])\n",
        "\n",
        "xgb_roc_score=roc_auc_score(y_test, xgb_clf.predict_proba(X_test)[:,1], average='macro')\n",
        "print('ROC AUC: {0:.4f}'.format(xgb_roc_score))"
      ],
      "metadata": {
        "id": "5FzP1TDXassq"
      },
      "execution_count": null,
      "outputs": []
    },
    {
      "cell_type": "markdown",
      "source": [
        "확실히 이전보다 나은 결과. 아쉬운 점은 시간. 사실 앙상블 계열 알고리즘에서 하이퍼 파라미터 튜닝으로 성능 수치가 급격히 개선되는 경우는 잘 없음.\n",
        "\n",
        "피처 중요도를 그래프로 나타내보자."
      ],
      "metadata": {
        "id": "eMKq_1ZrdY2C"
      }
    },
    {
      "cell_type": "code",
      "source": [
        "from xgboost import plot_importance\n",
        "import matplotlib.pyplot as plt\n",
        "%matplotlib inline\n",
        "\n",
        "fig, ax=plt.subplots(1,1, figsize=(10,8))\n",
        "plot_importance(xgb_clf, ax=ax, max_num_features=20, height=0.4)"
      ],
      "metadata": {
        "id": "6WuF6XkvdZF5"
      },
      "execution_count": null,
      "outputs": []
    },
    {
      "cell_type": "markdown",
      "source": [
        "var38, var15가 예측 성능을 좌우함.\n",
        "\n",
        "**LightGBM 모델 학습과 하이퍼 파라미터 튜닝**\n",
        "\n",
        "앞 예제에서 만들어진 데이터세트 기반으로 수행하고 측정할 것."
      ],
      "metadata": {
        "id": "qDYl2ilZd6jw"
      }
    },
    {
      "cell_type": "code",
      "source": [
        "from lightgbm import LGBMClassifier\n",
        "\n",
        "lgbm_clf=LGBMClassifier(n_estimators=500)\n",
        "\n",
        "evals=[(X_test, y_test)]\n",
        "lgbm_clf.fit(X_train, y_train, early_stopping_rounds=100, eval_metric='auc', eval_set=evals, verbose=True)\n",
        "\n",
        "lgbm_roc_score=roc_auc_score(y_test, lgbm_clf.predict_proba(X_test)[:,1], average='macro')\n",
        "print('ROC AUC : {0:.4f}'.format(lgbm_roc_score))"
      ],
      "metadata": {
        "id": "LVjW2M9ueJDZ"
      },
      "execution_count": null,
      "outputs": []
    },
    {
      "cell_type": "markdown",
      "source": [
        "XGBoost보다 확실히 시간은 덜 걸림. GridSearcCV로 다양한 하이퍼 파라미터 튜닝해보자."
      ],
      "metadata": {
        "id": "HfBsEJjGeuau"
      }
    },
    {
      "cell_type": "code",
      "source": [
        "from sklearn.model_selection import GridSearchCV\n",
        "\n",
        "#하이퍼 파라미터 테스트의 수행 속도 향상을 위해 n_estimators 감소시킴\n",
        "lgbm_clf=LGBMClassifier(n_estimators=200)\n",
        "\n",
        "params={'num_leaves':[32,64], 'max_depth':[128, 160], 'min_child_samples':[60, 100], 'sub_sample':[0.8,1]}\n",
        "\n",
        "#cv=3\n",
        "gridcv=GridSearchCV(lgbm_clf, param_grid=params, cv=3)\n",
        "gridcv.fit(X_train, y_train, early_stopping_rounds=30, eval_metric='auc', eval_set=[(X_train, y_train), (X_test, y_test)])\n",
        "\n",
        "print('GridSearchCV 최적 파라미터:', gridcv.best_params_)\n",
        "lgbm_roc_score=roc_auc_score(y_test, gridcv.predict_proba(X_test)[:,1], average='macro')\n",
        "print('ROC AUC: {0:.4f}'.format(lgbm_roc_score))"
      ],
      "metadata": {
        "id": "_kUm7A1Re1EL"
      },
      "execution_count": null,
      "outputs": []
    },
    {
      "cell_type": "markdown",
      "source": [
        "해당 파라미터를 다시 적용해 결과를 도출해보자."
      ],
      "metadata": {
        "id": "V_5DlO_lf4Nf"
      }
    },
    {
      "cell_type": "code",
      "source": [
        "lgbm_clf=LGBMClassifier(n_estimators=1000, num_leaves=32, subsample=0.8, min_child_samples=100, max_depth=128)\n",
        "evals=[(X_test, y_test)]\n",
        "lgbm_clf.fit(X_train, y_train, early_stopping_rounds=100, eval_metric='auc', eval_set=evals, verbose=True)\n",
        "\n",
        "lgbm_roc_score=roc_auc_score(y_test, lgbm_clf.predict_proba(X_test)[:,1], average='macro')\n",
        "print('ROC AUC : {0.4f}'.format(lgbm_roc_score))"
      ],
      "metadata": {
        "id": "8cPHRRggf7Bz"
      },
      "execution_count": null,
      "outputs": []
    },
    {
      "cell_type": "markdown",
      "source": [
        "lgbm의 경우 0.8442로 측정됨.\n",
        "\n",
        ">**09. 분류 실습 - 캐글 신용카드 사기 검출**\n",
        "\n",
        "매우 불균형한 분포. class의 0은 정상적인 데이터 1은 사기 트랜잭션 의미. 전체 데이터의 0.172%만이 사기 트랜잭션임. \n",
        "\n",
        "\n",
        "**언더 샘플링과 오버 샘플링의 이해**\n",
        "\n",
        "불균형할 경우 예측 성능에 문제 발생 가능성. 적절한 학습 데이터를 확보하는 방안이 필요한데 대표적을 오버 샘플링과 언더 샘플링 방식이 있음.\n",
        "\n",
        "* 언더 샘플링 : 많은 데이터 세트를 적은 데이터 세트 수준으로 감소시키는 방식. 하지만 너무 많은 정상 레이블 데이터를 감소시켜 오히려 제대로 학습 불가능 할 수 있음.\n",
        "* 오버 샘플링 : 적은 데이터를 증식하여 학습을 위한 충분한 데이터를 확보하는 방식. 단순 증식은 오버비팅 되기 때문에 원본 피처 값을 아주 약간만 변형하여 증식한다. SMOTE 방법.\n",
        "\n",
        "SMOTE 방법의 대표적 패키지는 imbalanced-learn. 증식해보자.\n",
        "\n",
        "**데이터 일차 가공 및 모델 학습/예측/평가**\n"
      ],
      "metadata": {
        "id": "mcFZOwdGFdqu"
      }
    },
    {
      "cell_type": "code",
      "source": [
        "import pandas as pd\n",
        "import numpy as np\n",
        "import matplotlib.pyplot as plt\n",
        "import warnings\n",
        "warnings.filtetwarnings('ignore')\n",
        "%matplotlib inline\n",
        "\n",
        "card_df=pd.read_csv('creditcard.csv')\n",
        "card_df.head(3)"
      ],
      "metadata": {
        "id": "bUvgVYIeGrle"
      },
      "execution_count": null,
      "outputs": []
    },
    {
      "cell_type": "markdown",
      "source": [
        "v로 시작하는 피처들의 의미 모름. time은 제거하자. 다양한 가공 수행하고 예측 성능 비교하자."
      ],
      "metadata": {
        "id": "yYbctAVFG7D-"
      }
    },
    {
      "cell_type": "code",
      "source": [
        "from sklearn.model_selection import train_test_split\n",
        "\n",
        "#인자로 입력받은 dF를 복사하고 time 칼럼 삭제하고 복사된 DF 반환\n",
        "def get_preprocessed_df(df=None):\n",
        "  df_copy=df.copy()\n",
        "  df_copy.drop('Time', axis=1, inplace=True)\n",
        "  return df_copy"
      ],
      "metadata": {
        "id": "jjszP3kMHI1w"
      },
      "execution_count": null,
      "outputs": []
    },
    {
      "cell_type": "code",
      "source": [
        "#사전 데이터 가공 후 학습과 테스트 데이터 세트를 반환하는 함수\n",
        "def get_train_test_dataset(df=None):\n",
        "  #인자로 입력된 DF의 사전 데이터 가공이 완료된 복사DF반환\n",
        "  df_copy=get_preprocessed_df(df)\n",
        "  #DF의 맨 마지막 칼럼이 레이블, 나머지는 피처들\n",
        "  X_features=df_copy.iloc[:,:-1]\n",
        "  y_target=df_copy.iloc[:,-1]\n",
        "  #train_test_split으로 학습과 테스트 데이터 분할. stratiy=y_target으로 stratified 기반 분할\n",
        "  X_train, X_test, y_train, y_test=train_test_split(X_features, y_target, test_size=0.3, random_state=0, stratify=y_target)\n",
        "  #학습/테스트 데이터 세트반환\n",
        "  return X_train, X_test, y_train, y_test\n",
        "\n",
        "X_train, X_test, y_train, y_test=get_train_test_dataset(card_df)"
      ],
      "metadata": {
        "id": "dFUIYWJAHcoB"
      },
      "execution_count": null,
      "outputs": []
    },
    {
      "cell_type": "markdown",
      "source": [
        "서로 비슷하게 분할되었는지 확인"
      ],
      "metadata": {
        "id": "5LMMMPEXITFO"
      }
    },
    {
      "cell_type": "code",
      "source": [
        "print('학습 데이터 레이블 값 비율')\n",
        "print(y_train.value_counts()/y_train.shape[0]*100)\n",
        "print('테스트 데이터 레이블 값 비율')\n",
        "print(y_test.value_counts()/y_test.shape[0]*100)"
      ],
      "metadata": {
        "id": "iQTx-cAoIXEo"
      },
      "execution_count": null,
      "outputs": []
    },
    {
      "cell_type": "markdown",
      "source": [
        "잘 분할됨. 이제 모델 만들자. 로지스틱 회귀와 lgbm 기반의 모델이 데이터 가공을 수행하며 예측 성능이 어떻게 변하는지 살펴볼 것."
      ],
      "metadata": {
        "id": "jpte2b5nIoB9"
      }
    },
    {
      "cell_type": "code",
      "source": [
        "from sklearn.linear_model import LogisticRegression\n",
        "\n",
        "lr_clf=LogisticRegression()\n",
        "lr_clf.fit(X_train, y_train)\n",
        "lr_pred=lr_clf.predict(X_test)\n",
        "lr_pred_proba=lr_clf.predict_proba(X_test)[:,1]\n",
        "\n",
        "#3장에서 사용한 get_clf_eval 함수 이용해 평가 수행\n",
        "get_clf_eval(y_test, lr_pred, lr_pred_proba)"
      ],
      "metadata": {
        "id": "1fhnTRZdIv17"
      },
      "execution_count": null,
      "outputs": []
    },
    {
      "cell_type": "markdown",
      "source": [
        "이때는 재현율=0.6081, roc=0.9709\n",
        "\n",
        "이제는 lgbm으로 모델 만들어보자."
      ],
      "metadata": {
        "id": "WEOz8yXUJNU6"
      }
    },
    {
      "cell_type": "code",
      "source": [
        "#인자로 사이킷런의 estimator 객체와 학습/테스트 데이터 세트 입력 받아 학습/예측/평가 수행\n",
        "def get_model_train_eval(model, ftr_train=None, ftr_test=None, tgt_train=None, tgt_test=None):\n",
        "  model.fit(ftr_train, tgt_train)\n",
        "  pred=model.predict(ftr_test)\n",
        "  pred_proba=model.predict_proba(ftr_test)[:,1]\n",
        "  get_clf_eval(tgt_test, pred, pred_proba)"
      ],
      "metadata": {
        "id": "L_J6NyULJfjG"
      },
      "execution_count": null,
      "outputs": []
    },
    {
      "cell_type": "code",
      "source": [
        "from lightgbm import LGBMClassifier\n",
        "\n",
        "lgbm_clf=LGBMClassifier(n_estimators=1000, num_leaves=64, n_jobs=-1, boost_from_average=False)\n",
        "get_model_train_eval(lgbm_clf, ftr_train=X_train, ftr_test=X_test, tgt_train=y_train, tgt_test=y_test)"
      ],
      "metadata": {
        "id": "JZB_AcGQJ_p3"
      },
      "execution_count": null,
      "outputs": []
    },
    {
      "cell_type": "markdown",
      "source": [
        "재현율=0.7568, roc=0.9797로 앞의 로지스틱보단 낫다.\n",
        "\n",
        "**데이터 분포도 변환 후 모델 학습/예측/평가**\n",
        "\n",
        "왜곡된 분포도를 가지는 데이터를 재가공한 뒤에 모델을 다시 테스트해보자. 먼저 중요 피처 값의 분포를 살펴보자."
      ],
      "metadata": {
        "id": "1V1x-g5JKWYd"
      }
    },
    {
      "cell_type": "code",
      "source": [
        "import seabon as sns\n",
        "plt.figure(figsize=(8,4))\n",
        "plt.xticks(range(0, 30000, 1000), rotation=60)\n",
        "sns.displot(card_df['Amount'])"
      ],
      "metadata": {
        "id": "vIrEeATAKtO4"
      },
      "execution_count": null,
      "outputs": []
    },
    {
      "cell_type": "markdown",
      "source": [
        "amount 피처는 사용금액이 1000불 이하인 데이터가 대부분임. 하지만 꼬리가 길다. 이를 표준 정규 분포 형태로 변환한 뒤에 로지스틱 회귀의 예측 성능을 보자."
      ],
      "metadata": {
        "id": "SZRWkAHEK6vE"
      }
    },
    {
      "cell_type": "code",
      "source": [
        "from sklearn.preprocessing import StandardScaler\n",
        "#사이킷런의 StandardScaler를 이용해 정규 분포 형태로 Amount 피처 값 변환하는 로직 수정.\n",
        "def get_preprocessed_df(df=None):\n",
        "  df_copy=df.copy()\n",
        "  scaler=StandardScaler()\n",
        "  amount_n=scaler.fit_transform(df_copy['Amount'].values.reshape(-1,1))\n",
        "  #변환된 amount를 amount_scaled로 피처명 변경 후 DF 맨 앞 칼럼으로 입력\n",
        "  df_copy.insert(0, 'Amount_Scaled', amount_n)\n",
        "  #기존 time, amount 피처 삭제\n",
        "  df_copy.drop(['Time', 'Amount'], axis=1, inplace=True)\n",
        "  return df_copy"
      ],
      "metadata": {
        "id": "Q2DLdD2ELHE_"
      },
      "execution_count": null,
      "outputs": []
    },
    {
      "cell_type": "markdown",
      "source": [
        "로지스틱 회귀와 lgbm 모델을 각각 학습/평가/예측 해보자."
      ],
      "metadata": {
        "id": "fIo0vNluL4Le"
      }
    },
    {
      "cell_type": "code",
      "source": [
        "#amount를 정규 분포 형태로 변환 후 로지스틱 회귀 및 lgbm 수행.\n",
        "X_train, X_test, y_train, y_test=get_train_test_dataset(card_df)\n",
        "\n",
        "print('###로지스틱 회귀 예측 성능###')\n",
        "lr_clf=LogisticRegression()\n",
        "get_model_train_eval(lr_clf, ftr_train=X_train, ftr_test=X_test, tgt_train=y_train,tgt_test=y_test)\n",
        "\n",
        "print('###lgbm 예측 성능###')\n",
        "lgbm_clf=LGBMClassifier(n_estimators=1000, num_leaves=64, n_jobs=-1)\n",
        "get_model_train_eval(lgbm_clf, ftr_train=X_train, ftr_test=X_test, tgt_train=y_train, tgt_test=y_test)"
      ],
      "metadata": {
        "id": "f_FrdsjoL99V"
      },
      "execution_count": null,
      "outputs": []
    },
    {
      "cell_type": "markdown",
      "source": [
        "성능이 크게 개선되지는 않는다. \n",
        "\n",
        "이번에는 로그 변환을 수행해보자. 분포가 심하게 왜곡되어 있을 경우 유용."
      ],
      "metadata": {
        "id": "pNKA0i5NMsdM"
      }
    },
    {
      "cell_type": "code",
      "source": [
        "def get_preprocessed_df(df=None):\n",
        "  df_copy=df.copy()\n",
        "  #넘파이의 log1p()이용해 amount를 로그 변환\n",
        "  amount_n=np.log1p(df_copy['Amount'])\n",
        "  df_copy.insert(0, 'Amount_scaled', amount_n)\n",
        "  df_copy.drop(['Time', 'Amount'], axis=1, inplace=True)\n",
        "  return df_copy"
      ],
      "metadata": {
        "id": "B_yazoLUM1w6"
      },
      "execution_count": null,
      "outputs": []
    },
    {
      "cell_type": "code",
      "source": [
        "X_train, X_test, y_train, y_test=get_train_test_dataset(card_df)\n",
        "\n",
        "print('###로지스틱 회귀 예측 성능###')\n",
        "get_model_train_eval(lr_clf, ftr_train=X_train, ftr_test=X_test, tgt_train=y_train, tgt_test=y_test)\n",
        "\n",
        "print('###lgbm 예측 성능###')\n",
        "get_model_train_eval(lgbm_clf, ftr_train=X_train, ftr_test=X_test, tgt_train=y_train, tgt_test=y_test)"
      ],
      "metadata": {
        "id": "2nv7w4g0NPOX"
      },
      "execution_count": null,
      "outputs": []
    },
    {
      "cell_type": "markdown",
      "source": [
        "모두 개선됨!\n",
        "\n",
        "**이상치 데이터 제거 후 모델 학습/예측/평가**\n",
        "\n",
        "IQR 이용해 제거하면 된다. 어떤 피처의 이상치를 검출할 것인지 선택이 필요. 결정값과 상관이 높은 피처들 위주로 이상치를 검출하는 것이 좋다."
      ],
      "metadata": {
        "id": "HDFCC_kiNsh0"
      }
    },
    {
      "cell_type": "code",
      "source": [
        "import seaborn as sns\n",
        "\n",
        "plt.figure(figsize=(9,9))\n",
        "corr=card_df.corr()\n",
        "sns.heatmap(corr, cmap='RdBu')"
      ],
      "metadata": {
        "id": "Sg5KbLtQODuI"
      },
      "execution_count": null,
      "outputs": []
    },
    {
      "cell_type": "markdown",
      "source": [
        "상관관계를 보니 v14, v17이 상관관계가 높다. v14의 이상치를 제거하자."
      ],
      "metadata": {
        "id": "MFvaF95NOO3T"
      }
    },
    {
      "cell_type": "code",
      "source": [
        "import numpy as np\n",
        "\n",
        "def get_outlier(df=None, column=None, weight=1.5):\n",
        "  #fraud에 해당하는 칼럼 데이터만 추출, Q1, Q3 지점을 np.percentile로 추출\n",
        "  fraud=df[df['Class']==1][column]\n",
        "  quantile_25=np.percentile(fraud.values, 25)\n",
        "  quantile_75=np.percentile(fraud.values, 75)\n",
        "  #IQR 구하고 1.5 곱해 지점 구함\n",
        "  iqr=quantile_75-quantile_25\n",
        "  iqr_weight=iqr*weight\n",
        "  lowest_val=quantile_25-iqr_weight\n",
        "  highest_val-quantile_75+iqr_weight\n",
        "  #범위 밖 값을 이상치로 설정하고 DF index 반환\n",
        "  outlier_index=fraud[(fraud<lowest_val)|(fraud>highest_val)].index\n",
        "  return outlier_index"
      ],
      "metadata": {
        "id": "uemQAgNZOVaz"
      },
      "execution_count": null,
      "outputs": []
    },
    {
      "cell_type": "code",
      "source": [
        "#찾자\n",
        "outlier_index=get_outlier(df=card_df, cloumn='V14', weight=1.5)\n",
        "print('이상치 데이터 인덱스:', outlier_index)"
      ],
      "metadata": {
        "id": "lw-Kp4CBPYjO"
      },
      "execution_count": null,
      "outputs": []
    },
    {
      "cell_type": "markdown",
      "source": [
        "4개의 이상치. 삭제하고 가공한 뒤 다시 로지스틱 회귀와 lgbm 적용하면 된다. 성능이 크게 향상된다. \n",
        "\n",
        "**SMOTE 오버 샘플링 적용 후 모델 학습/예측/평가**\n",
        "\n",
        "반드시 학습 데이터 세트만 오버 샘플링을 해야 한다."
      ],
      "metadata": {
        "id": "JSZiT35QPk3I"
      }
    },
    {
      "cell_type": "code",
      "source": [
        "from imblearn.over_sampling import SMOTE\n",
        "\n",
        "smote=SMOTE(random_state=0)\n",
        "X_train_over, y_train_over=smote.fit_sample(X_train, y_train)\n",
        "print('SMOTE 적용 전 학습용 피처/레이블 데이터 세트:', X_train.shape, y_train.shape)\n",
        "print('SMOTE 적용 후 학습용 피처/레이블 데이터 세트:', X_train_over.shape, y_train_over.shape)\n",
        "print('SMOTE 적용 후 레이블 값 분포: \\n', pd.Series(y_train_over).value_counts())"
      ],
      "metadata": {
        "id": "4XRZDO7HQAQa"
      },
      "execution_count": null,
      "outputs": []
    },
    {
      "cell_type": "markdown",
      "source": [
        "데이터 증식됨! 로지스틱 학습 시키고 평가해보자."
      ],
      "metadata": {
        "id": "SEv1AzeYQokK"
      }
    },
    {
      "cell_type": "code",
      "source": [
        "lr_clf=LogisticRegression()\n",
        "#ftr_train과 tgt_train 인자값이 sMOTE 증식된 값으로 받아야함.\n",
        "get_model_train_eval(lr_clf, ftr_train=X_train_over, ftr_test=X_test, tgt_train=y_train_over, tgt_test=y_test)"
      ],
      "metadata": {
        "id": "n1iXTVMgQuYy"
      },
      "execution_count": null,
      "outputs": []
    },
    {
      "cell_type": "markdown",
      "source": [
        "재현율이 크게 증가하나 정밀도가 급격하게 저하됨. 오버 샘플링으로 인한 문제. 어떤 문제가 발생하고 있는 것인가?"
      ],
      "metadata": {
        "id": "LhxEsAeMRCWx"
      }
    },
    {
      "cell_type": "code",
      "source": [
        "precision_recall_curve_plot(y_test, lr_clf.predict_proba(X_test)[:,1])"
      ],
      "metadata": {
        "id": "Gp7QGdGMRO1p"
      },
      "execution_count": null,
      "outputs": []
    },
    {
      "cell_type": "markdown",
      "source": [
        "임계값 0.99 이하에서는 재현율이 매우 좋고 정밀도가 극단적으로 낮다가 0.99 이상에서는 정반대로... 분류 결정 임계값 조정하더라도 민감도 너무 심해 올바른 재현율/정밀도 성능 얻을 수 없으므로 로지스틱 회귀 모델의 경우 SMOTE가 적당해보이지 않는다. 그럼 lgbm을 확인해보자."
      ],
      "metadata": {
        "id": "9yxUGqGVRYkK"
      }
    },
    {
      "cell_type": "code",
      "source": [
        "lgbm_clf=LGBMClassifier(n_estimators=1000, num_leaves=64, n_jobs=-1, boost_from_average=False)\n",
        "get_model_train_eval(lgbm_clf, ftr_train=X_train_over, ftr_test=X_test, tgt_train=y_train_over, tgt_test=y_test)"
      ],
      "metadata": {
        "id": "na7q1zPARtz4"
      },
      "execution_count": null,
      "outputs": []
    },
    {
      "cell_type": "markdown",
      "source": [
        "재현율이 이상치만 제거했을 경우보다 나아졌다. 하지만 정밀도는 이전보다 낮음. SMOTE를 적용하면 이렇게 재현율을 높아지나 정밀도는 낮아지는 것이 일반적이다. "
      ],
      "metadata": {
        "id": "5rM02C-GSCOn"
      }
    }
  ]
}