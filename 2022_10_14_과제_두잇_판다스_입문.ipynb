{
  "nbformat": 4,
  "nbformat_minor": 0,
  "metadata": {
    "colab": {
      "provenance": [],
      "authorship_tag": "ABX9TyN8HiQzD4D69ySF7eeOdIKb",
      "include_colab_link": true
    },
    "kernelspec": {
      "name": "python3",
      "display_name": "Python 3"
    },
    "language_info": {
      "name": "python"
    }
  },
  "cells": [
    {
      "cell_type": "markdown",
      "metadata": {
        "id": "view-in-github",
        "colab_type": "text"
      },
      "source": [
        "<a href=\"https://colab.research.google.com/github/nyoons/ESAA/blob/main/2022_10_14_%EA%B3%BC%EC%A0%9C_%EB%91%90%EC%9E%87_%ED%8C%90%EB%8B%A4%EC%8A%A4_%EC%9E%85%EB%AC%B8.ipynb\" target=\"_parent\"><img src=\"https://colab.research.google.com/assets/colab-badge.svg\" alt=\"Open In Colab\"/></a>"
      ]
    },
    {
      "cell_type": "markdown",
      "source": [
        "두잇 판다스 입문"
      ],
      "metadata": {
        "id": "EOytzESQ3rQw"
      }
    },
    {
      "cell_type": "markdown",
      "source": [
        ">datetime 오브젝트로 변환하기 - to_datetime 메서드\n",
        "\n",
        "시계열을 문자열로 저장해야할 때, 문자열은 시간 계산은 불가능하므로 datetime 오브젝트로 변경 필요."
      ],
      "metadata": {
        "id": "DYdDTl2D3tiz"
      }
    },
    {
      "cell_type": "code",
      "execution_count": 1,
      "metadata": {
        "id": "8C6bxGZa3c6l"
      },
      "outputs": [],
      "source": [
        "#문자열을 datetime 오브젝트로 변환하기\n",
        "\n",
        "#01. 먼저 ebola 데이터 집합 불러온다\n",
        "import pandas as pd\n",
        "import os\n",
        "\n",
        "ebola=pd.read_csv('country_timeseries.csv')"
      ]
    },
    {
      "cell_type": "code",
      "source": [
        "#02. ebola 데이터 프레임을 보면 문자열로 저장된 date 열이 있다\n",
        "print(ebola.info())"
      ],
      "metadata": {
        "colab": {
          "base_uri": "https://localhost:8080/"
        },
        "id": "SDg4j_oE5g9q",
        "outputId": "a7c58b61-a8b1-4f40-cf84-85cda9c0aa8b"
      },
      "execution_count": 2,
      "outputs": [
        {
          "output_type": "stream",
          "name": "stdout",
          "text": [
            "<class 'pandas.core.frame.DataFrame'>\n",
            "RangeIndex: 122 entries, 0 to 121\n",
            "Data columns (total 18 columns):\n",
            " #   Column               Non-Null Count  Dtype  \n",
            "---  ------               --------------  -----  \n",
            " 0   Date                 122 non-null    object \n",
            " 1   Day                  122 non-null    int64  \n",
            " 2   Cases_Guinea         93 non-null     float64\n",
            " 3   Cases_Liberia        83 non-null     float64\n",
            " 4   Cases_SierraLeone    87 non-null     float64\n",
            " 5   Cases_Nigeria        38 non-null     float64\n",
            " 6   Cases_Senegal        25 non-null     float64\n",
            " 7   Cases_UnitedStates   18 non-null     float64\n",
            " 8   Cases_Spain          16 non-null     float64\n",
            " 9   Cases_Mali           12 non-null     float64\n",
            " 10  Deaths_Guinea        92 non-null     float64\n",
            " 11  Deaths_Liberia       81 non-null     float64\n",
            " 12  Deaths_SierraLeone   87 non-null     float64\n",
            " 13  Deaths_Nigeria       38 non-null     float64\n",
            " 14  Deaths_Senegal       22 non-null     float64\n",
            " 15  Deaths_UnitedStates  18 non-null     float64\n",
            " 16  Deaths_Spain         16 non-null     float64\n",
            " 17  Deaths_Mali          12 non-null     float64\n",
            "dtypes: float64(16), int64(1), object(1)\n",
            "memory usage: 17.3+ KB\n",
            "None\n"
          ]
        }
      ]
    },
    {
      "cell_type": "code",
      "source": [
        "#03. to_datetime 메서드를 사용하면 date 열의 자료형을 datetime 오브젝트로 변환 가능. 새로운 열로 추가하자.\n",
        "ebola['date_dt']=pd.to_datetime(ebola['Date'])\n",
        "print(ebola.info())"
      ],
      "metadata": {
        "colab": {
          "base_uri": "https://localhost:8080/"
        },
        "id": "lImfFixv5oy_",
        "outputId": "bbe525bc-7a5a-40c2-cff9-fdaf50f5e6b0"
      },
      "execution_count": 3,
      "outputs": [
        {
          "output_type": "stream",
          "name": "stdout",
          "text": [
            "<class 'pandas.core.frame.DataFrame'>\n",
            "RangeIndex: 122 entries, 0 to 121\n",
            "Data columns (total 19 columns):\n",
            " #   Column               Non-Null Count  Dtype         \n",
            "---  ------               --------------  -----         \n",
            " 0   Date                 122 non-null    object        \n",
            " 1   Day                  122 non-null    int64         \n",
            " 2   Cases_Guinea         93 non-null     float64       \n",
            " 3   Cases_Liberia        83 non-null     float64       \n",
            " 4   Cases_SierraLeone    87 non-null     float64       \n",
            " 5   Cases_Nigeria        38 non-null     float64       \n",
            " 6   Cases_Senegal        25 non-null     float64       \n",
            " 7   Cases_UnitedStates   18 non-null     float64       \n",
            " 8   Cases_Spain          16 non-null     float64       \n",
            " 9   Cases_Mali           12 non-null     float64       \n",
            " 10  Deaths_Guinea        92 non-null     float64       \n",
            " 11  Deaths_Liberia       81 non-null     float64       \n",
            " 12  Deaths_SierraLeone   87 non-null     float64       \n",
            " 13  Deaths_Nigeria       38 non-null     float64       \n",
            " 14  Deaths_Senegal       22 non-null     float64       \n",
            " 15  Deaths_UnitedStates  18 non-null     float64       \n",
            " 16  Deaths_Spain         16 non-null     float64       \n",
            " 17  Deaths_Mali          12 non-null     float64       \n",
            " 18  date_dt              122 non-null    datetime64[ns]\n",
            "dtypes: datetime64[ns](1), float64(16), int64(1), object(1)\n",
            "memory usage: 18.2+ KB\n",
            "None\n"
          ]
        }
      ]
    },
    {
      "cell_type": "code",
      "source": [
        "#04. 더 자세히 보자. 시간 형식 지정자와 기호를 조합하여 format 인자에 전달하면 그 형식에 맞는 datetime 오브젝트를 얻을 수 있다.\n",
        "test_df1=pd.DataFrame({'order_day':['01/01/15', '02/01/15', '03/01/15']})\n",
        "\n",
        "test_df1['date_dt1']=pd.to_datetime(test_df1['order_day'], format='%d/%m/%y')\n",
        "test_df1['date_dt2']=pd.to_datetime(test_df1['order_day'], format='%m/%d/%y')\n",
        "test_df1['date_dt3']=pd.to_datetime(test_df1['order_day'], format='%y/%m/%d')\n",
        "\n",
        "print(test_df1)\n",
        "\n",
        "test_df2=pd.DataFrame({'order_day':['01-01-15', '02-01-15', '03-01-15']})\n",
        "test_df2['date_dt']=pd.to_datetime(test_df2['order_day'], format='%d-%m-%y')\n",
        "\n",
        "print(test_df2)"
      ],
      "metadata": {
        "colab": {
          "base_uri": "https://localhost:8080/"
        },
        "id": "-Sl8HTm355tB",
        "outputId": "d7ebbe4a-7ee3-41d2-876d-8bed6ac37f38"
      },
      "execution_count": 4,
      "outputs": [
        {
          "output_type": "stream",
          "name": "stdout",
          "text": [
            "  order_day   date_dt1   date_dt2   date_dt3\n",
            "0  01/01/15 2015-01-01 2015-01-01 2001-01-15\n",
            "1  02/01/15 2015-01-02 2015-02-01 2002-01-15\n",
            "2  03/01/15 2015-01-03 2015-03-01 2003-01-15\n",
            "  order_day    date_dt\n",
            "0  01-01-15 2015-01-01\n",
            "1  02-01-15 2015-01-02\n",
            "2  03-01-15 2015-01-03\n"
          ]
        }
      ]
    },
    {
      "cell_type": "markdown",
      "source": [
        ">시간 형식 지정자\n",
        "\n",
        "%a 요일 이름 / %A 긴 요일 이름 / %w 0부터 일요일인 요일 숫자\n",
        "<br/>%b 월 / %B 긴 월 이름\n",
        "<br/>%H 24시간 / %I 12시간 / %p am, pm\n",
        "<br/>%c 날짜와 시간 / %x 날짜 / %X 시간 / %G 년도 / %u 요일"
      ],
      "metadata": {
        "id": "3uku1Y-r7I_n"
      }
    },
    {
      "cell_type": "code",
      "source": [
        "from datetime import datetime"
      ],
      "metadata": {
        "id": "pFkUXp1u8JFb"
      },
      "execution_count": 6,
      "outputs": []
    },
    {
      "cell_type": "code",
      "source": [
        "#시계열 데이터 구분해서 추출\n",
        "now=datetime.now()\n",
        "print(now)"
      ],
      "metadata": {
        "colab": {
          "base_uri": "https://localhost:8080/"
        },
        "id": "e8WnCrhL7_aQ",
        "outputId": "8cfe76f8-94e9-42bf-85b7-c7d119854fc3"
      },
      "execution_count": 7,
      "outputs": [
        {
          "output_type": "stream",
          "name": "stdout",
          "text": [
            "2022-10-10 17:28:23.618067\n"
          ]
        }
      ]
    },
    {
      "cell_type": "code",
      "source": [
        "nowDate=now.strftime('%Y-%m-%d')\n",
        "print(nowDate)"
      ],
      "metadata": {
        "colab": {
          "base_uri": "https://localhost:8080/"
        },
        "id": "cE_S2uXH8N2g",
        "outputId": "60c96be9-3c16-424a-ffbc-0a22b11b9928"
      },
      "execution_count": 8,
      "outputs": [
        {
          "output_type": "stream",
          "name": "stdout",
          "text": [
            "2022-10-10\n"
          ]
        }
      ]
    },
    {
      "cell_type": "code",
      "source": [
        "nowTime=now.strftime('%H:%M:%S')\n",
        "print(nowTime)"
      ],
      "metadata": {
        "colab": {
          "base_uri": "https://localhost:8080/"
        },
        "id": "e66k3nR28VM9",
        "outputId": "a83e8f96-e72f-4a5c-9222-fbd233308a24"
      },
      "execution_count": 9,
      "outputs": [
        {
          "output_type": "stream",
          "name": "stdout",
          "text": [
            "17:28:23\n"
          ]
        }
      ]
    },
    {
      "cell_type": "code",
      "source": [
        "nowDatetime=now.strftime('%Y-%m-%d %H:%M:%S')\n",
        "print(nowDatetime)"
      ],
      "metadata": {
        "colab": {
          "base_uri": "https://localhost:8080/"
        },
        "id": "rnvbLjAw8eAa",
        "outputId": "b913ea00-24b1-470f-d3fd-c6775d5440e9"
      },
      "execution_count": 10,
      "outputs": [
        {
          "output_type": "stream",
          "name": "stdout",
          "text": [
            "2022-10-10 17:28:23\n"
          ]
        }
      ]
    },
    {
      "cell_type": "markdown",
      "source": [
        ">datetime 오브젝트로 변환하기 - read_csv 메서드"
      ],
      "metadata": {
        "id": "rqASkyBJ8ogR"
      }
    },
    {
      "cell_type": "code",
      "source": [
        "#datetime 오브젝트로 변환하려는 열을 지정하여 데이터 집합 불러오기\n",
        "\n",
        "#01. parse_dates 인자에 전달\n",
        "ebola1=pd.read_csv('country_timeseries.csv', parse_dates=['Date'])\n",
        "print(ebola1.info())"
      ],
      "metadata": {
        "colab": {
          "base_uri": "https://localhost:8080/"
        },
        "id": "c05Qm5vz8uQq",
        "outputId": "489b06b9-e07e-493e-d8e6-0d12f487f076"
      },
      "execution_count": 11,
      "outputs": [
        {
          "output_type": "stream",
          "name": "stdout",
          "text": [
            "<class 'pandas.core.frame.DataFrame'>\n",
            "RangeIndex: 122 entries, 0 to 121\n",
            "Data columns (total 18 columns):\n",
            " #   Column               Non-Null Count  Dtype         \n",
            "---  ------               --------------  -----         \n",
            " 0   Date                 122 non-null    datetime64[ns]\n",
            " 1   Day                  122 non-null    int64         \n",
            " 2   Cases_Guinea         93 non-null     float64       \n",
            " 3   Cases_Liberia        83 non-null     float64       \n",
            " 4   Cases_SierraLeone    87 non-null     float64       \n",
            " 5   Cases_Nigeria        38 non-null     float64       \n",
            " 6   Cases_Senegal        25 non-null     float64       \n",
            " 7   Cases_UnitedStates   18 non-null     float64       \n",
            " 8   Cases_Spain          16 non-null     float64       \n",
            " 9   Cases_Mali           12 non-null     float64       \n",
            " 10  Deaths_Guinea        92 non-null     float64       \n",
            " 11  Deaths_Liberia       81 non-null     float64       \n",
            " 12  Deaths_SierraLeone   87 non-null     float64       \n",
            " 13  Deaths_Nigeria       38 non-null     float64       \n",
            " 14  Deaths_Senegal       22 non-null     float64       \n",
            " 15  Deaths_UnitedStates  18 non-null     float64       \n",
            " 16  Deaths_Spain         16 non-null     float64       \n",
            " 17  Deaths_Mali          12 non-null     float64       \n",
            "dtypes: datetime64[ns](1), float64(16), int64(1)\n",
            "memory usage: 17.3 KB\n",
            "None\n"
          ]
        }
      ]
    },
    {
      "cell_type": "markdown",
      "source": [
        ">datetime 오브젝트에서 날짜 정보 추출하기"
      ],
      "metadata": {
        "id": "93-jJZgy9CGu"
      }
    },
    {
      "cell_type": "code",
      "source": [
        "#01. 문자열로 저장된 날짜를 시리즈에 담아 datetime 오브젝트로 변환한 것\n",
        "date_series=pd.Series(['2018-05-16', '2018-05-17', '2018-05-18'])\n",
        "d1=pd.to_datetime(date_series)\n",
        "print(d1)"
      ],
      "metadata": {
        "colab": {
          "base_uri": "https://localhost:8080/"
        },
        "id": "c9HMqMsK9Adt",
        "outputId": "dba00cdd-eda9-4058-9ad5-3cfb642ff25e"
      },
      "execution_count": 12,
      "outputs": [
        {
          "output_type": "stream",
          "name": "stdout",
          "text": [
            "0   2018-05-16\n",
            "1   2018-05-17\n",
            "2   2018-05-18\n",
            "dtype: datetime64[ns]\n"
          ]
        }
      ]
    },
    {
      "cell_type": "code",
      "source": [
        "#02. datetime 오브젝트의 속성을 이용하면 바로 추출 가능\n",
        "print(d1[0].year)\n",
        "print(d1[0].month)\n",
        "print(d1[0].day)"
      ],
      "metadata": {
        "colab": {
          "base_uri": "https://localhost:8080/"
        },
        "id": "ejc7fmoc9bUj",
        "outputId": "ceaf2042-3b1e-4449-9cbe-21d19f4b3dc7"
      },
      "execution_count": 13,
      "outputs": [
        {
          "output_type": "stream",
          "name": "stdout",
          "text": [
            "2018\n",
            "5\n",
            "16\n"
          ]
        }
      ]
    },
    {
      "cell_type": "markdown",
      "source": [
        ">dt 접근자 사용하기\n",
        "\n",
        "문자열을 처리하려면 str 접근자를 사용한 다음 문자열 속성이나 메서드를 사용했어야함. datetime 오브젝트도 마찬가지로 dt 접근자를 사용하면 datetime 속성이나 메서드 사용 가능."
      ],
      "metadata": {
        "id": "RoMvjdAD9p9u"
      }
    },
    {
      "cell_type": "code",
      "source": [
        "#dt 접근자로 시계열 데이터 정리하기\n",
        "\n",
        "#01. ebola 불러와 Date 열을 datetime 오브젝트로 변환하여 새로 추가.\n",
        "ebola=pd.read_csv('country_timeseries.csv')\n",
        "ebola['date_dt']=pd.to_datetime(ebola['Date'])"
      ],
      "metadata": {
        "id": "E2aV_zcq96eJ"
      },
      "execution_count": 14,
      "outputs": []
    },
    {
      "cell_type": "code",
      "source": [
        "#02. dt 이용하지 않고 인덱스가 3인 데이터의 년, 월, 일 데이터 추출\n",
        "print(ebola[['Date', 'date_dt']].head())\n",
        "\n",
        "print(ebola['date_dt'][3].year)\n",
        "print(ebola['date_dt'][3].month)\n",
        "print(ebola['date_dt'][3].day)"
      ],
      "metadata": {
        "colab": {
          "base_uri": "https://localhost:8080/"
        },
        "id": "gqUDkFLQ-LCy",
        "outputId": "0e4fac75-369c-4b82-ac3c-ef0d60842300"
      },
      "execution_count": 16,
      "outputs": [
        {
          "output_type": "stream",
          "name": "stdout",
          "text": [
            "         Date    date_dt\n",
            "0    1/5/2015 2015-01-05\n",
            "1    1/4/2015 2015-01-04\n",
            "2    1/3/2015 2015-01-03\n",
            "3    1/2/2015 2015-01-02\n",
            "4  12/31/2014 2014-12-31\n",
            "2015\n",
            "1\n",
            "2\n"
          ]
        }
      ]
    },
    {
      "cell_type": "code",
      "source": [
        "#03. 위는 불편. dt 접근자로 date_dt 열에 한번에 접근하여 속성을 이용해 추출하고 새로운 열에 추가.\n",
        "ebola['year']=ebola['date_dt'].dt.year\n",
        "print(ebola[['Date', 'date_dt', 'year']].head())"
      ],
      "metadata": {
        "colab": {
          "base_uri": "https://localhost:8080/"
        },
        "id": "X20k3iDT-hOv",
        "outputId": "edb8f8b8-d194-4c24-a41c-777f5f0e82a8"
      },
      "execution_count": 17,
      "outputs": [
        {
          "output_type": "stream",
          "name": "stdout",
          "text": [
            "         Date    date_dt  year\n",
            "0    1/5/2015 2015-01-05  2015\n",
            "1    1/4/2015 2015-01-04  2015\n",
            "2    1/3/2015 2015-01-03  2015\n",
            "3    1/2/2015 2015-01-02  2015\n",
            "4  12/31/2014 2014-12-31  2014\n"
          ]
        }
      ]
    },
    {
      "cell_type": "code",
      "source": [
        "#04. 위를 응용해 월, 일 데이터를 새로 추가\n",
        "ebola['month'], ebola['day']=(ebola['date_dt'].dt.month, ebola['date_dt'].dt.day)\n",
        "print(ebola[['Date', 'date_dt', 'year', 'month', 'day']].head())"
      ],
      "metadata": {
        "colab": {
          "base_uri": "https://localhost:8080/"
        },
        "id": "OsH8AiU5-4eh",
        "outputId": "c3dfdfa2-5f7b-48b9-d39d-0f617e4019e5"
      },
      "execution_count": 18,
      "outputs": [
        {
          "output_type": "stream",
          "name": "stdout",
          "text": [
            "         Date    date_dt  year  month  day\n",
            "0    1/5/2015 2015-01-05  2015      1    5\n",
            "1    1/4/2015 2015-01-04  2015      1    4\n",
            "2    1/3/2015 2015-01-03  2015      1    3\n",
            "3    1/2/2015 2015-01-02  2015      1    2\n",
            "4  12/31/2014 2014-12-31  2014     12   31\n"
          ]
        }
      ]
    },
    {
      "cell_type": "code",
      "source": [
        "#05. ebola 데이터 프레임에 새로 추가한 열들의 자료형을 출력해보면 date_dt는 datetime 오브젝트고 나머지는 정수형이다.\n",
        "print(ebola.info())"
      ],
      "metadata": {
        "colab": {
          "base_uri": "https://localhost:8080/"
        },
        "id": "-63UptqE_KoP",
        "outputId": "1c03d690-6c52-4331-fcde-2caaf17a132f"
      },
      "execution_count": 19,
      "outputs": [
        {
          "output_type": "stream",
          "name": "stdout",
          "text": [
            "<class 'pandas.core.frame.DataFrame'>\n",
            "RangeIndex: 122 entries, 0 to 121\n",
            "Data columns (total 22 columns):\n",
            " #   Column               Non-Null Count  Dtype         \n",
            "---  ------               --------------  -----         \n",
            " 0   Date                 122 non-null    object        \n",
            " 1   Day                  122 non-null    int64         \n",
            " 2   Cases_Guinea         93 non-null     float64       \n",
            " 3   Cases_Liberia        83 non-null     float64       \n",
            " 4   Cases_SierraLeone    87 non-null     float64       \n",
            " 5   Cases_Nigeria        38 non-null     float64       \n",
            " 6   Cases_Senegal        25 non-null     float64       \n",
            " 7   Cases_UnitedStates   18 non-null     float64       \n",
            " 8   Cases_Spain          16 non-null     float64       \n",
            " 9   Cases_Mali           12 non-null     float64       \n",
            " 10  Deaths_Guinea        92 non-null     float64       \n",
            " 11  Deaths_Liberia       81 non-null     float64       \n",
            " 12  Deaths_SierraLeone   87 non-null     float64       \n",
            " 13  Deaths_Nigeria       38 non-null     float64       \n",
            " 14  Deaths_Senegal       22 non-null     float64       \n",
            " 15  Deaths_UnitedStates  18 non-null     float64       \n",
            " 16  Deaths_Spain         16 non-null     float64       \n",
            " 17  Deaths_Mali          12 non-null     float64       \n",
            " 18  date_dt              122 non-null    datetime64[ns]\n",
            " 19  year                 122 non-null    int64         \n",
            " 20  month                122 non-null    int64         \n",
            " 21  day                  122 non-null    int64         \n",
            "dtypes: datetime64[ns](1), float64(16), int64(4), object(1)\n",
            "memory usage: 21.1+ KB\n",
            "None\n"
          ]
        }
      ]
    },
    {
      "cell_type": "markdown",
      "source": [
        "##12-2 사례별 시계열 데이터 계산하기"
      ],
      "metadata": {
        "id": "3zEq7j97_XGX"
      }
    },
    {
      "cell_type": "markdown",
      "source": [
        ">에볼라 최초 발병일 계산하기"
      ],
      "metadata": {
        "id": "VYr9OCFb_i0o"
      }
    },
    {
      "cell_type": "code",
      "source": [
        "#01. ebola 마지막 살펴보자. 시간이 역순.\n",
        "print(ebola.iloc[-5:, :5])"
      ],
      "metadata": {
        "colab": {
          "base_uri": "https://localhost:8080/"
        },
        "id": "Q0mcCe4i_cko",
        "outputId": "5d7e336c-a649-4df1-f58d-46cb24f3a713"
      },
      "execution_count": 21,
      "outputs": [
        {
          "output_type": "stream",
          "name": "stdout",
          "text": [
            "          Date  Day  Cases_Guinea  Cases_Liberia  Cases_SierraLeone\n",
            "117  3/27/2014    5         103.0            8.0                6.0\n",
            "118  3/26/2014    4          86.0            NaN                NaN\n",
            "119  3/25/2014    3          86.0            NaN                NaN\n",
            "120  3/24/2014    2          86.0            NaN                NaN\n",
            "121  3/22/2014    0          49.0            NaN                NaN\n"
          ]
        }
      ]
    },
    {
      "cell_type": "code",
      "source": [
        "#02. 에볼라 시작일 2014년 3월 22일. min 메서드로 찾자.\n",
        "print(ebola['date_dt'].min())\n",
        "print(type(ebola['date_dt'].min()))"
      ],
      "metadata": {
        "colab": {
          "base_uri": "https://localhost:8080/"
        },
        "id": "SX8uE_vm_6qx",
        "outputId": "7d117de5-2443-4e72-fb1c-f32cb21ae95f"
      },
      "execution_count": 22,
      "outputs": [
        {
          "output_type": "stream",
          "name": "stdout",
          "text": [
            "2014-03-22 00:00:00\n",
            "<class 'pandas._libs.tslibs.timestamps.Timestamp'>\n"
          ]
        }
      ]
    },
    {
      "cell_type": "code",
      "source": [
        "#03. Date 열에서 최초 발병일 빼면 에볼라의 진행 정도를 알 수 있다.\n",
        "ebola['outbreak_d']=ebola['date_dt']-ebola['date_dt'].min()\n",
        "print(ebola[['Date', 'Day', 'outbreak_d']].head())"
      ],
      "metadata": {
        "colab": {
          "base_uri": "https://localhost:8080/"
        },
        "id": "Xi3MxxqQAJkE",
        "outputId": "6448fac9-c3d5-44b5-87ed-06de9585dde2"
      },
      "execution_count": 23,
      "outputs": [
        {
          "output_type": "stream",
          "name": "stdout",
          "text": [
            "         Date  Day outbreak_d\n",
            "0    1/5/2015  289   289 days\n",
            "1    1/4/2015  288   288 days\n",
            "2    1/3/2015  287   287 days\n",
            "3    1/2/2015  286   286 days\n",
            "4  12/31/2014  284   284 days\n"
          ]
        }
      ]
    },
    {
      "cell_type": "markdown",
      "source": [
        ">파산한 은행의 개수 확인하기"
      ],
      "metadata": {
        "id": "KthYXgSuAgnr"
      }
    },
    {
      "cell_type": "code",
      "source": [
        "#01. 파산 은행 불러오고 살펴보자. closing date, updated date 열의 자료형이 시계열이다.\n",
        "banks=pd.read_csv('banklist.csv')\n",
        "print(banks.head())"
      ],
      "metadata": {
        "colab": {
          "base_uri": "https://localhost:8080/"
        },
        "id": "6dPgbiXUBL4I",
        "outputId": "650a4455-c3d0-4312-ad78-20290d3a9c94"
      },
      "execution_count": 24,
      "outputs": [
        {
          "output_type": "stream",
          "name": "stdout",
          "text": [
            "                                           Bank Name         City  ST   CERT  \\\n",
            "0                Washington Federal Bank for Savings      Chicago  IL  30570   \n",
            "1    The Farmers and Merchants State Bank of Argonia      Argonia  KS  17719   \n",
            "2                                Fayette County Bank   Saint Elmo  IL   1802   \n",
            "3  Guaranty Bank, (d/b/a BestBank in Georgia & Mi...    Milwaukee  WI  30003   \n",
            "4                                     First NBC Bank  New Orleans  LA  58302   \n",
            "\n",
            "                 Acquiring Institution Closing Date Updated Date  \n",
            "0                   Royal Savings Bank    15-Dec-17    20-Dec-17  \n",
            "1                          Conway Bank    13-Oct-17    20-Oct-17  \n",
            "2            United Fidelity Bank, fsb    26-May-17    26-Jul-17  \n",
            "3  First-Citizens Bank & Trust Company     5-May-17    26-Jul-17  \n",
            "4                         Whitney Bank    28-Apr-17     5-Dec-17  \n"
          ]
        }
      ]
    },
    {
      "cell_type": "code",
      "source": [
        "#02. closing date, updated date 열의 데이터 자료형이 문자열. parse_dates 이용해 datetime으로 변환해 불러오자.\n",
        "banks_no_dates=pd.read_csv('banklist.csv')\n",
        "print(banks_no_dates.info())\n",
        "\n",
        "banks=pd.read_csv('banklist.csv', parse_dates=[5,6])\n",
        "print(banks.info())"
      ],
      "metadata": {
        "colab": {
          "base_uri": "https://localhost:8080/"
        },
        "id": "W3d2-_KFBdsD",
        "outputId": "a8ba1b02-85af-4b5d-dc06-5beebe54f735"
      },
      "execution_count": 25,
      "outputs": [
        {
          "output_type": "stream",
          "name": "stdout",
          "text": [
            "<class 'pandas.core.frame.DataFrame'>\n",
            "RangeIndex: 555 entries, 0 to 554\n",
            "Data columns (total 7 columns):\n",
            " #   Column                 Non-Null Count  Dtype \n",
            "---  ------                 --------------  ----- \n",
            " 0   Bank Name              555 non-null    object\n",
            " 1   City                   555 non-null    object\n",
            " 2   ST                     555 non-null    object\n",
            " 3   CERT                   555 non-null    int64 \n",
            " 4   Acquiring Institution  555 non-null    object\n",
            " 5   Closing Date           555 non-null    object\n",
            " 6   Updated Date           555 non-null    object\n",
            "dtypes: int64(1), object(6)\n",
            "memory usage: 30.5+ KB\n",
            "None\n",
            "<class 'pandas.core.frame.DataFrame'>\n",
            "RangeIndex: 555 entries, 0 to 554\n",
            "Data columns (total 7 columns):\n",
            " #   Column                 Non-Null Count  Dtype         \n",
            "---  ------                 --------------  -----         \n",
            " 0   Bank Name              555 non-null    object        \n",
            " 1   City                   555 non-null    object        \n",
            " 2   ST                     555 non-null    object        \n",
            " 3   CERT                   555 non-null    int64         \n",
            " 4   Acquiring Institution  555 non-null    object        \n",
            " 5   Closing Date           555 non-null    datetime64[ns]\n",
            " 6   Updated Date           555 non-null    datetime64[ns]\n",
            "dtypes: datetime64[ns](2), int64(1), object(4)\n",
            "memory usage: 30.5+ KB\n",
            "None\n"
          ]
        }
      ]
    },
    {
      "cell_type": "code",
      "source": [
        "#03.dt 접근자, quarter 속성 이용하면 은행이 파산한 분기를 알 수 있다. 새로 추가하자.\n",
        "banks['closing_quarter'], banks['closing_year']=(banks['Closing Date'].dt.quarter, banks['Closing Date'].dt.year)\n",
        "print(banks.head())"
      ],
      "metadata": {
        "colab": {
          "base_uri": "https://localhost:8080/"
        },
        "id": "fRMEqH19B3_u",
        "outputId": "16d0a7a0-71a3-47ce-e447-a4eee4176ddc"
      },
      "execution_count": 26,
      "outputs": [
        {
          "output_type": "stream",
          "name": "stdout",
          "text": [
            "                                           Bank Name         City  ST   CERT  \\\n",
            "0                Washington Federal Bank for Savings      Chicago  IL  30570   \n",
            "1    The Farmers and Merchants State Bank of Argonia      Argonia  KS  17719   \n",
            "2                                Fayette County Bank   Saint Elmo  IL   1802   \n",
            "3  Guaranty Bank, (d/b/a BestBank in Georgia & Mi...    Milwaukee  WI  30003   \n",
            "4                                     First NBC Bank  New Orleans  LA  58302   \n",
            "\n",
            "                 Acquiring Institution Closing Date Updated Date  \\\n",
            "0                   Royal Savings Bank   2017-12-15   2017-12-20   \n",
            "1                          Conway Bank   2017-10-13   2017-10-20   \n",
            "2            United Fidelity Bank, fsb   2017-05-26   2017-07-26   \n",
            "3  First-Citizens Bank & Trust Company   2017-05-05   2017-07-26   \n",
            "4                         Whitney Bank   2017-04-28   2017-12-05   \n",
            "\n",
            "   closing_quarter  closing_year  \n",
            "0                4          2017  \n",
            "1                4          2017  \n",
            "2                2          2017  \n",
            "3                2          2017  \n",
            "4                2          2017  \n"
          ]
        }
      ]
    },
    {
      "cell_type": "code",
      "source": [
        "#04. 연도별로 파산한 은행이 얼마나 되는지 보자.\n",
        "closing_year=banks.groupby(['closing_year']).size()\n",
        "print(closing_year)"
      ],
      "metadata": {
        "colab": {
          "base_uri": "https://localhost:8080/"
        },
        "id": "uOD7hLAiCRGN",
        "outputId": "5ed27dd4-856b-4f61-b735-ed760c03293e"
      },
      "execution_count": 27,
      "outputs": [
        {
          "output_type": "stream",
          "name": "stdout",
          "text": [
            "closing_year\n",
            "2000      2\n",
            "2001      4\n",
            "2002     11\n",
            "2003      3\n",
            "2004      4\n",
            "2007      3\n",
            "2008     25\n",
            "2009    140\n",
            "2010    157\n",
            "2011     92\n",
            "2012     51\n",
            "2013     24\n",
            "2014     18\n",
            "2015      8\n",
            "2016      5\n",
            "2017      8\n",
            "dtype: int64\n"
          ]
        }
      ]
    },
    {
      "cell_type": "code",
      "source": [
        "#05. 연도별, 분기별로 파산한 은행의 개수도 보자.\n",
        "closing_year_q=banks.groupby(['closing_year', 'closing_quarter']).size()\n",
        "print(closing_year_q)"
      ],
      "metadata": {
        "colab": {
          "base_uri": "https://localhost:8080/"
        },
        "id": "nrObL9V-Cfzo",
        "outputId": "42d24400-3777-4990-bf72-2d688c810ada"
      },
      "execution_count": 28,
      "outputs": [
        {
          "output_type": "stream",
          "name": "stdout",
          "text": [
            "closing_year  closing_quarter\n",
            "2000          4                   2\n",
            "2001          1                   1\n",
            "              2                   1\n",
            "              3                   2\n",
            "2002          1                   6\n",
            "              2                   2\n",
            "              3                   1\n",
            "              4                   2\n",
            "2003          1                   1\n",
            "              2                   1\n",
            "              4                   1\n",
            "2004          1                   3\n",
            "              2                   1\n",
            "2007          1                   1\n",
            "              3                   1\n",
            "              4                   1\n",
            "2008          1                   2\n",
            "              2                   2\n",
            "              3                   9\n",
            "              4                  12\n",
            "2009          1                  21\n",
            "              2                  24\n",
            "              3                  50\n",
            "              4                  45\n",
            "2010          1                  41\n",
            "              2                  45\n",
            "              3                  41\n",
            "              4                  30\n",
            "2011          1                  26\n",
            "              2                  22\n",
            "              3                  26\n",
            "              4                  18\n",
            "2012          1                  16\n",
            "              2                  15\n",
            "              3                  12\n",
            "              4                   8\n",
            "2013          1                   4\n",
            "              2                  12\n",
            "              3                   6\n",
            "              4                   2\n",
            "2014          1                   5\n",
            "              2                   7\n",
            "              3                   2\n",
            "              4                   4\n",
            "2015          1                   4\n",
            "              2                   1\n",
            "              3                   1\n",
            "              4                   2\n",
            "2016          1                   1\n",
            "              2                   2\n",
            "              3                   2\n",
            "2017          1                   3\n",
            "              2                   3\n",
            "              4                   2\n",
            "dtype: int64\n"
          ]
        }
      ]
    },
    {
      "cell_type": "code",
      "source": [
        "#06. 그래프도 그리자\n",
        "import matplotlib.pyplot as plt\n",
        "fig, ax=plt.subplots()\n",
        "ax=closing_year.plot()\n",
        "plt.show()\n",
        "\n",
        "fig, ax=plt.subplots()\n",
        "ax=closing_year_q.plot()\n",
        "plt.show()"
      ],
      "metadata": {
        "colab": {
          "base_uri": "https://localhost:8080/",
          "height": 543
        },
        "id": "n_GpX4a3Cw4B",
        "outputId": "01b19087-6b33-4147-bbab-29a8eae17b28"
      },
      "execution_count": 29,
      "outputs": [
        {
          "output_type": "display_data",
          "data": {
            "text/plain": [
              "<Figure size 432x288 with 1 Axes>"
            ],
            "image/png": "[encoded data removed]"
          },
          "metadata": {
            "needs_background": "light"
          }
        },
        {
          "output_type": "display_data",
          "data": {
            "text/plain": [
              "<Figure size 432x288 with 1 Axes>"
            ],
            "image/png": "[encoded data removed]"
          },
          "metadata": {
            "needs_background": "light"
          }
        }
      ]
    }
  ]
}