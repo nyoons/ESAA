{
  "nbformat": 4,
  "nbformat_minor": 0,
  "metadata": {
    "colab": {
      "provenance": [],
      "authorship_tag": "ABX9TyPvWOadQuXyG25yrqu3WY8M",
      "include_colab_link": true
    },
    "kernelspec": {
      "name": "python3",
      "display_name": "Python 3"
    },
    "language_info": {
      "name": "python"
    }
  },
  "cells": [
    {
      "cell_type": "markdown",
      "metadata": {
        "id": "view-in-github",
        "colab_type": "text"
      },
      "source": [
        "<a href=\"https://colab.research.google.com/github/nyoons/ESAA/blob/main/Ch_08_%ED%85%8D%EC%8A%A4%ED%8A%B8%EB%B6%84%EC%84%9D_%EA%B3%BC%EC%A0%9C.ipynb\" target=\"_parent\"><img src=\"https://colab.research.google.com/assets/colab-badge.svg\" alt=\"Open In Colab\"/></a>"
      ]
    },
    {
      "cell_type": "markdown",
      "source": [
        "#**Ch 08. 텍스트 분석**\n",
        "- NLP : 머신이 인간의 언어를 이해하고 해석하는 데 더 중점을 두고 기술이 발전. 텍스트 분석을 향상하게 하는 기반 기술.\n",
        "- 텍스트 분석 : = 텍스트 마이닝. 비정형 텍스트에서 의미 있는 정보를 추출하는 것에 좀 더 중점을 두고 기술이 발전\n",
        "\n",
        "텍스트 분석은 머신러닝, 언어 이해, 통계 등을 활용해 모델을 수립하고 정보를 추출해 비즈니스 인텔리전스나 예측 분석 등의 분석 작업을 주로 수행.\n",
        "- 텍스트 분류 : 문서가 특정 분류 또는 카테고리에 속하는 것을 예측. 지도학습 적용.\n",
        "- 감성 분석 : 텍스트에서 나타나는 주관적인 요소를 분석하는 기법. 지도+비지도학습.\n",
        "- 텍스트 요약 : 텍스트 내에서 중요한 주제나 중심 사상을 추출하는 기법.\n",
        "- 텍스트 군집화와 유사도 측정 : 비슷한 유형의 문서에 대해 군집화를 수행하는 기법. 텍스트 분류를 비지도학습으로 수행하는 방법의 일환으로 사용 가능."
      ],
      "metadata": {
        "id": "L9wdivEtruMW"
      }
    },
    {
      "cell_type": "markdown",
      "source": [
        "##**01. 텍스트 분석 이해**\n",
        "텍스트 분석 = 비정형 데이터인 텍스트를 분석하는 것. 비정형 텍스트 데이터를 어떻게 피처 형태로 추출하고 추출된 피처에 의미 있는 값을 부여하는가가 매우 중요. 텍스트를 word 기반의 다수의 피처로 추출하고 이 피처에 단어 빈도수와 같은 숫자 값을 부여하면 텍스트는 단어 조합인 벡터로 표현 -> 벡터화 또는 피처 추출. 대표적으로 BOW 방법이 있다. 아무튼 텍스트를 벡터값을 가지는 피처로 변환하는 것은 머신러닝 모델을 적용하기 전에 수행해야 할 매우 중요한 요소."
      ],
      "metadata": {
        "id": "HIHu5jivs1Qy"
      }
    },
    {
      "cell_type": "markdown",
      "source": [
        "###텍스트 분석 수행 프로세스\n",
        "1. 텍스트 사전 준비작업(텍스트 전처리) : 피처로 만들기 전에 미리 클렌징, 대/소문자 변경, 특수문자 삭제 등의 클렌징 작업, 단어(word) 등의 토큰화 작업, 의미 없는 단어(stop word) 제거 작업, 어근 추출(stemming, lemmatization) 등의 텍스트 정규화 작업.\n",
        "2. 피처 벡터화/추출 : 가공된 텍스트에서 피처 추출하고 여기에 벡터값 할당. BOW의 Count 기반과 TF-IDF 기반 벡터화.\n",
        "3. ML 모델 수립 및 학습/예측/평가\n"
      ],
      "metadata": {
        "id": "FBRu0J0cs-1p"
      }
    },
    {
      "cell_type": "markdown",
      "source": [
        "###파이썬 기반의 NLP, 텍스트 분석 패키지\n",
        "- NLTK(Natural Language Toolkit for Python) : NLP의 거의 모든 영역 커버. 하지만 수행 속도 측면에서 아쉬운 부분이 있어 대량의 데이터 기반에서는 제대로 활용 못하고 있다.\n",
        "- **Gensim** : 토픽 모델링에서 두각. Word2Vec 등의 다양한 신기능도 제공. \n",
        "- **SpaCy** : 뛰어난 수행 성능으로 최근 가장 주목.\n",
        "\n",
        "사이킷런은 머신러닝 위주의 라이브러리라서 NLP 특화 라이브러리(ex. 어근처리)는 없다. 하지만 텍스트를 일정 수준으로 가공하고 머신러닝 알고리즘에 텍스트 데이터를 피처로 처리하기 위한 편리한 기능 제공해서 충분히 텍스트 분석 가능."
      ],
      "metadata": {
        "id": "aTl1kRbJtC4k"
      }
    },
    {
      "cell_type": "markdown",
      "source": [
        "##**02. 텍스트 사전 준비 작업(텍스트 전처리) - 텍스트 정규화**\n",
        "텍스트 자체를 바로 피처로 만들 수는 없다. 가공 작업 필요. 텍스트 분석은 이러한 텍스트 정규화 작업이 매우 중요.\n",
        "\n",
        "NLTK 패키지로 실습해보자."
      ],
      "metadata": {
        "id": "9CKIo7rQtFvr"
      }
    },
    {
      "cell_type": "markdown",
      "source": [
        "###클렌징\n",
        "텍스트에서 불필요한 문자, 기호 등을 제거하는 작업. HTML, XML 태그나 특정 기호 등 제거."
      ],
      "metadata": {
        "id": "xuW9zcmctKk7"
      }
    },
    {
      "cell_type": "markdown",
      "source": [
        "###텍스트 토큰화\n",
        "**문장 토큰화** : 문서에서 문장을 분리\n",
        "\n",
        "문장의 마침표, 개행문자 등 문장의 마지막을 뜻하는 기호에 따라 분리하는 것이 일반적. 또한 정규 표현식에 따른 문장 토큰화도 가능. NTLK의 sent_tokenize를 일반적으로 이용.\n",
        "\n",
        "3개의 문장으로 이루어진 텍스트 문서를 문장으로 각각 분리해보자."
      ],
      "metadata": {
        "id": "Vpt5ihh4tLsZ"
      }
    },
    {
      "cell_type": "code",
      "source": [
        "from nltk import sent_tokenize\n",
        "import nltk\n",
        "nltk.download('punkt') #마침표, 개행 문자 등의 데이터 세트 다운로드\n",
        "\n",
        "text_sample='The Matrix is everywhere its all around us, here even in this room. \\nYou can see it out your window or on your television. \\nYou feel it when you go to work, or go to church or pay your taxes.'\n",
        "sentences=sent_tokenize(text=text_sample)\n",
        "print(type(sentences), len(sentences))\n",
        "print(sentences)"
      ],
      "metadata": {
        "colab": {
          "base_uri": "https://localhost:8080/"
        },
        "id": "lmJ-D0lPwyX3",
        "outputId": "6e020da0-d821-4f2a-f11f-fe6100ab8bd0"
      },
      "execution_count": 2,
      "outputs": [
        {
          "output_type": "stream",
          "name": "stdout",
          "text": [
            "<class 'list'> 3\n",
            "['The Matrix is everywhere its all around us, here even in this room.', 'You can see it out your window or on your television.', 'You feel it when you go to work, or go to church or pay your taxes.']\n"
          ]
        },
        {
          "output_type": "stream",
          "name": "stderr",
          "text": [
            "[nltk_data] Downloading package punkt to /root/nltk_data...\n",
            "[nltk_data]   Package punkt is already up-to-date!\n"
          ]
        }
      ]
    },
    {
      "cell_type": "markdown",
      "source": [
        "**단어 토큰화** : 문장에서 단어를 분리\n",
        "\n",
        "문장을 단어로 토큰화. 기본적으로 공백, 콤마, 마침표, 개행문자 등으로 분리하지만 정규 표현식도 가능.\n",
        "\n",
        "마침표나 개행 문자와 같이 문장을 분리하는 구분자로 단어를 토큰화할 수 있으므로 Bag of Words와 같이 단어의 순서가 중요하지 않은 경우 문장 토큰화 안하고 단어 토큰화만 해도 충분. word_tokenize 이용"
      ],
      "metadata": {
        "id": "h2dY6AMRwcTl"
      }
    },
    {
      "cell_type": "code",
      "source": [
        "from nltk import word_tokenize\n",
        "\n",
        "sentence='The Matrix is everywhere its all around us, here even in this room.'\n",
        "words=word_tokenize(sentence)\n",
        "print(type(words), len(words))\n",
        "print(words)"
      ],
      "metadata": {
        "colab": {
          "base_uri": "https://localhost:8080/"
        },
        "id": "vehJ5wTmx_Ko",
        "outputId": "ba088322-6a31-4c30-f01f-c8c0c8feb279"
      },
      "execution_count": 3,
      "outputs": [
        {
          "output_type": "stream",
          "name": "stdout",
          "text": [
            "<class 'list'> 15\n",
            "['The', 'Matrix', 'is', 'everywhere', 'its', 'all', 'around', 'us', ',', 'here', 'even', 'in', 'this', 'room', '.']\n"
          ]
        }
      ]
    },
    {
      "cell_type": "markdown",
      "source": [
        "sent_tokenize와 word_tokenize 조합해 문서에 대해 모든 단어를 토큰화해보자.\n",
        "\n",
        "문서 샘플을 먼저 문장으로 나누고 개별 문장을 다시 단어로 토큰화하는 함수를 생성하자."
      ],
      "metadata": {
        "id": "BGDt1SisySrl"
      }
    },
    {
      "cell_type": "code",
      "source": [
        "from nltk import word_tokenize, sent_tokenize\n",
        "\n",
        "#여러 개의 문장으로 된 입력 데이터를 문장별로 단어 토큰화하게 만드는 함수 생성\n",
        "def tokenize_text(text):\n",
        "  #문장별로 분리 토큰\n",
        "  sentences=sent_tokenize(text)\n",
        "  #분리된 문장별 단어 토큰화\n",
        "  word_tokens=[word_tokenize(sentence) for sentence in sentences]\n",
        "  return word_tokens\n",
        "\n",
        "#여러 문장에 대해 문장별 단어 토큰화 수행\n",
        "word_tokens=tokenize_text(text_sample)\n",
        "print(type(word_tokens), len(word_tokens))\n",
        "print(word_tokens)"
      ],
      "metadata": {
        "colab": {
          "base_uri": "https://localhost:8080/"
        },
        "id": "Hr4VEjWjygP6",
        "outputId": "7580122c-c1bb-4eaa-cf21-add54dd08e08"
      },
      "execution_count": 10,
      "outputs": [
        {
          "output_type": "stream",
          "name": "stdout",
          "text": [
            "<class 'list'> 3\n",
            "[['The', 'Matrix', 'is', 'everywhere', 'its', 'all', 'around', 'us', ',', 'here', 'even', 'in', 'this', 'room', '.'], ['You', 'can', 'see', 'it', 'out', 'your', 'window', 'or', 'on', 'your', 'television', '.'], ['You', 'feel', 'it', 'when', 'you', 'go', 'to', 'work', ',', 'or', 'go', 'to', 'church', 'or', 'pay', 'your', 'taxes', '.']]\n"
          ]
        }
      ]
    },
    {
      "cell_type": "markdown",
      "source": [
        "3개 문장을 문장별로 먼저 토큰화해서 len은 리스트 3개. 문장을 단어별로 하나씩 토큰화 할 경우 문맥적 의미는 무시. -> n-gram 으로 조금이라도 해결 가능. n-gram은 연속된 n개의 단어를 하나의 토큰화 단위로 분리."
      ],
      "metadata": {
        "id": "FYyVTBRuzLlK"
      }
    },
    {
      "cell_type": "markdown",
      "source": [
        "###스톱 워드 제거\n",
        "스톱 워드 = 분석에 큰 의미가 없는 단어. 문법 요소 등. 빈번해서 오히려 중요 단어로 인지될 수 있다. 제거하는 것이 중요.\n",
        "\n",
        "언어별로 스톱 워드가 목록화 되어 있다. NTLK의 스톱 워드에는 어떤 것이 있을지 확인."
      ],
      "metadata": {
        "id": "F4MT-JVwtN4A"
      }
    },
    {
      "cell_type": "code",
      "source": [
        "import nltk\n",
        "nltk.download('stopwords')"
      ],
      "metadata": {
        "colab": {
          "base_uri": "https://localhost:8080/"
        },
        "id": "TxHJ0xquzxNy",
        "outputId": "afba9413-59c5-4d94-8977-33897e4def22"
      },
      "execution_count": 6,
      "outputs": [
        {
          "output_type": "stream",
          "name": "stderr",
          "text": [
            "[nltk_data] Downloading package stopwords to /root/nltk_data...\n",
            "[nltk_data]   Unzipping corpora/stopwords.zip.\n"
          ]
        },
        {
          "output_type": "execute_result",
          "data": {
            "text/plain": [
              "True"
            ]
          },
          "metadata": {},
          "execution_count": 6
        }
      ]
    },
    {
      "cell_type": "code",
      "source": [
        "print('영어 stop word 개수:', len(nltk.corpus.stopwords.words('english')))\n",
        "print(nltk.corpus.stopwords.words('english')[:20])"
      ],
      "metadata": {
        "colab": {
          "base_uri": "https://localhost:8080/"
        },
        "id": "HmblD-tDz3LM",
        "outputId": "303e4c20-2d8b-40bf-b55c-3ff949f48b25"
      },
      "execution_count": 7,
      "outputs": [
        {
          "output_type": "stream",
          "name": "stdout",
          "text": [
            "영어 stop word 개수: 179\n",
            "['i', 'me', 'my', 'myself', 'we', 'our', 'ours', 'ourselves', 'you', \"you're\", \"you've\", \"you'll\", \"you'd\", 'your', 'yours', 'yourself', 'yourselves', 'he', 'him', 'his']\n"
          ]
        }
      ]
    },
    {
      "cell_type": "markdown",
      "source": [
        "영어의 겨우 179개.\n",
        "\n",
        "바로 위 예제에 적용해서 분석을 위한 의미 있는 단어만 추출해보자."
      ],
      "metadata": {
        "id": "roZBIYQE0Fca"
      }
    },
    {
      "cell_type": "code",
      "source": [
        "import nltk\n",
        "\n",
        "stopwords=nltk.corpus.stopwords.words('english')\n",
        "all_tokens=[]\n",
        "#위 예제에서 3개의 문장별로 얻은 word_tokens list에 대해 스톱 워드를 제거하는 반복문\n",
        "for sentence in word_tokens:\n",
        "  filtered_words=[]\n",
        "  #개별 문장별로 토큰화된 문장 list에 대해 스톱 워드를 제거하는 반복문\n",
        "  for word in sentence:\n",
        "    #소문자로 모두 변환\n",
        "    word=word.lower()\n",
        "    #토큰화된 개별 단어가 스톱 워드의 단어에 포함되지 않으면 word_tokens에 추가\n",
        "    if word not in stopwords:\n",
        "      filtered_words.append(word)\n",
        "    all_tokens.append(filtered_words)\n",
        "\n",
        "print(all_tokens)"
      ],
      "metadata": {
        "colab": {
          "base_uri": "https://localhost:8080/"
        },
        "id": "Hm0pbRve0LMP",
        "outputId": "0bbf0eb4-0e42-4da6-fa7d-af406b815ee2"
      },
      "execution_count": 12,
      "outputs": [
        {
          "output_type": "stream",
          "name": "stdout",
          "text": [
            "[['matrix', 'everywhere', 'around', 'us', ',', 'even', 'room', '.'], ['matrix', 'everywhere', 'around', 'us', ',', 'even', 'room', '.'], ['matrix', 'everywhere', 'around', 'us', ',', 'even', 'room', '.'], ['matrix', 'everywhere', 'around', 'us', ',', 'even', 'room', '.'], ['matrix', 'everywhere', 'around', 'us', ',', 'even', 'room', '.'], ['matrix', 'everywhere', 'around', 'us', ',', 'even', 'room', '.'], ['matrix', 'everywhere', 'around', 'us', ',', 'even', 'room', '.'], ['matrix', 'everywhere', 'around', 'us', ',', 'even', 'room', '.'], ['matrix', 'everywhere', 'around', 'us', ',', 'even', 'room', '.'], ['matrix', 'everywhere', 'around', 'us', ',', 'even', 'room', '.'], ['matrix', 'everywhere', 'around', 'us', ',', 'even', 'room', '.'], ['matrix', 'everywhere', 'around', 'us', ',', 'even', 'room', '.'], ['matrix', 'everywhere', 'around', 'us', ',', 'even', 'room', '.'], ['matrix', 'everywhere', 'around', 'us', ',', 'even', 'room', '.'], ['matrix', 'everywhere', 'around', 'us', ',', 'even', 'room', '.'], ['see', 'window', 'television', '.'], ['see', 'window', 'television', '.'], ['see', 'window', 'television', '.'], ['see', 'window', 'television', '.'], ['see', 'window', 'television', '.'], ['see', 'window', 'television', '.'], ['see', 'window', 'television', '.'], ['see', 'window', 'television', '.'], ['see', 'window', 'television', '.'], ['see', 'window', 'television', '.'], ['see', 'window', 'television', '.'], ['see', 'window', 'television', '.'], ['feel', 'go', 'work', ',', 'go', 'church', 'pay', 'taxes', '.'], ['feel', 'go', 'work', ',', 'go', 'church', 'pay', 'taxes', '.'], ['feel', 'go', 'work', ',', 'go', 'church', 'pay', 'taxes', '.'], ['feel', 'go', 'work', ',', 'go', 'church', 'pay', 'taxes', '.'], ['feel', 'go', 'work', ',', 'go', 'church', 'pay', 'taxes', '.'], ['feel', 'go', 'work', ',', 'go', 'church', 'pay', 'taxes', '.'], ['feel', 'go', 'work', ',', 'go', 'church', 'pay', 'taxes', '.'], ['feel', 'go', 'work', ',', 'go', 'church', 'pay', 'taxes', '.'], ['feel', 'go', 'work', ',', 'go', 'church', 'pay', 'taxes', '.'], ['feel', 'go', 'work', ',', 'go', 'church', 'pay', 'taxes', '.'], ['feel', 'go', 'work', ',', 'go', 'church', 'pay', 'taxes', '.'], ['feel', 'go', 'work', ',', 'go', 'church', 'pay', 'taxes', '.'], ['feel', 'go', 'work', ',', 'go', 'church', 'pay', 'taxes', '.'], ['feel', 'go', 'work', ',', 'go', 'church', 'pay', 'taxes', '.'], ['feel', 'go', 'work', ',', 'go', 'church', 'pay', 'taxes', '.'], ['feel', 'go', 'work', ',', 'go', 'church', 'pay', 'taxes', '.'], ['feel', 'go', 'work', ',', 'go', 'church', 'pay', 'taxes', '.'], ['feel', 'go', 'work', ',', 'go', 'church', 'pay', 'taxes', '.']]\n"
          ]
        }
      ]
    },
    {
      "cell_type": "markdown",
      "source": [
        "###Stemming과 Lemmatization\n",
        "문법적인 요소에 따라 단어 형태가 변함. Stemming과 Lemmatization은 문법적 또는 의미적으로 변화하는 단어의 원형을 찾는 것.\n",
        "\n",
        "두 기능 모두 원형을 찾는다는 것은 유사하지만 Lemmatization이 더 정교하며 의미론적인 기반에서 단어의 원형을 찾는다. stemming은 원형 단어로 변환 시 일반적인 방법을 적용하거나 더 단순화된 방법을 적용해 약간 훼손된 어근을 추출하는 경향이 있음. 대신 lemmatization이 시간이 더 걸림.\n",
        "\n",
        "NLTK는 다양한 stemmer를 제공. porter, lancaster, snowball stemmer. lemmatization을 위해서는 wordnetlemmatization제공. stemmer와 lemmatization 비교해보자."
      ],
      "metadata": {
        "id": "0KKekepRtPHu"
      }
    },
    {
      "cell_type": "code",
      "source": [
        "#stemming\n",
        "from nltk.stem import LancasterStemmer\n",
        "stemmer=LancasterStemmer()\n",
        "\n",
        "print(stemmer.stem('working'), stemmer.stem('works'), stemmer.stem('worked'))\n",
        "print(stemmer.stem('amusing'), stemmer.stem('amuses'), stemmer.stem('amused'))\n",
        "print(stemmer.stem('happier'), stemmer.stem('happiest'))\n",
        "print(stemmer.stem('fancier'), stemmer.stem('fanciest'))"
      ],
      "metadata": {
        "colab": {
          "base_uri": "https://localhost:8080/"
        },
        "id": "mEd705Ww5FjX",
        "outputId": "36ece2f6-d7f3-4b5d-9352-788651045b77"
      },
      "execution_count": 13,
      "outputs": [
        {
          "output_type": "stream",
          "name": "stdout",
          "text": [
            "work work work\n",
            "amus amus amus\n",
            "happy happiest\n",
            "fant fanciest\n"
          ]
        }
      ]
    },
    {
      "cell_type": "markdown",
      "source": [
        "stemming은 amuse를 amus로 인식하는 오류, 비교형과 최상급형의 원형을 찾지 못하는 오류."
      ],
      "metadata": {
        "id": "qAkgQHdk5g_c"
      }
    },
    {
      "cell_type": "code",
      "source": [
        "#lemmatization\n",
        "from nltk.stem import WordNetLemmatizer\n",
        "import nltk\n",
        "nltk.download('wordnet')\n",
        "\n",
        "lemma=WordNetLemmatizer()\n",
        "print(lemma.lemmatize('amusing', 'v'), lemma.lemmatize('amuses', 'v'), lemma.lemmatize('amused', 'v'))\n",
        "print(lemma.lemmatize('happier', 'a'), lemma.lemmatize('happiest', 'a'))\n",
        "print(lemma.lemmatize('fancier', 'a'), lemma.lemmatize('fanciest', 'a'))"
      ],
      "metadata": {
        "colab": {
          "base_uri": "https://localhost:8080/"
        },
        "id": "IDQnNiyd5tn8",
        "outputId": "75bc7021-5203-4b43-e77b-334b2ab34092"
      },
      "execution_count": 14,
      "outputs": [
        {
          "output_type": "stream",
          "name": "stderr",
          "text": [
            "[nltk_data] Downloading package wordnet to /root/nltk_data...\n"
          ]
        },
        {
          "output_type": "stream",
          "name": "stdout",
          "text": [
            "amuse amuse amuse\n",
            "happy happy\n",
            "fancy fancy\n"
          ]
        }
      ]
    },
    {
      "cell_type": "markdown",
      "source": [
        "lemmatization이 확실히 stemming보다 더 정확."
      ],
      "metadata": {
        "id": "DTL8J7hK6K3R"
      }
    },
    {
      "cell_type": "markdown",
      "source": [
        "##**03. Bags of Words - BOW**\n",
        "문서가 가지는 모든 단어를 문맥과 순서를 무시하고 일괄적으로 단어에 대해 빈도 값을 부여해 피처 값을 추출하는 모델.\n",
        "1. 문장1과 문장2에 있는 모든 단어에서 중복 제거, 각 단어를 칼럼 형태로 나열. 그리고 각 단어에 고유의 인덱스를 부여.\n",
        "2. 개별 문장에서 해당 단어가 나타나는 횟수를 각 단어(인덱스)에 기재.\n",
        "\n",
        "BOW 모델은 쉽고 빠르다. 활용도도 높다. 하지만 단점도 있다.\n",
        "- 문맥 의미 반영 부족 : 보완하기 위해 n-gram 사용할 수 있지만 제한적임.\n",
        "- 희소 행렬 문제(희소성, 희소 생렬) : BOW로 피처 벡터화를 수행하면 희소 행렬 형태의 데이터 세트가 만들어지기 쉽다. 단어가 문서마다 나타나지 않는 경우가 훨씬 많음. 대부분의 데이터가 0으로 채워지게 된다. 이처럼 대규모의 칼럼으로 구성된 행렬에서 대부분의 값이 0으로 채워지는 행렬을 희소 행렬이라고 한다. <-> 밀집 행렬. 희소 행렬은 머신러닝 알고리즘의 수행 시간과 예측 성능을 떨어뜨려 특별한 기법이 필요."
      ],
      "metadata": {
        "id": "MEzG3qtGtR4X"
      }
    },
    {
      "cell_type": "markdown",
      "source": [
        "###BOW 피처 벡터화\n",
        "텍스트 같은 데이터를 바로 머신러닝 알고리즘에 입력 불가. 텍스트는 특정 의미를 가지는 숫자형 값인 벡터 값으로 변환해야함. = 피처 벡터화. 피처 벡터화는 기존 텍스트 데이터를 또 다른 형태의 피처의 조합으로 변경하기 때문에 넓은 범위의 피처 추출에 포함한다.\n",
        "\n",
        "BOW 모델에서 피처 벡터화를 수행한다는 것은 모든 문서에서 모든 단어를 칼럼 형태로 나열하고 각 문서에서 해당 단어의 횟수나 정규화된 빈도를 값으로 부여하는 데이터 세트 모델로 변경하는 것. \n",
        "\n",
        "BOW의 피처 벡터화 두 가지 방식\n",
        "- 카운트 기반의 벡터화 : 단어 피처에 값을 부여할 때 각 문서에서 해당 단어가 나타나는 횟수를 부여하는 경우. 값이 높을수록 중요한 단어. 하지만 언어의 특성상 문장에서 자주 사용될 수 밖에 없는 단어까지 높은 값 부여.\n",
        "- TF-IDF (Term Frequency - Inverse Document Frequency) 기반의 벡터화 : 카운트 기반의 문제 보완. 개별 문서에서 자주 나타나는 단어에 높은 가중치 주되, 모든 문서에서 전반적으로 자주 나타나는 단어에 대해서는 페널티 부여. 문서마다 텍스트가 길고 문서의 개수가 많을 때 좋다.\n",
        "\n"
      ],
      "metadata": {
        "id": "Hlsn_I57tVI2"
      }
    },
    {
      "cell_type": "markdown",
      "source": [
        "###사이킷런의 count 및 TF-IDF 벡터화 구현: CountVectorizer, TfidfVectorizer\n",
        "CountVectorizer는 카운트 기반의 벡터화 구현. 단지 피처 벡터화만 수행하는게 아니라 소문자 일괄 변환, 토큰화, 스톱 워드 필터링 등의 전처리도 수행해준다. 입력 파라미터 설정 필요.\n",
        "- max_df : 전체 문서에서 너무 높은 빈도수 가지는 단어 피처를 제외.\n",
        "- min_df : 전체 문서에서 너무 낮은 빈도수 가지는 단어 피처를 제외.\n",
        "- max_features : 추출하는 피처의 개수를 제한.\n",
        "- stop_words : 스톱 워드로 지정된 단어는 추출에서 제외.\n",
        "- n_gram_range : 단어 순서를 어느 정도 보강하기 위한 n_gram 범위 설정.\n",
        "- analyzer : 피처 추출을 수행한 단위를 지정. 디폴트는 당연히 word.\n",
        "- token_pattern : 토큰화를 수행하는 정규 표현식 패턴 지정.\n",
        "- tokenizer : 토큰화를 별도의 커스텀 함수로 이용시 적용.\n",
        "\n",
        "보통 사이킷런의 CountVectorizer 클래스를 이용해 카운트 기반의 피처 여러 개의 문서로 구성된 텍스트의 피처 벡터화 방법은\n",
        "1. 영어의 경우 소문자 변경 등 사전 데이터 가공\n",
        "2. 디폴트로 단어 기준으로 n_gram_range 반영해 각 단어 토큰화\n",
        "3. 텍스트 정규화 수행. 어근 변환은 CountVectorizer에서 직접 지원하지 않고 tockenizer 파라미터에 커스텀 어근 변환 함수를 적용하여 수행할 수 있다.\n",
        "4. 피처 벡터화. 다른 파라미터를 이용해 토큰화된 단어를 피처로 추출하고 단어 빈도수 벡터 값을 적용\n",
        "\n",
        "TF-IDF 벡터화는 TfidfVectorizer 클래스 이용. 파라미터 변환 방법은 count와 동일."
      ],
      "metadata": {
        "id": "m6bD_4PbtXXy"
      }
    },
    {
      "cell_type": "markdown",
      "source": [
        "###BOW 벡터화를 위한 희소 행렬\n",
        "사이킷런의 countvectorizer, tfidfvectorizer를 이용해 텍스틀 피처 단위로 벡터화해 변환하고 CSR 형태의 희소 행렬 반환. 희소 행렬?\n",
        "\n",
        "모든 문서에 있는 단어를 중복을 제외하고 피처로 만들면 수만개-수십만개 정도. 하지만 레코드의 각 문서가 가지는 단어의 수는 제한적이라 이 행렬의 값은 대부분 0이 차지. = 희소 행렬. BOW 형태를 가진 언어 모델의 피처 벡터화는 대부분 희소 행렬. 불필요한 0 때문에 메모리 공간과 시간 낭비. 따라서 희소 행렬을 변환해야함. 대표적으로 COO 형식과 CSR 형식이 있다. 일반적으로 CSR 사용."
      ],
      "metadata": {
        "id": "lj1T0CbateIu"
      }
    },
    {
      "cell_type": "markdown",
      "source": [
        "###희소 행렬 - COO 형식\n",
        "COO 형식은 0이 아닌 데이터만 별도의 데이터 배열에 저장하고 그 데이터가 가리키는 행과 열의 위치를 별도의 배열로 저장하는 방식.\n",
        "\n",
        "희소 행렬 변환을 위해 주로 사이파이 사용. sparse 패키지는 희소 행렬 변환을 위한 다양한 모듈 제공."
      ],
      "metadata": {
        "id": "cvxPCDELthF2"
      }
    },
    {
      "cell_type": "code",
      "source": [
        "#먼저 [ [3,0,1], [0,2,0] ]을 넘파이의 객체로 만들어 COO 형식의 희소 행렬로 변환하자\n",
        "import numpy as np\n",
        "\n",
        "dense=np.array([[3,0,1], [0,2,0]])"
      ],
      "metadata": {
        "id": "-xj8yawDBDvx"
      },
      "execution_count": 16,
      "outputs": []
    },
    {
      "cell_type": "code",
      "source": [
        "#0이 아닌 데이터를 별도의 배열 데이터로 만들고, 행/열 위치 배열을 각각 만든 후 coo_matirx() 내에 생성 파라미터로 입력\n",
        "from scipy import sparse\n",
        "\n",
        "#0이 아닌 데이터 추출\n",
        "data=np.array([3,1,2])\n",
        "\n",
        "#행 위치와 열 위치를 각각 배열로 생성\n",
        "row_pos=np.array([0,0,1])\n",
        "col_pos=np.array([0,2,1])\n",
        "\n",
        "#sparse 패키지의 coo_matirx를 이용해 COO 형식의 희소 행렬 생성\n",
        "sparse_coo=sparse.coo_matrix((data, (row_pos, col_pos)))"
      ],
      "metadata": {
        "id": "EmNFyADRBU3I"
      },
      "execution_count": 18,
      "outputs": []
    },
    {
      "cell_type": "code",
      "source": [
        "#toarray() 메서드로 다시 밀집 형태의 행렬로 출력해보자\n",
        "sparse_coo.toarray()"
      ],
      "metadata": {
        "colab": {
          "base_uri": "https://localhost:8080/"
        },
        "id": "9YCyXmz7B3AB",
        "outputId": "e7e9ff7f-82b7-4c84-d16b-d81aa7203304"
      },
      "execution_count": 19,
      "outputs": [
        {
          "output_type": "execute_result",
          "data": {
            "text/plain": [
              "array([[3, 0, 1],\n",
              "       [0, 2, 0]])"
            ]
          },
          "metadata": {},
          "execution_count": 19
        }
      ]
    },
    {
      "cell_type": "markdown",
      "source": [
        "###희소 행렬 - CSR 형식\n",
        "COO 형식이 행과 열의 위치를 나타내기 위해서 반복적인 위치 데이터를 사용해야 하는 문제점 해결.\n",
        "\n",
        "COO 변환 형식의 문제점을 보자. 행 위치 배열를 보면 순차적인 같은 값이 반복적으로 나타남. 행 위치 배열이 0부터 순차적으로 증가하는 값으로 이루어졌으므로 행 위치 배열의 고유한 값의 시작 위치만 표기하는 방법으로 이런 반복 제거 가능. CSR은 Compressed Sparse Row의 약자로, 이렇게 행 위치 배열 내에 있는 고유한 값의 시작 위치만 다시 별도의 위치 배열로 가지는 변환 방식을 의미함.\n",
        "\n",
        "CSR 방식은 사이파이의 csr_matrix 클래스 이용."
      ],
      "metadata": {
        "id": "LVeAtxQWtj5f"
      }
    },
    {
      "cell_type": "code",
      "execution_count": 21,
      "metadata": {
        "colab": {
          "base_uri": "https://localhost:8080/"
        },
        "id": "L7HGFePCrbyT",
        "outputId": "56d1824a-fd18-4b07-c705-709e49ed5eee"
      },
      "outputs": [
        {
          "output_type": "stream",
          "name": "stdout",
          "text": [
            "COO 변환된 데이터가 제대로 되었는지 다시 dense로 출력 확인\n",
            "[[0 0 1 0 0 5]\n",
            " [1 4 0 3 2 5]\n",
            " [0 6 0 3 0 0]\n",
            " [2 0 0 0 0 0]\n",
            " [0 0 0 7 0 8]\n",
            " [1 0 0 0 0 0]]\n",
            "CSR 변환된 데이터가 제대로 되었는지 다시 dense로 출력 확인\n",
            "[[0 0 1 0 0 5]\n",
            " [1 4 0 3 2 5]\n",
            " [0 6 0 3 0 0]\n",
            " [2 0 0 0 0 0]\n",
            " [0 0 0 7 0 8]\n",
            " [1 0 0 0 0 0]]\n"
          ]
        }
      ],
      "source": [
        "from scipy import sparse\n",
        "\n",
        "dense2=np.array([[0,0,1,0,0,5],\n",
        "                 [1,4,0,3,2,5],\n",
        "                 [0,6,0,3,0,0],\n",
        "                 [2,0,0,0,0,0],\n",
        "                 [0,0,0,7,0,8],\n",
        "                 [1,0,0,0,0,0]])\n",
        "\n",
        "#0이 아닌 데이터 추출\n",
        "data2=np.array([1,5,1,4,3,2,5,6,3,2,7,8,1])\n",
        "\n",
        "#행 위치와 열 위치를 각각 array로 생성\n",
        "row_pos=np.array([0,0,1,1,1,1,1,2,2,3,4,4,5])\n",
        "col_pos=np.array([2,5,0,1,3,4,5,1,3,0,3,5,0])\n",
        "\n",
        "#COO 형식으로 변환\n",
        "sparse_coo=sparse.coo_matrix((data2, (row_pos, col_pos)))\n",
        "\n",
        "#행 위치 배열의 고유한 값의 시작 위치 인덱스를 배열로 생성 + 맨 끝에는 총 데이터 수\n",
        "row_pos_ind=np.array([0,2,7,9,10,12,13])\n",
        "\n",
        "#CSR 형식으로 변환\n",
        "sparse_csr=sparse.csr_matrix((data2, col_pos, row_pos_ind))\n",
        "\n",
        "print('COO 변환된 데이터가 제대로 되었는지 다시 dense로 출력 확인')\n",
        "print(sparse_coo.toarray())\n",
        "print('CSR 변환된 데이터가 제대로 되었는지 다시 dense로 출력 확인')\n",
        "print(sparse_csr.toarray())"
      ]
    },
    {
      "cell_type": "markdown",
      "source": [
        "실제 사용 시에는 다음과 같이 밀집 행렬을 생성 파라미터로 입력하면 COO나 CSR 희소 행렬로 생성"
      ],
      "metadata": {
        "id": "sLCxMvkBEBzy"
      }
    },
    {
      "cell_type": "code",
      "source": [
        "dense3=np.array([[0,0,1,0,0,5],\n",
        "                 [1,4,0,3,2,5],\n",
        "                 [0,6,0,3,0,0],\n",
        "                 [2,0,0,0,0,0],\n",
        "                 [0,0,0,7,0,8],\n",
        "                 [1,0,0,0,0,0]])\n",
        "\n",
        "coo=sparse.coo_matrix(dense3)\n",
        "csr=sparse.csr_matrix(dense3)"
      ],
      "metadata": {
        "id": "OYp9_Y8DEGwR"
      },
      "execution_count": 22,
      "outputs": []
    },
    {
      "cell_type": "code",
      "source": [
        "coo"
      ],
      "metadata": {
        "colab": {
          "base_uri": "https://localhost:8080/"
        },
        "id": "Zc5OSvF6ESCA",
        "outputId": "5f1f69b1-3c8e-47a9-8285-393952350b79"
      },
      "execution_count": 23,
      "outputs": [
        {
          "output_type": "execute_result",
          "data": {
            "text/plain": [
              "<6x6 sparse matrix of type '<class 'numpy.int64'>'\n",
              "\twith 13 stored elements in COOrdinate format>"
            ]
          },
          "metadata": {},
          "execution_count": 23
        }
      ]
    },
    {
      "cell_type": "code",
      "source": [
        "csr"
      ],
      "metadata": {
        "colab": {
          "base_uri": "https://localhost:8080/"
        },
        "id": "uF-Za9SwEetg",
        "outputId": "a117cc5b-efbe-4607-a833-bf61b64b7ca6"
      },
      "execution_count": 24,
      "outputs": [
        {
          "output_type": "execute_result",
          "data": {
            "text/plain": [
              "<6x6 sparse matrix of type '<class 'numpy.int64'>'\n",
              "\twith 13 stored elements in Compressed Sparse Row format>"
            ]
          },
          "metadata": {},
          "execution_count": 24
        }
      ]
    },
    {
      "cell_type": "markdown",
      "source": [
        "countvectorizer나 tfidfvectorizer 클래스로 변환된 피처 벡터화 행렬은 모두 사이파이의 CSR 형태의 희소 행렬이다."
      ],
      "metadata": {
        "id": "TKElDsFNETuq"
      }
    }
  ]
}