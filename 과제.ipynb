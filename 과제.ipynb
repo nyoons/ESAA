{
  "nbformat": 4,
  "nbformat_minor": 0,
  "metadata": {
    "colab": {
      "provenance": [],
      "collapsed_sections": [],
      "authorship_tag": "ABX9TyMPhZMinnqy9ywUtsaGnlFH",
      "include_colab_link": true
    },
    "kernelspec": {
      "name": "python3",
      "display_name": "Python 3"
    },
    "language_info": {
      "name": "python"
    }
  },
  "cells": [
    {
      "cell_type": "markdown",
      "metadata": {
        "id": "view-in-github",
        "colab_type": "text"
      },
      "source": [
        "<a href=\"https://colab.research.google.com/github/nyoons/ESAA/blob/main/%EA%B3%BC%EC%A0%9C.ipynb\" target=\"_parent\"><img src=\"https://colab.research.google.com/assets/colab-badge.svg\" alt=\"Open In Colab\"/></a>"
      ]
    },
    {
      "cell_type": "markdown",
      "source": [
        "#01. 머신러닝의 개념\n",
        "애플리케이션을 수정하지 않고도 데이터를 기반으로 패턴을 학습하고 결과를 예측하는 알고리즘 기법\n",
        "<br/>\n",
        "ex. 머신러닝은 데이터를 기반으로 숨겨진 패턴을 스스로 인지해 문제를 해결한다.\n",
        "\n",
        ">**머신러닝의 분류**\n",
        "*   지도학습 - 분류, 회귀, 추천 시스템, 시각/음성 감지/인지, 텍스트 분석과 NLP\n",
        "*   비지도학습 - 클러스터링, 차원 축소, 강화학습\n",
        "*   강화학습\n",
        "\n",
        ">**데이터 전쟁**\n",
        "*   머신러닝의 단점은 데이터에 매우 의존적이라는 것. 좋은 품질의 데이터를 향한 경쟁.\n",
        "\n",
        ">**파이썬과 R 기반의 머신러닝 비교**\n",
        "*   R - 통계 전용.\n",
        "*   파이썬 - 다양한 영역. *\"소리 없이 프로그래밍 세계를 점령하고 있는 언어\"*\n",
        "\n",
        "#02. 파이썬 머신러닝 생태계를 구성하는 주요 패키지\n",
        "*   머신러닝 패키지 - **사이킷런**, 텐서플로, 케라스\n",
        "*   행렬/선형대수/통계 패키지 - **넘파이**, 사이파이\n",
        "*   데이터 핸들링 - **판다스**(2차원 데이터)\n",
        "*   시각화 - **맷플롯립**(약간 투박), 시본(맷플롯립을 어느 정도 알아야함)\n",
        "*   그 외 서드파티 라이브러리\n",
        "*   주피터 노트북 - 대표적 아이파이썬 지원 툴. 필기하듯.\n",
        "\n",
        ">**파이썬 머신러닝을 위한 S/W 설치**\n",
        "1. 아나콘다 설치 - anaconda prompt는 패키지 설치 시 사용. 관리자 권한으로 실행. \n",
        "2. visual studio build tools 설치\n",
        "*   데이터의 추출/가공/변형, 원하는 차원 배열로의 변환 등은 넘파이와 판다스의 몫.\n",
        "\n",
        "#03. 넘파이\n",
        "파이썬에서 선형대수 기반의 프로그램을 쉽게 만들 수 있도록 지원하는 대표적 패키지. 배열 기반의 연산은 물론, 다양한 데이터 핸들링 기능 제공. 하지만 편의성과 다양한 API 지원 측면에서 판다스에 밀림. 상세하게 알 필요는 없지만 **넘파이를 이해하는 것은 파이썬 기반의 머신러닝에서 매우 중요**. \n",
        "\n",
        ">**넘파이 ndarray 개요**\n",
        "<br/>넘파이의 기반 데이터 타입은 ndarray. array()함수는 입력받은 인자(주로 리스트 객체)를 ndarray로 변환하는 기능을 수행. shape변수는 ndarray의 행과 열 수를 튜플 형태로 가지며 ndarray 배열의 차원까지 알 수 있음."
      ],
      "metadata": {
        "id": "wASmm79BNGe8"
      }
    },
    {
      "cell_type": "code",
      "source": [
        "import numpy as np\n",
        "array1=np.array([1,2,3])\n",
        "print('array1 type:', type(array1))\n",
        "print('array1 array 형태:', array1.shape)\n",
        "array2=np.array([[1,2,3],\n",
        "                 [2,3,4]])\n",
        "print('array2 type:', type(array2))\n",
        "print('array2 array 형태:', array2.shape)\n",
        "array3=np.array([[1,2,3]])\n",
        "print('array3 type:', type(array3))\n",
        "print('array3 array 형태:', array3.shape)\n",
        "print('array1:{:0}차원, array2:{:1}차원, array3:{:2}차원'.format(array1.ndim, array2.ndim, array3.ndim))"
      ],
      "metadata": {
        "id": "YtUOWW3IebWS",
        "outputId": "9dbbe7a6-2278-41d6-b1a1-0ee7036906ac",
        "colab": {
          "base_uri": "https://localhost:8080/"
        }
      },
      "execution_count": null,
      "outputs": [
        {
          "output_type": "stream",
          "name": "stdout",
          "text": [
            "array1 type: <class 'numpy.ndarray'>\n",
            "array1 array 형태: (3,)\n",
            "array2 type: <class 'numpy.ndarray'>\n",
            "array2 array 형태: (2, 3)\n",
            "array3 type: <class 'numpy.ndarray'>\n",
            "array3 array 형태: (1, 3)\n",
            "array1:1차원, array2:2차원, array3: 2차원\n"
          ]
        }
      ]
    },
    {
      "cell_type": "markdown",
      "source": [
        ">**ndarray의 데이터 타입**\n",
        "<br/>숫자, 문자열, 불 모두 가능. 하지만 연산 특성상 한 ndarray 내에 같은 데이터 타입만 가능. 다른 타입 섞여있을 경우 더 큰거로 변환. 타입 변경도 astype()으로 가능. "
      ],
      "metadata": {
        "id": "FY16AARUejty"
      }
    },
    {
      "cell_type": "code",
      "source": [
        "list1=[1,2,3]\n",
        "print(type(list1))\n",
        "array1=np.array(list1)\n",
        "print(type(array1))\n",
        "print(array1, array1.dtype)"
      ],
      "metadata": {
        "id": "XIHeFusDOgGU",
        "outputId": "6c7d15be-8c1c-477b-f5e4-4d9a19b07ce4",
        "colab": {
          "base_uri": "https://localhost:8080/"
        }
      },
      "execution_count": null,
      "outputs": [
        {
          "output_type": "stream",
          "name": "stdout",
          "text": [
            "<class 'list'>\n",
            "<class 'numpy.ndarray'>\n",
            "[1 2 3] int64\n"
          ]
        }
      ]
    },
    {
      "cell_type": "code",
      "source": [
        "list2=[1,2,'test']\n",
        "array2=np.array(list2)\n",
        "print(array2, array2.dtype)\n",
        "\n",
        "list3=[1,2,3.0]\n",
        "array3=np.array(list3)\n",
        "print(array3, array3.dtype)"
      ],
      "metadata": {
        "id": "mi0DPiE-gLSI",
        "outputId": "f51ffdf6-dfc5-4e41-f79e-31233e85db38",
        "colab": {
          "base_uri": "https://localhost:8080/"
        }
      },
      "execution_count": null,
      "outputs": [
        {
          "output_type": "stream",
          "name": "stdout",
          "text": [
            "['1' '2' 'test'] <U21\n",
            "[1. 2. 3.] float64\n"
          ]
        }
      ]
    },
    {
      "cell_type": "code",
      "source": [
        "array_int=np.array([1,2,3])\n",
        "array_float=array_int.astype('float64')\n",
        "print(array_float, array_float.dtype)\n",
        "\n",
        "array_int1=array_float.astype('int32')\n",
        "print(array_int1, array_int1.dtype)\n",
        "\n",
        "array_float1=np.array([1.1,2.1,3.1])\n",
        "array_int2=array_float1.astype('int32')\n",
        "print(array_int2, array_int2.dtype)"
      ],
      "metadata": {
        "id": "a7g67qHZhOty",
        "outputId": "b9b3f5e0-0334-4dc2-b5bf-471b81a4e339",
        "colab": {
          "base_uri": "https://localhost:8080/"
        }
      },
      "execution_count": null,
      "outputs": [
        {
          "output_type": "stream",
          "name": "stdout",
          "text": [
            "[1. 2. 3.] float64\n",
            "[1 2 3] int32\n",
            "[1 2 3] int32\n"
          ]
        }
      ]
    },
    {
      "cell_type": "markdown",
      "source": [
        ">**ndarray를 편리하게 생성하기 - arrange, zeros, ones**\n",
        "<br/>초기화해야하는 경우.\n",
        "\n",
        "*   range()와 유사한 arange() 이용\n",
        "*   zeros()는 튜플 형태의 shape값 입력 시 모든 값을 0으로 채운 ndarray 반환\n",
        "*   ones()는 튜플 형태의 shape값 입력 시 모든 값을 1로 채운 ndarray 반환. dtype 정해주지 않으면 디폴트로 float64형의 데이터로 채움"
      ],
      "metadata": {
        "id": "huA4eJzrfvmS"
      }
    },
    {
      "cell_type": "code",
      "source": [
        "sequence_array=np.arange(10)\n",
        "print(sequence_array)\n",
        "print(sequence_array.dtype, sequence_array.shape)"
      ],
      "metadata": {
        "id": "PmiXJedpiTKa",
        "outputId": "cbbb7b0d-d32a-465a-e6ef-88d728b03e0d",
        "colab": {
          "base_uri": "https://localhost:8080/"
        }
      },
      "execution_count": 8,
      "outputs": [
        {
          "output_type": "stream",
          "name": "stdout",
          "text": [
            "[0 1 2 3 4 5 6 7 8 9]\n",
            "int64 (10,)\n"
          ]
        }
      ]
    },
    {
      "cell_type": "code",
      "source": [
        "zero_array=np.zeros((3,2), dtype='int32')\n",
        "print(zero_array)\n",
        "print(zero_array.dtype, zero_array.shape)\n",
        "\n",
        "one_array=np.ones((3,2))\n",
        "print(one_array)\n",
        "print(one_array.dtype, one_array.shape)"
      ],
      "metadata": {
        "id": "jfrjdpncna4j",
        "outputId": "829ccfcc-e116-4d8b-f2f7-a835eae8b536",
        "colab": {
          "base_uri": "https://localhost:8080/"
        }
      },
      "execution_count": 10,
      "outputs": [
        {
          "output_type": "stream",
          "name": "stdout",
          "text": [
            "[[0 0]\n",
            " [0 0]\n",
            " [0 0]]\n",
            "int32 (3, 2)\n",
            "[[1. 1.]\n",
            " [1. 1.]\n",
            " [1. 1.]]\n",
            "float64 (3, 2)\n"
          ]
        }
      ]
    },
    {
      "cell_type": "markdown",
      "source": [
        ">**ndarray의 차원과 크기를 변경하는 reshape()**\n",
        "<br/>ndarray를 특정 차원 및 크기로 변환.\n",
        "<br/>인자로 -1을 적용하면 원래 ndarray와 호환되는 새로운 shape로 변환. (-1,1) 형태로 자주 사용되는데 원본 ndarray가 어떤 형태든 2차원이고 여러 개의 로우를 가지되 반드시 1개의 칼럼을 가진 ndarray로의 변환을 보장"
      ],
      "metadata": {
        "id": "A7C5P3XwiUBt"
      }
    },
    {
      "cell_type": "code",
      "source": [
        ".array1=np.arange(10)\n",
        "print('array1:\\n', array1)\n",
        "\n",
        "array2=array1.reshape(2,5)\n",
        "print('array2:\\n', array2)\n",
        "\n",
        "array3=array1.reshape(5,2)\n",
        "print('array3:\\n', array3)"
      ],
      "metadata": {
        "id": "XZkcgIbGoJX_",
        "outputId": "83bb7c8e-8e52-40cc-cf2a-6969fad4249e",
        "colab": {
          "base_uri": "https://localhost:8080/"
        }
      },
      "execution_count": 12,
      "outputs": [
        {
          "output_type": "stream",
          "name": "stdout",
          "text": [
            "array1:\n",
            " [0 1 2 3 4 5 6 7 8 9]\n",
            "array2:\n",
            " [[0 1 2 3 4]\n",
            " [5 6 7 8 9]]\n",
            "array3:\n",
            " [[0 1]\n",
            " [2 3]\n",
            " [4 5]\n",
            " [6 7]\n",
            " [8 9]]\n"
          ]
        }
      ]
    },
    {
      "cell_type": "code",
      "source": [
        "#하지만 지정된 사이즈 아니면 오류\n",
        "array1.reshape(4,3)"
      ],
      "metadata": {
        "id": "LCTyx3wFpwO_",
        "outputId": "21695eaf-8838-49ce-f90f-4a0bb7880e98",
        "colab": {
          "base_uri": "https://localhost:8080/",
          "height": 190
        }
      },
      "execution_count": 13,
      "outputs": [
        {
          "output_type": "error",
          "ename": "ValueError",
          "evalue": "ignored",
          "traceback": [
            "\u001b[0;31m---------------------------------------------------------------------------\u001b[0m",
            "\u001b[0;31mValueError\u001b[0m                                Traceback (most recent call last)",
            "\u001b[0;32m<ipython-input-13-8d7e3c547c91>\u001b[0m in \u001b[0;36m<module>\u001b[0;34m\u001b[0m\n\u001b[1;32m      1\u001b[0m \u001b[0;31m#하지만 지정된 사이즈 아니면 오류\u001b[0m\u001b[0;34m\u001b[0m\u001b[0;34m\u001b[0m\u001b[0;34m\u001b[0m\u001b[0m\n\u001b[0;32m----> 2\u001b[0;31m \u001b[0marray1\u001b[0m\u001b[0;34m.\u001b[0m\u001b[0mreshape\u001b[0m\u001b[0;34m(\u001b[0m\u001b[0;36m4\u001b[0m\u001b[0;34m,\u001b[0m\u001b[0;36m3\u001b[0m\u001b[0;34m)\u001b[0m\u001b[0;34m\u001b[0m\u001b[0;34m\u001b[0m\u001b[0m\n\u001b[0m",
            "\u001b[0;31mValueError\u001b[0m: cannot reshape array of size 10 into shape (4,3)"
          ]
        }
      ]
    },
    {
      "cell_type": "code",
      "source": [
        "array1=np.arange(10)\n",
        "print(array1)\n",
        "array2=array1.reshape(-1,5)\n",
        "print('array2 shape:', array2.shape)\n",
        "array3=array1.reshape(5,-1)\n",
        "print('array3 shape:', array3.shape)"
      ],
      "metadata": {
        "id": "Y2t-a9JwqeVR",
        "outputId": "0ecb0f4c-e2d6-4398-961b-682e79fe9d1b",
        "colab": {
          "base_uri": "https://localhost:8080/"
        }
      },
      "execution_count": 14,
      "outputs": [
        {
          "output_type": "stream",
          "name": "stdout",
          "text": [
            "[0 1 2 3 4 5 6 7 8 9]\n",
            "array2 shape: (2, 5)\n",
            "array3 shape: (5, 2)\n"
          ]
        }
      ]
    },
    {
      "cell_type": "code",
      "source": [
        "#마찬가지로 사이즈 변경 불가 시 오류\n",
        "array1=np.arange(10)\n",
        "array4=array1.reshape(-1,4)"
      ],
      "metadata": {
        "id": "JmU6vVbErGFq",
        "outputId": "7979fd25-7c56-4866-99a0-eead780786d7",
        "colab": {
          "base_uri": "https://localhost:8080/",
          "height": 209
        }
      },
      "execution_count": 15,
      "outputs": [
        {
          "output_type": "error",
          "ename": "ValueError",
          "evalue": "ignored",
          "traceback": [
            "\u001b[0;31m---------------------------------------------------------------------------\u001b[0m",
            "\u001b[0;31mValueError\u001b[0m                                Traceback (most recent call last)",
            "\u001b[0;32m<ipython-input-15-f7ab38be12d4>\u001b[0m in \u001b[0;36m<module>\u001b[0;34m\u001b[0m\n\u001b[1;32m      1\u001b[0m \u001b[0;31m#마찬가지로 사이즈 변경 불가 시 오류\u001b[0m\u001b[0;34m\u001b[0m\u001b[0;34m\u001b[0m\u001b[0;34m\u001b[0m\u001b[0m\n\u001b[1;32m      2\u001b[0m \u001b[0marray1\u001b[0m\u001b[0;34m=\u001b[0m\u001b[0mnp\u001b[0m\u001b[0;34m.\u001b[0m\u001b[0marange\u001b[0m\u001b[0;34m(\u001b[0m\u001b[0;36m10\u001b[0m\u001b[0;34m)\u001b[0m\u001b[0;34m\u001b[0m\u001b[0;34m\u001b[0m\u001b[0m\n\u001b[0;32m----> 3\u001b[0;31m \u001b[0marray4\u001b[0m\u001b[0;34m=\u001b[0m\u001b[0marray1\u001b[0m\u001b[0;34m.\u001b[0m\u001b[0mreshape\u001b[0m\u001b[0;34m(\u001b[0m\u001b[0;34m-\u001b[0m\u001b[0;36m1\u001b[0m\u001b[0;34m,\u001b[0m\u001b[0;36m4\u001b[0m\u001b[0;34m)\u001b[0m\u001b[0;34m\u001b[0m\u001b[0;34m\u001b[0m\u001b[0m\n\u001b[0m",
            "\u001b[0;31mValueError\u001b[0m: cannot reshape array of size 10 into shape (4)"
          ]
        }
      ]
    },
    {
      "cell_type": "code",
      "source": [
        "array1=np.arange(8)\n",
        "array3d=array1.reshape((2,2,2))\n",
        "print('array3d:\\n', array3d.tolist()) #tolist()이용해 리스트 자료형으로 변환\n",
        "\n",
        "#3차원 ndarray를 2차원 ndarray로 변환\n",
        "array5=array3d.reshape(-1,1)\n",
        "print('array5:\\n', array5.tolist())\n",
        "print('array5 shape:', array5.shape)\n",
        "\n",
        "#1차원 ndarray를 2차원 ndarray로 변환\n",
        "array6=array1.reshape(-1,1)\n",
        "print('array6:\\n', array6.tolist())\n",
        "print('array6 shape:', array6.shape)\n"
      ],
      "metadata": {
        "id": "PP17143Oru7q",
        "outputId": "72c2edb2-e308-4dc0-ec0c-e3d015300352",
        "colab": {
          "base_uri": "https://localhost:8080/"
        }
      },
      "execution_count": 17,
      "outputs": [
        {
          "output_type": "stream",
          "name": "stdout",
          "text": [
            "array3d:\n",
            " [[[0, 1], [2, 3]], [[4, 5], [6, 7]]]\n",
            "array5:\n",
            " [[0], [1], [2], [3], [4], [5], [6], [7]]\n",
            "array5 shape: (8, 1)\n",
            "array6:\n",
            " [[0], [1], [2], [3], [4], [5], [6], [7]]\n",
            "array6 shape: (8, 1)\n"
          ]
        }
      ]
    },
    {
      "cell_type": "markdown",
      "source": [
        ">**넘파이의 ndarray의 데이터 세트 선택하기 - 인덱싱(Indexing)**"
      ],
      "metadata": {
        "id": "s_tB7bfKoJ3f"
      }
    },
    {
      "cell_type": "code",
      "source": [],
      "metadata": {
        "id": "wXmyeWv2oKQY"
      },
      "execution_count": null,
      "outputs": []
    },
    {
      "cell_type": "markdown",
      "source": [
        ">**행렬의 정렬 - sort()와 argsort()**"
      ],
      "metadata": {
        "id": "GgXtrfocoKwS"
      }
    },
    {
      "cell_type": "code",
      "source": [],
      "metadata": {
        "id": "PL1VSN88tI7R"
      },
      "execution_count": null,
      "outputs": []
    },
    {
      "cell_type": "markdown",
      "source": [
        ">**선형대수 연산 - 행렬 내적과 전치 행렬 구하기**"
      ],
      "metadata": {
        "id": "0gXbb4T1tJSW"
      }
    }
  ]
}