{
  "nbformat": 4,
  "nbformat_minor": 0,
  "metadata": {
    "colab": {
      "provenance": [],
      "gpuType": "T4",
      "include_colab_link": true
    },
    "kernelspec": {
      "name": "python3",
      "display_name": "Python 3"
    },
    "language_info": {
      "name": "python"
    },
    "accelerator": "GPU"
  },
  "cells": [
    {
      "cell_type": "markdown",
      "metadata": {
        "id": "view-in-github",
        "colab_type": "text"
      },
      "source": [
        "<a href=\"https://colab.research.google.com/github/nyoons/ESAA/blob/main/%EB%A8%B8%EC%8B%A0%EB%9F%AC%EB%8B%9D_%EC%B5%9C%EC%A2%85.ipynb\" target=\"_parent\"><img src=\"https://colab.research.google.com/assets/colab-badge.svg\" alt=\"Open In Colab\"/></a>"
      ]
    },
    {
      "cell_type": "code",
      "execution_count": 1,
      "metadata": {
        "colab": {
          "base_uri": "https://localhost:8080/"
        },
        "id": "CCXGKK6dg58j",
        "outputId": "25526c52-cb6d-447d-8b7e-2c88bd63935f"
      },
      "outputs": [
        {
          "output_type": "stream",
          "name": "stdout",
          "text": [
            "Mounted at /content/drive\n"
          ]
        }
      ],
      "source": [
        "from google.colab import drive\n",
        "drive.mount('/content/drive')"
      ]
    },
    {
      "cell_type": "code",
      "source": [
        "import pandas as pd\n",
        "import numpy as np\n",
        "import warnings\n",
        "warnings.filterwarnings(\"ignore\")\n",
        "\n",
        "train=pd.read_csv('/content/drive/MyDrive/ESAA OB 3조/방학 프로젝트/train.csv')\n",
        "test=pd.read_csv('/content/drive/MyDrive/ESAA OB 3조/방학 프로젝트/test.csv')\n",
        "submission = pd.read_csv('/content/drive/MyDrive/ESAA OB 3조/방학 프로젝트/sample_submission.csv')"
      ],
      "metadata": {
        "id": "slrruQIDhE5r"
      },
      "execution_count": 4,
      "outputs": []
    },
    {
      "cell_type": "code",
      "source": [
        "train.head()"
      ],
      "metadata": {
        "colab": {
          "base_uri": "https://localhost:8080/",
          "height": 206
        },
        "id": "FpbLl_LnhE3t",
        "outputId": "5710fff9-dcab-417b-aec4-8fa459306437"
      },
      "execution_count": 5,
      "outputs": [
        {
          "output_type": "execute_result",
          "data": {
            "text/plain": [
              "            ID                                                 문장   유형  극성  \\\n",
              "0  TRAIN_00000              0.75%포인트 금리 인상은 1994년 이후 28년 만에 처음이다.  사실형  긍정   \n",
              "1  TRAIN_00001  이어 ＂앞으로 전문가들과 함께 4주 단위로 상황을 재평가할 예정＂이라며 ＂그 이전이...  사실형  긍정   \n",
              "2  TRAIN_00002  정부가 고유가 대응을 위해 7월부터 연말까지 유류세 인하 폭을 30%에서 37%까지...  사실형  긍정   \n",
              "3  TRAIN_00003  서울시는 올해 3월 즉시 견인 유예시간 60분을 제공하겠다고 밝혔지만, 하루 만에 ...  사실형  긍정   \n",
              "4  TRAIN_00004           익사한 자는 사다리에 태워 거꾸로 놓고 소금으로 코를 막아 가득 채운다.  사실형  긍정   \n",
              "\n",
              "   시제 확실성         label  \n",
              "0  현재  확실  사실형-긍정-현재-확실  \n",
              "1  과거  확실  사실형-긍정-과거-확실  \n",
              "2  미래  확실  사실형-긍정-미래-확실  \n",
              "3  과거  확실  사실형-긍정-과거-확실  \n",
              "4  현재  확실  사실형-긍정-현재-확실  "
            ],
            "text/html": [
              "\n",
              "\n",
              "  <div id=\"df-a94f4986-278d-4e50-ab88-868a768120d6\">\n",
              "    <div class=\"colab-df-container\">\n",
              "      <div>\n",
              "<style scoped>\n",
              "    .dataframe tbody tr th:only-of-type {\n",
              "        vertical-align: middle;\n",
              "    }\n",
              "\n",
              "    .dataframe tbody tr th {\n",
              "        vertical-align: top;\n",
              "    }\n",
              "\n",
              "    .dataframe thead th {\n",
              "        text-align: right;\n",
              "    }\n",
              "</style>\n",
              "<table border=\"1\" class=\"dataframe\">\n",
              "  <thead>\n",
              "    <tr style=\"text-align: right;\">\n",
              "      <th></th>\n",
              "      <th>ID</th>\n",
              "      <th>문장</th>\n",
              "      <th>유형</th>\n",
              "      <th>극성</th>\n",
              "      <th>시제</th>\n",
              "      <th>확실성</th>\n",
              "      <th>label</th>\n",
              "    </tr>\n",
              "  </thead>\n",
              "  <tbody>\n",
              "    <tr>\n",
              "      <th>0</th>\n",
              "      <td>TRAIN_00000</td>\n",
              "      <td>0.75%포인트 금리 인상은 1994년 이후 28년 만에 처음이다.</td>\n",
              "      <td>사실형</td>\n",
              "      <td>긍정</td>\n",
              "      <td>현재</td>\n",
              "      <td>확실</td>\n",
              "      <td>사실형-긍정-현재-확실</td>\n",
              "    </tr>\n",
              "    <tr>\n",
              "      <th>1</th>\n",
              "      <td>TRAIN_00001</td>\n",
              "      <td>이어 ＂앞으로 전문가들과 함께 4주 단위로 상황을 재평가할 예정＂이라며 ＂그 이전이...</td>\n",
              "      <td>사실형</td>\n",
              "      <td>긍정</td>\n",
              "      <td>과거</td>\n",
              "      <td>확실</td>\n",
              "      <td>사실형-긍정-과거-확실</td>\n",
              "    </tr>\n",
              "    <tr>\n",
              "      <th>2</th>\n",
              "      <td>TRAIN_00002</td>\n",
              "      <td>정부가 고유가 대응을 위해 7월부터 연말까지 유류세 인하 폭을 30%에서 37%까지...</td>\n",
              "      <td>사실형</td>\n",
              "      <td>긍정</td>\n",
              "      <td>미래</td>\n",
              "      <td>확실</td>\n",
              "      <td>사실형-긍정-미래-확실</td>\n",
              "    </tr>\n",
              "    <tr>\n",
              "      <th>3</th>\n",
              "      <td>TRAIN_00003</td>\n",
              "      <td>서울시는 올해 3월 즉시 견인 유예시간 60분을 제공하겠다고 밝혔지만, 하루 만에 ...</td>\n",
              "      <td>사실형</td>\n",
              "      <td>긍정</td>\n",
              "      <td>과거</td>\n",
              "      <td>확실</td>\n",
              "      <td>사실형-긍정-과거-확실</td>\n",
              "    </tr>\n",
              "    <tr>\n",
              "      <th>4</th>\n",
              "      <td>TRAIN_00004</td>\n",
              "      <td>익사한 자는 사다리에 태워 거꾸로 놓고 소금으로 코를 막아 가득 채운다.</td>\n",
              "      <td>사실형</td>\n",
              "      <td>긍정</td>\n",
              "      <td>현재</td>\n",
              "      <td>확실</td>\n",
              "      <td>사실형-긍정-현재-확실</td>\n",
              "    </tr>\n",
              "  </tbody>\n",
              "</table>\n",
              "</div>\n",
              "      <button class=\"colab-df-convert\" onclick=\"convertToInteractive('df-a94f4986-278d-4e50-ab88-868a768120d6')\"\n",
              "              title=\"Convert this dataframe to an interactive table.\"\n",
              "              style=\"display:none;\">\n",
              "\n",
              "  <svg xmlns=\"http://www.w3.org/2000/svg\" height=\"24px\"viewBox=\"0 0 24 24\"\n",
              "       width=\"24px\">\n",
              "    <path d=\"M0 0h24v24H0V0z\" fill=\"none\"/>\n",
              "    <path d=\"M18.56 5.44l.94 2.06.94-2.06 2.06-.94-2.06-.94-.94-2.06-.94 2.06-2.06.94zm-11 1L8.5 8.5l.94-2.06 2.06-.94-2.06-.94L8.5 2.5l-.94 2.06-2.06.94zm10 10l.94 2.06.94-2.06 2.06-.94-2.06-.94-.94-2.06-.94 2.06-2.06.94z\"/><path d=\"M17.41 7.96l-1.37-1.37c-.4-.4-.92-.59-1.43-.59-.52 0-1.04.2-1.43.59L10.3 9.45l-7.72 7.72c-.78.78-.78 2.05 0 2.83L4 21.41c.39.39.9.59 1.41.59.51 0 1.02-.2 1.41-.59l7.78-7.78 2.81-2.81c.8-.78.8-2.07 0-2.86zM5.41 20L4 18.59l7.72-7.72 1.47 1.35L5.41 20z\"/>\n",
              "  </svg>\n",
              "      </button>\n",
              "\n",
              "\n",
              "\n",
              "    <div id=\"df-04ab6fe7-9d7e-4b45-b83f-ceb97d3b96d9\">\n",
              "      <button class=\"colab-df-quickchart\" onclick=\"quickchart('df-04ab6fe7-9d7e-4b45-b83f-ceb97d3b96d9')\"\n",
              "              title=\"Suggest charts.\"\n",
              "              style=\"display:none;\">\n",
              "\n",
              "<svg xmlns=\"http://www.w3.org/2000/svg\" height=\"24px\"viewBox=\"0 0 24 24\"\n",
              "     width=\"24px\">\n",
              "    <g>\n",
              "        <path d=\"M19 3H5c-1.1 0-2 .9-2 2v14c0 1.1.9 2 2 2h14c1.1 0 2-.9 2-2V5c0-1.1-.9-2-2-2zM9 17H7v-7h2v7zm4 0h-2V7h2v10zm4 0h-2v-4h2v4z\"/>\n",
              "    </g>\n",
              "</svg>\n",
              "      </button>\n",
              "    </div>\n",
              "\n",
              "<style>\n",
              "  .colab-df-quickchart {\n",
              "    background-color: #E8F0FE;\n",
              "    border: none;\n",
              "    border-radius: 50%;\n",
              "    cursor: pointer;\n",
              "    display: none;\n",
              "    fill: #1967D2;\n",
              "    height: 32px;\n",
              "    padding: 0 0 0 0;\n",
              "    width: 32px;\n",
              "  }\n",
              "\n",
              "  .colab-df-quickchart:hover {\n",
              "    background-color: #E2EBFA;\n",
              "    box-shadow: 0px 1px 2px rgba(60, 64, 67, 0.3), 0px 1px 3px 1px rgba(60, 64, 67, 0.15);\n",
              "    fill: #174EA6;\n",
              "  }\n",
              "\n",
              "  [theme=dark] .colab-df-quickchart {\n",
              "    background-color: #3B4455;\n",
              "    fill: #D2E3FC;\n",
              "  }\n",
              "\n",
              "  [theme=dark] .colab-df-quickchart:hover {\n",
              "    background-color: #434B5C;\n",
              "    box-shadow: 0px 1px 3px 1px rgba(0, 0, 0, 0.15);\n",
              "    filter: drop-shadow(0px 1px 2px rgba(0, 0, 0, 0.3));\n",
              "    fill: #FFFFFF;\n",
              "  }\n",
              "</style>\n",
              "\n",
              "    <script>\n",
              "      async function quickchart(key) {\n",
              "        const containerElement = document.querySelector('#' + key);\n",
              "        const charts = await google.colab.kernel.invokeFunction(\n",
              "            'suggestCharts', [key], {});\n",
              "      }\n",
              "    </script>\n",
              "\n",
              "      <script>\n",
              "\n",
              "function displayQuickchartButton(domScope) {\n",
              "  let quickchartButtonEl =\n",
              "    domScope.querySelector('#df-04ab6fe7-9d7e-4b45-b83f-ceb97d3b96d9 button.colab-df-quickchart');\n",
              "  quickchartButtonEl.style.display =\n",
              "    google.colab.kernel.accessAllowed ? 'block' : 'none';\n",
              "}\n",
              "\n",
              "        displayQuickchartButton(document);\n",
              "      </script>\n",
              "      <style>\n",
              "    .colab-df-container {\n",
              "      display:flex;\n",
              "      flex-wrap:wrap;\n",
              "      gap: 12px;\n",
              "    }\n",
              "\n",
              "    .colab-df-convert {\n",
              "      background-color: #E8F0FE;\n",
              "      border: none;\n",
              "      border-radius: 50%;\n",
              "      cursor: pointer;\n",
              "      display: none;\n",
              "      fill: #1967D2;\n",
              "      height: 32px;\n",
              "      padding: 0 0 0 0;\n",
              "      width: 32px;\n",
              "    }\n",
              "\n",
              "    .colab-df-convert:hover {\n",
              "      background-color: #E2EBFA;\n",
              "      box-shadow: 0px 1px 2px rgba(60, 64, 67, 0.3), 0px 1px 3px 1px rgba(60, 64, 67, 0.15);\n",
              "      fill: #174EA6;\n",
              "    }\n",
              "\n",
              "    [theme=dark] .colab-df-convert {\n",
              "      background-color: #3B4455;\n",
              "      fill: #D2E3FC;\n",
              "    }\n",
              "\n",
              "    [theme=dark] .colab-df-convert:hover {\n",
              "      background-color: #434B5C;\n",
              "      box-shadow: 0px 1px 3px 1px rgba(0, 0, 0, 0.15);\n",
              "      filter: drop-shadow(0px 1px 2px rgba(0, 0, 0, 0.3));\n",
              "      fill: #FFFFFF;\n",
              "    }\n",
              "  </style>\n",
              "\n",
              "      <script>\n",
              "        const buttonEl =\n",
              "          document.querySelector('#df-a94f4986-278d-4e50-ab88-868a768120d6 button.colab-df-convert');\n",
              "        buttonEl.style.display =\n",
              "          google.colab.kernel.accessAllowed ? 'block' : 'none';\n",
              "\n",
              "        async function convertToInteractive(key) {\n",
              "          const element = document.querySelector('#df-a94f4986-278d-4e50-ab88-868a768120d6');\n",
              "          const dataTable =\n",
              "            await google.colab.kernel.invokeFunction('convertToInteractive',\n",
              "                                                     [key], {});\n",
              "          if (!dataTable) return;\n",
              "\n",
              "          const docLinkHtml = 'Like what you see? Visit the ' +\n",
              "            '<a target=\"_blank\" href=https://colab.research.google.com/notebooks/data_table.ipynb>data table notebook</a>'\n",
              "            + ' to learn more about interactive tables.';\n",
              "          element.innerHTML = '';\n",
              "          dataTable['output_type'] = 'display_data';\n",
              "          await google.colab.output.renderOutput(dataTable, element);\n",
              "          const docLink = document.createElement('div');\n",
              "          docLink.innerHTML = docLinkHtml;\n",
              "          element.appendChild(docLink);\n",
              "        }\n",
              "      </script>\n",
              "    </div>\n",
              "  </div>\n"
            ]
          },
          "metadata": {},
          "execution_count": 5
        }
      ]
    },
    {
      "cell_type": "code",
      "source": [
        "test.head()"
      ],
      "metadata": {
        "colab": {
          "base_uri": "https://localhost:8080/",
          "height": 206
        },
        "id": "dT5ocgtnhE1f",
        "outputId": "1baff6b4-ca64-40c5-9d74-b4a5a41b2215"
      },
      "execution_count": 6,
      "outputs": [
        {
          "output_type": "execute_result",
          "data": {
            "text/plain": [
              "          ID                                                 문장\n",
              "0  TEST_0000  장욱진의 ＇가족＇은 허물 없는 가족애를, 처음 공개되는 정약용의 ＇정효자전＇과 ＇정...\n",
              "1  TEST_0001           조지 W 부시, 버락 오바마 전 대통령도 전쟁 위험 때문에 버린 카드다.\n",
              "2  TEST_0002        지난해 1분기 128억원이었던 영업이익이 올해 1분기 505억원으로 급증했다.\n",
              "3  TEST_0003  수상 작가와 맺으려던 계약서 내용 가운데 일부가 ＇독소 조항＇으로 해석돼 수정을 요...\n",
              "4  TEST_0004  결국 최근 KDB산업은행은 대규모 손실 위기에 닥친 에어부산에 140억원 금융지원을..."
            ],
            "text/html": [
              "\n",
              "\n",
              "  <div id=\"df-74f46a74-1018-487b-aa8a-a8221bb63835\">\n",
              "    <div class=\"colab-df-container\">\n",
              "      <div>\n",
              "<style scoped>\n",
              "    .dataframe tbody tr th:only-of-type {\n",
              "        vertical-align: middle;\n",
              "    }\n",
              "\n",
              "    .dataframe tbody tr th {\n",
              "        vertical-align: top;\n",
              "    }\n",
              "\n",
              "    .dataframe thead th {\n",
              "        text-align: right;\n",
              "    }\n",
              "</style>\n",
              "<table border=\"1\" class=\"dataframe\">\n",
              "  <thead>\n",
              "    <tr style=\"text-align: right;\">\n",
              "      <th></th>\n",
              "      <th>ID</th>\n",
              "      <th>문장</th>\n",
              "    </tr>\n",
              "  </thead>\n",
              "  <tbody>\n",
              "    <tr>\n",
              "      <th>0</th>\n",
              "      <td>TEST_0000</td>\n",
              "      <td>장욱진의 ＇가족＇은 허물 없는 가족애를, 처음 공개되는 정약용의 ＇정효자전＇과 ＇정...</td>\n",
              "    </tr>\n",
              "    <tr>\n",
              "      <th>1</th>\n",
              "      <td>TEST_0001</td>\n",
              "      <td>조지 W 부시, 버락 오바마 전 대통령도 전쟁 위험 때문에 버린 카드다.</td>\n",
              "    </tr>\n",
              "    <tr>\n",
              "      <th>2</th>\n",
              "      <td>TEST_0002</td>\n",
              "      <td>지난해 1분기 128억원이었던 영업이익이 올해 1분기 505억원으로 급증했다.</td>\n",
              "    </tr>\n",
              "    <tr>\n",
              "      <th>3</th>\n",
              "      <td>TEST_0003</td>\n",
              "      <td>수상 작가와 맺으려던 계약서 내용 가운데 일부가 ＇독소 조항＇으로 해석돼 수정을 요...</td>\n",
              "    </tr>\n",
              "    <tr>\n",
              "      <th>4</th>\n",
              "      <td>TEST_0004</td>\n",
              "      <td>결국 최근 KDB산업은행은 대규모 손실 위기에 닥친 에어부산에 140억원 금융지원을...</td>\n",
              "    </tr>\n",
              "  </tbody>\n",
              "</table>\n",
              "</div>\n",
              "      <button class=\"colab-df-convert\" onclick=\"convertToInteractive('df-74f46a74-1018-487b-aa8a-a8221bb63835')\"\n",
              "              title=\"Convert this dataframe to an interactive table.\"\n",
              "              style=\"display:none;\">\n",
              "\n",
              "  <svg xmlns=\"http://www.w3.org/2000/svg\" height=\"24px\"viewBox=\"0 0 24 24\"\n",
              "       width=\"24px\">\n",
              "    <path d=\"M0 0h24v24H0V0z\" fill=\"none\"/>\n",
              "    <path d=\"M18.56 5.44l.94 2.06.94-2.06 2.06-.94-2.06-.94-.94-2.06-.94 2.06-2.06.94zm-11 1L8.5 8.5l.94-2.06 2.06-.94-2.06-.94L8.5 2.5l-.94 2.06-2.06.94zm10 10l.94 2.06.94-2.06 2.06-.94-2.06-.94-.94-2.06-.94 2.06-2.06.94z\"/><path d=\"M17.41 7.96l-1.37-1.37c-.4-.4-.92-.59-1.43-.59-.52 0-1.04.2-1.43.59L10.3 9.45l-7.72 7.72c-.78.78-.78 2.05 0 2.83L4 21.41c.39.39.9.59 1.41.59.51 0 1.02-.2 1.41-.59l7.78-7.78 2.81-2.81c.8-.78.8-2.07 0-2.86zM5.41 20L4 18.59l7.72-7.72 1.47 1.35L5.41 20z\"/>\n",
              "  </svg>\n",
              "      </button>\n",
              "\n",
              "\n",
              "\n",
              "    <div id=\"df-16482fc5-2eb8-4dd4-96dc-9f8408c29c81\">\n",
              "      <button class=\"colab-df-quickchart\" onclick=\"quickchart('df-16482fc5-2eb8-4dd4-96dc-9f8408c29c81')\"\n",
              "              title=\"Suggest charts.\"\n",
              "              style=\"display:none;\">\n",
              "\n",
              "<svg xmlns=\"http://www.w3.org/2000/svg\" height=\"24px\"viewBox=\"0 0 24 24\"\n",
              "     width=\"24px\">\n",
              "    <g>\n",
              "        <path d=\"M19 3H5c-1.1 0-2 .9-2 2v14c0 1.1.9 2 2 2h14c1.1 0 2-.9 2-2V5c0-1.1-.9-2-2-2zM9 17H7v-7h2v7zm4 0h-2V7h2v10zm4 0h-2v-4h2v4z\"/>\n",
              "    </g>\n",
              "</svg>\n",
              "      </button>\n",
              "    </div>\n",
              "\n",
              "<style>\n",
              "  .colab-df-quickchart {\n",
              "    background-color: #E8F0FE;\n",
              "    border: none;\n",
              "    border-radius: 50%;\n",
              "    cursor: pointer;\n",
              "    display: none;\n",
              "    fill: #1967D2;\n",
              "    height: 32px;\n",
              "    padding: 0 0 0 0;\n",
              "    width: 32px;\n",
              "  }\n",
              "\n",
              "  .colab-df-quickchart:hover {\n",
              "    background-color: #E2EBFA;\n",
              "    box-shadow: 0px 1px 2px rgba(60, 64, 67, 0.3), 0px 1px 3px 1px rgba(60, 64, 67, 0.15);\n",
              "    fill: #174EA6;\n",
              "  }\n",
              "\n",
              "  [theme=dark] .colab-df-quickchart {\n",
              "    background-color: #3B4455;\n",
              "    fill: #D2E3FC;\n",
              "  }\n",
              "\n",
              "  [theme=dark] .colab-df-quickchart:hover {\n",
              "    background-color: #434B5C;\n",
              "    box-shadow: 0px 1px 3px 1px rgba(0, 0, 0, 0.15);\n",
              "    filter: drop-shadow(0px 1px 2px rgba(0, 0, 0, 0.3));\n",
              "    fill: #FFFFFF;\n",
              "  }\n",
              "</style>\n",
              "\n",
              "    <script>\n",
              "      async function quickchart(key) {\n",
              "        const containerElement = document.querySelector('#' + key);\n",
              "        const charts = await google.colab.kernel.invokeFunction(\n",
              "            'suggestCharts', [key], {});\n",
              "      }\n",
              "    </script>\n",
              "\n",
              "      <script>\n",
              "\n",
              "function displayQuickchartButton(domScope) {\n",
              "  let quickchartButtonEl =\n",
              "    domScope.querySelector('#df-16482fc5-2eb8-4dd4-96dc-9f8408c29c81 button.colab-df-quickchart');\n",
              "  quickchartButtonEl.style.display =\n",
              "    google.colab.kernel.accessAllowed ? 'block' : 'none';\n",
              "}\n",
              "\n",
              "        displayQuickchartButton(document);\n",
              "      </script>\n",
              "      <style>\n",
              "    .colab-df-container {\n",
              "      display:flex;\n",
              "      flex-wrap:wrap;\n",
              "      gap: 12px;\n",
              "    }\n",
              "\n",
              "    .colab-df-convert {\n",
              "      background-color: #E8F0FE;\n",
              "      border: none;\n",
              "      border-radius: 50%;\n",
              "      cursor: pointer;\n",
              "      display: none;\n",
              "      fill: #1967D2;\n",
              "      height: 32px;\n",
              "      padding: 0 0 0 0;\n",
              "      width: 32px;\n",
              "    }\n",
              "\n",
              "    .colab-df-convert:hover {\n",
              "      background-color: #E2EBFA;\n",
              "      box-shadow: 0px 1px 2px rgba(60, 64, 67, 0.3), 0px 1px 3px 1px rgba(60, 64, 67, 0.15);\n",
              "      fill: #174EA6;\n",
              "    }\n",
              "\n",
              "    [theme=dark] .colab-df-convert {\n",
              "      background-color: #3B4455;\n",
              "      fill: #D2E3FC;\n",
              "    }\n",
              "\n",
              "    [theme=dark] .colab-df-convert:hover {\n",
              "      background-color: #434B5C;\n",
              "      box-shadow: 0px 1px 3px 1px rgba(0, 0, 0, 0.15);\n",
              "      filter: drop-shadow(0px 1px 2px rgba(0, 0, 0, 0.3));\n",
              "      fill: #FFFFFF;\n",
              "    }\n",
              "  </style>\n",
              "\n",
              "      <script>\n",
              "        const buttonEl =\n",
              "          document.querySelector('#df-74f46a74-1018-487b-aa8a-a8221bb63835 button.colab-df-convert');\n",
              "        buttonEl.style.display =\n",
              "          google.colab.kernel.accessAllowed ? 'block' : 'none';\n",
              "\n",
              "        async function convertToInteractive(key) {\n",
              "          const element = document.querySelector('#df-74f46a74-1018-487b-aa8a-a8221bb63835');\n",
              "          const dataTable =\n",
              "            await google.colab.kernel.invokeFunction('convertToInteractive',\n",
              "                                                     [key], {});\n",
              "          if (!dataTable) return;\n",
              "\n",
              "          const docLinkHtml = 'Like what you see? Visit the ' +\n",
              "            '<a target=\"_blank\" href=https://colab.research.google.com/notebooks/data_table.ipynb>data table notebook</a>'\n",
              "            + ' to learn more about interactive tables.';\n",
              "          element.innerHTML = '';\n",
              "          dataTable['output_type'] = 'display_data';\n",
              "          await google.colab.output.renderOutput(dataTable, element);\n",
              "          const docLink = document.createElement('div');\n",
              "          docLink.innerHTML = docLinkHtml;\n",
              "          element.appendChild(docLink);\n",
              "        }\n",
              "      </script>\n",
              "    </div>\n",
              "  </div>\n"
            ]
          },
          "metadata": {},
          "execution_count": 6
        }
      ]
    },
    {
      "cell_type": "code",
      "source": [
        "train['유형'].value_counts( )"
      ],
      "metadata": {
        "colab": {
          "base_uri": "https://localhost:8080/"
        },
        "id": "RR0Zg6N9hEyD",
        "outputId": "4614095b-17f1-42a5-98d8-a6f258c239dc"
      },
      "execution_count": 7,
      "outputs": [
        {
          "output_type": "execute_result",
          "data": {
            "text/plain": [
              "사실형    13558\n",
              "추론형     2151\n",
              "대화형      575\n",
              "예측형      257\n",
              "Name: 유형, dtype: int64"
            ]
          },
          "metadata": {},
          "execution_count": 7
        }
      ]
    },
    {
      "cell_type": "code",
      "source": [
        "train['극성'].value_counts( )"
      ],
      "metadata": {
        "colab": {
          "base_uri": "https://localhost:8080/"
        },
        "id": "HHdK1x8eZB8r",
        "outputId": "630c0c9a-5188-429d-d529-b58d97ea908b"
      },
      "execution_count": 8,
      "outputs": [
        {
          "output_type": "execute_result",
          "data": {
            "text/plain": [
              "긍정    15793\n",
              "부정      565\n",
              "미정      183\n",
              "Name: 극성, dtype: int64"
            ]
          },
          "metadata": {},
          "execution_count": 8
        }
      ]
    },
    {
      "cell_type": "code",
      "source": [
        "train['시제'].value_counts( )"
      ],
      "metadata": {
        "colab": {
          "base_uri": "https://localhost:8080/"
        },
        "id": "hTk35qI9ZEVq",
        "outputId": "08bd482b-39f5-46f8-87b6-5c13378490af"
      },
      "execution_count": 9,
      "outputs": [
        {
          "output_type": "execute_result",
          "data": {
            "text/plain": [
              "과거    8032\n",
              "현재    6866\n",
              "미래    1643\n",
              "Name: 시제, dtype: int64"
            ]
          },
          "metadata": {},
          "execution_count": 9
        }
      ]
    },
    {
      "cell_type": "code",
      "source": [
        "train['확실성'].value_counts( )"
      ],
      "metadata": {
        "colab": {
          "base_uri": "https://localhost:8080/"
        },
        "id": "tty9oN5fhEvV",
        "outputId": "41080da7-b139-4618-d2c8-87935da8af51"
      },
      "execution_count": 10,
      "outputs": [
        {
          "output_type": "execute_result",
          "data": {
            "text/plain": [
              "확실     15192\n",
              "불확실     1349\n",
              "Name: 확실성, dtype: int64"
            ]
          },
          "metadata": {},
          "execution_count": 10
        }
      ]
    },
    {
      "cell_type": "code",
      "source": [
        "train.info()"
      ],
      "metadata": {
        "colab": {
          "base_uri": "https://localhost:8080/"
        },
        "id": "O_DTPlbrhEsW",
        "outputId": "ed670ba0-07ec-45bb-c5b2-634772a75ad3"
      },
      "execution_count": 11,
      "outputs": [
        {
          "output_type": "stream",
          "name": "stdout",
          "text": [
            "<class 'pandas.core.frame.DataFrame'>\n",
            "RangeIndex: 16541 entries, 0 to 16540\n",
            "Data columns (total 7 columns):\n",
            " #   Column  Non-Null Count  Dtype \n",
            "---  ------  --------------  ----- \n",
            " 0   ID      16541 non-null  object\n",
            " 1   문장      16541 non-null  object\n",
            " 2   유형      16541 non-null  object\n",
            " 3   극성      16541 non-null  object\n",
            " 4   시제      16541 non-null  object\n",
            " 5   확실성     16541 non-null  object\n",
            " 6   label   16541 non-null  object\n",
            "dtypes: object(7)\n",
            "memory usage: 904.7+ KB\n"
          ]
        }
      ]
    },
    {
      "cell_type": "code",
      "source": [
        "import re\n",
        "\n",
        "# 정규 표현식으로 숫자를 공백으로 변경 (정규 표현식에서 \\d는 숫자를 의미)\n",
        "train[\"문장\"] = train[\"문장\"].apply(lambda x: re.sub(r\"\\d+\", \" \", x))\n",
        "test[\"문장\"] = test[\"문장\"].apply(lambda x: re.sub(r\"\\d+\", \" \", x))\n",
        "\n",
        "# id 컬럼 제거\n",
        "train.drop(\"ID\", axis=1, inplace=True)\n",
        "test.drop(\"ID\", axis=1, inplace=True)"
      ],
      "metadata": {
        "id": "PlU1XLFLZOUQ"
      },
      "execution_count": 12,
      "outputs": []
    },
    {
      "cell_type": "code",
      "source": [
        "train.head()"
      ],
      "metadata": {
        "colab": {
          "base_uri": "https://localhost:8080/",
          "height": 206
        },
        "id": "TrAGFoJPZOSA",
        "outputId": "e2a5682f-4024-4431-9235-0e1dd6229cce"
      },
      "execution_count": 13,
      "outputs": [
        {
          "output_type": "execute_result",
          "data": {
            "text/plain": [
              "                                                  문장   유형  극성  시제 확실성  \\\n",
              "0                    . %포인트 금리 인상은  년 이후  년 만에 처음이다.  사실형  긍정  현재  확실   \n",
              "1  이어 ＂앞으로 전문가들과 함께  주 단위로 상황을 재평가할 예정＂이라며 ＂그 이전이...  사실형  긍정  과거  확실   \n",
              "2  정부가 고유가 대응을 위해  월부터 연말까지 유류세 인하 폭을  %에서  %까지 확...  사실형  긍정  미래  확실   \n",
              "3  서울시는 올해  월 즉시 견인 유예시간  분을 제공하겠다고 밝혔지만, 하루 만에 차...  사실형  긍정  과거  확실   \n",
              "4           익사한 자는 사다리에 태워 거꾸로 놓고 소금으로 코를 막아 가득 채운다.  사실형  긍정  현재  확실   \n",
              "\n",
              "          label  \n",
              "0  사실형-긍정-현재-확실  \n",
              "1  사실형-긍정-과거-확실  \n",
              "2  사실형-긍정-미래-확실  \n",
              "3  사실형-긍정-과거-확실  \n",
              "4  사실형-긍정-현재-확실  "
            ],
            "text/html": [
              "\n",
              "\n",
              "  <div id=\"df-f6a44c7f-593f-441b-b277-c6a2a63992b1\">\n",
              "    <div class=\"colab-df-container\">\n",
              "      <div>\n",
              "<style scoped>\n",
              "    .dataframe tbody tr th:only-of-type {\n",
              "        vertical-align: middle;\n",
              "    }\n",
              "\n",
              "    .dataframe tbody tr th {\n",
              "        vertical-align: top;\n",
              "    }\n",
              "\n",
              "    .dataframe thead th {\n",
              "        text-align: right;\n",
              "    }\n",
              "</style>\n",
              "<table border=\"1\" class=\"dataframe\">\n",
              "  <thead>\n",
              "    <tr style=\"text-align: right;\">\n",
              "      <th></th>\n",
              "      <th>문장</th>\n",
              "      <th>유형</th>\n",
              "      <th>극성</th>\n",
              "      <th>시제</th>\n",
              "      <th>확실성</th>\n",
              "      <th>label</th>\n",
              "    </tr>\n",
              "  </thead>\n",
              "  <tbody>\n",
              "    <tr>\n",
              "      <th>0</th>\n",
              "      <td>. %포인트 금리 인상은  년 이후  년 만에 처음이다.</td>\n",
              "      <td>사실형</td>\n",
              "      <td>긍정</td>\n",
              "      <td>현재</td>\n",
              "      <td>확실</td>\n",
              "      <td>사실형-긍정-현재-확실</td>\n",
              "    </tr>\n",
              "    <tr>\n",
              "      <th>1</th>\n",
              "      <td>이어 ＂앞으로 전문가들과 함께  주 단위로 상황을 재평가할 예정＂이라며 ＂그 이전이...</td>\n",
              "      <td>사실형</td>\n",
              "      <td>긍정</td>\n",
              "      <td>과거</td>\n",
              "      <td>확실</td>\n",
              "      <td>사실형-긍정-과거-확실</td>\n",
              "    </tr>\n",
              "    <tr>\n",
              "      <th>2</th>\n",
              "      <td>정부가 고유가 대응을 위해  월부터 연말까지 유류세 인하 폭을  %에서  %까지 확...</td>\n",
              "      <td>사실형</td>\n",
              "      <td>긍정</td>\n",
              "      <td>미래</td>\n",
              "      <td>확실</td>\n",
              "      <td>사실형-긍정-미래-확실</td>\n",
              "    </tr>\n",
              "    <tr>\n",
              "      <th>3</th>\n",
              "      <td>서울시는 올해  월 즉시 견인 유예시간  분을 제공하겠다고 밝혔지만, 하루 만에 차...</td>\n",
              "      <td>사실형</td>\n",
              "      <td>긍정</td>\n",
              "      <td>과거</td>\n",
              "      <td>확실</td>\n",
              "      <td>사실형-긍정-과거-확실</td>\n",
              "    </tr>\n",
              "    <tr>\n",
              "      <th>4</th>\n",
              "      <td>익사한 자는 사다리에 태워 거꾸로 놓고 소금으로 코를 막아 가득 채운다.</td>\n",
              "      <td>사실형</td>\n",
              "      <td>긍정</td>\n",
              "      <td>현재</td>\n",
              "      <td>확실</td>\n",
              "      <td>사실형-긍정-현재-확실</td>\n",
              "    </tr>\n",
              "  </tbody>\n",
              "</table>\n",
              "</div>\n",
              "      <button class=\"colab-df-convert\" onclick=\"convertToInteractive('df-f6a44c7f-593f-441b-b277-c6a2a63992b1')\"\n",
              "              title=\"Convert this dataframe to an interactive table.\"\n",
              "              style=\"display:none;\">\n",
              "\n",
              "  <svg xmlns=\"http://www.w3.org/2000/svg\" height=\"24px\"viewBox=\"0 0 24 24\"\n",
              "       width=\"24px\">\n",
              "    <path d=\"M0 0h24v24H0V0z\" fill=\"none\"/>\n",
              "    <path d=\"M18.56 5.44l.94 2.06.94-2.06 2.06-.94-2.06-.94-.94-2.06-.94 2.06-2.06.94zm-11 1L8.5 8.5l.94-2.06 2.06-.94-2.06-.94L8.5 2.5l-.94 2.06-2.06.94zm10 10l.94 2.06.94-2.06 2.06-.94-2.06-.94-.94-2.06-.94 2.06-2.06.94z\"/><path d=\"M17.41 7.96l-1.37-1.37c-.4-.4-.92-.59-1.43-.59-.52 0-1.04.2-1.43.59L10.3 9.45l-7.72 7.72c-.78.78-.78 2.05 0 2.83L4 21.41c.39.39.9.59 1.41.59.51 0 1.02-.2 1.41-.59l7.78-7.78 2.81-2.81c.8-.78.8-2.07 0-2.86zM5.41 20L4 18.59l7.72-7.72 1.47 1.35L5.41 20z\"/>\n",
              "  </svg>\n",
              "      </button>\n",
              "\n",
              "\n",
              "\n",
              "    <div id=\"df-9fb30583-3514-493a-ab99-10f55718f565\">\n",
              "      <button class=\"colab-df-quickchart\" onclick=\"quickchart('df-9fb30583-3514-493a-ab99-10f55718f565')\"\n",
              "              title=\"Suggest charts.\"\n",
              "              style=\"display:none;\">\n",
              "\n",
              "<svg xmlns=\"http://www.w3.org/2000/svg\" height=\"24px\"viewBox=\"0 0 24 24\"\n",
              "     width=\"24px\">\n",
              "    <g>\n",
              "        <path d=\"M19 3H5c-1.1 0-2 .9-2 2v14c0 1.1.9 2 2 2h14c1.1 0 2-.9 2-2V5c0-1.1-.9-2-2-2zM9 17H7v-7h2v7zm4 0h-2V7h2v10zm4 0h-2v-4h2v4z\"/>\n",
              "    </g>\n",
              "</svg>\n",
              "      </button>\n",
              "    </div>\n",
              "\n",
              "<style>\n",
              "  .colab-df-quickchart {\n",
              "    background-color: #E8F0FE;\n",
              "    border: none;\n",
              "    border-radius: 50%;\n",
              "    cursor: pointer;\n",
              "    display: none;\n",
              "    fill: #1967D2;\n",
              "    height: 32px;\n",
              "    padding: 0 0 0 0;\n",
              "    width: 32px;\n",
              "  }\n",
              "\n",
              "  .colab-df-quickchart:hover {\n",
              "    background-color: #E2EBFA;\n",
              "    box-shadow: 0px 1px 2px rgba(60, 64, 67, 0.3), 0px 1px 3px 1px rgba(60, 64, 67, 0.15);\n",
              "    fill: #174EA6;\n",
              "  }\n",
              "\n",
              "  [theme=dark] .colab-df-quickchart {\n",
              "    background-color: #3B4455;\n",
              "    fill: #D2E3FC;\n",
              "  }\n",
              "\n",
              "  [theme=dark] .colab-df-quickchart:hover {\n",
              "    background-color: #434B5C;\n",
              "    box-shadow: 0px 1px 3px 1px rgba(0, 0, 0, 0.15);\n",
              "    filter: drop-shadow(0px 1px 2px rgba(0, 0, 0, 0.3));\n",
              "    fill: #FFFFFF;\n",
              "  }\n",
              "</style>\n",
              "\n",
              "    <script>\n",
              "      async function quickchart(key) {\n",
              "        const containerElement = document.querySelector('#' + key);\n",
              "        const charts = await google.colab.kernel.invokeFunction(\n",
              "            'suggestCharts', [key], {});\n",
              "      }\n",
              "    </script>\n",
              "\n",
              "      <script>\n",
              "\n",
              "function displayQuickchartButton(domScope) {\n",
              "  let quickchartButtonEl =\n",
              "    domScope.querySelector('#df-9fb30583-3514-493a-ab99-10f55718f565 button.colab-df-quickchart');\n",
              "  quickchartButtonEl.style.display =\n",
              "    google.colab.kernel.accessAllowed ? 'block' : 'none';\n",
              "}\n",
              "\n",
              "        displayQuickchartButton(document);\n",
              "      </script>\n",
              "      <style>\n",
              "    .colab-df-container {\n",
              "      display:flex;\n",
              "      flex-wrap:wrap;\n",
              "      gap: 12px;\n",
              "    }\n",
              "\n",
              "    .colab-df-convert {\n",
              "      background-color: #E8F0FE;\n",
              "      border: none;\n",
              "      border-radius: 50%;\n",
              "      cursor: pointer;\n",
              "      display: none;\n",
              "      fill: #1967D2;\n",
              "      height: 32px;\n",
              "      padding: 0 0 0 0;\n",
              "      width: 32px;\n",
              "    }\n",
              "\n",
              "    .colab-df-convert:hover {\n",
              "      background-color: #E2EBFA;\n",
              "      box-shadow: 0px 1px 2px rgba(60, 64, 67, 0.3), 0px 1px 3px 1px rgba(60, 64, 67, 0.15);\n",
              "      fill: #174EA6;\n",
              "    }\n",
              "\n",
              "    [theme=dark] .colab-df-convert {\n",
              "      background-color: #3B4455;\n",
              "      fill: #D2E3FC;\n",
              "    }\n",
              "\n",
              "    [theme=dark] .colab-df-convert:hover {\n",
              "      background-color: #434B5C;\n",
              "      box-shadow: 0px 1px 3px 1px rgba(0, 0, 0, 0.15);\n",
              "      filter: drop-shadow(0px 1px 2px rgba(0, 0, 0, 0.3));\n",
              "      fill: #FFFFFF;\n",
              "    }\n",
              "  </style>\n",
              "\n",
              "      <script>\n",
              "        const buttonEl =\n",
              "          document.querySelector('#df-f6a44c7f-593f-441b-b277-c6a2a63992b1 button.colab-df-convert');\n",
              "        buttonEl.style.display =\n",
              "          google.colab.kernel.accessAllowed ? 'block' : 'none';\n",
              "\n",
              "        async function convertToInteractive(key) {\n",
              "          const element = document.querySelector('#df-f6a44c7f-593f-441b-b277-c6a2a63992b1');\n",
              "          const dataTable =\n",
              "            await google.colab.kernel.invokeFunction('convertToInteractive',\n",
              "                                                     [key], {});\n",
              "          if (!dataTable) return;\n",
              "\n",
              "          const docLinkHtml = 'Like what you see? Visit the ' +\n",
              "            '<a target=\"_blank\" href=https://colab.research.google.com/notebooks/data_table.ipynb>data table notebook</a>'\n",
              "            + ' to learn more about interactive tables.';\n",
              "          element.innerHTML = '';\n",
              "          dataTable['output_type'] = 'display_data';\n",
              "          await google.colab.output.renderOutput(dataTable, element);\n",
              "          const docLink = document.createElement('div');\n",
              "          docLink.innerHTML = docLinkHtml;\n",
              "          element.appendChild(docLink);\n",
              "        }\n",
              "      </script>\n",
              "    </div>\n",
              "  </div>\n"
            ]
          },
          "metadata": {},
          "execution_count": 13
        }
      ]
    },
    {
      "cell_type": "markdown",
      "source": [
        "# 시각화"
      ],
      "metadata": {
        "id": "kOyxYLXveji9"
      }
    },
    {
      "cell_type": "code",
      "source": [
        "import matplotlib.pyplot as plt\n",
        "import seaborn as sns\n",
        "\n",
        "%matplotlib inline"
      ],
      "metadata": {
        "id": "g0ugL53Lemx6"
      },
      "execution_count": 19,
      "outputs": []
    },
    {
      "cell_type": "code",
      "source": [
        "sns.set(rc = {'figure.figsize':(20,12)})\n",
        "sns.countplot(y=\"label\", data=train,order = train['label'].value_counts().index)"
      ],
      "metadata": {
        "colab": {
          "base_uri": "https://localhost:8080/",
          "height": 800
        },
        "id": "0f60YBz5en2y",
        "outputId": "ec52601b-9e16-4bca-d535-dea44a44b949"
      },
      "execution_count": 21,
      "outputs": [
        {
          "output_type": "execute_result",
          "data": {
            "text/plain": [
              "<Axes: xlabel='count', ylabel='label'>"
            ]
          },
          "metadata": {},
          "execution_count": 21
        },
        {
          "output_type": "display_data",
          "data": {
            "text/plain": [
              "<Figure size 2000x1200 with 1 Axes>"
            ],
            "image/png": "[encoded data removed]"
          },
          "metadata": {}
        }
      ]
    },
    {
      "cell_type": "code",
      "source": [
        "fig, axes = plt.subplots(2, 2, figsize=(10, 6))\n",
        "plt.subplots_adjust(left=0.125, bottom=0.1,  right=0.9, top=0.9, wspace=0.2, hspace=0.4)\n",
        "\n",
        "g = sns.countplot(y=\"유형\", data=train,order = train['유형'].value_counts().index , ax = axes[0][0])\n",
        "axes[0][0].set_xlabel(g.get_xlabel(), fontsize=8)\n",
        "axes[0][0].set_ylabel(g.get_ylabel(), fontsize=8)\n",
        "axes[0][0].set_title('Distribution of Type')\n",
        "\n",
        "g = sns.countplot(y=\"극성\", data=train,order = train['극성'].value_counts().index , ax = axes[0][1])\n",
        "axes[0][1].set_xlabel(g.get_xlabel(), fontsize=8)\n",
        "axes[0][1].set_ylabel(g.get_ylabel(), fontsize=8)\n",
        "axes[0][1].set_title('Distribution of Polarity')\n",
        "\n",
        "g = sns.countplot(y=\"시제\", data=train,order = train['시제'].value_counts().index , ax = axes[1][0])\n",
        "axes[1][0].set_xlabel(g.get_xlabel(), fontsize=8)\n",
        "axes[1][0].set_ylabel(g.get_ylabel(), fontsize=8)\n",
        "axes[1][0].set_title('Distribution of tense')\n",
        "\n",
        "g = sns.countplot(y=\"확실성\", data=train,order = train['확실성'].value_counts().index , ax = axes[1][1])\n",
        "axes[1][1].set_xlabel(g.get_xlabel(), fontsize=8)\n",
        "axes[1][1].set_ylabel(g.get_ylabel(), fontsize=8)\n",
        "axes[1][1].set_title('Distribution of certainty')"
      ],
      "metadata": {
        "colab": {
          "base_uri": "https://localhost:8080/",
          "height": 601
        },
        "id": "s5Uz6cgeevvp",
        "outputId": "ae58a238-86cd-43aa-b730-7e12a76ae55a"
      },
      "execution_count": 22,
      "outputs": [
        {
          "output_type": "execute_result",
          "data": {
            "text/plain": [
              "Text(0.5, 1.0, 'Distribution of certainty')"
            ]
          },
          "metadata": {},
          "execution_count": 22
        },
        {
          "output_type": "display_data",
          "data": {
            "text/plain": [
              "<Figure size 1000x600 with 4 Axes>"
            ],
            "image/png": "[encoded data removed]"
          },
          "metadata": {}
        }
      ]
    },
    {
      "cell_type": "markdown",
      "source": [
        "#전처리 및 모델링"
      ],
      "metadata": {
        "id": "xQDwBmKcea1r"
      }
    },
    {
      "cell_type": "markdown",
      "source": [
        "## 1. 각각 예측하기"
      ],
      "metadata": {
        "id": "LAcDq7cQeeWK"
      }
    },
    {
      "cell_type": "code",
      "source": [
        "pip install konlpy"
      ],
      "metadata": {
        "colab": {
          "base_uri": "https://localhost:8080/"
        },
        "id": "BIK80QQXLOZi",
        "outputId": "da044b36-57c7-4b0e-a94d-69efb09f3f63"
      },
      "execution_count": 14,
      "outputs": [
        {
          "output_type": "stream",
          "name": "stdout",
          "text": [
            "Collecting konlpy\n",
            "  Downloading konlpy-0.6.0-py2.py3-none-any.whl (19.4 MB)\n",
            "\u001b[2K     \u001b[90m━━━━━━━━━━━━━━━━━━━━━━━━━━━━━━━━━━━━━━━━\u001b[0m \u001b[32m19.4/19.4 MB\u001b[0m \u001b[31m58.9 MB/s\u001b[0m eta \u001b[36m0:00:00\u001b[0m\n",
            "\u001b[?25hCollecting JPype1>=0.7.0 (from konlpy)\n",
            "  Downloading JPype1-1.4.1-cp310-cp310-manylinux_2_12_x86_64.manylinux2010_x86_64.whl (465 kB)\n",
            "\u001b[2K     \u001b[90m━━━━━━━━━━━━━━━━━━━━━━━━━━━━━━━━━━━━━━\u001b[0m \u001b[32m465.3/465.3 kB\u001b[0m \u001b[31m44.9 MB/s\u001b[0m eta \u001b[36m0:00:00\u001b[0m\n",
            "\u001b[?25hRequirement already satisfied: lxml>=4.1.0 in /usr/local/lib/python3.10/dist-packages (from konlpy) (4.9.3)\n",
            "Requirement already satisfied: numpy>=1.6 in /usr/local/lib/python3.10/dist-packages (from konlpy) (1.22.4)\n",
            "Requirement already satisfied: packaging in /usr/local/lib/python3.10/dist-packages (from JPype1>=0.7.0->konlpy) (23.1)\n",
            "Installing collected packages: JPype1, konlpy\n",
            "Successfully installed JPype1-1.4.1 konlpy-0.6.0\n"
          ]
        }
      ]
    },
    {
      "cell_type": "code",
      "source": [
        "from konlpy.tag import Okt\n",
        "okt=Okt()\n",
        "def tw_tokenizer(text):\n",
        "  tokens_ko=okt.morphs(text)\n",
        "  return tokens_ko"
      ],
      "metadata": {
        "id": "eabkcFBpZOPi"
      },
      "execution_count": 15,
      "outputs": []
    },
    {
      "cell_type": "code",
      "source": [
        "from sklearn.model_selection import train_test_split\n",
        "x_data=train['문장']\n",
        "y_data=train['label']\n",
        "x_train, x_test, y_train, y_test=train_test_split(x_data, y_data, test_size=0.2, random_state=1)"
      ],
      "metadata": {
        "id": "aM8jjOgAqd-1"
      },
      "execution_count": 16,
      "outputs": []
    },
    {
      "cell_type": "code",
      "source": [
        "y_train=y_train.reset_index()['label']\n",
        "y_test=y_test.reset_index()['label']"
      ],
      "metadata": {
        "id": "0uQw-_XKxFvY"
      },
      "execution_count": 17,
      "outputs": []
    },
    {
      "cell_type": "code",
      "source": [
        "y_train_a=y_train.copy()\n",
        "y_train_b=y_train.copy()\n",
        "y_train_c=y_train.copy()\n",
        "y_train_d=y_train.copy()\n",
        "\n",
        "y_test_a=y_test.copy()\n",
        "y_test_b=y_test.copy()\n",
        "y_test_c=y_test.copy()\n",
        "y_test_d=y_test.copy()"
      ],
      "metadata": {
        "id": "VG2o7Bygr36S"
      },
      "execution_count": 18,
      "outputs": []
    },
    {
      "cell_type": "code",
      "source": [
        "for i in range(len(y_train)):\n",
        "  y_train_a[i]=y_train[i][:3]\n",
        "  y_train_b[i]=y_train[i][4:6]\n",
        "  y_train_c[i]=y_train[i][7:9]\n",
        "  y_train_d[i]=y_train[i][10:]\n",
        "\n",
        "for i in range(len(y_test)):\n",
        "  y_test_a[i]=y_test[i][:3]\n",
        "  y_test_b[i]=y_test[i][4:6]\n",
        "  y_test_c[i]=y_test[i][7:9]\n",
        "  y_test_d[i]=y_test[i][10:]"
      ],
      "metadata": {
        "id": "K4jWcB1frm5T"
      },
      "execution_count": 23,
      "outputs": []
    },
    {
      "cell_type": "code",
      "source": [
        "from sklearn.feature_extraction.text import TfidfVectorizer\n",
        "from sklearn.linear_model import LogisticRegression\n",
        "from sklearn.model_selection import GridSearchCV\n",
        "\n",
        "tfidf_vect=TfidfVectorizer(tokenizer=tw_tokenizer, ngram_range=(1,2), min_df=3, max_df=0.9)\n",
        "tfidf_vect.fit(x_train)\n",
        "tfidf_matrix_train=tfidf_vect.transform(x_train)"
      ],
      "metadata": {
        "id": "MGOfaatwrEqi"
      },
      "execution_count": 24,
      "outputs": []
    },
    {
      "cell_type": "markdown",
      "source": [
        "유형"
      ],
      "metadata": {
        "id": "BXmH-9YLrGOs"
      }
    },
    {
      "cell_type": "code",
      "source": [
        "from sklearn.ensemble import RandomForestClassifier\n",
        "#랜덤포레스트를 이용해 분류 수행\n",
        "rf_clf=RandomForestClassifier(random_state=0)\n",
        "\n",
        "#GridSearchCV\n",
        "params={'max_depth': [6,8,10,12],\n",
        "        'min_samples_leaf':[8,12,18],\n",
        "        'min_samples_split':[8,16,20]}\n",
        "\n",
        "grid_cv=GridSearchCV(rf_clf, param_grid=params, cv=3, scoring='f1_weighted', verbose=1)\n",
        "grid_cv.fit(tfidf_matrix_train, y_train_a)\n",
        "print(grid_cv.best_params_, round(grid_cv.best_score_, 4))"
      ],
      "metadata": {
        "colab": {
          "base_uri": "https://localhost:8080/"
        },
        "id": "H6zuuj6qrRWE",
        "outputId": "9e865c20-600a-41b1-9c23-e4ae4412ef31"
      },
      "execution_count": 25,
      "outputs": [
        {
          "output_type": "stream",
          "name": "stdout",
          "text": [
            "Fitting 3 folds for each of 36 candidates, totalling 108 fits\n",
            "{'max_depth': 6, 'min_samples_leaf': 8, 'min_samples_split': 8} 0.7398\n"
          ]
        }
      ]
    },
    {
      "cell_type": "code",
      "source": [
        "from sklearn.metrics import f1_score\n",
        "\n",
        "tfidf_matrix_test=tfidf_vect.transform(x_test)\n",
        "\n",
        "best_estimator=grid_cv.best_estimator_\n",
        "preds_a_rf=best_estimator.predict(tfidf_matrix_test)\n",
        "\n",
        "print('randomforest f1:', f1_score(y_test_a, preds_a_rf,average='weighted'))"
      ],
      "metadata": {
        "colab": {
          "base_uri": "https://localhost:8080/"
        },
        "id": "aHhicEzdrUyb",
        "outputId": "64f6069e-bd67-4dbe-e574-ab7b2b187300"
      },
      "execution_count": 26,
      "outputs": [
        {
          "output_type": "stream",
          "name": "stdout",
          "text": [
            "randomforest f1: 0.7328398440439443\n"
          ]
        }
      ]
    },
    {
      "cell_type": "code",
      "source": [
        "from sklearn.ensemble import GradientBoostingClassifier\n",
        "#gbm 이용해 분류 수행\n",
        "gb_clf=GradientBoostingClassifier(random_state=0)\n",
        "\n",
        "#GridSearchCV\n",
        "params={'n_estimators': [100,500],\n",
        "        'learning_rate':[0.05,0.1]}\n",
        "\n",
        "grid_cv=GridSearchCV(gb_clf, param_grid=params, cv=3, scoring='f1_weighted', verbose=1)\n",
        "grid_cv.fit(tfidf_matrix_train, y_train_a)\n",
        "print(grid_cv.best_params_, round(grid_cv.best_score_, 4))"
      ],
      "metadata": {
        "colab": {
          "base_uri": "https://localhost:8080/"
        },
        "id": "_sDGR6UGW4pB",
        "outputId": "c240307d-fdfb-4e18-b76c-bbf335b86f4e"
      },
      "execution_count": 48,
      "outputs": [
        {
          "output_type": "stream",
          "name": "stdout",
          "text": [
            "Fitting 3 folds for each of 4 candidates, totalling 12 fits\n",
            "{'learning_rate': 0.1, 'n_estimators': 500} 0.8183\n"
          ]
        }
      ]
    },
    {
      "cell_type": "code",
      "source": [
        "best_estimator=grid_cv.best_estimator_\n",
        "preds_a_gb=best_estimator.predict(tfidf_matrix_test)\n",
        "\n",
        "print('gbm f1:', f1_score(y_test_a, preds_a_gb,average='weighted'))"
      ],
      "metadata": {
        "colab": {
          "base_uri": "https://localhost:8080/"
        },
        "id": "F0_gF6cDhVhp",
        "outputId": "ac5ba43e-3b1c-46a8-d775-3d749235a2b1"
      },
      "execution_count": 49,
      "outputs": [
        {
          "output_type": "stream",
          "name": "stdout",
          "text": [
            "gbm f1: 0.8292618960418151\n"
          ]
        }
      ]
    },
    {
      "cell_type": "code",
      "source": [
        "preds_a=preds_a_gb"
      ],
      "metadata": {
        "id": "lAcQgREmhd4D"
      },
      "execution_count": 50,
      "outputs": []
    },
    {
      "cell_type": "markdown",
      "source": [
        "극성"
      ],
      "metadata": {
        "id": "yXAK_45yyqIv"
      }
    },
    {
      "cell_type": "code",
      "source": [
        "from sklearn.ensemble import RandomForestClassifier\n",
        "#랜덤포레스트를 이용해 분류 수행\n",
        "rf_clf=RandomForestClassifier(random_state=0)\n",
        "\n",
        "#GridSearchCV\n",
        "params={'max_depth': [6,8,10,12],\n",
        "        'min_samples_leaf':[8,12,18],\n",
        "        'min_samples_split':[8,16,20]}\n",
        "\n",
        "grid_cv=GridSearchCV(rf_clf, param_grid=params, cv=3, scoring='f1_weighted', verbose=1)\n",
        "grid_cv.fit(tfidf_matrix_train, y_train_b)\n",
        "print(grid_cv.best_params_, round(grid_cv.best_score_, 4))"
      ],
      "metadata": {
        "colab": {
          "base_uri": "https://localhost:8080/"
        },
        "id": "tSwiJTk3yYfO",
        "outputId": "d0557651-29b6-469f-9b92-a954a5c5a581"
      },
      "execution_count": 30,
      "outputs": [
        {
          "output_type": "stream",
          "name": "stdout",
          "text": [
            "Fitting 3 folds for each of 36 candidates, totalling 108 fits\n",
            "{'max_depth': 6, 'min_samples_leaf': 8, 'min_samples_split': 8} 0.9331\n"
          ]
        }
      ]
    },
    {
      "cell_type": "code",
      "source": [
        "best_estimator=grid_cv.best_estimator_\n",
        "preds_b_rf=best_estimator.predict(tfidf_matrix_test)\n",
        "\n",
        "print('randomforest f1:', f1_score(y_test_b, preds_b_rf,average='weighted'))"
      ],
      "metadata": {
        "colab": {
          "base_uri": "https://localhost:8080/"
        },
        "id": "3VmKMaRbyqw4",
        "outputId": "e09f73a0-2384-410a-dca5-0ae477526b52"
      },
      "execution_count": 31,
      "outputs": [
        {
          "output_type": "stream",
          "name": "stdout",
          "text": [
            "randomforest f1: 0.9311908252750882\n"
          ]
        }
      ]
    },
    {
      "cell_type": "code",
      "source": [
        "from sklearn.ensemble import GradientBoostingClassifier\n",
        "#gbm 이용해 분류 수행\n",
        "gb_clf=GradientBoostingClassifier(random_state=0)\n",
        "\n",
        "#GridSearchCV\n",
        "params={'n_estimators': [100,500],\n",
        "        'learning_rate':[0.05,0.1]}\n",
        "\n",
        "grid_cv=GridSearchCV(gb_clf, param_grid=params, cv=3, scoring='f1_weighted', verbose=1)\n",
        "grid_cv.fit(tfidf_matrix_train, y_train_b)\n",
        "print(grid_cv.best_params_, round(grid_cv.best_score_, 4))"
      ],
      "metadata": {
        "colab": {
          "base_uri": "https://localhost:8080/"
        },
        "id": "9SKYAcZViYNu",
        "outputId": "85d6b476-82bd-4082-f3e7-ec66aac559b4"
      },
      "execution_count": 32,
      "outputs": [
        {
          "output_type": "stream",
          "name": "stdout",
          "text": [
            "Fitting 3 folds for each of 4 candidates, totalling 12 fits\n",
            "{'learning_rate': 0.05, 'n_estimators': 500} 0.9602\n"
          ]
        }
      ]
    },
    {
      "cell_type": "code",
      "source": [
        "best_estimator=grid_cv.best_estimator_\n",
        "preds_b_gb=best_estimator.predict(tfidf_matrix_test)\n",
        "\n",
        "print('gbm f1:', f1_score(y_test_b, preds_b_gb,average='weighted'))"
      ],
      "metadata": {
        "colab": {
          "base_uri": "https://localhost:8080/"
        },
        "id": "oPqJw_K9iYKe",
        "outputId": "fcb6f8db-e2b3-4b1f-b505-cb9547661755"
      },
      "execution_count": 33,
      "outputs": [
        {
          "output_type": "stream",
          "name": "stdout",
          "text": [
            "gbm f1: 0.9664900083800605\n"
          ]
        }
      ]
    },
    {
      "cell_type": "code",
      "source": [
        "preds_b=preds_b_gb"
      ],
      "metadata": {
        "id": "zY6I0SJGiYIJ"
      },
      "execution_count": 34,
      "outputs": []
    },
    {
      "cell_type": "markdown",
      "source": [
        "시제"
      ],
      "metadata": {
        "id": "GSoUQIIqzB3b"
      }
    },
    {
      "cell_type": "code",
      "source": [
        "from sklearn.ensemble import RandomForestClassifier\n",
        "#랜덤포레스트를 이용해 분류 수행\n",
        "rf_clf=RandomForestClassifier(random_state=0)\n",
        "\n",
        "#GridSearchCV\n",
        "params={'max_depth': [6,8,10,12],\n",
        "        'min_samples_leaf':[8,12,18],\n",
        "        'min_samples_split':[8,16,20]}\n",
        "\n",
        "grid_cv=GridSearchCV(rf_clf, param_grid=params, cv=3, scoring='f1_weighted', verbose=1)\n",
        "grid_cv.fit(tfidf_matrix_train, y_train_c)\n",
        "print(grid_cv.best_params_, round(grid_cv.best_score_, 4))"
      ],
      "metadata": {
        "colab": {
          "base_uri": "https://localhost:8080/"
        },
        "id": "8FHhQt-AyrGa",
        "outputId": "dfbbeb9a-a59c-4765-f79f-d790d15230bf"
      },
      "execution_count": 35,
      "outputs": [
        {
          "output_type": "stream",
          "name": "stdout",
          "text": [
            "Fitting 3 folds for each of 36 candidates, totalling 108 fits\n",
            "{'max_depth': 12, 'min_samples_leaf': 8, 'min_samples_split': 8} 0.6835\n"
          ]
        }
      ]
    },
    {
      "cell_type": "code",
      "source": [
        "best_estimator=grid_cv.best_estimator_\n",
        "preds_c_rf=best_estimator.predict(tfidf_matrix_test)\n",
        "\n",
        "print('randomforest f1:', f1_score(y_test_c, preds_c_rf,average='weighted'))"
      ],
      "metadata": {
        "colab": {
          "base_uri": "https://localhost:8080/"
        },
        "id": "qGuU5fdFyrEV",
        "outputId": "0dc30560-dd69-4d8a-fc11-63253ae628dd"
      },
      "execution_count": 36,
      "outputs": [
        {
          "output_type": "stream",
          "name": "stdout",
          "text": [
            "randomforest f1: 0.6976471426088767\n"
          ]
        }
      ]
    },
    {
      "cell_type": "code",
      "source": [
        "from sklearn.ensemble import GradientBoostingClassifier\n",
        "#gbm 이용해 분류 수행\n",
        "gb_clf=GradientBoostingClassifier(random_state=0)\n",
        "\n",
        "#GridSearchCV\n",
        "params={'n_estimators': [100,500],\n",
        "        'learning_rate':[0.05,0.1]}\n",
        "\n",
        "grid_cv=GridSearchCV(gb_clf, param_grid=params, cv=3, scoring='f1_weighted', verbose=1)\n",
        "grid_cv.fit(tfidf_matrix_train, y_train_c)\n",
        "print(grid_cv.best_params_, round(grid_cv.best_score_, 4))"
      ],
      "metadata": {
        "colab": {
          "base_uri": "https://localhost:8080/"
        },
        "id": "R6vX56ZPp5lz",
        "outputId": "8ae9e0ea-26e2-45d1-fafd-35731b7aa92a"
      },
      "execution_count": 37,
      "outputs": [
        {
          "output_type": "stream",
          "name": "stdout",
          "text": [
            "Fitting 3 folds for each of 4 candidates, totalling 12 fits\n",
            "{'learning_rate': 0.1, 'n_estimators': 500} 0.8245\n"
          ]
        }
      ]
    },
    {
      "cell_type": "code",
      "source": [
        "best_estimator=grid_cv.best_estimator_\n",
        "preds_c_gb=best_estimator.predict(tfidf_matrix_test)\n",
        "\n",
        "print('gbm f1:', f1_score(y_test_c, preds_c_gb,average='weighted'))"
      ],
      "metadata": {
        "colab": {
          "base_uri": "https://localhost:8080/"
        },
        "id": "GU1wt1hFp5M6",
        "outputId": "1b3c72a4-a497-44e7-b234-a5a2540da11e"
      },
      "execution_count": 38,
      "outputs": [
        {
          "output_type": "stream",
          "name": "stdout",
          "text": [
            "gbm f1: 0.8398555281597593\n"
          ]
        }
      ]
    },
    {
      "cell_type": "code",
      "source": [
        "preds_c=preds_c_gb"
      ],
      "metadata": {
        "id": "jRxRGYW_xvxc"
      },
      "execution_count": 39,
      "outputs": []
    },
    {
      "cell_type": "markdown",
      "source": [
        "확실성"
      ],
      "metadata": {
        "id": "_R9LrIcRfItq"
      }
    },
    {
      "cell_type": "code",
      "source": [
        "#로지스틱 회귀를 이용해 분류 수행\n",
        "lg_clf=LogisticRegression(random_state=0)\n",
        "\n",
        "#파라미터 C의 최적화를 위해 GridSearchCV 이용\n",
        "params={'C':[1,3.5,5,10]}\n",
        "\n",
        "grid_cv=GridSearchCV(lg_clf, param_grid=params, cv=3, scoring='f1_weighted', verbose=1)\n",
        "grid_cv.fit(tfidf_matrix_train, y_train_d)\n",
        "print(grid_cv.best_params_, round(grid_cv.best_score_, 4))"
      ],
      "metadata": {
        "colab": {
          "base_uri": "https://localhost:8080/"
        },
        "id": "t0UHgraae92R",
        "outputId": "12794918-b8d8-4d1c-a5a6-cffb13ebe7ec"
      },
      "execution_count": 40,
      "outputs": [
        {
          "output_type": "stream",
          "name": "stdout",
          "text": [
            "Fitting 3 folds for each of 4 candidates, totalling 12 fits\n",
            "{'C': 10} 0.9006\n"
          ]
        }
      ]
    },
    {
      "cell_type": "code",
      "source": [
        "best_estimator=grid_cv.best_estimator_\n",
        "preds_d_lg=best_estimator.predict(tfidf_matrix_test)\n",
        "\n",
        "print('Logistic Regression f1:', f1_score(y_test_d, preds_d_lg,average='weighted'))"
      ],
      "metadata": {
        "colab": {
          "base_uri": "https://localhost:8080/"
        },
        "id": "1vuEWNp6f7s4",
        "outputId": "01f7d5ac-343f-4163-d926-2a25ac9456d1"
      },
      "execution_count": 41,
      "outputs": [
        {
          "output_type": "stream",
          "name": "stdout",
          "text": [
            "Logistic Regression f1: 0.9043053214641379\n"
          ]
        }
      ]
    },
    {
      "cell_type": "code",
      "source": [
        "from sklearn.ensemble import GradientBoostingClassifier\n",
        "#gbm 이용해 분류 수행\n",
        "gb_clf=GradientBoostingClassifier(random_state=0)\n",
        "\n",
        "#GridSearchCV\n",
        "params={'n_estimators': [100,500],\n",
        "        'learning_rate':[0.05,0.1]}\n",
        "\n",
        "grid_cv=GridSearchCV(gb_clf, param_grid=params, cv=3, scoring='f1_weighted', verbose=1)\n",
        "grid_cv.fit(tfidf_matrix_train, y_train_d)\n",
        "print(grid_cv.best_params_, round(grid_cv.best_score_, 4))"
      ],
      "metadata": {
        "colab": {
          "base_uri": "https://localhost:8080/"
        },
        "id": "hm5mbGF7yw5O",
        "outputId": "45909487-b008-4f4b-a4fd-4f96cdf3ba05"
      },
      "execution_count": 42,
      "outputs": [
        {
          "output_type": "stream",
          "name": "stdout",
          "text": [
            "Fitting 3 folds for each of 4 candidates, totalling 12 fits\n",
            "{'learning_rate': 0.05, 'n_estimators': 500} 0.9023\n"
          ]
        }
      ]
    },
    {
      "cell_type": "code",
      "source": [
        "best_estimator=grid_cv.best_estimator_\n",
        "preds_d_gb=best_estimator.predict(tfidf_matrix_test)\n",
        "\n",
        "print('gbm f1:', f1_score(y_test_d,preds_d_gb,average='weighted'))"
      ],
      "metadata": {
        "colab": {
          "base_uri": "https://localhost:8080/"
        },
        "id": "pBC2GVEJ1RX1",
        "outputId": "8db9a5f3-5ad2-4d2a-c335-3e83299a55c2"
      },
      "execution_count": 43,
      "outputs": [
        {
          "output_type": "stream",
          "name": "stdout",
          "text": [
            "gbm f1: 0.9043053214641379\n"
          ]
        }
      ]
    },
    {
      "cell_type": "code",
      "source": [
        "preds_d=preds_d_lg"
      ],
      "metadata": {
        "id": "8krtMS8OBskC"
      },
      "execution_count": 44,
      "outputs": []
    },
    {
      "cell_type": "markdown",
      "source": [
        "합치기"
      ],
      "metadata": {
        "id": "ZxVl-lHiz1bZ"
      }
    },
    {
      "cell_type": "code",
      "source": [
        "pred=preds_a+\"-\"+preds_b+\"-\"+preds_c+\"-\"+preds_d"
      ],
      "metadata": {
        "id": "qTsK746VZOCa"
      },
      "execution_count": 51,
      "outputs": []
    },
    {
      "cell_type": "code",
      "source": [
        "pred"
      ],
      "metadata": {
        "colab": {
          "base_uri": "https://localhost:8080/"
        },
        "id": "7d8I4jk9z6RX",
        "outputId": "fd1e1d0d-84a8-4e0a-b71c-62fd35c7134a"
      },
      "execution_count": 52,
      "outputs": [
        {
          "output_type": "execute_result",
          "data": {
            "text/plain": [
              "array(['사실형-긍정-현재-확실', '사실형-긍정-현재-확실', '사실형-긍정-현재-확실', ...,\n",
              "       '사실형-긍정-과거-확실', '사실형-긍정-과거-확실', '사실형-긍정-현재-확실'], dtype=object)"
            ]
          },
          "metadata": {},
          "execution_count": 52
        }
      ]
    },
    {
      "cell_type": "code",
      "source": [
        "y_test"
      ],
      "metadata": {
        "colab": {
          "base_uri": "https://localhost:8080/"
        },
        "id": "c0TRwmZW0gOH",
        "outputId": "dfecc773-2933-4f5c-a2ce-0b4fa9614def"
      },
      "execution_count": 53,
      "outputs": [
        {
          "output_type": "execute_result",
          "data": {
            "text/plain": [
              "0       추론형-긍정-과거-불확실\n",
              "1        사실형-긍정-과거-확실\n",
              "2        사실형-긍정-미래-확실\n",
              "3        사실형-긍정-과거-확실\n",
              "4        사실형-미정-미래-확실\n",
              "            ...      \n",
              "3304     사실형-긍정-현재-확실\n",
              "3305     사실형-긍정-과거-확실\n",
              "3306     사실형-긍정-미래-확실\n",
              "3307     사실형-긍정-과거-확실\n",
              "3308     사실형-긍정-현재-확실\n",
              "Name: label, Length: 3309, dtype: object"
            ]
          },
          "metadata": {},
          "execution_count": 53
        }
      ]
    },
    {
      "cell_type": "code",
      "source": [
        "f1_score(y_test, pred,average='weighted')"
      ],
      "metadata": {
        "colab": {
          "base_uri": "https://localhost:8080/"
        },
        "id": "cTCHwMn50CaK",
        "outputId": "fd4478b2-cfce-4b6c-a395-ba35cee96bb9"
      },
      "execution_count": 54,
      "outputs": [
        {
          "output_type": "execute_result",
          "data": {
            "text/plain": [
              "0.6474480466425176"
            ]
          },
          "metadata": {},
          "execution_count": 54
        }
      ]
    },
    {
      "cell_type": "markdown",
      "source": [
        "제출"
      ],
      "metadata": {
        "id": "HzelSzhC1imn"
      }
    },
    {
      "cell_type": "code",
      "source": [
        "tfidf_vect=TfidfVectorizer(tokenizer=tw_tokenizer, ngram_range=(1,2), min_df=3, max_df=0.9)\n",
        "tfidf_vect.fit(x_train)\n",
        "tfidf_matrix_train=tfidf_vect.transform(x_train)\n",
        "tfidf_matrix_test=tfidf_vect.transform(test['문장'])"
      ],
      "metadata": {
        "id": "9Xxm_6g-3x9u",
        "colab": {
          "base_uri": "https://localhost:8080/",
          "height": 382
        },
        "outputId": "6845c56e-9d4d-4781-ced0-871464726e3c"
      },
      "execution_count": 55,
      "outputs": [
        {
          "output_type": "error",
          "ename": "KeyboardInterrupt",
          "evalue": "ignored",
          "traceback": [
            "\u001b[0;31m---------------------------------------------------------------------------\u001b[0m",
            "\u001b[0;31mKeyboardInterrupt\u001b[0m                         Traceback (most recent call last)",
            "\u001b[0;32m<ipython-input-55-4af08fbe6da6>\u001b[0m in \u001b[0;36m<cell line: 2>\u001b[0;34m()\u001b[0m\n\u001b[1;32m      1\u001b[0m \u001b[0mtfidf_vect\u001b[0m\u001b[0;34m=\u001b[0m\u001b[0mTfidfVectorizer\u001b[0m\u001b[0;34m(\u001b[0m\u001b[0mtokenizer\u001b[0m\u001b[0;34m=\u001b[0m\u001b[0mtw_tokenizer\u001b[0m\u001b[0;34m,\u001b[0m \u001b[0mngram_range\u001b[0m\u001b[0;34m=\u001b[0m\u001b[0;34m(\u001b[0m\u001b[0;36m1\u001b[0m\u001b[0;34m,\u001b[0m\u001b[0;36m2\u001b[0m\u001b[0;34m)\u001b[0m\u001b[0;34m,\u001b[0m \u001b[0mmin_df\u001b[0m\u001b[0;34m=\u001b[0m\u001b[0;36m3\u001b[0m\u001b[0;34m,\u001b[0m \u001b[0mmax_df\u001b[0m\u001b[0;34m=\u001b[0m\u001b[0;36m0.9\u001b[0m\u001b[0;34m)\u001b[0m\u001b[0;34m\u001b[0m\u001b[0;34m\u001b[0m\u001b[0m\n\u001b[0;32m----> 2\u001b[0;31m \u001b[0mtfidf_vect\u001b[0m\u001b[0;34m.\u001b[0m\u001b[0mfit\u001b[0m\u001b[0;34m(\u001b[0m\u001b[0mx_train\u001b[0m\u001b[0;34m)\u001b[0m\u001b[0;34m\u001b[0m\u001b[0;34m\u001b[0m\u001b[0m\n\u001b[0m\u001b[1;32m      3\u001b[0m \u001b[0mtfidf_matrix_train\u001b[0m\u001b[0;34m=\u001b[0m\u001b[0mtfidf_vect\u001b[0m\u001b[0;34m.\u001b[0m\u001b[0mtransform\u001b[0m\u001b[0;34m(\u001b[0m\u001b[0mx_train\u001b[0m\u001b[0;34m)\u001b[0m\u001b[0;34m\u001b[0m\u001b[0;34m\u001b[0m\u001b[0m\n\u001b[1;32m      4\u001b[0m \u001b[0mtfidf_matrix_test\u001b[0m\u001b[0;34m=\u001b[0m\u001b[0mtfidf_vect\u001b[0m\u001b[0;34m.\u001b[0m\u001b[0mtransform\u001b[0m\u001b[0;34m(\u001b[0m\u001b[0mtest\u001b[0m\u001b[0;34m[\u001b[0m\u001b[0;34m'문장'\u001b[0m\u001b[0;34m]\u001b[0m\u001b[0;34m)\u001b[0m\u001b[0;34m\u001b[0m\u001b[0;34m\u001b[0m\u001b[0m\n",
            "\u001b[0;32m/usr/local/lib/python3.10/dist-packages/sklearn/feature_extraction/text.py\u001b[0m in \u001b[0;36mfit\u001b[0;34m(self, raw_documents, y)\u001b[0m\n\u001b[1;32m   2101\u001b[0m             \u001b[0msublinear_tf\u001b[0m\u001b[0;34m=\u001b[0m\u001b[0mself\u001b[0m\u001b[0;34m.\u001b[0m\u001b[0msublinear_tf\u001b[0m\u001b[0;34m,\u001b[0m\u001b[0;34m\u001b[0m\u001b[0;34m\u001b[0m\u001b[0m\n\u001b[1;32m   2102\u001b[0m         )\n\u001b[0;32m-> 2103\u001b[0;31m         \u001b[0mX\u001b[0m \u001b[0;34m=\u001b[0m \u001b[0msuper\u001b[0m\u001b[0;34m(\u001b[0m\u001b[0;34m)\u001b[0m\u001b[0;34m.\u001b[0m\u001b[0mfit_transform\u001b[0m\u001b[0;34m(\u001b[0m\u001b[0mraw_documents\u001b[0m\u001b[0;34m)\u001b[0m\u001b[0;34m\u001b[0m\u001b[0;34m\u001b[0m\u001b[0m\n\u001b[0m\u001b[1;32m   2104\u001b[0m         \u001b[0mself\u001b[0m\u001b[0;34m.\u001b[0m\u001b[0m_tfidf\u001b[0m\u001b[0;34m.\u001b[0m\u001b[0mfit\u001b[0m\u001b[0;34m(\u001b[0m\u001b[0mX\u001b[0m\u001b[0;34m)\u001b[0m\u001b[0;34m\u001b[0m\u001b[0;34m\u001b[0m\u001b[0m\n\u001b[1;32m   2105\u001b[0m         \u001b[0;32mreturn\u001b[0m \u001b[0mself\u001b[0m\u001b[0;34m\u001b[0m\u001b[0;34m\u001b[0m\u001b[0m\n",
            "\u001b[0;32m/usr/local/lib/python3.10/dist-packages/sklearn/feature_extraction/text.py\u001b[0m in \u001b[0;36mfit_transform\u001b[0;34m(self, raw_documents, y)\u001b[0m\n\u001b[1;32m   1386\u001b[0m                     \u001b[0;32mbreak\u001b[0m\u001b[0;34m\u001b[0m\u001b[0;34m\u001b[0m\u001b[0m\n\u001b[1;32m   1387\u001b[0m \u001b[0;34m\u001b[0m\u001b[0m\n\u001b[0;32m-> 1388\u001b[0;31m         \u001b[0mvocabulary\u001b[0m\u001b[0;34m,\u001b[0m \u001b[0mX\u001b[0m \u001b[0;34m=\u001b[0m \u001b[0mself\u001b[0m\u001b[0;34m.\u001b[0m\u001b[0m_count_vocab\u001b[0m\u001b[0;34m(\u001b[0m\u001b[0mraw_documents\u001b[0m\u001b[0;34m,\u001b[0m \u001b[0mself\u001b[0m\u001b[0;34m.\u001b[0m\u001b[0mfixed_vocabulary_\u001b[0m\u001b[0;34m)\u001b[0m\u001b[0;34m\u001b[0m\u001b[0;34m\u001b[0m\u001b[0m\n\u001b[0m\u001b[1;32m   1389\u001b[0m \u001b[0;34m\u001b[0m\u001b[0m\n\u001b[1;32m   1390\u001b[0m         \u001b[0;32mif\u001b[0m \u001b[0mself\u001b[0m\u001b[0;34m.\u001b[0m\u001b[0mbinary\u001b[0m\u001b[0;34m:\u001b[0m\u001b[0;34m\u001b[0m\u001b[0;34m\u001b[0m\u001b[0m\n",
            "\u001b[0;32m/usr/local/lib/python3.10/dist-packages/sklearn/feature_extraction/text.py\u001b[0m in \u001b[0;36m_count_vocab\u001b[0;34m(self, raw_documents, fixed_vocab)\u001b[0m\n\u001b[1;32m   1273\u001b[0m         \u001b[0;32mfor\u001b[0m \u001b[0mdoc\u001b[0m \u001b[0;32min\u001b[0m \u001b[0mraw_documents\u001b[0m\u001b[0;34m:\u001b[0m\u001b[0;34m\u001b[0m\u001b[0;34m\u001b[0m\u001b[0m\n\u001b[1;32m   1274\u001b[0m             \u001b[0mfeature_counter\u001b[0m \u001b[0;34m=\u001b[0m \u001b[0;34m{\u001b[0m\u001b[0;34m}\u001b[0m\u001b[0;34m\u001b[0m\u001b[0;34m\u001b[0m\u001b[0m\n\u001b[0;32m-> 1275\u001b[0;31m             \u001b[0;32mfor\u001b[0m \u001b[0mfeature\u001b[0m \u001b[0;32min\u001b[0m \u001b[0manalyze\u001b[0m\u001b[0;34m(\u001b[0m\u001b[0mdoc\u001b[0m\u001b[0;34m)\u001b[0m\u001b[0;34m:\u001b[0m\u001b[0;34m\u001b[0m\u001b[0;34m\u001b[0m\u001b[0m\n\u001b[0m\u001b[1;32m   1276\u001b[0m                 \u001b[0;32mtry\u001b[0m\u001b[0;34m:\u001b[0m\u001b[0;34m\u001b[0m\u001b[0;34m\u001b[0m\u001b[0m\n\u001b[1;32m   1277\u001b[0m                     \u001b[0mfeature_idx\u001b[0m \u001b[0;34m=\u001b[0m \u001b[0mvocabulary\u001b[0m\u001b[0;34m[\u001b[0m\u001b[0mfeature\u001b[0m\u001b[0;34m]\u001b[0m\u001b[0;34m\u001b[0m\u001b[0;34m\u001b[0m\u001b[0m\n",
            "\u001b[0;32m/usr/local/lib/python3.10/dist-packages/sklearn/feature_extraction/text.py\u001b[0m in \u001b[0;36m_analyze\u001b[0;34m(doc, analyzer, tokenizer, ngrams, preprocessor, decoder, stop_words)\u001b[0m\n\u001b[1;32m    111\u001b[0m             \u001b[0mdoc\u001b[0m \u001b[0;34m=\u001b[0m \u001b[0mpreprocessor\u001b[0m\u001b[0;34m(\u001b[0m\u001b[0mdoc\u001b[0m\u001b[0;34m)\u001b[0m\u001b[0;34m\u001b[0m\u001b[0;34m\u001b[0m\u001b[0m\n\u001b[1;32m    112\u001b[0m         \u001b[0;32mif\u001b[0m \u001b[0mtokenizer\u001b[0m \u001b[0;32mis\u001b[0m \u001b[0;32mnot\u001b[0m \u001b[0;32mNone\u001b[0m\u001b[0;34m:\u001b[0m\u001b[0;34m\u001b[0m\u001b[0;34m\u001b[0m\u001b[0m\n\u001b[0;32m--> 113\u001b[0;31m             \u001b[0mdoc\u001b[0m \u001b[0;34m=\u001b[0m \u001b[0mtokenizer\u001b[0m\u001b[0;34m(\u001b[0m\u001b[0mdoc\u001b[0m\u001b[0;34m)\u001b[0m\u001b[0;34m\u001b[0m\u001b[0;34m\u001b[0m\u001b[0m\n\u001b[0m\u001b[1;32m    114\u001b[0m         \u001b[0;32mif\u001b[0m \u001b[0mngrams\u001b[0m \u001b[0;32mis\u001b[0m \u001b[0;32mnot\u001b[0m \u001b[0;32mNone\u001b[0m\u001b[0;34m:\u001b[0m\u001b[0;34m\u001b[0m\u001b[0;34m\u001b[0m\u001b[0m\n\u001b[1;32m    115\u001b[0m             \u001b[0;32mif\u001b[0m \u001b[0mstop_words\u001b[0m \u001b[0;32mis\u001b[0m \u001b[0;32mnot\u001b[0m \u001b[0;32mNone\u001b[0m\u001b[0;34m:\u001b[0m\u001b[0;34m\u001b[0m\u001b[0;34m\u001b[0m\u001b[0m\n",
            "\u001b[0;32m<ipython-input-15-d9ef2f857447>\u001b[0m in \u001b[0;36mtw_tokenizer\u001b[0;34m(text)\u001b[0m\n\u001b[1;32m      2\u001b[0m \u001b[0mokt\u001b[0m\u001b[0;34m=\u001b[0m\u001b[0mOkt\u001b[0m\u001b[0;34m(\u001b[0m\u001b[0;34m)\u001b[0m\u001b[0;34m\u001b[0m\u001b[0;34m\u001b[0m\u001b[0m\n\u001b[1;32m      3\u001b[0m \u001b[0;32mdef\u001b[0m \u001b[0mtw_tokenizer\u001b[0m\u001b[0;34m(\u001b[0m\u001b[0mtext\u001b[0m\u001b[0;34m)\u001b[0m\u001b[0;34m:\u001b[0m\u001b[0;34m\u001b[0m\u001b[0;34m\u001b[0m\u001b[0m\n\u001b[0;32m----> 4\u001b[0;31m   \u001b[0mtokens_ko\u001b[0m\u001b[0;34m=\u001b[0m\u001b[0mokt\u001b[0m\u001b[0;34m.\u001b[0m\u001b[0mmorphs\u001b[0m\u001b[0;34m(\u001b[0m\u001b[0mtext\u001b[0m\u001b[0;34m)\u001b[0m\u001b[0;34m\u001b[0m\u001b[0;34m\u001b[0m\u001b[0m\n\u001b[0m\u001b[1;32m      5\u001b[0m   \u001b[0;32mreturn\u001b[0m \u001b[0mtokens_ko\u001b[0m\u001b[0;34m\u001b[0m\u001b[0;34m\u001b[0m\u001b[0m\n",
            "\u001b[0;32m/usr/local/lib/python3.10/dist-packages/konlpy/tag/_okt.py\u001b[0m in \u001b[0;36mmorphs\u001b[0;34m(self, phrase, norm, stem)\u001b[0m\n\u001b[1;32m     87\u001b[0m         \u001b[0;34m\"\"\"Parse phrase to morphemes.\"\"\"\u001b[0m\u001b[0;34m\u001b[0m\u001b[0;34m\u001b[0m\u001b[0m\n\u001b[1;32m     88\u001b[0m \u001b[0;34m\u001b[0m\u001b[0m\n\u001b[0;32m---> 89\u001b[0;31m         \u001b[0;32mreturn\u001b[0m \u001b[0;34m[\u001b[0m\u001b[0ms\u001b[0m \u001b[0;32mfor\u001b[0m \u001b[0ms\u001b[0m\u001b[0;34m,\u001b[0m \u001b[0mt\u001b[0m \u001b[0;32min\u001b[0m \u001b[0mself\u001b[0m\u001b[0;34m.\u001b[0m\u001b[0mpos\u001b[0m\u001b[0;34m(\u001b[0m\u001b[0mphrase\u001b[0m\u001b[0;34m,\u001b[0m \u001b[0mnorm\u001b[0m\u001b[0;34m=\u001b[0m\u001b[0mnorm\u001b[0m\u001b[0;34m,\u001b[0m \u001b[0mstem\u001b[0m\u001b[0;34m=\u001b[0m\u001b[0mstem\u001b[0m\u001b[0;34m)\u001b[0m\u001b[0;34m]\u001b[0m\u001b[0;34m\u001b[0m\u001b[0;34m\u001b[0m\u001b[0m\n\u001b[0m\u001b[1;32m     90\u001b[0m \u001b[0;34m\u001b[0m\u001b[0m\n\u001b[1;32m     91\u001b[0m     \u001b[0;32mdef\u001b[0m \u001b[0mphrases\u001b[0m\u001b[0;34m(\u001b[0m\u001b[0mself\u001b[0m\u001b[0;34m,\u001b[0m \u001b[0mphrase\u001b[0m\u001b[0;34m)\u001b[0m\u001b[0;34m:\u001b[0m\u001b[0;34m\u001b[0m\u001b[0;34m\u001b[0m\u001b[0m\n",
            "\u001b[0;32m/usr/local/lib/python3.10/dist-packages/konlpy/tag/_okt.py\u001b[0m in \u001b[0;36mpos\u001b[0;34m(self, phrase, norm, stem, join)\u001b[0m\n\u001b[1;32m     69\u001b[0m         \u001b[0mvalidate_phrase_inputs\u001b[0m\u001b[0;34m(\u001b[0m\u001b[0mphrase\u001b[0m\u001b[0;34m)\u001b[0m\u001b[0;34m\u001b[0m\u001b[0;34m\u001b[0m\u001b[0m\n\u001b[1;32m     70\u001b[0m \u001b[0;34m\u001b[0m\u001b[0m\n\u001b[0;32m---> 71\u001b[0;31m         tokens = self.jki.tokenize(\n\u001b[0m\u001b[1;32m     72\u001b[0m                     \u001b[0mphrase\u001b[0m\u001b[0;34m,\u001b[0m\u001b[0;34m\u001b[0m\u001b[0;34m\u001b[0m\u001b[0m\n\u001b[1;32m     73\u001b[0m                     \u001b[0mjpype\u001b[0m\u001b[0;34m.\u001b[0m\u001b[0mjava\u001b[0m\u001b[0;34m.\u001b[0m\u001b[0mlang\u001b[0m\u001b[0;34m.\u001b[0m\u001b[0mBoolean\u001b[0m\u001b[0;34m(\u001b[0m\u001b[0mnorm\u001b[0m\u001b[0;34m)\u001b[0m\u001b[0;34m,\u001b[0m\u001b[0;34m\u001b[0m\u001b[0;34m\u001b[0m\u001b[0m\n",
            "\u001b[0;31mKeyboardInterrupt\u001b[0m: "
          ]
        }
      ]
    },
    {
      "cell_type": "code",
      "source": [
        "a_clf=GradientBoostingClassifier(random_state=0, n_estimators=500, learning_rate=0.1 )\n",
        "a_clf.fit(tfidf_matrix_train, y_train_a)\n",
        "pred_a=a_clf.predict(tfidf_matrix_test)"
      ],
      "metadata": {
        "id": "RR9FbHSZ1iRe"
      },
      "execution_count": null,
      "outputs": []
    },
    {
      "cell_type": "code",
      "source": [
        "b_clf=GradientBoostingClassifier(random_state=0, learning_rate=0.05, n_estimators=500)\n",
        "b_clf.fit(tfidf_matrix_train, y_train_b)\n",
        "pred_b=b_clf.predict(tfidf_matrix_test)"
      ],
      "metadata": {
        "id": "150QhC5X3Pdn"
      },
      "execution_count": null,
      "outputs": []
    },
    {
      "cell_type": "code",
      "source": [
        "c_clf=GradientBoostingClassifier(random_state=0, learning_rate=0.1, n_estimators=500)\n",
        "c_clf.fit(tfidf_matrix_train, y_train_c)\n",
        "pred_c=c_clf.predict(tfidf_matrix_test)"
      ],
      "metadata": {
        "id": "vJw1NbRd4SPs"
      },
      "execution_count": null,
      "outputs": []
    },
    {
      "cell_type": "code",
      "source": [
        "d_clf=LogisticRegression(random_state=0,C=10)\n",
        "d_clf.fit(tfidf_matrix_train, y_train_d)\n",
        "pred_d=d_clf.predict(tfidf_matrix_test)"
      ],
      "metadata": {
        "id": "l6woLCDa4h_B"
      },
      "execution_count": null,
      "outputs": []
    },
    {
      "cell_type": "code",
      "source": [
        "pred=pred_a+\"-\"+pred_b+\"-\"+pred_c+\"-\"+pred_d"
      ],
      "metadata": {
        "id": "jbeoCj294xbO"
      },
      "execution_count": null,
      "outputs": []
    },
    {
      "cell_type": "code",
      "source": [
        "submission['label'] = pred"
      ],
      "metadata": {
        "id": "L68ymQzEBlZ3"
      },
      "execution_count": null,
      "outputs": []
    },
    {
      "cell_type": "code",
      "source": [
        "submission"
      ],
      "metadata": {
        "id": "M4ezu8_kBqBk"
      },
      "execution_count": null,
      "outputs": []
    },
    {
      "cell_type": "code",
      "source": [
        "submission.to_csv('/content/drive/MyDrive/open/sample_submission.csv', index=False)"
      ],
      "metadata": {
        "id": "EhuWGh5N46Yz"
      },
      "execution_count": null,
      "outputs": []
    },
    {
      "cell_type": "markdown",
      "source": [
        "# 한번에 예측하기"
      ],
      "metadata": {
        "id": "Vc3eiLrHdtGu"
      }
    },
    {
      "cell_type": "code",
      "source": [
        "import re\n",
        "import string\n",
        "def clean_text(text):\n",
        "\n",
        "    text=text.lower()\n",
        "    text = re.sub('\\[.*?\\]', '', text)\n",
        "    text = re.sub('https?://\\S+|www\\.\\S+', '', text)\n",
        "    text = re.sub('<.*?>+', '', text)\n",
        "    text = re.sub('[%s]' % re.escape(string.punctuation), '', text)\n",
        "    text = re.sub('\\n', '', text)\n",
        "    text = re.sub('\\w*\\d\\w*', '', text)\n",
        "    text=re.sub('[^가-힣a-z]', ' ', text)\n",
        "\n",
        "    return text\n",
        "\n",
        "train['문장']=train['문장'].apply(lambda x :clean_text(x))\n",
        "test['문장']=test['문장'].apply(lambda x :clean_text(x))\n",
        "\n",
        "train['문장'].head()"
      ],
      "metadata": {
        "colab": {
          "base_uri": "https://localhost:8080/"
        },
        "id": "wPptAXlBfcVm",
        "outputId": "b408ae4d-a2f1-4a42-9d41-31cc645bd6e1"
      },
      "execution_count": 56,
      "outputs": [
        {
          "output_type": "execute_result",
          "data": {
            "text/plain": [
              "0                          포인트 금리 인상은  년 이후  년 만에 처음이다\n",
              "1    이어  앞으로 전문가들과 함께  주 단위로 상황을 재평가할 예정 이라며  그 이전이...\n",
              "2      정부가 고유가 대응을 위해  월부터 연말까지 유류세 인하 폭을  에서  까지 확대한다\n",
              "3    서울시는 올해  월 즉시 견인 유예시간  분을 제공하겠다고 밝혔지만 하루 만에 차도...\n",
              "4              익사한 자는 사다리에 태워 거꾸로 놓고 소금으로 코를 막아 가득 채운다\n",
              "Name: 문장, dtype: object"
            ]
          },
          "metadata": {},
          "execution_count": 56
        }
      ]
    },
    {
      "cell_type": "code",
      "source": [
        "from konlpy.tag import Okt\n",
        "\n",
        "okt = Okt()\n",
        "def tw_tokenizer(text):\n",
        "  #입력 인자로 들어온 텍스트를 형태소 단어로 토큰화해 리스트 형태로 반환\n",
        "  tokens_ko=okt.morphs(text)\n",
        "  return tokens_ko"
      ],
      "metadata": {
        "id": "_PHywKsZfcS2"
      },
      "execution_count": 57,
      "outputs": []
    },
    {
      "cell_type": "markdown",
      "source": [
        "###문장과 label로 예측 시"
      ],
      "metadata": {
        "id": "Q5Smgvh1fjNY"
      }
    },
    {
      "cell_type": "code",
      "source": [
        "X = train['문장']\n",
        "y = train['label']\n",
        "from sklearn.model_selection import train_test_split\n",
        "\n",
        "# 제공된 학습데이터를 학습 / 검증 데이터셋으로 재 분할\n",
        "X_train, X_test, y_train, y_test = train_test_split(X, y, test_size=0.2, random_state=41)"
      ],
      "metadata": {
        "id": "1EnMJ5oKfcQW"
      },
      "execution_count": 58,
      "outputs": []
    },
    {
      "cell_type": "code",
      "source": [
        "from sklearn.feature_extraction.text import TfidfVectorizer\n",
        "from sklearn.linear_model import LogisticRegression\n",
        "from sklearn.model_selection import GridSearchCV\n",
        "\n",
        "#twitter 객체의 morphs() 객체를 이용한 tokenizer 사용. ngram_range=(1,2)\n",
        "stopwords=['을', '를', '이', '가', '은', '는', ',', '\"']\n",
        "tfidf_vect=TfidfVectorizer(tokenizer=tw_tokenizer, ngram_range=(1,2), min_df=3, max_df=0.9, stop_words=stopwords)\n",
        "tfidf_vect.fit(X_train)\n",
        "tfidf_matrix_train=tfidf_vect.transform(X_train)"
      ],
      "metadata": {
        "id": "QpbBzcCdfcN0"
      },
      "execution_count": 59,
      "outputs": []
    },
    {
      "cell_type": "markdown",
      "source": [
        "로지스틱 회귀"
      ],
      "metadata": {
        "id": "ob1oTN_vftUl"
      }
    },
    {
      "cell_type": "code",
      "source": [
        "#로지스틱 회귀를 이용해 분류 수행\n",
        "lg_clf=LogisticRegression(random_state=0)\n",
        "\n",
        "#파라미터 최적화를 위해 GridSearchCV 이용\n",
        "params={'penalty':['l2','l1'],\n",
        "        'C':[1, 3.5, 5.5, 10]}\n",
        "\n",
        "grid_cv=GridSearchCV(lg_clf, param_grid=params, cv=3, scoring='f1_weighted', verbose=1)\n",
        "grid_cv.fit(tfidf_matrix_train, y_train)\n",
        "print(grid_cv.best_params_, round(grid_cv.best_score_, 4))"
      ],
      "metadata": {
        "colab": {
          "base_uri": "https://localhost:8080/"
        },
        "id": "kefXJ03bfcL-",
        "outputId": "d54d09ac-36ae-4dec-b2b9-b6f74c441f23"
      },
      "execution_count": 60,
      "outputs": [
        {
          "output_type": "stream",
          "name": "stdout",
          "text": [
            "Fitting 3 folds for each of 8 candidates, totalling 24 fits\n",
            "{'C': 10, 'penalty': 'l2'} 0.6\n"
          ]
        }
      ]
    },
    {
      "cell_type": "code",
      "source": [
        "#학습 데이터를 적용한 TfidfVectorizer를 이용해 테스트 데이터를 TF-IDF 값으로 피처 변환.\n",
        "tfidf_matrix_test=tfidf_vect.transform(X_test)\n",
        "\n",
        "#classifier는 gridsearchcv에서 최적 파라미터로 학습된 classifier를 그대로 이용\n",
        "best_estimator=grid_cv.best_estimator_\n",
        "lg_y_pred=best_estimator.predict(tfidf_matrix_test)\n",
        "\n",
        "print('Logistic Regression f1-score:', f1_score(y_test, lg_y_pred, average='weighted'))"
      ],
      "metadata": {
        "colab": {
          "base_uri": "https://localhost:8080/"
        },
        "id": "jzB9ROS4fcI0",
        "outputId": "9cee74ea-5a9a-4b56-9256-61d1de15eb7f"
      },
      "execution_count": 61,
      "outputs": [
        {
          "output_type": "stream",
          "name": "stdout",
          "text": [
            "Logistic Regression f1-score: 0.6185289306448688\n"
          ]
        }
      ]
    },
    {
      "cell_type": "markdown",
      "source": [
        "랜덤 포레스트"
      ],
      "metadata": {
        "id": "s7BYeXMKfya3"
      }
    },
    {
      "cell_type": "code",
      "source": [
        "# 랜덤 포레스트를 이용해 분류 수행\n",
        "from sklearn.ensemble import RandomForestClassifier\n",
        "rf_clf=RandomForestClassifier(random_state=0)\n",
        "\n",
        "#파라미터 최적화를 위해 GridSearchCV 이용\n",
        "params={'n_estimators' : [10, 100],\n",
        "        'max_depth' : [6, 8, 10, 12]\n",
        "        }\n",
        "\n",
        "grid_cv=GridSearchCV(rf_clf, param_grid=params, cv=3, scoring='f1_weighted', verbose=1)\n",
        "grid_cv.fit(tfidf_matrix_train, y_train)\n",
        "print(grid_cv.best_params_, round(grid_cv.best_score_, 4))"
      ],
      "metadata": {
        "id": "zkp7COyxfcGD"
      },
      "execution_count": null,
      "outputs": []
    },
    {
      "cell_type": "code",
      "source": [
        "#학습 데이터를 적용한 TfidfVectorizer를 이용해 테스트 데이터를 TF-IDF 값으로 피처 변환.\n",
        "tfidf_matrix_test=tfidf_vect.transform(X_test)\n",
        "\n",
        "#classifier는 gridsearchcv에서 최적 파라미터로 학습된 classifier를 그대로 이용\n",
        "best_estimator=grid_cv.best_estimator_\n",
        "rf_y_pred=best_estimator.predict(tfidf_matrix_test)\n",
        "\n",
        "print('Random Forest f1-score:', f1_score(y_test, rf_y_pred, average='weighted'))"
      ],
      "metadata": {
        "id": "hCQ8VR9YfcDM"
      },
      "execution_count": null,
      "outputs": []
    },
    {
      "cell_type": "markdown",
      "source": [
        "결정 트리"
      ],
      "metadata": {
        "id": "QLWsQJx9f1v8"
      }
    },
    {
      "cell_type": "code",
      "source": [
        "# 결정 트리를 이용해 분류 수행\n",
        "from sklearn.tree import DecisionTreeClassifier\n",
        "dt_clf=DecisionTreeClassifier(random_state=0)\n",
        "\n",
        "#파라미터 최적화를 위해 GridSearchCV 이용\n",
        "params={'max_depth' : [6, 8, 10, 12],\n",
        "        'min_samples_split' : [8, 16, 20]\n",
        "        }\n",
        "\n",
        "grid_cv=GridSearchCV(dt_clf, param_grid=params, cv=3, scoring='f1_weighted', verbose=1)\n",
        "grid_cv.fit(tfidf_matrix_train, y_train)\n",
        "print(grid_cv.best_params_, round(grid_cv.best_score_, 4))"
      ],
      "metadata": {
        "id": "28oRgUI3fcA6"
      },
      "execution_count": null,
      "outputs": []
    },
    {
      "cell_type": "code",
      "source": [
        "#학습 데이터를 적용한 TfidfVectorizer를 이용해 테스트 데이터를 TF-IDF 값으로 피처 변환.\n",
        "tfidf_matrix_test=tfidf_vect.transform(X_test)\n",
        "\n",
        "#classifier는 gridsearchcv에서 최적 파라미터로 학습된 classifier를 그대로 이용\n",
        "best_estimator=grid_cv.best_estimator_\n",
        "dt_y_pred=best_estimator.predict(tfidf_matrix_test)\n",
        "\n",
        "print('Decision Tree f1-score:', f1_score(y_test, dt_y_pred, average='weighted'))"
      ],
      "metadata": {
        "id": "nAqwb-Dpgeih"
      },
      "execution_count": null,
      "outputs": []
    },
    {
      "cell_type": "markdown",
      "source": [
        "그래디언트 부스팅"
      ],
      "metadata": {
        "id": "tZL2EJ_lgfbv"
      }
    },
    {
      "cell_type": "code",
      "source": [
        "# 그레디언트 부스팅을 이용해 분류 수행\n",
        "from sklearn.ensemble import GradientBoostingClassifier\n",
        "gb_clf=GradientBoostingClassifier(random_state=0)\n",
        "\n",
        "#파라미터 최적화를 위해 GridSearchCV 이용\n",
        "params={'n_estimators': [100,500],\n",
        "        'learning_rate':[0.05,0.1]}\n",
        "\n",
        "grid_cv=GridSearchCV(gb_clf, param_grid=params, cv=3, scoring='f1_weighted', verbose=1)\n",
        "grid_cv.fit(tfidf_matrix_train, y_train)\n",
        "print(grid_cv.best_params_, round(grid_cv.best_score_, 4))"
      ],
      "metadata": {
        "id": "kpJmOxV9gn5e"
      },
      "execution_count": null,
      "outputs": []
    },
    {
      "cell_type": "code",
      "source": [
        "#학습 데이터를 적용한 TfidfVectorizer를 이용해 테스트 데이터를 TF-IDF 값으로 피처 변환.\n",
        "tfidf_matrix_test=tfidf_vect.transform(X_test)\n",
        "\n",
        "#classifier는 gridsearchcv에서 최적 파라미터로 학습된 classifier를 그대로 이용\n",
        "best_estimator=grid_cv.best_estimator_\n",
        "gb_y_pred=best_estimator.predict(tfidf_matrix_test)\n",
        "\n",
        "print('Gradient Boosting f1-score:', f1_score(y_test, gb_y_pred, average='weighted'))"
      ],
      "metadata": {
        "id": "Wvbama8Ugof5"
      },
      "execution_count": null,
      "outputs": []
    },
    {
      "cell_type": "code",
      "source": [
        "submission['label'] = lg_y_pred"
      ],
      "metadata": {
        "colab": {
          "base_uri": "https://localhost:8080/",
          "height": 327
        },
        "id": "4OReCeilgodd",
        "outputId": "0679e0cd-2fcd-4f7e-957a-a9b68cca931d"
      },
      "execution_count": 62,
      "outputs": [
        {
          "output_type": "error",
          "ename": "ValueError",
          "evalue": "ignored",
          "traceback": [
            "\u001b[0;31m---------------------------------------------------------------------------\u001b[0m",
            "\u001b[0;31mValueError\u001b[0m                                Traceback (most recent call last)",
            "\u001b[0;32m<ipython-input-62-8bee806a5f75>\u001b[0m in \u001b[0;36m<cell line: 1>\u001b[0;34m()\u001b[0m\n\u001b[0;32m----> 1\u001b[0;31m \u001b[0msubmission\u001b[0m\u001b[0;34m[\u001b[0m\u001b[0;34m'label'\u001b[0m\u001b[0;34m]\u001b[0m \u001b[0;34m=\u001b[0m \u001b[0mlg_y_pred\u001b[0m\u001b[0;34m\u001b[0m\u001b[0;34m\u001b[0m\u001b[0m\n\u001b[0m",
            "\u001b[0;32m/usr/local/lib/python3.10/dist-packages/pandas/core/frame.py\u001b[0m in \u001b[0;36m__setitem__\u001b[0;34m(self, key, value)\u001b[0m\n\u001b[1;32m   3978\u001b[0m         \u001b[0;32melse\u001b[0m\u001b[0;34m:\u001b[0m\u001b[0;34m\u001b[0m\u001b[0;34m\u001b[0m\u001b[0m\n\u001b[1;32m   3979\u001b[0m             \u001b[0;31m# set column\u001b[0m\u001b[0;34m\u001b[0m\u001b[0;34m\u001b[0m\u001b[0m\n\u001b[0;32m-> 3980\u001b[0;31m             \u001b[0mself\u001b[0m\u001b[0;34m.\u001b[0m\u001b[0m_set_item\u001b[0m\u001b[0;34m(\u001b[0m\u001b[0mkey\u001b[0m\u001b[0;34m,\u001b[0m \u001b[0mvalue\u001b[0m\u001b[0;34m)\u001b[0m\u001b[0;34m\u001b[0m\u001b[0;34m\u001b[0m\u001b[0m\n\u001b[0m\u001b[1;32m   3981\u001b[0m \u001b[0;34m\u001b[0m\u001b[0m\n\u001b[1;32m   3982\u001b[0m     \u001b[0;32mdef\u001b[0m \u001b[0m_setitem_slice\u001b[0m\u001b[0;34m(\u001b[0m\u001b[0mself\u001b[0m\u001b[0;34m,\u001b[0m \u001b[0mkey\u001b[0m\u001b[0;34m:\u001b[0m \u001b[0mslice\u001b[0m\u001b[0;34m,\u001b[0m \u001b[0mvalue\u001b[0m\u001b[0;34m)\u001b[0m\u001b[0;34m:\u001b[0m\u001b[0;34m\u001b[0m\u001b[0;34m\u001b[0m\u001b[0m\n",
            "\u001b[0;32m/usr/local/lib/python3.10/dist-packages/pandas/core/frame.py\u001b[0m in \u001b[0;36m_set_item\u001b[0;34m(self, key, value)\u001b[0m\n\u001b[1;32m   4172\u001b[0m         \u001b[0mensure\u001b[0m \u001b[0mhomogeneity\u001b[0m\u001b[0;34m.\u001b[0m\u001b[0;34m\u001b[0m\u001b[0;34m\u001b[0m\u001b[0m\n\u001b[1;32m   4173\u001b[0m         \"\"\"\n\u001b[0;32m-> 4174\u001b[0;31m         \u001b[0mvalue\u001b[0m \u001b[0;34m=\u001b[0m \u001b[0mself\u001b[0m\u001b[0;34m.\u001b[0m\u001b[0m_sanitize_column\u001b[0m\u001b[0;34m(\u001b[0m\u001b[0mvalue\u001b[0m\u001b[0;34m)\u001b[0m\u001b[0;34m\u001b[0m\u001b[0;34m\u001b[0m\u001b[0m\n\u001b[0m\u001b[1;32m   4175\u001b[0m \u001b[0;34m\u001b[0m\u001b[0m\n\u001b[1;32m   4176\u001b[0m         if (\n",
            "\u001b[0;32m/usr/local/lib/python3.10/dist-packages/pandas/core/frame.py\u001b[0m in \u001b[0;36m_sanitize_column\u001b[0;34m(self, value)\u001b[0m\n\u001b[1;32m   4913\u001b[0m \u001b[0;34m\u001b[0m\u001b[0m\n\u001b[1;32m   4914\u001b[0m         \u001b[0;32mif\u001b[0m \u001b[0mis_list_like\u001b[0m\u001b[0;34m(\u001b[0m\u001b[0mvalue\u001b[0m\u001b[0;34m)\u001b[0m\u001b[0;34m:\u001b[0m\u001b[0;34m\u001b[0m\u001b[0;34m\u001b[0m\u001b[0m\n\u001b[0;32m-> 4915\u001b[0;31m             \u001b[0mcom\u001b[0m\u001b[0;34m.\u001b[0m\u001b[0mrequire_length_match\u001b[0m\u001b[0;34m(\u001b[0m\u001b[0mvalue\u001b[0m\u001b[0;34m,\u001b[0m \u001b[0mself\u001b[0m\u001b[0;34m.\u001b[0m\u001b[0mindex\u001b[0m\u001b[0;34m)\u001b[0m\u001b[0;34m\u001b[0m\u001b[0;34m\u001b[0m\u001b[0m\n\u001b[0m\u001b[1;32m   4916\u001b[0m         \u001b[0;32mreturn\u001b[0m \u001b[0msanitize_array\u001b[0m\u001b[0;34m(\u001b[0m\u001b[0mvalue\u001b[0m\u001b[0;34m,\u001b[0m \u001b[0mself\u001b[0m\u001b[0;34m.\u001b[0m\u001b[0mindex\u001b[0m\u001b[0;34m,\u001b[0m \u001b[0mcopy\u001b[0m\u001b[0;34m=\u001b[0m\u001b[0;32mTrue\u001b[0m\u001b[0;34m,\u001b[0m \u001b[0mallow_2d\u001b[0m\u001b[0;34m=\u001b[0m\u001b[0;32mTrue\u001b[0m\u001b[0;34m)\u001b[0m\u001b[0;34m\u001b[0m\u001b[0;34m\u001b[0m\u001b[0m\n\u001b[1;32m   4917\u001b[0m \u001b[0;34m\u001b[0m\u001b[0m\n",
            "\u001b[0;32m/usr/local/lib/python3.10/dist-packages/pandas/core/common.py\u001b[0m in \u001b[0;36mrequire_length_match\u001b[0;34m(data, index)\u001b[0m\n\u001b[1;32m    569\u001b[0m     \"\"\"\n\u001b[1;32m    570\u001b[0m     \u001b[0;32mif\u001b[0m \u001b[0mlen\u001b[0m\u001b[0;34m(\u001b[0m\u001b[0mdata\u001b[0m\u001b[0;34m)\u001b[0m \u001b[0;34m!=\u001b[0m \u001b[0mlen\u001b[0m\u001b[0;34m(\u001b[0m\u001b[0mindex\u001b[0m\u001b[0;34m)\u001b[0m\u001b[0;34m:\u001b[0m\u001b[0;34m\u001b[0m\u001b[0;34m\u001b[0m\u001b[0m\n\u001b[0;32m--> 571\u001b[0;31m         raise ValueError(\n\u001b[0m\u001b[1;32m    572\u001b[0m             \u001b[0;34m\"Length of values \"\u001b[0m\u001b[0;34m\u001b[0m\u001b[0;34m\u001b[0m\u001b[0m\n\u001b[1;32m    573\u001b[0m             \u001b[0;34mf\"({len(data)}) \"\u001b[0m\u001b[0;34m\u001b[0m\u001b[0;34m\u001b[0m\u001b[0m\n",
            "\u001b[0;31mValueError\u001b[0m: Length of values (3309) does not match length of index (7090)"
          ]
        }
      ]
    },
    {
      "cell_type": "code",
      "source": [
        "submission"
      ],
      "metadata": {
        "id": "9ke_xWmfgoa_"
      },
      "execution_count": null,
      "outputs": []
    },
    {
      "cell_type": "code",
      "source": [],
      "metadata": {
        "id": "YgEXUFHCgoYM"
      },
      "execution_count": null,
      "outputs": []
    }
  ]
}
