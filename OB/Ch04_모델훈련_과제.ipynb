{
  "nbformat": 4,
  "nbformat_minor": 0,
  "metadata": {
    "colab": {
      "provenance": [],
      "collapsed_sections": [
        "oz1RRz3B1-zE",
        "gZQ2-ziF7Rlp",
        "lr5fRT-QEelX",
        "AjTMzsw7KmfE",
        "KiRrJfL_DHHa"
      ],
      "authorship_tag": "ABX9TyN/ucgGUSLp7l98ytFi1zbL",
      "include_colab_link": true
    },
    "kernelspec": {
      "name": "python3",
      "display_name": "Python 3"
    },
    "language_info": {
      "name": "python"
    }
  },
  "cells": [
    {
      "cell_type": "markdown",
      "metadata": {
        "id": "view-in-github",
        "colab_type": "text"
      },
      "source": [
        "<a href=\"https://colab.research.google.com/github/nyoons/ESAA/blob/main/Ch04_%EB%AA%A8%EB%8D%B8_%ED%9B%88%EB%A0%A8_%EA%B3%BC%EC%A0%9C.ipynb\" target=\"_parent\"><img src=\"https://colab.research.google.com/assets/colab-badge.svg\" alt=\"Open In Colab\"/></a>"
      ]
    },
    {
      "cell_type": "markdown",
      "source": [
        "#**Ch 04. 모델 훈련**\n",
        "시스템이 실제로 어떻게 작용할까? 이해하면 적절한 모델, 올바른 훈련 알고리즘, 작업에 맞는 좋은 하이퍼 파라미터를 빠르게 찾을 수 있다.\n",
        "\n",
        "선형 회귀\n",
        "* 직접 계산하여 모델 파라미터 구하기\n",
        "* 경사 하강법 (배치 경사 하강법, 미니배치 경사 하강법, 확률적 경사 하강법) 사용\n",
        "\n",
        "그 다음에는 비선형 데이터셋에 훈련시킬 수 있는 다항 회귀. 선형보다 파라미터가 많아서 훈련 데이터에 과대적합되기 쉽다. 따라서 그 다음엔 과대적합을 감소시킬 수 있는 규제를 몇 가지 알아보자. 마지막으로는 로지스틱 회귀와 소프트맥스 회귀를 살펴보자."
      ],
      "metadata": {
        "id": "9aEZlaPB057h"
      }
    },
    {
      "cell_type": "markdown",
      "source": [
        "##4.1 선형 회귀\n",
        "\n",
        "일반적으로 선형 모델은 입력 특성의 **가중치 합과 편향(절편)**이라는 상수를 더해 예측을 만든다. 이를 벡터 형태로 쓸 수 있다. 이것이 선형 회귀.\n",
        "\n",
        "훈련시켜보자. 훈련시킨다는 것은 모델이 훈련 세트에 가장 잘 맞도록 모델 파라미터를 설정하는 것. 모델이 훈련 데이터에 얼마나 잘 들어맞는지 측정해야 한다. 가장 널리 사용되는 성능 측정 지표는 RMSE. 이것을 최소화 해야 한다. "
      ],
      "metadata": {
        "id": "oz1RRz3B1-zE"
      }
    },
    {
      "cell_type": "markdown",
      "source": [
        "###4.1.1 정규방정식\n",
        "\n",
        "세타값을 최소화하기 위한 해석적인 방법. 정규방정식 이용하기.\n",
        "세타^ = (Xt * X)^-1 * Xt * y\n",
        "\n",
        "이 공식 테스트하기 위해 선형처럼 보이는 데이터를 생성하자."
      ],
      "metadata": {
        "id": "4FfkHh1d2r6A"
      }
    },
    {
      "cell_type": "code",
      "execution_count": 1,
      "metadata": {
        "id": "3KEel-xH0M8A"
      },
      "outputs": [],
      "source": [
        "import numpy as np\n",
        "\n",
        "X=2*np.random.rand(100, 1)\n",
        "y=4+3*X+np.random.randn(100, 1)"
      ]
    },
    {
      "cell_type": "markdown",
      "source": [
        "이제 정규방정식을 이용해 세타햇을 구해보자. inv()=역행렬 계산, dot()=행렬 곱셈"
      ],
      "metadata": {
        "id": "8rLWZIMi3WS6"
      }
    },
    {
      "cell_type": "code",
      "source": [
        "X_b=np.c_[np.ones((100,1)), X] #모든 샘플에 x0=1 추가\n",
        "theta_best=np.linalg.inv(X_b.T.dot(X_b)).dot(X_b.T).dot(y)"
      ],
      "metadata": {
        "id": "FpsVfWkO3fU6"
      },
      "execution_count": 2,
      "outputs": []
    },
    {
      "cell_type": "code",
      "source": [
        "theta_best"
      ],
      "metadata": {
        "colab": {
          "base_uri": "https://localhost:8080/"
        },
        "id": "h6zF_H4n3xJl",
        "outputId": "8490d49b-d876-46ab-d241-92e2831b455c"
      },
      "execution_count": 3,
      "outputs": [
        {
          "output_type": "execute_result",
          "data": {
            "text/plain": [
              "array([[4.2441624 ],\n",
              "       [2.92929637]])"
            ]
          },
          "metadata": {},
          "execution_count": 3
        }
      ]
    },
    {
      "cell_type": "markdown",
      "source": [
        "이 데이터를 생성하기 위해 사용했던 함수의 세타0=4, 세타1=3 이었다. 비슷하지만 잡음 때문에 정확하게 재현하지 못했다.\n",
        "\n",
        "세타햇을 사용해 구해보자."
      ],
      "metadata": {
        "id": "MNYcTzQX3wRr"
      }
    },
    {
      "cell_type": "code",
      "source": [
        "X_new=np.array([[0], [2]])\n",
        "X_new_b=np.c_[np.ones((2,1)), X_new] #모든 샘플에 x0=1 추가\n",
        "y_predict=X_new_b.dot(theta_best)\n",
        "y_predict"
      ],
      "metadata": {
        "colab": {
          "base_uri": "https://localhost:8080/"
        },
        "id": "XI-AnYxX4BPX",
        "outputId": "0ca73055-d18b-4ba7-89e7-f9277abe6873"
      },
      "execution_count": 4,
      "outputs": [
        {
          "output_type": "execute_result",
          "data": {
            "text/plain": [
              "array([[ 4.2441624 ],\n",
              "       [10.10275514]])"
            ]
          },
          "metadata": {},
          "execution_count": 4
        }
      ]
    },
    {
      "cell_type": "code",
      "source": [
        "#그림으로 나타내면\n",
        "import matplotlib.pyplot as plt\n",
        "\n",
        "plt.plot(X_new, y_predict, 'r-')\n",
        "plt.plot(X, y, 'b.')\n",
        "plt.axis([0,2,0,15])\n",
        "plt.show()"
      ],
      "metadata": {
        "colab": {
          "base_uri": "https://localhost:8080/",
          "height": 265
        },
        "id": "BcY6o_9K4e2M",
        "outputId": "0d1a3921-f8a8-4d22-ac27-820ec9686284"
      },
      "execution_count": 5,
      "outputs": [
        {
          "output_type": "display_data",
          "data": {
            "text/plain": [
              "<Figure size 432x288 with 1 Axes>"
            ],
            "image/png": "[encoded data removed]"
          },
          "metadata": {
            "needs_background": "light"
          }
        }
      ]
    },
    {
      "cell_type": "markdown",
      "source": [
        "사이킷런에서 선형 회귀를 수행하는 것은 간단"
      ],
      "metadata": {
        "id": "eYsIdwRF40Im"
      }
    },
    {
      "cell_type": "code",
      "source": [
        "from sklearn.linear_model import LinearRegression\n",
        "lin_reg=LinearRegression()\n",
        "lin_reg.fit(X, y)\n",
        "lin_reg.intercept_, lin_reg.coef_"
      ],
      "metadata": {
        "colab": {
          "base_uri": "https://localhost:8080/"
        },
        "id": "qllKnyvY4z0M",
        "outputId": "92ab460f-d9bc-44da-e27c-6ec43908aa11"
      },
      "execution_count": 6,
      "outputs": [
        {
          "output_type": "execute_result",
          "data": {
            "text/plain": [
              "(array([4.2441624]), array([[2.92929637]]))"
            ]
          },
          "metadata": {},
          "execution_count": 6
        }
      ]
    },
    {
      "cell_type": "code",
      "source": [
        "lin_reg.predict(X_new)"
      ],
      "metadata": {
        "colab": {
          "base_uri": "https://localhost:8080/"
        },
        "id": "eQ6b9esh5GcF",
        "outputId": "02403826-2599-43a5-d0de-aaf968f7c0ac"
      },
      "execution_count": 7,
      "outputs": [
        {
          "output_type": "execute_result",
          "data": {
            "text/plain": [
              "array([[ 4.2441624 ],\n",
              "       [10.10275514]])"
            ]
          },
          "metadata": {},
          "execution_count": 7
        }
      ]
    },
    {
      "cell_type": "markdown",
      "source": [
        "LinearRegression 클래스는 scipy.linalg.lstsq() 함수를 기반으로 한다."
      ],
      "metadata": {
        "id": "Dqprdo205N7g"
      }
    },
    {
      "cell_type": "code",
      "source": [
        "theta_best_svd, residuals, rank, s =np.linalg.lstsq(X_b, y, rcond=1e-6)\n",
        "theta_best_svd"
      ],
      "metadata": {
        "colab": {
          "base_uri": "https://localhost:8080/"
        },
        "id": "q_uGDRRo5VPa",
        "outputId": "1bb77919-7d41-45d8-b6dc-c5392ed9e260"
      },
      "execution_count": 8,
      "outputs": [
        {
          "output_type": "execute_result",
          "data": {
            "text/plain": [
              "array([[4.2441624 ],\n",
              "       [2.92929637]])"
            ]
          },
          "metadata": {},
          "execution_count": 8
        }
      ]
    },
    {
      "cell_type": "markdown",
      "source": [
        "이 함수는 세타햇 = X^+ * y를 계산한다. X^+는 X의 유사역행렬."
      ],
      "metadata": {
        "id": "Q9_ipjSB5mfS"
      }
    },
    {
      "cell_type": "code",
      "source": [
        "#유사역행렬 구할 수 있다\n",
        "np.linalg.pinv(X_b).dot(y)"
      ],
      "metadata": {
        "colab": {
          "base_uri": "https://localhost:8080/"
        },
        "id": "u_JSysgP5vQe",
        "outputId": "2b8e7253-e842-4683-d5ef-ee9aa8b7d7f8"
      },
      "execution_count": 9,
      "outputs": [
        {
          "output_type": "execute_result",
          "data": {
            "text/plain": [
              "array([[4.2441624 ],\n",
              "       [2.92929637]])"
            ]
          },
          "metadata": {},
          "execution_count": 9
        }
      ]
    },
    {
      "cell_type": "markdown",
      "source": [
        "유사역행렬 자체는 특잇값 분해(SVD)라고 부르는 표준 행렬 분해 기법을 사용해 계산한다. 정규방정식보다 훨씬 효율적이고, 극단적인 경우도 처리할 수 있으며, 유사역행렬은 역행렬과 달리 항상 구할 수 있다."
      ],
      "metadata": {
        "id": "7l_XJtG950ek"
      }
    },
    {
      "cell_type": "markdown",
      "source": [
        "###4.1.2 계산 복잡도\n",
        "정규방정식은 (n+1)(n+1)크기가 되는 Xt*X의 역행렬을 계산한다. 역행렬을 계산하는 계산 복잡도는 특성 수가 두 배로 늘어나면 계산 시간이 대략 2^2.4=5.3에서 2^3=8배 증가한다. = (O(n^2.4)) 에서 O(n^3))\n",
        "\n",
        "사이킷런의 LinearRegression 클래스가 사용하는 SVD 방법은 약 O(n^2). 또한 학습된 선형 회귀 모델은 예측이 매우 빠르다.\n",
        "\n",
        "이제 아주 다른 방법으로 선형 회귀 모델을 훈련시켜보자. 이 방법은 특성이 매우 많고 훈련 샘플이 너무 많아 메모리에 모두 담을 수 없을 때 적합."
      ],
      "metadata": {
        "id": "Sq7g-Aoy6GEY"
      }
    },
    {
      "cell_type": "markdown",
      "source": [
        "##4.2 경사 하강법 (GD)\n",
        "반복해서 파라미터 조정하기. 가장 가파른 길을 따라 아래로 내려가기. 파라미터 벡터 세타에 대해 비용 함수의 현재 그래디언트를 계산해 그래디언트가 감소하는 방향으로 진행한다. 0이 되면 최솟값에 도달한 것.\n",
        "\n",
        "경사 하강법에서 중요한 파라미터는 스텝의 크기로, 학습률 파라미터로 결정된다. 너무 작으면 알고리즘이 수렴하기 위해 반복을 많이 진행해야 하므로 시간아 오래 걸린다. 하지만 너무 크면 골짜기를 가로질러 반대편으로 건너뛰게 되어 전보다 높은 곳으로 갈 지도 모른다.\n",
        "\n",
        "다양한 지형이 있으면 최솟값으로 수렴하기가 어렵다. 전역 최솟값이 아닌 지역 최솟값에 수렴하거나, 평탄한 지역을 지나지 못하고 일찍 멈추는 문제. 하지만 선형 회귀를 위한 MSE 비용 함수는 볼록 함수.\n",
        "\n",
        "비용 함수는 특성들의 스케일이 매우 다르면 길쭉한 모양일 수 있다. 결국 최솟값에 도달하긴 하지만 시간이 오래 걸릴 것. -> 경사 하강법 사용 시 모든 특성이 같은 스케일을 갖도록 StandardScaler 등 이용해주기. "
      ],
      "metadata": {
        "id": "gZQ2-ziF7Rlp"
      }
    },
    {
      "cell_type": "markdown",
      "source": [
        "###4.2.1 배치 경사 하강법\n",
        "경사 하강법을 구현하려면 각 모델 파라미터 세타j에 대해 비용 함수의 그래디언트를 계산해야 한다. 다시 말해, 세타j가 조금 변경될 때 비용 함수가 얼마나 바뀌는지 계산해야 한다. = 편도함수.\n",
        "\n",
        "이 공식은 매 경사 하강법 스텝에서 전체 훈련 세트 X에 대해 계산한다. 그래서 이 알고리즘을 배치 경사 하강법이라고 함. 따라서 큰 훈련 세트에서 느리다. 그러나 특성 수에 민감하지 않다.\n",
        "\n",
        "스텝 알고리즘을 간단히 구현해보자."
      ],
      "metadata": {
        "id": "rJkcV98e9EGc"
      }
    },
    {
      "cell_type": "code",
      "source": [
        "eta=0.1 #학습률\n",
        "n_iterations=100\n",
        "m=100\n",
        "\n",
        "theta=np.random.randn(2,1) #무작위 초기화\n",
        "\n",
        "for iteration in range(n_iterations):\n",
        "  gradients=2/m * X_b.T.dot(X_b.dot(theta)-y)\n",
        "  theta=theta-eta*gradients"
      ],
      "metadata": {
        "id": "6c96Cels-dNj"
      },
      "execution_count": 10,
      "outputs": []
    },
    {
      "cell_type": "code",
      "source": [
        "theta"
      ],
      "metadata": {
        "colab": {
          "base_uri": "https://localhost:8080/"
        },
        "id": "iSDhtULO-xRH",
        "outputId": "e4c61337-90ea-43fe-9bb2-7277d68fa467"
      },
      "execution_count": 11,
      "outputs": [
        {
          "output_type": "execute_result",
          "data": {
            "text/plain": [
              "array([[4.22998334],\n",
              "       [2.94064724]])"
            ]
          },
          "metadata": {},
          "execution_count": 11
        }
      ]
    },
    {
      "cell_type": "markdown",
      "source": [
        "정규방정식으로 구한 것과 같다. 경사 하강법이 완벽히 작동함.\n",
        "\n",
        "학습률을 바꿔보면? 너무 낮으면 시간이 오래 걸림. 너무 높으면 알고리즘이 이리저리 널뛰면서 발산함. 적절한 학습률을 찾으려면 반복 횟수를 제한한 그리드 탐색을 사용. 반복 횟수는 일단 크게 지정하고, 그래디언트 벡터가 아주 작아지면 경사 하강법이 거의 최솟값에 도달한 것으로 보고 중지하는 것."
      ],
      "metadata": {
        "id": "AF6WQ6Ap-zUh"
      }
    },
    {
      "cell_type": "markdown",
      "source": [
        "###4.2.2 확률적 경사 하강법\n",
        "배치 하강법은 훈련 세트가 커지면 느려질 것임. 확률적 경사 하강법은 매 스텝에서 한 개의 샘플을 무작위로 선택해 그 하나의 샘플에 대한 그래디언트를 계산한다. 훨씬 빠르고 매우 큰 훈련 세트도 훈련시킬 수 있다.\n",
        "\n",
        "그러나 확률적이기 때문에 배치 경사 하강법보다 불안정. 요동치며 수렴. 좋은 파라미터가 구해지긴 하지만 최적치는 아닐 것. 비용 함수가 불규칙하면 좋긴 함.\n",
        "\n",
        "무작위성은 지역 최솟값에서는 탈출시켜주지만 전역 최솟값에는 다다르지 못하게 할 수도 있음. 학습률을 점진적으로 감소시키면 해결 가능. 매 반복에서 학습률을 결정하는 함수 학습 스케줄 이용. "
      ],
      "metadata": {
        "id": "nxQkRjw2_ZFc"
      }
    },
    {
      "cell_type": "code",
      "source": [
        "n_epochs=50\n",
        "t0, t1=5, 50 #학습 스케줄 하이퍼 파라미터\n",
        "\n",
        "def learning_schedule(t):\n",
        "  return t0/(t+t1)\n",
        "\n",
        "theta = np.random.randn(2,1) #무작위 초기화\n",
        "\n",
        "for epoch in range(n_epochs):\n",
        "  for i in range(m):\n",
        "    random_index=np.random.randint(m)\n",
        "    xi=X_b[random_index:random_index+1]\n",
        "    yi=y[random_index:random_index+1]\n",
        "    gradients=2*xi.T.dot(xi.dot(theta)-yi)\n",
        "    eta=learning_schedule(epoch*m+i)\n",
        "    theta=theta-eta*gradients"
      ],
      "metadata": {
        "id": "hlkb8sCDAWE-"
      },
      "execution_count": 12,
      "outputs": []
    },
    {
      "cell_type": "code",
      "source": [
        "theta"
      ],
      "metadata": {
        "colab": {
          "base_uri": "https://localhost:8080/"
        },
        "id": "nFNHn7KaBJww",
        "outputId": "f1600bd7-ec5d-4622-ec76-5be4f9f7929a"
      },
      "execution_count": 13,
      "outputs": [
        {
          "output_type": "execute_result",
          "data": {
            "text/plain": [
              "array([[4.21909516],\n",
              "       [2.9177202 ]])"
            ]
          },
          "metadata": {},
          "execution_count": 13
        }
      ]
    },
    {
      "cell_type": "markdown",
      "source": [
        "일반적으로 한 반복에서 m번 되풀이, 이 각 반복을 에포크라고 함. 배치 경사 하강법이 전체 훈련 세트에 대해 1000번 반복하는 동안 이 코드는 50번만 반복하고도 매우 좋은 값에 도달함.\n",
        "\n",
        "샘플을 무작위로 선택하므로 어떤 샘플은 여러 번 선택될 수도 있고 어떤 샘플은 선택되지 못할 수도 있다. 알고리즘이 모든 샘플을 사용하게 하려면 훈련 세트를 섞은 후 차례대로 하나씩 선택한 후 다음 에포크에서 다시 섞는 방법을 사용할 수 있다. 조금 더 시간이 걸림.\n",
        "\n",
        "사이킷런에서 SGD 방식으로 선형 회귀를 사용해보자. 규제는 없이 돌려보자."
      ],
      "metadata": {
        "id": "VZfRKkOUBBvn"
      }
    },
    {
      "cell_type": "code",
      "source": [
        "from sklearn.linear_model import SGDRegressor\n",
        "sgd_reg=SGDRegressor(max_iter=1000, tol=1e-3, penalty=None, eta0=0.1)\n",
        "sgd_reg.fit(X, y.ravel())"
      ],
      "metadata": {
        "colab": {
          "base_uri": "https://localhost:8080/",
          "height": 74
        },
        "id": "iuQJ8xmhCFjo",
        "outputId": "4309bbd3-9178-492b-a6f2-0c4cb011e0a8"
      },
      "execution_count": 14,
      "outputs": [
        {
          "output_type": "execute_result",
          "data": {
            "text/plain": [
              "SGDRegressor(eta0=0.1, penalty=None)"
            ],
            "text/html": [
              "<style>#sk-container-id-1 {color: black;background-color: white;}#sk-container-id-1 pre{padding: 0;}#sk-container-id-1 div.sk-toggleable {background-color: white;}#sk-container-id-1 label.sk-toggleable__label {cursor: pointer;display: block;width: 100%;margin-bottom: 0;padding: 0.3em;box-sizing: border-box;text-align: center;}#sk-container-id-1 label.sk-toggleable__label-arrow:before {content: \"▸\";float: left;margin-right: 0.25em;color: #696969;}#sk-container-id-1 label.sk-toggleable__label-arrow:hover:before {color: black;}#sk-container-id-1 div.sk-estimator:hover label.sk-toggleable__label-arrow:before {color: black;}#sk-container-id-1 div.sk-toggleable__content {max-height: 0;max-width: 0;overflow: hidden;text-align: left;background-color: #f0f8ff;}#sk-container-id-1 div.sk-toggleable__content pre {margin: 0.2em;color: black;border-radius: 0.25em;background-color: #f0f8ff;}#sk-container-id-1 input.sk-toggleable__control:checked~div.sk-toggleable__content {max-height: 200px;max-width: 100%;overflow: auto;}#sk-container-id-1 input.sk-toggleable__control:checked~label.sk-toggleable__label-arrow:before {content: \"▾\";}#sk-container-id-1 div.sk-estimator input.sk-toggleable__control:checked~label.sk-toggleable__label {background-color: #d4ebff;}#sk-container-id-1 div.sk-label input.sk-toggleable__control:checked~label.sk-toggleable__label {background-color: #d4ebff;}#sk-container-id-1 input.sk-hidden--visually {border: 0;clip: rect(1px 1px 1px 1px);clip: rect(1px, 1px, 1px, 1px);height: 1px;margin: -1px;overflow: hidden;padding: 0;position: absolute;width: 1px;}#sk-container-id-1 div.sk-estimator {font-family: monospace;background-color: #f0f8ff;border: 1px dotted black;border-radius: 0.25em;box-sizing: border-box;margin-bottom: 0.5em;}#sk-container-id-1 div.sk-estimator:hover {background-color: #d4ebff;}#sk-container-id-1 div.sk-parallel-item::after {content: \"\";width: 100%;border-bottom: 1px solid gray;flex-grow: 1;}#sk-container-id-1 div.sk-label:hover label.sk-toggleable__label {background-color: #d4ebff;}#sk-container-id-1 div.sk-serial::before {content: \"\";position: absolute;border-left: 1px solid gray;box-sizing: border-box;top: 0;bottom: 0;left: 50%;z-index: 0;}#sk-container-id-1 div.sk-serial {display: flex;flex-direction: column;align-items: center;background-color: white;padding-right: 0.2em;padding-left: 0.2em;position: relative;}#sk-container-id-1 div.sk-item {position: relative;z-index: 1;}#sk-container-id-1 div.sk-parallel {display: flex;align-items: stretch;justify-content: center;background-color: white;position: relative;}#sk-container-id-1 div.sk-item::before, #sk-container-id-1 div.sk-parallel-item::before {content: \"\";position: absolute;border-left: 1px solid gray;box-sizing: border-box;top: 0;bottom: 0;left: 50%;z-index: -1;}#sk-container-id-1 div.sk-parallel-item {display: flex;flex-direction: column;z-index: 1;position: relative;background-color: white;}#sk-container-id-1 div.sk-parallel-item:first-child::after {align-self: flex-end;width: 50%;}#sk-container-id-1 div.sk-parallel-item:last-child::after {align-self: flex-start;width: 50%;}#sk-container-id-1 div.sk-parallel-item:only-child::after {width: 0;}#sk-container-id-1 div.sk-dashed-wrapped {border: 1px dashed gray;margin: 0 0.4em 0.5em 0.4em;box-sizing: border-box;padding-bottom: 0.4em;background-color: white;}#sk-container-id-1 div.sk-label label {font-family: monospace;font-weight: bold;display: inline-block;line-height: 1.2em;}#sk-container-id-1 div.sk-label-container {text-align: center;}#sk-container-id-1 div.sk-container {/* jupyter's `normalize.less` sets `[hidden] { display: none; }` but bootstrap.min.css set `[hidden] { display: none !important; }` so we also need the `!important` here to be able to override the default hidden behavior on the sphinx rendered scikit-learn.org. See: https://github.com/scikit-learn/scikit-learn/issues/21755 */display: inline-block !important;position: relative;}#sk-container-id-1 div.sk-text-repr-fallback {display: none;}</style><div id=\"sk-container-id-1\" class=\"sk-top-container\"><div class=\"sk-text-repr-fallback\"><pre>SGDRegressor(eta0=0.1, penalty=None)</pre><b>In a Jupyter environment, please rerun this cell to show the HTML representation or trust the notebook. <br />On GitHub, the HTML representation is unable to render, please try loading this page with nbviewer.org.</b></div><div class=\"sk-container\" hidden><div class=\"sk-item\"><div class=\"sk-estimator sk-toggleable\"><input class=\"sk-toggleable__control sk-hidden--visually\" id=\"sk-estimator-id-1\" type=\"checkbox\" checked><label for=\"sk-estimator-id-1\" class=\"sk-toggleable__label sk-toggleable__label-arrow\">SGDRegressor</label><div class=\"sk-toggleable__content\"><pre>SGDRegressor(eta0=0.1, penalty=None)</pre></div></div></div></div></div>"
            ]
          },
          "metadata": {},
          "execution_count": 14
        }
      ]
    },
    {
      "cell_type": "code",
      "source": [
        "sgd_reg.intercept_, sgd_reg.coef_"
      ],
      "metadata": {
        "colab": {
          "base_uri": "https://localhost:8080/"
        },
        "id": "PuqFgfkzCT1x",
        "outputId": "1679ecf7-ad4e-4f25-e139-33f8b2bde173"
      },
      "execution_count": 15,
      "outputs": [
        {
          "output_type": "execute_result",
          "data": {
            "text/plain": [
              "(array([4.20544219]), array([2.91082737]))"
            ]
          },
          "metadata": {},
          "execution_count": 15
        }
      ]
    },
    {
      "cell_type": "markdown",
      "source": [
        "###4.2.3 미니배치 경사 하강법\n",
        "각 스텝에서 미니배치라 부르는 임의의 작은 샘플 세트에 대해 그래디언트를 계산한다. 미니배치를 어느 정도 크게 하면 SGD보다 덜 불규칙하게 움직일 수 있다. 하지만 지역 최솟값에서 빠져나오기는 더 힘들지도 모른다."
      ],
      "metadata": {
        "id": "OfKxi3sTD77l"
      }
    },
    {
      "cell_type": "markdown",
      "source": [
        "##4.3 다항 회귀\n",
        "데이터가 단순 직선보다 복잡한 형태라면? 신기하게도 비선형 데이터를 학습하는 데 선형 모델을 사용할 수 있다. 각 특성의 거듭제곱을 새로운 특성으로 추가하고, 이 확장된 특성을 포함한 데이터셋에 선형 모델을 훈련시키는 것. = 다항 회귀\n",
        "\n",
        "간단한 2차 방정식으로 비선형 데이터를 생성해보자."
      ],
      "metadata": {
        "id": "lr5fRT-QEelX"
      }
    },
    {
      "cell_type": "code",
      "source": [
        "m=100\n",
        "X=6*np.random.rand(m, 1)-3\n",
        "y=0.5*X**2+X+2+np.random.randn(m,1)"
      ],
      "metadata": {
        "id": "uK2_r86bJdiU"
      },
      "execution_count": 16,
      "outputs": []
    },
    {
      "cell_type": "markdown",
      "source": [
        "직선은 잘 맞지 않을테니 훈련 데이터를 변환시켜보자. 훈련 세트의 각 특성을 제곱하여 새로운 특성으로 추가."
      ],
      "metadata": {
        "id": "dkbzjw_SJrK2"
      }
    },
    {
      "cell_type": "code",
      "source": [
        "from sklearn.preprocessing import PolynomialFeatures\n",
        "poly_features=PolynomialFeatures(degree=2, include_bias=False)\n",
        "X_poly=poly_features.fit_transform(X)\n",
        "X[0]"
      ],
      "metadata": {
        "colab": {
          "base_uri": "https://localhost:8080/"
        },
        "id": "IN7eFmpxJ1Hh",
        "outputId": "da3adb78-7e85-4044-ed76-444b8f9f4a31"
      },
      "execution_count": 17,
      "outputs": [
        {
          "output_type": "execute_result",
          "data": {
            "text/plain": [
              "array([1.88662551])"
            ]
          },
          "metadata": {},
          "execution_count": 17
        }
      ]
    },
    {
      "cell_type": "code",
      "source": [
        "X_poly[0]"
      ],
      "metadata": {
        "colab": {
          "base_uri": "https://localhost:8080/"
        },
        "id": "n-ehJbc1KCzM",
        "outputId": "7ba41aca-3322-411d-bb9d-353e9fdda47a"
      },
      "execution_count": 18,
      "outputs": [
        {
          "output_type": "execute_result",
          "data": {
            "text/plain": [
              "array([1.88662551, 3.55935583])"
            ]
          },
          "metadata": {},
          "execution_count": 18
        }
      ]
    },
    {
      "cell_type": "code",
      "source": [
        "#이 확장된 훈련 데이터에 linear regression 적용\n",
        "lin_reg=LinearRegression()\n",
        "lin_reg.fit(X_poly, y)\n",
        "lin_reg.intercept_, lin_reg.coef_"
      ],
      "metadata": {
        "colab": {
          "base_uri": "https://localhost:8080/"
        },
        "id": "yHjJEXziKGTo",
        "outputId": "7e19003f-0ecf-432a-cc1e-ba6cb4fda973"
      },
      "execution_count": 19,
      "outputs": [
        {
          "output_type": "execute_result",
          "data": {
            "text/plain": [
              "(array([2.11443555]), array([[1.03044901, 0.48324787]]))"
            ]
          },
          "metadata": {},
          "execution_count": 19
        }
      ]
    },
    {
      "cell_type": "markdown",
      "source": [
        "원래 함수가 y=0.5x1^2 + 1.0x1 + 2.0 + 잡음 이므로 예측이 나쁘지 않음.\n",
        "\n",
        "특성이 여러개일 경우 다항 회귀는 이 특성 사이의 관계를 찾을 수 있다."
      ],
      "metadata": {
        "id": "YMEPWu8PKUdN"
      }
    },
    {
      "cell_type": "markdown",
      "source": [
        "##4.4 학습 곡선\n",
        "고차 다항 회귀를 적용하면 선형 회귀보다 훨씬 훈련 데이터에 잘 맞추려 할 것. 얼마나 복잡한 모델을 사용할 지 어떻게 결정할까? 어떻게 모델이 데이터에 과대적합 또는 과소적합 되었는지 알 수 있을까?\n",
        "\n",
        "전에는 모델의 일반화 성능을 추정하기 위해 교차 검증을 사용했다. 훈련 데이터에서 성능이 좋지만 교차 검증 점수가 나쁘다면 모델이 과대적합된 것. -> 모델이 복잡하다.\n",
        "\n",
        "다른 방법은 학습 곡선을 살펴보는 것. 훈련 세트와 검증 세트의 모델 성능을 훈련 세트 크기의 함수로 나타낸다. 이 그래프를 생성하기 위해서는 단순히 훈련 세트에서 크기가 다른 서브 세트를 만들어 모델을 여러 번 훈련시키면 된다."
      ],
      "metadata": {
        "id": "AjTMzsw7KmfE"
      }
    },
    {
      "cell_type": "code",
      "source": [
        "#방법을 정의해보자\n",
        "from sklearn.metrics import mean_squared_error\n",
        "from sklearn.model_selection import train_test_split\n",
        "\n",
        "def plot_learning_curves(model, X, y):\n",
        "  X_train, X_val, y_train, y_val=train_test_split(X, y, test_size=0.2)\n",
        "  train_errors, val_errors=[], []\n",
        "  for m in range(1, len(X_train)):\n",
        "    model.fit(X_train[:m], y_train[:m])\n",
        "    y_train_predict=model.predict(X_train[:m])\n",
        "    y_val_predict=model.predict(X_val)\n",
        "    train_errors.append(mean_squared_error(y_train[:m], y_train_predict))\n",
        "    val_errors.append(mean_squared_error(y_val, y_val_predict))\n",
        "  plt.plot(np.sqrt(train_errors), 'r-+', linewidth=2, label='훈련 세트')\n",
        "  plt.plot(np.sqrt(val_errors), 'b-', linewidth=3, label='검증 세트')"
      ],
      "metadata": {
        "id": "Fq96BmSM_skK"
      },
      "execution_count": 20,
      "outputs": []
    },
    {
      "cell_type": "code",
      "source": [
        "#단순 선형 회귀 모델의 학습 곡선\n",
        "lin_reg=LinearRegression()\n",
        "plot_learning_curves(lin_reg, X, y)"
      ],
      "metadata": {
        "colab": {
          "base_uri": "https://localhost:8080/",
          "height": 265
        },
        "id": "UZXVKRb9A9Lg",
        "outputId": "836dd48e-162b-4aa4-cdba-c62825676a27"
      },
      "execution_count": 21,
      "outputs": [
        {
          "output_type": "display_data",
          "data": {
            "text/plain": [
              "<Figure size 432x288 with 1 Axes>"
            ],
            "image/png": "[encoded data removed]"
          },
          "metadata": {
            "needs_background": "light"
          }
        }
      ]
    },
    {
      "cell_type": "markdown",
      "source": [
        "과소적합 되었다. 조금 설명이 필요하다. 그래프가 0에서 시작하므로 훈련 세트에 하나 혹은 두개의 샘플이 있을 땐 모델이 완벽하게 작동하지만, 훈련 세트에 샘플이 추가되면 잡음도 있고 비선형이기 때문에 모델이 훈련 데이터를 완벽히 학습하는 것이 불가능해진다. 그래서 곡선이 어느정도 평평해질 때까지 오차가 계속 상승한다. 검증 데이터에 대한 모델의 성능을 보면 모델이 적은 수의 훈련 샘플로 훈련될 때는 제대로 일반화할 수 없어서 검증 오차가 초기에 매우 크다. 모델에 훈련 샘플이 추가되면서 검증 오차가 서서히 감소한다. 하지만 선현 회귀의 직선은 데이터를 잘 모델링 할 수 없으므로 오차의 감소가 완만해져서 훈련 세트의 그래프와 가까워진다.\n",
        "\n",
        "과소적합 모델의 전형적인 모습. **두 곡선이 수평한 구간을 만들고 꽤 높은 오차에서 가까이 근접**해 있다.\n",
        "\n",
        "같은 데이터에서 10차 다항 회귀 모델의 학습 곡선을 그려보자."
      ],
      "metadata": {
        "id": "poONILCmBGhZ"
      }
    },
    {
      "cell_type": "code",
      "source": [
        "from sklearn.pipeline import Pipeline\n",
        "\n",
        "polynomial_regression=Pipeline([('poly_features', PolynomialFeatures(degree=10, include_bias=False)), ('lin_reg', LinearRegression())])\n",
        "plot_learning_curves(polynomial_regression, X, y)"
      ],
      "metadata": {
        "colab": {
          "base_uri": "https://localhost:8080/",
          "height": 265
        },
        "id": "EKLuw1pTB2jF",
        "outputId": "c825be67-d19c-445f-ff4e-480f8926a7c6"
      },
      "execution_count": 22,
      "outputs": [
        {
          "output_type": "display_data",
          "data": {
            "text/plain": [
              "<Figure size 432x288 with 1 Axes>"
            ],
            "image/png": "[encoded data removed]"
          },
          "metadata": {
            "needs_background": "light"
          }
        }
      ]
    },
    {
      "cell_type": "markdown",
      "source": [
        "두 그래프의 차이점\n",
        "* 보통 고차원 모델의 훈련 데이터의 오차가 선형 회귀 모델보다 훨씬 낮다\n",
        "* 두 곡선 사이의 공간. 훈련 데이터에서의 모델 성능이 검증 데이터보다 낫다는 뜻이고, 과대적합 모델의 특징이다."
      ],
      "metadata": {
        "id": "Ws8V-LOcCpBT"
      }
    },
    {
      "cell_type": "markdown",
      "source": [
        "##4.5 규제가 있는 선형 모델\n",
        "과대적합을 감소시키는 좋은 방법은 모델을 규제하는 것. 자유도를 줄이면 데이터에 과대적합되기 더 어려워진다. 다항 회귀 모델을 규제하는 간단한 방법은 다항식의 차수를 감소시키는 것.\n",
        "\n",
        "선형 회귀 모델에서는 보통 모델의 가중치를 제한하며 규제를 가한다. 릿지, 라쏘, 엘라스틱넷을 살펴보자."
      ],
      "metadata": {
        "id": "KiRrJfL_DHHa"
      }
    },
    {
      "cell_type": "markdown",
      "source": [
        "###4.5.1 릿지 회귀\n",
        "훈련하는 동안 규제항이 비용 함수에 추가된다. 학습 알고리즘을 데이터에 맞추는 것뿐만 아니라 모델의 가중치가 가능한 한 작게 유지되도록 노력한다. 성능 평가는 규제가 없는 성능 지표로 평가한다. 하이퍼파라미터 알파로 모델을 얼마나 많이 규제할지 조절한다. 알파를 증가시킬수록 직선에 가까워지는데, 모델의 분산은 줄지만 편향은 커지는 것이다.\n",
        "\n",
        "릿지 회귀는 입력 특성의 스케일에 민감하므로 수행 전에 데이터의 스케일을 맞춰주도록 한다.\n",
        "\n",
        "선형 회귀와 마찬가지로 릿지 회귀를 계산하기 위해 정규방정식을 사용할 수도 있고 경사하강법을 사용할 수도 있다.\n",
        "\n",
        "사이킷런에서 정규방정식을 사용한 릿지 회귀를 적용하는 예시를 살펴보자."
      ],
      "metadata": {
        "id": "xaN4XMP3Daa9"
      }
    },
    {
      "cell_type": "code",
      "source": [
        "from sklearn.linear_model import Ridge\n",
        "ridge_reg=Ridge(alpha=1, solver='cholesky')\n",
        "ridge_reg.fit(X, y)\n",
        "ridge_reg.predict([[1.5]])"
      ],
      "metadata": {
        "colab": {
          "base_uri": "https://localhost:8080/"
        },
        "id": "zXiX-Vq-2SY7",
        "outputId": "0c8f52ce-7f05-4619-fe26-5cff044c4349"
      },
      "execution_count": 23,
      "outputs": [
        {
          "output_type": "execute_result",
          "data": {
            "text/plain": [
              "array([[4.72556641]])"
            ]
          },
          "metadata": {},
          "execution_count": 23
        }
      ]
    },
    {
      "cell_type": "markdown",
      "source": [
        "이번에는 확률적 경사 하강법을 사용해보자."
      ],
      "metadata": {
        "id": "GfO6uDyN2f76"
      }
    },
    {
      "cell_type": "code",
      "source": [
        "sgd_reg=SGDRegressor(penalty='l2')\n",
        "sgd_reg.fit(X, y.ravel())\n",
        "sgd_reg.predict([[1.5]])"
      ],
      "metadata": {
        "colab": {
          "base_uri": "https://localhost:8080/"
        },
        "id": "TKfjg66-2jBs",
        "outputId": "2ab4563e-b237-4313-d5cc-9700c93f2590"
      },
      "execution_count": 24,
      "outputs": [
        {
          "output_type": "execute_result",
          "data": {
            "text/plain": [
              "array([4.69612532])"
            ]
          },
          "metadata": {},
          "execution_count": 24
        }
      ]
    },
    {
      "cell_type": "markdown",
      "source": [
        "###4.5.2 라쏘 회귀\n",
        "릿지처럼 규제항을 더하지만 다른 규제를 더함.\n",
        "\n",
        "라쏘의 중요한 특징은 덜 중요한 특성의 가중치를 제거하려고 한다는 것. 자동으로 특성을 선택하여 희소 모델을 만든다. l1 페널티와 l2 페널티의 차이.\n",
        "\n",
        "라쏘의 비용 함수는 미분 가능하지 않다. 하지만 서브그래디언트 벡터를 사용하면 경사 하강법을 적용할 수 있다.\n",
        "\n",
        "라쏘를 이용한 사이킷런 예시를 보자."
      ],
      "metadata": {
        "id": "ToPGOGki2tx3"
      }
    },
    {
      "cell_type": "code",
      "source": [
        "from sklearn.linear_model import Lasso\n",
        "lasso_reg=Lasso(alpha=0.1)\n",
        "lasso_reg.fit(X, y)\n",
        "lasso_reg.predict([[1.5]])"
      ],
      "metadata": {
        "colab": {
          "base_uri": "https://localhost:8080/"
        },
        "id": "nOW_BOD23Vaq",
        "outputId": "b6dc215d-595a-4e5b-be19-55acc7f4c088"
      },
      "execution_count": 25,
      "outputs": [
        {
          "output_type": "execute_result",
          "data": {
            "text/plain": [
              "array([4.66567564])"
            ]
          },
          "metadata": {},
          "execution_count": 25
        }
      ]
    },
    {
      "cell_type": "markdown",
      "source": [
        "경사 하강법 적용해보자."
      ],
      "metadata": {
        "id": "oJpqWGbb3gH9"
      }
    },
    {
      "cell_type": "code",
      "source": [
        "sgd_reg=SGDRegressor(penalty='l1')\n",
        "sgd_reg.fit(X, y.ravel())\n",
        "sgd_reg.predict([[1.5]])"
      ],
      "metadata": {
        "colab": {
          "base_uri": "https://localhost:8080/"
        },
        "id": "6CQjwcBr3jFT",
        "outputId": "9d9cdb8d-6266-49ce-bc03-c777457fd68d"
      },
      "execution_count": 26,
      "outputs": [
        {
          "output_type": "execute_result",
          "data": {
            "text/plain": [
              "array([4.68271337])"
            ]
          },
          "metadata": {},
          "execution_count": 26
        }
      ]
    },
    {
      "cell_type": "markdown",
      "source": [
        "###4.5.3. 엘라스틱넷\n",
        "릿지와 라쏘를 절충한 모델. 릿지와 라쏘의 규제항을 단순히 더해서 사용하며 혼합 비율 r을 이용해 혼합 정도를 조절한다.\n",
        "\n",
        "선형회귀, 릿지, 라쏘, 엘라스틱넷을 언제 사용해야 할까? 적어도 약간의 규제가 있는 것이 좋으므로 선형 회귀는 피하고, 릿지가 기본이 되지만 쓰이는 특성이 몇개 뿐이라고 생각하면 라쏘나 엘라스틱넷을 사용한다.\n",
        "\n",
        "엘라스틱넷의 예시를 보자."
      ],
      "metadata": {
        "id": "17kavjrh3qVF"
      }
    },
    {
      "cell_type": "code",
      "source": [
        "from sklearn.linear_model import ElasticNet\n",
        "elastic_net=ElasticNet(alpha=0.1, l1_ratio=0.5)\n",
        "elastic_net.fit(X, y)\n",
        "elastic_net.predict([[1.5]])"
      ],
      "metadata": {
        "colab": {
          "base_uri": "https://localhost:8080/"
        },
        "id": "5AW8kEyu4WLP",
        "outputId": "21fd048e-9a0a-40d2-8782-fb727ef8b45a"
      },
      "execution_count": 27,
      "outputs": [
        {
          "output_type": "execute_result",
          "data": {
            "text/plain": [
              "array([4.67231623])"
            ]
          },
          "metadata": {},
          "execution_count": 27
        }
      ]
    },
    {
      "cell_type": "markdown",
      "source": [
        "###4.5.4 조기 종료\n",
        "색다른 규제 방법은 검증 에러가 최솟값에 도달하면 바로 훈련을 중지시키는 것. 과대적합이 시작되는 것을 막을 수 있다.\n",
        "\n",
        "기본 구현 코드를 보자."
      ],
      "metadata": {
        "id": "Hxz4zZzP4iUo"
      }
    },
    {
      "cell_type": "code",
      "source": [
        "from sklearn.base import clone\n",
        "from sklearn.preprocessing import StandardScaler\n",
        "\n",
        "X_train, X_val, y_train, y_val=train_test_split(X, y, test_size=0.2)\n",
        "\n",
        "#데이터 준비\n",
        "poly_scaler=Pipeline([\n",
        "    ('poly_features', PolynomialFeatures(degree=90, include_bias=False)),\n",
        "    ('std_scaler', StandardScaler())\n",
        "])\n",
        "X_train_poly_scaled=poly_scaler.fit_transform(X_train)\n",
        "X_val_poly_scaled=poly_scaler.transform(X_val)\n",
        "\n",
        "sgd_reg=SGDRegressor(max_iter=1, tol=-np.inf, warm_start=True, penalty=None, learning_rate='constant', eta0=0.0005)\n",
        "#warm_start=True면 fit()메서드가 호출될 때 처음부터 다시 시작하지 않고 이전 모델 파라미터에서 훈련을 이어간다.\n",
        "\n",
        "minimum_val_error=float('inf')\n",
        "best_epoch=None\n",
        "best_model=None\n",
        "for epoch in range(1000):\n",
        "  sgd_reg.fit(X_train_poly_scaled, y_train) #훈련을 이어서 진행한다\n",
        "  y_val_predict=sgd_reg.predict(X_val_poly_scaled)\n",
        "  val_error=mean_squared_error(y_val, y_val_predict)\n",
        "  if val_error<minimum_val_error:\n",
        "    minimum_val_error=val_error\n",
        "    best_epoch=epoch\n",
        "    best_model=clone(sgd_reg)"
      ],
      "metadata": {
        "colab": {
          "base_uri": "https://localhost:8080/",
          "height": 396
        },
        "id": "mhcIHUYz46cd",
        "outputId": "dd3ea9ed-4767-42f4-b46d-1bdec8c2ec5b"
      },
      "execution_count": 31,
      "outputs": [
        {
          "output_type": "error",
          "ename": "InvalidParameterError",
          "evalue": "ignored",
          "traceback": [
            "\u001b[0;31m---------------------------------------------------------------------------\u001b[0m",
            "\u001b[0;31mInvalidParameterError\u001b[0m                     Traceback (most recent call last)",
            "\u001b[0;32m<ipython-input-31-2c1171c61886>\u001b[0m in \u001b[0;36m<module>\u001b[0;34m\u001b[0m\n\u001b[1;32m     19\u001b[0m \u001b[0mbest_model\u001b[0m\u001b[0;34m=\u001b[0m\u001b[0;32mNone\u001b[0m\u001b[0;34m\u001b[0m\u001b[0;34m\u001b[0m\u001b[0m\n\u001b[1;32m     20\u001b[0m \u001b[0;32mfor\u001b[0m \u001b[0mepoch\u001b[0m \u001b[0;32min\u001b[0m \u001b[0mrange\u001b[0m\u001b[0;34m(\u001b[0m\u001b[0;36m1000\u001b[0m\u001b[0;34m)\u001b[0m\u001b[0;34m:\u001b[0m\u001b[0;34m\u001b[0m\u001b[0;34m\u001b[0m\u001b[0m\n\u001b[0;32m---> 21\u001b[0;31m   \u001b[0msgd_reg\u001b[0m\u001b[0;34m.\u001b[0m\u001b[0mfit\u001b[0m\u001b[0;34m(\u001b[0m\u001b[0mX_train_poly_scaled\u001b[0m\u001b[0;34m,\u001b[0m \u001b[0my_train\u001b[0m\u001b[0;34m)\u001b[0m \u001b[0;31m#훈련을 이어서 진행한다\u001b[0m\u001b[0;34m\u001b[0m\u001b[0;34m\u001b[0m\u001b[0m\n\u001b[0m\u001b[1;32m     22\u001b[0m   \u001b[0my_val_predict\u001b[0m\u001b[0;34m=\u001b[0m\u001b[0msgd_reg\u001b[0m\u001b[0;34m.\u001b[0m\u001b[0mpredict\u001b[0m\u001b[0;34m(\u001b[0m\u001b[0mX_val_poly_scaled\u001b[0m\u001b[0;34m)\u001b[0m\u001b[0;34m\u001b[0m\u001b[0;34m\u001b[0m\u001b[0m\n\u001b[1;32m     23\u001b[0m   \u001b[0mval_error\u001b[0m\u001b[0;34m=\u001b[0m\u001b[0mmean_squared_error\u001b[0m\u001b[0;34m(\u001b[0m\u001b[0my_val\u001b[0m\u001b[0;34m,\u001b[0m \u001b[0my_val_predict\u001b[0m\u001b[0;34m)\u001b[0m\u001b[0;34m\u001b[0m\u001b[0;34m\u001b[0m\u001b[0m\n",
            "\u001b[0;32m/usr/local/lib/python3.9/dist-packages/sklearn/linear_model/_stochastic_gradient.py\u001b[0m in \u001b[0;36mfit\u001b[0;34m(self, X, y, coef_init, intercept_init, sample_weight)\u001b[0m\n\u001b[1;32m   1580\u001b[0m             \u001b[0mFitted\u001b[0m\u001b[0;31m \u001b[0m\u001b[0;31m`\u001b[0m\u001b[0mSGDRegressor\u001b[0m\u001b[0;31m`\u001b[0m \u001b[0mestimator\u001b[0m\u001b[0;34m.\u001b[0m\u001b[0;34m\u001b[0m\u001b[0;34m\u001b[0m\u001b[0m\n\u001b[1;32m   1581\u001b[0m         \"\"\"\n\u001b[0;32m-> 1582\u001b[0;31m         \u001b[0mself\u001b[0m\u001b[0;34m.\u001b[0m\u001b[0m_validate_params\u001b[0m\u001b[0;34m(\u001b[0m\u001b[0;34m)\u001b[0m\u001b[0;34m\u001b[0m\u001b[0;34m\u001b[0m\u001b[0m\n\u001b[0m\u001b[1;32m   1583\u001b[0m         \u001b[0mself\u001b[0m\u001b[0;34m.\u001b[0m\u001b[0m_more_validate_params\u001b[0m\u001b[0;34m(\u001b[0m\u001b[0;34m)\u001b[0m\u001b[0;34m\u001b[0m\u001b[0;34m\u001b[0m\u001b[0m\n\u001b[1;32m   1584\u001b[0m \u001b[0;34m\u001b[0m\u001b[0m\n",
            "\u001b[0;32m/usr/local/lib/python3.9/dist-packages/sklearn/base.py\u001b[0m in \u001b[0;36m_validate_params\u001b[0;34m(self)\u001b[0m\n\u001b[1;32m    598\u001b[0m         \u001b[0maccepted\u001b[0m \u001b[0mconstraints\u001b[0m\u001b[0;34m.\u001b[0m\u001b[0;34m\u001b[0m\u001b[0;34m\u001b[0m\u001b[0m\n\u001b[1;32m    599\u001b[0m         \"\"\"\n\u001b[0;32m--> 600\u001b[0;31m         validate_parameter_constraints(\n\u001b[0m\u001b[1;32m    601\u001b[0m             \u001b[0mself\u001b[0m\u001b[0;34m.\u001b[0m\u001b[0m_parameter_constraints\u001b[0m\u001b[0;34m,\u001b[0m\u001b[0;34m\u001b[0m\u001b[0;34m\u001b[0m\u001b[0m\n\u001b[1;32m    602\u001b[0m             \u001b[0mself\u001b[0m\u001b[0;34m.\u001b[0m\u001b[0mget_params\u001b[0m\u001b[0;34m(\u001b[0m\u001b[0mdeep\u001b[0m\u001b[0;34m=\u001b[0m\u001b[0;32mFalse\u001b[0m\u001b[0;34m)\u001b[0m\u001b[0;34m,\u001b[0m\u001b[0;34m\u001b[0m\u001b[0;34m\u001b[0m\u001b[0m\n",
            "\u001b[0;32m/usr/local/lib/python3.9/dist-packages/sklearn/utils/_param_validation.py\u001b[0m in \u001b[0;36mvalidate_parameter_constraints\u001b[0;34m(parameter_constraints, params, caller_name)\u001b[0m\n\u001b[1;32m     95\u001b[0m                 )\n\u001b[1;32m     96\u001b[0m \u001b[0;34m\u001b[0m\u001b[0m\n\u001b[0;32m---> 97\u001b[0;31m             raise InvalidParameterError(\n\u001b[0m\u001b[1;32m     98\u001b[0m                 \u001b[0;34mf\"The {param_name!r} parameter of {caller_name} must be\"\u001b[0m\u001b[0;34m\u001b[0m\u001b[0;34m\u001b[0m\u001b[0m\n\u001b[1;32m     99\u001b[0m                 \u001b[0;34mf\" {constraints_str}. Got {param_val!r} instead.\"\u001b[0m\u001b[0;34m\u001b[0m\u001b[0;34m\u001b[0m\u001b[0m\n",
            "\u001b[0;31mInvalidParameterError\u001b[0m: The 'tol' parameter of SGDRegressor must be a float in the range [0, inf) or None. Got -inf instead."
          ]
        }
      ]
    },
    {
      "cell_type": "markdown",
      "source": [
        "##4.6 로지스틱 회귀\n",
        "어떤 회귀 알고리즘은 분류에서도 사용할 수 있다. 로지스틱 회귀는 샘플이 특정 클래스에 속할 확률을 추정하는데 널리 사용된다. 양성 클래스와 음성 클래스의 이진 분류기 역할."
      ],
      "metadata": {
        "id": "F8Jj961t54-7"
      }
    },
    {
      "cell_type": "markdown",
      "source": [
        "###4.6.1 확률 추정\n",
        "로지스틱 회귀는 어떻게 작동하는가?? 선형 회귀 모델과 같이 로지스틱 회귀는 입력 특성의 가중치 합을 계산하고 편향을 더한다. 대신 선형 회귀처럼 바로 결과를 출력하지 않고 결과값의 로지스틱을 출력한다. S자 형태 시그모이드 함수. "
      ],
      "metadata": {
        "id": "KWSs_M_Z8LD-"
      }
    },
    {
      "cell_type": "markdown",
      "source": [
        "###4.6.2 훈련과 비용 함수\n",
        "어떻게 훈련시킬까? 훈련 목적은 양성 샘플에 대해서는 높은 확률을 추정하고 음성 샘플에 대해서는 낮은 확률을 추정하는 모델의 파라미터 벡터를 찾는 것.\n",
        "\n",
        "로지스틱 회귀의 비용 함수는 최솟값을 계산하는 알려진 해가 없다. 정규방정식 같은 것이 없음. 하지만 경사하강법을 적용 가능."
      ],
      "metadata": {
        "id": "o24-i3P59GX0"
      }
    },
    {
      "cell_type": "markdown",
      "source": [
        "###4.6.3 결정 경계\n",
        "붓꽃 데이터 분류기 예시를 보자."
      ],
      "metadata": {
        "id": "X7vPdDtl9iWB"
      }
    },
    {
      "cell_type": "code",
      "source": [
        "from sklearn import datasets\n",
        "iris=datasets.load_iris()\n",
        "list(iris.keys())"
      ],
      "metadata": {
        "colab": {
          "base_uri": "https://localhost:8080/"
        },
        "id": "pZfWfiZq9nqn",
        "outputId": "3bb3ed74-5598-4886-f5f0-a6c7fc90c214"
      },
      "execution_count": 32,
      "outputs": [
        {
          "output_type": "execute_result",
          "data": {
            "text/plain": [
              "['data',\n",
              " 'target',\n",
              " 'frame',\n",
              " 'target_names',\n",
              " 'DESCR',\n",
              " 'feature_names',\n",
              " 'filename',\n",
              " 'data_module']"
            ]
          },
          "metadata": {},
          "execution_count": 32
        }
      ]
    },
    {
      "cell_type": "code",
      "source": [
        "X=iris['data'][:, 3:] #꽃잎의 너비\n",
        "y=(iris['target']==2).astype(np.int) #1 Iris-Virginica면 1, 아니면 0"
      ],
      "metadata": {
        "colab": {
          "base_uri": "https://localhost:8080/"
        },
        "id": "KN_xG9lJ9ugh",
        "outputId": "7bcf5b19-668c-4fe6-cdd9-8397c0a09a28"
      },
      "execution_count": 33,
      "outputs": [
        {
          "output_type": "stream",
          "name": "stderr",
          "text": [
            "<ipython-input-33-d3eecaceb385>:2: DeprecationWarning: `np.int` is a deprecated alias for the builtin `int`. To silence this warning, use `int` by itself. Doing this will not modify any behavior and is safe. When replacing `np.int`, you may wish to use e.g. `np.int64` or `np.int32` to specify the precision. If you wish to review your current use, check the release note link for additional information.\n",
            "Deprecated in NumPy 1.20; for more details and guidance: https://numpy.org/devdocs/release/1.20.0-notes.html#deprecations\n",
            "  y=(iris['target']==2).astype(np.int) #1 Iris-Virginica면 1, 아니면 0\n"
          ]
        }
      ]
    },
    {
      "cell_type": "code",
      "source": [
        "#로지스틱 훈련\n",
        "from sklearn.linear_model import LogisticRegression\n",
        "\n",
        "log_reg=LogisticRegression()\n",
        "log_reg.fit(X, y)"
      ],
      "metadata": {
        "colab": {
          "base_uri": "https://localhost:8080/",
          "height": 74
        },
        "id": "5ISoP4Ym99b-",
        "outputId": "cc0bc561-4d7d-40a3-90e4-056527d6ac94"
      },
      "execution_count": 34,
      "outputs": [
        {
          "output_type": "execute_result",
          "data": {
            "text/plain": [
              "LogisticRegression()"
            ],
            "text/html": [
              "<style>#sk-container-id-2 {color: black;background-color: white;}#sk-container-id-2 pre{padding: 0;}#sk-container-id-2 div.sk-toggleable {background-color: white;}#sk-container-id-2 label.sk-toggleable__label {cursor: pointer;display: block;width: 100%;margin-bottom: 0;padding: 0.3em;box-sizing: border-box;text-align: center;}#sk-container-id-2 label.sk-toggleable__label-arrow:before {content: \"▸\";float: left;margin-right: 0.25em;color: #696969;}#sk-container-id-2 label.sk-toggleable__label-arrow:hover:before {color: black;}#sk-container-id-2 div.sk-estimator:hover label.sk-toggleable__label-arrow:before {color: black;}#sk-container-id-2 div.sk-toggleable__content {max-height: 0;max-width: 0;overflow: hidden;text-align: left;background-color: #f0f8ff;}#sk-container-id-2 div.sk-toggleable__content pre {margin: 0.2em;color: black;border-radius: 0.25em;background-color: #f0f8ff;}#sk-container-id-2 input.sk-toggleable__control:checked~div.sk-toggleable__content {max-height: 200px;max-width: 100%;overflow: auto;}#sk-container-id-2 input.sk-toggleable__control:checked~label.sk-toggleable__label-arrow:before {content: \"▾\";}#sk-container-id-2 div.sk-estimator input.sk-toggleable__control:checked~label.sk-toggleable__label {background-color: #d4ebff;}#sk-container-id-2 div.sk-label input.sk-toggleable__control:checked~label.sk-toggleable__label {background-color: #d4ebff;}#sk-container-id-2 input.sk-hidden--visually {border: 0;clip: rect(1px 1px 1px 1px);clip: rect(1px, 1px, 1px, 1px);height: 1px;margin: -1px;overflow: hidden;padding: 0;position: absolute;width: 1px;}#sk-container-id-2 div.sk-estimator {font-family: monospace;background-color: #f0f8ff;border: 1px dotted black;border-radius: 0.25em;box-sizing: border-box;margin-bottom: 0.5em;}#sk-container-id-2 div.sk-estimator:hover {background-color: #d4ebff;}#sk-container-id-2 div.sk-parallel-item::after {content: \"\";width: 100%;border-bottom: 1px solid gray;flex-grow: 1;}#sk-container-id-2 div.sk-label:hover label.sk-toggleable__label {background-color: #d4ebff;}#sk-container-id-2 div.sk-serial::before {content: \"\";position: absolute;border-left: 1px solid gray;box-sizing: border-box;top: 0;bottom: 0;left: 50%;z-index: 0;}#sk-container-id-2 div.sk-serial {display: flex;flex-direction: column;align-items: center;background-color: white;padding-right: 0.2em;padding-left: 0.2em;position: relative;}#sk-container-id-2 div.sk-item {position: relative;z-index: 1;}#sk-container-id-2 div.sk-parallel {display: flex;align-items: stretch;justify-content: center;background-color: white;position: relative;}#sk-container-id-2 div.sk-item::before, #sk-container-id-2 div.sk-parallel-item::before {content: \"\";position: absolute;border-left: 1px solid gray;box-sizing: border-box;top: 0;bottom: 0;left: 50%;z-index: -1;}#sk-container-id-2 div.sk-parallel-item {display: flex;flex-direction: column;z-index: 1;position: relative;background-color: white;}#sk-container-id-2 div.sk-parallel-item:first-child::after {align-self: flex-end;width: 50%;}#sk-container-id-2 div.sk-parallel-item:last-child::after {align-self: flex-start;width: 50%;}#sk-container-id-2 div.sk-parallel-item:only-child::after {width: 0;}#sk-container-id-2 div.sk-dashed-wrapped {border: 1px dashed gray;margin: 0 0.4em 0.5em 0.4em;box-sizing: border-box;padding-bottom: 0.4em;background-color: white;}#sk-container-id-2 div.sk-label label {font-family: monospace;font-weight: bold;display: inline-block;line-height: 1.2em;}#sk-container-id-2 div.sk-label-container {text-align: center;}#sk-container-id-2 div.sk-container {/* jupyter's `normalize.less` sets `[hidden] { display: none; }` but bootstrap.min.css set `[hidden] { display: none !important; }` so we also need the `!important` here to be able to override the default hidden behavior on the sphinx rendered scikit-learn.org. See: https://github.com/scikit-learn/scikit-learn/issues/21755 */display: inline-block !important;position: relative;}#sk-container-id-2 div.sk-text-repr-fallback {display: none;}</style><div id=\"sk-container-id-2\" class=\"sk-top-container\"><div class=\"sk-text-repr-fallback\"><pre>LogisticRegression()</pre><b>In a Jupyter environment, please rerun this cell to show the HTML representation or trust the notebook. <br />On GitHub, the HTML representation is unable to render, please try loading this page with nbviewer.org.</b></div><div class=\"sk-container\" hidden><div class=\"sk-item\"><div class=\"sk-estimator sk-toggleable\"><input class=\"sk-toggleable__control sk-hidden--visually\" id=\"sk-estimator-id-2\" type=\"checkbox\" checked><label for=\"sk-estimator-id-2\" class=\"sk-toggleable__label sk-toggleable__label-arrow\">LogisticRegression</label><div class=\"sk-toggleable__content\"><pre>LogisticRegression()</pre></div></div></div></div></div>"
            ]
          },
          "metadata": {},
          "execution_count": 34
        }
      ]
    },
    {
      "cell_type": "code",
      "source": [
        "#꽃잎의 너비가 0~3센티미터인 꽃에 대해 모델이 추정 확률을 계산해보자\n",
        "X_new=np.linspace(0,3,1000).reshape(-1,1)\n",
        "y_proba=log_reg.predict_proba(X_new)\n",
        "plt.plot(X_new, y_proba[:, 1], 'g-', label='Iris virginica')\n",
        "plt.plot(X_new, y_proba[:, 0], 'b-', label='Not Iris virginica')"
      ],
      "metadata": {
        "colab": {
          "base_uri": "https://localhost:8080/",
          "height": 283
        },
        "id": "HROHI1Jw-He3",
        "outputId": "671c4164-8ee2-487a-a7f8-321d7ace8bf7"
      },
      "execution_count": 35,
      "outputs": [
        {
          "output_type": "execute_result",
          "data": {
            "text/plain": [
              "[<matplotlib.lines.Line2D at 0x7fbda64a4910>]"
            ]
          },
          "metadata": {},
          "execution_count": 35
        },
        {
          "output_type": "display_data",
          "data": {
            "text/plain": [
              "<Figure size 432x288 with 1 Axes>"
            ],
            "image/png": "[encoded data removed]"
          },
          "metadata": {
            "needs_background": "light"
          }
        }
      ]
    },
    {
      "cell_type": "markdown",
      "source": [
        "iris virginica의 꽃잎 너비는 1.4~2.5에 분포. 반면 다른 붓꽃은 일반적으로 조금 더 작다. 그래서 약간 중첩되는 부분이 있다. 이 부분에서는 분류가 확실하지 않다. 양쪽의 확률이 똑같이 0.5가 되는 1.6센치 부근에서 결정 경계가 만들어진다."
      ],
      "metadata": {
        "id": "tD9C_Mxc-lfE"
      }
    },
    {
      "cell_type": "code",
      "source": [
        "log_reg.predict([[1.7], [1.5]])"
      ],
      "metadata": {
        "colab": {
          "base_uri": "https://localhost:8080/"
        },
        "id": "jjCnJhFi-7UH",
        "outputId": "cc1f6e7d-cea8-404c-f5f8-cc1e6e5fc1f3"
      },
      "execution_count": 36,
      "outputs": [
        {
          "output_type": "execute_result",
          "data": {
            "text/plain": [
              "array([1, 0])"
            ]
          },
          "metadata": {},
          "execution_count": 36
        }
      ]
    },
    {
      "cell_type": "markdown",
      "source": [
        "선형 결정 경계 그림을 보면 점선은 모델이 0.5 확률을 추정하는 지점으로, 이 경계는 대각선 방향으로 선형이다.\n",
        "\n",
        "다른 선형 모델처럼 로지스틱 회귀로 l1, l2 페널티를 사용하여 규제할 수 있다. 사이킷런에서는 l2 페널티를 기본으로 한다."
      ],
      "metadata": {
        "id": "_Rv0qRxY_C8o"
      }
    },
    {
      "cell_type": "markdown",
      "source": [
        "###4.6.4 소프트맥스 회귀\n",
        "로지스틱 회귀 모델은 여러 개의 이진 분류기를 훈련시켜 연결하지 않고 직접 다중 클래스를 지원하도록 일반화될 수 있다. = 소프트맥스 회귀, 다항 로지스틱 회귀\n",
        "\n",
        "샘플이 주어지면 소프트맥스 회귀 모델이 각 클래스 k에 대한 점수를 계산하고, 그 점수에 소프트맥스 함수를 적용하여 각 클래스의 확률을 추정한다. 샘플에 대해 각 클래스의 점수가 계산되면 소프트맥스 함수를 통과시켜 클래스 k에 속할 확률을 추정할 수 있다. 이 함수는 각 점수에 지수 함수를 적용한 후 정규화한다. 로짓 또는 로그-오즈. 추정 확률이 가장 높은 클래스를 선택.\n",
        "\n",
        "훈련 방법을 보자. 모델이 타깃 클래스에 대해서는 높은 확률을 추정하도록 하는 것이 목표. 크로스 엔트로피 비용 함수를 최소화 하자.\n",
        "\n",
        "소프트맥스 회귀를 사용해 붓꽃을 세 개 클래스로 분류해보자."
      ],
      "metadata": {
        "id": "f97MtMuy_Vqt"
      }
    },
    {
      "cell_type": "code",
      "source": [
        "X=iris['data'][:, (2,3)] #꽃잎 길이, 꽃잎 너비\n",
        "y=iris['target']\n",
        "\n",
        "softmax_reg=LogisticRegression(multi_class='multinomial', solver='lbfgs', C=10)\n",
        "softmax_reg.fit(X, y)"
      ],
      "metadata": {
        "colab": {
          "base_uri": "https://localhost:8080/",
          "height": 74
        },
        "id": "voznY1WJA0Ka",
        "outputId": "03537736-1275-47d6-d64f-ad03104829f0"
      },
      "execution_count": 37,
      "outputs": [
        {
          "output_type": "execute_result",
          "data": {
            "text/plain": [
              "LogisticRegression(C=10, multi_class='multinomial')"
            ],
            "text/html": [
              "<style>#sk-container-id-3 {color: black;background-color: white;}#sk-container-id-3 pre{padding: 0;}#sk-container-id-3 div.sk-toggleable {background-color: white;}#sk-container-id-3 label.sk-toggleable__label {cursor: pointer;display: block;width: 100%;margin-bottom: 0;padding: 0.3em;box-sizing: border-box;text-align: center;}#sk-container-id-3 label.sk-toggleable__label-arrow:before {content: \"▸\";float: left;margin-right: 0.25em;color: #696969;}#sk-container-id-3 label.sk-toggleable__label-arrow:hover:before {color: black;}#sk-container-id-3 div.sk-estimator:hover label.sk-toggleable__label-arrow:before {color: black;}#sk-container-id-3 div.sk-toggleable__content {max-height: 0;max-width: 0;overflow: hidden;text-align: left;background-color: #f0f8ff;}#sk-container-id-3 div.sk-toggleable__content pre {margin: 0.2em;color: black;border-radius: 0.25em;background-color: #f0f8ff;}#sk-container-id-3 input.sk-toggleable__control:checked~div.sk-toggleable__content {max-height: 200px;max-width: 100%;overflow: auto;}#sk-container-id-3 input.sk-toggleable__control:checked~label.sk-toggleable__label-arrow:before {content: \"▾\";}#sk-container-id-3 div.sk-estimator input.sk-toggleable__control:checked~label.sk-toggleable__label {background-color: #d4ebff;}#sk-container-id-3 div.sk-label input.sk-toggleable__control:checked~label.sk-toggleable__label {background-color: #d4ebff;}#sk-container-id-3 input.sk-hidden--visually {border: 0;clip: rect(1px 1px 1px 1px);clip: rect(1px, 1px, 1px, 1px);height: 1px;margin: -1px;overflow: hidden;padding: 0;position: absolute;width: 1px;}#sk-container-id-3 div.sk-estimator {font-family: monospace;background-color: #f0f8ff;border: 1px dotted black;border-radius: 0.25em;box-sizing: border-box;margin-bottom: 0.5em;}#sk-container-id-3 div.sk-estimator:hover {background-color: #d4ebff;}#sk-container-id-3 div.sk-parallel-item::after {content: \"\";width: 100%;border-bottom: 1px solid gray;flex-grow: 1;}#sk-container-id-3 div.sk-label:hover label.sk-toggleable__label {background-color: #d4ebff;}#sk-container-id-3 div.sk-serial::before {content: \"\";position: absolute;border-left: 1px solid gray;box-sizing: border-box;top: 0;bottom: 0;left: 50%;z-index: 0;}#sk-container-id-3 div.sk-serial {display: flex;flex-direction: column;align-items: center;background-color: white;padding-right: 0.2em;padding-left: 0.2em;position: relative;}#sk-container-id-3 div.sk-item {position: relative;z-index: 1;}#sk-container-id-3 div.sk-parallel {display: flex;align-items: stretch;justify-content: center;background-color: white;position: relative;}#sk-container-id-3 div.sk-item::before, #sk-container-id-3 div.sk-parallel-item::before {content: \"\";position: absolute;border-left: 1px solid gray;box-sizing: border-box;top: 0;bottom: 0;left: 50%;z-index: -1;}#sk-container-id-3 div.sk-parallel-item {display: flex;flex-direction: column;z-index: 1;position: relative;background-color: white;}#sk-container-id-3 div.sk-parallel-item:first-child::after {align-self: flex-end;width: 50%;}#sk-container-id-3 div.sk-parallel-item:last-child::after {align-self: flex-start;width: 50%;}#sk-container-id-3 div.sk-parallel-item:only-child::after {width: 0;}#sk-container-id-3 div.sk-dashed-wrapped {border: 1px dashed gray;margin: 0 0.4em 0.5em 0.4em;box-sizing: border-box;padding-bottom: 0.4em;background-color: white;}#sk-container-id-3 div.sk-label label {font-family: monospace;font-weight: bold;display: inline-block;line-height: 1.2em;}#sk-container-id-3 div.sk-label-container {text-align: center;}#sk-container-id-3 div.sk-container {/* jupyter's `normalize.less` sets `[hidden] { display: none; }` but bootstrap.min.css set `[hidden] { display: none !important; }` so we also need the `!important` here to be able to override the default hidden behavior on the sphinx rendered scikit-learn.org. See: https://github.com/scikit-learn/scikit-learn/issues/21755 */display: inline-block !important;position: relative;}#sk-container-id-3 div.sk-text-repr-fallback {display: none;}</style><div id=\"sk-container-id-3\" class=\"sk-top-container\"><div class=\"sk-text-repr-fallback\"><pre>LogisticRegression(C=10, multi_class=&#x27;multinomial&#x27;)</pre><b>In a Jupyter environment, please rerun this cell to show the HTML representation or trust the notebook. <br />On GitHub, the HTML representation is unable to render, please try loading this page with nbviewer.org.</b></div><div class=\"sk-container\" hidden><div class=\"sk-item\"><div class=\"sk-estimator sk-toggleable\"><input class=\"sk-toggleable__control sk-hidden--visually\" id=\"sk-estimator-id-3\" type=\"checkbox\" checked><label for=\"sk-estimator-id-3\" class=\"sk-toggleable__label sk-toggleable__label-arrow\">LogisticRegression</label><div class=\"sk-toggleable__content\"><pre>LogisticRegression(C=10, multi_class=&#x27;multinomial&#x27;)</pre></div></div></div></div></div>"
            ]
          },
          "metadata": {},
          "execution_count": 37
        }
      ]
    },
    {
      "cell_type": "code",
      "source": [
        "#꽃잎 길이가 5, 너비가 2인 붓꽃 발견\n",
        "softmax_reg.predict([[5,2]])"
      ],
      "metadata": {
        "colab": {
          "base_uri": "https://localhost:8080/"
        },
        "id": "7ZXhAqTmBHNW",
        "outputId": "8ab27a80-d1e4-4659-f267-be07c0f69e6e"
      },
      "execution_count": 39,
      "outputs": [
        {
          "output_type": "execute_result",
          "data": {
            "text/plain": [
              "array([2])"
            ]
          },
          "metadata": {},
          "execution_count": 39
        }
      ]
    },
    {
      "cell_type": "code",
      "source": [
        "softmax_reg.predict_proba([[5,2]])"
      ],
      "metadata": {
        "colab": {
          "base_uri": "https://localhost:8080/"
        },
        "id": "Qo11YJFyBP6-",
        "outputId": "c0cda52b-872a-49c3-aa32-ca05eda754f6"
      },
      "execution_count": 40,
      "outputs": [
        {
          "output_type": "execute_result",
          "data": {
            "text/plain": [
              "array([[6.38014896e-07, 5.74929995e-02, 9.42506362e-01]])"
            ]
          },
          "metadata": {},
          "execution_count": 40
        }
      ]
    },
    {
      "cell_type": "markdown",
      "source": [
        "그림을 보자. 결정 경계를 색으로 구분. 클래스 사이의 결정 경계가 모두 선형. 클래스에 대한 확률은 곡선으로 나타낸다."
      ],
      "metadata": {
        "id": "ojBmqwAmBVMG"
      }
    }
  ]
}
