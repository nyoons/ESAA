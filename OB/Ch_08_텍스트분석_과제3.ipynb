{
  "nbformat": 4,
  "nbformat_minor": 0,
  "metadata": {
    "colab": {
      "provenance": []
    },
    "kernelspec": {
      "name": "python3",
      "display_name": "Python 3"
    },
    "language_info": {
      "name": "python"
    }
  },
  "cells": [
    {
      "cell_type": "markdown",
      "source": [
        "##**05. 감성 분석**\n",
        "\n",
        "###감성 분석 소개\n",
        "문서의 주관적인 감성/의견/감정/기분 등을 파악하기 위한 방법. 텍스트에서 나타나는 여러가지 주관적인 단어와 문맥을 기반으로 감성 수치를 계산. 감성 지수는 긍정 감정 지수와 부정 감정 지수로 구성되며, 이를 합산해 긍정/부정 감성을 결정.\n",
        "- 지도학습 : 학습 데이터와 타깃 레이블 값을 기반으로 감성 분석 학습을 수행한 뒤, 이를 기반으로 다른 데이터의 감성 분석을 예측.\n",
        "- 비지도학습 : Lexicon이라는 일종의 감성 어휘 사전을 이용해 문서의 긍정, 부정적 감성 여부를 판단."
      ],
      "metadata": {
        "id": "fKR7TvDIMxt1"
      }
    },
    {
      "cell_type": "markdown",
      "source": [
        "###지도학습 기반 감성 분석 실습 - IMDB 영화평\n",
        "감성 분석 타이틀이지만 지도학습 기반 감성 분석은 텍스트 기반의 이진 분류와 비슷. 영화평의 텍스트를 분석해 감성 분석 결과가 긍정, 부정인지를 예측하는 모델을 만들어보자."
      ],
      "metadata": {
        "id": "-x2xUIvvNDvk"
      }
    },
    {
      "cell_type": "code",
      "source": [
        "import pandas as pd\n",
        "\n",
        "review_df=pd.read_csv('labeledTrainData.tsv', header=0, sep='\\t', quoting=3)\n",
        "review_df.head(3)"
      ],
      "metadata": {
        "id": "vCdNlRudRyxH",
        "colab": {
          "base_uri": "https://localhost:8080/",
          "height": 143
        },
        "outputId": "968a90da-9f1f-48f0-d412-c11440856e76"
      },
      "execution_count": null,
      "outputs": [
        {
          "output_type": "execute_result",
          "data": {
            "text/plain": [
              "         id  sentiment                                             review\n",
              "0  \"5814_8\"          1  \"With all this stuff going down at the moment ...\n",
              "1  \"2381_9\"          1  \"\\\"The Classic War of the Worlds\\\" by Timothy ...\n",
              "2  \"7759_3\"          0  \"The film starts with a manager (Nicholas Bell..."
            ],
            "text/html": [
              "\n",
              "  <div id=\"df-76b9bda6-bbda-4ff3-8348-38df3b0fb6ac\">\n",
              "    <div class=\"colab-df-container\">\n",
              "      <div>\n",
              "<style scoped>\n",
              "    .dataframe tbody tr th:only-of-type {\n",
              "        vertical-align: middle;\n",
              "    }\n",
              "\n",
              "    .dataframe tbody tr th {\n",
              "        vertical-align: top;\n",
              "    }\n",
              "\n",
              "    .dataframe thead th {\n",
              "        text-align: right;\n",
              "    }\n",
              "</style>\n",
              "<table border=\"1\" class=\"dataframe\">\n",
              "  <thead>\n",
              "    <tr style=\"text-align: right;\">\n",
              "      <th></th>\n",
              "      <th>id</th>\n",
              "      <th>sentiment</th>\n",
              "      <th>review</th>\n",
              "    </tr>\n",
              "  </thead>\n",
              "  <tbody>\n",
              "    <tr>\n",
              "      <th>0</th>\n",
              "      <td>\"5814_8\"</td>\n",
              "      <td>1</td>\n",
              "      <td>\"With all this stuff going down at the moment ...</td>\n",
              "    </tr>\n",
              "    <tr>\n",
              "      <th>1</th>\n",
              "      <td>\"2381_9\"</td>\n",
              "      <td>1</td>\n",
              "      <td>\"\\\"The Classic War of the Worlds\\\" by Timothy ...</td>\n",
              "    </tr>\n",
              "    <tr>\n",
              "      <th>2</th>\n",
              "      <td>\"7759_3\"</td>\n",
              "      <td>0</td>\n",
              "      <td>\"The film starts with a manager (Nicholas Bell...</td>\n",
              "    </tr>\n",
              "  </tbody>\n",
              "</table>\n",
              "</div>\n",
              "      <button class=\"colab-df-convert\" onclick=\"convertToInteractive('df-76b9bda6-bbda-4ff3-8348-38df3b0fb6ac')\"\n",
              "              title=\"Convert this dataframe to an interactive table.\"\n",
              "              style=\"display:none;\">\n",
              "        \n",
              "  <svg xmlns=\"http://www.w3.org/2000/svg\" height=\"24px\"viewBox=\"0 0 24 24\"\n",
              "       width=\"24px\">\n",
              "    <path d=\"M0 0h24v24H0V0z\" fill=\"none\"/>\n",
              "    <path d=\"M18.56 5.44l.94 2.06.94-2.06 2.06-.94-2.06-.94-.94-2.06-.94 2.06-2.06.94zm-11 1L8.5 8.5l.94-2.06 2.06-.94-2.06-.94L8.5 2.5l-.94 2.06-2.06.94zm10 10l.94 2.06.94-2.06 2.06-.94-2.06-.94-.94-2.06-.94 2.06-2.06.94z\"/><path d=\"M17.41 7.96l-1.37-1.37c-.4-.4-.92-.59-1.43-.59-.52 0-1.04.2-1.43.59L10.3 9.45l-7.72 7.72c-.78.78-.78 2.05 0 2.83L4 21.41c.39.39.9.59 1.41.59.51 0 1.02-.2 1.41-.59l7.78-7.78 2.81-2.81c.8-.78.8-2.07 0-2.86zM5.41 20L4 18.59l7.72-7.72 1.47 1.35L5.41 20z\"/>\n",
              "  </svg>\n",
              "      </button>\n",
              "      \n",
              "  <style>\n",
              "    .colab-df-container {\n",
              "      display:flex;\n",
              "      flex-wrap:wrap;\n",
              "      gap: 12px;\n",
              "    }\n",
              "\n",
              "    .colab-df-convert {\n",
              "      background-color: #E8F0FE;\n",
              "      border: none;\n",
              "      border-radius: 50%;\n",
              "      cursor: pointer;\n",
              "      display: none;\n",
              "      fill: #1967D2;\n",
              "      height: 32px;\n",
              "      padding: 0 0 0 0;\n",
              "      width: 32px;\n",
              "    }\n",
              "\n",
              "    .colab-df-convert:hover {\n",
              "      background-color: #E2EBFA;\n",
              "      box-shadow: 0px 1px 2px rgba(60, 64, 67, 0.3), 0px 1px 3px 1px rgba(60, 64, 67, 0.15);\n",
              "      fill: #174EA6;\n",
              "    }\n",
              "\n",
              "    [theme=dark] .colab-df-convert {\n",
              "      background-color: #3B4455;\n",
              "      fill: #D2E3FC;\n",
              "    }\n",
              "\n",
              "    [theme=dark] .colab-df-convert:hover {\n",
              "      background-color: #434B5C;\n",
              "      box-shadow: 0px 1px 3px 1px rgba(0, 0, 0, 0.15);\n",
              "      filter: drop-shadow(0px 1px 2px rgba(0, 0, 0, 0.3));\n",
              "      fill: #FFFFFF;\n",
              "    }\n",
              "  </style>\n",
              "\n",
              "      <script>\n",
              "        const buttonEl =\n",
              "          document.querySelector('#df-76b9bda6-bbda-4ff3-8348-38df3b0fb6ac button.colab-df-convert');\n",
              "        buttonEl.style.display =\n",
              "          google.colab.kernel.accessAllowed ? 'block' : 'none';\n",
              "\n",
              "        async function convertToInteractive(key) {\n",
              "          const element = document.querySelector('#df-76b9bda6-bbda-4ff3-8348-38df3b0fb6ac');\n",
              "          const dataTable =\n",
              "            await google.colab.kernel.invokeFunction('convertToInteractive',\n",
              "                                                     [key], {});\n",
              "          if (!dataTable) return;\n",
              "\n",
              "          const docLinkHtml = 'Like what you see? Visit the ' +\n",
              "            '<a target=\"_blank\" href=https://colab.research.google.com/notebooks/data_table.ipynb>data table notebook</a>'\n",
              "            + ' to learn more about interactive tables.';\n",
              "          element.innerHTML = '';\n",
              "          dataTable['output_type'] = 'display_data';\n",
              "          await google.colab.output.renderOutput(dataTable, element);\n",
              "          const docLink = document.createElement('div');\n",
              "          docLink.innerHTML = docLinkHtml;\n",
              "          element.appendChild(docLink);\n",
              "        }\n",
              "      </script>\n",
              "    </div>\n",
              "  </div>\n",
              "  "
            ]
          },
          "metadata": {},
          "execution_count": 45
        }
      ]
    },
    {
      "cell_type": "markdown",
      "source": [
        "sentiment의 0은 부정적 평가, 1은 긍정적 평가."
      ],
      "metadata": {
        "id": "Kh-dZJ0WSKHJ"
      }
    },
    {
      "cell_type": "code",
      "source": [
        "#텍스트가 어떻게 구성 되어 있는지 보자.\n",
        "print(review_df['review'][0])"
      ],
      "metadata": {
        "id": "khfkpvcFSN9V",
        "colab": {
          "base_uri": "https://localhost:8080/"
        },
        "outputId": "5b4aa584-9984-4bf1-8c3b-131dee2ec5cb"
      },
      "execution_count": null,
      "outputs": [
        {
          "output_type": "stream",
          "name": "stdout",
          "text": [
            "\"With all this stuff going down at the moment with MJ i've started listening to his music, watching the odd documentary here and there, watched The Wiz and watched Moonwalker again. Maybe i just want to get a certain insight into this guy who i thought was really cool in the eighties just to maybe make up my mind whether he is guilty or innocent. Moonwalker is part biography, part feature film which i remember going to see at the cinema when it was originally released. Some of it has subtle messages about MJ's feeling towards the press and also the obvious message of drugs are bad m'kay.<br /><br />Visually impressive but of course this is all about Michael Jackson so unless you remotely like MJ in anyway then you are going to hate this and find it boring. Some may call MJ an egotist for consenting to the making of this movie BUT MJ and most of his fans would say that he made it for the fans which if true is really nice of him.<br /><br />The actual feature film bit when it finally starts is only on for 20 minutes or so excluding the Smooth Criminal sequence and Joe Pesci is convincing as a psychopathic all powerful drug lord. Why he wants MJ dead so bad is beyond me. Because MJ overheard his plans? Nah, Joe Pesci's character ranted that he wanted people to know it is he who is supplying drugs etc so i dunno, maybe he just hates MJ's music.<br /><br />Lots of cool things in this like MJ turning into a car and a robot and the whole Speed Demon sequence. Also, the director must have had the patience of a saint when it came to filming the kiddy Bad sequence as usually directors hate working with one kid let alone a whole bunch of them performing a complex dance scene.<br /><br />Bottom line, this movie is for people who like MJ on one level or another (which i think is most people). If not, then stay away. It does try and give off a wholesome message and ironically MJ's bestest buddy in this movie is a girl! Michael Jackson is truly one of the most talented people ever to grace this planet but is he guilty? Well, with all the attention i've gave this subject....hmmm well i don't know because people can be different behind closed doors, i know this for a fact. He is either an extremely nice but stupid guy or one of the most sickest liars. I hope he is not the latter.\"\n"
          ]
        }
      ]
    },
    {
      "cell_type": "markdown",
      "source": [
        "html 형식에서 추출하여 < br > 태그가 존재. str을 이용해 공백으로 대체하자.\n",
        "\n",
        "또한 영어가 아닌 숫자나 특수문자도 sentiment를 위한 피처로는 의미가 없으므로 중규 표현식을 이용해 찾아 공란으로 변경하자. 파이썬의 re 모듈로 편리하게 정규 표현식을 이용할 수 있다. re.sub(\"[^a-zA-Z]\", \"\", x)는 영어 대/소문자가 아닌 모든 문자를 찾아 공란으로 변경."
      ],
      "metadata": {
        "id": "tqdupRg1SYJG"
      }
    },
    {
      "cell_type": "code",
      "source": [
        "import re\n",
        "\n",
        "#<br> 태그는 replace 함수로 공백으로 변환\n",
        "review_df['review']=review_df['review'].str.replace('<br />', ' ')\n",
        "\n",
        "#파이썬의 정규 표현식 모듈인 re를 이용해 영어 문자열이 아닌 문자는 모두 공백으로 변환\n",
        "review_df['review']=review_df['review'].apply(lambda x:re.sub(\"[^a-zA-Z]\", \" \", x))"
      ],
      "metadata": {
        "id": "sBgJNMWpTQTz"
      },
      "execution_count": null,
      "outputs": []
    },
    {
      "cell_type": "markdown",
      "source": [
        "결정 값 클래스인 sentiment 칼럼을 별도로 추출해 결정 값 데이터 세트를 만들고, 원본 데이터 세트에서 id와 sentiment 칼럼을 삭제해 피처 데이터 세트를 생성하자. 그리고 분리하자."
      ],
      "metadata": {
        "id": "9_VWG-1tTxnv"
      }
    },
    {
      "cell_type": "code",
      "source": [
        "from sklearn.model_selection import train_test_split\n",
        "\n",
        "class_df=review_df['sentiment']\n",
        "feature_df=review_df.drop(['id', 'sentiment'], axis=1, inplace=False)\n",
        "\n",
        "X_train, X_test, y_train, y_test=train_test_split(feature_df, class_df, test_size=0.3, random_state=156)\n",
        "X_train.shape"
      ],
      "metadata": {
        "id": "ZsWaZ8BcT7pe",
        "colab": {
          "base_uri": "https://localhost:8080/"
        },
        "outputId": "850a20a2-6b4e-4cf3-959c-bd1b651305ec"
      },
      "execution_count": null,
      "outputs": [
        {
          "output_type": "execute_result",
          "data": {
            "text/plain": [
              "(17500, 1)"
            ]
          },
          "metadata": {},
          "execution_count": 48
        }
      ]
    },
    {
      "cell_type": "code",
      "source": [
        "X_test.shape"
      ],
      "metadata": {
        "id": "g1Zr0m3pUTfs",
        "colab": {
          "base_uri": "https://localhost:8080/"
        },
        "outputId": "e87a5a13-b988-4081-a52b-1a8d236278e8"
      },
      "execution_count": null,
      "outputs": [
        {
          "output_type": "execute_result",
          "data": {
            "text/plain": [
              "(7500, 1)"
            ]
          },
          "metadata": {},
          "execution_count": 49
        }
      ]
    },
    {
      "cell_type": "markdown",
      "source": [
        "이제 감상평 텍스트를 피처 벡터화한 후, 분류 알고리즘을 적용해 예측 성능을 측정하자. Pipeline으로 두가지를 한번에 수행할 수 있다.\n",
        "\n",
        "먼저 count 벡터화를 적용해 예측 성능을 측정하고, 다음으로 tf-idf 벡터화를 적용해보자.\n",
        "\n",
        "LogisticRegression 분류기를 이용, 이진 분류임을 고려해 정확도와 ROC-AUC 측정."
      ],
      "metadata": {
        "id": "FO0j1TE7UYBa"
      }
    },
    {
      "cell_type": "code",
      "source": [
        "from sklearn.feature_extraction.text import CountVectorizer, TfidfVectorizer\n",
        "from sklearn.pipeline import Pipeline\n",
        "from sklearn.linear_model import LogisticRegression\n",
        "from sklearn.metrics import accuracy_score, roc_auc_score\n",
        "\n",
        "#스톱 워드는 english, filtering, ngram은 (1,2) 로 설정해 countvectorization 수행.\n",
        "#LogisticRegression의 C=10 으로 설정\n",
        "pipeline=Pipeline([\n",
        "    ('cnt_vect', CountVectorizer(stop_words='english', ngram_range=(1,2))),\n",
        "    ('lr_clf', LogisticRegression(C=10))])\n",
        "\n",
        "#Pipeline 객체를 이용해 fit(), predict()로 학습/예측 수행, predict_proba()는 roc_auc 때문에 수행.\n",
        "pipeline.fit(X_train['review'], y_train)\n",
        "pred=pipeline.predict(X_test['review'])\n",
        "pred_probs=pipeline.predict_proba(X_test['review'])[:, 1]\n",
        "\n",
        "print('count의 예측 정확도는 {0:.4f}, ROC-AUC는 {1:.4f}'.format(accuracy_score(y_test, pred), roc_auc_score(y_test, pred_probs)))"
      ],
      "metadata": {
        "id": "H_DGJn4ZUXuo",
        "colab": {
          "base_uri": "https://localhost:8080/"
        },
        "outputId": "523b1555-b559-4e69-f906-991c97e609b2"
      },
      "execution_count": null,
      "outputs": [
        {
          "output_type": "stream",
          "name": "stderr",
          "text": [
            "/usr/local/lib/python3.9/dist-packages/sklearn/linear_model/_logistic.py:458: ConvergenceWarning: lbfgs failed to converge (status=1):\n",
            "STOP: TOTAL NO. of ITERATIONS REACHED LIMIT.\n",
            "\n",
            "Increase the number of iterations (max_iter) or scale the data as shown in:\n",
            "    https://scikit-learn.org/stable/modules/preprocessing.html\n",
            "Please also refer to the documentation for alternative solver options:\n",
            "    https://scikit-learn.org/stable/modules/linear_model.html#logistic-regression\n",
            "  n_iter_i = _check_optimize_result(\n"
          ]
        },
        {
          "output_type": "stream",
          "name": "stdout",
          "text": [
            "count의 예측 정확도는 0.8860, ROC-AUC는 0.9503\n"
          ]
        }
      ]
    },
    {
      "cell_type": "code",
      "source": [
        "#스톱 워드는 english, filtering, ngram은 (1,2) 로 설정해 tf-idf vectorization 수행.\n",
        "#LogisticRegression의 C=10 으로 설정\n",
        "pipeline=Pipeline([\n",
        "    ('tfidf_vect', TfidfVectorizer(stop_words='english', ngram_range=(1,2))),\n",
        "    ('lr_clf', LogisticRegression(C=10))])\n",
        "\n",
        "#Pipeline 객체를 이용해 fit(), predict()로 학습/예측 수행, predict_proba()는 roc_auc 때문에 수행.\n",
        "pipeline.fit(X_train['review'], y_train)\n",
        "pred=pipeline.predict(X_test['review'])\n",
        "pred_probs=pipeline.predict_proba(X_test['review'])[:, 1]\n",
        "\n",
        "print('tf idf의 예측 정확도는 {0:.4f}, ROC-AUC는 {1:.4f}'.format(accuracy_score(y_test, pred), roc_auc_score(y_test, pred_probs)))"
      ],
      "metadata": {
        "id": "Dd5WMe-yWD4F",
        "colab": {
          "base_uri": "https://localhost:8080/"
        },
        "outputId": "e049ff88-4f3d-405a-c624-224bd1766fb4"
      },
      "execution_count": null,
      "outputs": [
        {
          "output_type": "stream",
          "name": "stdout",
          "text": [
            "tf idf의 예측 정확도는 0.8936, ROC-AUC는 0.9598\n"
          ]
        }
      ]
    },
    {
      "cell_type": "markdown",
      "source": [
        "tf-idf 기반 피처 벡터화의 예측 성능이 조금 더 낫다."
      ],
      "metadata": {
        "id": "uvxOqRFBWVIw"
      }
    },
    {
      "cell_type": "markdown",
      "source": [
        "###비지도학습 기반 감성 분석 소개\n",
        "비지도 감성 분석은 Lexicon을 기반으로 하는 것. 한글 지원은 안된다.\n",
        "\n",
        "Lexicon은 감성 어휘 사전. 감성 사전에는 긍정 감성, 부정 감성의 정도를 의미하는 수치를 가지고 있으며 이를 감성 지수 라고 한다. 감성 사전을 구현한 대표격은 NLTK 패키지.\n",
        "\n",
        "감성 사전을 더 상세히 이해해보자. NLP 패키지가 제공하는 WordNet 모듈은 방대한 영어 어휘 사전. 시맨틱(=문맥상 의미) 분석을 제공하는 어휘 사전이다. 동음이의어 등의 시맨틱을 표현하기 위해서 여러 가지 규칙을 정해왔으며, NLP 패키지는 시맨틱을 프로그램적으로 인터페이스 할 수 있는 다양한 방법을 제공. WordNet은 따라서 어휘의 시맨틱 정보를 제공하며, 이를 위해 각각의 품사로 구성된 개별 단어를 Synset이라는 개념을 통해 표현한다. Synset은 단순한 하나의 단어가 아니라 그 단어가 가지는 문맥, 시맨틱 정보를 제공하는 WordNet의 핵심 개념.\n",
        "\n",
        "NLTK 감성 사전이 훌륭하긴 하나 아쉽게도 예측 성능은 그리 좋지 못함. 따라서 실제 업무에서는 NLTK 외에 다른 감성 사전을 적용한다. NLTK를 포함한 대표적인 감성 사전은 다음과 같다.\n",
        "- SentiWordNet : NLTK 패키지의 WordNet과 유사하게 감성 단어 전용의 WordNet을 구현한 것. Synset 개념을 감성 분석에 적용. 문장별로 단어들의 긍정 감성 지수와 부정 감성 지수를 합산해 최종 감성 지수를 계산하고 이에 기반해 감성이 부정인지 긍정인지 결정\n",
        "- VADER : 주로 소셜 미디어의 텍스트에 대한 감성 분석. 뛰어난 결과와 빠른 수행 시간을 보장해 대용량 데이터에 잘 사용.\n",
        "- Pattern : 예측 성능이 뛰어남.\n",
        "\n",
        "SentiWordNet과 VADER 감성 사전을 이용해 감성 분석을 수행한 뒤 예측 성능을 지도학습 기반의 분류와 비교해보자."
      ],
      "metadata": {
        "id": "0ShdqC1pNIzY"
      }
    },
    {
      "cell_type": "markdown",
      "source": [
        "###SentiWordNet을 이용한 감성 분석\n",
        "####**WordNet Synset과 SentiWordNet SentiSynset 클래스의 이해**\n",
        "SentiWordNet은 WordNet 기반의 synset을 이용. 먼저 NLTK의 모든 데이터 세트와 패키지를 내려받자.\n"
      ],
      "metadata": {
        "id": "VVLpfOL6NLGv"
      }
    },
    {
      "cell_type": "code",
      "source": [
        "import nltk\n",
        "nltk.download('all')"
      ],
      "metadata": {
        "colab": {
          "base_uri": "https://localhost:8080/"
        },
        "id": "ibat48Wl5cjv",
        "outputId": "472092aa-e496-44ce-ebbd-49a3913697b7"
      },
      "execution_count": null,
      "outputs": [
        {
          "output_type": "stream",
          "name": "stderr",
          "text": [
            "[nltk_data] Downloading collection 'all'\n",
            "[nltk_data]    | \n",
            "[nltk_data]    | Downloading package abc to /root/nltk_data...\n",
            "[nltk_data]    |   Unzipping corpora/abc.zip.\n",
            "[nltk_data]    | Downloading package alpino to /root/nltk_data...\n",
            "[nltk_data]    |   Unzipping corpora/alpino.zip.\n",
            "[nltk_data]    | Downloading package averaged_perceptron_tagger to\n",
            "[nltk_data]    |     /root/nltk_data...\n",
            "[nltk_data]    |   Unzipping taggers/averaged_perceptron_tagger.zip.\n",
            "[nltk_data]    | Downloading package averaged_perceptron_tagger_ru to\n",
            "[nltk_data]    |     /root/nltk_data...\n",
            "[nltk_data]    |   Unzipping\n",
            "[nltk_data]    |       taggers/averaged_perceptron_tagger_ru.zip.\n",
            "[nltk_data]    | Downloading package basque_grammars to\n",
            "[nltk_data]    |     /root/nltk_data...\n",
            "[nltk_data]    |   Unzipping grammars/basque_grammars.zip.\n",
            "[nltk_data]    | Downloading package bcp47 to /root/nltk_data...\n",
            "[nltk_data]    | Downloading package biocreative_ppi to\n",
            "[nltk_data]    |     /root/nltk_data...\n",
            "[nltk_data]    |   Unzipping corpora/biocreative_ppi.zip.\n",
            "[nltk_data]    | Downloading package bllip_wsj_no_aux to\n",
            "[nltk_data]    |     /root/nltk_data...\n",
            "[nltk_data]    |   Unzipping models/bllip_wsj_no_aux.zip.\n",
            "[nltk_data]    | Downloading package book_grammars to\n",
            "[nltk_data]    |     /root/nltk_data...\n",
            "[nltk_data]    |   Unzipping grammars/book_grammars.zip.\n",
            "[nltk_data]    | Downloading package brown to /root/nltk_data...\n",
            "[nltk_data]    |   Unzipping corpora/brown.zip.\n",
            "[nltk_data]    | Downloading package brown_tei to /root/nltk_data...\n",
            "[nltk_data]    |   Unzipping corpora/brown_tei.zip.\n",
            "[nltk_data]    | Downloading package cess_cat to /root/nltk_data...\n",
            "[nltk_data]    |   Unzipping corpora/cess_cat.zip.\n",
            "[nltk_data]    | Downloading package cess_esp to /root/nltk_data...\n",
            "[nltk_data]    |   Unzipping corpora/cess_esp.zip.\n",
            "[nltk_data]    | Downloading package chat80 to /root/nltk_data...\n",
            "[nltk_data]    |   Unzipping corpora/chat80.zip.\n",
            "[nltk_data]    | Downloading package city_database to\n",
            "[nltk_data]    |     /root/nltk_data...\n",
            "[nltk_data]    |   Unzipping corpora/city_database.zip.\n",
            "[nltk_data]    | Downloading package cmudict to /root/nltk_data...\n",
            "[nltk_data]    |   Unzipping corpora/cmudict.zip.\n",
            "[nltk_data]    | Downloading package comparative_sentences to\n",
            "[nltk_data]    |     /root/nltk_data...\n",
            "[nltk_data]    |   Unzipping corpora/comparative_sentences.zip.\n",
            "[nltk_data]    | Downloading package comtrans to /root/nltk_data...\n",
            "[nltk_data]    | Downloading package conll2000 to /root/nltk_data...\n",
            "[nltk_data]    |   Unzipping corpora/conll2000.zip.\n",
            "[nltk_data]    | Downloading package conll2002 to /root/nltk_data...\n",
            "[nltk_data]    |   Unzipping corpora/conll2002.zip.\n",
            "[nltk_data]    | Downloading package conll2007 to /root/nltk_data...\n",
            "[nltk_data]    | Downloading package crubadan to /root/nltk_data...\n",
            "[nltk_data]    |   Unzipping corpora/crubadan.zip.\n",
            "[nltk_data]    | Downloading package dependency_treebank to\n",
            "[nltk_data]    |     /root/nltk_data...\n",
            "[nltk_data]    |   Unzipping corpora/dependency_treebank.zip.\n",
            "[nltk_data]    | Downloading package dolch to /root/nltk_data...\n",
            "[nltk_data]    |   Unzipping corpora/dolch.zip.\n",
            "[nltk_data]    | Downloading package europarl_raw to\n",
            "[nltk_data]    |     /root/nltk_data...\n",
            "[nltk_data]    |   Unzipping corpora/europarl_raw.zip.\n",
            "[nltk_data]    | Downloading package extended_omw to\n",
            "[nltk_data]    |     /root/nltk_data...\n",
            "[nltk_data]    | Downloading package floresta to /root/nltk_data...\n",
            "[nltk_data]    |   Unzipping corpora/floresta.zip.\n",
            "[nltk_data]    | Downloading package framenet_v15 to\n",
            "[nltk_data]    |     /root/nltk_data...\n",
            "[nltk_data]    |   Unzipping corpora/framenet_v15.zip.\n",
            "[nltk_data]    | Downloading package framenet_v17 to\n",
            "[nltk_data]    |     /root/nltk_data...\n",
            "[nltk_data]    |   Unzipping corpora/framenet_v17.zip.\n",
            "[nltk_data]    | Downloading package gazetteers to /root/nltk_data...\n",
            "[nltk_data]    |   Unzipping corpora/gazetteers.zip.\n",
            "[nltk_data]    | Downloading package genesis to /root/nltk_data...\n",
            "[nltk_data]    |   Unzipping corpora/genesis.zip.\n",
            "[nltk_data]    | Downloading package gutenberg to /root/nltk_data...\n",
            "[nltk_data]    |   Unzipping corpora/gutenberg.zip.\n",
            "[nltk_data]    | Downloading package ieer to /root/nltk_data...\n",
            "[nltk_data]    |   Unzipping corpora/ieer.zip.\n",
            "[nltk_data]    | Downloading package inaugural to /root/nltk_data...\n",
            "[nltk_data]    |   Unzipping corpora/inaugural.zip.\n",
            "[nltk_data]    | Downloading package indian to /root/nltk_data...\n",
            "[nltk_data]    |   Unzipping corpora/indian.zip.\n",
            "[nltk_data]    | Downloading package jeita to /root/nltk_data...\n",
            "[nltk_data]    | Downloading package kimmo to /root/nltk_data...\n",
            "[nltk_data]    |   Unzipping corpora/kimmo.zip.\n",
            "[nltk_data]    | Downloading package knbc to /root/nltk_data...\n",
            "[nltk_data]    | Downloading package large_grammars to\n",
            "[nltk_data]    |     /root/nltk_data...\n",
            "[nltk_data]    |   Unzipping grammars/large_grammars.zip.\n",
            "[nltk_data]    | Downloading package lin_thesaurus to\n",
            "[nltk_data]    |     /root/nltk_data...\n",
            "[nltk_data]    |   Unzipping corpora/lin_thesaurus.zip.\n",
            "[nltk_data]    | Downloading package mac_morpho to /root/nltk_data...\n",
            "[nltk_data]    |   Unzipping corpora/mac_morpho.zip.\n",
            "[nltk_data]    | Downloading package machado to /root/nltk_data...\n",
            "[nltk_data]    | Downloading package masc_tagged to /root/nltk_data...\n",
            "[nltk_data]    | Downloading package maxent_ne_chunker to\n",
            "[nltk_data]    |     /root/nltk_data...\n",
            "[nltk_data]    |   Unzipping chunkers/maxent_ne_chunker.zip.\n",
            "[nltk_data]    | Downloading package maxent_treebank_pos_tagger to\n",
            "[nltk_data]    |     /root/nltk_data...\n",
            "[nltk_data]    |   Unzipping taggers/maxent_treebank_pos_tagger.zip.\n",
            "[nltk_data]    | Downloading package moses_sample to\n",
            "[nltk_data]    |     /root/nltk_data...\n",
            "[nltk_data]    |   Unzipping models/moses_sample.zip.\n",
            "[nltk_data]    | Downloading package movie_reviews to\n",
            "[nltk_data]    |     /root/nltk_data...\n",
            "[nltk_data]    |   Unzipping corpora/movie_reviews.zip.\n",
            "[nltk_data]    | Downloading package mte_teip5 to /root/nltk_data...\n",
            "[nltk_data]    |   Unzipping corpora/mte_teip5.zip.\n",
            "[nltk_data]    | Downloading package mwa_ppdb to /root/nltk_data...\n",
            "[nltk_data]    |   Unzipping misc/mwa_ppdb.zip.\n",
            "[nltk_data]    | Downloading package names to /root/nltk_data...\n",
            "[nltk_data]    |   Unzipping corpora/names.zip.\n",
            "[nltk_data]    | Downloading package nombank.1.0 to /root/nltk_data...\n",
            "[nltk_data]    | Downloading package nonbreaking_prefixes to\n",
            "[nltk_data]    |     /root/nltk_data...\n",
            "[nltk_data]    |   Unzipping corpora/nonbreaking_prefixes.zip.\n",
            "[nltk_data]    | Downloading package nps_chat to /root/nltk_data...\n",
            "[nltk_data]    |   Unzipping corpora/nps_chat.zip.\n",
            "[nltk_data]    | Downloading package omw to /root/nltk_data...\n",
            "[nltk_data]    | Downloading package omw-1.4 to /root/nltk_data...\n",
            "[nltk_data]    | Downloading package opinion_lexicon to\n",
            "[nltk_data]    |     /root/nltk_data...\n",
            "[nltk_data]    |   Unzipping corpora/opinion_lexicon.zip.\n",
            "[nltk_data]    | Downloading package panlex_swadesh to\n",
            "[nltk_data]    |     /root/nltk_data...\n",
            "[nltk_data]    | Downloading package paradigms to /root/nltk_data...\n",
            "[nltk_data]    |   Unzipping corpora/paradigms.zip.\n",
            "[nltk_data]    | Downloading package pe08 to /root/nltk_data...\n",
            "[nltk_data]    |   Unzipping corpora/pe08.zip.\n",
            "[nltk_data]    | Downloading package perluniprops to\n",
            "[nltk_data]    |     /root/nltk_data...\n",
            "[nltk_data]    |   Unzipping misc/perluniprops.zip.\n",
            "[nltk_data]    | Downloading package pil to /root/nltk_data...\n",
            "[nltk_data]    |   Unzipping corpora/pil.zip.\n",
            "[nltk_data]    | Downloading package pl196x to /root/nltk_data...\n",
            "[nltk_data]    |   Unzipping corpora/pl196x.zip.\n",
            "[nltk_data]    | Downloading package porter_test to /root/nltk_data...\n",
            "[nltk_data]    |   Unzipping stemmers/porter_test.zip.\n",
            "[nltk_data]    | Downloading package ppattach to /root/nltk_data...\n",
            "[nltk_data]    |   Unzipping corpora/ppattach.zip.\n",
            "[nltk_data]    | Downloading package problem_reports to\n",
            "[nltk_data]    |     /root/nltk_data...\n",
            "[nltk_data]    |   Unzipping corpora/problem_reports.zip.\n",
            "[nltk_data]    | Downloading package product_reviews_1 to\n",
            "[nltk_data]    |     /root/nltk_data...\n",
            "[nltk_data]    |   Unzipping corpora/product_reviews_1.zip.\n",
            "[nltk_data]    | Downloading package product_reviews_2 to\n",
            "[nltk_data]    |     /root/nltk_data...\n",
            "[nltk_data]    |   Unzipping corpora/product_reviews_2.zip.\n",
            "[nltk_data]    | Downloading package propbank to /root/nltk_data...\n",
            "[nltk_data]    | Downloading package pros_cons to /root/nltk_data...\n",
            "[nltk_data]    |   Unzipping corpora/pros_cons.zip.\n",
            "[nltk_data]    | Downloading package ptb to /root/nltk_data...\n",
            "[nltk_data]    |   Unzipping corpora/ptb.zip.\n",
            "[nltk_data]    | Downloading package punkt to /root/nltk_data...\n",
            "[nltk_data]    |   Unzipping tokenizers/punkt.zip.\n",
            "[nltk_data]    | Downloading package qc to /root/nltk_data...\n",
            "[nltk_data]    |   Unzipping corpora/qc.zip.\n",
            "[nltk_data]    | Downloading package reuters to /root/nltk_data...\n",
            "[nltk_data]    | Downloading package rslp to /root/nltk_data...\n",
            "[nltk_data]    |   Unzipping stemmers/rslp.zip.\n",
            "[nltk_data]    | Downloading package rte to /root/nltk_data...\n",
            "[nltk_data]    |   Unzipping corpora/rte.zip.\n",
            "[nltk_data]    | Downloading package sample_grammars to\n",
            "[nltk_data]    |     /root/nltk_data...\n",
            "[nltk_data]    |   Unzipping grammars/sample_grammars.zip.\n",
            "[nltk_data]    | Downloading package semcor to /root/nltk_data...\n",
            "[nltk_data]    | Downloading package senseval to /root/nltk_data...\n",
            "[nltk_data]    |   Unzipping corpora/senseval.zip.\n",
            "[nltk_data]    | Downloading package sentence_polarity to\n",
            "[nltk_data]    |     /root/nltk_data...\n",
            "[nltk_data]    |   Unzipping corpora/sentence_polarity.zip.\n",
            "[nltk_data]    | Downloading package sentiwordnet to\n",
            "[nltk_data]    |     /root/nltk_data...\n",
            "[nltk_data]    |   Unzipping corpora/sentiwordnet.zip.\n",
            "[nltk_data]    | Downloading package shakespeare to /root/nltk_data...\n",
            "[nltk_data]    |   Unzipping corpora/shakespeare.zip.\n",
            "[nltk_data]    | Downloading package sinica_treebank to\n",
            "[nltk_data]    |     /root/nltk_data...\n",
            "[nltk_data]    |   Unzipping corpora/sinica_treebank.zip.\n",
            "[nltk_data]    | Downloading package smultron to /root/nltk_data...\n",
            "[nltk_data]    |   Unzipping corpora/smultron.zip.\n",
            "[nltk_data]    | Downloading package snowball_data to\n",
            "[nltk_data]    |     /root/nltk_data...\n",
            "[nltk_data]    | Downloading package spanish_grammars to\n",
            "[nltk_data]    |     /root/nltk_data...\n",
            "[nltk_data]    |   Unzipping grammars/spanish_grammars.zip.\n",
            "[nltk_data]    | Downloading package state_union to /root/nltk_data...\n",
            "[nltk_data]    |   Unzipping corpora/state_union.zip.\n",
            "[nltk_data]    | Downloading package stopwords to /root/nltk_data...\n",
            "[nltk_data]    |   Unzipping corpora/stopwords.zip.\n",
            "[nltk_data]    | Downloading package subjectivity to\n",
            "[nltk_data]    |     /root/nltk_data...\n",
            "[nltk_data]    |   Unzipping corpora/subjectivity.zip.\n",
            "[nltk_data]    | Downloading package swadesh to /root/nltk_data...\n",
            "[nltk_data]    |   Unzipping corpora/swadesh.zip.\n",
            "[nltk_data]    | Downloading package switchboard to /root/nltk_data...\n",
            "[nltk_data]    |   Unzipping corpora/switchboard.zip.\n",
            "[nltk_data]    | Downloading package tagsets to /root/nltk_data...\n",
            "[nltk_data]    |   Unzipping help/tagsets.zip.\n",
            "[nltk_data]    | Downloading package timit to /root/nltk_data...\n",
            "[nltk_data]    |   Unzipping corpora/timit.zip.\n",
            "[nltk_data]    | Downloading package toolbox to /root/nltk_data...\n",
            "[nltk_data]    |   Unzipping corpora/toolbox.zip.\n",
            "[nltk_data]    | Downloading package treebank to /root/nltk_data...\n",
            "[nltk_data]    |   Unzipping corpora/treebank.zip.\n",
            "[nltk_data]    | Downloading package twitter_samples to\n",
            "[nltk_data]    |     /root/nltk_data...\n",
            "[nltk_data]    |   Unzipping corpora/twitter_samples.zip.\n",
            "[nltk_data]    | Downloading package udhr to /root/nltk_data...\n",
            "[nltk_data]    |   Unzipping corpora/udhr.zip.\n",
            "[nltk_data]    | Downloading package udhr2 to /root/nltk_data...\n",
            "[nltk_data]    |   Unzipping corpora/udhr2.zip.\n",
            "[nltk_data]    | Downloading package unicode_samples to\n",
            "[nltk_data]    |     /root/nltk_data...\n",
            "[nltk_data]    |   Unzipping corpora/unicode_samples.zip.\n",
            "[nltk_data]    | Downloading package universal_tagset to\n",
            "[nltk_data]    |     /root/nltk_data...\n",
            "[nltk_data]    |   Unzipping taggers/universal_tagset.zip.\n",
            "[nltk_data]    | Downloading package universal_treebanks_v20 to\n",
            "[nltk_data]    |     /root/nltk_data...\n",
            "[nltk_data]    | Downloading package vader_lexicon to\n",
            "[nltk_data]    |     /root/nltk_data...\n",
            "[nltk_data]    | Downloading package verbnet to /root/nltk_data...\n",
            "[nltk_data]    |   Unzipping corpora/verbnet.zip.\n",
            "[nltk_data]    | Downloading package verbnet3 to /root/nltk_data...\n",
            "[nltk_data]    |   Unzipping corpora/verbnet3.zip.\n",
            "[nltk_data]    | Downloading package webtext to /root/nltk_data...\n",
            "[nltk_data]    |   Unzipping corpora/webtext.zip.\n",
            "[nltk_data]    | Downloading package wmt15_eval to /root/nltk_data...\n",
            "[nltk_data]    |   Unzipping models/wmt15_eval.zip.\n",
            "[nltk_data]    | Downloading package word2vec_sample to\n",
            "[nltk_data]    |     /root/nltk_data...\n",
            "[nltk_data]    |   Unzipping models/word2vec_sample.zip.\n",
            "[nltk_data]    | Downloading package wordnet to /root/nltk_data...\n",
            "[nltk_data]    | Downloading package wordnet2021 to /root/nltk_data...\n",
            "[nltk_data]    | Downloading package wordnet2022 to /root/nltk_data...\n",
            "[nltk_data]    |   Unzipping corpora/wordnet2022.zip.\n",
            "[nltk_data]    | Downloading package wordnet31 to /root/nltk_data...\n",
            "[nltk_data]    | Downloading package wordnet_ic to /root/nltk_data...\n",
            "[nltk_data]    |   Unzipping corpora/wordnet_ic.zip.\n",
            "[nltk_data]    | Downloading package words to /root/nltk_data...\n",
            "[nltk_data]    |   Unzipping corpora/words.zip.\n",
            "[nltk_data]    | Downloading package ycoe to /root/nltk_data...\n",
            "[nltk_data]    |   Unzipping corpora/ycoe.zip.\n",
            "[nltk_data]    | \n",
            "[nltk_data]  Done downloading collection all\n"
          ]
        },
        {
          "output_type": "execute_result",
          "data": {
            "text/plain": [
              "True"
            ]
          },
          "metadata": {},
          "execution_count": 11
        }
      ]
    },
    {
      "cell_type": "markdown",
      "source": [
        "WordNet 모듈을 임포트해 present 단어에 대한 sysset을 추출하자. WordNet의 synsets()는 파라미터로 지정된 단어에 대해 WordNet에 등재된 모든 Synset을 반환한다."
      ],
      "metadata": {
        "id": "M4mYBw285hT2"
      }
    },
    {
      "cell_type": "code",
      "source": [
        "from nltk.corpus import wordnet as wn\n",
        "\n",
        "term='present'\n",
        "\n",
        "#present라는 단어로 wordnet의 synsets 생성\n",
        "synsets=wn.synsets(term)\n",
        "print('synsets() 반환 type :', type(synsets))\n",
        "print('synsets() 반환 값 개수 :', len(synsets))\n",
        "print('synsets() 반환 값 :', synsets)"
      ],
      "metadata": {
        "colab": {
          "base_uri": "https://localhost:8080/"
        },
        "id": "GNsAjHnI5tjK",
        "outputId": "58187780-d65a-40b8-90e0-d1a6bf339d03"
      },
      "execution_count": null,
      "outputs": [
        {
          "output_type": "stream",
          "name": "stdout",
          "text": [
            "synsets() 반환 type : <class 'list'>\n",
            "synsets() 반환 값 개수 : 18\n",
            "synsets() 반환 값 : [Synset('present.n.01'), Synset('present.n.02'), Synset('present.n.03'), Synset('show.v.01'), Synset('present.v.02'), Synset('stage.v.01'), Synset('present.v.04'), Synset('present.v.05'), Synset('award.v.01'), Synset('give.v.08'), Synset('deliver.v.01'), Synset('introduce.v.01'), Synset('portray.v.04'), Synset('confront.v.03'), Synset('present.v.12'), Synset('salute.v.06'), Synset('present.a.01'), Synset('present.a.02')]\n"
          ]
        }
      ]
    },
    {
      "cell_type": "markdown",
      "source": [
        "synsets() 호출 시 반환되는 것은 여러 개의 synset 객체를 가지는 리스트. present.n.01은 POS 태그를 나타내는데, present는 의미, n은 명사품사, 01은 present가 가지는 여러 의미가 있어서 이를 구분하는 인덱스.\n",
        "\n",
        "synset 객체가 가지는 속성을 살펴보자. Synset은 POS(품사), 정의, 부명제(Lemma) 등으로 시맨틱적인 요소를 표현할 수 있다."
      ],
      "metadata": {
        "id": "2JjvnoC66B7s"
      }
    },
    {
      "cell_type": "code",
      "source": [
        "for synset in synsets :\n",
        "  print('##### Synset name :', synset.name(), '#####')\n",
        "  print('POS :', synset.lexname())\n",
        "  print('Definition :', synset.definition())\n",
        "  print('Lemmas :', synset.lemma_names())"
      ],
      "metadata": {
        "colab": {
          "base_uri": "https://localhost:8080/"
        },
        "id": "25Iu-h7v6iWZ",
        "outputId": "70b445cb-1a4f-4a9b-9d74-2628939684da"
      },
      "execution_count": null,
      "outputs": [
        {
          "output_type": "stream",
          "name": "stdout",
          "text": [
            "##### Synset name : present.n.01 #####\n",
            "POS : noun.time\n",
            "Definition : the period of time that is happening now; any continuous stretch of time including the moment of speech\n",
            "Lemmas : ['present', 'nowadays']\n",
            "##### Synset name : present.n.02 #####\n",
            "POS : noun.possession\n",
            "Definition : something presented as a gift\n",
            "Lemmas : ['present']\n",
            "##### Synset name : present.n.03 #####\n",
            "POS : noun.communication\n",
            "Definition : a verb tense that expresses actions or states at the time of speaking\n",
            "Lemmas : ['present', 'present_tense']\n",
            "##### Synset name : show.v.01 #####\n",
            "POS : verb.perception\n",
            "Definition : give an exhibition of to an interested audience\n",
            "Lemmas : ['show', 'demo', 'exhibit', 'present', 'demonstrate']\n",
            "##### Synset name : present.v.02 #####\n",
            "POS : verb.communication\n",
            "Definition : bring forward and present to the mind\n",
            "Lemmas : ['present', 'represent', 'lay_out']\n",
            "##### Synset name : stage.v.01 #####\n",
            "POS : verb.creation\n",
            "Definition : perform (a play), especially on a stage\n",
            "Lemmas : ['stage', 'present', 'represent']\n",
            "##### Synset name : present.v.04 #####\n",
            "POS : verb.possession\n",
            "Definition : hand over formally\n",
            "Lemmas : ['present', 'submit']\n",
            "##### Synset name : present.v.05 #####\n",
            "POS : verb.stative\n",
            "Definition : introduce\n",
            "Lemmas : ['present', 'pose']\n",
            "##### Synset name : award.v.01 #####\n",
            "POS : verb.possession\n",
            "Definition : give, especially as an honor or reward\n",
            "Lemmas : ['award', 'present']\n",
            "##### Synset name : give.v.08 #####\n",
            "POS : verb.possession\n",
            "Definition : give as a present; make a gift of\n",
            "Lemmas : ['give', 'gift', 'present']\n",
            "##### Synset name : deliver.v.01 #####\n",
            "POS : verb.communication\n",
            "Definition : deliver (a speech, oration, or idea)\n",
            "Lemmas : ['deliver', 'present']\n",
            "##### Synset name : introduce.v.01 #####\n",
            "POS : verb.communication\n",
            "Definition : cause to come to know personally\n",
            "Lemmas : ['introduce', 'present', 'acquaint']\n",
            "##### Synset name : portray.v.04 #####\n",
            "POS : verb.creation\n",
            "Definition : represent abstractly, for example in a painting, drawing, or sculpture\n",
            "Lemmas : ['portray', 'present']\n",
            "##### Synset name : confront.v.03 #####\n",
            "POS : verb.communication\n",
            "Definition : present somebody with something, usually to accuse or criticize\n",
            "Lemmas : ['confront', 'face', 'present']\n",
            "##### Synset name : present.v.12 #####\n",
            "POS : verb.communication\n",
            "Definition : formally present a debutante, a representative of a country, etc.\n",
            "Lemmas : ['present']\n",
            "##### Synset name : salute.v.06 #####\n",
            "POS : verb.communication\n",
            "Definition : recognize with a gesture prescribed by a military regulation; assume a prescribed position\n",
            "Lemmas : ['salute', 'present']\n",
            "##### Synset name : present.a.01 #####\n",
            "POS : adj.all\n",
            "Definition : temporal sense; intermediate between past and future; now existing or happening or in consideration\n",
            "Lemmas : ['present']\n",
            "##### Synset name : present.a.02 #####\n",
            "POS : adj.all\n",
            "Definition : being or existing in a specified place\n",
            "Lemmas : ['present']\n"
          ]
        }
      ]
    },
    {
      "cell_type": "markdown",
      "source": [
        "present.n.01, present.n.02는 같은 품사지만, 다른 의미를 볼 수 있다. 이처럼 synset은 하나의 단어가 가질 수 있는 여러가지 시맨틱 정보를 개별 클래스로 나타낸 것.\n",
        "\n",
        "WordNet은 어떤 어휘와 다른 어휘 간의 관계를 유사도로 나타낼 수 있다. 단어 간의 유사도를 나타내기 위한 path_similarity() 메서드 사용.\n",
        "\n"
      ],
      "metadata": {
        "id": "V71Vxj3R69Cp"
      }
    },
    {
      "cell_type": "code",
      "source": [
        "#tree, lion, tiger, cat, dog 라는 단어 간의 상호 유사도를 살펴보자\n",
        "\n",
        "#synset 객체를 단어별로 생성\n",
        "tree=wn.synset('tree.n.01')\n",
        "lion=wn.synset('lion.n.01')\n",
        "tiger=wn.synset('tiger.n.02')\n",
        "cat=wn.synset('cat.n.01')\n",
        "dog=wn.synset('dog.n.01')\n",
        "\n",
        "entities=[tree, lion, tiger, cat, dog]\n",
        "similarities=[]\n",
        "entity_names=[entity.name().split('.')[0] for entity in entities]\n",
        "\n",
        "#단어별 synset을 반복하며 다른 단어의 synset과 유사도를 측정\n",
        "for entity in entities:\n",
        "  similarity=[round(entity.path_similarity(compared_entity), 2) for compared_entity in entities]\n",
        "  similarities.append(similarity)\n",
        "\n",
        "#개별 단어별 synset과 다른 단어의 synset과의 유사도를 DF 형태로 저장\n",
        "similarity_df=pd.DataFrame(similarities, columns=entity_names, index=entity_names)\n",
        "similarity_df"
      ],
      "metadata": {
        "colab": {
          "base_uri": "https://localhost:8080/",
          "height": 206
        },
        "id": "dD_EIkjE7dtW",
        "outputId": "79f59bf2-a22a-49b8-b93e-40579bd9c83d"
      },
      "execution_count": null,
      "outputs": [
        {
          "output_type": "execute_result",
          "data": {
            "text/plain": [
              "       tree  lion  tiger   cat   dog\n",
              "tree   1.00  0.07   0.07  0.08  0.12\n",
              "lion   0.07  1.00   0.33  0.25  0.17\n",
              "tiger  0.07  0.33   1.00  0.25  0.17\n",
              "cat    0.08  0.25   0.25  1.00  0.20\n",
              "dog    0.12  0.17   0.17  0.20  1.00"
            ],
            "text/html": [
              "\n",
              "  <div id=\"df-2bce7955-97e0-494a-8cb0-0a677dbdf6dc\">\n",
              "    <div class=\"colab-df-container\">\n",
              "      <div>\n",
              "<style scoped>\n",
              "    .dataframe tbody tr th:only-of-type {\n",
              "        vertical-align: middle;\n",
              "    }\n",
              "\n",
              "    .dataframe tbody tr th {\n",
              "        vertical-align: top;\n",
              "    }\n",
              "\n",
              "    .dataframe thead th {\n",
              "        text-align: right;\n",
              "    }\n",
              "</style>\n",
              "<table border=\"1\" class=\"dataframe\">\n",
              "  <thead>\n",
              "    <tr style=\"text-align: right;\">\n",
              "      <th></th>\n",
              "      <th>tree</th>\n",
              "      <th>lion</th>\n",
              "      <th>tiger</th>\n",
              "      <th>cat</th>\n",
              "      <th>dog</th>\n",
              "    </tr>\n",
              "  </thead>\n",
              "  <tbody>\n",
              "    <tr>\n",
              "      <th>tree</th>\n",
              "      <td>1.00</td>\n",
              "      <td>0.07</td>\n",
              "      <td>0.07</td>\n",
              "      <td>0.08</td>\n",
              "      <td>0.12</td>\n",
              "    </tr>\n",
              "    <tr>\n",
              "      <th>lion</th>\n",
              "      <td>0.07</td>\n",
              "      <td>1.00</td>\n",
              "      <td>0.33</td>\n",
              "      <td>0.25</td>\n",
              "      <td>0.17</td>\n",
              "    </tr>\n",
              "    <tr>\n",
              "      <th>tiger</th>\n",
              "      <td>0.07</td>\n",
              "      <td>0.33</td>\n",
              "      <td>1.00</td>\n",
              "      <td>0.25</td>\n",
              "      <td>0.17</td>\n",
              "    </tr>\n",
              "    <tr>\n",
              "      <th>cat</th>\n",
              "      <td>0.08</td>\n",
              "      <td>0.25</td>\n",
              "      <td>0.25</td>\n",
              "      <td>1.00</td>\n",
              "      <td>0.20</td>\n",
              "    </tr>\n",
              "    <tr>\n",
              "      <th>dog</th>\n",
              "      <td>0.12</td>\n",
              "      <td>0.17</td>\n",
              "      <td>0.17</td>\n",
              "      <td>0.20</td>\n",
              "      <td>1.00</td>\n",
              "    </tr>\n",
              "  </tbody>\n",
              "</table>\n",
              "</div>\n",
              "      <button class=\"colab-df-convert\" onclick=\"convertToInteractive('df-2bce7955-97e0-494a-8cb0-0a677dbdf6dc')\"\n",
              "              title=\"Convert this dataframe to an interactive table.\"\n",
              "              style=\"display:none;\">\n",
              "        \n",
              "  <svg xmlns=\"http://www.w3.org/2000/svg\" height=\"24px\"viewBox=\"0 0 24 24\"\n",
              "       width=\"24px\">\n",
              "    <path d=\"M0 0h24v24H0V0z\" fill=\"none\"/>\n",
              "    <path d=\"M18.56 5.44l.94 2.06.94-2.06 2.06-.94-2.06-.94-.94-2.06-.94 2.06-2.06.94zm-11 1L8.5 8.5l.94-2.06 2.06-.94-2.06-.94L8.5 2.5l-.94 2.06-2.06.94zm10 10l.94 2.06.94-2.06 2.06-.94-2.06-.94-.94-2.06-.94 2.06-2.06.94z\"/><path d=\"M17.41 7.96l-1.37-1.37c-.4-.4-.92-.59-1.43-.59-.52 0-1.04.2-1.43.59L10.3 9.45l-7.72 7.72c-.78.78-.78 2.05 0 2.83L4 21.41c.39.39.9.59 1.41.59.51 0 1.02-.2 1.41-.59l7.78-7.78 2.81-2.81c.8-.78.8-2.07 0-2.86zM5.41 20L4 18.59l7.72-7.72 1.47 1.35L5.41 20z\"/>\n",
              "  </svg>\n",
              "      </button>\n",
              "      \n",
              "  <style>\n",
              "    .colab-df-container {\n",
              "      display:flex;\n",
              "      flex-wrap:wrap;\n",
              "      gap: 12px;\n",
              "    }\n",
              "\n",
              "    .colab-df-convert {\n",
              "      background-color: #E8F0FE;\n",
              "      border: none;\n",
              "      border-radius: 50%;\n",
              "      cursor: pointer;\n",
              "      display: none;\n",
              "      fill: #1967D2;\n",
              "      height: 32px;\n",
              "      padding: 0 0 0 0;\n",
              "      width: 32px;\n",
              "    }\n",
              "\n",
              "    .colab-df-convert:hover {\n",
              "      background-color: #E2EBFA;\n",
              "      box-shadow: 0px 1px 2px rgba(60, 64, 67, 0.3), 0px 1px 3px 1px rgba(60, 64, 67, 0.15);\n",
              "      fill: #174EA6;\n",
              "    }\n",
              "\n",
              "    [theme=dark] .colab-df-convert {\n",
              "      background-color: #3B4455;\n",
              "      fill: #D2E3FC;\n",
              "    }\n",
              "\n",
              "    [theme=dark] .colab-df-convert:hover {\n",
              "      background-color: #434B5C;\n",
              "      box-shadow: 0px 1px 3px 1px rgba(0, 0, 0, 0.15);\n",
              "      filter: drop-shadow(0px 1px 2px rgba(0, 0, 0, 0.3));\n",
              "      fill: #FFFFFF;\n",
              "    }\n",
              "  </style>\n",
              "\n",
              "      <script>\n",
              "        const buttonEl =\n",
              "          document.querySelector('#df-2bce7955-97e0-494a-8cb0-0a677dbdf6dc button.colab-df-convert');\n",
              "        buttonEl.style.display =\n",
              "          google.colab.kernel.accessAllowed ? 'block' : 'none';\n",
              "\n",
              "        async function convertToInteractive(key) {\n",
              "          const element = document.querySelector('#df-2bce7955-97e0-494a-8cb0-0a677dbdf6dc');\n",
              "          const dataTable =\n",
              "            await google.colab.kernel.invokeFunction('convertToInteractive',\n",
              "                                                     [key], {});\n",
              "          if (!dataTable) return;\n",
              "\n",
              "          const docLinkHtml = 'Like what you see? Visit the ' +\n",
              "            '<a target=\"_blank\" href=https://colab.research.google.com/notebooks/data_table.ipynb>data table notebook</a>'\n",
              "            + ' to learn more about interactive tables.';\n",
              "          element.innerHTML = '';\n",
              "          dataTable['output_type'] = 'display_data';\n",
              "          await google.colab.output.renderOutput(dataTable, element);\n",
              "          const docLink = document.createElement('div');\n",
              "          docLink.innerHTML = docLinkHtml;\n",
              "          element.appendChild(docLink);\n",
              "        }\n",
              "      </script>\n",
              "    </div>\n",
              "  </div>\n",
              "  "
            ]
          },
          "metadata": {},
          "execution_count": 54
        }
      ]
    },
    {
      "cell_type": "markdown",
      "source": [
        "lion은 tree와의 유사도가 0.07로 가장 작고, tiger와는 유사도가 가장 크다.\n",
        "\n",
        "SentiWordNet은 WordNet의 Synset과 유사한 Senti_Synset 클래스를 가지고 있다. SentiWordNet 모듈의 senti_synsets()는 WordNet 모듈이라서 synsets()와 비슷하게 Senti_Synset 클래스를 리스트 형태로 반환한다."
      ],
      "metadata": {
        "id": "8b90jE008mIO"
      }
    },
    {
      "cell_type": "code",
      "source": [
        "import nltk\n",
        "from nltk.corpus import sentiwordnet as swn\n",
        "\n",
        "senti_synsets=list(swn.senti_synsets('slow'))\n",
        "print('senti_synsets() 반환 type :', type(senti_synsets))\n",
        "print('senti_synsets() 반환 값 개수 :', len(senti_synsets))\n",
        "print('senti_synsets() 반환 값 :', senti_synsets)"
      ],
      "metadata": {
        "colab": {
          "base_uri": "https://localhost:8080/"
        },
        "id": "RIQINqrn88U8",
        "outputId": "327b5668-fbc0-4c7d-a324-9d5e8326ec36"
      },
      "execution_count": null,
      "outputs": [
        {
          "output_type": "stream",
          "name": "stdout",
          "text": [
            "senti_synsets() 반환 type : <class 'list'>\n",
            "senti_synsets() 반환 값 개수 : 11\n",
            "senti_synsets() 반환 값 : [SentiSynset('decelerate.v.01'), SentiSynset('slow.v.02'), SentiSynset('slow.v.03'), SentiSynset('slow.a.01'), SentiSynset('slow.a.02'), SentiSynset('dense.s.04'), SentiSynset('slow.a.04'), SentiSynset('boring.s.01'), SentiSynset('dull.s.08'), SentiSynset('slowly.r.01'), SentiSynset('behind.r.03')]\n"
          ]
        }
      ]
    },
    {
      "cell_type": "markdown",
      "source": [
        "SentiSynset 객체는 단어의 감성을 나태는 감성 지수와 객관성을 나타내는 객관성 지수를 가지고 있다. 감성 지수는 긍정 감성 지수와 부정 감성 지수가 있다. 지수는 0~1 사이."
      ],
      "metadata": {
        "id": "29Po15IY9SX8"
      }
    },
    {
      "cell_type": "code",
      "source": [
        "#father 와 fabulous 라는 두개 단어의 감성 지수와 객관성 지수를 보자\n",
        "\n",
        "import nltk\n",
        "from nltk.corpus import sentiwordnet as swn\n",
        "\n",
        "father=swn.senti_synset('father.n.01')\n",
        "print('father 긍정 감성 지수 :', father.pos_score())\n",
        "print('father 부정 감성 지수 :', father.neg_score())\n",
        "print('father 객관성 지수 :', father.obj_score())\n",
        "print('\\n')\n",
        "fabulous=swn.senti_synset('fabulous.a.01')\n",
        "print('fabulous 긍정 감성 지수 :', fabulous.pos_score())\n",
        "print('fabulous 부정 감성 지수 :', fabulous.neg_score())\n",
        "print('fabulous 객관관성 지수 :', fabulous.obj_score())"
      ],
      "metadata": {
        "id": "2tC8YRVu9c0n",
        "colab": {
          "base_uri": "https://localhost:8080/"
        },
        "outputId": "383d3ba6-2ac5-4442-a1c0-376cc057e97f"
      },
      "execution_count": null,
      "outputs": [
        {
          "output_type": "stream",
          "name": "stdout",
          "text": [
            "father 긍정 감성 지수 : 0.0\n",
            "father 부정 감성 지수 : 0.0\n",
            "father 객관성 지수 : 1.0\n",
            "\n",
            "\n",
            "fabulous 긍정 감성 지수 : 0.875\n",
            "fabulous 부정 감성 지수 : 0.125\n",
            "fabulous 객관관성 지수 : 0.0\n"
          ]
        }
      ]
    },
    {
      "cell_type": "markdown",
      "source": [
        "father는 객관성 지수가 1, 감성 지수는 모두 0. fabulous는 긍정 감성 지수가 높다."
      ],
      "metadata": {
        "id": "6u5X-m9FcCun"
      }
    },
    {
      "cell_type": "markdown",
      "source": [
        "####**SentiWordNet을 이용한 영화 감상평 감성 분석**\n",
        "IMDB 영화 감상평 감성 분석을 SentiWordNet Lexicon 기반으로 수행해보자. SentiWordNet을 이용해 감성 분석을 하는 순서는 다음과 같다.\n",
        "1. 문서를 문장 단위로 분해\n",
        "2. 다시 문장을 단어(word) 단위로 토큰화하고 품사 태깅\n",
        "3. 품사 태깅된 단어 기반으로 synset 객체와 senti_synset 객체를 생성\n",
        "4. Senti_synset에서 긍정 감성/부정 감성 지수를 구하고 이를 모두 합산해 특정 임계치 값 이상일 때 긍정 감성으로, 그렇지 않을 때는 부정 감성으로 결정\n",
        "\n",
        "WordNet을 이용해 문서를 다시 단어로 토큰화하고 어근 추출(Lemmatization)과 품사 태깅(POS Tagging)을 적용하자."
      ],
      "metadata": {
        "id": "Pxah7kGIchg1"
      }
    },
    {
      "cell_type": "code",
      "source": [
        "#품사 태깅을 진행하는 내부 함수 생성\n",
        "\n",
        "from nltk.corpus import wordnet as wn\n",
        "\n",
        "#간단한 NTLK PennTreebank Tag를 기반으로 WordNet 기반의 품사 Tag로 변환\n",
        "def penn_to_wn(tag):\n",
        "  if tag.startswith('J'):\n",
        "    return wn.ADJ\n",
        "  elif tag.startswith('N'):\n",
        "    return wn.NOUN\n",
        "  elif tag.startswith(\"R\"):\n",
        "    return wn.ADV\n",
        "  elif tag.startswith('V'):\n",
        "    return wn.VERB\n",
        "  return"
      ],
      "metadata": {
        "id": "Rcn2khmYdK2Z"
      },
      "execution_count": null,
      "outputs": []
    },
    {
      "cell_type": "code",
      "source": [
        "#문서를 문장 -> 단어 토큰 -> 품사 태깅 후에 SentiSynset 클래스를 생성하고 Polarity Score를 합산하는 함수 생성\n",
        "from nltk.stem import WordNetLemmatizer\n",
        "from nltk.corpus import sentiwordnet as swn\n",
        "from nltk import sent_tokenize, word_tokenize, pos_tag\n",
        "\n",
        "def swn_polarity(text):\n",
        "    #감성 지수 초기화 \n",
        "    sentiment=0.0\n",
        "    tokens_count=0\n",
        "    \n",
        "    lemmatizer=WordNetLemmatizer()\n",
        "    raw_sentences=sent_tokenize(text)\n",
        "    #분해된 문장별로 단어 토큰 -> 품사 태깅 후에 SentiSynset 생성 -> 감성 지수 합산 \n",
        "    for raw_sentence in raw_sentences:\n",
        "        #NLTK 기반의 품사 태깅 문장 추출  \n",
        "        tagged_sentence=pos_tag(word_tokenize(raw_sentence))\n",
        "        for word, tag in tagged_sentence:\n",
        "            \n",
        "            # WordNet 기반 품사 태깅과 어근 추출\n",
        "            wn_tag=penn_to_wn(tag)\n",
        "            if wn_tag not in (wn.NOUN , wn.ADJ, wn.ADV):\n",
        "                continue                   \n",
        "            lemma=lemmatizer.lemmatize(word, pos=wn_tag)\n",
        "            if not lemma:\n",
        "                continue\n",
        "            # 어근을 추출한 단어와 WordNet 기반 품사 태깅을 입력해 Synset 객체를 생성. \n",
        "            synsets=wn.synsets(lemma , pos=wn_tag)\n",
        "            if not synsets:\n",
        "                continue\n",
        "            # sentiwordnet의 감성 단어 분석으로 감성 synset 추출\n",
        "            # 모든 단어에 대해 긍정 감성 지수는 +로 부정 감성 지수는 -로 합산해 감성 지수 계산. \n",
        "            synset=synsets[0]\n",
        "            swn_synset=swn.senti_synset(synset.name())\n",
        "            sentiment += (swn_synset.pos_score()-swn_synset.neg_score())           \n",
        "            tokens_count += 1\n",
        "    \n",
        "    if not tokens_count:\n",
        "        return 0\n",
        "    \n",
        "    # 총 score가 0 이상일 경우 긍정(Positive) 1, 그렇지 않을 경우 부정(Negative) 0 반환\n",
        "    if sentiment >= 0:\n",
        "        return 1\n",
        "    \n",
        "    return 0"
      ],
      "metadata": {
        "id": "QzY0Bo0mmOSj"
      },
      "execution_count": null,
      "outputs": []
    },
    {
      "cell_type": "markdown",
      "source": [
        "이렇게 생성한 swn_polarity(text) 함수를 IMDB 감상평의 개별 문서에 적용해 긍정 및 부정 감성을 예측하자. apply lambda 구문을 이용해 swn_polarity(text)를 개별 감상평 텍스트에 적용한다. 앞에서 사용한 review_df 그대로 사용, 새로운 칼럼 preds 추가해 이 칼럼에 감성 평가를 담자. 그 후 실제 감성 평가인 sentiment 칼럼과 preds 칼럼의 정확도, 정밀도, 재현율 값을 모두 측정해보자."
      ],
      "metadata": {
        "id": "mVl_27bUfXqJ"
      }
    },
    {
      "cell_type": "code",
      "source": [
        "review_df['preds']=review_df['review'].apply(lambda x: swn_polarity(x))\n",
        "y_target=review_df['sentiment'].values\n",
        "preds=review_df['preds'].values"
      ],
      "metadata": {
        "id": "UL8tndE_iaxQ"
      },
      "execution_count": null,
      "outputs": []
    },
    {
      "cell_type": "code",
      "source": [
        "review_df['preds'].value_counts()"
      ],
      "metadata": {
        "colab": {
          "base_uri": "https://localhost:8080/"
        },
        "id": "kKE-F-N1lNX2",
        "outputId": "24efa320-546e-4883-e1f0-50ca4bf7327c"
      },
      "execution_count": null,
      "outputs": [
        {
          "output_type": "execute_result",
          "data": {
            "text/plain": [
              "1    13696\n",
              "0    11304\n",
              "Name: preds, dtype: int64"
            ]
          },
          "metadata": {},
          "execution_count": 60
        }
      ]
    },
    {
      "cell_type": "markdown",
      "source": [
        "감성 분석 예측 성능을 살펴보자."
      ],
      "metadata": {
        "id": "YDbrWKkrkJZV"
      }
    },
    {
      "cell_type": "code",
      "source": [
        "from sklearn.metrics import accuracy_score, confusion_matrix, precision_score\n",
        "from sklearn.metrics import recall_score, f1_score, roc_auc_score\n",
        "import numpy as np\n",
        "\n",
        "print(confusion_matrix(y_target, preds))\n",
        "print('정확도 :', np.round(accuracy_score(y_target, preds), 4))\n",
        "print('정밀도 :', np.round(precision_score(y_target, preds), 4))\n",
        "print('재현율 :', np.round(recall_score(y_target, preds), 4))"
      ],
      "metadata": {
        "colab": {
          "base_uri": "https://localhost:8080/"
        },
        "id": "79EH_CPlkgSU",
        "outputId": "51acbeec-a4a9-4310-f934-029b36388cff"
      },
      "execution_count": null,
      "outputs": [
        {
          "output_type": "stream",
          "name": "stdout",
          "text": [
            "[[7668 4832]\n",
            " [3636 8864]]\n",
            "정확도 : 0.6613\n",
            "정밀도 : 0.6472\n",
            "재현율 : 0.7091\n"
          ]
        }
      ]
    },
    {
      "cell_type": "markdown",
      "source": [
        "사실 만족스러울 만한 수치는 아니다.\n",
        "\n",
        "SentiWordNet은 WordNet의 하위 모듈로서 감성 분석을 위한 다양한 프레임워크를 제공. VADER로도 감성 분석을 수행해보자."
      ],
      "metadata": {
        "id": "FxIdgqFypuMe"
      }
    },
    {
      "cell_type": "markdown",
      "source": [
        "###VADER를 이용한 감성 분석\n",
        "또다른 Lexicon인 VADER Lexicon. VADER는 소셜 미디어의 감성 분석 용도로 만들어진 룰 기반의 Lexicon. SentimentIntensityAnalyzer 클래스로 쉽게 할 수 있다. VADER는 NLTK의 서브 모듈, 단독 패키지 모두로 제공될 수 있다.\n",
        "\n",
        "VADER의 간단한 사용법을 살펴보자. NLTK 서브 모듈로 SentimentIntensityAnalyzer를 임포트해서 간략하게 IMDB의 감상평 한 개만 감성 분석을 수행해 결과를 확인해보자."
      ],
      "metadata": {
        "id": "1hUNgy5jNOOE"
      }
    },
    {
      "cell_type": "code",
      "source": [
        "from nltk.sentiment.vader import SentimentIntensityAnalyzer\n",
        "\n",
        "senti_analyzer=SentimentIntensityAnalyzer()\n",
        "senti_scores=senti_analyzer.polarity_scores(review_df['review'][0])\n",
        "print(senti_scores)"
      ],
      "metadata": {
        "colab": {
          "base_uri": "https://localhost:8080/"
        },
        "id": "G1sqXjX5qxtn",
        "outputId": "7ffa49fb-c69f-4e9a-99c3-f2151477143a"
      },
      "execution_count": null,
      "outputs": [
        {
          "output_type": "stream",
          "name": "stdout",
          "text": [
            "{'neg': 0.13, 'neu': 0.743, 'pos': 0.127, 'compound': -0.7943}\n"
          ]
        }
      ]
    },
    {
      "cell_type": "markdown",
      "source": [
        "VADER를 이용하면 매우 쉽게 감성 분석을 수행할 수 있다. 먼저 SentimentIntensityAnalyzer 객체를 생성한 뒤 문서별로 polarity_scores() 메서드를 호출해 감성 점수를 구한 뒤, 해당 문서의 감성 점수가 특정 임계값 이상이면 긍정, 아니면 부정으로 판단. 이 메서드는 딕셔너리 형태로 감성 점수를 반환한다. compound score를 기반으로 부정 또는 긍정 감성 여부를 결정한다. 보통 0.1 이상이면 긍정, 그 이하면 부정.\n",
        "\n",
        "VADER를 이용해 IMDB의 감성 분석을 수행해보자. vader_polarity() 함수를 생성할 것. 입력 파라미터로 텍스트와 결정 임계값 입력."
      ],
      "metadata": {
        "id": "Om64qo_CrO3s"
      }
    },
    {
      "cell_type": "code",
      "source": [
        "def vader_polarity(review, threshold=0.1):\n",
        "  analyzer=SentimentIntensityAnalyzer()\n",
        "  scores=analyzer.polarity_scores(review)\n",
        "\n",
        "  #compound 값에 기반해 threshold 입력값보다 크면 1, 그렇지 않으면 0을 반환\n",
        "  agg_score=scores['compound']\n",
        "  final_sentiment=1 if agg_score>=threshold else 0\n",
        "  return final_sentiment\n",
        "\n",
        "#apply lambda 식을 이용해 레코드별로 vader_polarity()를 수행하고 결과를 'vader_preds'에 저장\n",
        "review_df['vader_preds']=review_df['review'].apply(lambda x:vader_polarity(x, 0.1))\n",
        "y_target=review_df['sentiment'].values\n",
        "vader_preds=review_df['vader_preds'].values\n",
        "\n",
        "print(confusion_matrix(y_target, vader_preds))\n",
        "print('정확도 :', np.round(accuracy_score(y_target, vader_preds), 4))\n",
        "print('정밀도 :', np.round(precision_score(y_target, vader_preds), 4))\n",
        "print('재현율 :', np.round(recall_score(y_target, vader_preds), 4))"
      ],
      "metadata": {
        "colab": {
          "base_uri": "https://localhost:8080/"
        },
        "id": "4Jna8F1rsDRO",
        "outputId": "99cfdb2e-0b87-4600-b144-56e58142d88a"
      },
      "execution_count": null,
      "outputs": [
        {
          "output_type": "stream",
          "name": "stdout",
          "text": [
            "[[ 6747  5753]\n",
            " [ 1858 10642]]\n",
            "정확도 : 0.6956\n",
            "정밀도 : 0.6491\n",
            "재현율 : 0.8514\n"
          ]
        }
      ]
    },
    {
      "cell_type": "markdown",
      "source": [
        "정확도가 SentiWordNet보다 향상됐고, 특히 재현율이 크게 향상.\n",
        "\n",
        "이외에도 뛰어난 감성 사전으로 pattern 패키지가 있다. 아직 파이썬 3 버전에서는 지원 안함. 감성 사전을 이용한 감성 분석 예측 성능은 지도학습 분류 기반의 예측 성능에 비해 아직은 낮은 수준이지만 결정 클래스 값이 없는 상황을 고려하면 예측 성능에 일정 수준 만족할 수 있을 것."
      ],
      "metadata": {
        "id": "VL27ls2YuZwK"
      }
    }
  ]
}