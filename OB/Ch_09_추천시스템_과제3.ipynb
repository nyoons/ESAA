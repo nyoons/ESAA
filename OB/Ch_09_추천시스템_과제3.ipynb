{
  "nbformat": 4,
  "nbformat_minor": 0,
  "metadata": {
    "colab": {
      "provenance": [],
      "authorship_tag": "ABX9TyPVfb91CdVhKpuaEPwj2pbw",
      "include_colab_link": true
    },
    "kernelspec": {
      "name": "python3",
      "display_name": "Python 3"
    },
    "language_info": {
      "name": "python"
    }
  },
  "cells": [
    {
      "cell_type": "markdown",
      "metadata": {
        "id": "view-in-github",
        "colab_type": "text"
      },
      "source": [
        "<a href=\"https://colab.research.google.com/github/nyoons/ESAA/blob/main/Ch_09_%EC%B6%94%EC%B2%9C%EC%8B%9C%EC%8A%A4%ED%85%9C_%EA%B3%BC%EC%A0%9C3.ipynb\" target=\"_parent\"><img src=\"https://colab.research.google.com/assets/colab-badge.svg\" alt=\"Open In Colab\"/></a>"
      ]
    },
    {
      "cell_type": "markdown",
      "source": [
        "##**06. 아이템 기반 최근접 이웃 협업 필터링 실습**\n",
        ": 사용자 기반 vs 아이템 기반 중 아이템 기반으로 구현해보자."
      ],
      "metadata": {
        "id": "YLQ1ZhGmFdwm"
      }
    },
    {
      "cell_type": "markdown",
      "source": [
        "###**데이터 가공 및 변환**\n",
        "\n"
      ],
      "metadata": {
        "id": "RlPsgZBhFrmX"
      }
    },
    {
      "cell_type": "code",
      "execution_count": 36,
      "metadata": {
        "id": "mmQam5j8FNCB",
        "colab": {
          "base_uri": "https://localhost:8080/"
        },
        "outputId": "66d3819d-20ea-45f6-c7e2-a14b06be7185"
      },
      "outputs": [
        {
          "output_type": "stream",
          "name": "stdout",
          "text": [
            "(9742, 3)\n",
            "(100836, 4)\n"
          ]
        }
      ],
      "source": [
        "import pandas as pd\n",
        "import numpy as np\n",
        "\n",
        "movies=pd.read_csv('movies.csv')\n",
        "ratings=pd.read_csv('ratings.csv')\n",
        "print(movies.shape)\n",
        "print(ratings.shape)"
      ]
    },
    {
      "cell_type": "markdown",
      "source": [
        "ratings는 사용자별로 영화에 대한 평점을 매긴 데이터 세트. 평점은 0.5~5점으로 0.5 단위.\n",
        "\n",
        "협업 필터링은 이 ratings 데이터 세트와 같이 사용자와 아이템 간의 평점에 기반해 추천하는 시스템. 구현해보자. 먼저, 로우 레벨 형태의 원본 데이터 세트를 모든 사용자를 로우로, 모든 영화를 칼럼으로 구성한 데이터 세트로 변경해야 한다. (사용자-아이템 행렬). pivot_table()을 이용하면 쉽게 변환할 수 있다."
      ],
      "metadata": {
        "id": "p1rkM4FsHUwg"
      }
    },
    {
      "cell_type": "code",
      "source": [
        "ratings=ratings[['userId', 'movieId', 'rating']]\n",
        "ratings_matrix=ratings.pivot_table('rating', index='userId', columns='movieId')\n",
        "ratings_matrix.head(3)"
      ],
      "metadata": {
        "id": "v40f2CwMIAyO",
        "colab": {
          "base_uri": "https://localhost:8080/",
          "height": 204
        },
        "outputId": "253144c3-2b45-4ac2-c8c3-e06143f63a67"
      },
      "execution_count": 37,
      "outputs": [
        {
          "output_type": "execute_result",
          "data": {
            "text/plain": [
              "movieId  1       2       3       4       5       6       7       8       \\\n",
              "userId                                                                    \n",
              "1           4.0     NaN     4.0     NaN     NaN     4.0     NaN     NaN   \n",
              "2           NaN     NaN     NaN     NaN     NaN     NaN     NaN     NaN   \n",
              "3           NaN     NaN     NaN     NaN     NaN     NaN     NaN     NaN   \n",
              "\n",
              "movieId  9       10      ...  193565  193567  193571  193573  193579  193581  \\\n",
              "userId                   ...                                                   \n",
              "1           NaN     NaN  ...     NaN     NaN     NaN     NaN     NaN     NaN   \n",
              "2           NaN     NaN  ...     NaN     NaN     NaN     NaN     NaN     NaN   \n",
              "3           NaN     NaN  ...     NaN     NaN     NaN     NaN     NaN     NaN   \n",
              "\n",
              "movieId  193583  193585  193587  193609  \n",
              "userId                                   \n",
              "1           NaN     NaN     NaN     NaN  \n",
              "2           NaN     NaN     NaN     NaN  \n",
              "3           NaN     NaN     NaN     NaN  \n",
              "\n",
              "[3 rows x 9724 columns]"
            ],
            "text/html": [
              "\n",
              "  <div id=\"df-025a3f34-7bce-4c6c-a544-f5e64d57a96a\">\n",
              "    <div class=\"colab-df-container\">\n",
              "      <div>\n",
              "<style scoped>\n",
              "    .dataframe tbody tr th:only-of-type {\n",
              "        vertical-align: middle;\n",
              "    }\n",
              "\n",
              "    .dataframe tbody tr th {\n",
              "        vertical-align: top;\n",
              "    }\n",
              "\n",
              "    .dataframe thead th {\n",
              "        text-align: right;\n",
              "    }\n",
              "</style>\n",
              "<table border=\"1\" class=\"dataframe\">\n",
              "  <thead>\n",
              "    <tr style=\"text-align: right;\">\n",
              "      <th>movieId</th>\n",
              "      <th>1</th>\n",
              "      <th>2</th>\n",
              "      <th>3</th>\n",
              "      <th>4</th>\n",
              "      <th>5</th>\n",
              "      <th>6</th>\n",
              "      <th>7</th>\n",
              "      <th>8</th>\n",
              "      <th>9</th>\n",
              "      <th>10</th>\n",
              "      <th>...</th>\n",
              "      <th>193565</th>\n",
              "      <th>193567</th>\n",
              "      <th>193571</th>\n",
              "      <th>193573</th>\n",
              "      <th>193579</th>\n",
              "      <th>193581</th>\n",
              "      <th>193583</th>\n",
              "      <th>193585</th>\n",
              "      <th>193587</th>\n",
              "      <th>193609</th>\n",
              "    </tr>\n",
              "    <tr>\n",
              "      <th>userId</th>\n",
              "      <th></th>\n",
              "      <th></th>\n",
              "      <th></th>\n",
              "      <th></th>\n",
              "      <th></th>\n",
              "      <th></th>\n",
              "      <th></th>\n",
              "      <th></th>\n",
              "      <th></th>\n",
              "      <th></th>\n",
              "      <th></th>\n",
              "      <th></th>\n",
              "      <th></th>\n",
              "      <th></th>\n",
              "      <th></th>\n",
              "      <th></th>\n",
              "      <th></th>\n",
              "      <th></th>\n",
              "      <th></th>\n",
              "      <th></th>\n",
              "      <th></th>\n",
              "    </tr>\n",
              "  </thead>\n",
              "  <tbody>\n",
              "    <tr>\n",
              "      <th>1</th>\n",
              "      <td>4.0</td>\n",
              "      <td>NaN</td>\n",
              "      <td>4.0</td>\n",
              "      <td>NaN</td>\n",
              "      <td>NaN</td>\n",
              "      <td>4.0</td>\n",
              "      <td>NaN</td>\n",
              "      <td>NaN</td>\n",
              "      <td>NaN</td>\n",
              "      <td>NaN</td>\n",
              "      <td>...</td>\n",
              "      <td>NaN</td>\n",
              "      <td>NaN</td>\n",
              "      <td>NaN</td>\n",
              "      <td>NaN</td>\n",
              "      <td>NaN</td>\n",
              "      <td>NaN</td>\n",
              "      <td>NaN</td>\n",
              "      <td>NaN</td>\n",
              "      <td>NaN</td>\n",
              "      <td>NaN</td>\n",
              "    </tr>\n",
              "    <tr>\n",
              "      <th>2</th>\n",
              "      <td>NaN</td>\n",
              "      <td>NaN</td>\n",
              "      <td>NaN</td>\n",
              "      <td>NaN</td>\n",
              "      <td>NaN</td>\n",
              "      <td>NaN</td>\n",
              "      <td>NaN</td>\n",
              "      <td>NaN</td>\n",
              "      <td>NaN</td>\n",
              "      <td>NaN</td>\n",
              "      <td>...</td>\n",
              "      <td>NaN</td>\n",
              "      <td>NaN</td>\n",
              "      <td>NaN</td>\n",
              "      <td>NaN</td>\n",
              "      <td>NaN</td>\n",
              "      <td>NaN</td>\n",
              "      <td>NaN</td>\n",
              "      <td>NaN</td>\n",
              "      <td>NaN</td>\n",
              "      <td>NaN</td>\n",
              "    </tr>\n",
              "    <tr>\n",
              "      <th>3</th>\n",
              "      <td>NaN</td>\n",
              "      <td>NaN</td>\n",
              "      <td>NaN</td>\n",
              "      <td>NaN</td>\n",
              "      <td>NaN</td>\n",
              "      <td>NaN</td>\n",
              "      <td>NaN</td>\n",
              "      <td>NaN</td>\n",
              "      <td>NaN</td>\n",
              "      <td>NaN</td>\n",
              "      <td>...</td>\n",
              "      <td>NaN</td>\n",
              "      <td>NaN</td>\n",
              "      <td>NaN</td>\n",
              "      <td>NaN</td>\n",
              "      <td>NaN</td>\n",
              "      <td>NaN</td>\n",
              "      <td>NaN</td>\n",
              "      <td>NaN</td>\n",
              "      <td>NaN</td>\n",
              "      <td>NaN</td>\n",
              "    </tr>\n",
              "  </tbody>\n",
              "</table>\n",
              "<p>3 rows × 9724 columns</p>\n",
              "</div>\n",
              "      <button class=\"colab-df-convert\" onclick=\"convertToInteractive('df-025a3f34-7bce-4c6c-a544-f5e64d57a96a')\"\n",
              "              title=\"Convert this dataframe to an interactive table.\"\n",
              "              style=\"display:none;\">\n",
              "        \n",
              "  <svg xmlns=\"http://www.w3.org/2000/svg\" height=\"24px\"viewBox=\"0 0 24 24\"\n",
              "       width=\"24px\">\n",
              "    <path d=\"M0 0h24v24H0V0z\" fill=\"none\"/>\n",
              "    <path d=\"M18.56 5.44l.94 2.06.94-2.06 2.06-.94-2.06-.94-.94-2.06-.94 2.06-2.06.94zm-11 1L8.5 8.5l.94-2.06 2.06-.94-2.06-.94L8.5 2.5l-.94 2.06-2.06.94zm10 10l.94 2.06.94-2.06 2.06-.94-2.06-.94-.94-2.06-.94 2.06-2.06.94z\"/><path d=\"M17.41 7.96l-1.37-1.37c-.4-.4-.92-.59-1.43-.59-.52 0-1.04.2-1.43.59L10.3 9.45l-7.72 7.72c-.78.78-.78 2.05 0 2.83L4 21.41c.39.39.9.59 1.41.59.51 0 1.02-.2 1.41-.59l7.78-7.78 2.81-2.81c.8-.78.8-2.07 0-2.86zM5.41 20L4 18.59l7.72-7.72 1.47 1.35L5.41 20z\"/>\n",
              "  </svg>\n",
              "      </button>\n",
              "      \n",
              "  <style>\n",
              "    .colab-df-container {\n",
              "      display:flex;\n",
              "      flex-wrap:wrap;\n",
              "      gap: 12px;\n",
              "    }\n",
              "\n",
              "    .colab-df-convert {\n",
              "      background-color: #E8F0FE;\n",
              "      border: none;\n",
              "      border-radius: 50%;\n",
              "      cursor: pointer;\n",
              "      display: none;\n",
              "      fill: #1967D2;\n",
              "      height: 32px;\n",
              "      padding: 0 0 0 0;\n",
              "      width: 32px;\n",
              "    }\n",
              "\n",
              "    .colab-df-convert:hover {\n",
              "      background-color: #E2EBFA;\n",
              "      box-shadow: 0px 1px 2px rgba(60, 64, 67, 0.3), 0px 1px 3px 1px rgba(60, 64, 67, 0.15);\n",
              "      fill: #174EA6;\n",
              "    }\n",
              "\n",
              "    [theme=dark] .colab-df-convert {\n",
              "      background-color: #3B4455;\n",
              "      fill: #D2E3FC;\n",
              "    }\n",
              "\n",
              "    [theme=dark] .colab-df-convert:hover {\n",
              "      background-color: #434B5C;\n",
              "      box-shadow: 0px 1px 3px 1px rgba(0, 0, 0, 0.15);\n",
              "      filter: drop-shadow(0px 1px 2px rgba(0, 0, 0, 0.3));\n",
              "      fill: #FFFFFF;\n",
              "    }\n",
              "  </style>\n",
              "\n",
              "      <script>\n",
              "        const buttonEl =\n",
              "          document.querySelector('#df-025a3f34-7bce-4c6c-a544-f5e64d57a96a button.colab-df-convert');\n",
              "        buttonEl.style.display =\n",
              "          google.colab.kernel.accessAllowed ? 'block' : 'none';\n",
              "\n",
              "        async function convertToInteractive(key) {\n",
              "          const element = document.querySelector('#df-025a3f34-7bce-4c6c-a544-f5e64d57a96a');\n",
              "          const dataTable =\n",
              "            await google.colab.kernel.invokeFunction('convertToInteractive',\n",
              "                                                     [key], {});\n",
              "          if (!dataTable) return;\n",
              "\n",
              "          const docLinkHtml = 'Like what you see? Visit the ' +\n",
              "            '<a target=\"_blank\" href=https://colab.research.google.com/notebooks/data_table.ipynb>data table notebook</a>'\n",
              "            + ' to learn more about interactive tables.';\n",
              "          element.innerHTML = '';\n",
              "          dataTable['output_type'] = 'display_data';\n",
              "          await google.colab.output.renderOutput(dataTable, element);\n",
              "          const docLink = document.createElement('div');\n",
              "          docLink.innerHTML = docLinkHtml;\n",
              "          element.appendChild(docLink);\n",
              "        }\n",
              "      </script>\n",
              "    </div>\n",
              "  </div>\n",
              "  "
            ]
          },
          "metadata": {},
          "execution_count": 37
        }
      ]
    },
    {
      "cell_type": "markdown",
      "source": [
        "NaN 값이 눈에 띈다. 사용자가 평점을 매기지 않은 영화도 있기 때문. 최소 평점이 0.5 이므로 NaN은 0으로 변환하자. 그 전에, 칼럼명이 현재 숫자로 할당되어 어떤 영화인지 알기 어려우니 칼럼명을 id가 아닌 영화명으로 변경하자. movies 데이터 이용."
      ],
      "metadata": {
        "id": "fXJgYR6yIRlA"
      }
    },
    {
      "cell_type": "code",
      "source": [
        "#title 칼럼을 얻기 위해 movies와 조인\n",
        "rating_movies=pd.merge(ratings, movies, on='movieId')\n",
        "\n",
        "#columns='title'로 title 칼럼으로 피벗 수행.\n",
        "ratings_matrix=rating_movies.pivot_table('rating', index='userId', columns='title')\n",
        "\n",
        "#NaN 값 0 변환\n",
        "ratings_matrix=ratings_matrix.fillna(0)\n",
        "ratings_matrix.head(3)"
      ],
      "metadata": {
        "id": "-jcMysnzIl8v",
        "colab": {
          "base_uri": "https://localhost:8080/",
          "height": 389
        },
        "outputId": "df9da219-00d4-40b6-d771-207bfb2df1d2"
      },
      "execution_count": 38,
      "outputs": [
        {
          "output_type": "execute_result",
          "data": {
            "text/plain": [
              "title   '71 (2014)  'Hellboy': The Seeds of Creation (2004)  \\\n",
              "userId                                                        \n",
              "1              0.0                                      0.0   \n",
              "2              0.0                                      0.0   \n",
              "3              0.0                                      0.0   \n",
              "\n",
              "title   'Round Midnight (1986)  'Salem's Lot (2004)  \\\n",
              "userId                                                \n",
              "1                          0.0                  0.0   \n",
              "2                          0.0                  0.0   \n",
              "3                          0.0                  0.0   \n",
              "\n",
              "title   'Til There Was You (1997)  'Tis the Season for Love (2015)  \\\n",
              "userId                                                               \n",
              "1                             0.0                              0.0   \n",
              "2                             0.0                              0.0   \n",
              "3                             0.0                              0.0   \n",
              "\n",
              "title   'burbs, The (1989)  'night Mother (1986)  (500) Days of Summer (2009)  \\\n",
              "userId                                                                          \n",
              "1                      0.0                   0.0                          0.0   \n",
              "2                      0.0                   0.0                          0.0   \n",
              "3                      0.0                   0.0                          0.0   \n",
              "\n",
              "title   *batteries not included (1987)  ...  Zulu (2013)  [REC] (2007)  \\\n",
              "userId                                  ...                              \n",
              "1                                  0.0  ...          0.0           0.0   \n",
              "2                                  0.0  ...          0.0           0.0   \n",
              "3                                  0.0  ...          0.0           0.0   \n",
              "\n",
              "title   [REC]² (2009)  [REC]³ 3 Génesis (2012)  \\\n",
              "userId                                           \n",
              "1                 0.0                      0.0   \n",
              "2                 0.0                      0.0   \n",
              "3                 0.0                      0.0   \n",
              "\n",
              "title   anohana: The Flower We Saw That Day - The Movie (2013)  \\\n",
              "userId                                                           \n",
              "1                                                     0.0        \n",
              "2                                                     0.0        \n",
              "3                                                     0.0        \n",
              "\n",
              "title   eXistenZ (1999)  xXx (2002)  xXx: State of the Union (2005)  \\\n",
              "userId                                                                \n",
              "1                   0.0         0.0                             0.0   \n",
              "2                   0.0         0.0                             0.0   \n",
              "3                   0.0         0.0                             0.0   \n",
              "\n",
              "title   ¡Three Amigos! (1986)  À nous la liberté (Freedom for Us) (1931)  \n",
              "userId                                                                    \n",
              "1                         4.0                                        0.0  \n",
              "2                         0.0                                        0.0  \n",
              "3                         0.0                                        0.0  \n",
              "\n",
              "[3 rows x 9719 columns]"
            ],
            "text/html": [
              "\n",
              "  <div id=\"df-b05cf275-f054-48ec-b1be-8181d34ed732\">\n",
              "    <div class=\"colab-df-container\">\n",
              "      <div>\n",
              "<style scoped>\n",
              "    .dataframe tbody tr th:only-of-type {\n",
              "        vertical-align: middle;\n",
              "    }\n",
              "\n",
              "    .dataframe tbody tr th {\n",
              "        vertical-align: top;\n",
              "    }\n",
              "\n",
              "    .dataframe thead th {\n",
              "        text-align: right;\n",
              "    }\n",
              "</style>\n",
              "<table border=\"1\" class=\"dataframe\">\n",
              "  <thead>\n",
              "    <tr style=\"text-align: right;\">\n",
              "      <th>title</th>\n",
              "      <th>'71 (2014)</th>\n",
              "      <th>'Hellboy': The Seeds of Creation (2004)</th>\n",
              "      <th>'Round Midnight (1986)</th>\n",
              "      <th>'Salem's Lot (2004)</th>\n",
              "      <th>'Til There Was You (1997)</th>\n",
              "      <th>'Tis the Season for Love (2015)</th>\n",
              "      <th>'burbs, The (1989)</th>\n",
              "      <th>'night Mother (1986)</th>\n",
              "      <th>(500) Days of Summer (2009)</th>\n",
              "      <th>*batteries not included (1987)</th>\n",
              "      <th>...</th>\n",
              "      <th>Zulu (2013)</th>\n",
              "      <th>[REC] (2007)</th>\n",
              "      <th>[REC]² (2009)</th>\n",
              "      <th>[REC]³ 3 Génesis (2012)</th>\n",
              "      <th>anohana: The Flower We Saw That Day - The Movie (2013)</th>\n",
              "      <th>eXistenZ (1999)</th>\n",
              "      <th>xXx (2002)</th>\n",
              "      <th>xXx: State of the Union (2005)</th>\n",
              "      <th>¡Three Amigos! (1986)</th>\n",
              "      <th>À nous la liberté (Freedom for Us) (1931)</th>\n",
              "    </tr>\n",
              "    <tr>\n",
              "      <th>userId</th>\n",
              "      <th></th>\n",
              "      <th></th>\n",
              "      <th></th>\n",
              "      <th></th>\n",
              "      <th></th>\n",
              "      <th></th>\n",
              "      <th></th>\n",
              "      <th></th>\n",
              "      <th></th>\n",
              "      <th></th>\n",
              "      <th></th>\n",
              "      <th></th>\n",
              "      <th></th>\n",
              "      <th></th>\n",
              "      <th></th>\n",
              "      <th></th>\n",
              "      <th></th>\n",
              "      <th></th>\n",
              "      <th></th>\n",
              "      <th></th>\n",
              "      <th></th>\n",
              "    </tr>\n",
              "  </thead>\n",
              "  <tbody>\n",
              "    <tr>\n",
              "      <th>1</th>\n",
              "      <td>0.0</td>\n",
              "      <td>0.0</td>\n",
              "      <td>0.0</td>\n",
              "      <td>0.0</td>\n",
              "      <td>0.0</td>\n",
              "      <td>0.0</td>\n",
              "      <td>0.0</td>\n",
              "      <td>0.0</td>\n",
              "      <td>0.0</td>\n",
              "      <td>0.0</td>\n",
              "      <td>...</td>\n",
              "      <td>0.0</td>\n",
              "      <td>0.0</td>\n",
              "      <td>0.0</td>\n",
              "      <td>0.0</td>\n",
              "      <td>0.0</td>\n",
              "      <td>0.0</td>\n",
              "      <td>0.0</td>\n",
              "      <td>0.0</td>\n",
              "      <td>4.0</td>\n",
              "      <td>0.0</td>\n",
              "    </tr>\n",
              "    <tr>\n",
              "      <th>2</th>\n",
              "      <td>0.0</td>\n",
              "      <td>0.0</td>\n",
              "      <td>0.0</td>\n",
              "      <td>0.0</td>\n",
              "      <td>0.0</td>\n",
              "      <td>0.0</td>\n",
              "      <td>0.0</td>\n",
              "      <td>0.0</td>\n",
              "      <td>0.0</td>\n",
              "      <td>0.0</td>\n",
              "      <td>...</td>\n",
              "      <td>0.0</td>\n",
              "      <td>0.0</td>\n",
              "      <td>0.0</td>\n",
              "      <td>0.0</td>\n",
              "      <td>0.0</td>\n",
              "      <td>0.0</td>\n",
              "      <td>0.0</td>\n",
              "      <td>0.0</td>\n",
              "      <td>0.0</td>\n",
              "      <td>0.0</td>\n",
              "    </tr>\n",
              "    <tr>\n",
              "      <th>3</th>\n",
              "      <td>0.0</td>\n",
              "      <td>0.0</td>\n",
              "      <td>0.0</td>\n",
              "      <td>0.0</td>\n",
              "      <td>0.0</td>\n",
              "      <td>0.0</td>\n",
              "      <td>0.0</td>\n",
              "      <td>0.0</td>\n",
              "      <td>0.0</td>\n",
              "      <td>0.0</td>\n",
              "      <td>...</td>\n",
              "      <td>0.0</td>\n",
              "      <td>0.0</td>\n",
              "      <td>0.0</td>\n",
              "      <td>0.0</td>\n",
              "      <td>0.0</td>\n",
              "      <td>0.0</td>\n",
              "      <td>0.0</td>\n",
              "      <td>0.0</td>\n",
              "      <td>0.0</td>\n",
              "      <td>0.0</td>\n",
              "    </tr>\n",
              "  </tbody>\n",
              "</table>\n",
              "<p>3 rows × 9719 columns</p>\n",
              "</div>\n",
              "      <button class=\"colab-df-convert\" onclick=\"convertToInteractive('df-b05cf275-f054-48ec-b1be-8181d34ed732')\"\n",
              "              title=\"Convert this dataframe to an interactive table.\"\n",
              "              style=\"display:none;\">\n",
              "        \n",
              "  <svg xmlns=\"http://www.w3.org/2000/svg\" height=\"24px\"viewBox=\"0 0 24 24\"\n",
              "       width=\"24px\">\n",
              "    <path d=\"M0 0h24v24H0V0z\" fill=\"none\"/>\n",
              "    <path d=\"M18.56 5.44l.94 2.06.94-2.06 2.06-.94-2.06-.94-.94-2.06-.94 2.06-2.06.94zm-11 1L8.5 8.5l.94-2.06 2.06-.94-2.06-.94L8.5 2.5l-.94 2.06-2.06.94zm10 10l.94 2.06.94-2.06 2.06-.94-2.06-.94-.94-2.06-.94 2.06-2.06.94z\"/><path d=\"M17.41 7.96l-1.37-1.37c-.4-.4-.92-.59-1.43-.59-.52 0-1.04.2-1.43.59L10.3 9.45l-7.72 7.72c-.78.78-.78 2.05 0 2.83L4 21.41c.39.39.9.59 1.41.59.51 0 1.02-.2 1.41-.59l7.78-7.78 2.81-2.81c.8-.78.8-2.07 0-2.86zM5.41 20L4 18.59l7.72-7.72 1.47 1.35L5.41 20z\"/>\n",
              "  </svg>\n",
              "      </button>\n",
              "      \n",
              "  <style>\n",
              "    .colab-df-container {\n",
              "      display:flex;\n",
              "      flex-wrap:wrap;\n",
              "      gap: 12px;\n",
              "    }\n",
              "\n",
              "    .colab-df-convert {\n",
              "      background-color: #E8F0FE;\n",
              "      border: none;\n",
              "      border-radius: 50%;\n",
              "      cursor: pointer;\n",
              "      display: none;\n",
              "      fill: #1967D2;\n",
              "      height: 32px;\n",
              "      padding: 0 0 0 0;\n",
              "      width: 32px;\n",
              "    }\n",
              "\n",
              "    .colab-df-convert:hover {\n",
              "      background-color: #E2EBFA;\n",
              "      box-shadow: 0px 1px 2px rgba(60, 64, 67, 0.3), 0px 1px 3px 1px rgba(60, 64, 67, 0.15);\n",
              "      fill: #174EA6;\n",
              "    }\n",
              "\n",
              "    [theme=dark] .colab-df-convert {\n",
              "      background-color: #3B4455;\n",
              "      fill: #D2E3FC;\n",
              "    }\n",
              "\n",
              "    [theme=dark] .colab-df-convert:hover {\n",
              "      background-color: #434B5C;\n",
              "      box-shadow: 0px 1px 3px 1px rgba(0, 0, 0, 0.15);\n",
              "      filter: drop-shadow(0px 1px 2px rgba(0, 0, 0, 0.3));\n",
              "      fill: #FFFFFF;\n",
              "    }\n",
              "  </style>\n",
              "\n",
              "      <script>\n",
              "        const buttonEl =\n",
              "          document.querySelector('#df-b05cf275-f054-48ec-b1be-8181d34ed732 button.colab-df-convert');\n",
              "        buttonEl.style.display =\n",
              "          google.colab.kernel.accessAllowed ? 'block' : 'none';\n",
              "\n",
              "        async function convertToInteractive(key) {\n",
              "          const element = document.querySelector('#df-b05cf275-f054-48ec-b1be-8181d34ed732');\n",
              "          const dataTable =\n",
              "            await google.colab.kernel.invokeFunction('convertToInteractive',\n",
              "                                                     [key], {});\n",
              "          if (!dataTable) return;\n",
              "\n",
              "          const docLinkHtml = 'Like what you see? Visit the ' +\n",
              "            '<a target=\"_blank\" href=https://colab.research.google.com/notebooks/data_table.ipynb>data table notebook</a>'\n",
              "            + ' to learn more about interactive tables.';\n",
              "          element.innerHTML = '';\n",
              "          dataTable['output_type'] = 'display_data';\n",
              "          await google.colab.output.renderOutput(dataTable, element);\n",
              "          const docLink = document.createElement('div');\n",
              "          docLink.innerHTML = docLinkHtml;\n",
              "          element.appendChild(docLink);\n",
              "        }\n",
              "      </script>\n",
              "    </div>\n",
              "  </div>\n",
              "  "
            ]
          },
          "metadata": {},
          "execution_count": 38
        }
      ]
    },
    {
      "cell_type": "markdown",
      "source": [
        "###**영화 간 유사도 산출**\n",
        "변환된 사용자-영화 평점 행렬 데이터로 영화 간 유사도 측정하자. 코사인 유사도 기반. 코사인 유사도는 행을 기준으로 서로 다른 행을 비교해 유사도를 산출하므로 ratings_matrix로는 할 수 없다. (그럼 사용자 간의 유사도가 만들어진다). \n",
        "\n",
        "영화를 기준으로 적용하려면 현재 ratings_matrix에서 행, 열이 바뀌어야함."
      ],
      "metadata": {
        "id": "rTkz5mfzFyAJ"
      }
    },
    {
      "cell_type": "code",
      "source": [
        "ratings_matrix_T=ratings_matrix.transpose()\n",
        "ratings_matrix_T.head(3)"
      ],
      "metadata": {
        "id": "SEWz37IdF0uQ",
        "colab": {
          "base_uri": "https://localhost:8080/",
          "height": 204
        },
        "outputId": "f2d6edf8-3ebc-4a16-c8a9-9ba5c4d41d33"
      },
      "execution_count": 39,
      "outputs": [
        {
          "output_type": "execute_result",
          "data": {
            "text/plain": [
              "userId                                   1    2    3    4    5    6    7    \\\n",
              "title                                                                        \n",
              "'71 (2014)                               0.0  0.0  0.0  0.0  0.0  0.0  0.0   \n",
              "'Hellboy': The Seeds of Creation (2004)  0.0  0.0  0.0  0.0  0.0  0.0  0.0   \n",
              "'Round Midnight (1986)                   0.0  0.0  0.0  0.0  0.0  0.0  0.0   \n",
              "\n",
              "userId                                   8    9    10   ...  601  602  603  \\\n",
              "title                                                   ...                  \n",
              "'71 (2014)                               0.0  0.0  0.0  ...  0.0  0.0  0.0   \n",
              "'Hellboy': The Seeds of Creation (2004)  0.0  0.0  0.0  ...  0.0  0.0  0.0   \n",
              "'Round Midnight (1986)                   0.0  0.0  0.0  ...  0.0  0.0  0.0   \n",
              "\n",
              "userId                                   604  605  606  607  608  609  610  \n",
              "title                                                                       \n",
              "'71 (2014)                               0.0  0.0  0.0  0.0  0.0  0.0  4.0  \n",
              "'Hellboy': The Seeds of Creation (2004)  0.0  0.0  0.0  0.0  0.0  0.0  0.0  \n",
              "'Round Midnight (1986)                   0.0  0.0  0.0  0.0  0.0  0.0  0.0  \n",
              "\n",
              "[3 rows x 610 columns]"
            ],
            "text/html": [
              "\n",
              "  <div id=\"df-6eba276a-9c1f-474c-86f4-dd5c9fdc2e56\">\n",
              "    <div class=\"colab-df-container\">\n",
              "      <div>\n",
              "<style scoped>\n",
              "    .dataframe tbody tr th:only-of-type {\n",
              "        vertical-align: middle;\n",
              "    }\n",
              "\n",
              "    .dataframe tbody tr th {\n",
              "        vertical-align: top;\n",
              "    }\n",
              "\n",
              "    .dataframe thead th {\n",
              "        text-align: right;\n",
              "    }\n",
              "</style>\n",
              "<table border=\"1\" class=\"dataframe\">\n",
              "  <thead>\n",
              "    <tr style=\"text-align: right;\">\n",
              "      <th>userId</th>\n",
              "      <th>1</th>\n",
              "      <th>2</th>\n",
              "      <th>3</th>\n",
              "      <th>4</th>\n",
              "      <th>5</th>\n",
              "      <th>6</th>\n",
              "      <th>7</th>\n",
              "      <th>8</th>\n",
              "      <th>9</th>\n",
              "      <th>10</th>\n",
              "      <th>...</th>\n",
              "      <th>601</th>\n",
              "      <th>602</th>\n",
              "      <th>603</th>\n",
              "      <th>604</th>\n",
              "      <th>605</th>\n",
              "      <th>606</th>\n",
              "      <th>607</th>\n",
              "      <th>608</th>\n",
              "      <th>609</th>\n",
              "      <th>610</th>\n",
              "    </tr>\n",
              "    <tr>\n",
              "      <th>title</th>\n",
              "      <th></th>\n",
              "      <th></th>\n",
              "      <th></th>\n",
              "      <th></th>\n",
              "      <th></th>\n",
              "      <th></th>\n",
              "      <th></th>\n",
              "      <th></th>\n",
              "      <th></th>\n",
              "      <th></th>\n",
              "      <th></th>\n",
              "      <th></th>\n",
              "      <th></th>\n",
              "      <th></th>\n",
              "      <th></th>\n",
              "      <th></th>\n",
              "      <th></th>\n",
              "      <th></th>\n",
              "      <th></th>\n",
              "      <th></th>\n",
              "      <th></th>\n",
              "    </tr>\n",
              "  </thead>\n",
              "  <tbody>\n",
              "    <tr>\n",
              "      <th>'71 (2014)</th>\n",
              "      <td>0.0</td>\n",
              "      <td>0.0</td>\n",
              "      <td>0.0</td>\n",
              "      <td>0.0</td>\n",
              "      <td>0.0</td>\n",
              "      <td>0.0</td>\n",
              "      <td>0.0</td>\n",
              "      <td>0.0</td>\n",
              "      <td>0.0</td>\n",
              "      <td>0.0</td>\n",
              "      <td>...</td>\n",
              "      <td>0.0</td>\n",
              "      <td>0.0</td>\n",
              "      <td>0.0</td>\n",
              "      <td>0.0</td>\n",
              "      <td>0.0</td>\n",
              "      <td>0.0</td>\n",
              "      <td>0.0</td>\n",
              "      <td>0.0</td>\n",
              "      <td>0.0</td>\n",
              "      <td>4.0</td>\n",
              "    </tr>\n",
              "    <tr>\n",
              "      <th>'Hellboy': The Seeds of Creation (2004)</th>\n",
              "      <td>0.0</td>\n",
              "      <td>0.0</td>\n",
              "      <td>0.0</td>\n",
              "      <td>0.0</td>\n",
              "      <td>0.0</td>\n",
              "      <td>0.0</td>\n",
              "      <td>0.0</td>\n",
              "      <td>0.0</td>\n",
              "      <td>0.0</td>\n",
              "      <td>0.0</td>\n",
              "      <td>...</td>\n",
              "      <td>0.0</td>\n",
              "      <td>0.0</td>\n",
              "      <td>0.0</td>\n",
              "      <td>0.0</td>\n",
              "      <td>0.0</td>\n",
              "      <td>0.0</td>\n",
              "      <td>0.0</td>\n",
              "      <td>0.0</td>\n",
              "      <td>0.0</td>\n",
              "      <td>0.0</td>\n",
              "    </tr>\n",
              "    <tr>\n",
              "      <th>'Round Midnight (1986)</th>\n",
              "      <td>0.0</td>\n",
              "      <td>0.0</td>\n",
              "      <td>0.0</td>\n",
              "      <td>0.0</td>\n",
              "      <td>0.0</td>\n",
              "      <td>0.0</td>\n",
              "      <td>0.0</td>\n",
              "      <td>0.0</td>\n",
              "      <td>0.0</td>\n",
              "      <td>0.0</td>\n",
              "      <td>...</td>\n",
              "      <td>0.0</td>\n",
              "      <td>0.0</td>\n",
              "      <td>0.0</td>\n",
              "      <td>0.0</td>\n",
              "      <td>0.0</td>\n",
              "      <td>0.0</td>\n",
              "      <td>0.0</td>\n",
              "      <td>0.0</td>\n",
              "      <td>0.0</td>\n",
              "      <td>0.0</td>\n",
              "    </tr>\n",
              "  </tbody>\n",
              "</table>\n",
              "<p>3 rows × 610 columns</p>\n",
              "</div>\n",
              "      <button class=\"colab-df-convert\" onclick=\"convertToInteractive('df-6eba276a-9c1f-474c-86f4-dd5c9fdc2e56')\"\n",
              "              title=\"Convert this dataframe to an interactive table.\"\n",
              "              style=\"display:none;\">\n",
              "        \n",
              "  <svg xmlns=\"http://www.w3.org/2000/svg\" height=\"24px\"viewBox=\"0 0 24 24\"\n",
              "       width=\"24px\">\n",
              "    <path d=\"M0 0h24v24H0V0z\" fill=\"none\"/>\n",
              "    <path d=\"M18.56 5.44l.94 2.06.94-2.06 2.06-.94-2.06-.94-.94-2.06-.94 2.06-2.06.94zm-11 1L8.5 8.5l.94-2.06 2.06-.94-2.06-.94L8.5 2.5l-.94 2.06-2.06.94zm10 10l.94 2.06.94-2.06 2.06-.94-2.06-.94-.94-2.06-.94 2.06-2.06.94z\"/><path d=\"M17.41 7.96l-1.37-1.37c-.4-.4-.92-.59-1.43-.59-.52 0-1.04.2-1.43.59L10.3 9.45l-7.72 7.72c-.78.78-.78 2.05 0 2.83L4 21.41c.39.39.9.59 1.41.59.51 0 1.02-.2 1.41-.59l7.78-7.78 2.81-2.81c.8-.78.8-2.07 0-2.86zM5.41 20L4 18.59l7.72-7.72 1.47 1.35L5.41 20z\"/>\n",
              "  </svg>\n",
              "      </button>\n",
              "      \n",
              "  <style>\n",
              "    .colab-df-container {\n",
              "      display:flex;\n",
              "      flex-wrap:wrap;\n",
              "      gap: 12px;\n",
              "    }\n",
              "\n",
              "    .colab-df-convert {\n",
              "      background-color: #E8F0FE;\n",
              "      border: none;\n",
              "      border-radius: 50%;\n",
              "      cursor: pointer;\n",
              "      display: none;\n",
              "      fill: #1967D2;\n",
              "      height: 32px;\n",
              "      padding: 0 0 0 0;\n",
              "      width: 32px;\n",
              "    }\n",
              "\n",
              "    .colab-df-convert:hover {\n",
              "      background-color: #E2EBFA;\n",
              "      box-shadow: 0px 1px 2px rgba(60, 64, 67, 0.3), 0px 1px 3px 1px rgba(60, 64, 67, 0.15);\n",
              "      fill: #174EA6;\n",
              "    }\n",
              "\n",
              "    [theme=dark] .colab-df-convert {\n",
              "      background-color: #3B4455;\n",
              "      fill: #D2E3FC;\n",
              "    }\n",
              "\n",
              "    [theme=dark] .colab-df-convert:hover {\n",
              "      background-color: #434B5C;\n",
              "      box-shadow: 0px 1px 3px 1px rgba(0, 0, 0, 0.15);\n",
              "      filter: drop-shadow(0px 1px 2px rgba(0, 0, 0, 0.3));\n",
              "      fill: #FFFFFF;\n",
              "    }\n",
              "  </style>\n",
              "\n",
              "      <script>\n",
              "        const buttonEl =\n",
              "          document.querySelector('#df-6eba276a-9c1f-474c-86f4-dd5c9fdc2e56 button.colab-df-convert');\n",
              "        buttonEl.style.display =\n",
              "          google.colab.kernel.accessAllowed ? 'block' : 'none';\n",
              "\n",
              "        async function convertToInteractive(key) {\n",
              "          const element = document.querySelector('#df-6eba276a-9c1f-474c-86f4-dd5c9fdc2e56');\n",
              "          const dataTable =\n",
              "            await google.colab.kernel.invokeFunction('convertToInteractive',\n",
              "                                                     [key], {});\n",
              "          if (!dataTable) return;\n",
              "\n",
              "          const docLinkHtml = 'Like what you see? Visit the ' +\n",
              "            '<a target=\"_blank\" href=https://colab.research.google.com/notebooks/data_table.ipynb>data table notebook</a>'\n",
              "            + ' to learn more about interactive tables.';\n",
              "          element.innerHTML = '';\n",
              "          dataTable['output_type'] = 'display_data';\n",
              "          await google.colab.output.renderOutput(dataTable, element);\n",
              "          const docLink = document.createElement('div');\n",
              "          docLink.innerHTML = docLinkHtml;\n",
              "          element.appendChild(docLink);\n",
              "        }\n",
              "      </script>\n",
              "    </div>\n",
              "  </div>\n",
              "  "
            ]
          },
          "metadata": {},
          "execution_count": 39
        }
      ]
    },
    {
      "cell_type": "markdown",
      "source": [
        "유사도를 구해보자. 좀 더 직관적으로 보기 위해 코사인 유사도로 반환된 넘파이 행렬에 영화명을 매핑해 df로 변환하자."
      ],
      "metadata": {
        "id": "vz9vI1l_JenC"
      }
    },
    {
      "cell_type": "code",
      "source": [
        "from sklearn.metrics.pairwise import cosine_similarity\n",
        "\n",
        "item_sim=cosine_similarity(ratings_matrix_T, ratings_matrix_T)\n",
        "\n",
        "#코사인 유사도로 반환된 넘파이 행렬을 영화명을 매핑해 df로 변환\n",
        "item_sim_df=pd.DataFrame(data=item_sim, index=ratings_matrix.columns, columns=ratings_matrix.columns)\n",
        "print(item_sim_df.shape)\n",
        "item_sim_df.head(3)"
      ],
      "metadata": {
        "id": "ST85VXILJi0K",
        "colab": {
          "base_uri": "https://localhost:8080/",
          "height": 529
        },
        "outputId": "27275c15-cbb0-4738-c0be-98345d87b34c"
      },
      "execution_count": 40,
      "outputs": [
        {
          "output_type": "stream",
          "name": "stdout",
          "text": [
            "(9719, 9719)\n"
          ]
        },
        {
          "output_type": "execute_result",
          "data": {
            "text/plain": [
              "title                                    '71 (2014)  \\\n",
              "title                                                 \n",
              "'71 (2014)                                      1.0   \n",
              "'Hellboy': The Seeds of Creation (2004)         0.0   \n",
              "'Round Midnight (1986)                          0.0   \n",
              "\n",
              "title                                    'Hellboy': The Seeds of Creation (2004)  \\\n",
              "title                                                                              \n",
              "'71 (2014)                                                              0.000000   \n",
              "'Hellboy': The Seeds of Creation (2004)                                 1.000000   \n",
              "'Round Midnight (1986)                                                  0.707107   \n",
              "\n",
              "title                                    'Round Midnight (1986)  \\\n",
              "title                                                             \n",
              "'71 (2014)                                             0.000000   \n",
              "'Hellboy': The Seeds of Creation (2004)                0.707107   \n",
              "'Round Midnight (1986)                                 1.000000   \n",
              "\n",
              "title                                    'Salem's Lot (2004)  \\\n",
              "title                                                          \n",
              "'71 (2014)                                               0.0   \n",
              "'Hellboy': The Seeds of Creation (2004)                  0.0   \n",
              "'Round Midnight (1986)                                   0.0   \n",
              "\n",
              "title                                    'Til There Was You (1997)  \\\n",
              "title                                                                \n",
              "'71 (2014)                                                     0.0   \n",
              "'Hellboy': The Seeds of Creation (2004)                        0.0   \n",
              "'Round Midnight (1986)                                         0.0   \n",
              "\n",
              "title                                    'Tis the Season for Love (2015)  \\\n",
              "title                                                                      \n",
              "'71 (2014)                                                           0.0   \n",
              "'Hellboy': The Seeds of Creation (2004)                              0.0   \n",
              "'Round Midnight (1986)                                               0.0   \n",
              "\n",
              "title                                    'burbs, The (1989)  \\\n",
              "title                                                         \n",
              "'71 (2014)                                         0.000000   \n",
              "'Hellboy': The Seeds of Creation (2004)            0.000000   \n",
              "'Round Midnight (1986)                             0.176777   \n",
              "\n",
              "title                                    'night Mother (1986)  \\\n",
              "title                                                           \n",
              "'71 (2014)                                                0.0   \n",
              "'Hellboy': The Seeds of Creation (2004)                   0.0   \n",
              "'Round Midnight (1986)                                    0.0   \n",
              "\n",
              "title                                    (500) Days of Summer (2009)  \\\n",
              "title                                                                  \n",
              "'71 (2014)                                                  0.141653   \n",
              "'Hellboy': The Seeds of Creation (2004)                     0.000000   \n",
              "'Round Midnight (1986)                                      0.000000   \n",
              "\n",
              "title                                    *batteries not included (1987)  ...  \\\n",
              "title                                                                    ...   \n",
              "'71 (2014)                                                          0.0  ...   \n",
              "'Hellboy': The Seeds of Creation (2004)                             0.0  ...   \n",
              "'Round Midnight (1986)                                              0.0  ...   \n",
              "\n",
              "title                                    Zulu (2013)  [REC] (2007)  \\\n",
              "title                                                                \n",
              "'71 (2014)                                       0.0      0.342055   \n",
              "'Hellboy': The Seeds of Creation (2004)          0.0      0.000000   \n",
              "'Round Midnight (1986)                           0.0      0.000000   \n",
              "\n",
              "title                                    [REC]² (2009)  \\\n",
              "title                                                    \n",
              "'71 (2014)                                    0.543305   \n",
              "'Hellboy': The Seeds of Creation (2004)       0.000000   \n",
              "'Round Midnight (1986)                        0.000000   \n",
              "\n",
              "title                                    [REC]³ 3 Génesis (2012)  \\\n",
              "title                                                              \n",
              "'71 (2014)                                              0.707107   \n",
              "'Hellboy': The Seeds of Creation (2004)                 0.000000   \n",
              "'Round Midnight (1986)                                  0.000000   \n",
              "\n",
              "title                                    anohana: The Flower We Saw That Day - The Movie (2013)  \\\n",
              "title                                                                                             \n",
              "'71 (2014)                                                                             0.0        \n",
              "'Hellboy': The Seeds of Creation (2004)                                                0.0        \n",
              "'Round Midnight (1986)                                                                 0.0        \n",
              "\n",
              "title                                    eXistenZ (1999)  xXx (2002)  \\\n",
              "title                                                                  \n",
              "'71 (2014)                                           0.0    0.139431   \n",
              "'Hellboy': The Seeds of Creation (2004)              0.0    0.000000   \n",
              "'Round Midnight (1986)                               0.0    0.000000   \n",
              "\n",
              "title                                    xXx: State of the Union (2005)  \\\n",
              "title                                                                     \n",
              "'71 (2014)                                                     0.327327   \n",
              "'Hellboy': The Seeds of Creation (2004)                        0.000000   \n",
              "'Round Midnight (1986)                                         0.000000   \n",
              "\n",
              "title                                    ¡Three Amigos! (1986)  \\\n",
              "title                                                            \n",
              "'71 (2014)                                                 0.0   \n",
              "'Hellboy': The Seeds of Creation (2004)                    0.0   \n",
              "'Round Midnight (1986)                                     0.0   \n",
              "\n",
              "title                                    À nous la liberté (Freedom for Us) (1931)  \n",
              "title                                                                               \n",
              "'71 (2014)                                                                     0.0  \n",
              "'Hellboy': The Seeds of Creation (2004)                                        0.0  \n",
              "'Round Midnight (1986)                                                         0.0  \n",
              "\n",
              "[3 rows x 9719 columns]"
            ],
            "text/html": [
              "\n",
              "  <div id=\"df-a87fad01-8c1b-497d-a706-715f188f1fb0\">\n",
              "    <div class=\"colab-df-container\">\n",
              "      <div>\n",
              "<style scoped>\n",
              "    .dataframe tbody tr th:only-of-type {\n",
              "        vertical-align: middle;\n",
              "    }\n",
              "\n",
              "    .dataframe tbody tr th {\n",
              "        vertical-align: top;\n",
              "    }\n",
              "\n",
              "    .dataframe thead th {\n",
              "        text-align: right;\n",
              "    }\n",
              "</style>\n",
              "<table border=\"1\" class=\"dataframe\">\n",
              "  <thead>\n",
              "    <tr style=\"text-align: right;\">\n",
              "      <th>title</th>\n",
              "      <th>'71 (2014)</th>\n",
              "      <th>'Hellboy': The Seeds of Creation (2004)</th>\n",
              "      <th>'Round Midnight (1986)</th>\n",
              "      <th>'Salem's Lot (2004)</th>\n",
              "      <th>'Til There Was You (1997)</th>\n",
              "      <th>'Tis the Season for Love (2015)</th>\n",
              "      <th>'burbs, The (1989)</th>\n",
              "      <th>'night Mother (1986)</th>\n",
              "      <th>(500) Days of Summer (2009)</th>\n",
              "      <th>*batteries not included (1987)</th>\n",
              "      <th>...</th>\n",
              "      <th>Zulu (2013)</th>\n",
              "      <th>[REC] (2007)</th>\n",
              "      <th>[REC]² (2009)</th>\n",
              "      <th>[REC]³ 3 Génesis (2012)</th>\n",
              "      <th>anohana: The Flower We Saw That Day - The Movie (2013)</th>\n",
              "      <th>eXistenZ (1999)</th>\n",
              "      <th>xXx (2002)</th>\n",
              "      <th>xXx: State of the Union (2005)</th>\n",
              "      <th>¡Three Amigos! (1986)</th>\n",
              "      <th>À nous la liberté (Freedom for Us) (1931)</th>\n",
              "    </tr>\n",
              "    <tr>\n",
              "      <th>title</th>\n",
              "      <th></th>\n",
              "      <th></th>\n",
              "      <th></th>\n",
              "      <th></th>\n",
              "      <th></th>\n",
              "      <th></th>\n",
              "      <th></th>\n",
              "      <th></th>\n",
              "      <th></th>\n",
              "      <th></th>\n",
              "      <th></th>\n",
              "      <th></th>\n",
              "      <th></th>\n",
              "      <th></th>\n",
              "      <th></th>\n",
              "      <th></th>\n",
              "      <th></th>\n",
              "      <th></th>\n",
              "      <th></th>\n",
              "      <th></th>\n",
              "      <th></th>\n",
              "    </tr>\n",
              "  </thead>\n",
              "  <tbody>\n",
              "    <tr>\n",
              "      <th>'71 (2014)</th>\n",
              "      <td>1.0</td>\n",
              "      <td>0.000000</td>\n",
              "      <td>0.000000</td>\n",
              "      <td>0.0</td>\n",
              "      <td>0.0</td>\n",
              "      <td>0.0</td>\n",
              "      <td>0.000000</td>\n",
              "      <td>0.0</td>\n",
              "      <td>0.141653</td>\n",
              "      <td>0.0</td>\n",
              "      <td>...</td>\n",
              "      <td>0.0</td>\n",
              "      <td>0.342055</td>\n",
              "      <td>0.543305</td>\n",
              "      <td>0.707107</td>\n",
              "      <td>0.0</td>\n",
              "      <td>0.0</td>\n",
              "      <td>0.139431</td>\n",
              "      <td>0.327327</td>\n",
              "      <td>0.0</td>\n",
              "      <td>0.0</td>\n",
              "    </tr>\n",
              "    <tr>\n",
              "      <th>'Hellboy': The Seeds of Creation (2004)</th>\n",
              "      <td>0.0</td>\n",
              "      <td>1.000000</td>\n",
              "      <td>0.707107</td>\n",
              "      <td>0.0</td>\n",
              "      <td>0.0</td>\n",
              "      <td>0.0</td>\n",
              "      <td>0.000000</td>\n",
              "      <td>0.0</td>\n",
              "      <td>0.000000</td>\n",
              "      <td>0.0</td>\n",
              "      <td>...</td>\n",
              "      <td>0.0</td>\n",
              "      <td>0.000000</td>\n",
              "      <td>0.000000</td>\n",
              "      <td>0.000000</td>\n",
              "      <td>0.0</td>\n",
              "      <td>0.0</td>\n",
              "      <td>0.000000</td>\n",
              "      <td>0.000000</td>\n",
              "      <td>0.0</td>\n",
              "      <td>0.0</td>\n",
              "    </tr>\n",
              "    <tr>\n",
              "      <th>'Round Midnight (1986)</th>\n",
              "      <td>0.0</td>\n",
              "      <td>0.707107</td>\n",
              "      <td>1.000000</td>\n",
              "      <td>0.0</td>\n",
              "      <td>0.0</td>\n",
              "      <td>0.0</td>\n",
              "      <td>0.176777</td>\n",
              "      <td>0.0</td>\n",
              "      <td>0.000000</td>\n",
              "      <td>0.0</td>\n",
              "      <td>...</td>\n",
              "      <td>0.0</td>\n",
              "      <td>0.000000</td>\n",
              "      <td>0.000000</td>\n",
              "      <td>0.000000</td>\n",
              "      <td>0.0</td>\n",
              "      <td>0.0</td>\n",
              "      <td>0.000000</td>\n",
              "      <td>0.000000</td>\n",
              "      <td>0.0</td>\n",
              "      <td>0.0</td>\n",
              "    </tr>\n",
              "  </tbody>\n",
              "</table>\n",
              "<p>3 rows × 9719 columns</p>\n",
              "</div>\n",
              "      <button class=\"colab-df-convert\" onclick=\"convertToInteractive('df-a87fad01-8c1b-497d-a706-715f188f1fb0')\"\n",
              "              title=\"Convert this dataframe to an interactive table.\"\n",
              "              style=\"display:none;\">\n",
              "        \n",
              "  <svg xmlns=\"http://www.w3.org/2000/svg\" height=\"24px\"viewBox=\"0 0 24 24\"\n",
              "       width=\"24px\">\n",
              "    <path d=\"M0 0h24v24H0V0z\" fill=\"none\"/>\n",
              "    <path d=\"M18.56 5.44l.94 2.06.94-2.06 2.06-.94-2.06-.94-.94-2.06-.94 2.06-2.06.94zm-11 1L8.5 8.5l.94-2.06 2.06-.94-2.06-.94L8.5 2.5l-.94 2.06-2.06.94zm10 10l.94 2.06.94-2.06 2.06-.94-2.06-.94-.94-2.06-.94 2.06-2.06.94z\"/><path d=\"M17.41 7.96l-1.37-1.37c-.4-.4-.92-.59-1.43-.59-.52 0-1.04.2-1.43.59L10.3 9.45l-7.72 7.72c-.78.78-.78 2.05 0 2.83L4 21.41c.39.39.9.59 1.41.59.51 0 1.02-.2 1.41-.59l7.78-7.78 2.81-2.81c.8-.78.8-2.07 0-2.86zM5.41 20L4 18.59l7.72-7.72 1.47 1.35L5.41 20z\"/>\n",
              "  </svg>\n",
              "      </button>\n",
              "      \n",
              "  <style>\n",
              "    .colab-df-container {\n",
              "      display:flex;\n",
              "      flex-wrap:wrap;\n",
              "      gap: 12px;\n",
              "    }\n",
              "\n",
              "    .colab-df-convert {\n",
              "      background-color: #E8F0FE;\n",
              "      border: none;\n",
              "      border-radius: 50%;\n",
              "      cursor: pointer;\n",
              "      display: none;\n",
              "      fill: #1967D2;\n",
              "      height: 32px;\n",
              "      padding: 0 0 0 0;\n",
              "      width: 32px;\n",
              "    }\n",
              "\n",
              "    .colab-df-convert:hover {\n",
              "      background-color: #E2EBFA;\n",
              "      box-shadow: 0px 1px 2px rgba(60, 64, 67, 0.3), 0px 1px 3px 1px rgba(60, 64, 67, 0.15);\n",
              "      fill: #174EA6;\n",
              "    }\n",
              "\n",
              "    [theme=dark] .colab-df-convert {\n",
              "      background-color: #3B4455;\n",
              "      fill: #D2E3FC;\n",
              "    }\n",
              "\n",
              "    [theme=dark] .colab-df-convert:hover {\n",
              "      background-color: #434B5C;\n",
              "      box-shadow: 0px 1px 3px 1px rgba(0, 0, 0, 0.15);\n",
              "      filter: drop-shadow(0px 1px 2px rgba(0, 0, 0, 0.3));\n",
              "      fill: #FFFFFF;\n",
              "    }\n",
              "  </style>\n",
              "\n",
              "      <script>\n",
              "        const buttonEl =\n",
              "          document.querySelector('#df-a87fad01-8c1b-497d-a706-715f188f1fb0 button.colab-df-convert');\n",
              "        buttonEl.style.display =\n",
              "          google.colab.kernel.accessAllowed ? 'block' : 'none';\n",
              "\n",
              "        async function convertToInteractive(key) {\n",
              "          const element = document.querySelector('#df-a87fad01-8c1b-497d-a706-715f188f1fb0');\n",
              "          const dataTable =\n",
              "            await google.colab.kernel.invokeFunction('convertToInteractive',\n",
              "                                                     [key], {});\n",
              "          if (!dataTable) return;\n",
              "\n",
              "          const docLinkHtml = 'Like what you see? Visit the ' +\n",
              "            '<a target=\"_blank\" href=https://colab.research.google.com/notebooks/data_table.ipynb>data table notebook</a>'\n",
              "            + ' to learn more about interactive tables.';\n",
              "          element.innerHTML = '';\n",
              "          dataTable['output_type'] = 'display_data';\n",
              "          await google.colab.output.renderOutput(dataTable, element);\n",
              "          const docLink = document.createElement('div');\n",
              "          docLink.innerHTML = docLinkHtml;\n",
              "          element.appendChild(docLink);\n",
              "        }\n",
              "      </script>\n",
              "    </div>\n",
              "  </div>\n",
              "  "
            ]
          },
          "metadata": {},
          "execution_count": 40
        }
      ]
    },
    {
      "cell_type": "markdown",
      "source": [
        "9719*9719. 영화 '대부'와 유사도가 높은 상위 6개 영화를 추출해보자."
      ],
      "metadata": {
        "id": "I80AFEl_KFXb"
      }
    },
    {
      "cell_type": "code",
      "source": [
        "item_sim_df['Godfather, The (1972)'].sort_values(ascending=False)[:6]"
      ],
      "metadata": {
        "id": "ehaLk9DlKLEl",
        "colab": {
          "base_uri": "https://localhost:8080/"
        },
        "outputId": "637d6b76-35cf-43d1-809f-2fcbbf5a4a72"
      },
      "execution_count": 41,
      "outputs": [
        {
          "output_type": "execute_result",
          "data": {
            "text/plain": [
              "title\n",
              "Godfather, The (1972)                        1.000000\n",
              "Godfather: Part II, The (1974)               0.821773\n",
              "Goodfellas (1990)                            0.664841\n",
              "One Flew Over the Cuckoo's Nest (1975)       0.620536\n",
              "Star Wars: Episode IV - A New Hope (1977)    0.595317\n",
              "Fargo (1996)                                 0.588614\n",
              "Name: Godfather, The (1972), dtype: float64"
            ]
          },
          "metadata": {},
          "execution_count": 41
        }
      ]
    },
    {
      "cell_type": "markdown",
      "source": [
        "이전에 장르만 비교한 콘텐츠 기반 필터링과 다른 점은 장르가 완전 다른 영화도 유사도가 높게 나타났다는 것.\n",
        "\n",
        "이번에는 '인셉션'과 유사도가 높은 영화를 찾아보자."
      ],
      "metadata": {
        "id": "PkncHkMjKTSF"
      }
    },
    {
      "cell_type": "code",
      "source": [
        "#인셉션은 제외하고 추출\n",
        "item_sim_df['Inception (2010)'].sort_values(ascending=False)[1:6]"
      ],
      "metadata": {
        "id": "_OC674t1KjpM",
        "colab": {
          "base_uri": "https://localhost:8080/"
        },
        "outputId": "b1a04786-51a3-4a45-c266-5a78c08bfaac"
      },
      "execution_count": 42,
      "outputs": [
        {
          "output_type": "execute_result",
          "data": {
            "text/plain": [
              "title\n",
              "Dark Knight, The (2008)          0.727263\n",
              "Inglourious Basterds (2009)      0.646103\n",
              "Shutter Island (2010)            0.617736\n",
              "Dark Knight Rises, The (2012)    0.617504\n",
              "Fight Club (1999)                0.615417\n",
              "Name: Inception (2010), dtype: float64"
            ]
          },
          "metadata": {},
          "execution_count": 42
        }
      ]
    },
    {
      "cell_type": "markdown",
      "source": [
        "만들어진 아이템 기반 유사도 데이터는 사용자의 평점 정보를 모두 취합해 영화에 따라 유사한 다른 영화를 추천할 수 있게 해준다.\n",
        "\n",
        "이 아이템 기반 유사도 데이터를 이용해 개인에게 특화된 영화 추천 알고리즘을 만들어보자."
      ],
      "metadata": {
        "id": "fJBWwEMPKsfY"
      }
    },
    {
      "cell_type": "markdown",
      "source": [
        "###**아이템 기반 최근접 이웃 협업 필터링으로 개인화된 영화 추천**\n",
        "영화간의 유사도만 가지고 추천하지 말고, 개인적인 취향도 반영해보자. 개인화된 영화 추천의 가장 큰 특징은 개인이 아직 관람하지 않은 영화를 추천한다는 것. 아직 관람하지 않은 영화 중 아이템 유사도와 기존에 관람한 영화의 평점 데이터를 기반으로 새롭게 모든 영화의 예측 평점을 계산한 후 높은 예측을 가진 영화를 추천.\n",
        "\n",
        "개인화된 예측 평점을 구하는 식을 참고. 사용자별로 최적화된 평점 스코어를 예측하는 함수를 만들자."
      ],
      "metadata": {
        "id": "hM6NvZepF0Nt"
      }
    },
    {
      "cell_type": "code",
      "source": [
        "def predict_rating(ratings_arr, item_sim_arr):\n",
        "  ratings_pred=ratings_arr.dot(item_sim_arr)/np.array([np.abs(item_sim_arr).sum(axis=1)])\n",
        "  return ratings_pred"
      ],
      "metadata": {
        "id": "X6HhQiDzF8uf"
      },
      "execution_count": 43,
      "outputs": []
    },
    {
      "cell_type": "markdown",
      "source": [
        "개인화된 예측 평점을 구해보자."
      ],
      "metadata": {
        "id": "VX2TpPr-L5Cf"
      }
    },
    {
      "cell_type": "code",
      "source": [
        "ratings_pred=predict_rating(ratings_matrix.values, item_sim_df.values)\n",
        "ratings_pred_matrix=pd.DataFrame(data=ratings_pred, index=ratings_matrix.index, columns=ratings_matrix.columns)\n",
        "ratings_pred_matrix.head(3)"
      ],
      "metadata": {
        "id": "WzPBuhV6L7Dy",
        "colab": {
          "base_uri": "https://localhost:8080/",
          "height": 389
        },
        "outputId": "6f188384-645d-4f14-a03c-9664620d1334"
      },
      "execution_count": 44,
      "outputs": [
        {
          "output_type": "execute_result",
          "data": {
            "text/plain": [
              "title   '71 (2014)  'Hellboy': The Seeds of Creation (2004)  \\\n",
              "userId                                                        \n",
              "1         0.070345                                 0.577855   \n",
              "2         0.018260                                 0.042744   \n",
              "3         0.011884                                 0.030279   \n",
              "\n",
              "title   'Round Midnight (1986)  'Salem's Lot (2004)  \\\n",
              "userId                                                \n",
              "1                     0.321696             0.227055   \n",
              "2                     0.018861             0.000000   \n",
              "3                     0.064437             0.003762   \n",
              "\n",
              "title   'Til There Was You (1997)  'Tis the Season for Love (2015)  \\\n",
              "userId                                                               \n",
              "1                        0.206958                         0.194615   \n",
              "2                        0.000000                         0.035995   \n",
              "3                        0.003749                         0.002722   \n",
              "\n",
              "title   'burbs, The (1989)  'night Mother (1986)  (500) Days of Summer (2009)  \\\n",
              "userId                                                                          \n",
              "1                 0.249883              0.102542                     0.157084   \n",
              "2                 0.013413              0.002314                     0.032213   \n",
              "3                 0.014625              0.002085                     0.005666   \n",
              "\n",
              "title   *batteries not included (1987)  ...  Zulu (2013)  [REC] (2007)  \\\n",
              "userId                                  ...                              \n",
              "1                             0.178197  ...     0.113608      0.181738   \n",
              "2                             0.014863  ...     0.015640      0.020855   \n",
              "3                             0.006272  ...     0.006923      0.011665   \n",
              "\n",
              "title   [REC]² (2009)  [REC]³ 3 Génesis (2012)  \\\n",
              "userId                                           \n",
              "1            0.133962                 0.128574   \n",
              "2            0.020119                 0.015745   \n",
              "3            0.011800                 0.012225   \n",
              "\n",
              "title   anohana: The Flower We Saw That Day - The Movie (2013)  \\\n",
              "userId                                                           \n",
              "1                                                0.006179        \n",
              "2                                                0.049983        \n",
              "3                                                0.000000        \n",
              "\n",
              "title   eXistenZ (1999)  xXx (2002)  xXx: State of the Union (2005)  \\\n",
              "userId                                                                \n",
              "1              0.212070    0.192921                        0.136024   \n",
              "2              0.014876    0.021616                        0.024528   \n",
              "3              0.008194    0.007017                        0.009229   \n",
              "\n",
              "title   ¡Three Amigos! (1986)  À nous la liberté (Freedom for Us) (1931)  \n",
              "userId                                                                    \n",
              "1                    0.292955                                   0.720347  \n",
              "2                    0.017563                                   0.000000  \n",
              "3                    0.010420                                   0.084501  \n",
              "\n",
              "[3 rows x 9719 columns]"
            ],
            "text/html": [
              "\n",
              "  <div id=\"df-017c87f0-d99a-40ec-9b98-afc032c47fcc\">\n",
              "    <div class=\"colab-df-container\">\n",
              "      <div>\n",
              "<style scoped>\n",
              "    .dataframe tbody tr th:only-of-type {\n",
              "        vertical-align: middle;\n",
              "    }\n",
              "\n",
              "    .dataframe tbody tr th {\n",
              "        vertical-align: top;\n",
              "    }\n",
              "\n",
              "    .dataframe thead th {\n",
              "        text-align: right;\n",
              "    }\n",
              "</style>\n",
              "<table border=\"1\" class=\"dataframe\">\n",
              "  <thead>\n",
              "    <tr style=\"text-align: right;\">\n",
              "      <th>title</th>\n",
              "      <th>'71 (2014)</th>\n",
              "      <th>'Hellboy': The Seeds of Creation (2004)</th>\n",
              "      <th>'Round Midnight (1986)</th>\n",
              "      <th>'Salem's Lot (2004)</th>\n",
              "      <th>'Til There Was You (1997)</th>\n",
              "      <th>'Tis the Season for Love (2015)</th>\n",
              "      <th>'burbs, The (1989)</th>\n",
              "      <th>'night Mother (1986)</th>\n",
              "      <th>(500) Days of Summer (2009)</th>\n",
              "      <th>*batteries not included (1987)</th>\n",
              "      <th>...</th>\n",
              "      <th>Zulu (2013)</th>\n",
              "      <th>[REC] (2007)</th>\n",
              "      <th>[REC]² (2009)</th>\n",
              "      <th>[REC]³ 3 Génesis (2012)</th>\n",
              "      <th>anohana: The Flower We Saw That Day - The Movie (2013)</th>\n",
              "      <th>eXistenZ (1999)</th>\n",
              "      <th>xXx (2002)</th>\n",
              "      <th>xXx: State of the Union (2005)</th>\n",
              "      <th>¡Three Amigos! (1986)</th>\n",
              "      <th>À nous la liberté (Freedom for Us) (1931)</th>\n",
              "    </tr>\n",
              "    <tr>\n",
              "      <th>userId</th>\n",
              "      <th></th>\n",
              "      <th></th>\n",
              "      <th></th>\n",
              "      <th></th>\n",
              "      <th></th>\n",
              "      <th></th>\n",
              "      <th></th>\n",
              "      <th></th>\n",
              "      <th></th>\n",
              "      <th></th>\n",
              "      <th></th>\n",
              "      <th></th>\n",
              "      <th></th>\n",
              "      <th></th>\n",
              "      <th></th>\n",
              "      <th></th>\n",
              "      <th></th>\n",
              "      <th></th>\n",
              "      <th></th>\n",
              "      <th></th>\n",
              "      <th></th>\n",
              "    </tr>\n",
              "  </thead>\n",
              "  <tbody>\n",
              "    <tr>\n",
              "      <th>1</th>\n",
              "      <td>0.070345</td>\n",
              "      <td>0.577855</td>\n",
              "      <td>0.321696</td>\n",
              "      <td>0.227055</td>\n",
              "      <td>0.206958</td>\n",
              "      <td>0.194615</td>\n",
              "      <td>0.249883</td>\n",
              "      <td>0.102542</td>\n",
              "      <td>0.157084</td>\n",
              "      <td>0.178197</td>\n",
              "      <td>...</td>\n",
              "      <td>0.113608</td>\n",
              "      <td>0.181738</td>\n",
              "      <td>0.133962</td>\n",
              "      <td>0.128574</td>\n",
              "      <td>0.006179</td>\n",
              "      <td>0.212070</td>\n",
              "      <td>0.192921</td>\n",
              "      <td>0.136024</td>\n",
              "      <td>0.292955</td>\n",
              "      <td>0.720347</td>\n",
              "    </tr>\n",
              "    <tr>\n",
              "      <th>2</th>\n",
              "      <td>0.018260</td>\n",
              "      <td>0.042744</td>\n",
              "      <td>0.018861</td>\n",
              "      <td>0.000000</td>\n",
              "      <td>0.000000</td>\n",
              "      <td>0.035995</td>\n",
              "      <td>0.013413</td>\n",
              "      <td>0.002314</td>\n",
              "      <td>0.032213</td>\n",
              "      <td>0.014863</td>\n",
              "      <td>...</td>\n",
              "      <td>0.015640</td>\n",
              "      <td>0.020855</td>\n",
              "      <td>0.020119</td>\n",
              "      <td>0.015745</td>\n",
              "      <td>0.049983</td>\n",
              "      <td>0.014876</td>\n",
              "      <td>0.021616</td>\n",
              "      <td>0.024528</td>\n",
              "      <td>0.017563</td>\n",
              "      <td>0.000000</td>\n",
              "    </tr>\n",
              "    <tr>\n",
              "      <th>3</th>\n",
              "      <td>0.011884</td>\n",
              "      <td>0.030279</td>\n",
              "      <td>0.064437</td>\n",
              "      <td>0.003762</td>\n",
              "      <td>0.003749</td>\n",
              "      <td>0.002722</td>\n",
              "      <td>0.014625</td>\n",
              "      <td>0.002085</td>\n",
              "      <td>0.005666</td>\n",
              "      <td>0.006272</td>\n",
              "      <td>...</td>\n",
              "      <td>0.006923</td>\n",
              "      <td>0.011665</td>\n",
              "      <td>0.011800</td>\n",
              "      <td>0.012225</td>\n",
              "      <td>0.000000</td>\n",
              "      <td>0.008194</td>\n",
              "      <td>0.007017</td>\n",
              "      <td>0.009229</td>\n",
              "      <td>0.010420</td>\n",
              "      <td>0.084501</td>\n",
              "    </tr>\n",
              "  </tbody>\n",
              "</table>\n",
              "<p>3 rows × 9719 columns</p>\n",
              "</div>\n",
              "      <button class=\"colab-df-convert\" onclick=\"convertToInteractive('df-017c87f0-d99a-40ec-9b98-afc032c47fcc')\"\n",
              "              title=\"Convert this dataframe to an interactive table.\"\n",
              "              style=\"display:none;\">\n",
              "        \n",
              "  <svg xmlns=\"http://www.w3.org/2000/svg\" height=\"24px\"viewBox=\"0 0 24 24\"\n",
              "       width=\"24px\">\n",
              "    <path d=\"M0 0h24v24H0V0z\" fill=\"none\"/>\n",
              "    <path d=\"M18.56 5.44l.94 2.06.94-2.06 2.06-.94-2.06-.94-.94-2.06-.94 2.06-2.06.94zm-11 1L8.5 8.5l.94-2.06 2.06-.94-2.06-.94L8.5 2.5l-.94 2.06-2.06.94zm10 10l.94 2.06.94-2.06 2.06-.94-2.06-.94-.94-2.06-.94 2.06-2.06.94z\"/><path d=\"M17.41 7.96l-1.37-1.37c-.4-.4-.92-.59-1.43-.59-.52 0-1.04.2-1.43.59L10.3 9.45l-7.72 7.72c-.78.78-.78 2.05 0 2.83L4 21.41c.39.39.9.59 1.41.59.51 0 1.02-.2 1.41-.59l7.78-7.78 2.81-2.81c.8-.78.8-2.07 0-2.86zM5.41 20L4 18.59l7.72-7.72 1.47 1.35L5.41 20z\"/>\n",
              "  </svg>\n",
              "      </button>\n",
              "      \n",
              "  <style>\n",
              "    .colab-df-container {\n",
              "      display:flex;\n",
              "      flex-wrap:wrap;\n",
              "      gap: 12px;\n",
              "    }\n",
              "\n",
              "    .colab-df-convert {\n",
              "      background-color: #E8F0FE;\n",
              "      border: none;\n",
              "      border-radius: 50%;\n",
              "      cursor: pointer;\n",
              "      display: none;\n",
              "      fill: #1967D2;\n",
              "      height: 32px;\n",
              "      padding: 0 0 0 0;\n",
              "      width: 32px;\n",
              "    }\n",
              "\n",
              "    .colab-df-convert:hover {\n",
              "      background-color: #E2EBFA;\n",
              "      box-shadow: 0px 1px 2px rgba(60, 64, 67, 0.3), 0px 1px 3px 1px rgba(60, 64, 67, 0.15);\n",
              "      fill: #174EA6;\n",
              "    }\n",
              "\n",
              "    [theme=dark] .colab-df-convert {\n",
              "      background-color: #3B4455;\n",
              "      fill: #D2E3FC;\n",
              "    }\n",
              "\n",
              "    [theme=dark] .colab-df-convert:hover {\n",
              "      background-color: #434B5C;\n",
              "      box-shadow: 0px 1px 3px 1px rgba(0, 0, 0, 0.15);\n",
              "      filter: drop-shadow(0px 1px 2px rgba(0, 0, 0, 0.3));\n",
              "      fill: #FFFFFF;\n",
              "    }\n",
              "  </style>\n",
              "\n",
              "      <script>\n",
              "        const buttonEl =\n",
              "          document.querySelector('#df-017c87f0-d99a-40ec-9b98-afc032c47fcc button.colab-df-convert');\n",
              "        buttonEl.style.display =\n",
              "          google.colab.kernel.accessAllowed ? 'block' : 'none';\n",
              "\n",
              "        async function convertToInteractive(key) {\n",
              "          const element = document.querySelector('#df-017c87f0-d99a-40ec-9b98-afc032c47fcc');\n",
              "          const dataTable =\n",
              "            await google.colab.kernel.invokeFunction('convertToInteractive',\n",
              "                                                     [key], {});\n",
              "          if (!dataTable) return;\n",
              "\n",
              "          const docLinkHtml = 'Like what you see? Visit the ' +\n",
              "            '<a target=\"_blank\" href=https://colab.research.google.com/notebooks/data_table.ipynb>data table notebook</a>'\n",
              "            + ' to learn more about interactive tables.';\n",
              "          element.innerHTML = '';\n",
              "          dataTable['output_type'] = 'display_data';\n",
              "          await google.colab.output.renderOutput(dataTable, element);\n",
              "          const docLink = document.createElement('div');\n",
              "          docLink.innerHTML = docLinkHtml;\n",
              "          element.appendChild(docLink);\n",
              "        }\n",
              "      </script>\n",
              "    </div>\n",
              "  </div>\n",
              "  "
            ]
          },
          "metadata": {},
          "execution_count": 44
        }
      ]
    },
    {
      "cell_type": "markdown",
      "source": [
        "예측 평점은 사용자별 영화의 실제 평점과 영화의 코사인 유사도를 내적한 값이기 때문에 기존에 관람하지 않았던 영화 평점 셀에 값이 부여되는 경우가 발생. 예측 평점이 실제보다 작을 수 있다.\n",
        "\n",
        "이 예측 결과가 실제 평점과 얼마나 차이가 나는지 확인하자. 사용자가 영화의 평점을 주지 않은 경우 0을 넣었던 것을 고려해 실제와 예측 평점 차이는 기존에 평점이 부여된 데이터에 대해서만 MSE를 적용하겠다."
      ],
      "metadata": {
        "id": "JkrVrJYFMP8-"
      }
    },
    {
      "cell_type": "code",
      "source": [
        "from sklearn.metrics import mean_squared_error\n",
        "\n",
        "#사용자가 평점을 부여한 영화에 대해서만 예측 성능 평가 MSE를 구함\n",
        "def get_mse(pred, actual):\n",
        "  #평점이 있는 영화만 추출\n",
        "  pred=pred[actual.nonzero()].flatten()\n",
        "  actual=actual[actual.nonzero()].flatten()\n",
        "  return mean_squared_error(pred, actual)\n",
        "\n",
        "print('아이템 기반 모든 최근접 이웃 MSE :', get_mse(ratings_pred, ratings_matrix.values))"
      ],
      "metadata": {
        "id": "GmZwalUGMuhr",
        "colab": {
          "base_uri": "https://localhost:8080/"
        },
        "outputId": "184ca9e7-c19c-46b1-e249-b7c54eda5901"
      },
      "execution_count": 45,
      "outputs": [
        {
          "output_type": "stream",
          "name": "stdout",
          "text": [
            "아이템 기반 모든 최근접 이웃 MSE : 9.895354759094706\n"
          ]
        }
      ]
    },
    {
      "cell_type": "markdown",
      "source": [
        "실제와 예측은 서로 스케일이 달라 MSE가 클 수 있다. 감소시키는 방향으로 개선하면 됨.\n",
        "\n",
        "앞의 predict_rating 함수는 사용자별 영화의 예측 평점을 계산하기 위해 해당 영화와 다른 모든 영화 간의 유사도 벡터를 적용한 것. 많다보니 상대적으로 평점 예측이 감소. 특정 영화와 가장 비슷한 유사도를 갖는 영화에 대해서만 유사도 벡터를 적용하도록 함수 변경하자."
      ],
      "metadata": {
        "id": "KtaSmUHUNPxv"
      }
    },
    {
      "cell_type": "code",
      "source": [
        "def predict_rating_topsim(ratings_arr, item_sim_arr, n=20):\n",
        "  #사용자-아이템 평점 행렬 크기만큼 0으로 채운 예측 행렬 초기화\n",
        "  pred=np.zeros(ratings_arr.shape)\n",
        "\n",
        "  #사용자-아이템 평점 행렬의 열 크기만큼 루프 수행\n",
        "  for col in range(ratings_arr.shape[1]):\n",
        "    #유사도 행렬에서 유사도가 큰 순으로 n개 데이터 행렬의 인덱스 반환\n",
        "    top_n_items=[np.argsort(item_sim_arr[:, col])[:-n-1:-1]]\n",
        "    #개인화된 예측 평점을 계산\n",
        "    for row in range(ratings_arr.shape[0]):\n",
        "      pred[row, col]=item_sim_arr[col, :][top_n_items].dot(ratings_arr[row, :][top_n_items].T)\n",
        "      pred[row, col] /= np.sum(np.abs(item_sim_arr[col, :][top_n_items]))\n",
        "  \n",
        "  return pred"
      ],
      "metadata": {
        "id": "7eG02o9gNnAa"
      },
      "execution_count": 46,
      "outputs": []
    },
    {
      "cell_type": "markdown",
      "source": [
        "새로 만든 함수를 이용해 예측 평점을 계산하고, MSE를 구해보자."
      ],
      "metadata": {
        "id": "E25k1sxzOqsL"
      }
    },
    {
      "cell_type": "code",
      "source": [
        "ratings_pred=predict_rating_topsim(ratings_matrix.values, item_sim_df.values, n=20)\n",
        "print('아이템 기반 최근접 top-20 이웃 mse:', get_mse(ratings_pred, ratings_matrix.values))\n",
        "\n",
        "#계산된 예측 평점 데이터는 df로 재생성\n",
        "ratings_pred_matrix=pd.DataFrame(data=ratings_pred, index=ratings_matrix.index, columns=ratings_matrix.columns)"
      ],
      "metadata": {
        "id": "qeaES3UIO2dO",
        "colab": {
          "base_uri": "https://localhost:8080/"
        },
        "outputId": "efd0d895-0b65-4169-bddd-c95d574e64cf"
      },
      "execution_count": 47,
      "outputs": [
        {
          "output_type": "stream",
          "name": "stderr",
          "text": [
            "<ipython-input-46-2279deb9f1dc>:11: FutureWarning: Using a non-tuple sequence for multidimensional indexing is deprecated; use `arr[tuple(seq)]` instead of `arr[seq]`. In the future this will be interpreted as an array index, `arr[np.array(seq)]`, which will result either in an error or a different result.\n",
            "  pred[row, col]=item_sim_arr[col, :][top_n_items].dot(ratings_arr[row, :][top_n_items].T)\n",
            "<ipython-input-46-2279deb9f1dc>:12: FutureWarning: Using a non-tuple sequence for multidimensional indexing is deprecated; use `arr[tuple(seq)]` instead of `arr[seq]`. In the future this will be interpreted as an array index, `arr[np.array(seq)]`, which will result either in an error or a different result.\n",
            "  pred[row, col] /= np.sum(np.abs(item_sim_arr[col, :][top_n_items]))\n"
          ]
        },
        {
          "output_type": "stream",
          "name": "stdout",
          "text": [
            "아이템 기반 최근접 top-20 이웃 mse: 3.6949827608772314\n"
          ]
        }
      ]
    },
    {
      "cell_type": "markdown",
      "source": [
        "3.69로 기존보다 많이 향상.\n",
        "\n",
        "이제 특정 사용자에 대해 영화를 추천해보자."
      ],
      "metadata": {
        "id": "cwwNc4yFPTO5"
      }
    },
    {
      "cell_type": "code",
      "source": [
        "#userId=9인 사용자에 대해 추천해보자\n",
        "\n",
        "#어떤 영화를 좋아하는가\n",
        "user_rating_id=ratings_matrix.loc[9, :]\n",
        "user_rating_id[user_rating_id>0].sort_values(ascending=False)[:10]"
      ],
      "metadata": {
        "id": "-4HX0hRgPaVB",
        "colab": {
          "base_uri": "https://localhost:8080/"
        },
        "outputId": "e4cb2c83-6733-4bc8-fcfe-563d688415b6"
      },
      "execution_count": 48,
      "outputs": [
        {
          "output_type": "execute_result",
          "data": {
            "text/plain": [
              "title\n",
              "Adaptation (2002)                                                                 5.0\n",
              "Citizen Kane (1941)                                                               5.0\n",
              "Raiders of the Lost Ark (Indiana Jones and the Raiders of the Lost Ark) (1981)    5.0\n",
              "Producers, The (1968)                                                             5.0\n",
              "Lord of the Rings: The Two Towers, The (2002)                                     5.0\n",
              "Lord of the Rings: The Fellowship of the Ring, The (2001)                         5.0\n",
              "Back to the Future (1985)                                                         5.0\n",
              "Austin Powers in Goldmember (2002)                                                5.0\n",
              "Minority Report (2002)                                                            4.0\n",
              "Witness (1985)                                                                    4.0\n",
              "Name: 9, dtype: float64"
            ]
          },
          "metadata": {},
          "execution_count": 48
        }
      ]
    },
    {
      "cell_type": "markdown",
      "source": [
        "대작, 어드벤처 등 전반적으로 흥행성이 좋은 영화.\n",
        "\n",
        "사용자가 이미 평점을 준 영화를 제외하고 추천할 수 있도록 평점을 주지 않은 영화를 리스트 객체로 반환하는 함수 생성하자."
      ],
      "metadata": {
        "id": "Guu5dRDLPrqI"
      }
    },
    {
      "cell_type": "code",
      "source": [
        "def get_unseen_movies(ratings_matrix, userId):\n",
        "  #userid로 입력받은 사용자의 모든 영화 정보를 추출해 series로 변환\n",
        "  #반환된 user_rating은 영화명을 인덱스로 가지는 series 객체\n",
        "  user_rating=ratings_matrix.loc[userId, :]\n",
        "\n",
        "  #user_rating이 0보다 크면 기존에 관람한 영화. 대상 인덱스를 추출해 list 객체로 만들자.\n",
        "  already_seen=user_rating[user_rating>0].index.tolist()\n",
        "\n",
        "  #모든 영화명을 list 객체로 만듦\n",
        "  movies_list=ratings_matrix.columns.tolist()\n",
        "\n",
        "  #list coprehension으로 already_seen에 해당하는 영화는 movies_list에서 제외\n",
        "  unseen_list=[movie for movie in movies_list if movie not in already_seen]\n",
        "\n",
        "  return unseen_list"
      ],
      "metadata": {
        "id": "juGzDltUP26A"
      },
      "execution_count": 49,
      "outputs": []
    },
    {
      "cell_type": "markdown",
      "source": [
        "사용자가 평점을 주지 않은 추천 대상 영화 정보와 predict_rating_topsim에서 추출한 사용자별 아이템 유사도에 기반한 예측 평점 데이터 세트를 이용해 최종적으로 사용자에게 영화를 추천하는 함수를 만들자."
      ],
      "metadata": {
        "id": "NhCeURFxQliI"
      }
    },
    {
      "cell_type": "code",
      "source": [
        "def recomm_movie_by_userid(pred_df, userId, unseen_list, top_n=10):\n",
        "  #예측 평점 df에서 사용자 id 인덱스와 unseen_list로 들어온 영화명 칼럼을 추출해 가장 예측 평점이 높은 순으로 정렬\n",
        "  recomm_movies=pred_df.loc[userId, unseen_list].sort_values(ascending=False)[:top_n]\n",
        "  return recomm_movies\n",
        "\n",
        "#사용자가 관람하지 않은 영화명 추출\n",
        "unseen_list=get_unseen_movies(ratings_matrix, 9)\n",
        "\n",
        "#아이템 기반의 최근접 이웃 협업 필터링으로 영화 추천\n",
        "recomm_movies=recomm_movie_by_userid(ratings_pred_matrix, 9, unseen_list, top_n=10)\n",
        "\n",
        "#평점 데이터를 df로 생성\n",
        "recomm_movies=pd.DataFrame(data=recomm_movies.values, index=recomm_movies.index, columns=['pred_score'])\n",
        "\n",
        "recomm_movies"
      ],
      "metadata": {
        "id": "5yvnxDc5Q0ff",
        "colab": {
          "base_uri": "https://localhost:8080/",
          "height": 394
        },
        "outputId": "ed084ae3-df61-4f26-fb93-54f574d8788e"
      },
      "execution_count": 50,
      "outputs": [
        {
          "output_type": "execute_result",
          "data": {
            "text/plain": [
              "                                                    pred_score\n",
              "title                                                         \n",
              "Shrek (2001)                                          0.866202\n",
              "Spider-Man (2002)                                     0.857854\n",
              "Last Samurai, The (2003)                              0.817473\n",
              "Indiana Jones and the Temple of Doom (1984)           0.816626\n",
              "Matrix Reloaded, The (2003)                           0.800990\n",
              "Harry Potter and the Sorcerer's Stone (a.k.a. H...    0.765159\n",
              "Gladiator (2000)                                      0.740956\n",
              "Matrix, The (1999)                                    0.732693\n",
              "Pirates of the Caribbean: The Curse of the Blac...    0.689591\n",
              "Lord of the Rings: The Return of the King, The ...    0.676711"
            ],
            "text/html": [
              "\n",
              "  <div id=\"df-86e66808-a05d-460c-bb74-424ae5608e5a\">\n",
              "    <div class=\"colab-df-container\">\n",
              "      <div>\n",
              "<style scoped>\n",
              "    .dataframe tbody tr th:only-of-type {\n",
              "        vertical-align: middle;\n",
              "    }\n",
              "\n",
              "    .dataframe tbody tr th {\n",
              "        vertical-align: top;\n",
              "    }\n",
              "\n",
              "    .dataframe thead th {\n",
              "        text-align: right;\n",
              "    }\n",
              "</style>\n",
              "<table border=\"1\" class=\"dataframe\">\n",
              "  <thead>\n",
              "    <tr style=\"text-align: right;\">\n",
              "      <th></th>\n",
              "      <th>pred_score</th>\n",
              "    </tr>\n",
              "    <tr>\n",
              "      <th>title</th>\n",
              "      <th></th>\n",
              "    </tr>\n",
              "  </thead>\n",
              "  <tbody>\n",
              "    <tr>\n",
              "      <th>Shrek (2001)</th>\n",
              "      <td>0.866202</td>\n",
              "    </tr>\n",
              "    <tr>\n",
              "      <th>Spider-Man (2002)</th>\n",
              "      <td>0.857854</td>\n",
              "    </tr>\n",
              "    <tr>\n",
              "      <th>Last Samurai, The (2003)</th>\n",
              "      <td>0.817473</td>\n",
              "    </tr>\n",
              "    <tr>\n",
              "      <th>Indiana Jones and the Temple of Doom (1984)</th>\n",
              "      <td>0.816626</td>\n",
              "    </tr>\n",
              "    <tr>\n",
              "      <th>Matrix Reloaded, The (2003)</th>\n",
              "      <td>0.800990</td>\n",
              "    </tr>\n",
              "    <tr>\n",
              "      <th>Harry Potter and the Sorcerer's Stone (a.k.a. Harry Potter and the Philosopher's Stone) (2001)</th>\n",
              "      <td>0.765159</td>\n",
              "    </tr>\n",
              "    <tr>\n",
              "      <th>Gladiator (2000)</th>\n",
              "      <td>0.740956</td>\n",
              "    </tr>\n",
              "    <tr>\n",
              "      <th>Matrix, The (1999)</th>\n",
              "      <td>0.732693</td>\n",
              "    </tr>\n",
              "    <tr>\n",
              "      <th>Pirates of the Caribbean: The Curse of the Black Pearl (2003)</th>\n",
              "      <td>0.689591</td>\n",
              "    </tr>\n",
              "    <tr>\n",
              "      <th>Lord of the Rings: The Return of the King, The (2003)</th>\n",
              "      <td>0.676711</td>\n",
              "    </tr>\n",
              "  </tbody>\n",
              "</table>\n",
              "</div>\n",
              "      <button class=\"colab-df-convert\" onclick=\"convertToInteractive('df-86e66808-a05d-460c-bb74-424ae5608e5a')\"\n",
              "              title=\"Convert this dataframe to an interactive table.\"\n",
              "              style=\"display:none;\">\n",
              "        \n",
              "  <svg xmlns=\"http://www.w3.org/2000/svg\" height=\"24px\"viewBox=\"0 0 24 24\"\n",
              "       width=\"24px\">\n",
              "    <path d=\"M0 0h24v24H0V0z\" fill=\"none\"/>\n",
              "    <path d=\"M18.56 5.44l.94 2.06.94-2.06 2.06-.94-2.06-.94-.94-2.06-.94 2.06-2.06.94zm-11 1L8.5 8.5l.94-2.06 2.06-.94-2.06-.94L8.5 2.5l-.94 2.06-2.06.94zm10 10l.94 2.06.94-2.06 2.06-.94-2.06-.94-.94-2.06-.94 2.06-2.06.94z\"/><path d=\"M17.41 7.96l-1.37-1.37c-.4-.4-.92-.59-1.43-.59-.52 0-1.04.2-1.43.59L10.3 9.45l-7.72 7.72c-.78.78-.78 2.05 0 2.83L4 21.41c.39.39.9.59 1.41.59.51 0 1.02-.2 1.41-.59l7.78-7.78 2.81-2.81c.8-.78.8-2.07 0-2.86zM5.41 20L4 18.59l7.72-7.72 1.47 1.35L5.41 20z\"/>\n",
              "  </svg>\n",
              "      </button>\n",
              "      \n",
              "  <style>\n",
              "    .colab-df-container {\n",
              "      display:flex;\n",
              "      flex-wrap:wrap;\n",
              "      gap: 12px;\n",
              "    }\n",
              "\n",
              "    .colab-df-convert {\n",
              "      background-color: #E8F0FE;\n",
              "      border: none;\n",
              "      border-radius: 50%;\n",
              "      cursor: pointer;\n",
              "      display: none;\n",
              "      fill: #1967D2;\n",
              "      height: 32px;\n",
              "      padding: 0 0 0 0;\n",
              "      width: 32px;\n",
              "    }\n",
              "\n",
              "    .colab-df-convert:hover {\n",
              "      background-color: #E2EBFA;\n",
              "      box-shadow: 0px 1px 2px rgba(60, 64, 67, 0.3), 0px 1px 3px 1px rgba(60, 64, 67, 0.15);\n",
              "      fill: #174EA6;\n",
              "    }\n",
              "\n",
              "    [theme=dark] .colab-df-convert {\n",
              "      background-color: #3B4455;\n",
              "      fill: #D2E3FC;\n",
              "    }\n",
              "\n",
              "    [theme=dark] .colab-df-convert:hover {\n",
              "      background-color: #434B5C;\n",
              "      box-shadow: 0px 1px 3px 1px rgba(0, 0, 0, 0.15);\n",
              "      filter: drop-shadow(0px 1px 2px rgba(0, 0, 0, 0.3));\n",
              "      fill: #FFFFFF;\n",
              "    }\n",
              "  </style>\n",
              "\n",
              "      <script>\n",
              "        const buttonEl =\n",
              "          document.querySelector('#df-86e66808-a05d-460c-bb74-424ae5608e5a button.colab-df-convert');\n",
              "        buttonEl.style.display =\n",
              "          google.colab.kernel.accessAllowed ? 'block' : 'none';\n",
              "\n",
              "        async function convertToInteractive(key) {\n",
              "          const element = document.querySelector('#df-86e66808-a05d-460c-bb74-424ae5608e5a');\n",
              "          const dataTable =\n",
              "            await google.colab.kernel.invokeFunction('convertToInteractive',\n",
              "                                                     [key], {});\n",
              "          if (!dataTable) return;\n",
              "\n",
              "          const docLinkHtml = 'Like what you see? Visit the ' +\n",
              "            '<a target=\"_blank\" href=https://colab.research.google.com/notebooks/data_table.ipynb>data table notebook</a>'\n",
              "            + ' to learn more about interactive tables.';\n",
              "          element.innerHTML = '';\n",
              "          dataTable['output_type'] = 'display_data';\n",
              "          await google.colab.output.renderOutput(dataTable, element);\n",
              "          const docLink = document.createElement('div');\n",
              "          docLink.innerHTML = docLinkHtml;\n",
              "          element.appendChild(docLink);\n",
              "        }\n",
              "      </script>\n",
              "    </div>\n",
              "  </div>\n",
              "  "
            ]
          },
          "metadata": {},
          "execution_count": 50
        }
      ]
    },
    {
      "cell_type": "markdown",
      "source": [
        "다양하지만 높은 흥행성을 가진 작품들이 추천됨."
      ],
      "metadata": {
        "id": "rwG9DiZnRsku"
      }
    },
    {
      "cell_type": "markdown",
      "source": [
        "##**07. 행렬 분해를 이용한 잠재 요인 협업 필터링 실습**\n",
        "행렬 분해를 이용한 잠재 요인 협업 필터링을 직접 구현해보자. 일반적으로 행렬 분해에는 SVD가 자주 사용되지만, 사용자-아이템 평점 행렬에는 null값이 많은 문제로 SGD나 ALS 기반의 행렬 분해를 이용. SGD 기반의 행렬 분해를 구현해보자.\n",
        "\n",
        "행렬 분해 로직 부분을 함수로 만들자."
      ],
      "metadata": {
        "id": "klBEHa6gF9Hi"
      }
    },
    {
      "cell_type": "code",
      "source": [
        "from sklearn.metrics import mean_squared_error\n",
        "\n",
        "def get_rmse(R, P, Q, non_zeros):\n",
        "  error=0\n",
        "  #두개의 분해된 행렬 P와 Q.T의 내적으로 예측 R 행렬 생성\n",
        "  full_pred_matrix=np.dot(P, Q.T)\n",
        "\n",
        "  #실제 R 행렬에서 널이 아닌 값의 위치 인덱스를 추출해 실제 R 행렬롸 예측 행렬의 RMSE 추출\n",
        "  x_non_zero_ind=[non_zero[0] for non_zero in non_zeros]\n",
        "  y_non_zero_ind=[non_zero[1] for non_zero in non_zeros]\n",
        "  R_non_zeros=R[x_non_zero_ind, y_non_zero_ind]\n",
        "  full_pred_matrix_non_zeros=full_pred_matrix[x_non_zero_ind, y_non_zero_ind]\n",
        "  mse=mean_squared_error(R_non_zeros, full_pred_matrix_non_zeros)\n",
        "  rmse=np.sqrt(mse)\n",
        "\n",
        "  return rmse"
      ],
      "metadata": {
        "id": "NHvyyKMQGCLC"
      },
      "execution_count": 51,
      "outputs": []
    },
    {
      "cell_type": "code",
      "source": [
        "def matrix_factorization(R, K, steps=200, learning_rate=0.01, r_lambda=0.01):\n",
        "  num_users, num_items=R.shape\n",
        "  #P와 Q 매트릭스의 크기를 지정하고 정규 분포를 가진 랜덤한 값으로 입력\n",
        "  np.random.seed(1)\n",
        "  P=np.random.normal(scale=1./K, size=(num_users, K))\n",
        "  Q=np.random.normal(scale=1./K, size=(num_items, K))\n",
        "\n",
        "  prev=rmse=10000\n",
        "  break_count=0\n",
        "\n",
        "  #R>0인 행 위치, 열 위치, 값을 non_zeros 리스트 객체에 저장.\n",
        "  non_zeros=[(i, j, R[i, j]) for i in range(num_users) for j in range(num_items) if R[i, j]>0]\n",
        "\n",
        "  #SGD 기법으로 P와 Q 매트릭스를 계속 업데이트\n",
        "  for step in range(steps):\n",
        "    for i, j, r in non_zeros:\n",
        "      #실제 값과 예측 값의 차이인 오류 값 구함\n",
        "      eij=r - np.dot(P[i, :], Q[j, :].T)\n",
        "      #Regularization 을 반영한 SGD 업데이트 공식 적용\n",
        "      P[i, :]=P[i, :]+learning_rate*(eij*Q[j, :]-r_lambda*P[i, :])\n",
        "      Q[j, :]=Q[j, :]+learning_rate*(eij*P[i, :]-r_lambda*Q[j, :])\n",
        "\n",
        "    rmse=get_rmse(R, P, Q, non_zeros)\n",
        "    if (step%10)==0:\n",
        "      print('### iteration setp :', step, 'rmse :', rmse)\n",
        "    \n",
        "  return P, Q"
      ],
      "metadata": {
        "id": "fZJyZgQPDptV"
      },
      "execution_count": 55,
      "outputs": []
    },
    {
      "cell_type": "markdown",
      "source": [
        "평점 행렬 데이트 새로 로딩"
      ],
      "metadata": {
        "id": "PwMxhFkCE5HN"
      }
    },
    {
      "cell_type": "code",
      "source": [
        "import pandas as pd\n",
        "import numpy as np\n",
        "\n",
        "movies=pd.read_csv('movies.csv')\n",
        "ratings=pd.read_csv('ratings.csv')\n",
        "ratings=ratings[['userId', 'movieId', 'rating']]\n",
        "ratings_matrix=ratings.pivot_table('rating', index='userId', columns='movieId')\n",
        "\n",
        "#title 칼럼을 얻기 위해 movies와 조인 수행\n",
        "rating_movies=pd.merge(ratings, movies, on='movieId')\n",
        "#columns='title'로 title 칼럼으로 pivot 수행\n",
        "ratings_matrix=rating_movies.pivot_table('rating', index='userId', columns='title')"
      ],
      "metadata": {
        "id": "0qmpzNWJE7Up"
      },
      "execution_count": 56,
      "outputs": []
    },
    {
      "cell_type": "markdown",
      "source": [
        "다시 만들어진 사용자-아이템 행렬을 행렬 분해하자."
      ],
      "metadata": {
        "id": "Olj0jrtmFiBq"
      }
    },
    {
      "cell_type": "code",
      "source": [
        "P, Q=matrix_factorization(ratings_matrix.values, K=50, steps=200, learning_rate=0.01, r_lambda=0.01)\n",
        "pred_matrix=np.dot(P, Q.T)"
      ],
      "metadata": {
        "colab": {
          "base_uri": "https://localhost:8080/"
        },
        "id": "6nCs-KPfFoir",
        "outputId": "01e8d234-39bf-4ccf-bda3-e7a93f6fc38e"
      },
      "execution_count": 57,
      "outputs": [
        {
          "output_type": "stream",
          "name": "stdout",
          "text": [
            "### iteration setp : 0 rmse : 2.9023619751336867\n",
            "### iteration setp : 10 rmse : 0.7335768591017927\n",
            "### iteration setp : 20 rmse : 0.5115539026853442\n",
            "### iteration setp : 30 rmse : 0.37261628282537446\n",
            "### iteration setp : 40 rmse : 0.2960818299181014\n",
            "### iteration setp : 50 rmse : 0.2520353192341642\n",
            "### iteration setp : 60 rmse : 0.22487503275269854\n",
            "### iteration setp : 70 rmse : 0.2068545530233154\n",
            "### iteration setp : 80 rmse : 0.19413418783028685\n",
            "### iteration setp : 90 rmse : 0.18470082002720406\n",
            "### iteration setp : 100 rmse : 0.17742927527209104\n",
            "### iteration setp : 110 rmse : 0.1716522696470749\n",
            "### iteration setp : 120 rmse : 0.16695181946871726\n",
            "### iteration setp : 130 rmse : 0.16305292191997542\n",
            "### iteration setp : 140 rmse : 0.15976691929679646\n",
            "### iteration setp : 150 rmse : 0.1569598699945732\n",
            "### iteration setp : 160 rmse : 0.15453398186715425\n",
            "### iteration setp : 170 rmse : 0.15241618551077643\n",
            "### iteration setp : 180 rmse : 0.1505508073962831\n",
            "### iteration setp : 190 rmse : 0.1488947091323209\n"
          ]
        }
      ]
    },
    {
      "cell_type": "markdown",
      "source": [
        "더 쉽게 칼럼을 이해하기 위해 칼럼명을 영화 타이틀로 바꾸자."
      ],
      "metadata": {
        "id": "jxxIyOpKF0Ik"
      }
    },
    {
      "cell_type": "code",
      "source": [
        "ratings_pred_matrix=pd.DataFrame(data=pred_matrix, index=ratings_matrix.index, columns=ratings_matrix.columns)\n",
        "ratings_pred_matrix.head(3)"
      ],
      "metadata": {
        "colab": {
          "base_uri": "https://localhost:8080/",
          "height": 389
        },
        "id": "aTJduWl7F371",
        "outputId": "4fcdafe0-1391-4cf9-cdbf-d0b2e81d8dba"
      },
      "execution_count": 58,
      "outputs": [
        {
          "output_type": "execute_result",
          "data": {
            "text/plain": [
              "title   '71 (2014)  'Hellboy': The Seeds of Creation (2004)  \\\n",
              "userId                                                        \n",
              "1         3.055084                                 4.092018   \n",
              "2         3.170119                                 3.657992   \n",
              "3         2.307073                                 1.658853   \n",
              "\n",
              "title   'Round Midnight (1986)  'Salem's Lot (2004)  \\\n",
              "userId                                                \n",
              "1                     3.564130             4.502167   \n",
              "2                     3.308707             4.166521   \n",
              "3                     1.443538             2.208859   \n",
              "\n",
              "title   'Til There Was You (1997)  'Tis the Season for Love (2015)  \\\n",
              "userId                                                               \n",
              "1                        3.981215                         1.271694   \n",
              "2                        4.311890                         1.275469   \n",
              "3                        2.229486                         0.780760   \n",
              "\n",
              "title   'burbs, The (1989)  'night Mother (1986)  (500) Days of Summer (2009)  \\\n",
              "userId                                                                          \n",
              "1                 3.603274              2.333266                     5.091749   \n",
              "2                 4.237972              1.900366                     3.392859   \n",
              "3                 1.997043              0.924908                     2.970700   \n",
              "\n",
              "title   *batteries not included (1987)  ...  Zulu (2013)  [REC] (2007)  \\\n",
              "userId                                  ...                              \n",
              "1                             3.972454  ...     1.402608      4.208382   \n",
              "2                             3.647421  ...     0.973811      3.528264   \n",
              "3                             2.551446  ...     0.520354      1.709494   \n",
              "\n",
              "title   [REC]² (2009)  [REC]³ 3 Génesis (2012)  \\\n",
              "userId                                           \n",
              "1            3.705957                 2.720514   \n",
              "2            3.361532                 2.672535   \n",
              "3            2.281596                 1.782833   \n",
              "\n",
              "title   anohana: The Flower We Saw That Day - The Movie (2013)  \\\n",
              "userId                                                           \n",
              "1                                                2.787331        \n",
              "2                                                2.404456        \n",
              "3                                                1.635173        \n",
              "\n",
              "title   eXistenZ (1999)  xXx (2002)  xXx: State of the Union (2005)  \\\n",
              "userId                                                                \n",
              "1              3.475076    3.253458                        2.161087   \n",
              "2              4.232789    2.911602                        1.634576   \n",
              "3              1.323276    2.887580                        1.042618   \n",
              "\n",
              "title   ¡Three Amigos! (1986)  À nous la liberté (Freedom for Us) (1931)  \n",
              "userId                                                                    \n",
              "1                    4.010495                                   0.859474  \n",
              "2                    4.135735                                   0.725684  \n",
              "3                    2.293890                                   0.396941  \n",
              "\n",
              "[3 rows x 9719 columns]"
            ],
            "text/html": [
              "\n",
              "  <div id=\"df-b4bc61a3-64c6-42c1-a088-553ea3f31c79\">\n",
              "    <div class=\"colab-df-container\">\n",
              "      <div>\n",
              "<style scoped>\n",
              "    .dataframe tbody tr th:only-of-type {\n",
              "        vertical-align: middle;\n",
              "    }\n",
              "\n",
              "    .dataframe tbody tr th {\n",
              "        vertical-align: top;\n",
              "    }\n",
              "\n",
              "    .dataframe thead th {\n",
              "        text-align: right;\n",
              "    }\n",
              "</style>\n",
              "<table border=\"1\" class=\"dataframe\">\n",
              "  <thead>\n",
              "    <tr style=\"text-align: right;\">\n",
              "      <th>title</th>\n",
              "      <th>'71 (2014)</th>\n",
              "      <th>'Hellboy': The Seeds of Creation (2004)</th>\n",
              "      <th>'Round Midnight (1986)</th>\n",
              "      <th>'Salem's Lot (2004)</th>\n",
              "      <th>'Til There Was You (1997)</th>\n",
              "      <th>'Tis the Season for Love (2015)</th>\n",
              "      <th>'burbs, The (1989)</th>\n",
              "      <th>'night Mother (1986)</th>\n",
              "      <th>(500) Days of Summer (2009)</th>\n",
              "      <th>*batteries not included (1987)</th>\n",
              "      <th>...</th>\n",
              "      <th>Zulu (2013)</th>\n",
              "      <th>[REC] (2007)</th>\n",
              "      <th>[REC]² (2009)</th>\n",
              "      <th>[REC]³ 3 Génesis (2012)</th>\n",
              "      <th>anohana: The Flower We Saw That Day - The Movie (2013)</th>\n",
              "      <th>eXistenZ (1999)</th>\n",
              "      <th>xXx (2002)</th>\n",
              "      <th>xXx: State of the Union (2005)</th>\n",
              "      <th>¡Three Amigos! (1986)</th>\n",
              "      <th>À nous la liberté (Freedom for Us) (1931)</th>\n",
              "    </tr>\n",
              "    <tr>\n",
              "      <th>userId</th>\n",
              "      <th></th>\n",
              "      <th></th>\n",
              "      <th></th>\n",
              "      <th></th>\n",
              "      <th></th>\n",
              "      <th></th>\n",
              "      <th></th>\n",
              "      <th></th>\n",
              "      <th></th>\n",
              "      <th></th>\n",
              "      <th></th>\n",
              "      <th></th>\n",
              "      <th></th>\n",
              "      <th></th>\n",
              "      <th></th>\n",
              "      <th></th>\n",
              "      <th></th>\n",
              "      <th></th>\n",
              "      <th></th>\n",
              "      <th></th>\n",
              "      <th></th>\n",
              "    </tr>\n",
              "  </thead>\n",
              "  <tbody>\n",
              "    <tr>\n",
              "      <th>1</th>\n",
              "      <td>3.055084</td>\n",
              "      <td>4.092018</td>\n",
              "      <td>3.564130</td>\n",
              "      <td>4.502167</td>\n",
              "      <td>3.981215</td>\n",
              "      <td>1.271694</td>\n",
              "      <td>3.603274</td>\n",
              "      <td>2.333266</td>\n",
              "      <td>5.091749</td>\n",
              "      <td>3.972454</td>\n",
              "      <td>...</td>\n",
              "      <td>1.402608</td>\n",
              "      <td>4.208382</td>\n",
              "      <td>3.705957</td>\n",
              "      <td>2.720514</td>\n",
              "      <td>2.787331</td>\n",
              "      <td>3.475076</td>\n",
              "      <td>3.253458</td>\n",
              "      <td>2.161087</td>\n",
              "      <td>4.010495</td>\n",
              "      <td>0.859474</td>\n",
              "    </tr>\n",
              "    <tr>\n",
              "      <th>2</th>\n",
              "      <td>3.170119</td>\n",
              "      <td>3.657992</td>\n",
              "      <td>3.308707</td>\n",
              "      <td>4.166521</td>\n",
              "      <td>4.311890</td>\n",
              "      <td>1.275469</td>\n",
              "      <td>4.237972</td>\n",
              "      <td>1.900366</td>\n",
              "      <td>3.392859</td>\n",
              "      <td>3.647421</td>\n",
              "      <td>...</td>\n",
              "      <td>0.973811</td>\n",
              "      <td>3.528264</td>\n",
              "      <td>3.361532</td>\n",
              "      <td>2.672535</td>\n",
              "      <td>2.404456</td>\n",
              "      <td>4.232789</td>\n",
              "      <td>2.911602</td>\n",
              "      <td>1.634576</td>\n",
              "      <td>4.135735</td>\n",
              "      <td>0.725684</td>\n",
              "    </tr>\n",
              "    <tr>\n",
              "      <th>3</th>\n",
              "      <td>2.307073</td>\n",
              "      <td>1.658853</td>\n",
              "      <td>1.443538</td>\n",
              "      <td>2.208859</td>\n",
              "      <td>2.229486</td>\n",
              "      <td>0.780760</td>\n",
              "      <td>1.997043</td>\n",
              "      <td>0.924908</td>\n",
              "      <td>2.970700</td>\n",
              "      <td>2.551446</td>\n",
              "      <td>...</td>\n",
              "      <td>0.520354</td>\n",
              "      <td>1.709494</td>\n",
              "      <td>2.281596</td>\n",
              "      <td>1.782833</td>\n",
              "      <td>1.635173</td>\n",
              "      <td>1.323276</td>\n",
              "      <td>2.887580</td>\n",
              "      <td>1.042618</td>\n",
              "      <td>2.293890</td>\n",
              "      <td>0.396941</td>\n",
              "    </tr>\n",
              "  </tbody>\n",
              "</table>\n",
              "<p>3 rows × 9719 columns</p>\n",
              "</div>\n",
              "      <button class=\"colab-df-convert\" onclick=\"convertToInteractive('df-b4bc61a3-64c6-42c1-a088-553ea3f31c79')\"\n",
              "              title=\"Convert this dataframe to an interactive table.\"\n",
              "              style=\"display:none;\">\n",
              "        \n",
              "  <svg xmlns=\"http://www.w3.org/2000/svg\" height=\"24px\"viewBox=\"0 0 24 24\"\n",
              "       width=\"24px\">\n",
              "    <path d=\"M0 0h24v24H0V0z\" fill=\"none\"/>\n",
              "    <path d=\"M18.56 5.44l.94 2.06.94-2.06 2.06-.94-2.06-.94-.94-2.06-.94 2.06-2.06.94zm-11 1L8.5 8.5l.94-2.06 2.06-.94-2.06-.94L8.5 2.5l-.94 2.06-2.06.94zm10 10l.94 2.06.94-2.06 2.06-.94-2.06-.94-.94-2.06-.94 2.06-2.06.94z\"/><path d=\"M17.41 7.96l-1.37-1.37c-.4-.4-.92-.59-1.43-.59-.52 0-1.04.2-1.43.59L10.3 9.45l-7.72 7.72c-.78.78-.78 2.05 0 2.83L4 21.41c.39.39.9.59 1.41.59.51 0 1.02-.2 1.41-.59l7.78-7.78 2.81-2.81c.8-.78.8-2.07 0-2.86zM5.41 20L4 18.59l7.72-7.72 1.47 1.35L5.41 20z\"/>\n",
              "  </svg>\n",
              "      </button>\n",
              "      \n",
              "  <style>\n",
              "    .colab-df-container {\n",
              "      display:flex;\n",
              "      flex-wrap:wrap;\n",
              "      gap: 12px;\n",
              "    }\n",
              "\n",
              "    .colab-df-convert {\n",
              "      background-color: #E8F0FE;\n",
              "      border: none;\n",
              "      border-radius: 50%;\n",
              "      cursor: pointer;\n",
              "      display: none;\n",
              "      fill: #1967D2;\n",
              "      height: 32px;\n",
              "      padding: 0 0 0 0;\n",
              "      width: 32px;\n",
              "    }\n",
              "\n",
              "    .colab-df-convert:hover {\n",
              "      background-color: #E2EBFA;\n",
              "      box-shadow: 0px 1px 2px rgba(60, 64, 67, 0.3), 0px 1px 3px 1px rgba(60, 64, 67, 0.15);\n",
              "      fill: #174EA6;\n",
              "    }\n",
              "\n",
              "    [theme=dark] .colab-df-convert {\n",
              "      background-color: #3B4455;\n",
              "      fill: #D2E3FC;\n",
              "    }\n",
              "\n",
              "    [theme=dark] .colab-df-convert:hover {\n",
              "      background-color: #434B5C;\n",
              "      box-shadow: 0px 1px 3px 1px rgba(0, 0, 0, 0.15);\n",
              "      filter: drop-shadow(0px 1px 2px rgba(0, 0, 0, 0.3));\n",
              "      fill: #FFFFFF;\n",
              "    }\n",
              "  </style>\n",
              "\n",
              "      <script>\n",
              "        const buttonEl =\n",
              "          document.querySelector('#df-b4bc61a3-64c6-42c1-a088-553ea3f31c79 button.colab-df-convert');\n",
              "        buttonEl.style.display =\n",
              "          google.colab.kernel.accessAllowed ? 'block' : 'none';\n",
              "\n",
              "        async function convertToInteractive(key) {\n",
              "          const element = document.querySelector('#df-b4bc61a3-64c6-42c1-a088-553ea3f31c79');\n",
              "          const dataTable =\n",
              "            await google.colab.kernel.invokeFunction('convertToInteractive',\n",
              "                                                     [key], {});\n",
              "          if (!dataTable) return;\n",
              "\n",
              "          const docLinkHtml = 'Like what you see? Visit the ' +\n",
              "            '<a target=\"_blank\" href=https://colab.research.google.com/notebooks/data_table.ipynb>data table notebook</a>'\n",
              "            + ' to learn more about interactive tables.';\n",
              "          element.innerHTML = '';\n",
              "          dataTable['output_type'] = 'display_data';\n",
              "          await google.colab.output.renderOutput(dataTable, element);\n",
              "          const docLink = document.createElement('div');\n",
              "          docLink.innerHTML = docLinkHtml;\n",
              "          element.appendChild(docLink);\n",
              "        }\n",
              "      </script>\n",
              "    </div>\n",
              "  </div>\n",
              "  "
            ]
          },
          "metadata": {},
          "execution_count": 58
        }
      ]
    },
    {
      "cell_type": "markdown",
      "source": [
        "예측 사용자-아이템 평점 행렬 정보가 만들어졌다.\n",
        "\n",
        "이제 개인화된 영화 추천을 해보자. 사용자 아이디 9번에 대한 추천을 이번에는 잠재 요인 협업 필터링으로 추천해보자."
      ],
      "metadata": {
        "id": "9pr4iD3mGD3M"
      }
    },
    {
      "cell_type": "code",
      "source": [
        "#사용자가 관람하지 않은 영화명 추출\n",
        "unseen_list=get_unseen_movies(ratings_matrix, 9)\n",
        "\n",
        "#잠재 요인 협업 필터링으로 영화 추천\n",
        "recomm_movies=recomm_movie_by_userid(ratings_pred_matrix, 9, unseen_list, top_n=10)\n",
        "\n",
        "#평점 데이터를 df로 생성\n",
        "recomm_movies=pd.DataFrame(data=recomm_movies.values, index=recomm_movies.index, columns=['pred_score'])\n",
        "recomm_movies"
      ],
      "metadata": {
        "colab": {
          "base_uri": "https://localhost:8080/",
          "height": 394
        },
        "id": "TJbT5XYkGPhh",
        "outputId": "8c2ebf34-130b-487c-9b56-d2d769b7fa5c"
      },
      "execution_count": 59,
      "outputs": [
        {
          "output_type": "execute_result",
          "data": {
            "text/plain": [
              "                                                    pred_score\n",
              "title                                                         \n",
              "Rear Window (1954)                                    5.704612\n",
              "South Park: Bigger, Longer and Uncut (1999)           5.451100\n",
              "Rounders (1998)                                       5.298393\n",
              "Blade Runner (1982)                                   5.244951\n",
              "Roger & Me (1989)                                     5.191962\n",
              "Gattaca (1997)                                        5.183179\n",
              "Ben-Hur (1959)                                        5.130463\n",
              "Rosencrantz and Guildenstern Are Dead (1990)          5.087375\n",
              "Big Lebowski, The (1998)                              5.038690\n",
              "Star Wars: Episode V - The Empire Strikes Back ...    4.989601"
            ],
            "text/html": [
              "\n",
              "  <div id=\"df-f00d17bb-99e2-4e62-ba9e-3154b1b4d6ff\">\n",
              "    <div class=\"colab-df-container\">\n",
              "      <div>\n",
              "<style scoped>\n",
              "    .dataframe tbody tr th:only-of-type {\n",
              "        vertical-align: middle;\n",
              "    }\n",
              "\n",
              "    .dataframe tbody tr th {\n",
              "        vertical-align: top;\n",
              "    }\n",
              "\n",
              "    .dataframe thead th {\n",
              "        text-align: right;\n",
              "    }\n",
              "</style>\n",
              "<table border=\"1\" class=\"dataframe\">\n",
              "  <thead>\n",
              "    <tr style=\"text-align: right;\">\n",
              "      <th></th>\n",
              "      <th>pred_score</th>\n",
              "    </tr>\n",
              "    <tr>\n",
              "      <th>title</th>\n",
              "      <th></th>\n",
              "    </tr>\n",
              "  </thead>\n",
              "  <tbody>\n",
              "    <tr>\n",
              "      <th>Rear Window (1954)</th>\n",
              "      <td>5.704612</td>\n",
              "    </tr>\n",
              "    <tr>\n",
              "      <th>South Park: Bigger, Longer and Uncut (1999)</th>\n",
              "      <td>5.451100</td>\n",
              "    </tr>\n",
              "    <tr>\n",
              "      <th>Rounders (1998)</th>\n",
              "      <td>5.298393</td>\n",
              "    </tr>\n",
              "    <tr>\n",
              "      <th>Blade Runner (1982)</th>\n",
              "      <td>5.244951</td>\n",
              "    </tr>\n",
              "    <tr>\n",
              "      <th>Roger &amp; Me (1989)</th>\n",
              "      <td>5.191962</td>\n",
              "    </tr>\n",
              "    <tr>\n",
              "      <th>Gattaca (1997)</th>\n",
              "      <td>5.183179</td>\n",
              "    </tr>\n",
              "    <tr>\n",
              "      <th>Ben-Hur (1959)</th>\n",
              "      <td>5.130463</td>\n",
              "    </tr>\n",
              "    <tr>\n",
              "      <th>Rosencrantz and Guildenstern Are Dead (1990)</th>\n",
              "      <td>5.087375</td>\n",
              "    </tr>\n",
              "    <tr>\n",
              "      <th>Big Lebowski, The (1998)</th>\n",
              "      <td>5.038690</td>\n",
              "    </tr>\n",
              "    <tr>\n",
              "      <th>Star Wars: Episode V - The Empire Strikes Back (1980)</th>\n",
              "      <td>4.989601</td>\n",
              "    </tr>\n",
              "  </tbody>\n",
              "</table>\n",
              "</div>\n",
              "      <button class=\"colab-df-convert\" onclick=\"convertToInteractive('df-f00d17bb-99e2-4e62-ba9e-3154b1b4d6ff')\"\n",
              "              title=\"Convert this dataframe to an interactive table.\"\n",
              "              style=\"display:none;\">\n",
              "        \n",
              "  <svg xmlns=\"http://www.w3.org/2000/svg\" height=\"24px\"viewBox=\"0 0 24 24\"\n",
              "       width=\"24px\">\n",
              "    <path d=\"M0 0h24v24H0V0z\" fill=\"none\"/>\n",
              "    <path d=\"M18.56 5.44l.94 2.06.94-2.06 2.06-.94-2.06-.94-.94-2.06-.94 2.06-2.06.94zm-11 1L8.5 8.5l.94-2.06 2.06-.94-2.06-.94L8.5 2.5l-.94 2.06-2.06.94zm10 10l.94 2.06.94-2.06 2.06-.94-2.06-.94-.94-2.06-.94 2.06-2.06.94z\"/><path d=\"M17.41 7.96l-1.37-1.37c-.4-.4-.92-.59-1.43-.59-.52 0-1.04.2-1.43.59L10.3 9.45l-7.72 7.72c-.78.78-.78 2.05 0 2.83L4 21.41c.39.39.9.59 1.41.59.51 0 1.02-.2 1.41-.59l7.78-7.78 2.81-2.81c.8-.78.8-2.07 0-2.86zM5.41 20L4 18.59l7.72-7.72 1.47 1.35L5.41 20z\"/>\n",
              "  </svg>\n",
              "      </button>\n",
              "      \n",
              "  <style>\n",
              "    .colab-df-container {\n",
              "      display:flex;\n",
              "      flex-wrap:wrap;\n",
              "      gap: 12px;\n",
              "    }\n",
              "\n",
              "    .colab-df-convert {\n",
              "      background-color: #E8F0FE;\n",
              "      border: none;\n",
              "      border-radius: 50%;\n",
              "      cursor: pointer;\n",
              "      display: none;\n",
              "      fill: #1967D2;\n",
              "      height: 32px;\n",
              "      padding: 0 0 0 0;\n",
              "      width: 32px;\n",
              "    }\n",
              "\n",
              "    .colab-df-convert:hover {\n",
              "      background-color: #E2EBFA;\n",
              "      box-shadow: 0px 1px 2px rgba(60, 64, 67, 0.3), 0px 1px 3px 1px rgba(60, 64, 67, 0.15);\n",
              "      fill: #174EA6;\n",
              "    }\n",
              "\n",
              "    [theme=dark] .colab-df-convert {\n",
              "      background-color: #3B4455;\n",
              "      fill: #D2E3FC;\n",
              "    }\n",
              "\n",
              "    [theme=dark] .colab-df-convert:hover {\n",
              "      background-color: #434B5C;\n",
              "      box-shadow: 0px 1px 3px 1px rgba(0, 0, 0, 0.15);\n",
              "      filter: drop-shadow(0px 1px 2px rgba(0, 0, 0, 0.3));\n",
              "      fill: #FFFFFF;\n",
              "    }\n",
              "  </style>\n",
              "\n",
              "      <script>\n",
              "        const buttonEl =\n",
              "          document.querySelector('#df-f00d17bb-99e2-4e62-ba9e-3154b1b4d6ff button.colab-df-convert');\n",
              "        buttonEl.style.display =\n",
              "          google.colab.kernel.accessAllowed ? 'block' : 'none';\n",
              "\n",
              "        async function convertToInteractive(key) {\n",
              "          const element = document.querySelector('#df-f00d17bb-99e2-4e62-ba9e-3154b1b4d6ff');\n",
              "          const dataTable =\n",
              "            await google.colab.kernel.invokeFunction('convertToInteractive',\n",
              "                                                     [key], {});\n",
              "          if (!dataTable) return;\n",
              "\n",
              "          const docLinkHtml = 'Like what you see? Visit the ' +\n",
              "            '<a target=\"_blank\" href=https://colab.research.google.com/notebooks/data_table.ipynb>data table notebook</a>'\n",
              "            + ' to learn more about interactive tables.';\n",
              "          element.innerHTML = '';\n",
              "          dataTable['output_type'] = 'display_data';\n",
              "          await google.colab.output.renderOutput(dataTable, element);\n",
              "          const docLink = document.createElement('div');\n",
              "          docLink.innerHTML = docLinkHtml;\n",
              "          element.appendChild(docLink);\n",
              "        }\n",
              "      </script>\n",
              "    </div>\n",
              "  </div>\n",
              "  "
            ]
          },
          "metadata": {},
          "execution_count": 59
        }
      ]
    },
    {
      "cell_type": "markdown",
      "source": [
        "앞 절의 아이템 기반 협업 필터링 결과와는 많이 다르다."
      ],
      "metadata": {
        "id": "c6kiJ9h3G1sE"
      }
    },
    {
      "cell_type": "markdown",
      "source": [
        "##**08. 파이썬 추천 시스템 패키지 - Surprise**\n",
        "###**Surprise 패키지 소개**\n",
        "지금까지 콘텐츠 기반 필터링, 아이템 기반 협업 필터링, 잠재 요인 기반 협업 필터링을 구현.\n",
        "\n",
        "파이썬 기반의 추천 시스템 구축을 위한 전용 패키지 : surprise. 장점은 다음과 같다.\n",
        "- 다양한 추천 알고리즘 (사용자 또는 아이템 기반 최근접 이웃 협업 필터링, SVD, SVD++, NMF 기반의 잠재 요인 협업 필터링)을 쉽게 적용해 추천 시스템 구축\n",
        "- fit, predict(), train_test_split, cross_validate, gridsearchcv 등의 클래스를 통해 추천 시스템을 위한 모델 셀렉션 평가, 하이퍼 파라미터 튜닝 등의 기능 제공."
      ],
      "metadata": {
        "id": "cDn5NdVEGCXW"
      }
    },
    {
      "cell_type": "code",
      "source": [
        "!pip install surprise"
      ],
      "metadata": {
        "id": "8G-bdaGaGLpO",
        "colab": {
          "base_uri": "https://localhost:8080/"
        },
        "outputId": "bcd3ca76-628d-4e2c-9b71-1d7f903d7bdb"
      },
      "execution_count": 61,
      "outputs": [
        {
          "output_type": "stream",
          "name": "stdout",
          "text": [
            "Looking in indexes: https://pypi.org/simple, https://us-python.pkg.dev/colab-wheels/public/simple/\n",
            "Collecting surprise\n",
            "  Downloading surprise-0.1-py2.py3-none-any.whl (1.8 kB)\n",
            "Collecting scikit-surprise (from surprise)\n",
            "  Downloading scikit-surprise-1.1.3.tar.gz (771 kB)\n",
            "\u001b[2K     \u001b[90m━━━━━━━━━━━━━━━━━━━━━━━━━━━━━━━━━━━━━━\u001b[0m \u001b[32m772.0/772.0 kB\u001b[0m \u001b[31m12.0 MB/s\u001b[0m eta \u001b[36m0:00:00\u001b[0m\n",
            "\u001b[?25h  Preparing metadata (setup.py) ... \u001b[?25l\u001b[?25hdone\n",
            "Requirement already satisfied: joblib>=1.0.0 in /usr/local/lib/python3.10/dist-packages (from scikit-surprise->surprise) (1.2.0)\n",
            "Requirement already satisfied: numpy>=1.17.3 in /usr/local/lib/python3.10/dist-packages (from scikit-surprise->surprise) (1.22.4)\n",
            "Requirement already satisfied: scipy>=1.3.2 in /usr/local/lib/python3.10/dist-packages (from scikit-surprise->surprise) (1.10.1)\n",
            "Building wheels for collected packages: scikit-surprise\n",
            "  Building wheel for scikit-surprise (setup.py) ... \u001b[?25l\u001b[?25hdone\n",
            "  Created wheel for scikit-surprise: filename=scikit_surprise-1.1.3-cp310-cp310-linux_x86_64.whl size=3095490 sha256=a7d4cb878815a00245f077ad87635e463d9deda72811962ddb45cfd498e25170\n",
            "  Stored in directory: /root/.cache/pip/wheels/a5/ca/a8/4e28def53797fdc4363ca4af740db15a9c2f1595ebc51fb445\n",
            "Successfully built scikit-surprise\n",
            "Installing collected packages: scikit-surprise, surprise\n",
            "Successfully installed scikit-surprise-1.1.3 surprise-0.1\n"
          ]
        }
      ]
    },
    {
      "cell_type": "markdown",
      "source": [
        "###**Surprise를 이용한 추천 시스템 구축**\n",
        "간단한 예제를 통해 surprise 패키지의 개략적인 사용법을 익혀보자.\n",
        "\n",
        "추천 데이터를 학습용과 테스트용 데이터 세트로 분리한 뒤, SVD 행렬 분해를 통해 잠재 요인 협업 필터링을 수행."
      ],
      "metadata": {
        "id": "PUd3Z5weGL3V"
      }
    },
    {
      "cell_type": "code",
      "source": [
        "from surprise import SVD\n",
        "from surprise import Dataset\n",
        "from surprise import accuracy\n",
        "from surprise.model_selection import train_test_split"
      ],
      "metadata": {
        "id": "NWThYm45GPaF"
      },
      "execution_count": 62,
      "outputs": []
    },
    {
      "cell_type": "markdown",
      "source": [
        "추천을 위한 데이터 세트 로딩. surprise에서 데이터 로딩은 dataset 클래스를 이용해서만 가능하다. surprise는 movie lens 데이터 세트의 사용자-영화 평점 데이터 포맷과 같이 userId, movieId, rating과 같은 주요 데이터가 로우 레벨(-> 방향으로 데이터가 되어 있음) 형태로 되어 있는 포맷의 데이터만 처리한다."
      ],
      "metadata": {
        "id": "XDg1TuAdNQR_"
      }
    },
    {
      "cell_type": "code",
      "source": [
        "#과거 버전의 데이터임. 최근 영화에 대한 평점 없다.\n",
        "\n",
        "data=Dataset.load_builtin('ml-100k')\n",
        "#수행시마다 동일하게 데이터를 분할하기 위해 random_state 값 부여\n",
        "trainset, testset=train_test_split(data,test_size=.25, random_state=0)"
      ],
      "metadata": {
        "colab": {
          "base_uri": "https://localhost:8080/"
        },
        "id": "r5ULcXIYNpCD",
        "outputId": "c049f7e0-4f11-4358-abe2-50d6519e4622"
      },
      "execution_count": 63,
      "outputs": [
        {
          "output_type": "stream",
          "name": "stdout",
          "text": [
            "Dataset ml-100k could not be found. Do you want to download it? [Y/n] Y\n",
            "Trying to download dataset from https://files.grouplens.org/datasets/movielens/ml-100k.zip...\n",
            "Done! Dataset ml-100k has been saved to /root/.surprise_data/ml-100k\n"
          ]
        }
      ]
    },
    {
      "cell_type": "markdown",
      "source": [
        "시행하면 내려받기가 된다.\n",
        "\n",
        "주의해야할 점은 사용자-아이템 평점 데이터를 적용할 때 무비렌즈 사이트에서 내려받은 데이터 파일과 동일하게 로우 레벨의 사용자-아이템 평점 데이터를 그대로 적용해야 한다는 것. 앞에서 로우 레벨의 사용자-아이템 평점 데이터를 아이디를 칼럼명으로 변환한 형태의 사용자-아이템 평점 행렬 데이터로 변환했다. surprise는 자체적으로 로우 레벨의 데이터를 칼럼 레벨의 데이터로 변경하므로 원본 데이터를 데이터 세트로 적용.\n",
        "\n",
        "이제 SVD로 잠재 요인 협업 필터링을 수행하자."
      ],
      "metadata": {
        "id": "f7Qe8R9COKrC"
      }
    },
    {
      "cell_type": "code",
      "source": [
        "algo=SVD() #알고리즘 객체 생성\n",
        "algo.fit(trainset) #이 알고리즘에 fit을 수행해 학습 데이터 세트 기반으로 추천 알고리즘을 학습"
      ],
      "metadata": {
        "colab": {
          "base_uri": "https://localhost:8080/"
        },
        "id": "J_4-qxLlOvaC",
        "outputId": "cb54ace7-73aa-40da-e846-4d83d683135e"
      },
      "execution_count": 64,
      "outputs": [
        {
          "output_type": "execute_result",
          "data": {
            "text/plain": [
              "<surprise.prediction_algorithms.matrix_factorization.SVD at 0x7f29cd0c7040>"
            ]
          },
          "metadata": {},
          "execution_count": 64
        }
      ]
    },
    {
      "cell_type": "markdown",
      "source": [
        "학습된 추천 알고리즘을 기반으로 테스트 데이터 세트에 대해 추천을 수행하자. test()(사용자-아이템 평점 데이터 세트 전체에 대해 추천을 예측)와 predict()(개별 사용자와 영화에 대한 추천 평점 반환)이용. "
      ],
      "metadata": {
        "id": "89-76oigPFPC"
      }
    },
    {
      "cell_type": "code",
      "source": [
        "#test()의 작동\n",
        "predictions=algo.test(testset)\n",
        "print('predictions type :', type(predictions), 'size :', len(predictions))\n",
        "print('prediction 결과의 최초 5개 추출')\n",
        "predictions[:5]"
      ],
      "metadata": {
        "colab": {
          "base_uri": "https://localhost:8080/"
        },
        "id": "TKvAZTdhPT4-",
        "outputId": "1942bdb3-915e-4b75-d731-b806d53d5027"
      },
      "execution_count": 65,
      "outputs": [
        {
          "output_type": "stream",
          "name": "stdout",
          "text": [
            "predictions type : <class 'list'> size : 25000\n",
            "prediction 결과의 최초 5개 추출\n"
          ]
        },
        {
          "output_type": "execute_result",
          "data": {
            "text/plain": [
              "[Prediction(uid='120', iid='282', r_ui=4.0, est=3.691991813467798, details={'was_impossible': False}),\n",
              " Prediction(uid='882', iid='291', r_ui=4.0, est=3.705707305506705, details={'was_impossible': False}),\n",
              " Prediction(uid='535', iid='507', r_ui=5.0, est=4.054191985450693, details={'was_impossible': False}),\n",
              " Prediction(uid='697', iid='244', r_ui=5.0, est=3.4039506443621894, details={'was_impossible': False}),\n",
              " Prediction(uid='751', iid='385', r_ui=4.0, est=3.2251276456948292, details={'was_impossible': False})]"
            ]
          },
          "metadata": {},
          "execution_count": 65
        }
      ]
    },
    {
      "cell_type": "code",
      "source": [
        "#userid, itemid, est에 접근해보자\n",
        "[ (pred.uid, pred.iid, pred.est) for pred in predictions[:3]]"
      ],
      "metadata": {
        "colab": {
          "base_uri": "https://localhost:8080/"
        },
        "id": "2zAMqJ6NP9tQ",
        "outputId": "22a6c586-0ed4-4c59-f55d-b07679f4b626"
      },
      "execution_count": 66,
      "outputs": [
        {
          "output_type": "execute_result",
          "data": {
            "text/plain": [
              "[('120', '282', 3.691991813467798),\n",
              " ('882', '291', 3.705707305506705),\n",
              " ('535', '507', 4.054191985450693)]"
            ]
          },
          "metadata": {},
          "execution_count": 66
        }
      ]
    },
    {
      "cell_type": "code",
      "source": [
        "#predict()의 작동\n",
        "\n",
        "#사용자 아이디, 아이템 아이디는 문자열로 입력해야함.\n",
        "uid=str(196)\n",
        "iid=str(302)\n",
        "pred=algo.predict(uid, iid)\n",
        "print(pred)"
      ],
      "metadata": {
        "colab": {
          "base_uri": "https://localhost:8080/"
        },
        "id": "mTvFq9VHQJVZ",
        "outputId": "afcaa9af-2112-4c9c-d5a8-e31f75f5c5df"
      },
      "execution_count": 67,
      "outputs": [
        {
          "output_type": "stream",
          "name": "stdout",
          "text": [
            "user: 196        item: 302        r_ui = None   est = 4.14   {'was_impossible': False}\n"
          ]
        }
      ]
    },
    {
      "cell_type": "markdown",
      "source": [
        "predict는 이렇게 개별 사용자와 아이템 정보를 입력하면 추천 예측 평점을 반환.\n",
        "\n",
        "테스트 데이터 세트를 이용해 추천 예측 평점과 실제 평점과의 차이도 평가해보자."
      ],
      "metadata": {
        "id": "U6ssTt1DQZXA"
      }
    },
    {
      "cell_type": "code",
      "source": [
        "#바로 rmse 사용\n",
        "accuracy.rmse(predictions)"
      ],
      "metadata": {
        "colab": {
          "base_uri": "https://localhost:8080/"
        },
        "id": "DCSa08F9Qjle",
        "outputId": "cae872ed-7b1f-4bf7-e686-a3381212cbbd"
      },
      "execution_count": 68,
      "outputs": [
        {
          "output_type": "stream",
          "name": "stdout",
          "text": [
            "RMSE: 0.9492\n"
          ]
        },
        {
          "output_type": "execute_result",
          "data": {
            "text/plain": [
              "0.9491839577460947"
            ]
          },
          "metadata": {},
          "execution_count": 68
        }
      ]
    },
    {
      "cell_type": "markdown",
      "source": [
        "###**Surprise 주요 모듈 소개**\n",
        "**Dataset**\n",
        "\n",
        "로우 레벨이며 네번째 칼럼부터는 아예 로딩을 수행하지 않는 surprise. 따라서 데이터 세트의 칼럼 순서가 반드시 사용자 아이디, 아이템 아이디, 평점 순으로 되어 있어야 한다."
      ],
      "metadata": {
        "id": "qWQB9MK3GPl0"
      }
    },
    {
      "cell_type": "markdown",
      "source": [
        "**OS 파일 데이터를 Surprise 데이터 세트로 로딩**\n",
        "\n",
        "로딩 되는 데이터 파일에 칼럼명을 가지는 헤더 문자열이 있어서는 안된다. ratings 파일에 있으므로 to_csv() 함수로 헤더를 삭제하자."
      ],
      "metadata": {
        "id": "4mJPlJPiGXGN"
      }
    },
    {
      "cell_type": "code",
      "source": [
        "import pandas as pd\n",
        "\n",
        "ratings=pd.read_csv('ratings.csv')\n",
        "#ratings_noh.csv 파일로 언로드 시 인덱스와 헤더를 모두 제거한 새로운 파일 생성.\n",
        "ratings.to_csv('ratings_noh.csv', index=False, header=False)"
      ],
      "metadata": {
        "id": "VhlaWbiFGfz0"
      },
      "execution_count": 69,
      "outputs": []
    },
    {
      "cell_type": "markdown",
      "source": [
        "데이터 파일의 파싱 포맷 정의.\n",
        "\n",
        "reader 객체 생성 시 line_foramt 인자로 user, item, rating, timestamp의 4개 칼럼으로 데이터가 구성되어 있음을 명시. 각 칼럼의 분리 문자는 콤마, 평점 단위는 0.5, 최대 평점은 5로 설정. reader 설정을 완료하면 이를 기반으로 데이터를 파싱하며 로딩한다."
      ],
      "metadata": {
        "id": "s1vK8lIpRl_o"
      }
    },
    {
      "cell_type": "code",
      "source": [
        "from surprise import Reader\n",
        "\n",
        "reader=Reader(line_format='user item rating timestamp', sep=',', rating_scale=(0.5, 5))\n",
        "data=Dataset.load_from_file('ratings_noh.csv', reader=reader)"
      ],
      "metadata": {
        "id": "bvTx7vw4R8ib"
      },
      "execution_count": 71,
      "outputs": []
    },
    {
      "cell_type": "markdown",
      "source": [
        "- line_format(string) : 칼럼을 순서대로 나열. 입력된 문자열을 공백으로 분리해 칼럼으로 인식.\n",
        "\n",
        "이제 SVD 행렬 분해 기법을 이용해 추천을 예측해보자."
      ],
      "metadata": {
        "id": "V7FQyhMXSVyd"
      }
    },
    {
      "cell_type": "code",
      "source": [
        "trainset, testset=train_test_split(data, test_size=0.25, random_state=0)\n",
        "\n",
        "#수행시마다 동일한 결과를 도출하기 위해 random_state 설정\n",
        "algo=SVD(n_factors=50, random_state=0)\n",
        "\n",
        "#학습 데이터 세트로 학습하고 테스트 데이터 세트로 평점 예측 후 rmse 평가\n",
        "algo.fit(trainset)\n",
        "predictions=algo.test(testset)\n",
        "accuracy.rmse(predictions)"
      ],
      "metadata": {
        "colab": {
          "base_uri": "https://localhost:8080/"
        },
        "id": "je9_umRMSjXD",
        "outputId": "5e0813cb-01c0-4b5a-927c-92d8fd0aa8ed"
      },
      "execution_count": 72,
      "outputs": [
        {
          "output_type": "stream",
          "name": "stdout",
          "text": [
            "RMSE: 0.8682\n"
          ]
        },
        {
          "output_type": "execute_result",
          "data": {
            "text/plain": [
              "0.8681952927143516"
            ]
          },
          "metadata": {},
          "execution_count": 72
        }
      ]
    },
    {
      "cell_type": "markdown",
      "source": [
        "**판다스 DF에서 Surprise 데이터 세트로 로딩**\n",
        "\n",
        "판다스의 df에서도 surprise 데이터 세트로 로딩할 수 있지만 주의할 점은 역시 사용자 아이디, 아이템 아이디, 평점 칼럼 순서."
      ],
      "metadata": {
        "id": "8WJ92zvRGgAI"
      }
    },
    {
      "cell_type": "code",
      "source": [
        "import pandas as pd\n",
        "from surprise import Reader, Dataset\n",
        "\n",
        "ratings=pd.read_csv('ratings.csv')\n",
        "reader=Reader(rating_scale=(0.5, 5.0))\n",
        "\n",
        "#ratings df에서 칼럼은 사용자 아이디, 아이템 아이디, 평점 순서\n",
        "data=Dataset.load_from_df(ratings[['userId', 'movieId', 'rating']], reader)\n",
        "trainset, testset=train_test_split(data, test_size=0.25, random_state=0)\n",
        "\n",
        "algo=SVD(n_factors=50, random_state=0)\n",
        "algo.fit(trainset)\n",
        "predictions=algo.test(testset)\n",
        "accuracy.rmse(predictions)"
      ],
      "metadata": {
        "id": "JFRL-_tLGl-L",
        "colab": {
          "base_uri": "https://localhost:8080/"
        },
        "outputId": "dfe77e23-75a6-4540-abc7-5c58847994c3"
      },
      "execution_count": 73,
      "outputs": [
        {
          "output_type": "stream",
          "name": "stdout",
          "text": [
            "RMSE: 0.8682\n"
          ]
        },
        {
          "output_type": "execute_result",
          "data": {
            "text/plain": [
              "0.8681952927143516"
            ]
          },
          "metadata": {},
          "execution_count": 73
        }
      ]
    },
    {
      "cell_type": "markdown",
      "source": [
        "###**Surprise 추천 알고리즘 클래스**\n",
        "surprise SVD의 비용 함수는 사용자 베이스라인 편향성을 감안한 평점 예측에 regularization을 적용한 것. SVD 클래스의 입력 파라미터 n_factors와 n_epochs의 값을 변경해 튜닝할 수 있으나 튜닝 효과는 크지 않다.\n",
        "\n",
        "추천 알고리즘 예측 성능 벤치마크 결과를 살펴보자. SVD++ 알고리즘의 성적이 가장 좋지만, 시간이 오래 걸린다. SVD++을 제외하면 SVD, k-NN baseline이 가장 성적이 좋다."
      ],
      "metadata": {
        "id": "fHGSm2ZHGmWN"
      }
    },
    {
      "cell_type": "markdown",
      "source": [
        "###**베이스라인 평점**\n",
        "k-nn baseline에서 baseline이란??\n",
        "\n",
        "평가가 각 개인의 성향에 따라(냉정하게 해야지, 후하게 해야지) 달라질 수 있다는 경향을 반영해 아이템 평가에 편향성 요소를 반영하게 평점을 부과하는 것을 베이스라인 평점이라고 함.\n",
        "\n",
        "전체 평균 평점 + 사용자 편향 점수 + 아이템 편향 점수 공식으로 계산된다. 이 때\n",
        "- 사용자 편향 점수=사용자별 아이템 평점 평균 값 - 전체 평균 평점\n",
        "- 아이템 편향 점수=아이템별 평점 평균 값 - 전체 평균 평점\n",
        "\n",
        "이다.\n"
      ],
      "metadata": {
        "id": "JXFpLdj-Grwb"
      }
    },
    {
      "cell_type": "markdown",
      "source": [
        "###**교차 검증과 하이퍼 파라미터 튜닝**\n",
        "surprise는 cross_validate()와 gridsearchcv를 제공."
      ],
      "metadata": {
        "id": "KUVVGNCzGvAL"
      }
    },
    {
      "cell_type": "code",
      "source": [
        "#cross_validate() 작동\n",
        "from surprise.model_selection import cross_validate\n",
        "\n",
        "#판다스 df에서 surprise 데이터 세트로 데이터 로딩\n",
        "ratings=pd.read_csv('ratings.csv')\n",
        "reader=Reader(rating_scale=(0.5, 5.0))\n",
        "data=Dataset.load_from_df(ratings[['userId', 'movieId', 'rating']], reader)\n",
        "\n",
        "algo=SVD(random_state=0)\n",
        "cross_validate(algo, data, measures=['RMSE', 'MAE'], cv=5, verbose=True)"
      ],
      "metadata": {
        "id": "0n4KP5S9Gxfy",
        "colab": {
          "base_uri": "https://localhost:8080/"
        },
        "outputId": "9ecc28a1-5127-44bb-9706-9983d7b9f55e"
      },
      "execution_count": 74,
      "outputs": [
        {
          "output_type": "stream",
          "name": "stdout",
          "text": [
            "Evaluating RMSE, MAE of algorithm SVD on 5 split(s).\n",
            "\n",
            "                  Fold 1  Fold 2  Fold 3  Fold 4  Fold 5  Mean    Std     \n",
            "RMSE (testset)    0.8724  0.8729  0.8735  0.8726  0.8834  0.8750  0.0042  \n",
            "MAE (testset)     0.6709  0.6706  0.6680  0.6725  0.6800  0.6724  0.0041  \n",
            "Fit time          1.74    2.57    1.94    2.98    2.34    2.32    0.44    \n",
            "Test time         0.42    0.27    0.21    0.15    0.28    0.27    0.09    \n"
          ]
        },
        {
          "output_type": "execute_result",
          "data": {
            "text/plain": [
              "{'test_rmse': array([0.8724035 , 0.87288946, 0.87345643, 0.87262857, 0.88337819]),\n",
              " 'test_mae': array([0.67085041, 0.67056714, 0.66798929, 0.67254846, 0.6800387 ]),\n",
              " 'fit_time': (1.742537260055542,\n",
              "  2.572179079055786,\n",
              "  1.943324089050293,\n",
              "  2.981207847595215,\n",
              "  2.3396496772766113),\n",
              " 'test_time': (0.41981959342956543,\n",
              "  0.2744271755218506,\n",
              "  0.20737552642822266,\n",
              "  0.15221929550170898,\n",
              "  0.28346729278564453)}"
            ]
          },
          "metadata": {},
          "execution_count": 74
        }
      ]
    },
    {
      "cell_type": "markdown",
      "source": [
        "폴드별 성능 평가 수치와 전체 폴드의 평균 성능 평가 수치를 함께 보여준다."
      ],
      "metadata": {
        "id": "M6w07LQ-XPAL"
      }
    },
    {
      "cell_type": "code",
      "source": [
        "#gridsearchcv 작동\n",
        "from surprise.model_selection import GridSearchCV\n",
        "\n",
        "#최적화할 파라미터를 딕셔너리 형태로 지정.\n",
        "param_grid={'n_epochs':[20, 40, 60],\n",
        "            'n_factors':[50, 100, 200]}\n",
        "\n",
        "#CV를 3개 폴드 세트로 지정, 성능 평가를 rmse, mse로 수행하도록 gridsearchcv 구성\n",
        "gs=GridSearchCV(SVD, param_grid, measures=['rmse', 'mae'], cv=3)\n",
        "gs.fit(data)\n",
        "\n",
        "#최고 RMSE evaluation 점수와 그때의 하이퍼 파라미터\n",
        "print(gs.best_score['rmse'])\n",
        "print(gs.best_params['rmse'])"
      ],
      "metadata": {
        "colab": {
          "base_uri": "https://localhost:8080/"
        },
        "id": "XNs5YybcXhGq",
        "outputId": "2f280596-9ca2-47d7-82dd-167571b5773a"
      },
      "execution_count": 75,
      "outputs": [
        {
          "output_type": "stream",
          "name": "stdout",
          "text": [
            "0.8783763629335608\n",
            "{'n_epochs': 20, 'n_factors': 50}\n"
          ]
        }
      ]
    },
    {
      "cell_type": "markdown",
      "source": [
        "###**Surprise를 이용한 개인화 영화 추천 시스템 구축**\n",
        "surprise 패키지로 학습된 추천 알고리즘을 기반으로 특정 사용자가 아직 평점을 매기지 않은 영화 중에서 개인 취향에 가장 적절한 영화를 추천해보자. 따라서 ratings 데이터를 분리하지 않고 전체를 학습 데이터로 사용한다.\n",
        "\n",
        "다만, surprise는 데이터 세트를 split()을 이용해 내부에서 사용하는 trainset 클래스 객체로 변환하지 않으면 fit으로 학습할 수가 없다."
      ],
      "metadata": {
        "id": "JPU7sp2QGypo"
      }
    },
    {
      "cell_type": "code",
      "source": [
        "#따라서 분리하지 않은 데이터 세트에 fit을 수행한 이 코드는 오류 발생\n",
        "\n",
        "#data=Dataset.load_from_df(ratings[['userId', 'movieId', 'rating']], reader)\n",
        "#algo=SVD(n_factors=50, random_state=0)\n",
        "#algo.fit(data)"
      ],
      "metadata": {
        "id": "y4wyLyjdG-JM"
      },
      "execution_count": null,
      "outputs": []
    },
    {
      "cell_type": "markdown",
      "source": [
        "데이터 전체를 학습 데이터로 사용하려면 DatasetAutoFolds 클래스를 이용한다."
      ],
      "metadata": {
        "id": "AO9Gqoc7Y3SN"
      }
    },
    {
      "cell_type": "code",
      "source": [
        "from surprise.dataset import DatasetAutoFolds\n",
        "\n",
        "reader=Reader(line_format='user item rating timestamp', sep=',', rating_scale=(0.5, 5))\n",
        "#datasetaufofolds 클래스를 ratings_noh.csv 기반으로 생성\n",
        "data_folds=DatasetAutoFolds(ratings_file='ratings_noh.csv', reader=reader)\n",
        "\n",
        "#전체 데이터를 학습 데이터로 생성\n",
        "trainset=data_folds.build_full_trainset()"
      ],
      "metadata": {
        "id": "ULjQ6JbKY8XN"
      },
      "execution_count": 76,
      "outputs": []
    },
    {
      "cell_type": "code",
      "source": [
        "#build_full_trainset을 이용해 생성된 학습 데이터를 기반으로 학습 수행\n",
        "algo=SVD(n_epochs=20, n_factors=50, random_state=0)\n",
        "algo.fit(trainset)"
      ],
      "metadata": {
        "colab": {
          "base_uri": "https://localhost:8080/"
        },
        "id": "EagBK6RJZWKo",
        "outputId": "3b264607-09f7-4dbf-a234-027750cb9584"
      },
      "execution_count": 77,
      "outputs": [
        {
          "output_type": "execute_result",
          "data": {
            "text/plain": [
              "<surprise.prediction_algorithms.matrix_factorization.SVD at 0x7f29ce45f2b0>"
            ]
          },
          "metadata": {},
          "execution_count": 77
        }
      ]
    },
    {
      "cell_type": "markdown",
      "source": [
        "특정 사용자는 9번 사용자로 지정. 간단하게 예제를 수행하기 위해 9번 사용자가 아직 평점을 매기지 않은 영화를 movieId 42로 선정한 뒤 예측 평점 계산해보자."
      ],
      "metadata": {
        "id": "DAEvoqMMZVPx"
      }
    },
    {
      "cell_type": "code",
      "source": [
        "#영화에 대한 상세 속성 정보 df 로딩\n",
        "movies=pd.read_csv('movies.csv')\n",
        "\n",
        "#userId=9의 movieId 데이터를 추출해 movieId=42 데이터가 있는지 확인\n",
        "movieIds=ratings[ratings['userId']==9]['movieId']\n",
        "\n",
        "if movieIds[movieIds==42].count()==0:\n",
        "  print('사용자 아이디 9는 영화 아이디 42의 평점 없음')\n",
        "\n",
        "print(movies[movies['movieId']==42])"
      ],
      "metadata": {
        "colab": {
          "base_uri": "https://localhost:8080/"
        },
        "id": "hf3yHyx8Zu8L",
        "outputId": "157084de-6e52-4383-bd02-436a07d2fac0"
      },
      "execution_count": 78,
      "outputs": [
        {
          "output_type": "stream",
          "name": "stdout",
          "text": [
            "사용자 아이디 9는 영화 아이디 42의 평점 없음\n",
            "    movieId                   title              genres\n",
            "38       42  Dead Presidents (1995)  Action|Crime|Drama\n"
          ]
        }
      ]
    },
    {
      "cell_type": "code",
      "source": [
        "#predict() 이용하면 되겠지\n",
        "uid=str(9)\n",
        "iid=str(42)\n",
        "\n",
        "pred=algo.predict(uid, iid, verbose=True)"
      ],
      "metadata": {
        "colab": {
          "base_uri": "https://localhost:8080/"
        },
        "id": "VVmN2-dWaMkM",
        "outputId": "fc892550-024e-4117-e2d4-46b86a7bba64"
      },
      "execution_count": 79,
      "outputs": [
        {
          "output_type": "stream",
          "name": "stdout",
          "text": [
            "user: 9          item: 42         r_ui = None   est = 3.13   {'was_impossible': False}\n"
          ]
        }
      ]
    },
    {
      "cell_type": "markdown",
      "source": [
        "이제 사용자가 평점을 매기지 않은 전체 영화를 추출한 뒤에 예측 평점 순으로 영화를 추천해보자.\n",
        "\n",
        "먼저 대상이 되는 영화 추출."
      ],
      "metadata": {
        "id": "fpuNsOjRaVQp"
      }
    },
    {
      "cell_type": "code",
      "source": [
        "def get_unseen_surprise(ratings, movies, userId):\n",
        "  #입력값으로 들어온 userId에 해당하는 사용자가 평점을 매긴 모든 영화를 리스트로 생성\n",
        "  seen_movies=ratings[ratings['userId']==userId]['movieId'].tolist()\n",
        "\n",
        "  #모든 영화의 movieId를 리스트로 생성\n",
        "  total_movies=movies['movieId'].tolist()\n",
        "\n",
        "  #모든 영화의 movieId 중 이미 평점을 매긴 영화의 movieId를 제외한 후 리스트로 생성\n",
        "  unseen_movies=[movie for movie in total_movies if movie not in seen_movies]\n",
        "  print('평점 매긴 영화 수:', len(seen_movies), '추천 대상 영화 수:', len(unseen_movies), '전체 영화 수:', len(total_movies))\n",
        "\n",
        "  return unseen_movies\n",
        "\n",
        "unseen_movies=get_unseen_surprise(ratings, movies, 9)"
      ],
      "metadata": {
        "colab": {
          "base_uri": "https://localhost:8080/"
        },
        "id": "sg-6sOWiae3H",
        "outputId": "5657a11f-06de-4ee6-b45c-9a1c41276d4a"
      },
      "execution_count": 81,
      "outputs": [
        {
          "output_type": "stream",
          "name": "stdout",
          "text": [
            "평점 매긴 영화 수: 46 추천 대상 영화 수: 9696 전체 영화 수: 9742\n"
          ]
        }
      ]
    },
    {
      "cell_type": "markdown",
      "source": [
        "앞에서 학습된 추천 알고리즘 클래스인 SVD를 이용해 높은 예측 평점을 가진 순으로 영화를 추천해보자."
      ],
      "metadata": {
        "id": "6C_b1aCNbSaw"
      }
    },
    {
      "cell_type": "code",
      "source": [
        "def recomm_movie_by_surprise(algo, userId, unseen_movies, top_n=10):\n",
        "  #알고리즘 객체의 predict() 메서드를 평점이 없는 영화에 반복 수행한 후 결과를 list로 저장\n",
        "  predictions=[algo.predict(str(userId), str(movieId)) for movieId in unseen_movies]\n",
        "\n",
        "  #predictions list 객체는 surprise의 predictions 객체를 원소로 갖고 있다.\n",
        "  # [Prediction(uid='9', iid='1', est=3.69), Predictions(uid='9', iid='2', est=2.98),,,]\n",
        "\n",
        "  #이를 est 값으로 정렬하기 위해 아리애 sortkey_est 함수 정의\n",
        "  #sortdey_est 함수는 list 객체의 sort() 함수의 키 값으로 사용되어 정렬 수행\n",
        "  def sortkey_est(pred):\n",
        "    return pred.est\n",
        "\n",
        "  #sortkey_est() 반환값의 내림차순으로 정렬 수행하고 top_n개의 최상위 값 추출\n",
        "  predictions.sort(key=sortkey_est, reverse=True)\n",
        "  top_predictions=predictions[:top_n]\n",
        "\n",
        "  #top_n 으로 추출된 영화의 정보 추출. 영화 아이디, 추천 예상 평점, 제목 추출\n",
        "  top_movie_ids=[int(pred.iid) for pred in top_predictions]\n",
        "  top_movie_rating=[pred.est for pred in top_predictions]\n",
        "  top_movie_titles=movies[movies.movieId.isin(top_movie_ids)]['title']\n",
        "  top_movie_preds=[ (id, title, rating) for id, title, rating in zip(top_movie_ids, top_movie_titles, top_movie_rating)]\n",
        "\n",
        "  return top_movie_preds\n",
        "\n",
        "unseen_movies=get_unseen_surprise(ratings, movies, 9)\n",
        "top_movie_preds=recomm_movie_by_surprise(algo, 9, unseen_movies, top_n=10)\n",
        "\n",
        "print('### top-10 추천 영화 리스트 ###')\n",
        "for top_movie in top_movie_preds:\n",
        "  print(top_movie[1], ':', top_movie[2])"
      ],
      "metadata": {
        "colab": {
          "base_uri": "https://localhost:8080/"
        },
        "id": "ZrABq-8-bZEc",
        "outputId": "573e83cb-e035-4433-e8cf-e94ed52571d6"
      },
      "execution_count": 82,
      "outputs": [
        {
          "output_type": "stream",
          "name": "stdout",
          "text": [
            "평점 매긴 영화 수: 46 추천 대상 영화 수: 9696 전체 영화 수: 9742\n",
            "### top-10 추천 영화 리스트 ###\n",
            "Usual Suspects, The (1995) : 4.306302135700814\n",
            "Star Wars: Episode IV - A New Hope (1977) : 4.281663842987387\n",
            "Pulp Fiction (1994) : 4.278152632122759\n",
            "Silence of the Lambs, The (1991) : 4.226073566460876\n",
            "Godfather, The (1972) : 4.1918097904381995\n",
            "Streetcar Named Desire, A (1951) : 4.154746591122657\n",
            "Star Wars: Episode V - The Empire Strikes Back (1980) : 4.122016128534504\n",
            "Star Wars: Episode VI - Return of the Jedi (1983) : 4.108009609093436\n",
            "Goodfellas (1990) : 4.083464936588478\n",
            "Glory (1989) : 4.07887165526957\n"
          ]
        }
      ]
    },
    {
      "cell_type": "markdown",
      "source": [
        "surprise 사용 시 복잡한 알고리즘을 구현할 필요 없이 쉽고 간결하게 추천 시스템을 구현할 수 있다. "
      ],
      "metadata": {
        "id": "gEVwlT_Md9jM"
      }
    }
  ]
}
