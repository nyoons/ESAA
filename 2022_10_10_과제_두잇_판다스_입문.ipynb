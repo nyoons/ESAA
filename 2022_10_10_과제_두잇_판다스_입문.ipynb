{
  "nbformat": 4,
  "nbformat_minor": 0,
  "metadata": {
    "colab": {
      "provenance": [],
      "authorship_tag": "ABX9TyNintcVn01X5/uGAfNldoKT",
      "include_colab_link": true
    },
    "kernelspec": {
      "name": "python3",
      "display_name": "Python 3"
    },
    "language_info": {
      "name": "python"
    }
  },
  "cells": [
    {
      "cell_type": "markdown",
      "metadata": {
        "id": "view-in-github",
        "colab_type": "text"
      },
      "source": [
        "<a href=\"https://colab.research.google.com/github/nyoons/ESAA/blob/main/2022_10_10_%EA%B3%BC%EC%A0%9C_%EB%91%90%EC%9E%87_%ED%8C%90%EB%8B%A4%EC%8A%A4_%EC%9E%85%EB%AC%B8.ipynb\" target=\"_parent\"><img src=\"https://colab.research.google.com/assets/colab-badge.svg\" alt=\"Open In Colab\"/></a>"
      ]
    },
    {
      "cell_type": "markdown",
      "source": [
        "두잇 판다스 입문\n",
        "\n",
        "#12. 시계열 데이터\n",
        "\n",
        "##12-1. datetime 오브젝트\n",
        "datetime 라이브러리는 날짜와 시간을 처리하는 등 다양한 기능을 제공."
      ],
      "metadata": {
        "id": "_YudTsJHOTGN"
      }
    },
    {
      "cell_type": "markdown",
      "source": [
        ">datetime 오브젝트 사용하기"
      ],
      "metadata": {
        "id": "zdtX3YLsQcuV"
      }
    },
    {
      "cell_type": "code",
      "execution_count": 1,
      "metadata": {
        "colab": {
          "base_uri": "https://localhost:8080/"
        },
        "id": "DTmd8Z2fNKa9",
        "outputId": "a8fcaad0-0ee7-42de-c97f-0b6a90649a65"
      },
      "outputs": [
        {
          "output_type": "stream",
          "name": "stdout",
          "text": [
            "2022-10-09 14:53:28.553785\n",
            "2022-10-09 14:53:28.557645\n"
          ]
        }
      ],
      "source": [
        "#01. datetime 오브젝트를 사용하기 위해 datetime 라이브러리를 불러온다.\n",
        "from datetime import datetime\n",
        "\n",
        "#02. now, today 메서드를 사용하면 현재 시간을 출력.\n",
        "now1=datetime.now()\n",
        "print(now1)\n",
        "\n",
        "now2=datetime.today()\n",
        "print(now2)"
      ]
    },
    {
      "cell_type": "code",
      "source": [
        "#03. datetime 오브젝트를 생성할 때 시간을 직접 입력하여 인자로 전달한 것. 각 변수를 출력하여 확인하면 입력한 시간을 바탕으로 datetime 오브젝트가 생성된 것을 알 수 있다.\n",
        "t1=datetime.now()\n",
        "t2=datetime(1970, 1,1)\n",
        "t3=datetime(1970, 12, 12, 13, 24, 34)\n",
        "\n",
        "print(t1)\n",
        "print(t2)\n",
        "print(t3)"
      ],
      "metadata": {
        "colab": {
          "base_uri": "https://localhost:8080/"
        },
        "id": "G8J4_qoBPIJU",
        "outputId": "8d4d371c-b2d1-4de7-9719-360287077e4e"
      },
      "execution_count": 2,
      "outputs": [
        {
          "output_type": "stream",
          "name": "stdout",
          "text": [
            "2022-10-09 14:55:26.061451\n",
            "1970-01-01 00:00:00\n",
            "1970-12-12 13:24:34\n"
          ]
        }
      ]
    },
    {
      "cell_type": "code",
      "source": [
        "#04. datetime 오브젝트를 사용하는 이유 중 하나는 시간 계산을 할 수 있다는 것.\n",
        "diff1=t1-t2\n",
        "print(diff1)\n",
        "print(type(diff1))\n",
        "\n",
        "diff2=t2-t1\n",
        "print(diff2)\n",
        "print(type(diff2))"
      ],
      "metadata": {
        "colab": {
          "base_uri": "https://localhost:8080/"
        },
        "id": "G3j3DAyHPJAW",
        "outputId": "10af3f77-9dbc-4170-a147-ec9c287466c2"
      },
      "execution_count": 4,
      "outputs": [
        {
          "output_type": "stream",
          "name": "stdout",
          "text": [
            "19274 days, 14:55:26.061451\n",
            "<class 'datetime.timedelta'>\n",
            "-19275 days, 9:04:33.938549\n",
            "<class 'datetime.timedelta'>\n"
          ]
        }
      ]
    },
    {
      "cell_type": "markdown",
      "source": [
        ">테슬라 주식 데이터로 시간 계산하기\n",
        "<br/>pandas-datareader 라이브러리를 이용해 주식 데이터를 불러오자."
      ],
      "metadata": {
        "id": "eXmVBbZIQVMz"
      }
    },
    {
      "cell_type": "code",
      "source": [
        "pip install pandas-datareader"
      ],
      "metadata": {
        "colab": {
          "base_uri": "https://localhost:8080/"
        },
        "id": "4_vUgAqFPJRj",
        "outputId": "ae3c44f9-236a-4fa0-bf4b-1a43e4eebdb2"
      },
      "execution_count": 5,
      "outputs": [
        {
          "output_type": "stream",
          "name": "stdout",
          "text": [
            "Looking in indexes: https://pypi.org/simple, https://us-python.pkg.dev/colab-wheels/public/simple/\n",
            "Requirement already satisfied: pandas-datareader in /usr/local/lib/python3.7/dist-packages (0.9.0)\n",
            "Requirement already satisfied: requests>=2.19.0 in /usr/local/lib/python3.7/dist-packages (from pandas-datareader) (2.23.0)\n",
            "Requirement already satisfied: pandas>=0.23 in /usr/local/lib/python3.7/dist-packages (from pandas-datareader) (1.3.5)\n",
            "Requirement already satisfied: lxml in /usr/local/lib/python3.7/dist-packages (from pandas-datareader) (4.9.1)\n",
            "Requirement already satisfied: numpy>=1.17.3 in /usr/local/lib/python3.7/dist-packages (from pandas>=0.23->pandas-datareader) (1.21.6)\n",
            "Requirement already satisfied: python-dateutil>=2.7.3 in /usr/local/lib/python3.7/dist-packages (from pandas>=0.23->pandas-datareader) (2.8.2)\n",
            "Requirement already satisfied: pytz>=2017.3 in /usr/local/lib/python3.7/dist-packages (from pandas>=0.23->pandas-datareader) (2022.4)\n",
            "Requirement already satisfied: six>=1.5 in /usr/local/lib/python3.7/dist-packages (from python-dateutil>=2.7.3->pandas>=0.23->pandas-datareader) (1.15.0)\n",
            "Requirement already satisfied: certifi>=2017.4.17 in /usr/local/lib/python3.7/dist-packages (from requests>=2.19.0->pandas-datareader) (2022.9.24)\n",
            "Requirement already satisfied: idna<3,>=2.5 in /usr/local/lib/python3.7/dist-packages (from requests>=2.19.0->pandas-datareader) (2.10)\n",
            "Requirement already satisfied: chardet<4,>=3.0.2 in /usr/local/lib/python3.7/dist-packages (from requests>=2.19.0->pandas-datareader) (3.0.4)\n",
            "Requirement already satisfied: urllib3!=1.25.0,!=1.25.1,<1.26,>=1.21.1 in /usr/local/lib/python3.7/dist-packages (from requests>=2.19.0->pandas-datareader) (1.24.3)\n"
          ]
        }
      ]
    },
    {
      "cell_type": "code",
      "source": [
        "import pandas as pd"
      ],
      "metadata": {
        "id": "r5Vf740nRGWd"
      },
      "execution_count": 6,
      "outputs": []
    },
    {
      "cell_type": "code",
      "source": [
        "#01. get_data_quanal 메서드에 TSLA 문자열을 전달해 테슬라의 주식 데이터를 내려받고 to_csv 메서드로 data 폴더 안에 'tesla_stock_quandl.csv'라는이름으로 저장하자.\n",
        "pd.core.common.is_list=like=pd.api.types.is_list_like\n",
        "import pandas_datareader as pdr\n",
        "\n",
        "#tesla에는 데이터 프레임이 저장된다.\n",
        "tesla=pdr.get_data_quandl('TSLA', api_key='o6f5tg6um2fUbqvK4ANu')\n",
        "\n",
        "#tesla에 저장된 데이터 프레임을 파일로 저장합니다.\n",
        "tesla.to_csv('C:\\temp\\tesla_stock_quandl.csv')"
      ],
      "metadata": {
        "id": "46n8Iu7yPJsA"
      },
      "execution_count": 16,
      "outputs": []
    },
    {
      "cell_type": "code",
      "source": [
        "#02. tesla 데이터 프레임의 Date 열은 문자열. datetime 오브젝트로 자료형을 변환해야 시간 계산이 가능하다.\n",
        "print(tesla.head())"
      ],
      "metadata": {
        "colab": {
          "base_uri": "https://localhost:8080/"
        },
        "id": "ECQY8bf9THr8",
        "outputId": "e4cee3e3-dbca-42ff-f430-9db17b6b991c"
      },
      "execution_count": 19,
      "outputs": [
        {
          "output_type": "stream",
          "name": "stdout",
          "text": [
            "              Open    High     Low   Close      Volume  ExDividend  \\\n",
            "Date                                                                 \n",
            "2018-03-27  304.00  304.27  277.18  279.18  13696168.0         0.0   \n",
            "2018-03-26  307.34  307.59  291.36  304.18   8324639.0         0.0   \n",
            "2018-03-23  311.25  311.61  300.45  301.54   6600538.0         0.0   \n",
            "2018-03-22  313.89  318.82  308.18  309.10   4914307.0         0.0   \n",
            "2018-03-21  310.25  322.44  310.19  316.53   5927881.0         0.0   \n",
            "\n",
            "            SplitRatio  AdjOpen  AdjHigh  AdjLow  AdjClose   AdjVolume  \n",
            "Date                                                                    \n",
            "2018-03-27         1.0   304.00   304.27  277.18    279.18  13696168.0  \n",
            "2018-03-26         1.0   307.34   307.59  291.36    304.18   8324639.0  \n",
            "2018-03-23         1.0   311.25   311.61  300.45    301.54   6600538.0  \n",
            "2018-03-22         1.0   313.89   318.82  308.18    309.10   4914307.0  \n",
            "2018-03-21         1.0   310.25   322.44  310.19    316.53   5927881.0  \n"
          ]
        }
      ]
    },
    {
      "cell_type": "code",
      "source": [
        "#03. Date 열을 Datetime 형으로 변환하려면 read_csv 메서드로 데이터 집합을 불러올 때 parse_dates 인자에 Date 열을 전달한다.\n",
        "tesla=pd.read_csv('C:\\temp\\tesla_stock_quandl.csv', parse_dates=[0])\n",
        "print(tesla.info())"
      ],
      "metadata": {
        "colab": {
          "base_uri": "https://localhost:8080/"
        },
        "id": "qjhAMlLHTUKc",
        "outputId": "f2cba401-3274-4459-e52e-9018ff2f68c5"
      },
      "execution_count": 21,
      "outputs": [
        {
          "output_type": "stream",
          "name": "stdout",
          "text": [
            "<class 'pandas.core.frame.DataFrame'>\n",
            "RangeIndex: 115 entries, 0 to 114\n",
            "Data columns (total 13 columns):\n",
            " #   Column      Non-Null Count  Dtype         \n",
            "---  ------      --------------  -----         \n",
            " 0   Date        115 non-null    datetime64[ns]\n",
            " 1   Open        115 non-null    float64       \n",
            " 2   High        115 non-null    float64       \n",
            " 3   Low         115 non-null    float64       \n",
            " 4   Close       115 non-null    float64       \n",
            " 5   Volume      115 non-null    float64       \n",
            " 6   ExDividend  115 non-null    float64       \n",
            " 7   SplitRatio  115 non-null    float64       \n",
            " 8   AdjOpen     115 non-null    float64       \n",
            " 9   AdjHigh     115 non-null    float64       \n",
            " 10  AdjLow      115 non-null    float64       \n",
            " 11  AdjClose    115 non-null    float64       \n",
            " 12  AdjVolume   115 non-null    float64       \n",
            "dtypes: datetime64[ns](1), float64(12)\n",
            "memory usage: 11.8 KB\n",
            "None\n"
          ]
        }
      ]
    },
    {
      "cell_type": "code",
      "source": [
        "#04. Date 열의 자료형이 datetime 오브젝트로 변환되엇다. 이제 dt접근자를 사용할 수 있다. 불린 추출로 2010년 6월의 데이터만 추출하자.\n",
        "print(tesla.loc[(tesla.Date.dt.year==2010)&(tesla.Date.dt.month==6)])"
      ],
      "metadata": {
        "colab": {
          "base_uri": "https://localhost:8080/"
        },
        "id": "Tr25NHr-Txan",
        "outputId": "907ad1f2-70e1-4463-b116-b10e0aa954bc"
      },
      "execution_count": 22,
      "outputs": [
        {
          "output_type": "stream",
          "name": "stdout",
          "text": [
            "Empty DataFrame\n",
            "Columns: [Date, Open, High, Low, Close, Volume, ExDividend, SplitRatio, AdjOpen, AdjHigh, AdjLow, AdjClose, AdjVolume]\n",
            "Index: []\n"
          ]
        }
      ]
    },
    {
      "cell_type": "markdown",
      "source": [
        ">datetime 오브젝트와 인덱스 - DatetimeIndex\n",
        "\n",
        "지금까지는 행 번호를 인덱스로 사용했지만 datetime 오브젝트를 데이터 프레임의 인덱스로 설정하면 원하는 시간의 데이터를바로 추출할 수 있다."
      ],
      "metadata": {
        "id": "eaYd2OchUaY8"
      }
    },
    {
      "cell_type": "code",
      "source": [
        "#datetime 오브젝트를 인덱스로 설정해 데이터 추출하기\n",
        "\n",
        "#01. Date 열을 tesla 데이터 프레임의 인덱스로 지정하자.\n",
        "tesla.index=tesla['Date']\n",
        "print(tesla.index)"
      ],
      "metadata": {
        "colab": {
          "base_uri": "https://localhost:8080/"
        },
        "id": "t5h8E7yxUqVH",
        "outputId": "19f4e1ed-bf47-45a9-f4d5-6d4a5d96713d"
      },
      "execution_count": 23,
      "outputs": [
        {
          "output_type": "stream",
          "name": "stdout",
          "text": [
            "DatetimeIndex(['2018-03-27', '2018-03-26', '2018-03-23', '2018-03-22',\n",
            "               '2018-03-21', '2018-03-20', '2018-03-19', '2018-03-16',\n",
            "               '2018-03-15', '2018-03-14',\n",
            "               ...\n",
            "               '2017-10-23', '2017-10-20', '2017-10-19', '2017-10-18',\n",
            "               '2017-10-17', '2017-10-16', '2017-10-13', '2017-10-12',\n",
            "               '2017-10-11', '2017-10-10'],\n",
            "              dtype='datetime64[ns]', name='Date', length=115, freq=None)\n"
          ]
        }
      ]
    },
    {
      "cell_type": "code",
      "source": [
        "#02. datetime 오브젝트를 인덱스로 지정하면 다음과 같은 방법으로 원하는 시간의 데이터를 바로 추출 가능. 2017년의 데이터를 추출하자.\n",
        "print(tesla['2017'].iloc[:5, :5])"
      ],
      "metadata": {
        "colab": {
          "base_uri": "https://localhost:8080/"
        },
        "id": "K7Ouv6qYVFVT",
        "outputId": "fcfab85a-2801-4451-d9b0-38dce4f6f313"
      },
      "execution_count": 24,
      "outputs": [
        {
          "output_type": "stream",
          "name": "stdout",
          "text": [
            "                 Date    Open      High     Low   Close\n",
            "Date                                                   \n",
            "2017-12-29 2017-12-29  316.18  316.4100  310.00  311.35\n",
            "2017-12-28 2017-12-28  311.75  315.8200  309.54  315.36\n",
            "2017-12-27 2017-12-27  316.00  317.6800  310.75  311.64\n",
            "2017-12-26 2017-12-26  323.83  323.9400  316.58  317.29\n",
            "2017-12-22 2017-12-22  329.51  330.9214  324.82  325.20\n"
          ]
        },
        {
          "output_type": "stream",
          "name": "stderr",
          "text": [
            "/usr/local/lib/python3.7/dist-packages/ipykernel_launcher.py:2: FutureWarning: Indexing a DataFrame with a datetimelike index using a single string to slice the rows, like `frame[string]`, is deprecated and will be removed in a future version. Use `frame.loc[string]` instead.\n",
            "  \n"
          ]
        }
      ]
    },
    {
      "cell_type": "code",
      "source": [
        "#03. 2017년 11월의 데이터를 추출하자\n",
        "print(tesla['2017-11'].iloc[:, :5])"
      ],
      "metadata": {
        "colab": {
          "base_uri": "https://localhost:8080/"
        },
        "id": "qvySJKVkVVOG",
        "outputId": "cecce080-d443-4bc5-ae4b-432338430ed6"
      },
      "execution_count": 25,
      "outputs": [
        {
          "output_type": "stream",
          "name": "stdout",
          "text": [
            "                 Date    Open      High     Low   Close\n",
            "Date                                                   \n",
            "2017-11-30 2017-11-30  308.56  310.7000  304.54  308.85\n",
            "2017-11-29 2017-11-29  317.30  318.0000  301.23  307.54\n",
            "2017-11-28 2017-11-28  316.36  320.0000  313.92  317.55\n",
            "2017-11-27 2017-11-27  313.25  317.3400  309.51  316.81\n",
            "2017-11-24 2017-11-24  313.79  316.4100  311.00  315.55\n",
            "2017-11-22 2017-11-22  316.77  317.4200  311.84  312.60\n",
            "2017-11-21 2017-11-21  310.86  318.2300  308.71  317.81\n",
            "2017-11-20 2017-11-20  313.79  315.5000  304.75  308.74\n",
            "2017-11-17 2017-11-17  325.67  326.6700  313.15  315.05\n",
            "2017-11-16 2017-11-16  313.99  318.1400  311.30  312.50\n",
            "2017-11-15 2017-11-15  306.01  312.4900  301.50  311.30\n",
            "2017-11-14 2017-11-14  315.00  316.3500  306.90  308.70\n",
            "2017-11-13 2017-11-13  300.13  316.8000  299.11  315.40\n",
            "2017-11-10 2017-11-10  302.50  308.3600  301.85  302.99\n",
            "2017-11-09 2017-11-09  302.50  304.4600  296.30  302.99\n",
            "2017-11-07 2017-11-07  301.02  306.5000  300.03  306.05\n",
            "2017-11-06 2017-11-06  307.00  307.5000  299.01  302.78\n",
            "2017-11-03 2017-11-03  299.50  306.2500  295.13  306.09\n",
            "2017-11-02 2017-11-02  300.13  308.6900  292.63  299.26\n",
            "2017-11-01 2017-11-01  332.25  332.6089  320.26  321.08\n"
          ]
        },
        {
          "output_type": "stream",
          "name": "stderr",
          "text": [
            "/usr/local/lib/python3.7/dist-packages/ipykernel_launcher.py:2: FutureWarning: Indexing a DataFrame with a datetimelike index using a single string to slice the rows, like `frame[string]`, is deprecated and will be removed in a future version. Use `frame.loc[string]` instead.\n",
            "  \n"
          ]
        }
      ]
    },
    {
      "cell_type": "markdown",
      "source": [
        ">시간 간격과 인덱스 - TimedeltaIndex\n",
        "\n",
        "주식 데이터에서 최초 5일간 수집된 데이터만 살펴보고 싶다면? 시간 간격을 인덱스로 지정하여 추출. datetime 오브젝트가 아닌 시간 간격을 인덱스로 지정하여 진행하자."
      ],
      "metadata": {
        "id": "3SwBqS5FVicR"
      }
    },
    {
      "cell_type": "code",
      "source": [
        "#시간 간격을 인덱스로 지정해 데이터 추출하기\n",
        "\n",
        "#01. Date 열에서 Date 열의 최솟값을 빼면 데이터를 수집한 이후에 시간이 얼마나 지났는지 알 수 있다. Date 열에서 Date 열의 최솟값을 뺀 다음 ref_date 열로 추가.\n",
        "tesla['ref_date']=tesla['Date']-tesla['Date'].min()\n",
        "print(tesla.head())"
      ],
      "metadata": {
        "colab": {
          "base_uri": "https://localhost:8080/"
        },
        "id": "9EyyQlNvV09q",
        "outputId": "ec2c5c3e-4d1f-4b56-b0b8-775621c36c50"
      },
      "execution_count": 26,
      "outputs": [
        {
          "output_type": "stream",
          "name": "stdout",
          "text": [
            "                 Date    Open    High     Low   Close      Volume  ExDividend  \\\n",
            "Date                                                                            \n",
            "2018-03-27 2018-03-27  304.00  304.27  277.18  279.18  13696168.0         0.0   \n",
            "2018-03-26 2018-03-26  307.34  307.59  291.36  304.18   8324639.0         0.0   \n",
            "2018-03-23 2018-03-23  311.25  311.61  300.45  301.54   6600538.0         0.0   \n",
            "2018-03-22 2018-03-22  313.89  318.82  308.18  309.10   4914307.0         0.0   \n",
            "2018-03-21 2018-03-21  310.25  322.44  310.19  316.53   5927881.0         0.0   \n",
            "\n",
            "            SplitRatio  AdjOpen  AdjHigh  AdjLow  AdjClose   AdjVolume  \\\n",
            "Date                                                                     \n",
            "2018-03-27         1.0   304.00   304.27  277.18    279.18  13696168.0   \n",
            "2018-03-26         1.0   307.34   307.59  291.36    304.18   8324639.0   \n",
            "2018-03-23         1.0   311.25   311.61  300.45    301.54   6600538.0   \n",
            "2018-03-22         1.0   313.89   318.82  308.18    309.10   4914307.0   \n",
            "2018-03-21         1.0   310.25   322.44  310.19    316.53   5927881.0   \n",
            "\n",
            "           ref_date  \n",
            "Date                 \n",
            "2018-03-27 168 days  \n",
            "2018-03-26 167 days  \n",
            "2018-03-23 164 days  \n",
            "2018-03-22 163 days  \n",
            "2018-03-21 162 days  \n"
          ]
        }
      ]
    },
    {
      "cell_type": "code",
      "source": [
        "#02. ref_date 열을 인덱스로 지정. 이제 시간 간격을 이용해 데이터 추출 가능.\n",
        "tesla.index=tesla['ref_date']\n",
        "print(tesla.iloc[:5, :5])"
      ],
      "metadata": {
        "colab": {
          "base_uri": "https://localhost:8080/"
        },
        "id": "sDEZol9GWNpF",
        "outputId": "4dc4fb16-4aa4-4ee1-b090-a9182ee06167"
      },
      "execution_count": 27,
      "outputs": [
        {
          "output_type": "stream",
          "name": "stdout",
          "text": [
            "               Date    Open    High     Low   Close\n",
            "ref_date                                           \n",
            "168 days 2018-03-27  304.00  304.27  277.18  279.18\n",
            "167 days 2018-03-26  307.34  307.59  291.36  304.18\n",
            "164 days 2018-03-23  311.25  311.61  300.45  301.54\n",
            "163 days 2018-03-22  313.89  318.82  308.18  309.10\n",
            "162 days 2018-03-21  310.25  322.44  310.19  316.53\n"
          ]
        }
      ]
    },
    {
      "cell_type": "code",
      "source": [
        "#03. 데이터 수집한 이후 최초 5일의 데이터를 추출하자.\n",
        "print(tesla['5 days':].iloc[:5, :5])"
      ],
      "metadata": {
        "colab": {
          "base_uri": "https://localhost:8080/"
        },
        "id": "kcLMop1xWakf",
        "outputId": "76e0074e-7c15-4104-e35d-5d736f200dcf"
      },
      "execution_count": 28,
      "outputs": [
        {
          "output_type": "stream",
          "name": "stdout",
          "text": [
            "               Date    Open    High       Low   Close\n",
            "ref_date                                             \n",
            "3 days   2017-10-13  356.98  358.49  353.6800  355.57\n",
            "2 days   2017-10-12  352.95  359.78  352.6400  355.68\n",
            "1 days   2017-10-11  353.89  357.60  351.1500  354.60\n",
            "0 days   2017-10-10  346.80  355.63  345.5305  355.59\n"
          ]
        }
      ]
    },
    {
      "cell_type": "markdown",
      "source": [
        ">시간 범위와 인덱스\n",
        "\n",
        "앞에서 사용한 데이터는 특정 일에 누락된 데이터가 없었다. 하지만 누락된 데이터가 있어서 특정 일에 누락된 데이터도 포함시켜 살펴보려면? 임의로 시간 범위를 생성해 인덱스로 지정해야한다."
      ],
      "metadata": {
        "id": "BTJKzahTWmWW"
      }
    },
    {
      "cell_type": "code",
      "source": [
        "#시간 범위 생성해 인덱스로 지정하기\n",
        "\n",
        "#01. 에볼라 데이터 집합을 사용. 가장 앞쪽의 데이터를 살펴보면 2015년 01월 01일의 데이터가 누락됨. -> 일부 셀이 NaN으로 기록되어 있음\n",
        "#에볼라 데이터 없으므로 일단 공부하며 코드만 기록\n",
        "ebola=pd.read_csv('../data/country_timeseries.csv', parse_dates=[0])\n",
        "print(ebola.iloc[:5, :5])"
      ],
      "metadata": {
        "id": "2HCgcxiXWzuB"
      },
      "execution_count": null,
      "outputs": []
    },
    {
      "cell_type": "code",
      "source": [
        "#02. 뒤쪽의 데이터도 마찬가지로 2014년 03월 23일의 데이터가 누락됨.\n",
        "print(ebola.iloc[-5:, :5])"
      ],
      "metadata": {
        "id": "YX6rVHr9XZJt"
      },
      "execution_count": null,
      "outputs": []
    },
    {
      "cell_type": "code",
      "source": [
        "#03. date_range 메서드를 사용하여 2014년 12월 31일부터 2015년 01월 05일 사이의 시간 인덱스를 생성.\n",
        "head_range=pd.date_range(start='2014-12-31', end='2015-01-05')\n",
        "print(head_range)"
      ],
      "metadata": {
        "id": "YsdleNNiXmjI"
      },
      "execution_count": null,
      "outputs": []
    },
    {
      "cell_type": "code",
      "source": [
        "#04. 원본 데이터를 손상하지 않기 위해 ebola 데이터 프레임의 앞 5개 데이터를 추출해 새로 데이터프레임을 만들자.\n",
        "#Date 열을 인덱스로 먼저 지정하지 않으면 오류 발생하므로 반드시 Date 열을 인덱스로 지정한 다음 #03. 에서 생성한 시간 범위를 인덱스로 지정.\n",
        "ebola_5=ebola.head()\n",
        "ebola_5.index=ebola_5['Date']\n",
        "ebola_5.reindex(head_range)\n",
        "print(ebola_5.iloc[:5, :5])"
      ],
      "metadata": {
        "id": "n8PDFQe9X5nn"
      },
      "execution_count": null,
      "outputs": []
    },
    {
      "cell_type": "markdown",
      "source": [
        "* 참고\n",
        "시간 범위를 인덱스로 지정하면 DatetimeIndex 자료형이 만들어진다. 여기엔 freq 속성이 포함. freq 속성값을 지정하면 시간 간격을 조절하여 DatetimeIndex를 만들수 있다. freq 속성값으로 사용할 수 있는 시간 주기는 다음과 같다.\n",
        "<br/>**B** 평일만 / **C** 사용자가 정의한 평일만\n",
        "<br/>**D** 달력 일자 단위\n",
        "<br/>**W** 주간 단위\n",
        "<br/>**M** 월 마지막 날만 포함\n",
        "<br/>**SM** 15일과 월 마지막 날만 포함\n",
        "<br/>**BM** M 주기의 값이 휴일이면 제외하고 평일만 포함 / **CBM** BM에 사용자 정의 평일을 적용\n",
        "<br/>MS 월 시작일만 포함\n",
        "<br/>SMS 월 시작일과 15일만 포함\n",
        "<br/>BMS MS 주기의 값이 휴일이면 제외하고 평일만 포함 / CBMS BMS에 사용자 정의 평일 적용\n",
        "<br/>Q 3,6,9,12월 분기 마지막 말만 포함\n",
        "<br/>BQ 분기 마지막 날이 휴일이면 제외하고 평일만 포함\n",
        "<br/>QS 분기 시자일만 포함\n",
        "<br/>BQS 분기 시작일이 휴일이면 제외하고 평일만 포함\n",
        "<br/>A 년의 마지막 날만 포함\n",
        "<br/>BA 년의 마지막 날이 휴일이면 제외하고 평일만 포함\n",
        "<br/>AS 년의 시작일만포함\n",
        "<br/>BAS 년의 시작일이 휴일이면 제외하고 평일만 포함\n",
        "<br/>BH 평일을 시간 단위로 포함(9시부터 16시까지)\n",
        "<br/>H 시간 단위로 포함\n",
        "<br/>T 분 단위 포함\n",
        "<br/>S 초 단위 포함\n",
        "<br/>L 밀리초 단위 포함\n"
      ],
      "metadata": {
        "id": "Z3rgpUoUYbIx"
      }
    },
    {
      "cell_type": "code",
      "source": [
        "#예를 들어 B를 설정하려면 이렇게 함\n",
        "print(pd.date_Range('2017-01-01', '2017-01-07', freq='B'))"
      ],
      "metadata": {
        "id": "uxNXRefHaN9o"
      },
      "execution_count": null,
      "outputs": []
    }
  ]
}