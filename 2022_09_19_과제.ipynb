{
  "nbformat": 4,
  "nbformat_minor": 0,
  "metadata": {
    "colab": {
      "provenance": [],
      "authorship_tag": "ABX9TyProQR6js+jAd5aVgXDvb9W",
      "include_colab_link": true
    },
    "kernelspec": {
      "name": "python3",
      "display_name": "Python 3"
    },
    "language_info": {
      "name": "python"
    }
  },
  "cells": [
    {
      "cell_type": "markdown",
      "metadata": {
        "id": "view-in-github",
        "colab_type": "text"
      },
      "source": [
        "<a href=\"https://colab.research.google.com/github/nyoons/ESAA/blob/main/2022_09_19_%EA%B3%BC%EC%A0%9C.ipynb\" target=\"_parent\"><img src=\"https://colab.research.google.com/assets/colab-badge.svg\" alt=\"Open In Colab\"/></a>"
      ]
    },
    {
      "cell_type": "markdown",
      "source": [
        "04. 데이터 핸들링 - 판다스\n"
      ],
      "metadata": {
        "id": "arUXu4D98Q3s"
      }
    },
    {
      "cell_type": "code",
      "source": [],
      "metadata": {
        "id": "LHCXv3THCbEP"
      },
      "execution_count": null,
      "outputs": []
    }
  ]
}