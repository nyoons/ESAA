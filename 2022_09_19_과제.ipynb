{
  "nbformat": 4,
  "nbformat_minor": 0,
  "metadata": {
    "colab": {
      "provenance": [],
      "authorship_tag": "ABX9TyPyOz9KTITLotTJTCSOXBxc",
      "include_colab_link": true
    },
    "kernelspec": {
      "name": "python3",
      "display_name": "Python 3"
    },
    "language_info": {
      "name": "python"
    }
  },
  "cells": [
    {
      "cell_type": "markdown",
      "metadata": {
        "id": "view-in-github",
        "colab_type": "text"
      },
      "source": [
        "<a href=\"https://colab.research.google.com/github/nyoons/ESAA/blob/main/2022_09_19_%EA%B3%BC%EC%A0%9C.ipynb\" target=\"_parent\"><img src=\"https://colab.research.google.com/assets/colab-badge.svg\" alt=\"Open In Colab\"/></a>"
      ]
    },
    {
      "cell_type": "markdown",
      "source": [
        "#04. 데이터 핸들링 - 판다스\n",
        "파이썬에서 데이터 처리를 위해 존재하는 가장 인기있는 라이브러리. 행과 열로 이뤄진 2차원 데이터를 효율적으로 가공, 처리할 수 있는 기능을 제공한다. 넘파이 데이터 핸들링은 편하다고 하긴 어렵지만 판다스는 훨신 유연. 핵심 개체는 Data frame. Index와 Series를 이해하는 것도 중요. 판다스는 csv, tab과 같은 다양한 유형의 분리 문자로 칼럼을 분리한 파일을 손쉽게 Data frame으로 로딩할 수 있게 해준다.\n",
        ">**판다스 시작-파일을 DataFrame으로 로딩, 기본 API**\n",
        "*   import pandas as pd, 캐글 데이터 다운로드.\n",
        "*   타이타닉 탑승자 파일은 콤마로 분리되어 있다\n",
        "*   read_csv(), read_table()-탭, read_fwf()-콤마\n",
        "*   filepath에는 로드하려는 데이터의 파일의 경로를 포함한 파일명을 입력. ex) titanic_df=pd.read_csv(r'C:\\Users\\chkwon\\Data_Handling\\titanic_train.csv')\n",
        "*   titanic_df.shape는 데이터 프레임의 행과열을 튜플 형태로 반환한다.\n",
        "*   data frame은 데이터 뿐만 아니라 칼럼의 타입, null 데이터 갯수, 데이터 분포도 등의 메타 데이터 등도 조회 가능.\n",
        "<br/>titanic_df.info()-총 데이터 건수와 타입, null 건수\n",
        "<br/>titanic_df.describe()-n-percentile분포도, 평균, 최대, 최소, 오직 숫자형만 조사한다. 어떤 칼럼이 카테고리 칼럼인지도판단.\n",
        "<br/>df['칼럼명'].value_counts()-칼럼의 값이 어떤 분포로 구성되어 있는지 본다.\n",
        "<br/>df['칼럼명']-해당 컬럼에 해당하는 series객체 반환\n",
        "\n",
        ">**DataFrame과 리스트, 딕셔너리, 넘파이 ndarray 상호 변환**\n",
        "*   넘파이 ndarray, 리스트, 딕셔너리를 DataFrame으로 변환하기\n",
        "<br/>DataFrame은 칼럼명을 가진다.\n",
        "<br/>딕셔너리를 데이터 프레임으로 변환 시에는 딕셔너리의 키는 칼럼명으로, 값은 키에 해당하는 칼럼 데이터로 변환된다.\n",
        "*   DataFrame을 넘파이 ndarray, 리스트, 딕셔너리로 변환하기 - 자주 사용된다"
      ],
      "metadata": {
        "id": "arUXu4D98Q3s"
      }
    },
    {
      "cell_type": "code",
      "source": [
        "import numpy as np\n",
        "import pandas as pd\n",
        "\n",
        "#1차원\n",
        "col_name1=['col1']\n",
        "list1=[1,2,3]\n",
        "array1=np.array(list1)\n",
        "print('array1 shape:', array1.shape)\n",
        "\n",
        "#리스트를 이용해 DataFrame 생성\n",
        "df_list1=pd.DataFrame(list1, columns=col_name1)\n",
        "print('1차원 리스트로 만든 DataFrame:\\n', df_list1)\n",
        "\n",
        "#넘파이 ndarray를 이용해 DataFrame 생성\n",
        "df_array1=pd.DataFrame(array1, columns=col_name1)\n",
        "print('1차원 ndarray로 만든 DataFrame:\\n', df_array1)"
      ],
      "metadata": {
        "id": "LHCXv3THCbEP",
        "outputId": "cefe7f22-8640-4db0-8fed-ac4bc8ace7ae",
        "colab": {
          "base_uri": "https://localhost:8080/"
        }
      },
      "execution_count": 4,
      "outputs": [
        {
          "output_type": "stream",
          "name": "stdout",
          "text": [
            "array1 shape: (3,)\n",
            "1차원 리스트로 만든 DataFrame:\n",
            "    col1\n",
            "0     1\n",
            "1     2\n",
            "2     3\n",
            "1차원 ndarray로 만든 DataFrame:\n",
            "    col1\n",
            "0     1\n",
            "1     2\n",
            "2     3\n"
          ]
        }
      ]
    },
    {
      "cell_type": "code",
      "source": [
        "#2차원\n",
        "#3개의 칼럼명이 필요함\n",
        "col_name2=['col1', 'col2', 'col3']\n",
        "\n",
        "#2행x3열 형태의 리스트와 ndarray 생성한 뒤 이를 DataFrame으로 변환\n",
        "list2=[[1,2,3],\n",
        "       [11,12,13]]\n",
        "array2=np.array(list2)\n",
        "print('array2_shape:', array2.shape)\n",
        "df_list2=pd.DataFrame(list2, columns=col_name2)\n",
        "print('2차원 리스트로 만든 DataFrame:\\n', df_list2)\n",
        "df_array2=pd.DataFrame(array2, columns=col_name2)\n",
        "print('2차원 ndarray로 만든 DataFrame:\\n', df_array2)"
      ],
      "metadata": {
        "id": "F1Og5IypusSE",
        "outputId": "136d4674-a635-489a-dba3-9b62f4746d3b",
        "colab": {
          "base_uri": "https://localhost:8080/"
        }
      },
      "execution_count": 5,
      "outputs": [
        {
          "output_type": "stream",
          "name": "stdout",
          "text": [
            "array2_shape: (2, 3)\n",
            "2차원 리스트로 만든 DataFrame:\n",
            "    col1  col2  col3\n",
            "0     1     2     3\n",
            "1    11    12    13\n",
            "2차원 ndarray로 만든 DataFrame:\n",
            "    col1  col2  col3\n",
            "0     1     2     3\n",
            "1    11    12    13\n"
          ]
        }
      ]
    },
    {
      "cell_type": "code",
      "source": [
        "#딕셔너리를 DataFrame으로\n",
        "#Key는 문자열 칼럼명으로 매핑, Value는 리스트 형(또는 ndarray) 칼럼 데이터로 매핑\n",
        "dict={'col1':[1,11], 'col2':[2,22], 'col3':[3,33]}\n",
        "df_dict=pd.DataFrame(dict)\n",
        "print('딕셔너리로 만든 DataFrame:\\n', df_dict)"
      ],
      "metadata": {
        "id": "gqCCVuUxvkdY",
        "outputId": "98e241ca-0d6a-4766-c8c3-a4d43b2a1489",
        "colab": {
          "base_uri": "https://localhost:8080/"
        }
      },
      "execution_count": 6,
      "outputs": [
        {
          "output_type": "stream",
          "name": "stdout",
          "text": [
            "딕셔너리로 만든 DataFrame:\n",
            "    col1  col2  col3\n",
            "0     1     2     3\n",
            "1    11    22    33\n"
          ]
        }
      ]
    },
    {
      "cell_type": "code",
      "source": [
        "#DataFrame을 ndarray로 변환\n",
        "array3=df_dict.values\n",
        "print('df_dict.values 타입:', type(array3), 'df_dict.values shape:', array3.shape)\n",
        "print(array3)\n",
        "\n",
        "#리스트로 변환\n",
        "list3=df_dict.values.tolist()\n",
        "print('df_dict.values.tolist() 타입:', type(list3))\n",
        "print(list3)\n",
        "\n",
        "#딕셔너리로 변환\n",
        "dict3=df_dict.to_dict('list')\n",
        "print('\\n df_dict.to_dict() 타입:', type(dict3))\n",
        "print(dict3)"
      ],
      "metadata": {
        "id": "Mm48LrzGwhFZ",
        "outputId": "846e6083-aef7-470c-f8b1-8faa8696154c",
        "colab": {
          "base_uri": "https://localhost:8080/"
        }
      },
      "execution_count": 12,
      "outputs": [
        {
          "output_type": "stream",
          "name": "stdout",
          "text": [
            "df_dict.values 타입: <class 'numpy.ndarray'> df_dict.values shape: (2, 3)\n",
            "[[ 1  2  3]\n",
            " [11 22 33]]\n",
            "df_dict.values.tolist() 타입: <class 'list'>\n",
            "[[1, 2, 3], [11, 22, 33]]\n",
            "\n",
            " df_dict.to_dict() 타입: <class 'dict'>\n",
            "{'col1': [1, 11], 'col2': [2, 22], 'col3': [3, 33]}\n"
          ]
        }
      ]
    },
    {
      "cell_type": "markdown",
      "source": [
        ">**DataFrame의 칼럼 데이터 세트 생성과 수정**\n",
        "<br/>[ ]연산자를 이용해 쉽게 가능. *df이름*['추가하거나 수정할 칼럼명']=값 형태로.\n"
      ],
      "metadata": {
        "id": "N9mQKiLIs_Ie"
      }
    },
    {
      "cell_type": "markdown",
      "source": [
        ">**DataFrame 데이터 삭제**\n",
        "<br/>drop() 메서드 이용.\n",
        "<br/>원형은 DataFrame.drop(**labels=None**, **axis=0**, index=None, columns=None, level=None, **inplace=False**, errors='raise')\n",
        "axis - axis에 따라 특정 칼럼 또는 행을 드롭.\n",
        "labels - labels에 칼럼 명을 입력하고 axis=1 입력하면 지정된 칼럼 드롭.\n",
        "inplace - False이면 자시 자신의 DF데이터는 삭제하지 않으며, 결과 DF를 반환할 뿐이다. True로 설정하면 자기 자신의 데이터를 삭제한다. 여러개의 칼럼을 삭제하고 싶으면 리스트 형태로 입력하여 labels 파라미터로 입력한다."
      ],
      "metadata": {
        "id": "hf6YzR2bs_2n"
      }
    },
    {
      "cell_type": "markdown",
      "source": [
        ">**Index 객체**\n",
        "<br/>판다스의 Index 객체는 Primary Key와 유사하게 DF, Series의 레코드를 고유하게 식별하는 객체. DF, Series에서 Index 객체만 추출하려면 DataFrame.index 또는 Series.index 속성을 통해 가능하다. 1차원 array로 식별성 데이터를 가지고 있고, ndarray와 유사하게 단일 값 반환 및 슬라이싱도 가능하다.\n",
        "<br/>하지만 한 번 만들어진 DataFrame 및 Series의 Index 객체는 함부로 변경할 수 없다. ex) indexes[0]=5 는 불가\n",
        "<br/>Index는 오직 식별용이라 연산함수를 적용할 때는 제외한다.\n",
        "<br/>DataFrame.**reset_index**(inplace=False) 메서드를 수행하면 새롭게 인덱스를 연속 숫자 형으로 할당하며 기존 인덱스는 'index'라는 새로운 칼럼명으로 추가한다. 인덱스가 연속된 int숫자형 데이터가 아닐 경우, 다시 이를 연속 int숫자형 데이터로 만들때 사용한다. "
      ],
      "metadata": {
        "id": "UHKK1CGxtAY9"
      }
    },
    {
      "cell_type": "markdown",
      "source": [
        ">**데이터 셀렉션 및 필터링**\n",
        "<br/>\n"
      ],
      "metadata": {
        "id": "ymaW_O3StBRK"
      }
    },
    {
      "cell_type": "code",
      "source": [],
      "metadata": {
        "id": "Z2NkAnda20e6"
      },
      "execution_count": null,
      "outputs": []
    },
    {
      "cell_type": "markdown",
      "source": [
        ">**정렬, Aggregation 함수, GroupBy 적용**\n",
        "\n",
        ">**결손 데이터 처리하기**\n",
        "\n",
        ">**apply lambda 식으로 데이터 가공**\n",
        "\n",
        "\n",
        "#05. 정리"
      ],
      "metadata": {
        "id": "m7VbQ4o2201q"
      }
    }
  ]
}