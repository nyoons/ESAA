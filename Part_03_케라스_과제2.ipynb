{
  "nbformat": 4,
  "nbformat_minor": 0,
  "metadata": {
    "colab": {
      "provenance": [],
      "authorship_tag": "ABX9TyO1BZ1QRU/k9D81DvQg5F9y",
      "include_colab_link": true
    },
    "kernelspec": {
      "name": "python3",
      "display_name": "Python 3"
    },
    "language_info": {
      "name": "python"
    }
  },
  "cells": [
    {
      "cell_type": "markdown",
      "metadata": {
        "id": "view-in-github",
        "colab_type": "text"
      },
      "source": [
        "<a href=\"https://colab.research.google.com/github/nyoons/ESAA/blob/main/Part_03_%EC%BC%80%EB%9D%BC%EC%8A%A4_%EA%B3%BC%EC%A0%9C2.ipynb\" target=\"_parent\"><img src=\"https://colab.research.google.com/assets/colab-badge.svg\" alt=\"Open In Colab\"/></a>"
      ]
    },
    {
      "cell_type": "markdown",
      "source": [
        "##**04. 모델 세부 설정**\n",
        "데이터 정규화까지 처리하여 입력 데이터를 준비하자."
      ],
      "metadata": {
        "id": "oWyf-vcxDv2B"
      }
    },
    {
      "cell_type": "code",
      "execution_count": 1,
      "metadata": {
        "colab": {
          "base_uri": "https://localhost:8080/"
        },
        "id": "ZtoyqrsnDslh",
        "outputId": "1aa5c59e-1bb8-45dc-e3fa-e52e14d45de1"
      },
      "outputs": [
        {
          "output_type": "stream",
          "name": "stdout",
          "text": [
            "Downloading data from https://storage.googleapis.com/tensorflow/tf-keras-datasets/mnist.npz\n",
            "11490434/11490434 [==============================] - 0s 0us/step\n",
            "train set: (60000, 28, 28) (60000,)\n",
            "test set: (10000, 28, 28) (10000,)\n"
          ]
        }
      ],
      "source": [
        "import tensorflow as tf\n",
        "\n",
        "#케라스의 내장 데이터셋에서 mnist 데이터 로드\n",
        "mnist=tf.keras.datasets.mnist\n",
        "\n",
        "#load_data()로 데이터 로드\n",
        "(x_train, y_train), (x_test, y_test)=mnist.load_data()\n",
        "\n",
        "#로드된 데이터셋 확인\n",
        "print('train set:', x_train.shape, y_train.shape)\n",
        "print('test set:', x_test.shape, y_test.shape)\n",
        "\n",
        "#데이터 정규화\n",
        "x_train=x_train/x_train.max()\n",
        "x_test=x_test/x_test.max()"
      ]
    },
    {
      "cell_type": "markdown",
      "source": [
        "###**4-1. 초기값 설정**\n",
        "레이어의 초기화 방법을 다르게 설정할 수 있다. dense 레이어는 기본 초기화 방법으로 Glorot Uniform 방법 사용."
      ],
      "metadata": {
        "id": "TqeA0MVUETKA"
      }
    },
    {
      "cell_type": "code",
      "source": [
        "dense=tf.keras.layers.Dense(256, activation='relu')\n",
        "dense.get_config()['kernel_initializer']"
      ],
      "metadata": {
        "colab": {
          "base_uri": "https://localhost:8080/"
        },
        "id": "I89hhDSYEhWI",
        "outputId": "58f5c8d3-2068-4ffa-d28c-ace47ae6e664"
      },
      "execution_count": 2,
      "outputs": [
        {
          "output_type": "execute_result",
          "data": {
            "text/plain": [
              "{'class_name': 'GlorotUniform', 'config': {'seed': None}}"
            ]
          },
          "metadata": {},
          "execution_count": 2
        }
      ]
    },
    {
      "cell_type": "markdown",
      "source": [
        "변경해보자."
      ],
      "metadata": {
        "id": "eWmT2uqOEtJz"
      }
    },
    {
      "cell_type": "code",
      "source": [
        "#문자열 초기화\n",
        "dense=tf.keras.layers.Dense(256, kernel_initializer='he_normal', activation='relu')\n",
        "print(dense.get_config()['kernel_initializer'])\n",
        "\n",
        "#클래스 인스턴스 초기화\n",
        "he_normal=tf.keras.initializers.HeNormal()\n",
        "dense=tf.keras.layers.Dense(256, kernel_initializer=he_normal, activation='relu')\n",
        "print(dense.get_config()['kernel_initializer'])"
      ],
      "metadata": {
        "colab": {
          "base_uri": "https://localhost:8080/"
        },
        "id": "pcVQZS-pEumc",
        "outputId": "5a77aded-06b2-4056-86f5-6d9927717f5e"
      },
      "execution_count": 3,
      "outputs": [
        {
          "output_type": "stream",
          "name": "stdout",
          "text": [
            "{'class_name': 'HeNormal', 'config': {'seed': None}}\n",
            "{'class_name': 'HeNormal', 'config': {'seed': None}}\n"
          ]
        }
      ]
    },
    {
      "cell_type": "markdown",
      "source": [
        "케라스에서 지원하는 자주 사용되는 초기화 목록\n",
        "- glorot_normal / uniform\n",
        "- lecun_normal / uniform\n",
        "- he_normal / uniform\n",
        "- random_normal / uniform 등"
      ],
      "metadata": {
        "id": "CMPEZSAkFEeV"
      }
    },
    {
      "cell_type": "markdown",
      "source": [
        "###**4-2. 규제**\n",
        "L1, L2 규제를 적용하기도 함."
      ],
      "metadata": {
        "id": "P5wHErpIFVfc"
      }
    },
    {
      "cell_type": "code",
      "source": [
        "#기본값\n",
        "dense=tf.keras.layers.Dense(256, activation='relu')\n",
        "dense.get_config()"
      ],
      "metadata": {
        "colab": {
          "base_uri": "https://localhost:8080/"
        },
        "id": "5bbyS69BFfm8",
        "outputId": "c070587c-31f5-4757-d9bd-277e8bff4760"
      },
      "execution_count": 4,
      "outputs": [
        {
          "output_type": "execute_result",
          "data": {
            "text/plain": [
              "{'name': 'dense_3',\n",
              " 'trainable': True,\n",
              " 'dtype': 'float32',\n",
              " 'units': 256,\n",
              " 'activation': 'relu',\n",
              " 'use_bias': True,\n",
              " 'kernel_initializer': {'class_name': 'GlorotUniform',\n",
              "  'config': {'seed': None}},\n",
              " 'bias_initializer': {'class_name': 'Zeros', 'config': {}},\n",
              " 'kernel_regularizer': None,\n",
              " 'bias_regularizer': None,\n",
              " 'activity_regularizer': None,\n",
              " 'kernel_constraint': None,\n",
              " 'bias_constraint': None}"
            ]
          },
          "metadata": {},
          "execution_count": 4
        }
      ]
    },
    {
      "cell_type": "code",
      "source": [
        "#L1 규제 적용\n",
        "dense=tf.keras.layers.Dense(256, kernel_regularizer='l1', activation='relu')\n",
        "print(dense.get_config()['kernel_regularizer'])\n",
        "\n",
        "#클래스 인스턴스 적용, alpha=0.1 변경\n",
        "regularizer=tf.keras.regularizers.l1(l1=0.1)\n",
        "dense=tf.keras.layers.Dense(256, kernel_regularizer=regularizer, activation='relu')\n",
        "print(dense.get_config()['kernel_regularizer'])"
      ],
      "metadata": {
        "colab": {
          "base_uri": "https://localhost:8080/"
        },
        "id": "QtTsuNypFnF-",
        "outputId": "5b64806b-c705-41a8-944e-4e6a3e706ed7"
      },
      "execution_count": 5,
      "outputs": [
        {
          "output_type": "stream",
          "name": "stdout",
          "text": [
            "{'class_name': 'L1', 'config': {'l1': 0.009999999776482582}}\n",
            "{'class_name': 'L1', 'config': {'l1': 0.10000000149011612}}\n"
          ]
        }
      ]
    },
    {
      "cell_type": "markdown",
      "source": [
        "###**4-3. 드롭아웃**\n",
        "딥러닝의 난제 과대적합. 딥러닝 모델의 층이 넓고 깊어질 때 모델은 훈련에 주어진 샘플에 과하게 적합하도록 학습하는 경향이 있다. 드롭아웃은 과대적합 문제를 해결하기 위해 제안된 아이디어.\n",
        "\n",
        "노드의 일부 신호를 임의로 삭제하면 모델이 쉽게 과대적합되는 것을 막을 수 있다. 모델이 학습하는 가중치 파라미터의 개수가 현저히 줄기 때문.\n",
        "\n",
        "모델이 훈련할 때는 드롭아웃이 적용되어 노드 중 일부만 학습하지만, 예측 시점에는 모든 노드들이 활용된다."
      ],
      "metadata": {
        "id": "vJ6ngAx6FVdH"
      }
    },
    {
      "cell_type": "code",
      "source": [
        "#dropout 25% 비율 적용 (25% 노드가 삭제)\n",
        "tf.keras.layers.Dropout(0.25)"
      ],
      "metadata": {
        "colab": {
          "base_uri": "https://localhost:8080/"
        },
        "id": "5Y8lNgnfIKxB",
        "outputId": "dd72caac-c2f3-4f15-c644-c3636a9f2ed9"
      },
      "execution_count": 6,
      "outputs": [
        {
          "output_type": "execute_result",
          "data": {
            "text/plain": [
              "<keras.layers.regularization.dropout.Dropout at 0x7f0fe60c0d30>"
            ]
          },
          "metadata": {},
          "execution_count": 6
        }
      ]
    },
    {
      "cell_type": "markdown",
      "source": [
        "###**4-4. 배치 정규화**\n",
        "배치 정규화는 각 층에서 활성화 함수를 통과하기 전 미니 배치의 스케일을 정규화한다. 다음 층으로 전달되기 전에 데이터의 스케일을 조정하기 때문에 안정적.\n",
        "\n",
        "케라스에서 클래스 함수로 지원한다."
      ],
      "metadata": {
        "id": "SzAaootvFVas"
      }
    },
    {
      "cell_type": "code",
      "source": [
        "#model A: Dense+ReLu\n",
        "model_a=tf.keras.Sequential([\n",
        "    tf.keras.layers.Flatten(input_shape=(28, 28)),\n",
        "    tf.keras.layers.Dense(64, activation='relu'),\n",
        "    tf.keras.layers.Dense(32, activation='relu'),\n",
        "    tf.keras.layers.Dense(10, activation='softmax')\n",
        "])\n",
        "\n",
        "model_a.summary()"
      ],
      "metadata": {
        "colab": {
          "base_uri": "https://localhost:8080/"
        },
        "id": "Yi0fl-X0If43",
        "outputId": "6fe7a517-5c8a-4108-fcd3-6a1fb2b7bcc3"
      },
      "execution_count": 7,
      "outputs": [
        {
          "output_type": "stream",
          "name": "stdout",
          "text": [
            "Model: \"sequential\"\n",
            "_________________________________________________________________\n",
            " Layer (type)                Output Shape              Param #   \n",
            "=================================================================\n",
            " flatten (Flatten)           (None, 784)               0         \n",
            "                                                                 \n",
            " dense_6 (Dense)             (None, 64)                50240     \n",
            "                                                                 \n",
            " dense_7 (Dense)             (None, 32)                2080      \n",
            "                                                                 \n",
            " dense_8 (Dense)             (None, 10)                330       \n",
            "                                                                 \n",
            "=================================================================\n",
            "Total params: 52,650\n",
            "Trainable params: 52,650\n",
            "Non-trainable params: 0\n",
            "_________________________________________________________________\n"
          ]
        }
      ]
    },
    {
      "cell_type": "code",
      "source": [
        "#model B: Dense+BatchNorm+ReLU\n",
        "model_b=tf.keras.Sequential([\n",
        "    tf.keras.layers.Flatten(input_shape=(28, 28)),\n",
        "    tf.keras.layers.Dense(64),\n",
        "    #여기서 배치 정규화 적용\n",
        "    tf.keras.layers.BatchNormalization(),\n",
        "    #배치 정규화 후 활성화 함수 적용\n",
        "    tf.keras.layers.Activation('relu'),\n",
        "\n",
        "    tf.keras.layers.Dense(32),\n",
        "    #배치 정규화 적용\n",
        "    tf.keras.layers.BatchNormalization(),\n",
        "    #배치 정규화 후 활성화 함수 적용\n",
        "    tf.keras.layers.Activation('relu'),\n",
        "\n",
        "    tf.keras.layers.Dense(10, activation='softmax')\n",
        "])\n",
        "\n",
        "model_b.summary()"
      ],
      "metadata": {
        "colab": {
          "base_uri": "https://localhost:8080/"
        },
        "id": "KE6h1l_RI3Xx",
        "outputId": "c0dfcccf-fe14-4674-fa98-5dfcea1c7da9"
      },
      "execution_count": 8,
      "outputs": [
        {
          "output_type": "stream",
          "name": "stdout",
          "text": [
            "Model: \"sequential_1\"\n",
            "_________________________________________________________________\n",
            " Layer (type)                Output Shape              Param #   \n",
            "=================================================================\n",
            " flatten_1 (Flatten)         (None, 784)               0         \n",
            "                                                                 \n",
            " dense_9 (Dense)             (None, 64)                50240     \n",
            "                                                                 \n",
            " batch_normalization (BatchN  (None, 64)               256       \n",
            " ormalization)                                                   \n",
            "                                                                 \n",
            " activation (Activation)     (None, 64)                0         \n",
            "                                                                 \n",
            " dense_10 (Dense)            (None, 32)                2080      \n",
            "                                                                 \n",
            " batch_normalization_1 (Batc  (None, 32)               128       \n",
            " hNormalization)                                                 \n",
            "                                                                 \n",
            " activation_1 (Activation)   (None, 32)                0         \n",
            "                                                                 \n",
            " dense_11 (Dense)            (None, 10)                330       \n",
            "                                                                 \n",
            "=================================================================\n",
            "Total params: 53,034\n",
            "Trainable params: 52,842\n",
            "Non-trainable params: 192\n",
            "_________________________________________________________________\n"
          ]
        }
      ]
    },
    {
      "cell_type": "markdown",
      "source": [
        "배치 정규화만 추가해도 손실은 이전 대비 더 안정적이고 빠르게 수렴할 수 있다."
      ],
      "metadata": {
        "id": "JzdZvxBCFVYd"
      }
    },
    {
      "cell_type": "markdown",
      "source": [
        "###**4-5. 활성화 함수**\n",
        "지금까지 주로 dense 레이어에 ReLu 활성화 함수를 사용. 다른 활성화 함수를 지정할 수 있다."
      ],
      "metadata": {
        "id": "qkuX3qZuFVUC"
      }
    },
    {
      "cell_type": "code",
      "source": [
        "#LeakyReLU 기본 설정\n",
        "tf.keras.layers.LeakyReLU()\n",
        "\n",
        "#LeakyReLU, alpha=0.2로 변경\n",
        "tf.keras.layers.LeakyReLU(alpha=0.2)"
      ],
      "metadata": {
        "colab": {
          "base_uri": "https://localhost:8080/"
        },
        "id": "iOUny236JpXo",
        "outputId": "d3a1d000-6158-4a9b-b455-467162b534f6"
      },
      "execution_count": 9,
      "outputs": [
        {
          "output_type": "execute_result",
          "data": {
            "text/plain": [
              "<keras.layers.activation.leaky_relu.LeakyReLU at 0x7f0fc80b5fc0>"
            ]
          },
          "metadata": {},
          "execution_count": 9
        }
      ]
    },
    {
      "cell_type": "code",
      "source": [
        "#model C: Dense+BatchNorm+LeakyReLU(0,2)\n",
        "model_c=tf.keras.Sequential([\n",
        "    tf.keras.layers.Flatten(input_shape=(28, 28)),\n",
        "    tf.keras.layers.Dense(64),\n",
        "    #여기서 배치 정규화 적용\n",
        "    tf.keras.layers.BatchNormalization(),\n",
        "    #배치 정규화 후 활성화 함수 (LeakyReLU, alpha=0.2) 적용\n",
        "    tf.keras.layers.LeakyReLU(alpha=0.2),\n",
        "\n",
        "    tf.keras.layers.Dense(32),\n",
        "    #배치 정규화 적용\n",
        "    tf.keras.layers.BatchNormalization(),\n",
        "    #배치 정규화 후 활성화 함수 적용\n",
        "    tf.keras.layers.LeakyReLU(alpha=0.2),\n",
        "\n",
        "    tf.keras.layers.Dense(10, activation='softmax')\n",
        "])\n",
        "\n",
        "model_c.summary()"
      ],
      "metadata": {
        "colab": {
          "base_uri": "https://localhost:8080/"
        },
        "id": "CDJCbKfOJ0OL",
        "outputId": "29e10230-80a5-4df8-b04b-23c0b0a158ec"
      },
      "execution_count": 10,
      "outputs": [
        {
          "output_type": "stream",
          "name": "stdout",
          "text": [
            "Model: \"sequential_2\"\n",
            "_________________________________________________________________\n",
            " Layer (type)                Output Shape              Param #   \n",
            "=================================================================\n",
            " flatten_2 (Flatten)         (None, 784)               0         \n",
            "                                                                 \n",
            " dense_12 (Dense)            (None, 64)                50240     \n",
            "                                                                 \n",
            " batch_normalization_2 (Batc  (None, 64)               256       \n",
            " hNormalization)                                                 \n",
            "                                                                 \n",
            " leaky_re_lu_2 (LeakyReLU)   (None, 64)                0         \n",
            "                                                                 \n",
            " dense_13 (Dense)            (None, 32)                2080      \n",
            "                                                                 \n",
            " batch_normalization_3 (Batc  (None, 32)               128       \n",
            " hNormalization)                                                 \n",
            "                                                                 \n",
            " leaky_re_lu_3 (LeakyReLU)   (None, 32)                0         \n",
            "                                                                 \n",
            " dense_14 (Dense)            (None, 10)                330       \n",
            "                                                                 \n",
            "=================================================================\n",
            "Total params: 53,034\n",
            "Trainable params: 52,842\n",
            "Non-trainable params: 192\n",
            "_________________________________________________________________\n"
          ]
        }
      ]
    },
    {
      "cell_type": "markdown",
      "source": [
        "model a, b, c를 훈련한 후 수렴 속도를 비교해보자."
      ],
      "metadata": {
        "id": "c1s5VgDcKPiA"
      }
    },
    {
      "cell_type": "code",
      "source": [
        "model_a.compile(optimizer='adam', loss='sparse_categorical_crossentropy', metrics=['accuracy'])\n",
        "model_b.compile(optimizer='adam', loss='sparse_categorical_crossentropy', metrics=['accuracy'])\n",
        "model_c.compile(optimizer='adam', loss='sparse_categorical_crossentropy', metrics=['accuracy'])\n",
        "\n",
        "#Model A : Dense + ReLU\n",
        "history_a=model_a.fit(x_train, y_train,\n",
        "                      validation_data=(x_test, y_test), epochs=10)\n",
        "#Model B : Dense + BatchNorm + ReLU\n",
        "history_b=model_b.fit(x_train, y_train,\n",
        "                      validation_data=(x_test, y_test), epochs=10)\n",
        "#Model C : Dense + BatchNorm + LeakyReLU(0,2)\n",
        "history_c=model_c.fit(x_train, y_train,\n",
        "                      validation_data=(x_test, y_test), epochs=10)"
      ],
      "metadata": {
        "colab": {
          "base_uri": "https://localhost:8080/"
        },
        "id": "sCTiMgsNKUho",
        "outputId": "c04d2a41-fea9-45b9-97f4-8da3f1acf36f"
      },
      "execution_count": 11,
      "outputs": [
        {
          "output_type": "stream",
          "name": "stdout",
          "text": [
            "Epoch 1/10\n",
            "1875/1875 [==============================] - 16s 7ms/step - loss: 0.2882 - accuracy: 0.9160 - val_loss: 0.1744 - val_accuracy: 0.9465\n",
            "Epoch 2/10\n",
            "1875/1875 [==============================] - 7s 4ms/step - loss: 0.1341 - accuracy: 0.9606 - val_loss: 0.1108 - val_accuracy: 0.9667\n",
            "Epoch 3/10\n",
            "1875/1875 [==============================] - 6s 3ms/step - loss: 0.0991 - accuracy: 0.9699 - val_loss: 0.1010 - val_accuracy: 0.9693\n",
            "Epoch 4/10\n",
            "1875/1875 [==============================] - 7s 4ms/step - loss: 0.0804 - accuracy: 0.9755 - val_loss: 0.0950 - val_accuracy: 0.9701\n",
            "Epoch 5/10\n",
            "1875/1875 [==============================] - 10s 5ms/step - loss: 0.0653 - accuracy: 0.9796 - val_loss: 0.1061 - val_accuracy: 0.9683\n",
            "Epoch 6/10\n",
            "1875/1875 [==============================] - 6s 3ms/step - loss: 0.0561 - accuracy: 0.9826 - val_loss: 0.0932 - val_accuracy: 0.9738\n",
            "Epoch 7/10\n",
            "1875/1875 [==============================] - 5s 3ms/step - loss: 0.0500 - accuracy: 0.9843 - val_loss: 0.0923 - val_accuracy: 0.9718\n",
            "Epoch 8/10\n",
            "1875/1875 [==============================] - 5s 3ms/step - loss: 0.0414 - accuracy: 0.9868 - val_loss: 0.1001 - val_accuracy: 0.9713\n",
            "Epoch 9/10\n",
            "1875/1875 [==============================] - 6s 3ms/step - loss: 0.0375 - accuracy: 0.9878 - val_loss: 0.0906 - val_accuracy: 0.9742\n",
            "Epoch 10/10\n",
            "1875/1875 [==============================] - 5s 3ms/step - loss: 0.0330 - accuracy: 0.9891 - val_loss: 0.0943 - val_accuracy: 0.9743\n",
            "Epoch 1/10\n",
            "1875/1875 [==============================] - 8s 4ms/step - loss: 0.3249 - accuracy: 0.9093 - val_loss: 0.1454 - val_accuracy: 0.9540\n",
            "Epoch 2/10\n",
            "1875/1875 [==============================] - 6s 3ms/step - loss: 0.1439 - accuracy: 0.9570 - val_loss: 0.1082 - val_accuracy: 0.9662\n",
            "Epoch 3/10\n",
            "1875/1875 [==============================] - 9s 5ms/step - loss: 0.1124 - accuracy: 0.9648 - val_loss: 0.1010 - val_accuracy: 0.9681\n",
            "Epoch 4/10\n",
            "1875/1875 [==============================] - 6s 3ms/step - loss: 0.0957 - accuracy: 0.9705 - val_loss: 0.0962 - val_accuracy: 0.9697\n",
            "Epoch 5/10\n",
            "1875/1875 [==============================] - 6s 3ms/step - loss: 0.0840 - accuracy: 0.9730 - val_loss: 0.0803 - val_accuracy: 0.9747\n",
            "Epoch 6/10\n",
            "1875/1875 [==============================] - 7s 4ms/step - loss: 0.0748 - accuracy: 0.9760 - val_loss: 0.0808 - val_accuracy: 0.9761\n",
            "Epoch 7/10\n",
            "1875/1875 [==============================] - 6s 3ms/step - loss: 0.0700 - accuracy: 0.9775 - val_loss: 0.0779 - val_accuracy: 0.9753\n",
            "Epoch 8/10\n",
            "1875/1875 [==============================] - 7s 4ms/step - loss: 0.0627 - accuracy: 0.9791 - val_loss: 0.0840 - val_accuracy: 0.9754\n",
            "Epoch 9/10\n",
            "1875/1875 [==============================] - 6s 3ms/step - loss: 0.0590 - accuracy: 0.9800 - val_loss: 0.0807 - val_accuracy: 0.9753\n",
            "Epoch 10/10\n",
            "1875/1875 [==============================] - 6s 3ms/step - loss: 0.0556 - accuracy: 0.9815 - val_loss: 0.0835 - val_accuracy: 0.9764\n",
            "Epoch 1/10\n",
            "1875/1875 [==============================] - 8s 4ms/step - loss: 0.3202 - accuracy: 0.9092 - val_loss: 0.1417 - val_accuracy: 0.9570\n",
            "Epoch 2/10\n",
            "1875/1875 [==============================] - 6s 3ms/step - loss: 0.1583 - accuracy: 0.9514 - val_loss: 0.1152 - val_accuracy: 0.9645\n",
            "Epoch 3/10\n",
            "1875/1875 [==============================] - 6s 3ms/step - loss: 0.1256 - accuracy: 0.9613 - val_loss: 0.1016 - val_accuracy: 0.9698\n",
            "Epoch 4/10\n",
            "1875/1875 [==============================] - 6s 3ms/step - loss: 0.1090 - accuracy: 0.9659 - val_loss: 0.0969 - val_accuracy: 0.9705\n",
            "Epoch 5/10\n",
            "1875/1875 [==============================] - 6s 3ms/step - loss: 0.0939 - accuracy: 0.9702 - val_loss: 0.0923 - val_accuracy: 0.9726\n",
            "Epoch 6/10\n",
            "1875/1875 [==============================] - 6s 3ms/step - loss: 0.0875 - accuracy: 0.9723 - val_loss: 0.0952 - val_accuracy: 0.9694\n",
            "Epoch 7/10\n",
            "1875/1875 [==============================] - 6s 3ms/step - loss: 0.0804 - accuracy: 0.9744 - val_loss: 0.0931 - val_accuracy: 0.9718\n",
            "Epoch 8/10\n",
            "1875/1875 [==============================] - 6s 3ms/step - loss: 0.0712 - accuracy: 0.9772 - val_loss: 0.0908 - val_accuracy: 0.9720\n",
            "Epoch 9/10\n",
            "1875/1875 [==============================] - 7s 4ms/step - loss: 0.0699 - accuracy: 0.9771 - val_loss: 0.0864 - val_accuracy: 0.9736\n",
            "Epoch 10/10\n",
            "1875/1875 [==============================] - 6s 3ms/step - loss: 0.0639 - accuracy: 0.9788 - val_loss: 0.0885 - val_accuracy: 0.9735\n"
          ]
        }
      ]
    },
    {
      "cell_type": "code",
      "source": [
        "import matplotlib.pyplot as plt\n",
        "import numpy as np\n",
        "\n",
        "plt.figure(figsize=(12, 9))\n",
        "plt.plot(np.arange(1, 11), history_a.history['val_loss'], color='navy', linestyle=':')\n",
        "plt.plot(np.arange(1, 11), history_b.history['val_loss'], color='tomato', linestyle='-.')\n",
        "plt.plot(np.arange(1, 11), history_c.history['val_loss'], color='green', linestyle='-')\n",
        "\n",
        "plt.title('Losses', fontsize=20)\n",
        "plt.xlabel('epochs')\n",
        "plt.ylabel('Losses')\n",
        "plt.legend(['ReLU', 'BatchNorm+ReLU', 'BatchNorm+LeakyReLU'], fontsize=12)\n",
        "plt.show()"
      ],
      "metadata": {
        "colab": {
          "base_uri": "https://localhost:8080/",
          "height": 803
        },
        "id": "syv7ExVxLGsl",
        "outputId": "cf2cb9ab-6b03-45ff-ce17-8b52acf699c8"
      },
      "execution_count": 12,
      "outputs": [
        {
          "output_type": "display_data",
          "data": {
            "text/plain": [
              "<Figure size 1200x900 with 1 Axes>"
            ],
            "image/png": "[encoded data removed]"
          },
          "metadata": {}
        }
      ]
    },
    {
      "cell_type": "markdown",
      "source": [
        "mnist는 모델별 차이가 크진 않지만 좀 더 복잡한 데이터에서는 차이가 있다."
      ],
      "metadata": {
        "id": "CYwj3YxZJhY3"
      }
    },
    {
      "cell_type": "markdown",
      "source": [
        "##**06. 모델 저장 및 불러오기**\n",
        "model_b를 저장해보자."
      ],
      "metadata": {
        "id": "XIYYcnlhJhWw"
      }
    },
    {
      "cell_type": "markdown",
      "source": [
        "###**6-1. 모델을 파일로 저장**\n",
        "훈련을 종료해 가중치가 업데이트 된 모델 인스턴스를 저장할 수 있다. save() 메소드 사용. 모델을 저장하는 형식은 HDF5 포맷과 SaverModel 포맷 두가지.\n",
        "\n",
        "파일명이 .h5 확장자면 HDF5 포맷으로 저장한다. 대용량 데이터."
      ],
      "metadata": {
        "id": "HbiKVlwEJhUN"
      }
    },
    {
      "cell_type": "code",
      "source": [
        "#모델명을 h5 포맷으로 저장\n",
        "model_b.save('h5-model.h5')"
      ],
      "metadata": {
        "id": "5MAcfFXH6dIt"
      },
      "execution_count": 14,
      "outputs": []
    },
    {
      "cell_type": "markdown",
      "source": [
        "###**6-2. 저장된 모델 복원**\n",
        "tensorflow.kerase.models.load_model() 메서드를 이용하면 모델을 복원할 수 있다."
      ],
      "metadata": {
        "id": "rvjLD53AJhRx"
      }
    },
    {
      "cell_type": "code",
      "source": [
        "#모델 복원\n",
        "h5_model=tf.keras.models.load_model('h5-model.h5')\n",
        "h5_model.summary()"
      ],
      "metadata": {
        "colab": {
          "base_uri": "https://localhost:8080/"
        },
        "id": "QevY-7Ad6x43",
        "outputId": "8344b172-9cd1-4469-b127-b3ffa463e0c6"
      },
      "execution_count": 15,
      "outputs": [
        {
          "output_type": "stream",
          "name": "stdout",
          "text": [
            "Model: \"sequential_1\"\n",
            "_________________________________________________________________\n",
            " Layer (type)                Output Shape              Param #   \n",
            "=================================================================\n",
            " flatten_1 (Flatten)         (None, 784)               0         \n",
            "                                                                 \n",
            " dense_9 (Dense)             (None, 64)                50240     \n",
            "                                                                 \n",
            " batch_normalization (BatchN  (None, 64)               256       \n",
            " ormalization)                                                   \n",
            "                                                                 \n",
            " activation (Activation)     (None, 64)                0         \n",
            "                                                                 \n",
            " dense_10 (Dense)            (None, 32)                2080      \n",
            "                                                                 \n",
            " batch_normalization_1 (Batc  (None, 32)               128       \n",
            " hNormalization)                                                 \n",
            "                                                                 \n",
            " activation_1 (Activation)   (None, 32)                0         \n",
            "                                                                 \n",
            " dense_11 (Dense)            (None, 10)                330       \n",
            "                                                                 \n",
            "=================================================================\n",
            "Total params: 53,034\n",
            "Trainable params: 52,842\n",
            "Non-trainable params: 192\n",
            "_________________________________________________________________\n"
          ]
        }
      ]
    },
    {
      "cell_type": "markdown",
      "source": [
        "summary로 불러와보면 그대로 복원되어 있다.\n",
        "\n",
        "모델을 검증해 복원이 잘 되었는지 확인하자. 검증 셋을 evaluate 함수에 대입해 손실 함수와 평가 지표를 계산"
      ],
      "metadata": {
        "id": "CW61B6DL663Z"
      }
    },
    {
      "cell_type": "code",
      "source": [
        "#모델 검증\n",
        "loss, acc=h5_model.evaluate(x_test, y_test, verbose=0)\n",
        "print(f'h5_model] loss: {loss:.5f}, acc: {acc:.5f}')"
      ],
      "metadata": {
        "colab": {
          "base_uri": "https://localhost:8080/"
        },
        "id": "GGNmoeKK697P",
        "outputId": "82ab74b1-b699-4afd-d2c5-2838ce715cf6"
      },
      "execution_count": 16,
      "outputs": [
        {
          "output_type": "stream",
          "name": "stdout",
          "text": [
            "h5_model] loss: 0.08351, acc: 0.97640\n"
          ]
        }
      ]
    },
    {
      "cell_type": "markdown",
      "source": [
        ".h5 확장자를 생략하면 SavedModel 포맷으로 저장된다. 복원은 같은 방식으로 하면 된다."
      ],
      "metadata": {
        "id": "F-41xDqP757z"
      }
    },
    {
      "cell_type": "code",
      "source": [
        "#모델을 SavedModel 포맷으로 저장\n",
        "model_b.save('saved-model')"
      ],
      "metadata": {
        "colab": {
          "base_uri": "https://localhost:8080/"
        },
        "id": "F-BbEaJk8A8u",
        "outputId": "398971a5-b2ae-40b2-d900-10fd81242c84"
      },
      "execution_count": 17,
      "outputs": [
        {
          "output_type": "stream",
          "name": "stderr",
          "text": [
            "WARNING:absl:Found untraced functions such as _update_step_xla while saving (showing 1 of 1). These functions will not be directly callable after loading.\n"
          ]
        }
      ]
    },
    {
      "cell_type": "code",
      "source": [
        "#모델 복원\n",
        "saved_model=tf.keras.models.load_model('saved-model')\n",
        "saved_model.summary()"
      ],
      "metadata": {
        "colab": {
          "base_uri": "https://localhost:8080/"
        },
        "id": "DBtgAsU_8G76",
        "outputId": "f9c99020-8426-400b-f503-62dc5f072113"
      },
      "execution_count": 18,
      "outputs": [
        {
          "output_type": "stream",
          "name": "stdout",
          "text": [
            "Model: \"sequential_1\"\n",
            "_________________________________________________________________\n",
            " Layer (type)                Output Shape              Param #   \n",
            "=================================================================\n",
            " flatten_1 (Flatten)         (None, 784)               0         \n",
            "                                                                 \n",
            " dense_9 (Dense)             (None, 64)                50240     \n",
            "                                                                 \n",
            " batch_normalization (BatchN  (None, 64)               256       \n",
            " ormalization)                                                   \n",
            "                                                                 \n",
            " activation (Activation)     (None, 64)                0         \n",
            "                                                                 \n",
            " dense_10 (Dense)            (None, 32)                2080      \n",
            "                                                                 \n",
            " batch_normalization_1 (Batc  (None, 32)               128       \n",
            " hNormalization)                                                 \n",
            "                                                                 \n",
            " activation_1 (Activation)   (None, 32)                0         \n",
            "                                                                 \n",
            " dense_11 (Dense)            (None, 10)                330       \n",
            "                                                                 \n",
            "=================================================================\n",
            "Total params: 53,034\n",
            "Trainable params: 52,842\n",
            "Non-trainable params: 192\n",
            "_________________________________________________________________\n"
          ]
        }
      ]
    },
    {
      "cell_type": "markdown",
      "source": [
        "h5와 동일한 성능이 나타난다."
      ],
      "metadata": {
        "id": "U67FEmf18SuN"
      }
    },
    {
      "cell_type": "code",
      "source": [
        "#모델 검증 (HDF5 포맷)\n",
        "loss, acc=h5_model.evaluate(x_test, y_test, verbose=0)\n",
        "print(f'h5_model] loss: {loss:.5f}, acc: {acc:.5f}')\n",
        "\n",
        "#모델 검증 (SavedModel 포맷)\n",
        "loss, acc=saved_model.evaluate(x_test, y_test, verbose= 0)\n",
        "print(f'saved_model] loss: {loss:.5f}, acc: {acc:.5f}')"
      ],
      "metadata": {
        "colab": {
          "base_uri": "https://localhost:8080/"
        },
        "id": "-mD_bNgb8WNC",
        "outputId": "c697a829-1604-4b85-c3a0-4cd14c7731d1"
      },
      "execution_count": 19,
      "outputs": [
        {
          "output_type": "stream",
          "name": "stdout",
          "text": [
            "h5_model] loss: 0.08351, acc: 0.97640\n",
            "saved_model] loss: 0.08351, acc: 0.97640\n"
          ]
        }
      ]
    },
    {
      "cell_type": "markdown",
      "source": [
        "##**07. 복잡한 모델 생성**"
      ],
      "metadata": {
        "id": "pI2HUOfbMDWt"
      }
    },
    {
      "cell_type": "markdown",
      "source": [
        "###**7-1. 함수형 API**\n",
        "함수 형태로 딥러닝 모델을 정의하면 다양한 모델 구조 구현 가능. 따라서 sequential과 다르게 복잡한 구조의 모델을 정의할 수 있다. 함수의 입력 매개변수를 여러 개 갖는 다중 입력, 함수의 return 값을 여러개 갖는 다중 출력, 같은 레벨에 여러 층을 배치해 입력과 출력을 공유하는 구조도 가능.\n",
        "\n",
        "Sequential은 단방향만 가능했음. (데이터 흐름이 특정 레이어를 건너뛰거나, 병합 및 분리하는 구조를 구현할 수 없음).\n",
        "\n",
        "함수형은 먼저 input 레이어를 정의해야한다. input 레이어에 데이터의 입력 shape 정의. 레이어마다 반환되는 출력 값을 변수에 저장한 뒤 다음 레이어의 입력으로 연결한다. 이렇게 여러 개의 레이어를 마치 체인 구조로 입출력을 계속 연결할 수 있다."
      ],
      "metadata": {
        "id": "EIpzrEYSMDUY"
      }
    },
    {
      "cell_type": "code",
      "source": [
        "import tensorflow as tf\n",
        "\n",
        "#모델의 레이어를 체인 구조로 연결 input 레이어 정의\n",
        "input_layer=tf.keras.Input(shape=(28, 28), name='InputLayer')\n",
        "\n",
        "#모델의 레이어를 체인 구조로 연결\n",
        "x1=tf.keras.layers.Flatten(name='Flatten')(input_layer)\n",
        "x2=tf.keras.layers.Dense(256, activation='relu', name='Dense1')(x1)\n",
        "x3=tf.keras.layers.Dense(64, activation='relu', name='Dense2')(x2)\n",
        "x4=tf.keras.layers.Dense(10, activation='softmax', name='OutputLayer')(x3)"
      ],
      "metadata": {
        "id": "hZexpUOe9As8"
      },
      "execution_count": 20,
      "outputs": []
    },
    {
      "cell_type": "markdown",
      "source": [
        "레이어마다 name 매개변수로 이름을 부여할 수 있다. 이렇게 체인 방식으로 연결한 후 tf.keras.Model() 에 입력 레이어와 출력 레이어를 정의해 모델을 생성한다."
      ],
      "metadata": {
        "id": "HmwmXyTE-A8L"
      }
    },
    {
      "cell_type": "code",
      "source": [
        "#모델 생성\n",
        "func_model=tf.keras.Model(inputs=input_layer, outputs=x4, name='FunctionalModel')\n",
        "\n",
        "#모델 요약\n",
        "func_model.summary()"
      ],
      "metadata": {
        "colab": {
          "base_uri": "https://localhost:8080/"
        },
        "id": "cQqE_wxK-JM1",
        "outputId": "5877ee75-a21e-45bd-d84a-32fd176e4391"
      },
      "execution_count": 21,
      "outputs": [
        {
          "output_type": "stream",
          "name": "stdout",
          "text": [
            "Model: \"FunctionalModel\"\n",
            "_________________________________________________________________\n",
            " Layer (type)                Output Shape              Param #   \n",
            "=================================================================\n",
            " InputLayer (InputLayer)     [(None, 28, 28)]          0         \n",
            "                                                                 \n",
            " Flatten (Flatten)           (None, 784)               0         \n",
            "                                                                 \n",
            " Dense1 (Dense)              (None, 256)               200960    \n",
            "                                                                 \n",
            " Dense2 (Dense)              (None, 64)                16448     \n",
            "                                                                 \n",
            " OutputLayer (Dense)         (None, 10)                650       \n",
            "                                                                 \n",
            "=================================================================\n",
            "Total params: 218,058\n",
            "Trainable params: 218,058\n",
            "Non-trainable params: 0\n",
            "_________________________________________________________________\n"
          ]
        }
      ]
    },
    {
      "cell_type": "markdown",
      "source": [
        "input, ouputs 레이어 지정.\n",
        "\n",
        "지금까지 summary()로 모델의 요약을 확인함. 하지만 복잡한 구조는 summary()로 모델의 구조도를 보기가 어렵다. plot_model 모듈 활용해보자."
      ],
      "metadata": {
        "id": "18G7iChv-UtW"
      }
    },
    {
      "cell_type": "code",
      "source": [
        "from tensorflow.keras.utils import plot_model\n",
        "\n",
        "#구조도 시각화\n",
        "plot_model(func_model, show_shapes=True, show_layer_names=True, to_file='model.png')"
      ],
      "metadata": {
        "colab": {
          "base_uri": "https://localhost:8080/",
          "height": 533
        },
        "id": "fxzrxIRU-jWu",
        "outputId": "15c131ee-fd75-41a1-85b0-e60fbce1620c"
      },
      "execution_count": 22,
      "outputs": [
        {
          "output_type": "execute_result",
          "data": {
            "image/png": "[encoded data removed]",
            "text/plain": [
              "<IPython.core.display.Image object>"
            ]
          },
          "metadata": {},
          "execution_count": 22
        }
      ]
    },
    {
      "cell_type": "markdown",
      "source": [
        "함수형 API로 생성한 모델도 sequential API와 동일한 방식으로 훈련할 수 있다."
      ],
      "metadata": {
        "id": "7_6Hrz2t-06B"
      }
    },
    {
      "cell_type": "code",
      "source": [
        "#컴파일\n",
        "func_model.compile(optimizer='adam', loss='sparse_categorical_crossentropy', metrics=['accuracy'])\n",
        "\n",
        "#훈련\n",
        "func_model.fit(x_train, y_train, epochs=3)\n",
        "\n",
        "#검증\n",
        "loss, acc=func_model.evaluate(x_test, y_test, verbose=0)\n",
        "print(f'Functional Model] loss: {loss:.5f}, acc: {acc:.5f}')"
      ],
      "metadata": {
        "colab": {
          "base_uri": "https://localhost:8080/"
        },
        "id": "dz4BhFUX-5Ze",
        "outputId": "66b5135e-5ccb-4aa1-97db-2f90d157c1ee"
      },
      "execution_count": 23,
      "outputs": [
        {
          "output_type": "stream",
          "name": "stdout",
          "text": [
            "Epoch 1/3\n",
            "1875/1875 [==============================] - 9s 5ms/step - loss: 0.2093 - accuracy: 0.9379\n",
            "Epoch 2/3\n",
            "1875/1875 [==============================] - 9s 5ms/step - loss: 0.0872 - accuracy: 0.9729\n",
            "Epoch 3/3\n",
            "1875/1875 [==============================] - 8s 4ms/step - loss: 0.0601 - accuracy: 0.9807\n",
            "Functional Model] loss: 0.07550, acc: 0.97550\n"
          ]
        }
      ]
    },
    {
      "cell_type": "markdown",
      "source": [
        "###**7-2. 모델 서브클래싱**\n",
        "Model 클래스를 상속받아 사용자가 직접 서브클래스로 딥러닝 모델을 만들 수 있다. 그러나 함수형 API로 생성한 모델과의 성능 차이는 없다.\n",
        "\n",
        "Model Subclassing으로 모델 인스턴스를 생성하기 위해서는 tf.keras.Model을 상속받아 생성하고자 하는 모델 클래스를 구현하면 된다."
      ],
      "metadata": {
        "id": "bx62Jy68MDR2"
      }
    },
    {
      "cell_type": "code",
      "source": [
        "class MyModel(tf.keras.Model):\n",
        "  def __init__(self):\n",
        "    super(MyModel, self).__init__()\n",
        "    #초기값 설정\n",
        "    self.flatten=tf.keras.layers.Flatten()\n",
        "    self.dense1=tf.keras.layers.Dense(256, activation='relu')\n",
        "    self.dense2=tf.keras.layers.Dense(64, activation='relu')\n",
        "    self.dense3=tf.keras.layers.Dense(10, activation='softmax')\n",
        "\n",
        "  #method overiding\n",
        "  #훈련용 함수 정의\n",
        "  #x는 input\n",
        "  def call(self, x):\n",
        "    x=self.flatten(x)\n",
        "    x=self.dense1(x)\n",
        "    x=self.dense2(x)\n",
        "    x=self.dense3(x)\n",
        "    return x\n"
      ],
      "metadata": {
        "id": "WOIQlHsx_2Wp"
      },
      "execution_count": 24,
      "outputs": []
    },
    {
      "cell_type": "markdown",
      "source": [
        "call()은 fit 메서드가 호출되어 훈련하는 경우 호출될 함수."
      ],
      "metadata": {
        "id": "i_PzI09sAdU2"
      }
    },
    {
      "cell_type": "code",
      "source": [
        "#모델 생성\n",
        "mymodel=MyModel()\n",
        "\n",
        "#모델의 이름 설정\n",
        "mymodel._name='subclass_model'\n",
        "\n",
        "#모델 input 정의\n",
        "mymodel(tf.keras.layers.Input(shape=(28, 28)))\n",
        "\n",
        "#모델 요약\n",
        "mymodel.summary()"
      ],
      "metadata": {
        "colab": {
          "base_uri": "https://localhost:8080/"
        },
        "id": "wSCM9uL1AiaR",
        "outputId": "668edef6-c76f-4364-8b37-a740a331fff0"
      },
      "execution_count": 25,
      "outputs": [
        {
          "output_type": "stream",
          "name": "stdout",
          "text": [
            "Model: \"subclass_model\"\n",
            "_________________________________________________________________\n",
            " Layer (type)                Output Shape              Param #   \n",
            "=================================================================\n",
            " flatten_3 (Flatten)         multiple                  0         \n",
            "                                                                 \n",
            " dense_15 (Dense)            multiple                  200960    \n",
            "                                                                 \n",
            " dense_16 (Dense)            multiple                  16448     \n",
            "                                                                 \n",
            " dense_17 (Dense)            multiple                  650       \n",
            "                                                                 \n",
            "=================================================================\n",
            "Total params: 218,058\n",
            "Trainable params: 218,058\n",
            "Non-trainable params: 0\n",
            "_________________________________________________________________\n"
          ]
        }
      ]
    },
    {
      "cell_type": "markdown",
      "source": [
        "input에 shape을 정의해야 모델의 요약을 확인할 수 있다."
      ],
      "metadata": {
        "id": "LaL3z4MjBUES"
      }
    },
    {
      "cell_type": "code",
      "source": [
        "#컴파일\n",
        "mymodel.compile(optimizer='adam', loss='sparse_categorical_crossentropy', metrics=['accuracy'])\n",
        "\n",
        "#훈련\n",
        "mymodel.fit(x_train, y_train, epochs=3)\n",
        "\n",
        "#검증\n",
        "loss, acc=mymodel.evaluate(x_test, y_test, verbose=0)\n",
        "print(f'Subclassing Model] loss: {loss:.5f}, acc: {acc:.5f}')"
      ],
      "metadata": {
        "colab": {
          "base_uri": "https://localhost:8080/"
        },
        "id": "CC3HgyKxBe9z",
        "outputId": "e77e54eb-91c3-4dbb-b318-55191cd38a10"
      },
      "execution_count": 26,
      "outputs": [
        {
          "output_type": "stream",
          "name": "stdout",
          "text": [
            "Epoch 1/3\n",
            "1875/1875 [==============================] - 11s 6ms/step - loss: 0.2125 - accuracy: 0.9368\n",
            "Epoch 2/3\n",
            "1875/1875 [==============================] - 10s 6ms/step - loss: 0.0887 - accuracy: 0.9719\n",
            "Epoch 3/3\n",
            "1875/1875 [==============================] - 9s 5ms/step - loss: 0.0604 - accuracy: 0.9809\n",
            "Subclassing Model] loss: 0.06805, acc: 0.97800\n"
          ]
        }
      ]
    },
    {
      "cell_type": "markdown",
      "source": [
        "동일하게 compile, fit 등 적용 가능. 모델을 생성하는 방식에 차이가 있을 뿐이다."
      ],
      "metadata": {
        "id": "5kA5e4VhB1Hb"
      }
    },
    {
      "cell_type": "markdown",
      "source": [
        "###**7-3. 서브클래싱 모델 파라미터를 활용한 생성**\n",
        "Model subclassing의 장점은 생성자 파라미터로 모델 내부 레이어의 하이퍼 파라미터를 지정할 수 있다는 것.\n",
        "\n",
        "모델의 생성자 파라미터를 추가해 동적으로 레이어의 유닛 개수를 초기화하는 예제를 보자."
      ],
      "metadata": {
        "id": "QctRghCkMDPg"
      }
    },
    {
      "cell_type": "code",
      "source": [
        "class MyModel(tf.keras.Model):\n",
        "\n",
        "  #생성자 파라미터 추가\n",
        "  def __init__(self, units, num_classes):\n",
        "    super(MyModel, self).__init__()\n",
        "    #초기값 설정\n",
        "    self.flatten=tf.keras.layers.Flatten()\n",
        "    self.dense1=tf.keras.layers.Dense(units, activation='relu')\n",
        "    self.dense2=tf.keras.layers.Dense(units/4, activation='relu')\n",
        "    self.dense3=tf.keras.layers.Dense(num_classes, activation='softmax')\n",
        "\n",
        "  #class overiding\n",
        "  #훈련용 함수 정의\n",
        "  #x는 input\n",
        "  def call(self, x):\n",
        "    x=self.flatten(x)\n",
        "    x=self.dense1(x)\n",
        "    x=self.dense2(x)\n",
        "    x=self.dense3(x)\n",
        "    return x"
      ],
      "metadata": {
        "id": "KP-JGuS9CFik"
      },
      "execution_count": 27,
      "outputs": []
    },
    {
      "cell_type": "markdown",
      "source": [
        "모델의 생성자 파라미터로 기준이 되는 unit의 개수를 입력받아 dense 레이어의 유닛 개수를 계산하여 설정한다."
      ],
      "metadata": {
        "id": "Ok51bcd5CtDP"
      }
    },
    {
      "cell_type": "code",
      "source": [
        "#모델 생성\n",
        "mymodel=MyModel(256, 10)\n",
        "\n",
        "#모델 input 정의\n",
        "mymodel(tf.keras.layers.Input(shape=(28, 28)))\n",
        "\n",
        "#모델 요약\n",
        "mymodel.summary()"
      ],
      "metadata": {
        "colab": {
          "base_uri": "https://localhost:8080/"
        },
        "id": "L0QJpUZJCGEP",
        "outputId": "1141943a-5c19-4640-ba01-cf4f408708e5"
      },
      "execution_count": 28,
      "outputs": [
        {
          "output_type": "stream",
          "name": "stdout",
          "text": [
            "Model: \"my_model_1\"\n",
            "_________________________________________________________________\n",
            " Layer (type)                Output Shape              Param #   \n",
            "=================================================================\n",
            " flatten_4 (Flatten)         multiple                  0         \n",
            "                                                                 \n",
            " dense_18 (Dense)            multiple                  200960    \n",
            "                                                                 \n",
            " dense_19 (Dense)            multiple                  16448     \n",
            "                                                                 \n",
            " dense_20 (Dense)            multiple                  650       \n",
            "                                                                 \n",
            "=================================================================\n",
            "Total params: 218,058\n",
            "Trainable params: 218,058\n",
            "Non-trainable params: 0\n",
            "_________________________________________________________________\n"
          ]
        }
      ]
    },
    {
      "cell_type": "markdown",
      "source": [
        "조건문, 반복문 추가해 더 동적인 모델을 생성할수도 있다. summary 결과를 보면 동적으로 설정한 레이어의 파라미터가 초기화 되었음을 알 수 있다."
      ],
      "metadata": {
        "id": "IY0nCYnQC-iu"
      }
    },
    {
      "cell_type": "code",
      "source": [
        "#컴파일\n",
        "mymodel.compile(optimizer='adam', loss='sparse_categorical_crossentropy', metrics=['accuracy'])\n",
        "\n",
        "#훈련\n",
        "mymodel.fit(x_train, y_train, epochs=3)\n",
        "\n",
        "#검증\n",
        "loss, acc=mymodel.evaluate(x_test, y_test, verbose=0)\n",
        "print(f'Subclassing Model w.parameters] loss: {loss:.5f}, acc: {acc:.5f}')"
      ],
      "metadata": {
        "colab": {
          "base_uri": "https://localhost:8080/"
        },
        "id": "ajFdPFmTCGCA",
        "outputId": "03041b5c-3519-46ea-fed5-f622b3e43f95"
      },
      "execution_count": 29,
      "outputs": [
        {
          "output_type": "stream",
          "name": "stdout",
          "text": [
            "Epoch 1/3\n",
            "1875/1875 [==============================] - 11s 6ms/step - loss: 0.2150 - accuracy: 0.9366\n",
            "Epoch 2/3\n",
            "1875/1875 [==============================] - 10s 5ms/step - loss: 0.0900 - accuracy: 0.9726\n",
            "Epoch 3/3\n",
            "1875/1875 [==============================] - 12s 6ms/step - loss: 0.0613 - accuracy: 0.9811\n",
            "Subclassing Model w.parameters] loss: 0.07281, acc: 0.97600\n"
          ]
        }
      ]
    },
    {
      "cell_type": "markdown",
      "source": [
        "역시 동일한 방식으로 컴파일, 훈련, evaluate 할 수 있다."
      ],
      "metadata": {
        "id": "Ua3_sqYJDcgb"
      }
    }
  ]
}