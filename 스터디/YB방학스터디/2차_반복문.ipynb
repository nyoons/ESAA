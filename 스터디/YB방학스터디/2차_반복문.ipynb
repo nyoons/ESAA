{
  "nbformat": 4,
  "nbformat_minor": 0,
  "metadata": {
    "colab": {
      "provenance": [],
      "authorship_tag": "ABX9TyNrC7vCJyeHzCa31x8HZFmm",
      "include_colab_link": true
    },
    "kernelspec": {
      "name": "python3",
      "display_name": "Python 3"
    },
    "language_info": {
      "name": "python"
    }
  },
  "cells": [
    {
      "cell_type": "markdown",
      "metadata": {
        "id": "view-in-github",
        "colab_type": "text"
      },
      "source": [
        "<a href=\"https://colab.research.google.com/github/nyoons/ESAA/blob/main/%EC%8A%A4%ED%84%B0%EB%94%94_2%EC%B0%A8_%EB%B0%98%EB%B3%B5%EB%AC%B8.ipynb\" target=\"_parent\"><img src=\"https://colab.research.google.com/assets/colab-badge.svg\" alt=\"Open In Colab\"/></a>"
      ]
    },
    {
      "cell_type": "markdown",
      "source": [
        "#반복문 (<혼자 공부하는 파이썬> 참고)\n"
      ],
      "metadata": {
        "id": "l_I6UC9p0Ttx"
      }
    },
    {
      "cell_type": "markdown",
      "source": [
        "##리스트와 반복문"
      ],
      "metadata": {
        "id": "J_P1gwN71Hhg"
      }
    },
    {
      "cell_type": "code",
      "source": [
        "range(100)"
      ],
      "metadata": {
        "colab": {
          "base_uri": "https://localhost:8080/"
        },
        "id": "d39wYMzC09YH",
        "outputId": "81a32419-b3bc-43dc-eb57-b4f00bef2365"
      },
      "execution_count": null,
      "outputs": [
        {
          "output_type": "execute_result",
          "data": {
            "text/plain": [
              "range(0, 100)"
            ]
          },
          "metadata": {},
          "execution_count": 1
        }
      ]
    },
    {
      "cell_type": "code",
      "execution_count": null,
      "metadata": {
        "colab": {
          "base_uri": "https://localhost:8080/"
        },
        "id": "TxbAkmy80ED2",
        "outputId": "80b2ded3-70b2-456c-c542-ff35f6dfdb20"
      },
      "outputs": [
        {
          "output_type": "stream",
          "name": "stdout",
          "text": [
            "출력\n",
            "출력\n",
            "출력\n",
            "출력\n",
            "출력\n",
            "출력\n",
            "출력\n",
            "출력\n",
            "출력\n",
            "출력\n"
          ]
        }
      ],
      "source": [
        "for i in range(10):\n",
        "  print('출력')"
      ]
    },
    {
      "cell_type": "code",
      "source": [
        "#리스트를 선언\n",
        "array=[273, 32, 103, 57, 52]\n",
        "\n",
        "#리스트에 반복문 적용\n",
        "for element in array:\n",
        "  print(element)"
      ],
      "metadata": {
        "colab": {
          "base_uri": "https://localhost:8080/"
        },
        "id": "sqS-rfGy1O02",
        "outputId": "a746799e-237e-4f10-feeb-57e64ae53d78"
      },
      "execution_count": null,
      "outputs": [
        {
          "output_type": "stream",
          "name": "stdout",
          "text": [
            "273\n",
            "32\n",
            "103\n",
            "57\n",
            "52\n"
          ]
        }
      ]
    },
    {
      "cell_type": "markdown",
      "source": [
        "- 2차원 리스트도 보자"
      ],
      "metadata": {
        "id": "3DQS56-C1jos"
      }
    },
    {
      "cell_type": "code",
      "source": [
        "list_of_list=[\n",
        "    [1,2,3],\n",
        "    [4,5,6,7],\n",
        "    [8,9]\n",
        "]"
      ],
      "metadata": {
        "id": "g_Zrnbji1lRL"
      },
      "execution_count": null,
      "outputs": []
    },
    {
      "cell_type": "code",
      "source": [
        "for items in list_of_list:\n",
        "  print(items)"
      ],
      "metadata": {
        "colab": {
          "base_uri": "https://localhost:8080/"
        },
        "id": "kDAouWn1125T",
        "outputId": "a94549db-96ff-44a7-ea2b-aa6784685bf4"
      },
      "execution_count": null,
      "outputs": [
        {
          "output_type": "stream",
          "name": "stdout",
          "text": [
            "[1, 2, 3]\n",
            "[4, 5, 6, 7]\n",
            "[8, 9]\n"
          ]
        }
      ]
    },
    {
      "cell_type": "code",
      "source": [
        "for items in list_of_list:\n",
        "  for item in items:\n",
        "    print(items)"
      ],
      "metadata": {
        "colab": {
          "base_uri": "https://localhost:8080/"
        },
        "id": "ujZyQDpr18b-",
        "outputId": "0c13e290-f09d-4c64-e639-5c270e220b8f"
      },
      "execution_count": null,
      "outputs": [
        {
          "output_type": "stream",
          "name": "stdout",
          "text": [
            "[1, 2, 3]\n",
            "[1, 2, 3]\n",
            "[1, 2, 3]\n",
            "[4, 5, 6, 7]\n",
            "[4, 5, 6, 7]\n",
            "[4, 5, 6, 7]\n",
            "[4, 5, 6, 7]\n",
            "[8, 9]\n",
            "[8, 9]\n"
          ]
        }
      ]
    },
    {
      "cell_type": "markdown",
      "source": [
        "- 연습문제"
      ],
      "metadata": {
        "id": "g5pH7pkA2ab7"
      }
    },
    {
      "cell_type": "code",
      "source": [
        "# 1. 100이상의 숫자만 출력해보기\n",
        "\n",
        "numbers = [273, 103, 5, 32, 65, 9,72, 800, 99]\n",
        "\n",
        "for number in numbers:\n",
        "  if number>=100:\n",
        "    print(\"- 100 이상의 수\", number)"
      ],
      "metadata": {
        "colab": {
          "base_uri": "https://localhost:8080/"
        },
        "id": "cKpP7cNx2bog",
        "outputId": "810fbdb1-c016-4124-b986-f4025876a4c0"
      },
      "execution_count": null,
      "outputs": [
        {
          "output_type": "stream",
          "name": "stdout",
          "text": [
            "- 100 이상의 수 273\n",
            "- 100 이상의 수 103\n",
            "- 100 이상의 수 800\n"
          ]
        }
      ]
    },
    {
      "cell_type": "code",
      "source": [
        "# 2. 다음 빈칸을 채워서 실행 결과에 맞는 프로그램 완성하기\n",
        "for number in numbers:\n",
        "  if number%2==0:\n",
        "    print(number, \"는 짝수입니다.\")\n",
        "  else:\n",
        "    print(number, \"는 홀수입니다.\")"
      ],
      "metadata": {
        "colab": {
          "base_uri": "https://localhost:8080/"
        },
        "id": "TFzL21nt2yrI",
        "outputId": "89870162-5406-410f-8608-65f96bb961f8"
      },
      "execution_count": null,
      "outputs": [
        {
          "output_type": "stream",
          "name": "stdout",
          "text": [
            "273 는 홀수입니다.\n",
            "103 는 홀수입니다.\n",
            "5 는 홀수입니다.\n",
            "32 는 짝수입니다.\n",
            "65 는 홀수입니다.\n",
            "9 는 홀수입니다.\n",
            "72 는 짝수입니다.\n",
            "800 는 짝수입니다.\n",
            "99 는 홀수입니다.\n"
          ]
        }
      ]
    },
    {
      "cell_type": "code",
      "source": [
        "for number in numbers:\n",
        "    l=len(str(number))    #str로 바꿔주기\n",
        "    print(number, \"는\", l, \"자릿수입니다.\")"
      ],
      "metadata": {
        "colab": {
          "base_uri": "https://localhost:8080/"
        },
        "id": "PpqEXuSH3GfD",
        "outputId": "9aa84529-f248-4c67-add2-3b1f639ba3f7"
      },
      "execution_count": null,
      "outputs": [
        {
          "output_type": "stream",
          "name": "stdout",
          "text": [
            "273 는 3 자릿수입니다.\n",
            "103 는 3 자릿수입니다.\n",
            "5 는 1 자릿수입니다.\n",
            "32 는 2 자릿수입니다.\n",
            "65 는 2 자릿수입니다.\n",
            "9 는 1 자릿수입니다.\n",
            "72 는 2 자릿수입니다.\n",
            "800 는 3 자릿수입니다.\n",
            "99 는 2 자릿수입니다.\n"
          ]
        }
      ]
    },
    {
      "cell_type": "code",
      "source": [
        "# 3. 빈칸 채우기\n",
        "numbers=[1,2,3,4,5,6,7,8,9]\n",
        "output=[[],[],[]]\n",
        "\n",
        "for number in numbers:\n",
        "  output[(number+2)%3].append(number)\n",
        "\n",
        "print(output)"
      ],
      "metadata": {
        "colab": {
          "base_uri": "https://localhost:8080/"
        },
        "id": "C-F1qvDj3ySA",
        "outputId": "994503a8-cd52-4e52-e4ad-e22825da35f2"
      },
      "execution_count": null,
      "outputs": [
        {
          "output_type": "stream",
          "name": "stdout",
          "text": [
            "[[1, 4, 7], [2, 5, 8], [3, 6, 9]]\n"
          ]
        }
      ]
    },
    {
      "cell_type": "code",
      "source": [
        "# 4. 빈칸 채우기\n",
        "numbers=[1,2,3,4,5,6,7,8,9]\n",
        "\n",
        "for i in range(0, len(numbers)//2):\n",
        "  #j가 1,3,5,7이 나오려면\n",
        "  j=i*2+1\n",
        "  print(f\"i={i}, j={j}\")\n",
        "  numbers[j]=numbers[j]**2\n",
        "\n",
        "print(numbers)"
      ],
      "metadata": {
        "colab": {
          "base_uri": "https://localhost:8080/"
        },
        "id": "Rr1SYteI4fDl",
        "outputId": "4aa44cea-740c-4ea1-bc7c-93a43edede35"
      },
      "execution_count": null,
      "outputs": [
        {
          "output_type": "stream",
          "name": "stdout",
          "text": [
            "i=0, j=1\n",
            "i=1, j=3\n",
            "i=2, j=5\n",
            "i=3, j=7\n",
            "[1, 4, 3, 16, 5, 36, 7, 64, 9]\n"
          ]
        }
      ]
    },
    {
      "cell_type": "markdown",
      "source": [
        "##딕셔너리와 반복문"
      ],
      "metadata": {
        "id": "htWgIAaG5RqL"
      }
    },
    {
      "cell_type": "code",
      "source": [
        "#딕셔너리 선언\n",
        "dictionary={\n",
        "    'name': '7D 건조 망고',\n",
        "    'type': '당절임',\n",
        "    'ingredient': ['망고', '설탕', '메타중아황산나트륨', '치자황색소'],\n",
        "    'origin': '필리핀'\n",
        "}\n",
        "\n",
        "#for 반복문 사용\n",
        "for key in dictionary:\n",
        "  print(key, \":\", dictionary[key])"
      ],
      "metadata": {
        "colab": {
          "base_uri": "https://localhost:8080/"
        },
        "id": "6x4JyQXZ5YEc",
        "outputId": "eb93fe0c-b91d-4f40-ea0c-2191c3ab37be"
      },
      "execution_count": null,
      "outputs": [
        {
          "output_type": "stream",
          "name": "stdout",
          "text": [
            "name : 7D 건조 망고\n",
            "type : 당절임\n",
            "ingredient : ['망고', '설탕', '메타중아황산나트륨', '치자황색소']\n",
            "origin : 필리핀\n"
          ]
        }
      ]
    },
    {
      "cell_type": "markdown",
      "source": [
        "- 연습문제"
      ],
      "metadata": {
        "id": "ilP6b02J6x2s"
      }
    },
    {
      "cell_type": "code",
      "source": [
        "# 1. 반복문과 print() 조합하기\n",
        "#딕셔너리 선언\n",
        "pets=[\n",
        "    {\"name\":\"구름\", 'age':5},\n",
        "    {\"name\":\"초코\", 'age':3},\n",
        "    {\"name\":\"아지\", 'age':1},\n",
        "    {\"name\":\"호랑이\", 'age':1},\n",
        "]\n",
        "\n",
        "print('애완 동물들')\n",
        "for pet in pets:\n",
        "  print(pet['name'], str(pet['age'])+'살')"
      ],
      "metadata": {
        "colab": {
          "base_uri": "https://localhost:8080/"
        },
        "id": "4QD7gd9D6zPw",
        "outputId": "b88bbf78-7e0e-453f-bc5a-2926d04c7a5a"
      },
      "execution_count": null,
      "outputs": [
        {
          "output_type": "stream",
          "name": "stdout",
          "text": [
            "애완 동물들\n",
            "구름 5살\n",
            "초코 3살\n",
            "아지 1살\n",
            "호랑이 1살\n"
          ]
        }
      ]
    },
    {
      "cell_type": "code",
      "source": [
        "# 2. 몇 번 등장하는지 출력하는 코드 작성\n",
        "numbers=[1,2,6,8,4,3,2,1,9,5,4,9,7,2,1,3,5,4,8,9,7,2,3]\n",
        "counter={}\n",
        "\n",
        "for number in numbers:\n",
        "  if number in counter:\n",
        "    counter[number]=counter[number]+1\n",
        "  else:\n",
        "    counter[number]=1\n",
        "\n",
        "print(counter)"
      ],
      "metadata": {
        "colab": {
          "base_uri": "https://localhost:8080/"
        },
        "id": "fIKYah2l7lfF",
        "outputId": "476f3e79-3d2a-4fd6-ea0a-decc6c2fce67"
      },
      "execution_count": null,
      "outputs": [
        {
          "output_type": "stream",
          "name": "stdout",
          "text": [
            "{1: 3, 2: 4, 6: 1, 8: 2, 4: 3, 3: 3, 9: 3, 5: 2, 7: 2}\n"
          ]
        }
      ]
    },
    {
      "cell_type": "code",
      "source": [
        "# 3. 빈칸 채우기\n",
        "character={\n",
        "    'name':'기사',\n",
        "    'level':12,\n",
        "    'items':{\n",
        "        'sword':'불꽃의 검',\n",
        "        'armor':'풀플레이트'\n",
        "    },\n",
        "    'skill':['베기', '세게 베기', '아주 세게 베기']\n",
        "}\n",
        "\n",
        "#for 반복문 사용\n",
        "for key in character:\n",
        "  if type(character[key]) is dict:\n",
        "    for small_key in character[key]:\n",
        "      print(small_key, \":\", character[key][small_key])\n",
        "  elif type(character[key]) is list:\n",
        "    for item in character[key]:\n",
        "      print(key, \":\", item)\n",
        "  else:\n",
        "    print(key, \":\", character[key])"
      ],
      "metadata": {
        "colab": {
          "base_uri": "https://localhost:8080/"
        },
        "id": "ersVLjwC8Kgs",
        "outputId": "3141c5b8-7a5f-422d-fca0-5f0e30228c04"
      },
      "execution_count": null,
      "outputs": [
        {
          "output_type": "stream",
          "name": "stdout",
          "text": [
            "name : 기사\n",
            "level : 12\n",
            "sword : 불꽃의 검\n",
            "armor : 풀플레이트\n",
            "skill : 베기\n",
            "skill : 세게 베기\n",
            "skill : 아주 세게 베기\n"
          ]
        }
      ]
    },
    {
      "cell_type": "markdown",
      "source": [
        "##범위 자료형과 while 반복문\n",
        "\n",
        "###for 반복문: 리스트와 범위 조합하기"
      ],
      "metadata": {
        "id": "bxV4QQbT9c3K"
      }
    },
    {
      "cell_type": "code",
      "source": [
        "#리스트 선언\n",
        "array=[273, 32, 103, 57, 52]\n",
        "#리스트에 반복문 적용\n",
        "for i in range(len(array)):\n",
        "  print(\"{}번째 반복: {}\".format(i, array[i]))"
      ],
      "metadata": {
        "colab": {
          "base_uri": "https://localhost:8080/"
        },
        "id": "n1NIntHH9gYA",
        "outputId": "d160292d-f7e6-4735-db42-0ca6dcad1990"
      },
      "execution_count": null,
      "outputs": [
        {
          "output_type": "stream",
          "name": "stdout",
          "text": [
            "0번째 반복: 273\n",
            "1번째 반복: 32\n",
            "2번째 반복: 103\n",
            "3번째 반복: 57\n",
            "4번째 반복: 52\n"
          ]
        }
      ]
    },
    {
      "cell_type": "markdown",
      "source": [
        "###중첩 반복문으로 피라미드 만들기"
      ],
      "metadata": {
        "id": "PAM8sM_4-tIt"
      }
    },
    {
      "cell_type": "code",
      "source": [
        "output=\"\"\n",
        "\n",
        "for i in range(1,10):\n",
        "  for j in range(0,i):\n",
        "    output+=\"*\"\n",
        "  output+=\"\\n\"\n",
        "\n",
        "print(output)"
      ],
      "metadata": {
        "colab": {
          "base_uri": "https://localhost:8080/"
        },
        "id": "Ss94UqsM-wnL",
        "outputId": "fbcc81f8-d988-4e53-9f5f-96bb8cfc5ce0"
      },
      "execution_count": null,
      "outputs": [
        {
          "output_type": "stream",
          "name": "stdout",
          "text": [
            "*\n",
            "**\n",
            "***\n",
            "****\n",
            "*****\n",
            "******\n",
            "*******\n",
            "********\n",
            "*********\n",
            "\n"
          ]
        }
      ]
    },
    {
      "cell_type": "code",
      "source": [
        "output=\"\"\n",
        "\n",
        "for i in range(1,15):\n",
        "  for j in range(14,i,-1):\n",
        "    output+=' '\n",
        "  for k in range(0,2*i-1):\n",
        "    output+=\"*\"\n",
        "  output+='\\n'\n",
        "\n",
        "print(output)"
      ],
      "metadata": {
        "colab": {
          "base_uri": "https://localhost:8080/"
        },
        "id": "26aknFQg_WcA",
        "outputId": "4a3f3590-45bd-4323-c374-2a2134b786dd"
      },
      "execution_count": null,
      "outputs": [
        {
          "output_type": "stream",
          "name": "stdout",
          "text": [
            "             *\n",
            "            ***\n",
            "           *****\n",
            "          *******\n",
            "         *********\n",
            "        ***********\n",
            "       *************\n",
            "      ***************\n",
            "     *****************\n",
            "    *******************\n",
            "   *********************\n",
            "  ***********************\n",
            " *************************\n",
            "***************************\n",
            "\n"
          ]
        }
      ]
    },
    {
      "cell_type": "code",
      "source": [
        "output=\"\"\n",
        "\n",
        "for i in range(1,10):\n",
        "  output+=(\"*\"*i)\n",
        "  output+=('\\n')\n",
        "\n",
        "print(output)"
      ],
      "metadata": {
        "colab": {
          "base_uri": "https://localhost:8080/"
        },
        "id": "o-GSi63P_u0n",
        "outputId": "1d679290-6414-45fb-a21f-1f22bf0fcc77"
      },
      "execution_count": null,
      "outputs": [
        {
          "output_type": "stream",
          "name": "stdout",
          "text": [
            "*\n",
            "**\n",
            "***\n",
            "****\n",
            "*****\n",
            "******\n",
            "*******\n",
            "********\n",
            "*********\n",
            "\n"
          ]
        }
      ]
    },
    {
      "cell_type": "markdown",
      "source": [
        "###while 반복문"
      ],
      "metadata": {
        "id": "x1E6xtrr_8-T"
      }
    },
    {
      "cell_type": "code",
      "source": [
        "#기본형태\n",
        "while True:\n",
        "  #\".\"를 출력하자\n",
        "  #기본적으로 end가 \\n이라 줄바꿈이 일어나지만 빈 문자열\"\"로 바꿔서 줄바꿈이 일어나지 않게 하자.\n",
        "  print(\".\", end=\"\")"
      ],
      "metadata": {
        "id": "arpO2ppk_-YW"
      },
      "execution_count": null,
      "outputs": []
    },
    {
      "cell_type": "markdown",
      "source": [
        "- 이 코드는 멈추지 않고 계속 진행될 것임."
      ],
      "metadata": {
        "id": "6jUSJRzbAcKj"
      }
    },
    {
      "cell_type": "markdown",
      "source": [
        "###while 반복문: for 반복문처럼 사용하기"
      ],
      "metadata": {
        "id": "YBIDbyz5Afh2"
      }
    },
    {
      "cell_type": "code",
      "source": [
        "#반복 변수를 기반으로 반복하기\n",
        "i=0\n",
        "while i<10:\n",
        "  print('{}번째 반복입니다.'.format(i))\n",
        "  i+=1"
      ],
      "metadata": {
        "colab": {
          "base_uri": "https://localhost:8080/"
        },
        "id": "wM3i0ptiAjJB",
        "outputId": "dd56b49a-9148-4795-cf8c-795b5e2471fb"
      },
      "execution_count": null,
      "outputs": [
        {
          "output_type": "stream",
          "name": "stdout",
          "text": [
            "0번째 반복입니다.\n",
            "1번째 반복입니다.\n",
            "2번째 반복입니다.\n",
            "3번째 반복입니다.\n",
            "4번째 반복입니다.\n",
            "5번째 반복입니다.\n",
            "6번째 반복입니다.\n",
            "7번째 반복입니다.\n",
            "8번째 반복입니다.\n",
            "9번째 반복입니다.\n"
          ]
        }
      ]
    },
    {
      "cell_type": "markdown",
      "source": [
        "###while 반복문: 상태/시간을 기반으로 반복하기"
      ],
      "metadata": {
        "id": "XWwymKdhA1Lu"
      }
    },
    {
      "cell_type": "code",
      "source": [
        "#변수를 선언\n",
        "list_test=[1,2,1,2]\n",
        "value=2\n",
        "\n",
        "#list_test 내부에 value가 있다면 반복\n",
        "while value in list_test:\n",
        "  list_test.remove(value)\n",
        "\n",
        "print(list_test)"
      ],
      "metadata": {
        "colab": {
          "base_uri": "https://localhost:8080/"
        },
        "id": "GUYUYeFaA4G0",
        "outputId": "61fc1e11-5e70-435c-cd54-2515432360d5"
      },
      "execution_count": null,
      "outputs": [
        {
          "output_type": "stream",
          "name": "stdout",
          "text": [
            "[1, 1]\n"
          ]
        }
      ]
    },
    {
      "cell_type": "code",
      "source": [
        " import time\n",
        " time.time()"
      ],
      "metadata": {
        "colab": {
          "base_uri": "https://localhost:8080/"
        },
        "id": "IhfjqU5jBLGi",
        "outputId": "b8a93eb3-2cda-496f-e35e-d4133c3cbbb5"
      },
      "execution_count": null,
      "outputs": [
        {
          "output_type": "execute_result",
          "data": {
            "text/plain": [
              "1675960320.636709"
            ]
          },
          "metadata": {},
          "execution_count": 29
        }
      ]
    },
    {
      "cell_type": "code",
      "source": [
        "#3초동안 반복해보자\n",
        "\n",
        "#변수 선언\n",
        "number=0\n",
        "\n",
        " #3초동안 반복\n",
        "target_tick=time.time()+3\n",
        "while time.time()<target_tick:\n",
        "   number+=1\n",
        "\n",
        "print(\"3초 동안 {}번 반복했습니다.\".format(number))"
      ],
      "metadata": {
        "colab": {
          "base_uri": "https://localhost:8080/"
        },
        "id": "Xzcp2EA-BQd5",
        "outputId": "d780adc6-88cc-4f6b-8174-46b0f649666c"
      },
      "execution_count": null,
      "outputs": [
        {
          "output_type": "stream",
          "name": "stdout",
          "text": [
            "3초 동안 15714054번 반복했습니다.\n"
          ]
        }
      ]
    },
    {
      "cell_type": "markdown",
      "source": [
        "###while 반복문: break 키워드/continue 키워드"
      ],
      "metadata": {
        "id": "tmCdWeWtBx4t"
      }
    },
    {
      "cell_type": "code",
      "source": [
        "#break\n",
        "\n",
        "#변수 선언\n",
        "i=0\n",
        "\n",
        "while True:\n",
        "  print('{}번째 반복입니다.'.format(i))\n",
        "  i=i+1\n",
        "  #반복 종료\n",
        "  input_text=input(\">종료하시겠습니까? (y/n): \")\n",
        "  if input_text in ['y', 'Y']:\n",
        "    print('반복 중단')\n",
        "    break"
      ],
      "metadata": {
        "colab": {
          "base_uri": "https://localhost:8080/"
        },
        "id": "tEmvoeM-B3CL",
        "outputId": "fb571007-2801-4e68-aed2-2470b06529da"
      },
      "execution_count": null,
      "outputs": [
        {
          "output_type": "stream",
          "name": "stdout",
          "text": [
            "0번째 반복입니다.\n",
            ">종료하시겠습니까? (y/n): n\n",
            "1번째 반복입니다.\n",
            ">종료하시겠습니까? (y/n): n\n",
            "2번째 반복입니다.\n",
            ">종료하시겠습니까? (y/n): n\n",
            "3번째 반복입니다.\n",
            ">종료하시겠습니까? (y/n): y\n",
            "반복 중단\n"
          ]
        }
      ]
    },
    {
      "cell_type": "code",
      "source": [
        "#continue\n",
        "\n",
        "#변수 선언\n",
        "numbers=[5,15,6,20,7,25]\n",
        "\n",
        "#반복하기\n",
        "for number in numbers:\n",
        "  if number<10:\n",
        "    continue\n",
        "  print(number)"
      ],
      "metadata": {
        "colab": {
          "base_uri": "https://localhost:8080/"
        },
        "id": "yE9nDzE1CbBh",
        "outputId": "d565d049-5760-4f1f-b8a0-6b886e9154e3"
      },
      "execution_count": null,
      "outputs": [
        {
          "output_type": "stream",
          "name": "stdout",
          "text": [
            "15\n",
            "20\n",
            "25\n"
          ]
        }
      ]
    },
    {
      "cell_type": "markdown",
      "source": [
        "- 연습문제"
      ],
      "metadata": {
        "id": "DC0tFYzEC8rz"
      }
    },
    {
      "cell_type": "code",
      "source": [
        "# 1. 리스트를 조합해 딕셔너리로 만들어보자\n",
        "key_list=['name', 'hp', 'mp', 'level']\n",
        "value_list=['기사', 200, 30, 5]\n",
        "character={}\n",
        "\n",
        "for i in range(0, len(key_list)):\n",
        "  character[key_list[i]]=value_list[i]\n",
        "  \n",
        "#나의 오답\n",
        "#for key in key_list:\n",
        "#  for value in value_list:\n",
        "#    character[key]=value\n",
        "\n",
        "print(character)"
      ],
      "metadata": {
        "colab": {
          "base_uri": "https://localhost:8080/"
        },
        "id": "h88ujjFhC9oi",
        "outputId": "d2b47575-e142-4f3c-e890-bbc6c56f0142"
      },
      "execution_count": null,
      "outputs": [
        {
          "output_type": "stream",
          "name": "stdout",
          "text": [
            "{'name': '기사', 'hp': 200, 'mp': 30, 'level': 5}\n"
          ]
        }
      ]
    },
    {
      "cell_type": "code",
      "source": [
        "# 2. 1부터 숫자를 하나씩 증가시키며 더하는 경우를 생각하자. 몇을 더할 때 1000을 넘는지 구해보자.\n",
        "limit=1000\n",
        "i=1\n",
        "\n",
        "sum_value=0\n",
        "while sum_value<limit:\n",
        "  sum_value+=i\n",
        "  i+=1\n",
        "\n",
        "print(\"{}를 더할 때 {}를 넘으며 그때 값은 {}이다.\".format(i-1, limit, sum_value))"
      ],
      "metadata": {
        "colab": {
          "base_uri": "https://localhost:8080/"
        },
        "id": "thOlB0oBD24h",
        "outputId": "5b67e3c7-8c39-4ef1-e91d-728f4b59928e"
      },
      "execution_count": null,
      "outputs": [
        {
          "output_type": "stream",
          "name": "stdout",
          "text": [
            "45를 더할 때 1000를 넘으며 그때 값은 1035이다.\n"
          ]
        }
      ]
    },
    {
      "cell_type": "code",
      "source": [
        "# 3. 1부터 100까지의 숫자가 있다. 1*99, 2*98 3*97 ... 을 계산할 때 최대가 되는 경우는 어떤 숫자를 곱했을 때인지 찾자.\n",
        "max_value=0\n",
        "a=0\n",
        "b=0\n",
        "\n",
        "for i in range(1, 100//2+1):\n",
        "  j=100-i\n",
        "\n",
        "  current=i*j\n",
        "  if max_value<current:\n",
        "    a=i\n",
        "    b=j\n",
        "    max_value=current\n",
        "\n",
        "print('최대가 되는 경우: {} * {} = {}'.format(a, b, max_value))"
      ],
      "metadata": {
        "colab": {
          "base_uri": "https://localhost:8080/"
        },
        "id": "T1-ssDSbEgN7",
        "outputId": "3d8b0ab4-f081-4330-d1a1-d9de23bf46fe"
      },
      "execution_count": null,
      "outputs": [
        {
          "output_type": "stream",
          "name": "stdout",
          "text": [
            "최대가 되는 경우: 50 * 50 = 2500\n"
          ]
        }
      ]
    },
    {
      "cell_type": "markdown",
      "source": [
        "###enumerate() 함수와 반복문 조합하기\n",
        "enumerate() : 현재 인덱스가 몇 번째인지 확인하기"
      ],
      "metadata": {
        "id": "ILJPBbTcFohR"
      }
    },
    {
      "cell_type": "code",
      "source": [
        "example_list=[\"요소A\", \"요소B\", \"요소C\"]"
      ],
      "metadata": {
        "id": "ddzhhLhIFz4g"
      },
      "execution_count": null,
      "outputs": []
    },
    {
      "cell_type": "markdown",
      "source": [
        "0번째 요소는 요소A입니다\n",
        "\n",
        "1번째 요소는 요소B입니다\n",
        "\n",
        "2번째 요소는 요소C입니다\n",
        "\n",
        "를 만들고 싶다면?"
      ],
      "metadata": {
        "id": "jdgXApnNF7ay"
      }
    },
    {
      "cell_type": "code",
      "source": [
        "i=0\n",
        "\n",
        "for item in example_list:\n",
        "  print(\"{}번째 요소는 {}입니다\".format(i, item))\n",
        "  i+=1"
      ],
      "metadata": {
        "colab": {
          "base_uri": "https://localhost:8080/"
        },
        "id": "zRv0ftZKGEgN",
        "outputId": "1accda87-39d6-4c03-acba-9b23f9444b53"
      },
      "execution_count": null,
      "outputs": [
        {
          "output_type": "stream",
          "name": "stdout",
          "text": [
            "0번째 요소는 요소A입니다\n",
            "1번째 요소는 요소B입니다\n",
            "2번째 요소는 요소C입니다\n"
          ]
        }
      ]
    },
    {
      "cell_type": "code",
      "source": [
        "for i in range(len(example_list)):\n",
        "  print(\"{}번째 요소는 {}입니다\".format(i, example_list[i]))"
      ],
      "metadata": {
        "colab": {
          "base_uri": "https://localhost:8080/"
        },
        "id": "4gBEme2-GR3x",
        "outputId": "eb6a1901-8785-44ab-83bc-7cc9c77996c0"
      },
      "execution_count": null,
      "outputs": [
        {
          "output_type": "stream",
          "name": "stdout",
          "text": [
            "0번째 요소는 요소A입니다\n",
            "1번째 요소는 요소B입니다\n",
            "2번째 요소는 요소C입니다\n"
          ]
        }
      ]
    },
    {
      "cell_type": "markdown",
      "source": [
        "이렇게 현재 인덱스가 몇 번째인지 확인해야 하는 경우, enumerate() 이용."
      ],
      "metadata": {
        "id": "bFOAe9HPGe1c"
      }
    },
    {
      "cell_type": "code",
      "source": [
        "print(enumerate(example_list))"
      ],
      "metadata": {
        "colab": {
          "base_uri": "https://localhost:8080/"
        },
        "id": "PHa5Al2sGk0y",
        "outputId": "63a53a19-fc7a-4606-b541-bd43fe80c7bc"
      },
      "execution_count": null,
      "outputs": [
        {
          "output_type": "stream",
          "name": "stdout",
          "text": [
            "<enumerate object at 0x7f7e6730fc00>\n"
          ]
        }
      ]
    },
    {
      "cell_type": "code",
      "source": [
        "print('list() 함수로 변환해 출력하면')\n",
        "print(list(enumerate(example_list)))"
      ],
      "metadata": {
        "colab": {
          "base_uri": "https://localhost:8080/"
        },
        "id": "Unji7BUyGrzF",
        "outputId": "6d40d682-6b87-4729-f6c1-a3219c011c65"
      },
      "execution_count": null,
      "outputs": [
        {
          "output_type": "stream",
          "name": "stdout",
          "text": [
            "list() 함수로 변환해 출력하면\n",
            "[(0, '요소A'), (1, '요소B'), (2, '요소C')]\n"
          ]
        }
      ]
    },
    {
      "cell_type": "code",
      "source": [
        "print('반복문과 조합하면')\n",
        "for i, value in enumerate(example_list):\n",
        "  print('{}번째 요소는 {}입니다'.format(i, value))"
      ],
      "metadata": {
        "colab": {
          "base_uri": "https://localhost:8080/"
        },
        "id": "xRsBkFtxG3PL",
        "outputId": "f4f57786-e65e-4d1e-f607-a6fb6c80b21a"
      },
      "execution_count": null,
      "outputs": [
        {
          "output_type": "stream",
          "name": "stdout",
          "text": [
            "반복문과 조합하면\n",
            "0번째 요소는 요소A입니다\n",
            "1번째 요소는 요소B입니다\n",
            "2번째 요소는 요소C입니다\n"
          ]
        }
      ]
    },
    {
      "cell_type": "markdown",
      "source": [
        "###리스트 내포 (반복문 사용해 리스트 재조합)"
      ],
      "metadata": {
        "id": "Q1_CnQl0HRzO"
      }
    },
    {
      "cell_type": "code",
      "source": [
        "array=[]\n",
        "\n",
        "for i in range(0,20,2):\n",
        "  array.append(i*i)\n",
        "\n",
        "print(array)"
      ],
      "metadata": {
        "colab": {
          "base_uri": "https://localhost:8080/"
        },
        "id": "_SOIgWITHVCj",
        "outputId": "d5afcc22-dfe5-4aed-86e9-08e2c10f27c9"
      },
      "execution_count": null,
      "outputs": [
        {
          "output_type": "stream",
          "name": "stdout",
          "text": [
            "[0, 4, 16, 36, 64, 100, 144, 196, 256, 324]\n"
          ]
        }
      ]
    },
    {
      "cell_type": "code",
      "source": [
        "#같은 결과 내는\n",
        "array=[i*i for i in range(0,20,2)]\n",
        "print(array)"
      ],
      "metadata": {
        "colab": {
          "base_uri": "https://localhost:8080/"
        },
        "id": "0eJy5DWrHdfb",
        "outputId": "359c3f5a-e8f9-46f4-f26b-15275974296b"
      },
      "execution_count": null,
      "outputs": [
        {
          "output_type": "stream",
          "name": "stdout",
          "text": [
            "[0, 4, 16, 36, 64, 100, 144, 196, 256, 324]\n"
          ]
        }
      ]
    },
    {
      "cell_type": "code",
      "source": [
        "array=['사과', '자두', '초콜릿', '바나나', '체리']\n",
        "output=[fruit for fruit in array if fruit!='초콜릿']\n",
        "print(output)"
      ],
      "metadata": {
        "colab": {
          "base_uri": "https://localhost:8080/"
        },
        "id": "s0lENa2lHmTX",
        "outputId": "e46c1a1e-c4a0-420b-e204-fb50ac9de2f4"
      },
      "execution_count": null,
      "outputs": [
        {
          "output_type": "stream",
          "name": "stdout",
          "text": [
            "['사과', '자두', '바나나', '체리']\n"
          ]
        }
      ]
    },
    {
      "cell_type": "markdown",
      "source": [
        "- 연습문제"
      ],
      "metadata": {
        "id": "vlpk0ElHIbgK"
      }
    },
    {
      "cell_type": "code",
      "source": [
        "# 1. 진수 변환 코드 이용해 1~100 사이의 숫자 중 2진수로 변환했을 때 0이 하나만 포함된 숫자를 찾고, 그 숫자들의 합을 구하는 코드를 만들어보자.\n",
        "output=[i for i in range(1, 101) if \"{:b}\".format(i).count(\"0\")==1]\n",
        "\n",
        "for i in output:\n",
        "  print(\"{} : {}\".format(i, \"{:b}\".format(i)))\n",
        "print('합계:', sum(output))"
      ],
      "metadata": {
        "colab": {
          "base_uri": "https://localhost:8080/"
        },
        "id": "Dw_f-voZHmOW",
        "outputId": "f8a20d77-d240-4584-8200-fb8b14db18cd"
      },
      "execution_count": null,
      "outputs": [
        {
          "output_type": "stream",
          "name": "stdout",
          "text": [
            "2 : 10\n",
            "5 : 101\n",
            "6 : 110\n",
            "11 : 1011\n",
            "13 : 1101\n",
            "14 : 1110\n",
            "23 : 10111\n",
            "27 : 11011\n",
            "29 : 11101\n",
            "30 : 11110\n",
            "47 : 101111\n",
            "55 : 110111\n",
            "59 : 111011\n",
            "61 : 111101\n",
            "62 : 111110\n",
            "95 : 1011111\n",
            "합계: 539\n"
          ]
        }
      ]
    },
    {
      "cell_type": "markdown",
      "source": [
        "- 도전문제"
      ],
      "metadata": {
        "id": "1xKgWwUuJK5E"
      }
    },
    {
      "cell_type": "code",
      "source": [
        "# 1. 숫자의 종류\n",
        "# 다음 리스트에서 몇 가지 종류의 숫자가 사용되었는지 구하는 프로그램을 만들어 보세요. 1, 2, 3, 4가 사용되었으므로 4개가 사용되었다고 출력하면 된다.\n",
        "# [1,2,3,4,1,2,3,1,4,1,2,3]\n",
        "\n",
        "num=[1,2,3,4,1,2,3,1,4,1,2,3]\n",
        "dic={}\n",
        "\n",
        "for i in num:\n",
        "  if i in dic:\n",
        "    dic[i]+=1\n",
        "  else:\n",
        "    dic[i]=1\n",
        "\n",
        "dic"
      ],
      "metadata": {
        "colab": {
          "base_uri": "https://localhost:8080/"
        },
        "id": "oQcNZ_iuB9vz",
        "outputId": "e10e772f-8bd7-46bd-b257-6892f151b799"
      },
      "execution_count": 2,
      "outputs": [
        {
          "output_type": "execute_result",
          "data": {
            "text/plain": [
              "{1: 4, 2: 3, 3: 3, 4: 2}"
            ]
          },
          "metadata": {},
          "execution_count": 2
        }
      ]
    },
    {
      "cell_type": "code",
      "source": [
        "print('[1,2,3,4,1,2,3,1,4,1,2,3]에서\\n사용된 숫자의 종류는 {}개입니다.'.format(len(dic)))"
      ],
      "metadata": {
        "colab": {
          "base_uri": "https://localhost:8080/"
        },
        "id": "71zu-G8sC0g1",
        "outputId": "e57cb0a0-038d-45dd-85b3-61aac607d645"
      },
      "execution_count": 6,
      "outputs": [
        {
          "output_type": "stream",
          "name": "stdout",
          "text": [
            "[1,2,3,4,1,2,3,1,4,1,2,3]에서\n",
            "사용된 숫자의 종류는 4개입니다.\n"
          ]
        }
      ]
    },
    {
      "cell_type": "code",
      "source": [
        "# 2. 염기의 개수\n",
        "# 염기서열을 입력했을 때 각각의 염기가 몇 개 포함되어 있는지 세는 프로그램을 구현해보세요.\n",
        "# ctacaatgtcagtatacccattgcattagccgg\n",
        "\n",
        "nucleos=input('염기 서열을 입력해주세요:')\n",
        "counter={\n",
        "    \"a\":0,\n",
        "    \"t\":0,\n",
        "    \"c\":0,\n",
        "    \"g\":0\n",
        "}\n",
        "\n",
        "for nucleo in nucleos:\n",
        "  counter[nucleo]+=1\n",
        "\n",
        "for key in counter:\n",
        "  print(f'{key}의 개수: {counter[key]}')"
      ],
      "metadata": {
        "colab": {
          "base_uri": "https://localhost:8080/"
        },
        "id": "8loYknwuDXom",
        "outputId": "1e1740b7-d494-4686-8866-737575046b7f"
      },
      "execution_count": 7,
      "outputs": [
        {
          "output_type": "stream",
          "name": "stdout",
          "text": [
            "염기 서열을 입력해주세요:ctacaatgtcagtatacccattgcattagccgg\n",
            "a의 개수: 9\n",
            "t의 개수: 9\n",
            "c의 개수: 9\n",
            "g의 개수: 6\n"
          ]
        }
      ]
    },
    {
      "cell_type": "markdown",
      "source": [
        "###람다"
      ],
      "metadata": {
        "id": "__qOzqw0Exe5"
      }
    },
    {
      "cell_type": "code",
      "source": [
        "# 우선 map()과 filter() 함수를 보자\n",
        "\n",
        "#함수를 선언\n",
        "def power(item):\n",
        "  return item*item\n",
        "def under_3(item):\n",
        "  return item<3\n",
        "\n",
        "#변수 선언\n",
        "list_input_a=[1,2,3,4,5]\n",
        "\n",
        "#map() 함수 사용\n",
        "output_a=map(power, list_input_a)\n",
        "print('#map() 함수 실행 결과')\n",
        "print('map(power, list_input_a):', output_a)\n",
        "print('map(power, list_input_a):', list(output_a))"
      ],
      "metadata": {
        "colab": {
          "base_uri": "https://localhost:8080/"
        },
        "id": "GhmgjwuEFEZe",
        "outputId": "bba86de2-9d2d-47d3-9018-3e829450f16b"
      },
      "execution_count": 8,
      "outputs": [
        {
          "output_type": "stream",
          "name": "stdout",
          "text": [
            "#map() 함수 실행 결과\n",
            "map(power, list_input_a): <map object at 0x7f5c33cebc70>\n",
            "map(power, list_input_a): [1, 4, 9, 16, 25]\n"
          ]
        }
      ]
    },
    {
      "cell_type": "code",
      "source": [
        "#filter() 함수 사용\n",
        "output_b=filter(under_3, list_input_a)\n",
        "print('#filter() 함수 실행 결과')\n",
        "print('filter(under_3, list_input_a):', output_b)\n",
        "print('filter(under_3, list_input_a):', list(output_b))"
      ],
      "metadata": {
        "colab": {
          "base_uri": "https://localhost:8080/"
        },
        "id": "sKuYLypdFu1O",
        "outputId": "d1807da6-2945-4777-c7ac-9142cd6b5f6c"
      },
      "execution_count": 9,
      "outputs": [
        {
          "output_type": "stream",
          "name": "stdout",
          "text": [
            "#filter() 함수 실행 결과\n",
            "filter(under_3, list_input_a): <filter object at 0x7f5c33ceb850>\n",
            "filter(under_3, list_input_a): [1, 2]\n"
          ]
        }
      ]
    },
    {
      "cell_type": "code",
      "source": [
        "# 이제 람다를 보자\n",
        "\n",
        "# 함수 선언\n",
        "power=lambda x: x*x\n",
        "under_d=lambda x: x<3\n",
        "\n",
        "#변수 선언\n",
        "list_input_a=[1,2,3,4,5]\n",
        "\n",
        "#map() 함수 사용\n",
        "output_a=map(power, list_input_a)\n",
        "print('#map() 함수 실행 결과')\n",
        "print('map(power, list_input_a):', output_a)\n",
        "print('map(power, list_input_a):', list(output_a))"
      ],
      "metadata": {
        "colab": {
          "base_uri": "https://localhost:8080/"
        },
        "id": "ydixPUGLGDJt",
        "outputId": "e82be2b3-2c22-48da-d48b-e61f9492fb34"
      },
      "execution_count": 10,
      "outputs": [
        {
          "output_type": "stream",
          "name": "stdout",
          "text": [
            "#map() 함수 실행 결과\n",
            "map(power, list_input_a): <map object at 0x7f5c33c07a30>\n",
            "map(power, list_input_a): [1, 4, 9, 16, 25]\n"
          ]
        }
      ]
    },
    {
      "cell_type": "code",
      "source": [
        "#filter() 함수 사용\n",
        "output_b=filter(under_3, list_input_a)\n",
        "print('#filter() 함수 실행 결과')\n",
        "print('filter(under_3, list_input_a):', output_b)\n",
        "print('filter(under_3, list_input_a):', list(output_b))"
      ],
      "metadata": {
        "colab": {
          "base_uri": "https://localhost:8080/"
        },
        "id": "l15ptHzaGQE5",
        "outputId": "6849b4c3-482a-40cf-fbbd-80d13e04cfe5"
      },
      "execution_count": 11,
      "outputs": [
        {
          "output_type": "stream",
          "name": "stdout",
          "text": [
            "#filter() 함수 실행 결과\n",
            "filter(under_3, list_input_a): <filter object at 0x7f5c33c07160>\n",
            "filter(under_3, list_input_a): [1, 2]\n"
          ]
        }
      ]
    },
    {
      "cell_type": "markdown",
      "source": [
        "- 생각보다 복잡한데. 코드를 변경해보자.\n",
        "- 사실 람다는 함수의 매개변수에 곧바로 넣을 수 있다"
      ],
      "metadata": {
        "id": "vGBJuToBGVLw"
      }
    },
    {
      "cell_type": "code",
      "source": [
        "##변수 선언\n",
        "list_input_a=[1,2,3,4,5]\n",
        "\n",
        "#map() 함수 사용\n",
        "output_a=map(lambda x:x*x, list_input_a) #이렇게 이 자리에 바로 넣기 가능\n",
        "print('#map() 함수 실행 결과')\n",
        "print('map(power, list_input_a):', output_a)\n",
        "print('map(power, list_input_a):', list(output_a))"
      ],
      "metadata": {
        "colab": {
          "base_uri": "https://localhost:8080/"
        },
        "id": "E7l6XzpPGcCt",
        "outputId": "d00ebdaa-41a9-4ba6-d39e-7fa3b765b154"
      },
      "execution_count": 12,
      "outputs": [
        {
          "output_type": "stream",
          "name": "stdout",
          "text": [
            "#map() 함수 실행 결과\n",
            "map(power, list_input_a): <map object at 0x7f5c33c07970>\n",
            "map(power, list_input_a): [1, 4, 9, 16, 25]\n"
          ]
        }
      ]
    },
    {
      "cell_type": "code",
      "source": [
        "#filter() 함수 사용\n",
        "output_b=filter(lambda x: x<3, list_input_a) #여기도 바로 넣기 가능\n",
        "print('#filter() 함수 실행 결과')\n",
        "print('filter(under_3, list_input_a):', output_b)\n",
        "print('filter(under_3, list_input_a):', list(output_b))"
      ],
      "metadata": {
        "colab": {
          "base_uri": "https://localhost:8080/"
        },
        "id": "FktnlI95Gosp",
        "outputId": "19dbf318-eabd-4d9d-fded-b19795104b18"
      },
      "execution_count": 13,
      "outputs": [
        {
          "output_type": "stream",
          "name": "stdout",
          "text": [
            "#filter() 함수 실행 결과\n",
            "filter(under_3, list_input_a): <filter object at 0x7f5c5c065d90>\n",
            "filter(under_3, list_input_a): [1, 2]\n"
          ]
        }
      ]
    }
  ]
}
