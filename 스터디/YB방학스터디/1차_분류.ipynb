{
  "nbformat": 4,
  "nbformat_minor": 0,
  "metadata": {
    "colab": {
      "provenance": [],
      "collapsed_sections": [
        "LPk54ZiC4nob",
        "m3QUXgwZ4pt1",
        "r2-pDHz88t3-"
      ],
      "authorship_tag": "ABX9TyPsq25+fLas0tVL8KYJM549",
      "include_colab_link": true
    },
    "kernelspec": {
      "name": "python3",
      "display_name": "Python 3"
    },
    "language_info": {
      "name": "python"
    }
  },
  "cells": [
    {
      "cell_type": "markdown",
      "metadata": {
        "id": "view-in-github",
        "colab_type": "text"
      },
      "source": [
        "<a href=\"https://colab.research.google.com/github/nyoons/ESAA/blob/main/%EC%8A%A4%ED%84%B0%EB%94%94_1%EC%B0%A8_%EB%B6%84%EB%A5%98.ipynb\" target=\"_parent\"><img src=\"https://colab.research.google.com/assets/colab-badge.svg\" alt=\"Open In Colab\"/></a>"
      ]
    },
    {
      "cell_type": "markdown",
      "source": [
        "#분류"
      ],
      "metadata": {
        "id": "HUBNJ2qV4OJ8"
      }
    },
    {
      "cell_type": "markdown",
      "source": [
        "##01. 분류의 개요\n",
        "배깅 - 랜덤 포레스트\n",
        "\n",
        "부스팅 - 그래디언트 부스팅, XGB, LGBM"
      ],
      "metadata": {
        "id": "sw1xM_qo9Hq2"
      }
    },
    {
      "cell_type": "markdown",
      "source": [
        "##02. 결정 트리\n",
        "\n",
        "쉽고 직관적, 사전 가공 영향도가 크지 않음\n",
        "\n",
        "하지만 과적합으로 성능 떨어짐. 트리의 크기를 사전에 제한하는 튜닝 필요.\n",
        "\n",
        "DecisionTreeClassifier의 파라미터\n",
        "- min_samples_split : 노드 분할하기 위한 최소한의 샘플 데이터 수, 과적합 제어\n",
        "- min_samples_leaf : 말단 노드가 되기 위한 최소한의 샘플 데이터 수\n",
        "- max_features : 최적의 분할을 위해 고려할 최대 피처 수, 디폴트는 모든 피처\n",
        "- max_depth\n",
        "- max_leaf_nodes"
      ],
      "metadata": {
        "id": "1GNFX8--4dFL"
      }
    },
    {
      "cell_type": "markdown",
      "source": [
        "###결정 트리 실습 - 사용자 행동 인식 데이터 세트\n",
        "피처명 보니 인체의 움직임과 관련된 속성의 평균/표준편차가 x,y,z축 값으로 되어 있음."
      ],
      "metadata": {
        "id": "Mv37j5zI9B6M"
      }
    },
    {
      "cell_type": "code",
      "source": [
        "#중복되는 피처명을 _1, _2 처리하는 함수 생성\n",
        "def get_new_feature_name_df(old_feature_name_df):\n",
        "  feature_dup_df=pd.DataFrame(data=old_feature_name_df.groupby('column_name').cumcount(), columns=['dup_cnt'])\n",
        "  feature_dup_df=feature_dup_df.reset_index()\n",
        "  new_feature_name_df=pd.merge(old_feature_name_df.reset_index(), feature_dup_df, how='outer')\n",
        "  new_feature_name_df['column_name']=new_feature_name_df[['column_name', 'dup_cnt']].apply(lambda x : x[0]+'_'+str(x[1]) if x[1]>0 else x[0], axis=1)\n",
        "  new_feature_name_df=new_feature_name_df.drop(['index'], axis=1)\n",
        "  return new_feature_name_df"
      ],
      "metadata": {
        "id": "DQ-zfI7p6IOx"
      },
      "execution_count": null,
      "outputs": []
    },
    {
      "cell_type": "code",
      "source": [
        "#get_humans_dataset() 정의\n",
        "import pandas as pd\n",
        "\n",
        "def get_human_dataset():\n",
        "  feature_name_df=pd.read_csv('features.txt', sep='\\s+', header=None, names=['column_index', 'column_name'])\n",
        "  new_feature_name_df=get_new_feature_name_df(feature_name_df)\n",
        "  feature_name=new_feature_name_df.iloc[:,1].values.tolist()\n",
        "  X_train=pd.read_csv('X_train.txt', sep='\\s+', names=feature_name)\n",
        "  X_test=pd.read_csv('X_test.txt', sep='\\s+', names=feature_name)\n",
        "  y_train=pd.read_csv('y_train.txt', sep='\\s+', header=None, names=['action'])\n",
        "  y_test=pd.read_csv('y_test.txt', sep='\\s+', header=None, names=['action'])\n",
        "  return X_train, X_test, y_train, y_test\n",
        "\n",
        "X_train, X_test, y_train, y_test=get_human_dataset()"
      ],
      "metadata": {
        "id": "D8acsgQN9Wpb"
      },
      "execution_count": null,
      "outputs": []
    },
    {
      "cell_type": "code",
      "source": [
        "#피처가 모두 숫자형이라 별도의 카테고리 인코딩은 필요 없다.\n",
        "\n",
        "#동작 예측 분류 수행해보자.\n",
        "#먼저 하이퍼 파라미터는 모두 디폴트로 수행하고, 이때의 하이퍼 파라미터 값을 추출해보자.\n",
        "from sklearn.tree import DecisionTreeClassifier\n",
        "from sklearn.metrics import accuracy_score\n",
        "\n",
        "dt_clf=DecisionTreeClassifier(random_state=156)\n",
        "dt_clf.fit(X_train, y_train)\n",
        "pred=dt_clf.predict(X_test)\n",
        "accuracy=accuracy_score(y_test, pred)\n",
        "print('결정 트리 예측 정확도: {0:.4f}'.format(accuracy))\n",
        "\n",
        "#하이퍼 파라미터 추출\n",
        "print('결정 트리의 기본 하이퍼 파라미터:\\n', dt_clf.get_params())"
      ],
      "metadata": {
        "colab": {
          "base_uri": "https://localhost:8080/"
        },
        "id": "gDGaeHef-pTF",
        "outputId": "b06598c1-ccaf-4712-a033-da233f340e80"
      },
      "execution_count": null,
      "outputs": [
        {
          "output_type": "stream",
          "name": "stdout",
          "text": [
            "결정 트리 예측 정확도: 0.8548\n",
            "결정 트리의 기본 하이퍼 파라미터:\n",
            " {'ccp_alpha': 0.0, 'class_weight': None, 'criterion': 'gini', 'max_depth': None, 'max_features': None, 'max_leaf_nodes': None, 'min_impurity_decrease': 0.0, 'min_samples_leaf': 1, 'min_samples_split': 2, 'min_weight_fraction_leaf': 0.0, 'random_state': 156, 'splitter': 'best'}\n"
          ]
        }
      ]
    },
    {
      "cell_type": "code",
      "source": [
        "#트리 깊이가 주는 영향을 보자. max_depth.\n",
        "from sklearn.model_selection import GridSearchCV\n",
        "\n",
        "params={'max_depth':[6,8,10,12,16,20,24]}\n",
        "grid_cv=GridSearchCV(dt_clf, param_grid=params, scoring='accuracy', cv=5, verbose=1)\n",
        "grid_cv.fit(X_train, y_train)\n",
        "print('GridSearchCV 최고 평균 정확도 수치: {0:.4f}'.format(grid_cv.best_score_))\n",
        "print('GridSearchCV 최적 하이퍼 파라미터:', grid_cv.best_params_)"
      ],
      "metadata": {
        "colab": {
          "base_uri": "https://localhost:8080/"
        },
        "id": "N-eo2oLY_glW",
        "outputId": "e361059f-5d46-4f4d-c372-a88191588e13"
      },
      "execution_count": null,
      "outputs": [
        {
          "output_type": "stream",
          "name": "stdout",
          "text": [
            "Fitting 5 folds for each of 7 candidates, totalling 35 fits\n",
            "GridSearchCV 최고 평균 정확도 수치: 0.8513\n",
            "GridSearchCV 최적 하이퍼 파라미터: {'max_depth': 16}\n"
          ]
        }
      ]
    },
    {
      "cell_type": "markdown",
      "source": [
        "- 트리 깊이가 주는 영향 : 깊어진 트리는 학습 데이터 세트에는 올바른 예측 결과를 가져오나, 검증 데이터 세트에는 과적합으로 성능 저하 유발"
      ],
      "metadata": {
        "id": "ZgK_sR9GAjzh"
      }
    },
    {
      "cell_type": "code",
      "source": [
        "#이제는 max_depth와 min_samples_split을 같이 변경하며 정확도 성능 튜닝\n",
        "params={'max_depth':[8,12,16,20], 'min_samples_split':[16,24]}\n",
        "\n",
        "grid_cv=GridSearchCV(dt_clf, param_grid=params, scoring='accuracy', cv=5, verbose=1)\n",
        "grid_cv.fit(X_train, y_train)\n",
        "print('GridSearchCV 최고 평균 정확도 수치: {0:.4f}'.format(grid_cv.best_score_))\n",
        "print('GridSearchCV 최적 하이퍼 파라미터:', grid_cv.best_params_)"
      ],
      "metadata": {
        "colab": {
          "base_uri": "https://localhost:8080/"
        },
        "id": "h8WKAVL5A_Fa",
        "outputId": "953ae2dd-a3a4-433f-8e42-9bf26b29dc67"
      },
      "execution_count": null,
      "outputs": [
        {
          "output_type": "stream",
          "name": "stdout",
          "text": [
            "Fitting 5 folds for each of 8 candidates, totalling 40 fits\n",
            "GridSearchCV 최고 평균 정확도 수치: 0.8549\n",
            "GridSearchCV 최적 하이퍼 파라미터: {'max_depth': 8, 'min_samples_split': 16}\n"
          ]
        }
      ]
    },
    {
      "cell_type": "markdown",
      "source": [
        "- 디폴트일 때 보다 max_depth와 min_samples_split 하이퍼 파라미터 최적화를 통해 성능 향상 가능"
      ],
      "metadata": {
        "id": "rr2YZywLCCqB"
      }
    },
    {
      "cell_type": "markdown",
      "source": [
        "##03. 앙상블 학습\n",
        "- 보팅 : 투표를 통해, 일반적으로 서로 다른 알고리즘 결합\n",
        "- 배깅 : 투표를 통해, 같은 분류기지만 데이터 샘플링 다른 학습, 랜덤포레스트\n",
        "- 부스팅 : 여러개 분류기가 순차적 학습, 가중치 부여\n",
        "\n",
        "-\n",
        "\n",
        "- 하드 보팅 : 다수결\n",
        "- 소프트 보팅 : 모두 더해 평균, 일반적!"
      ],
      "metadata": {
        "id": "_3ZTQ0274hLj"
      }
    },
    {
      "cell_type": "markdown",
      "source": [
        "##04. 랜덤 포레스트\n",
        "배깅이지만 개별 트리가 학습하는 데이터를 일부가 중첩되게 샘플링함 = 부트스트래핑\n",
        "\n",
        "단점 : 하이퍼 파라미터 많고, 튜닝 시간이 많이 소모된다는 것"
      ],
      "metadata": {
        "id": "rv-lQfDu4jah"
      }
    },
    {
      "cell_type": "markdown",
      "source": [
        "###랜덤 포레스트 실습 - 사용자 행동 인식 데이터 세트"
      ],
      "metadata": {
        "id": "umdyDr_088yK"
      }
    },
    {
      "cell_type": "code",
      "source": [
        "from sklearn.ensemble import RandomForestClassifier\n",
        "from sklearn.metrics import accuracy_score\n",
        "import pandas as pd\n",
        "import warnings\n",
        "warnings.filterwarnings('ignore')\n",
        "\n",
        "X_train, X_test, y_train, y_test=get_human_dataset()\n",
        "\n",
        "rf_clf=RandomForestClassifier(random_state=0)\n",
        "rf_clf.fit(X_train, y_train)\n",
        "pred=rf_clf.predict(X_test)\n",
        "accuracy=accuracy_score(y_test, pred)\n",
        "print('랜덤 포레스트 정확도: {0:.4f}'.format(accuracy))"
      ],
      "metadata": {
        "colab": {
          "base_uri": "https://localhost:8080/"
        },
        "id": "nB8IYm76DpL8",
        "outputId": "a9b6464f-1d71-4597-bade-89510bb7155c"
      },
      "execution_count": null,
      "outputs": [
        {
          "output_type": "stream",
          "name": "stdout",
          "text": [
            "랜덤 포레스트 정확도: 0.9253\n"
          ]
        }
      ]
    },
    {
      "cell_type": "markdown",
      "source": [
        "- 결정 트리보다 확실히 좋다!"
      ],
      "metadata": {
        "id": "jgJsM_sJEUAL"
      }
    },
    {
      "cell_type": "code",
      "source": [
        "#랜덤 포레스트의 하이퍼 파라미터 튜닝 진행해보자\n",
        "#시간 절약 위해 n_estimators=100, cv=2로 먼저 진행\n",
        "from sklearn.model_selection import GridSearchCV\n",
        "\n",
        "params={'n_estimators':[100], 'max_depth':[6,8,10,12], 'min_samples_leaf':[8,12,18], 'min_samples_split':[8,16,20]}\n",
        "\n",
        "rf_clf=RandomForestClassifier(random_state=0, n_jobs=-1)\n",
        "grid_cv=GridSearchCV(rf_clf, param_grid=params, cv=2, n_jobs=-1)\n",
        "grid_cv.fit(X_train, y_train)\n",
        "\n",
        "print('최적 하이퍼 파라미터:\\n', grid_cv.best_params_)\n",
        "print('최고 예측 정확도: {0:.4f}'.format(grid_cv.best_score_))"
      ],
      "metadata": {
        "colab": {
          "base_uri": "https://localhost:8080/"
        },
        "id": "COgJvI6DEXMx",
        "outputId": "243a198f-d2f2-43b6-f07d-f1cc9427660d"
      },
      "execution_count": null,
      "outputs": [
        {
          "output_type": "stream",
          "name": "stdout",
          "text": [
            "최적 하이퍼 파라미터:\n",
            " {'max_depth': 10, 'min_samples_leaf': 8, 'min_samples_split': 8, 'n_estimators': 100}\n",
            "최고 예측 정확도: 0.9180\n"
          ]
        }
      ]
    },
    {
      "cell_type": "code",
      "source": [
        "#n_estimators 높이고 최적화 하이퍼 파라미터로 적용해보자\n",
        "rf_clf1=RandomForestClassifier(n_estimators=300, max_depth=10, min_samples_leaf=8, min_samples_split=8, random_state=0)\n",
        "rf_clf1.fit(X_train, y_train)\n",
        "pred=rf_clf1.predict(X_test)\n",
        "print('예측 정확도: {0:.4f}'.format(accuracy_score(y_test, pred)))"
      ],
      "metadata": {
        "colab": {
          "base_uri": "https://localhost:8080/"
        },
        "id": "0a2716ifFlqT",
        "outputId": "cf0c8aa4-8f06-420e-9dd8-176ac12999ab"
      },
      "execution_count": null,
      "outputs": [
        {
          "output_type": "stream",
          "name": "stdout",
          "text": [
            "예측 정확도: 0.9165\n"
          ]
        }
      ]
    },
    {
      "cell_type": "markdown",
      "source": [
        "##05. GBM\n",
        "\n",
        "###GBM 실습 - 사용자 행동 인식 데이터 세트"
      ],
      "metadata": {
        "id": "-ZER7Waa4lHN"
      }
    },
    {
      "cell_type": "code",
      "source": [
        "#from sklearn.ensemble import GradientBoostingClassifier\n",
        "#import time\n",
        "#import warnings\n",
        "#warnings.filterwarnings('ignore')\n",
        "\n",
        "#X_train,X_test, y_train, y_test=get_human_dataset()\n",
        "\n",
        "#GBM 사용 시 수행시간이 얼마나 걸리는지도 보자\n",
        "#start_time=time.time()\n",
        "\n",
        "#gb_clf=GradientBoostingClassifier(random_state=0)\n",
        "#gb_clf.fit(X_train, y_train)\n",
        "#gb_pred=gb_clf.predict(X_test)\n",
        "#gb_accuracy=accuracy_score(y_test, gb_pred)\n",
        "\n",
        "#print('GBM 정확도: {0:.4f}'.format(gb_accuracy))\n",
        "#print('GBM 수행 시간: {0:.1f}초'.format(time.time()-start_time()))"
      ],
      "metadata": {
        "id": "z_bRgok4Habl"
      },
      "execution_count": null,
      "outputs": []
    },
    {
      "cell_type": "markdown",
      "source": [
        "- 시간이 너무 오래 걸려 # 처리.\n",
        "- 교재에 따르면 랜덤 포레스트보다 조금 나은 성능! 일반적으로는 GBM이 랜덤 포레스트보다 낫다.\n",
        "- 그러나 수행 시간, 하이퍼 파라미터 튜닝 노력이라는 단점... 특히 수행시간이 오래걸림."
      ],
      "metadata": {
        "id": "yEmmepeoIYnO"
      }
    },
    {
      "cell_type": "code",
      "source": [
        "#하이퍼 파라미터 최적화해보자.\n",
        "\n",
        "#from sklearn.model_selection import GridSearchCV\n",
        "\n",
        "#parmas={'n_estimatiors':[100,500], 'learning_rate':[0.05, 0.1]}\n",
        "\n",
        "#grid_cv=GridSearchCV(gb_clf, param_grid=params, cv=2, verbose=1)\n",
        "#grid_cv.fit(X_train, y_train)\n",
        "#print('최적 하이퍼 파라미터:\\n', grid_cv.best_params_)\n",
        "#print('최고 예측 정확도: {0:.4f}'.format(grid_cv.best_score_))"
      ],
      "metadata": {
        "id": "mx0oIb2MJTXV"
      },
      "execution_count": null,
      "outputs": []
    },
    {
      "cell_type": "markdown",
      "source": [
        "- 수행 시간이 너무 오래 걸려 우선 # 처리\n",
        "- 교재에 따르면 learning_rate=0.05, n_estimators=500일 때 정확도가 90.1%로 최고.\n",
        "- GBM은 확실히 성능은 좋지만 시간이 문제이다."
      ],
      "metadata": {
        "id": "DnrzvOL5J77E"
      }
    },
    {
      "cell_type": "markdown",
      "source": [
        "##06. XGBoost\n",
        "\n",
        "앞에서 봤듯 GBM은 시간이 너무 오래 걸림. 따라서 GBM 기반의 알고리즘들이 많이 만들어지고 있는데 그 중 각광 받는 두 가지 패키지가 XGB와 LGBM.\n",
        "\n",
        "특히 XGB는 GBM의 느린 수행 시간과 과적합 규제 부재 등의 문제를 해결했다.\n",
        "\n",
        "초기의 독자적 XGBoost 기반의 XGB는 파이썬 래퍼 XGB 모듈, 사이킷런과 연동되는 모듈은 사이킷런 래퍼 XGB 모듈이라고 지칭. "
      ],
      "metadata": {
        "id": "LPk54ZiC4nob"
      }
    },
    {
      "cell_type": "markdown",
      "source": [
        "###XGB 실습 - 위스콘신 유방암 예측"
      ],
      "metadata": {
        "id": "iK-GUI-K8373"
      }
    },
    {
      "cell_type": "code",
      "source": [
        "import xgboost as xgb #이게 사이킷런 아니고 파이썬 래퍼 XGB 방식\n",
        "from xgboost import plot_importance #xgboost 패키지는 피처 중요도 시각화해주는 모듈도 제공한다!\n",
        "import pandas as pd\n",
        "import numpy as np\n",
        "from sklearn.datasets import load_breast_cancer\n",
        "from sklearn.model_selection import train_test_split\n",
        "import warnings\n",
        "warnings.filterwarnings('ignore')\n",
        "\n",
        "dataset=load_breast_cancer()\n",
        "X_features=dataset.data\n",
        "y_label=dataset.target\n",
        "\n",
        "cancer_df=pd.DataFrame(data=X_features, columns=dataset.feature_names)\n",
        "cancer_df['target']=y_label"
      ],
      "metadata": {
        "id": "0Cy-XeeqytY7"
      },
      "execution_count": null,
      "outputs": []
    },
    {
      "cell_type": "markdown",
      "source": [
        "- 기본적으로 살펴보기에 악성과 양성이 아주 비대칭적이지는 않은 것 같다."
      ],
      "metadata": {
        "id": "X3uLnBHWzbrT"
      }
    },
    {
      "cell_type": "code",
      "source": [
        "X_train, X_test, y_train, y_test=train_test_split(X_features, y_label, test_size=0.2, random_state=156)"
      ],
      "metadata": {
        "id": "-rPE4Qb2zheI"
      },
      "execution_count": null,
      "outputs": []
    },
    {
      "cell_type": "markdown",
      "source": [
        "- 여기서 파이썬 래퍼 XGB가 사이킷런과 다른 점은 학습용과 테스트용 데이터 세트를 위해 별도의 객체인 DMatrix를 생성한다는 것. 사이킷런을 주로 사용할 예정이라 자세히 하지는 않겠음. dtrain과 dtest를 지정하고 하이퍼 파라미터를 설정하여 학습을 수행하면 된다. 교재에서 파이썬 래퍼 XGB의 하이퍼 파라미터로 설정한 것은 max_depth=3, eta=0.1, objective=binary:logistic, eval_metric=logloss, early_stoppings=100. 최적 파라미터는 cv() API로 제공한다. \n",
        "- 참고로 **early_stopping_rounds를 설정하기 위해선 반드시 eval_set과 eval_metric이 함께 설정**되어야 한다.\n",
        "- 교재에 따르면 이렇게 학습했을 경우 파이썬 래퍼 XGB의 정확도는 약 0.9737\n",
        "- 사이킷런으로 넘어가면, 파이썬 래퍼 XGB에서 사용하던 하이퍼 파라미터 몇 개의 이름이 변경된다. eta- > learning_rate, sub_sample -> subsample, lambda -> reg_lambda, alpha -> reg_alpha"
      ],
      "metadata": {
        "id": "ftkO9evxz23B"
      }
    },
    {
      "cell_type": "code",
      "source": [
        "#사이킷런 래퍼 XGB로 계속해보자.\n",
        "from xgboost import XGBClassifier\n",
        "\n",
        "xgb=XGBClassifier(n_estimators=400, learning_rate=0.1, max_depth=3)\n",
        "xgb.fit(X_train, y_train)\n",
        "preds=xgb.predict(X_test)\n",
        "preds_proba=xgb.predict_proba(X_test)[:,1]"
      ],
      "metadata": {
        "id": "L1XCoJ-Z13nq"
      },
      "execution_count": null,
      "outputs": []
    },
    {
      "cell_type": "markdown",
      "source": [
        "- get_clf_eval(y_test, preds, pred_proba)로 보면 정확도는 0.9737 즉, 파이썬 래퍼 XGB와 동일한 결과이다. "
      ],
      "metadata": {
        "id": "f2zBKlbw3A4B"
      }
    },
    {
      "cell_type": "code",
      "source": [
        "#사이킷런에서도 조기 중단 실행 가능\n",
        "xgb=XGBClassifier(n_estimators=400, learning_rate=0.1, max_depth=3)\n",
        "evals=[(X_test, y_test)] #원래 이렇게 하면 안됨! test는 알려지지 않은 데이터임을 유의\n",
        "xgb.fit(X_train, y_train, early_stopping_rounds=100, eval_metric='logloss', eval_set=evals, verbose=True)\n",
        "preds=xgb.predict(X_test)\n",
        "pred_proba=xgb.predict_proba(X_test)[:,1]"
      ],
      "metadata": {
        "colab": {
          "base_uri": "https://localhost:8080/"
        },
        "id": "ZQyeZXMH38dG",
        "outputId": "17201132-42f0-41b7-fc82-13e5e0167fcb"
      },
      "execution_count": null,
      "outputs": [
        {
          "output_type": "stream",
          "name": "stdout",
          "text": [
            "[0]\tvalidation_0-logloss:0.61352\n",
            "Will train until validation_0-logloss hasn't improved in 100 rounds.\n",
            "[1]\tvalidation_0-logloss:0.547842\n",
            "[2]\tvalidation_0-logloss:0.494247\n",
            "[3]\tvalidation_0-logloss:0.447986\n",
            "[4]\tvalidation_0-logloss:0.409109\n",
            "[5]\tvalidation_0-logloss:0.374977\n",
            "[6]\tvalidation_0-logloss:0.345714\n",
            "[7]\tvalidation_0-logloss:0.320529\n",
            "[8]\tvalidation_0-logloss:0.29721\n",
            "[9]\tvalidation_0-logloss:0.277991\n",
            "[10]\tvalidation_0-logloss:0.260302\n",
            "[11]\tvalidation_0-logloss:0.246037\n",
            "[12]\tvalidation_0-logloss:0.231556\n",
            "[13]\tvalidation_0-logloss:0.22005\n",
            "[14]\tvalidation_0-logloss:0.208572\n",
            "[15]\tvalidation_0-logloss:0.199993\n",
            "[16]\tvalidation_0-logloss:0.190118\n",
            "[17]\tvalidation_0-logloss:0.181818\n",
            "[18]\tvalidation_0-logloss:0.174729\n",
            "[19]\tvalidation_0-logloss:0.167657\n",
            "[20]\tvalidation_0-logloss:0.158202\n",
            "[21]\tvalidation_0-logloss:0.154725\n",
            "[22]\tvalidation_0-logloss:0.148947\n",
            "[23]\tvalidation_0-logloss:0.143308\n",
            "[24]\tvalidation_0-logloss:0.136344\n",
            "[25]\tvalidation_0-logloss:0.132778\n",
            "[26]\tvalidation_0-logloss:0.127912\n",
            "[27]\tvalidation_0-logloss:0.125263\n",
            "[28]\tvalidation_0-logloss:0.119978\n",
            "[29]\tvalidation_0-logloss:0.116412\n",
            "[30]\tvalidation_0-logloss:0.114502\n",
            "[31]\tvalidation_0-logloss:0.112572\n",
            "[32]\tvalidation_0-logloss:0.11154\n",
            "[33]\tvalidation_0-logloss:0.108681\n",
            "[34]\tvalidation_0-logloss:0.106681\n",
            "[35]\tvalidation_0-logloss:0.104207\n",
            "[36]\tvalidation_0-logloss:0.102962\n",
            "[37]\tvalidation_0-logloss:0.100576\n",
            "[38]\tvalidation_0-logloss:0.098683\n",
            "[39]\tvalidation_0-logloss:0.096444\n",
            "[40]\tvalidation_0-logloss:0.095869\n",
            "[41]\tvalidation_0-logloss:0.094242\n",
            "[42]\tvalidation_0-logloss:0.094715\n",
            "[43]\tvalidation_0-logloss:0.094272\n",
            "[44]\tvalidation_0-logloss:0.093894\n",
            "[45]\tvalidation_0-logloss:0.094184\n",
            "[46]\tvalidation_0-logloss:0.09402\n",
            "[47]\tvalidation_0-logloss:0.09236\n",
            "[48]\tvalidation_0-logloss:0.093012\n",
            "[49]\tvalidation_0-logloss:0.091272\n",
            "[50]\tvalidation_0-logloss:0.090051\n",
            "[51]\tvalidation_0-logloss:0.089605\n",
            "[52]\tvalidation_0-logloss:0.089577\n",
            "[53]\tvalidation_0-logloss:0.090703\n",
            "[54]\tvalidation_0-logloss:0.089579\n",
            "[55]\tvalidation_0-logloss:0.090357\n",
            "[56]\tvalidation_0-logloss:0.091587\n",
            "[57]\tvalidation_0-logloss:0.091527\n",
            "[58]\tvalidation_0-logloss:0.091986\n",
            "[59]\tvalidation_0-logloss:0.091951\n",
            "[60]\tvalidation_0-logloss:0.091939\n",
            "[61]\tvalidation_0-logloss:0.091461\n",
            "[62]\tvalidation_0-logloss:0.090311\n",
            "[63]\tvalidation_0-logloss:0.089407\n",
            "[64]\tvalidation_0-logloss:0.089719\n",
            "[65]\tvalidation_0-logloss:0.089743\n",
            "[66]\tvalidation_0-logloss:0.089622\n",
            "[67]\tvalidation_0-logloss:0.088734\n",
            "[68]\tvalidation_0-logloss:0.088621\n",
            "[69]\tvalidation_0-logloss:0.089739\n",
            "[70]\tvalidation_0-logloss:0.089981\n",
            "[71]\tvalidation_0-logloss:0.089782\n",
            "[72]\tvalidation_0-logloss:0.089584\n",
            "[73]\tvalidation_0-logloss:0.089533\n",
            "[74]\tvalidation_0-logloss:0.088748\n",
            "[75]\tvalidation_0-logloss:0.088597\n",
            "[76]\tvalidation_0-logloss:0.08812\n",
            "[77]\tvalidation_0-logloss:0.088396\n",
            "[78]\tvalidation_0-logloss:0.088736\n",
            "[79]\tvalidation_0-logloss:0.088153\n",
            "[80]\tvalidation_0-logloss:0.087577\n",
            "[81]\tvalidation_0-logloss:0.087412\n",
            "[82]\tvalidation_0-logloss:0.08849\n",
            "[83]\tvalidation_0-logloss:0.088575\n",
            "[84]\tvalidation_0-logloss:0.08807\n",
            "[85]\tvalidation_0-logloss:0.087641\n",
            "[86]\tvalidation_0-logloss:0.087416\n",
            "[87]\tvalidation_0-logloss:0.087611\n",
            "[88]\tvalidation_0-logloss:0.087065\n",
            "[89]\tvalidation_0-logloss:0.08727\n",
            "[90]\tvalidation_0-logloss:0.087161\n",
            "[91]\tvalidation_0-logloss:0.086962\n",
            "[92]\tvalidation_0-logloss:0.087166\n",
            "[93]\tvalidation_0-logloss:0.087067\n",
            "[94]\tvalidation_0-logloss:0.086592\n",
            "[95]\tvalidation_0-logloss:0.086116\n",
            "[96]\tvalidation_0-logloss:0.087139\n",
            "[97]\tvalidation_0-logloss:0.086768\n",
            "[98]\tvalidation_0-logloss:0.086694\n",
            "[99]\tvalidation_0-logloss:0.086547\n",
            "[100]\tvalidation_0-logloss:0.086498\n",
            "[101]\tvalidation_0-logloss:0.08641\n",
            "[102]\tvalidation_0-logloss:0.086288\n",
            "[103]\tvalidation_0-logloss:0.086258\n",
            "[104]\tvalidation_0-logloss:0.086835\n",
            "[105]\tvalidation_0-logloss:0.086767\n",
            "[106]\tvalidation_0-logloss:0.087321\n",
            "[107]\tvalidation_0-logloss:0.087304\n",
            "[108]\tvalidation_0-logloss:0.08728\n",
            "[109]\tvalidation_0-logloss:0.087298\n",
            "[110]\tvalidation_0-logloss:0.087289\n",
            "[111]\tvalidation_0-logloss:0.088002\n",
            "[112]\tvalidation_0-logloss:0.087936\n",
            "[113]\tvalidation_0-logloss:0.087843\n",
            "[114]\tvalidation_0-logloss:0.088066\n",
            "[115]\tvalidation_0-logloss:0.087649\n",
            "[116]\tvalidation_0-logloss:0.087298\n",
            "[117]\tvalidation_0-logloss:0.087799\n",
            "[118]\tvalidation_0-logloss:0.087751\n",
            "[119]\tvalidation_0-logloss:0.08768\n",
            "[120]\tvalidation_0-logloss:0.087626\n",
            "[121]\tvalidation_0-logloss:0.08757\n",
            "[122]\tvalidation_0-logloss:0.087547\n",
            "[123]\tvalidation_0-logloss:0.087156\n",
            "[124]\tvalidation_0-logloss:0.08767\n",
            "[125]\tvalidation_0-logloss:0.087737\n",
            "[126]\tvalidation_0-logloss:0.088275\n",
            "[127]\tvalidation_0-logloss:0.088309\n",
            "[128]\tvalidation_0-logloss:0.088266\n",
            "[129]\tvalidation_0-logloss:0.087886\n",
            "[130]\tvalidation_0-logloss:0.088861\n",
            "[131]\tvalidation_0-logloss:0.088675\n",
            "[132]\tvalidation_0-logloss:0.088743\n",
            "[133]\tvalidation_0-logloss:0.089218\n",
            "[134]\tvalidation_0-logloss:0.089179\n",
            "[135]\tvalidation_0-logloss:0.088821\n",
            "[136]\tvalidation_0-logloss:0.088512\n",
            "[137]\tvalidation_0-logloss:0.08848\n",
            "[138]\tvalidation_0-logloss:0.088386\n",
            "[139]\tvalidation_0-logloss:0.089145\n",
            "[140]\tvalidation_0-logloss:0.08911\n",
            "[141]\tvalidation_0-logloss:0.088765\n",
            "[142]\tvalidation_0-logloss:0.088678\n",
            "[143]\tvalidation_0-logloss:0.088389\n",
            "[144]\tvalidation_0-logloss:0.089271\n",
            "[145]\tvalidation_0-logloss:0.089238\n",
            "[146]\tvalidation_0-logloss:0.089139\n",
            "[147]\tvalidation_0-logloss:0.088907\n",
            "[148]\tvalidation_0-logloss:0.089416\n",
            "[149]\tvalidation_0-logloss:0.089388\n",
            "[150]\tvalidation_0-logloss:0.089108\n",
            "[151]\tvalidation_0-logloss:0.088735\n",
            "[152]\tvalidation_0-logloss:0.088717\n",
            "[153]\tvalidation_0-logloss:0.088484\n",
            "[154]\tvalidation_0-logloss:0.088471\n",
            "[155]\tvalidation_0-logloss:0.088545\n",
            "[156]\tvalidation_0-logloss:0.088521\n",
            "[157]\tvalidation_0-logloss:0.088547\n",
            "[158]\tvalidation_0-logloss:0.088275\n",
            "[159]\tvalidation_0-logloss:0.0883\n",
            "[160]\tvalidation_0-logloss:0.08828\n",
            "[161]\tvalidation_0-logloss:0.088013\n",
            "[162]\tvalidation_0-logloss:0.087758\n",
            "[163]\tvalidation_0-logloss:0.087784\n",
            "[164]\tvalidation_0-logloss:0.087777\n",
            "[165]\tvalidation_0-logloss:0.087517\n",
            "[166]\tvalidation_0-logloss:0.087542\n",
            "[167]\tvalidation_0-logloss:0.087642\n",
            "[168]\tvalidation_0-logloss:0.08739\n",
            "[169]\tvalidation_0-logloss:0.087377\n",
            "[170]\tvalidation_0-logloss:0.087298\n",
            "[171]\tvalidation_0-logloss:0.087368\n",
            "[172]\tvalidation_0-logloss:0.087395\n",
            "[173]\tvalidation_0-logloss:0.087385\n",
            "[174]\tvalidation_0-logloss:0.087132\n",
            "[175]\tvalidation_0-logloss:0.087159\n",
            "[176]\tvalidation_0-logloss:0.086955\n",
            "[177]\tvalidation_0-logloss:0.087053\n",
            "[178]\tvalidation_0-logloss:0.08697\n",
            "[179]\tvalidation_0-logloss:0.086973\n",
            "[180]\tvalidation_0-logloss:0.087038\n",
            "[181]\tvalidation_0-logloss:0.086799\n",
            "[182]\tvalidation_0-logloss:0.086826\n",
            "[183]\tvalidation_0-logloss:0.086582\n",
            "[184]\tvalidation_0-logloss:0.086588\n",
            "[185]\tvalidation_0-logloss:0.086614\n",
            "[186]\tvalidation_0-logloss:0.086372\n",
            "[187]\tvalidation_0-logloss:0.086369\n",
            "[188]\tvalidation_0-logloss:0.086297\n",
            "[189]\tvalidation_0-logloss:0.086104\n",
            "[190]\tvalidation_0-logloss:0.086023\n",
            "[191]\tvalidation_0-logloss:0.08605\n",
            "[192]\tvalidation_0-logloss:0.086149\n",
            "[193]\tvalidation_0-logloss:0.085916\n",
            "[194]\tvalidation_0-logloss:0.085915\n",
            "[195]\tvalidation_0-logloss:0.085984\n",
            "[196]\tvalidation_0-logloss:0.086012\n",
            "[197]\tvalidation_0-logloss:0.085922\n",
            "[198]\tvalidation_0-logloss:0.085853\n",
            "[199]\tvalidation_0-logloss:0.085874\n",
            "[200]\tvalidation_0-logloss:0.085888\n",
            "[201]\tvalidation_0-logloss:0.08595\n",
            "[202]\tvalidation_0-logloss:0.08573\n",
            "[203]\tvalidation_0-logloss:0.08573\n",
            "[204]\tvalidation_0-logloss:0.085753\n",
            "[205]\tvalidation_0-logloss:0.085821\n",
            "[206]\tvalidation_0-logloss:0.08584\n",
            "[207]\tvalidation_0-logloss:0.085776\n",
            "[208]\tvalidation_0-logloss:0.085686\n",
            "[209]\tvalidation_0-logloss:0.08571\n",
            "[210]\tvalidation_0-logloss:0.085806\n",
            "[211]\tvalidation_0-logloss:0.085593\n",
            "[212]\tvalidation_0-logloss:0.085801\n",
            "[213]\tvalidation_0-logloss:0.085806\n",
            "[214]\tvalidation_0-logloss:0.085744\n",
            "[215]\tvalidation_0-logloss:0.085658\n",
            "[216]\tvalidation_0-logloss:0.085843\n",
            "[217]\tvalidation_0-logloss:0.085632\n",
            "[218]\tvalidation_0-logloss:0.085726\n",
            "[219]\tvalidation_0-logloss:0.085783\n",
            "[220]\tvalidation_0-logloss:0.085791\n",
            "[221]\tvalidation_0-logloss:0.085817\n",
            "[222]\tvalidation_0-logloss:0.085757\n",
            "[223]\tvalidation_0-logloss:0.085674\n",
            "[224]\tvalidation_0-logloss:0.08586\n",
            "[225]\tvalidation_0-logloss:0.085871\n",
            "[226]\tvalidation_0-logloss:0.085927\n",
            "[227]\tvalidation_0-logloss:0.085954\n",
            "[228]\tvalidation_0-logloss:0.085874\n",
            "[229]\tvalidation_0-logloss:0.086057\n",
            "[230]\tvalidation_0-logloss:0.086002\n",
            "[231]\tvalidation_0-logloss:0.085922\n",
            "[232]\tvalidation_0-logloss:0.086102\n",
            "[233]\tvalidation_0-logloss:0.086115\n",
            "[234]\tvalidation_0-logloss:0.086169\n",
            "[235]\tvalidation_0-logloss:0.086263\n",
            "[236]\tvalidation_0-logloss:0.086292\n",
            "[237]\tvalidation_0-logloss:0.086217\n",
            "[238]\tvalidation_0-logloss:0.086395\n",
            "[239]\tvalidation_0-logloss:0.086342\n",
            "[240]\tvalidation_0-logloss:0.08618\n",
            "[241]\tvalidation_0-logloss:0.086195\n",
            "[242]\tvalidation_0-logloss:0.086248\n",
            "[243]\tvalidation_0-logloss:0.086263\n",
            "[244]\tvalidation_0-logloss:0.086293\n",
            "[245]\tvalidation_0-logloss:0.086222\n",
            "[246]\tvalidation_0-logloss:0.086398\n",
            "[247]\tvalidation_0-logloss:0.086347\n",
            "[248]\tvalidation_0-logloss:0.086276\n",
            "[249]\tvalidation_0-logloss:0.086448\n",
            "[250]\tvalidation_0-logloss:0.086294\n",
            "[251]\tvalidation_0-logloss:0.086312\n",
            "[252]\tvalidation_0-logloss:0.086364\n",
            "[253]\tvalidation_0-logloss:0.086394\n",
            "[254]\tvalidation_0-logloss:0.08649\n",
            "[255]\tvalidation_0-logloss:0.086441\n",
            "[256]\tvalidation_0-logloss:0.08629\n",
            "[257]\tvalidation_0-logloss:0.08646\n",
            "[258]\tvalidation_0-logloss:0.086391\n",
            "[259]\tvalidation_0-logloss:0.086441\n",
            "[260]\tvalidation_0-logloss:0.086461\n",
            "[261]\tvalidation_0-logloss:0.086491\n",
            "[262]\tvalidation_0-logloss:0.086445\n",
            "[263]\tvalidation_0-logloss:0.086466\n",
            "[264]\tvalidation_0-logloss:0.086319\n",
            "[265]\tvalidation_0-logloss:0.086488\n",
            "[266]\tvalidation_0-logloss:0.086538\n",
            "[267]\tvalidation_0-logloss:0.086471\n",
            "[268]\tvalidation_0-logloss:0.086501\n",
            "[269]\tvalidation_0-logloss:0.086522\n",
            "[270]\tvalidation_0-logloss:0.086689\n",
            "[271]\tvalidation_0-logloss:0.086738\n",
            "[272]\tvalidation_0-logloss:0.08683\n",
            "[273]\tvalidation_0-logloss:0.086684\n",
            "[274]\tvalidation_0-logloss:0.08664\n",
            "[275]\tvalidation_0-logloss:0.086496\n",
            "[276]\tvalidation_0-logloss:0.086355\n",
            "[277]\tvalidation_0-logloss:0.086519\n",
            "[278]\tvalidation_0-logloss:0.086567\n",
            "[279]\tvalidation_0-logloss:0.08659\n",
            "[280]\tvalidation_0-logloss:0.086679\n",
            "[281]\tvalidation_0-logloss:0.086637\n",
            "[282]\tvalidation_0-logloss:0.086499\n",
            "[283]\tvalidation_0-logloss:0.086356\n",
            "[284]\tvalidation_0-logloss:0.086405\n",
            "[285]\tvalidation_0-logloss:0.086429\n",
            "[286]\tvalidation_0-logloss:0.086456\n",
            "[287]\tvalidation_0-logloss:0.086504\n",
            "[288]\tvalidation_0-logloss:0.08637\n",
            "[289]\tvalidation_0-logloss:0.086457\n",
            "[290]\tvalidation_0-logloss:0.086453\n",
            "[291]\tvalidation_0-logloss:0.086322\n",
            "[292]\tvalidation_0-logloss:0.086284\n",
            "[293]\tvalidation_0-logloss:0.086148\n",
            "[294]\tvalidation_0-logloss:0.086196\n",
            "[295]\tvalidation_0-logloss:0.086221\n",
            "[296]\tvalidation_0-logloss:0.086308\n",
            "[297]\tvalidation_0-logloss:0.086178\n",
            "[298]\tvalidation_0-logloss:0.086263\n",
            "[299]\tvalidation_0-logloss:0.086131\n",
            "[300]\tvalidation_0-logloss:0.086179\n",
            "[301]\tvalidation_0-logloss:0.086052\n",
            "[302]\tvalidation_0-logloss:0.086016\n",
            "[303]\tvalidation_0-logloss:0.086101\n",
            "[304]\tvalidation_0-logloss:0.085977\n",
            "[305]\tvalidation_0-logloss:0.086059\n",
            "[306]\tvalidation_0-logloss:0.085971\n",
            "[307]\tvalidation_0-logloss:0.085998\n",
            "[308]\tvalidation_0-logloss:0.085999\n",
            "[309]\tvalidation_0-logloss:0.085877\n",
            "[310]\tvalidation_0-logloss:0.085923\n",
            "[311]\tvalidation_0-logloss:0.085948\n",
            "Stopping. Best iteration:\n",
            "[211]\tvalidation_0-logloss:0.085593\n",
            "\n"
          ]
        }
      ]
    },
    {
      "cell_type": "markdown",
      "source": [
        "- 교재에 따르면 조기 중단으로 학습된 예측 성능은 약간 저조하나 큰 차이는 없다. 정확도 0.965 정도. 하지만 조기 중단을 너무 급하게 하면 당연히 안되겠지."
      ],
      "metadata": {
        "id": "cbe8Jb-H4oDR"
      }
    },
    {
      "cell_type": "code",
      "source": [
        "#사이킷런도 시각화 가능하다!\n",
        "from xgboost import plot_importance\n",
        "import matplotlib.pyplot as plt\n",
        "%matplotlib inline\n",
        "\n",
        "fig, ax=plt.subplots(figsize=(10,12))\n",
        "plot_importance(xgb, ax=ax)"
      ],
      "metadata": {
        "colab": {
          "base_uri": "https://localhost:8080/"
        },
        "id": "g_elPYbD43jN",
        "outputId": "957f914d-99cf-4760-a86b-89a59b36169b"
      },
      "execution_count": null,
      "outputs": [
        {
          "output_type": "execute_result",
          "data": {
            "text/plain": [
              "<matplotlib.axes._subplots.AxesSubplot at 0x7f8b6e28da60>"
            ]
          },
          "metadata": {},
          "execution_count": 15
        },
        {
          "output_type": "display_data",
          "data": {
            "text/plain": [
              "<Figure size 720x864 with 1 Axes>"
            ],
            "image/png": "[encoded data removed]"
          },
          "metadata": {
            "needs_background": "light"
          }
        }
      ]
    },
    {
      "cell_type": "markdown",
      "source": [
        "##07. LGBM\n",
        "xgb도 여전히 시간이 오래 걸림. 시간 문제를 해결한 lgbm! lgbm은 균형 트리 분할이 아닌 리프 중심 트리 분할을 사용한다. 비대칭적인 규칙 트리가 생성되는 것. 그래서 하이퍼 파라미터에서 **max_depth를 매우 크게 가지는 등의 특성**이 있다.\n",
        "\n",
        "하이퍼 파라미터 조정은 num_leaves의 개수를 중심으로 min_child_samples, max_depth를 함께 조정하며 모델의 복잡도를 줄이는 방식이 기본 튜닝 방안이다."
      ],
      "metadata": {
        "id": "m3QUXgwZ4pt1"
      }
    },
    {
      "cell_type": "markdown",
      "source": [
        "###LGBM 실습 - 위스콘신 유방암 예측"
      ],
      "metadata": {
        "id": "r2-pDHz88t3-"
      }
    },
    {
      "cell_type": "code",
      "source": [
        "from lightgbm import LGBMClassifier\n",
        "import pandas as pd\n",
        "import numpy as np\n",
        "from sklearn.datasets import load_breast_cancer\n",
        "from sklearn.model_selection import train_test_split\n",
        "\n",
        "dataset=load_breast_cancer()\n",
        "ftr=dataset.data\n",
        "target=dataset.target\n",
        "\n",
        "X_train, X_test, y_train, y_test=train_test_split(ftr, target, test_size=0.2, random_state=156)\n",
        "\n",
        "lgbm=LGBMClassifier(n_estimators=400)\n",
        "\n",
        "#lgbm도 조기 중단이 수행 가능하다!\n",
        "evals=[(X_test, y_test)]\n",
        "lgbm.fit(X_train, y_train, early_stopping_rounds=100, eval_metric='logloss', eval_set=evals, verbose=True)\n",
        "preds=lgbm.predict(X_test)\n",
        "pred_proba=lgbm.predict_proba(X_test)[:,1]"
      ],
      "metadata": {
        "colab": {
          "base_uri": "https://localhost:8080/"
        },
        "id": "UmFG34xN60_V",
        "outputId": "2cea11d3-f57a-4c30-ce84-f1196e4bb083"
      },
      "execution_count": null,
      "outputs": [
        {
          "output_type": "stream",
          "name": "stdout",
          "text": [
            "[1]\tvalid_0's binary_logloss: 0.565079\tvalid_0's binary_logloss: 0.565079\n",
            "Training until validation scores don't improve for 100 rounds.\n",
            "[2]\tvalid_0's binary_logloss: 0.507451\tvalid_0's binary_logloss: 0.507451\n",
            "[3]\tvalid_0's binary_logloss: 0.458489\tvalid_0's binary_logloss: 0.458489\n",
            "[4]\tvalid_0's binary_logloss: 0.417481\tvalid_0's binary_logloss: 0.417481\n",
            "[5]\tvalid_0's binary_logloss: 0.385507\tvalid_0's binary_logloss: 0.385507\n",
            "[6]\tvalid_0's binary_logloss: 0.355846\tvalid_0's binary_logloss: 0.355846\n",
            "[7]\tvalid_0's binary_logloss: 0.330897\tvalid_0's binary_logloss: 0.330897\n",
            "[8]\tvalid_0's binary_logloss: 0.306923\tvalid_0's binary_logloss: 0.306923\n",
            "[9]\tvalid_0's binary_logloss: 0.28776\tvalid_0's binary_logloss: 0.28776\n",
            "[10]\tvalid_0's binary_logloss: 0.26917\tvalid_0's binary_logloss: 0.26917\n",
            "[11]\tvalid_0's binary_logloss: 0.250954\tvalid_0's binary_logloss: 0.250954\n",
            "[12]\tvalid_0's binary_logloss: 0.23847\tvalid_0's binary_logloss: 0.23847\n",
            "[13]\tvalid_0's binary_logloss: 0.225865\tvalid_0's binary_logloss: 0.225865\n",
            "[14]\tvalid_0's binary_logloss: 0.215076\tvalid_0's binary_logloss: 0.215076\n",
            "[15]\tvalid_0's binary_logloss: 0.205996\tvalid_0's binary_logloss: 0.205996\n",
            "[16]\tvalid_0's binary_logloss: 0.196091\tvalid_0's binary_logloss: 0.196091\n",
            "[17]\tvalid_0's binary_logloss: 0.186395\tvalid_0's binary_logloss: 0.186395\n",
            "[18]\tvalid_0's binary_logloss: 0.17942\tvalid_0's binary_logloss: 0.17942\n",
            "[19]\tvalid_0's binary_logloss: 0.174727\tvalid_0's binary_logloss: 0.174727\n",
            "[20]\tvalid_0's binary_logloss: 0.168563\tvalid_0's binary_logloss: 0.168563\n",
            "[21]\tvalid_0's binary_logloss: 0.165432\tvalid_0's binary_logloss: 0.165432\n",
            "[22]\tvalid_0's binary_logloss: 0.160356\tvalid_0's binary_logloss: 0.160356\n",
            "[23]\tvalid_0's binary_logloss: 0.155508\tvalid_0's binary_logloss: 0.155508\n",
            "[24]\tvalid_0's binary_logloss: 0.151598\tvalid_0's binary_logloss: 0.151598\n",
            "[25]\tvalid_0's binary_logloss: 0.149861\tvalid_0's binary_logloss: 0.149861\n",
            "[26]\tvalid_0's binary_logloss: 0.149873\tvalid_0's binary_logloss: 0.149873\n",
            "[27]\tvalid_0's binary_logloss: 0.147032\tvalid_0's binary_logloss: 0.147032\n",
            "[28]\tvalid_0's binary_logloss: 0.145077\tvalid_0's binary_logloss: 0.145077\n",
            "[29]\tvalid_0's binary_logloss: 0.139891\tvalid_0's binary_logloss: 0.139891\n",
            "[30]\tvalid_0's binary_logloss: 0.137416\tvalid_0's binary_logloss: 0.137416\n",
            "[31]\tvalid_0's binary_logloss: 0.138393\tvalid_0's binary_logloss: 0.138393\n",
            "[32]\tvalid_0's binary_logloss: 0.135948\tvalid_0's binary_logloss: 0.135948\n",
            "[33]\tvalid_0's binary_logloss: 0.132968\tvalid_0's binary_logloss: 0.132968\n",
            "[34]\tvalid_0's binary_logloss: 0.129697\tvalid_0's binary_logloss: 0.129697\n",
            "[35]\tvalid_0's binary_logloss: 0.131102\tvalid_0's binary_logloss: 0.131102\n",
            "[36]\tvalid_0's binary_logloss: 0.129382\tvalid_0's binary_logloss: 0.129382\n",
            "[37]\tvalid_0's binary_logloss: 0.128044\tvalid_0's binary_logloss: 0.128044\n",
            "[38]\tvalid_0's binary_logloss: 0.127325\tvalid_0's binary_logloss: 0.127325\n",
            "[39]\tvalid_0's binary_logloss: 0.128091\tvalid_0's binary_logloss: 0.128091\n",
            "[40]\tvalid_0's binary_logloss: 0.129045\tvalid_0's binary_logloss: 0.129045\n",
            "[41]\tvalid_0's binary_logloss: 0.127023\tvalid_0's binary_logloss: 0.127023\n",
            "[42]\tvalid_0's binary_logloss: 0.129314\tvalid_0's binary_logloss: 0.129314\n",
            "[43]\tvalid_0's binary_logloss: 0.129175\tvalid_0's binary_logloss: 0.129175\n",
            "[44]\tvalid_0's binary_logloss: 0.128212\tvalid_0's binary_logloss: 0.128212\n",
            "[45]\tvalid_0's binary_logloss: 0.126664\tvalid_0's binary_logloss: 0.126664\n",
            "[46]\tvalid_0's binary_logloss: 0.127662\tvalid_0's binary_logloss: 0.127662\n",
            "[47]\tvalid_0's binary_logloss: 0.126108\tvalid_0's binary_logloss: 0.126108\n",
            "[48]\tvalid_0's binary_logloss: 0.129371\tvalid_0's binary_logloss: 0.129371\n",
            "[49]\tvalid_0's binary_logloss: 0.129573\tvalid_0's binary_logloss: 0.129573\n",
            "[50]\tvalid_0's binary_logloss: 0.130876\tvalid_0's binary_logloss: 0.130876\n",
            "[51]\tvalid_0's binary_logloss: 0.131366\tvalid_0's binary_logloss: 0.131366\n",
            "[52]\tvalid_0's binary_logloss: 0.131336\tvalid_0's binary_logloss: 0.131336\n",
            "[53]\tvalid_0's binary_logloss: 0.13208\tvalid_0's binary_logloss: 0.13208\n",
            "[54]\tvalid_0's binary_logloss: 0.13306\tvalid_0's binary_logloss: 0.13306\n",
            "[55]\tvalid_0's binary_logloss: 0.132342\tvalid_0's binary_logloss: 0.132342\n",
            "[56]\tvalid_0's binary_logloss: 0.134836\tvalid_0's binary_logloss: 0.134836\n",
            "[57]\tvalid_0's binary_logloss: 0.135208\tvalid_0's binary_logloss: 0.135208\n",
            "[58]\tvalid_0's binary_logloss: 0.13328\tvalid_0's binary_logloss: 0.13328\n",
            "[59]\tvalid_0's binary_logloss: 0.134147\tvalid_0's binary_logloss: 0.134147\n",
            "[60]\tvalid_0's binary_logloss: 0.134549\tvalid_0's binary_logloss: 0.134549\n",
            "[61]\tvalid_0's binary_logloss: 0.133202\tvalid_0's binary_logloss: 0.133202\n",
            "[62]\tvalid_0's binary_logloss: 0.135726\tvalid_0's binary_logloss: 0.135726\n",
            "[63]\tvalid_0's binary_logloss: 0.134011\tvalid_0's binary_logloss: 0.134011\n",
            "[64]\tvalid_0's binary_logloss: 0.131493\tvalid_0's binary_logloss: 0.131493\n",
            "[65]\tvalid_0's binary_logloss: 0.134114\tvalid_0's binary_logloss: 0.134114\n",
            "[66]\tvalid_0's binary_logloss: 0.134525\tvalid_0's binary_logloss: 0.134525\n",
            "[67]\tvalid_0's binary_logloss: 0.131412\tvalid_0's binary_logloss: 0.131412\n",
            "[68]\tvalid_0's binary_logloss: 0.12878\tvalid_0's binary_logloss: 0.12878\n",
            "[69]\tvalid_0's binary_logloss: 0.129571\tvalid_0's binary_logloss: 0.129571\n",
            "[70]\tvalid_0's binary_logloss: 0.129671\tvalid_0's binary_logloss: 0.129671\n",
            "[71]\tvalid_0's binary_logloss: 0.129935\tvalid_0's binary_logloss: 0.129935\n",
            "[72]\tvalid_0's binary_logloss: 0.128951\tvalid_0's binary_logloss: 0.128951\n",
            "[73]\tvalid_0's binary_logloss: 0.128977\tvalid_0's binary_logloss: 0.128977\n",
            "[74]\tvalid_0's binary_logloss: 0.127121\tvalid_0's binary_logloss: 0.127121\n",
            "[75]\tvalid_0's binary_logloss: 0.128107\tvalid_0's binary_logloss: 0.128107\n",
            "[76]\tvalid_0's binary_logloss: 0.129796\tvalid_0's binary_logloss: 0.129796\n",
            "[77]\tvalid_0's binary_logloss: 0.131663\tvalid_0's binary_logloss: 0.131663\n",
            "[78]\tvalid_0's binary_logloss: 0.132483\tvalid_0's binary_logloss: 0.132483\n",
            "[79]\tvalid_0's binary_logloss: 0.131578\tvalid_0's binary_logloss: 0.131578\n",
            "[80]\tvalid_0's binary_logloss: 0.130352\tvalid_0's binary_logloss: 0.130352\n",
            "[81]\tvalid_0's binary_logloss: 0.129895\tvalid_0's binary_logloss: 0.129895\n",
            "[82]\tvalid_0's binary_logloss: 0.131587\tvalid_0's binary_logloss: 0.131587\n",
            "[83]\tvalid_0's binary_logloss: 0.132763\tvalid_0's binary_logloss: 0.132763\n",
            "[84]\tvalid_0's binary_logloss: 0.133677\tvalid_0's binary_logloss: 0.133677\n",
            "[85]\tvalid_0's binary_logloss: 0.137552\tvalid_0's binary_logloss: 0.137552\n",
            "[86]\tvalid_0's binary_logloss: 0.136055\tvalid_0's binary_logloss: 0.136055\n",
            "[87]\tvalid_0's binary_logloss: 0.137904\tvalid_0's binary_logloss: 0.137904\n",
            "[88]\tvalid_0's binary_logloss: 0.139524\tvalid_0's binary_logloss: 0.139524\n",
            "[89]\tvalid_0's binary_logloss: 0.138434\tvalid_0's binary_logloss: 0.138434\n",
            "[90]\tvalid_0's binary_logloss: 0.138402\tvalid_0's binary_logloss: 0.138402\n",
            "[91]\tvalid_0's binary_logloss: 0.139384\tvalid_0's binary_logloss: 0.139384\n",
            "[92]\tvalid_0's binary_logloss: 0.139642\tvalid_0's binary_logloss: 0.139642\n",
            "[93]\tvalid_0's binary_logloss: 0.138006\tvalid_0's binary_logloss: 0.138006\n",
            "[94]\tvalid_0's binary_logloss: 0.141612\tvalid_0's binary_logloss: 0.141612\n",
            "[95]\tvalid_0's binary_logloss: 0.142319\tvalid_0's binary_logloss: 0.142319\n",
            "[96]\tvalid_0's binary_logloss: 0.145095\tvalid_0's binary_logloss: 0.145095\n",
            "[97]\tvalid_0's binary_logloss: 0.141542\tvalid_0's binary_logloss: 0.141542\n",
            "[98]\tvalid_0's binary_logloss: 0.144993\tvalid_0's binary_logloss: 0.144993\n",
            "[99]\tvalid_0's binary_logloss: 0.147936\tvalid_0's binary_logloss: 0.147936\n",
            "[100]\tvalid_0's binary_logloss: 0.147432\tvalid_0's binary_logloss: 0.147432\n",
            "[101]\tvalid_0's binary_logloss: 0.149689\tvalid_0's binary_logloss: 0.149689\n",
            "[102]\tvalid_0's binary_logloss: 0.153542\tvalid_0's binary_logloss: 0.153542\n",
            "[103]\tvalid_0's binary_logloss: 0.154556\tvalid_0's binary_logloss: 0.154556\n",
            "[104]\tvalid_0's binary_logloss: 0.155458\tvalid_0's binary_logloss: 0.155458\n",
            "[105]\tvalid_0's binary_logloss: 0.159357\tvalid_0's binary_logloss: 0.159357\n",
            "[106]\tvalid_0's binary_logloss: 0.160176\tvalid_0's binary_logloss: 0.160176\n",
            "[107]\tvalid_0's binary_logloss: 0.163369\tvalid_0's binary_logloss: 0.163369\n",
            "[108]\tvalid_0's binary_logloss: 0.163494\tvalid_0's binary_logloss: 0.163494\n",
            "[109]\tvalid_0's binary_logloss: 0.161111\tvalid_0's binary_logloss: 0.161111\n",
            "[110]\tvalid_0's binary_logloss: 0.16332\tvalid_0's binary_logloss: 0.16332\n",
            "[111]\tvalid_0's binary_logloss: 0.1663\tvalid_0's binary_logloss: 0.1663\n",
            "[112]\tvalid_0's binary_logloss: 0.166363\tvalid_0's binary_logloss: 0.166363\n",
            "[113]\tvalid_0's binary_logloss: 0.169834\tvalid_0's binary_logloss: 0.169834\n",
            "[114]\tvalid_0's binary_logloss: 0.166509\tvalid_0's binary_logloss: 0.166509\n",
            "[115]\tvalid_0's binary_logloss: 0.165823\tvalid_0's binary_logloss: 0.165823\n",
            "[116]\tvalid_0's binary_logloss: 0.167059\tvalid_0's binary_logloss: 0.167059\n",
            "[117]\tvalid_0's binary_logloss: 0.169086\tvalid_0's binary_logloss: 0.169086\n",
            "[118]\tvalid_0's binary_logloss: 0.170012\tvalid_0's binary_logloss: 0.170012\n",
            "[119]\tvalid_0's binary_logloss: 0.168639\tvalid_0's binary_logloss: 0.168639\n",
            "[120]\tvalid_0's binary_logloss: 0.16907\tvalid_0's binary_logloss: 0.16907\n",
            "[121]\tvalid_0's binary_logloss: 0.16918\tvalid_0's binary_logloss: 0.16918\n",
            "[122]\tvalid_0's binary_logloss: 0.170233\tvalid_0's binary_logloss: 0.170233\n",
            "[123]\tvalid_0's binary_logloss: 0.165655\tvalid_0's binary_logloss: 0.165655\n",
            "[124]\tvalid_0's binary_logloss: 0.16695\tvalid_0's binary_logloss: 0.16695\n",
            "[125]\tvalid_0's binary_logloss: 0.170955\tvalid_0's binary_logloss: 0.170955\n",
            "[126]\tvalid_0's binary_logloss: 0.168916\tvalid_0's binary_logloss: 0.168916\n",
            "[127]\tvalid_0's binary_logloss: 0.172316\tvalid_0's binary_logloss: 0.172316\n",
            "[128]\tvalid_0's binary_logloss: 0.173734\tvalid_0's binary_logloss: 0.173734\n",
            "[129]\tvalid_0's binary_logloss: 0.174309\tvalid_0's binary_logloss: 0.174309\n",
            "[130]\tvalid_0's binary_logloss: 0.176719\tvalid_0's binary_logloss: 0.176719\n",
            "[131]\tvalid_0's binary_logloss: 0.176591\tvalid_0's binary_logloss: 0.176591\n",
            "[132]\tvalid_0's binary_logloss: 0.180168\tvalid_0's binary_logloss: 0.180168\n",
            "[133]\tvalid_0's binary_logloss: 0.179856\tvalid_0's binary_logloss: 0.179856\n",
            "[134]\tvalid_0's binary_logloss: 0.179251\tvalid_0's binary_logloss: 0.179251\n",
            "[135]\tvalid_0's binary_logloss: 0.18315\tvalid_0's binary_logloss: 0.18315\n",
            "[136]\tvalid_0's binary_logloss: 0.184656\tvalid_0's binary_logloss: 0.184656\n",
            "[137]\tvalid_0's binary_logloss: 0.187475\tvalid_0's binary_logloss: 0.187475\n",
            "[138]\tvalid_0's binary_logloss: 0.188721\tvalid_0's binary_logloss: 0.188721\n",
            "[139]\tvalid_0's binary_logloss: 0.188542\tvalid_0's binary_logloss: 0.188542\n",
            "[140]\tvalid_0's binary_logloss: 0.18817\tvalid_0's binary_logloss: 0.18817\n",
            "[141]\tvalid_0's binary_logloss: 0.185899\tvalid_0's binary_logloss: 0.185899\n",
            "[142]\tvalid_0's binary_logloss: 0.185452\tvalid_0's binary_logloss: 0.185452\n",
            "[143]\tvalid_0's binary_logloss: 0.186084\tvalid_0's binary_logloss: 0.186084\n",
            "[144]\tvalid_0's binary_logloss: 0.185302\tvalid_0's binary_logloss: 0.185302\n",
            "[145]\tvalid_0's binary_logloss: 0.187856\tvalid_0's binary_logloss: 0.187856\n",
            "[146]\tvalid_0's binary_logloss: 0.190334\tvalid_0's binary_logloss: 0.190334\n",
            "[147]\tvalid_0's binary_logloss: 0.192769\tvalid_0's binary_logloss: 0.192769\n",
            "Early stopping, best iteration is:\n",
            "[47]\tvalid_0's binary_logloss: 0.126108\tvalid_0's binary_logloss: 0.126108\n"
          ]
        }
      ]
    },
    {
      "cell_type": "markdown",
      "source": [
        "- 교재에 따르면 get_clf_eval(y_test, preds, pred_proba)로 얻은 정확도는 0.9474로 xgb보다는 살짝 낮으나 큰 의미는 없다.\n",
        "- xgb와 동일한 방식으로 피처 중요도 시각화도 가능하다."
      ],
      "metadata": {
        "id": "3A0cF3vR77VV"
      }
    },
    {
      "cell_type": "markdown",
      "source": [
        "##08. 분류 실습 - 캐글 산탄데르 고객 만족 예측 (간단히 보기)\n",
        "- 만족/불만족이 비대칭인 데이터이므로 정확도보단 ROC-AUC가 더 적합하겠군.\n",
        "\n",
        "**1. 데이터 전처리**\n",
        "- 모든 피처가 숫자형, null은 없음\n",
        "- 하지만 불만족이 4%에 불과함.\n",
        "- var3 피처에는 null을 -999999로 넣은 값이 있음 -> 그 피처에서 최빈값인 2로 대체\n",
        "- X_features와 y_labels 저장 후 train_test_split 진행. 이 때 **불만족 비율이 유지되었는지 꼭 확인**하기!\n",
        "\n",
        "**2. XGB와 LGBM 학습하고 하이퍼 파라미터 튜닝**\n",
        "\n"
      ],
      "metadata": {
        "id": "RCIDXeyL4sIP"
      }
    },
    {
      "cell_type": "markdown",
      "source": [
        "##09. 분류 실습 - 캐글 신용카드 사기 검출 (자세히 보기)\n",
        "- 굉장히 불균형한 데이터!! 언더 샘플링 또는 오버 샘플링이 필요해보인다. SMOTE를 사용할 것이다.\n",
        "\n"
      ],
      "metadata": {
        "id": "9UdJVcSLAzll"
      }
    },
    {
      "cell_type": "code",
      "source": [
        "#실습에 앞서 get_clf_eval 정의해두기!\n",
        "\n",
        "from sklearn.metrics import accuracy_score, confusion_matrix, precision_score\n",
        "from sklearn.metrics import recall_score, f1_score, roc_auc_score\n",
        "def get_clf_eval(y_test, pred=None, pred_proba=None):\n",
        "  confusion=confusion_matrix(y_test, pred)\n",
        "  accuracy=accuracy_score(y_test, pred)\n",
        "  precision=precision_score(y_test, pred)\n",
        "  recall=recall_score(y_test, pred)\n",
        "  f1=f1_score(y_test, pred)\n",
        "  roc_auc=roc_auc_score(y_test, pred_proba)\n",
        "  print('오차 행렬')\n",
        "  print(confusion)\n",
        "  print('정확도: {0:.4f}, 정밀도: {1:.4f}, 재현율: {2:.4f}, F1:{3:.4f}, AUC:{4:.4f}'.format(accuracy, precision, recall, f1, roc_auc))"
      ],
      "metadata": {
        "id": "T2qvWa2pGmGt"
      },
      "execution_count": null,
      "outputs": []
    },
    {
      "cell_type": "markdown",
      "source": [
        "###**데이터 일차 가공**"
      ],
      "metadata": {
        "id": "LC5CNHCmCeWH"
      }
    },
    {
      "cell_type": "code",
      "source": [
        "import pandas as pd\n",
        "import numpy as np\n",
        "import matplotlib.pyplot as plt\n",
        "import warnings\n",
        "warnings.filterwarnings('ignore')\n",
        "%matplotlib inline\n",
        "\n",
        "card_df=pd.read_csv('creditcard.csv')\n",
        "\n",
        "#결측값은 없고 모두 숫자형이다\n",
        "#Time 피처는 의미 없으므로 제거할 것임\n",
        "\n",
        "from sklearn.model_selection import train_test_split\n",
        "\n",
        "# 인자로 입력 받은 dF를 복사한 뒤, time 칼럼 삭제하고 복사된 df를 반환하는 함수 만들자\n",
        "def get_preprocessed_df(df=None):\n",
        "  df_copy=df.copy()\n",
        "  df_copy.drop('Time', axis=1, inplace=True)\n",
        "  return df_copy\n",
        "\n",
        "#사전 데이터 가공 후 학습과 테스트 데이터 세트를 반환하는 함수 만들자\n",
        "def get_train_test_dataset(df=None):\n",
        "  df_copy=get_preprocessed_df(df)\n",
        "  X_features=df_copy.iloc[:,:-1]\n",
        "  y_target=df_copy.iloc[:,-1]\n",
        "  X_train, X_test, y_train, y_test=train_test_split(X_features, y_target, test_size=0.3, random_state=0, stratify=y_target)\n",
        "  return X_train, X_test, y_train, y_test\n",
        "\n",
        "X_train, X_test, y_train, y_test=get_train_test_dataset(card_df)"
      ],
      "metadata": {
        "id": "0Tyya9gVC3RT"
      },
      "execution_count": null,
      "outputs": []
    },
    {
      "cell_type": "markdown",
      "source": [
        "- 비율 문제 없이 잘 분할 되었는지 확인하기! -> 잘 분할됨."
      ],
      "metadata": {
        "id": "kOZrywlCFcHz"
      }
    },
    {
      "cell_type": "markdown",
      "source": [
        "###**일차 가공한 모델 학습/예측/평가**"
      ],
      "metadata": {
        "id": "SYAqLGI5GMUX"
      }
    },
    {
      "cell_type": "markdown",
      "source": [
        "1. 로지스틱 회귀"
      ],
      "metadata": {
        "id": "9ia3YWukGyBe"
      }
    },
    {
      "cell_type": "code",
      "source": [
        "from sklearn.linear_model import LogisticRegression\n",
        "\n",
        "lr_clf=LogisticRegression()\n",
        "lr_clf.fit(X_train, y_train)\n",
        "lr_pred=lr_clf.predict(X_test)\n",
        "lr_pred_proba=lr_clf.predict_proba(X_test)[:,1]\n",
        "\n",
        "get_clf_eval(y_test, lr_pred, lr_pred_proba)"
      ],
      "metadata": {
        "colab": {
          "base_uri": "https://localhost:8080/"
        },
        "id": "MgVo8vKOGwbP",
        "outputId": "898869e8-3cc5-4ebd-ee3f-54cd1bfed14a"
      },
      "execution_count": null,
      "outputs": [
        {
          "output_type": "stream",
          "name": "stdout",
          "text": [
            "오차 행렬\n",
            "[[85281    14]\n",
            " [   60    88]]\n",
            "정확도: 0.9991, 정밀도: 0.8627, 재현율: 0.5946, F1:0.7040, AUC:0.9639\n"
          ]
        }
      ]
    },
    {
      "cell_type": "markdown",
      "source": [
        "- 재현율이 0.6 정도, AUC가 0.96 정도."
      ],
      "metadata": {
        "id": "tfSKswtLHWGS"
      }
    },
    {
      "cell_type": "markdown",
      "source": [
        "2. LGBM"
      ],
      "metadata": {
        "id": "HU-KlzEYHbc4"
      }
    },
    {
      "cell_type": "code",
      "source": [
        "#앞으로 몇 번 반복할거니까 학습/예측/평가를 수행해주는 함수를 생성하자.\n",
        "def get_model_train_eval(model, ftr_train=None, ftr_test=None, tgt_train=None, tgt_test=None):\n",
        "  model.fit(ftr_train, tgt_train)\n",
        "  pred=model.predict(ftr_test)\n",
        "  pred_proba=model.predict_proba(ftr_test)[:,1]\n",
        "  get_clf_eval(tgt_test, pred, pred_proba)"
      ],
      "metadata": {
        "id": "f0BrF2QLHckQ"
      },
      "execution_count": null,
      "outputs": []
    },
    {
      "cell_type": "code",
      "source": [
        "#이제 lgbm 해보자\n",
        "from lightgbm import LGBMClassifier\n",
        "\n",
        "lgbm_clf=LGBMClassifier(n_estimators=1000, num_leaves=64, n_jobs=-1, boost_from_average=False) #불균형한 분포를 가지므로 boost_from_average=False로 설정해야한다\n",
        "get_model_train_eval(lgbm_clf, ftr_train=X_train, ftr_test=X_test, tgt_train=y_train, tgt_test=y_test)"
      ],
      "metadata": {
        "colab": {
          "base_uri": "https://localhost:8080/"
        },
        "id": "TmANEuNQI2v2",
        "outputId": "3cba4e95-b0d4-4928-dd62-b5f6e0fe13f6"
      },
      "execution_count": null,
      "outputs": [
        {
          "output_type": "stream",
          "name": "stdout",
          "text": [
            "오차 행렬\n",
            "[[85289     6]\n",
            " [   36   112]]\n",
            "정확도: 0.9995, 정밀도: 0.9492, 재현율: 0.7568, F1:0.8421, AUC:0.9797\n"
          ]
        }
      ]
    },
    {
      "cell_type": "markdown",
      "source": [
        "- 재현율이 0.75 정도, AUC가 0.97 정도로 로지스틱 회귀보다는 괜찮아보인다."
      ],
      "metadata": {
        "id": "lXCYfuMfJXSW"
      }
    },
    {
      "cell_type": "markdown",
      "source": [
        "3. XGB\n",
        "- 교재에는 없지만 가능한지 돌려보자"
      ],
      "metadata": {
        "id": "B4neLXwpJuYT"
      }
    },
    {
      "cell_type": "code",
      "source": [
        "#from xgboost import XGBClassifier\n",
        "\n",
        "#xgb_clf=XGBClassifier(n_estimators=1000,learning_rate=0.02, max_depth=7, min_child_weight=1, colsample_bytree=0.75, reg_alpha=0.03)\n",
        "#get_model_train_eval(xgb_clf, ftr_train=X_train, ftr_test=X_test, tgt_train=y_train, tgt_test=y_test)"
      ],
      "metadata": {
        "id": "fofD0h4cKMEq"
      },
      "execution_count": null,
      "outputs": []
    },
    {
      "cell_type": "markdown",
      "source": [
        "- 시간이 너무 오래 걸린다. 데이터가 매우 커서 그런듯 하다. 만약 xgb를 사용하면 이런식으로 사용할 수 있다. 코드는 산탄데르 고객 만족 데이터 실습에서 참고."
      ],
      "metadata": {
        "id": "xKXtBT2kLFFn"
      }
    },
    {
      "cell_type": "markdown",
      "source": [
        "###**데이터 분포도 변환 후 학습/예측/평가**\n",
        "- Amount 피처가 꼬리가 긴 형태의 분포 곡선을 가지고 있다. 변환해볼까."
      ],
      "metadata": {
        "id": "6_Ci2AjZLU2z"
      }
    },
    {
      "cell_type": "markdown",
      "source": [
        "**정규 분포 형태로?**"
      ],
      "metadata": {
        "id": "1s9xV9MqN5t4"
      }
    },
    {
      "cell_type": "code",
      "source": [
        "from sklearn.preprocessing import StandardScaler\n",
        "\n",
        "#아까 정의했던 함수 StandardScaler로 amount 피처 값도 변환해주는 로직으로 수정하자!\n",
        "\n",
        "def get_preprocessed_df(df=None):\n",
        "  df_copy=df.copy()\n",
        "  scaler=StandardScaler()\n",
        "  amount_n=scaler.fit_transform(df_copy['Amount'].values.reshape(-1,1))\n",
        "  #변환된 amount를 Amount_Scaled로 피처명 변경 후 DF 맨 앞 칼럼으로 입력\n",
        "  df_copy.insert(0, 'Amount_Scaled', amount_n)\n",
        "  #기존 time과 amount 피처 삭제\n",
        "  df_copy.drop(['Time', 'Amount'], axis=1, inplace=True)\n",
        "  return df_copy"
      ],
      "metadata": {
        "id": "nWopT1yHLo1k"
      },
      "execution_count": null,
      "outputs": []
    },
    {
      "cell_type": "code",
      "source": [
        "#Amount를 정규 분포 형태로 변환 후 학습/예측/평가 수행하자\n",
        "X_train, X_test, y_train, y_test=get_train_test_dataset(card_df)"
      ],
      "metadata": {
        "id": "eMvcFZg6MwAj"
      },
      "execution_count": null,
      "outputs": []
    },
    {
      "cell_type": "markdown",
      "source": [
        "1. 로지스틱 회귀"
      ],
      "metadata": {
        "id": "cUwlKPR3M-nZ"
      }
    },
    {
      "cell_type": "code",
      "source": [
        "lr_clf=LogisticRegression()\n",
        "get_model_train_eval(lr_clf, ftr_train=X_train, ftr_test=X_test, tgt_train=y_train, tgt_test=y_test)"
      ],
      "metadata": {
        "colab": {
          "base_uri": "https://localhost:8080/"
        },
        "id": "VSrNCxeJM_84",
        "outputId": "5a6d9070-3acf-456e-dd43-531ef0190666"
      },
      "execution_count": null,
      "outputs": [
        {
          "output_type": "stream",
          "name": "stdout",
          "text": [
            "오차 행렬\n",
            "[[85281    14]\n",
            " [   58    90]]\n",
            "정확도: 0.9992, 정밀도: 0.8654, 재현율: 0.6081, F1:0.7143, AUC:0.9702\n"
          ]
        }
      ]
    },
    {
      "cell_type": "markdown",
      "source": [
        "2. LGBM"
      ],
      "metadata": {
        "id": "s5VjK8u0NL22"
      }
    },
    {
      "cell_type": "code",
      "source": [
        "lgbm_clf=LGBMClassifier(n_estimatiors=1000, num_leaves=64, n_jobs=-1)\n",
        "get_model_train_eval(lgbm_clf, ftr_train=X_train, ftr_test=X_test, tgt_train=y_train, tgt_test=y_test)"
      ],
      "metadata": {
        "colab": {
          "base_uri": "https://localhost:8080/"
        },
        "id": "qk_bqmLfNM0q",
        "outputId": "bf631502-ff7a-4726-f0a4-1c86e1db5d46"
      },
      "execution_count": null,
      "outputs": [
        {
          "output_type": "stream",
          "name": "stdout",
          "text": [
            "오차 행렬\n",
            "[[85151   144]\n",
            " [   85    63]]\n",
            "정확도: 0.9973, 정밀도: 0.3043, 재현율: 0.4257, F1:0.3549, AUC:0.6085\n"
          ]
        }
      ]
    },
    {
      "cell_type": "markdown",
      "source": [
        "- StandardScaler 성능이 딱히 좋지 않아보임"
      ],
      "metadata": {
        "id": "CJNSH3EaNvIv"
      }
    },
    {
      "cell_type": "markdown",
      "source": [
        "**로그 변환?**"
      ],
      "metadata": {
        "id": "7687BvUoOATL"
      }
    },
    {
      "cell_type": "code",
      "source": [
        "#amount 피처 값 로그 변환도 해주는 로직으로 수정하자!\n",
        "\n",
        "def get_preprocessed_df(df=None):\n",
        "  df_copy=df.copy()\n",
        "  amount_n=np.log1p(df_copy['Amount'])\n",
        "  #변환된 amount를 Amount_Scaled로 피처명 변경 후 DF 맨 앞 칼럼으로 입력\n",
        "  df_copy.insert(0, 'Amount_Scaled', amount_n)\n",
        "  #기존 time과 amount 피처 삭제\n",
        "  df_copy.drop(['Time', 'Amount'], axis=1, inplace=True)\n",
        "  return df_copy"
      ],
      "metadata": {
        "id": "vnkFrL03OGeO"
      },
      "execution_count": null,
      "outputs": []
    },
    {
      "cell_type": "code",
      "source": [
        "#Amount를 로그 변환 후 학습/예측/평가 수행하자\n",
        "X_train, X_test, y_train, y_test=get_train_test_dataset(card_df)"
      ],
      "metadata": {
        "id": "y7EumuQ4ObzI"
      },
      "execution_count": null,
      "outputs": []
    },
    {
      "cell_type": "markdown",
      "source": [
        "1. 로지스틱 회귀"
      ],
      "metadata": {
        "id": "2k_wrzteOqQe"
      }
    },
    {
      "cell_type": "code",
      "source": [
        "lr_clf=LogisticRegression()\n",
        "get_model_train_eval(lr_clf, ftr_train=X_train, ftr_test=X_test, tgt_train=y_train, tgt_test=y_test)"
      ],
      "metadata": {
        "colab": {
          "base_uri": "https://localhost:8080/"
        },
        "id": "d43B0rOXOrVN",
        "outputId": "122689b0-7454-483f-9898-eebec433fcc6"
      },
      "execution_count": null,
      "outputs": [
        {
          "output_type": "stream",
          "name": "stdout",
          "text": [
            "오차 행렬\n",
            "[[85283    12]\n",
            " [   59    89]]\n",
            "정확도: 0.9992, 정밀도: 0.8812, 재현율: 0.6014, F1:0.7149, AUC:0.9727\n"
          ]
        }
      ]
    },
    {
      "cell_type": "markdown",
      "source": [
        "2. LGBM"
      ],
      "metadata": {
        "id": "kzbeIOjxOrm7"
      }
    },
    {
      "cell_type": "code",
      "source": [
        "lgbm_clf=LGBMClassifier(n_estimatiors=1000, num_leaves=64, n_jobs=-1)\n",
        "get_model_train_eval(lgbm_clf, ftr_train=X_train, ftr_test=X_test, tgt_train=y_train, tgt_test=y_test)"
      ],
      "metadata": {
        "colab": {
          "base_uri": "https://localhost:8080/"
        },
        "id": "JpYI3WBFOu2o",
        "outputId": "89ad969c-2c44-4649-93a3-22964113a041"
      },
      "execution_count": null,
      "outputs": [
        {
          "output_type": "stream",
          "name": "stdout",
          "text": [
            "오차 행렬\n",
            "[[85106   189]\n",
            " [  144     4]]\n",
            "정확도: 0.9961, 정밀도: 0.0207, 재현율: 0.0270, F1:0.0235, AUC:0.2758\n"
          ]
        }
      ]
    },
    {
      "cell_type": "markdown",
      "source": [
        "- 심하게 왜곡된 데이터는 로그 변환이 괜찮아보임"
      ],
      "metadata": {
        "id": "zvFVj7jgO7a_"
      }
    },
    {
      "cell_type": "markdown",
      "source": [
        "###**이상치 제거 후 학습/예측/평가**\n",
        "- 이상치를 제거하면 성능이 크게 향상됨"
      ],
      "metadata": {
        "id": "fOPDZdaHO-g6"
      }
    },
    {
      "cell_type": "markdown",
      "source": [
        "###**SMOTE 오버 샘플링 적용 후 학습/예측/평가**\n",
        "- 반드시 학습 데이터 세트만 오버 샘플링을 해야 한다는 점을 주의"
      ],
      "metadata": {
        "id": "hr22VwyvPTop"
      }
    },
    {
      "cell_type": "code",
      "source": [
        "pip install -U imbalanced-learn"
      ],
      "metadata": {
        "colab": {
          "base_uri": "https://localhost:8080/"
        },
        "id": "WQtLn8UDQKMf",
        "outputId": "3ea0ba0e-88c7-4a63-fc1f-623375c78bf5"
      },
      "execution_count": null,
      "outputs": [
        {
          "output_type": "stream",
          "name": "stdout",
          "text": [
            "Looking in indexes: https://pypi.org/simple, https://us-python.pkg.dev/colab-wheels/public/simple/\n",
            "Requirement already satisfied: imbalanced-learn in /usr/local/lib/python3.8/dist-packages (0.10.1)\n",
            "Requirement already satisfied: joblib>=1.1.1 in /usr/local/lib/python3.8/dist-packages (from imbalanced-learn) (1.2.0)\n",
            "Requirement already satisfied: threadpoolctl>=2.0.0 in /usr/local/lib/python3.8/dist-packages (from imbalanced-learn) (3.1.0)\n",
            "Requirement already satisfied: numpy>=1.17.3 in /usr/local/lib/python3.8/dist-packages (from imbalanced-learn) (1.21.6)\n",
            "Requirement already satisfied: scikit-learn>=1.0.2 in /usr/local/lib/python3.8/dist-packages (from imbalanced-learn) (1.0.2)\n",
            "Requirement already satisfied: scipy>=1.3.2 in /usr/local/lib/python3.8/dist-packages (from imbalanced-learn) (1.7.3)\n"
          ]
        }
      ]
    },
    {
      "cell_type": "code",
      "source": [
        "from imblearn.over_sampling import SMOTE\n",
        "\n",
        "smote=SMOTE(random_state=0)\n",
        "X_train_over, y_train_over=smote.fit_sample(X_train, y_train)"
      ],
      "metadata": {
        "colab": {
          "base_uri": "https://localhost:8080/",
          "height": 209
        },
        "id": "y0g6cK8IPfzc",
        "outputId": "fdacfde7-f81d-4875-d9cb-4a463a3f4d16"
      },
      "execution_count": null,
      "outputs": [
        {
          "output_type": "error",
          "ename": "AttributeError",
          "evalue": "ignored",
          "traceback": [
            "\u001b[0;31m---------------------------------------------------------------------------\u001b[0m",
            "\u001b[0;31mAttributeError\u001b[0m                            Traceback (most recent call last)",
            "\u001b[0;32m<ipython-input-33-1444e6d11652>\u001b[0m in \u001b[0;36m<module>\u001b[0;34m\u001b[0m\n\u001b[1;32m      2\u001b[0m \u001b[0;34m\u001b[0m\u001b[0m\n\u001b[1;32m      3\u001b[0m \u001b[0msmote\u001b[0m\u001b[0;34m=\u001b[0m\u001b[0mSMOTE\u001b[0m\u001b[0;34m(\u001b[0m\u001b[0mrandom_state\u001b[0m\u001b[0;34m=\u001b[0m\u001b[0;36m0\u001b[0m\u001b[0;34m)\u001b[0m\u001b[0;34m\u001b[0m\u001b[0;34m\u001b[0m\u001b[0m\n\u001b[0;32m----> 4\u001b[0;31m \u001b[0mX_train_over\u001b[0m\u001b[0;34m,\u001b[0m \u001b[0my_train_over\u001b[0m\u001b[0;34m=\u001b[0m\u001b[0msmote\u001b[0m\u001b[0;34m.\u001b[0m\u001b[0mfit_sample\u001b[0m\u001b[0;34m(\u001b[0m\u001b[0mX_train\u001b[0m\u001b[0;34m,\u001b[0m \u001b[0my_train\u001b[0m\u001b[0;34m)\u001b[0m\u001b[0;34m\u001b[0m\u001b[0;34m\u001b[0m\u001b[0m\n\u001b[0m",
            "\u001b[0;31mAttributeError\u001b[0m: 'SMOTE' object has no attribute 'fit_sample'"
          ]
        }
      ]
    },
    {
      "cell_type": "markdown",
      "source": [
        "- smote 적용 전 학습 데이터 세트보다 2배 가까이 증식됨\n",
        "- 그리고 smote를 적용하니 0과 1의 분포가 동일하게 생성되었다."
      ],
      "metadata": {
        "id": "ExmJ8HnIQbhm"
      }
    },
    {
      "cell_type": "markdown",
      "source": [
        "1. 로지스틱 회귀"
      ],
      "metadata": {
        "id": "AFhr3OJ7RDa4"
      }
    },
    {
      "cell_type": "code",
      "source": [
        "lr_clf=LogisticRegression()\n",
        "get_model_train_eval(lr_clf, ftr_train=X_train_over, ftr_test=X_test, tgt_train=y_train_over, tgt_test=y_test)"
      ],
      "metadata": {
        "id": "4RRVPknUQpeV"
      },
      "execution_count": null,
      "outputs": []
    },
    {
      "cell_type": "markdown",
      "source": [
        "- 로지스틱의 경우 재현율은 크게 증가하나 정밀도가 너무 떨어짐. 예측을 지나치게 1로 한 것... -> smote로는 로지스틱은 사용 불가."
      ],
      "metadata": {
        "id": "c-AUPMiKRViU"
      }
    },
    {
      "cell_type": "markdown",
      "source": [
        "2. LGBM"
      ],
      "metadata": {
        "id": "jJHYmKh3RtZM"
      }
    },
    {
      "cell_type": "code",
      "source": [
        "lgbm_clf=LGBMClassifier(n_estimatiors=1000, num_leaves=64, n_jobs=-1, boost_from_average=False)\n",
        "get_model_train_eval(lgbm_clf, ftr_train=X_train_over, ftr_test=X_test, tgt_train=y_train_over, tgt_test=y_test)"
      ],
      "metadata": {
        "id": "RavNT0LdRuzU"
      },
      "execution_count": null,
      "outputs": []
    },
    {
      "cell_type": "markdown",
      "source": [
        "- 이상치만 제거한 경우보다 재현율이 높아지기도 함! **SMOTE 적용시 재현율은 높아지나 정밀도는 낮아지는 것이 일반적**. "
      ],
      "metadata": {
        "id": "EpeDTUoASBjN"
      }
    },
    {
      "cell_type": "markdown",
      "source": [
        "##10. 스태킹 앙상블\n",
        "- 여러 알고리즘을 결합한다는 것에서 배깅 및 부스팅과 공통점.\n",
        "- 하지만 최종 메타 데이터 세트를 만들어 별도의 머신러닝 알고리즘으로 최종 학습을 수행하고 테스트 데이터를 기반으로 다시 최종 예측을 진행하는 방식.\n",
        "- 현실에서는 잘 쓰이진 않지만 조금이라도 더 성능을 향상하고 싶을 때 사용,,"
      ],
      "metadata": {
        "id": "e93K3sp9SLZI"
      }
    },
    {
      "cell_type": "markdown",
      "source": [
        "###기본 스태킹 모델"
      ],
      "metadata": {
        "id": "4LL8YX3ZvGMG"
      }
    },
    {
      "cell_type": "code",
      "source": [
        "import numpy as np\n",
        "\n",
        "#여기서 불러오는 애들이 개별 모델이 될 것임\n",
        "from sklearn.neighbors import KNeighborsClassifier\n",
        "from sklearn.ensemble import RandomForestClassifier\n",
        "from sklearn.ensemble import AdaBoostClassifier\n",
        "from sklearn.tree import DecisionTreeClassifier\n",
        "\n",
        "#그리고 최종 모델은 로지스틱 회귀가 될 것임\n",
        "from sklearn.linear_model import LogisticRegression\n",
        "\n",
        "from sklearn.datasets import load_breast_cancer\n",
        "from sklearn.model_selection import train_test_split\n",
        "from sklearn.metrics import accuracy_score\n",
        "\n",
        "cancer_data=load_breast_cancer()\n",
        "\n",
        "X_data=cancer_data.data\n",
        "y_label=cancer_data.target\n",
        "\n",
        "X_train, X_test, y_train, y_test = train_test_split(X_data, y_label, test_size=0.2, random_state=0)"
      ],
      "metadata": {
        "id": "Uke-TwNBvMZv"
      },
      "execution_count": 1,
      "outputs": []
    },
    {
      "cell_type": "code",
      "source": [
        "#개별 머신러닝 모델 생성\n",
        "knn_clf=KNeighborsClassifier(n_neighbors=4)\n",
        "rf_clf=RandomForestClassifier(n_estimators=100, random_state=0)\n",
        "dt_clf=DecisionTreeClassifier()\n",
        "ada_clf=AdaBoostClassifier(n_estimators=100)\n",
        "\n",
        "#스태킹으로 만들어진 데이터 세트를 학습, 예측할 최종 모델\n",
        "lr_final=LogisticRegression(C=10)"
      ],
      "metadata": {
        "id": "6IKqDaVRwca5"
      },
      "execution_count": 3,
      "outputs": []
    },
    {
      "cell_type": "code",
      "source": [
        "#개별 모델들 학습\n",
        "knn_clf.fit(X_train, y_train)\n",
        "rf_clf.fit(X_train, y_train)\n",
        "dt_clf.fit(X_train, y_train)\n",
        "ada_clf.fit(X_train, y_train)"
      ],
      "metadata": {
        "colab": {
          "base_uri": "https://localhost:8080/"
        },
        "id": "ondpb9CP7PBM",
        "outputId": "b65889c7-263f-4b65-80b9-966b917a2043"
      },
      "execution_count": 4,
      "outputs": [
        {
          "output_type": "execute_result",
          "data": {
            "text/plain": [
              "AdaBoostClassifier(n_estimators=100)"
            ]
          },
          "metadata": {},
          "execution_count": 4
        }
      ]
    },
    {
      "cell_type": "code",
      "source": [
        "#학습된 개별 모델들이 각자 반환하는 예측 데이터를 생성하고 개별 모델의 정확도 측정\n",
        "knn_pred=knn_clf.predict(X_test)\n",
        "rf_pred=rf_clf.predict(X_test)\n",
        "dt_pred=dt_clf.predict(X_test)\n",
        "ada_pred=ada_clf.predict(X_test)\n",
        "\n",
        "print('KNN 정확도: {0:.4f}'.format(accuracy_score(y_test, knn_pred)))\n",
        "print('RF 정확도: {0:.4f}'.format(accuracy_score(y_test, rf_pred)))\n",
        "print('DT 정확도: {0:.4f}'.format(accuracy_score(y_test, dt_pred)))\n",
        "print('ADA 정확도: {0:.4f}'.format(accuracy_score(y_test, ada_pred)))"
      ],
      "metadata": {
        "colab": {
          "base_uri": "https://localhost:8080/"
        },
        "id": "ZJhwMt297WrL",
        "outputId": "de8ae96b-8c90-4874-8307-b09c909b3c1b"
      },
      "execution_count": 6,
      "outputs": [
        {
          "output_type": "stream",
          "name": "stdout",
          "text": [
            "KNN 정확도: 0.9211\n",
            "RF 정확도: 0.9649\n",
            "DT 정확도: 0.9123\n",
            "ADA 정확도: 0.9561\n"
          ]
        }
      ]
    },
    {
      "cell_type": "markdown",
      "source": [
        "- 이렇게 생성된 예측 데이터를 칼럼 레벨로 옆으로 붙여 피처 값으로 만들어 최종 모델인 로지스틱 회귀에서 다시 학습 데이터로 사용하는 것!"
      ],
      "metadata": {
        "id": "KBylhn2o71sF"
      }
    },
    {
      "cell_type": "code",
      "source": [
        "pred=np.array([knn_pred, rf_pred, dt_pred, ada_pred])\n",
        "pred=np.transpose(pred)\n",
        "\n",
        "lr_final.fit(pred, y_test)\n",
        "final=lr_final.predict(pred)\n",
        "\n",
        "print('최종 메타 모델의 예측 정확도: {0:.4f}'.format(accuracy_score(y_test, final)))"
      ],
      "metadata": {
        "colab": {
          "base_uri": "https://localhost:8080/"
        },
        "id": "CyQS9sHJ7_E2",
        "outputId": "875c8921-52e9-44ec-ac1c-786bd2682514"
      },
      "execution_count": 7,
      "outputs": [
        {
          "output_type": "stream",
          "name": "stdout",
          "text": [
            "최종 메타 모델의 예측 정확도: 0.9737\n"
          ]
        }
      ]
    },
    {
      "cell_type": "markdown",
      "source": [
        "- 확실히 위에 있던 개별 모델들보다 향상되었다."
      ],
      "metadata": {
        "id": "NLaOjlQ78WY9"
      }
    },
    {
      "cell_type": "markdown",
      "source": [
        "###CV 세트 기반의 스태킹\n",
        "- 과적합 개선 위함.\n",
        "- 최종 모델을 위한 데이터 세트를 만들 때 교차 검증 기반으로 예측된 결과 데이터 세트를 이용"
      ],
      "metadata": {
        "id": "0BlABOJw8fCS"
      }
    },
    {
      "cell_type": "markdown",
      "source": [
        "**스텝 1** : 개별 모델이 메타 모델을 위한 학습용 데이터와 테스트용 데이터를 생성"
      ],
      "metadata": {
        "id": "qa2dIW7q8htG"
      }
    },
    {
      "cell_type": "code",
      "source": [
        "from sklearn.model_selection import KFold\n",
        "from sklearn.metrics import mean_absolute_error\n",
        "\n",
        "#개별 기반 모델에서 최종 메타 모델이 사용할 학습 및 테스트 데이터를 생성하기 위한 함수\n",
        "def get_stacking_base_datasets(model, X_train_n, y_train_n, X_test_n, n_folds):\n",
        "  #지정된 n_folds 값으로 KFold 생성\n",
        "  kf=KFold(n_splits=n_folds, shuffle=True, random_state=0)\n",
        "  #추후에 메타 모델이 사용할 학습 데이터 반환을 위한 넘파이 배열 초기화\n",
        "  train_fold_pred=np.zeros((X_train_n.shape[0], 1))\n",
        "  test_pred=np.zeros((X_test_n.shape[0], n_folds))\n",
        "  print(model.__class__.__name__, 'model 시작')\n",
        "\n",
        "  for folder_counter, (train_index, valid_index) in enumerate(kf.split(X_train_n)):\n",
        "    #입력된 학습 데이터에서 기반 모델이 학습/예측할 폴드 데이터 세트 추출\n",
        "    print('\\t 폴드 세트: ', folder_counter, '시작')\n",
        "    X_tr=X_train_n[train_index]\n",
        "    y_tr=y_train_n[train_index]\n",
        "    X_te=X_test_n[valid_index]\n",
        "\n",
        "    #폴드 세트 내부에서 다시 만들어진 학습 데이터로 기반 모델의 학습 수행\n",
        "    model.fit(X_tr, y_tr)\n",
        "    #폴드 세트 내부에서 다시 만들어진 검증 데이터로 기반 모델 예측 후 데이터 저장\n",
        "    train_fold_pred[valid_index, :]=model.predict(X_te).reshape(-1,1)\n",
        "    #입력된 원본 테스트 데이터를 폴드 세트 내 학습된 기반 모델에서 예측 후 데이터 저장\n",
        "    test_pred[:, folder_counter]=model.predict(X_test_n)\n",
        "\n",
        "  #폴드 세트 내에서 원본 테스트 데이터 세트를 예측한 데이터를 평균하여 테스트 데이터로 생성\n",
        "  test_pred_mean=np.mean(test_pred, axis=1).reshape(-1,1)\n",
        "\n",
        "  #train_fold_pred는 최종 메타 모델이 사용하는 학습 데이터, test_pred_mean은 테스트 데이터\n",
        "  return train_fold_pred, test_pred_mean"
      ],
      "metadata": {
        "id": "lK13IiHy9Zqr"
      },
      "execution_count": 10,
      "outputs": []
    },
    {
      "cell_type": "code",
      "source": [
        "knn_train, knn_test=get_stacking_base_datasets(knn_clf, X_train, y_train, X_test, 7)\n",
        "rf_train, rf_test=get_stacking_base_datasets(rf_clf, X_train, y_train, X_test, 7)\n",
        "dt_train, dt_test=get_stacking_base_datasets(dt_clf, X_train, y_train, X_test, 7)\n",
        "ada_train, ada_test=get_stacking_base_datasets(ada_clf, X_train, y_train, X_test, 7)"
      ],
      "metadata": {
        "colab": {
          "base_uri": "https://localhost:8080/",
          "height": 390
        },
        "id": "qmJubKx__QH-",
        "outputId": "147fe957-716f-4a76-96b2-2785649054e5"
      },
      "execution_count": 11,
      "outputs": [
        {
          "output_type": "stream",
          "name": "stdout",
          "text": [
            "KNeighborsClassifier model 시작\n",
            "\t 폴드 세트:  0 시작\n"
          ]
        },
        {
          "output_type": "error",
          "ename": "IndexError",
          "evalue": "ignored",
          "traceback": [
            "\u001b[0;31m---------------------------------------------------------------------------\u001b[0m",
            "\u001b[0;31mIndexError\u001b[0m                                Traceback (most recent call last)",
            "\u001b[0;32m<ipython-input-11-086d32bedc3a>\u001b[0m in \u001b[0;36m<module>\u001b[0;34m\u001b[0m\n\u001b[0;32m----> 1\u001b[0;31m \u001b[0mknn_train\u001b[0m\u001b[0;34m,\u001b[0m \u001b[0mknn_test\u001b[0m\u001b[0;34m=\u001b[0m\u001b[0mget_stacking_base_datasets\u001b[0m\u001b[0;34m(\u001b[0m\u001b[0mknn_clf\u001b[0m\u001b[0;34m,\u001b[0m \u001b[0mX_train\u001b[0m\u001b[0;34m,\u001b[0m \u001b[0my_train\u001b[0m\u001b[0;34m,\u001b[0m \u001b[0mX_test\u001b[0m\u001b[0;34m,\u001b[0m \u001b[0;36m7\u001b[0m\u001b[0;34m)\u001b[0m\u001b[0;34m\u001b[0m\u001b[0;34m\u001b[0m\u001b[0m\n\u001b[0m\u001b[1;32m      2\u001b[0m \u001b[0mrf_train\u001b[0m\u001b[0;34m,\u001b[0m \u001b[0mrf_test\u001b[0m\u001b[0;34m=\u001b[0m\u001b[0mget_stacking_base_datasets\u001b[0m\u001b[0;34m(\u001b[0m\u001b[0mrf_clf\u001b[0m\u001b[0;34m,\u001b[0m \u001b[0mX_train\u001b[0m\u001b[0;34m,\u001b[0m \u001b[0my_train\u001b[0m\u001b[0;34m,\u001b[0m \u001b[0mX_test\u001b[0m\u001b[0;34m,\u001b[0m \u001b[0;36m7\u001b[0m\u001b[0;34m)\u001b[0m\u001b[0;34m\u001b[0m\u001b[0;34m\u001b[0m\u001b[0m\n\u001b[1;32m      3\u001b[0m \u001b[0mdt_train\u001b[0m\u001b[0;34m,\u001b[0m \u001b[0mdt_test\u001b[0m\u001b[0;34m=\u001b[0m\u001b[0mget_stacking_base_datasets\u001b[0m\u001b[0;34m(\u001b[0m\u001b[0mdt_clf\u001b[0m\u001b[0;34m,\u001b[0m \u001b[0mX_train\u001b[0m\u001b[0;34m,\u001b[0m \u001b[0my_train\u001b[0m\u001b[0;34m,\u001b[0m \u001b[0mX_test\u001b[0m\u001b[0;34m,\u001b[0m \u001b[0;36m7\u001b[0m\u001b[0;34m)\u001b[0m\u001b[0;34m\u001b[0m\u001b[0;34m\u001b[0m\u001b[0m\n\u001b[1;32m      4\u001b[0m \u001b[0mada_train\u001b[0m\u001b[0;34m,\u001b[0m \u001b[0mada_test\u001b[0m\u001b[0;34m=\u001b[0m\u001b[0mget_stacking_base_datasets\u001b[0m\u001b[0;34m(\u001b[0m\u001b[0mada_clf\u001b[0m\u001b[0;34m,\u001b[0m \u001b[0mX_train\u001b[0m\u001b[0;34m,\u001b[0m \u001b[0my_train\u001b[0m\u001b[0;34m,\u001b[0m \u001b[0mX_test\u001b[0m\u001b[0;34m,\u001b[0m \u001b[0;36m7\u001b[0m\u001b[0;34m)\u001b[0m\u001b[0;34m\u001b[0m\u001b[0;34m\u001b[0m\u001b[0m\n",
            "\u001b[0;32m<ipython-input-10-ed5c4800b511>\u001b[0m in \u001b[0;36mget_stacking_base_datasets\u001b[0;34m(model, X_train_n, y_train_n, X_test_n, n_folds)\u001b[0m\n\u001b[1;32m     16\u001b[0m     \u001b[0mX_tr\u001b[0m\u001b[0;34m=\u001b[0m\u001b[0mX_train_n\u001b[0m\u001b[0;34m[\u001b[0m\u001b[0mtrain_index\u001b[0m\u001b[0;34m]\u001b[0m\u001b[0;34m\u001b[0m\u001b[0;34m\u001b[0m\u001b[0m\n\u001b[1;32m     17\u001b[0m     \u001b[0my_tr\u001b[0m\u001b[0;34m=\u001b[0m\u001b[0my_train_n\u001b[0m\u001b[0;34m[\u001b[0m\u001b[0mtrain_index\u001b[0m\u001b[0;34m]\u001b[0m\u001b[0;34m\u001b[0m\u001b[0;34m\u001b[0m\u001b[0m\n\u001b[0;32m---> 18\u001b[0;31m     \u001b[0mX_te\u001b[0m\u001b[0;34m=\u001b[0m\u001b[0mX_test_n\u001b[0m\u001b[0;34m[\u001b[0m\u001b[0mvalid_index\u001b[0m\u001b[0;34m]\u001b[0m\u001b[0;34m\u001b[0m\u001b[0;34m\u001b[0m\u001b[0m\n\u001b[0m\u001b[1;32m     19\u001b[0m \u001b[0;34m\u001b[0m\u001b[0m\n\u001b[1;32m     20\u001b[0m     \u001b[0;31m#폴드 세트 내부에서 다시 만들어진 학습 데이터로 기반 모델의 학습 수행\u001b[0m\u001b[0;34m\u001b[0m\u001b[0;34m\u001b[0m\u001b[0;34m\u001b[0m\u001b[0m\n",
            "\u001b[0;31mIndexError\u001b[0m: index 118 is out of bounds for axis 0 with size 114"
          ]
        }
      ]
    },
    {
      "cell_type": "markdown",
      "source": [
        "**스텝 2** : 각 모델별 학습 데이터와 테스트 데이터를 합치기만 하면 된다"
      ],
      "metadata": {
        "id": "H0Tfh_O4_ugz"
      }
    }
  ]
}
